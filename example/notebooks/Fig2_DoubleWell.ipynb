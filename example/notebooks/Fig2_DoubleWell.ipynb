{
 "cells": [
  {
   "cell_type": "code",
   "execution_count": 51,
   "metadata": {},
   "outputs": [],
   "source": [
    "import numpy as np\n",
    "import matplotlib.pyplot as plt\n",
    "from matplotlib import rcParams\n",
    "import keras\n",
    "import tensorflow as tf\n",
    "import sys\n",
    "sys.path.append('../deep_boltzmann')"
   ]
  },
  {
   "cell_type": "code",
   "execution_count": 52,
   "metadata": {},
   "outputs": [],
   "source": [
    "from IPython.display import SVG\n",
    "from keras.utils.vis_utils import model_to_dot"
   ]
  },
  {
   "cell_type": "code",
   "execution_count": 53,
   "metadata": {},
   "outputs": [],
   "source": [
    "rcParams.update({'font.size': 16})"
   ]
  },
  {
   "cell_type": "code",
   "execution_count": 54,
   "metadata": {},
   "outputs": [
    {
     "name": "stdout",
     "output_type": "stream",
     "text": [
      "The autoreload extension is already loaded. To reload it, use:\n",
      "  %reload_ext autoreload\n"
     ]
    }
   ],
   "source": [
    "# Switch AUTORELOAD ON. Disable this when in production mode!\n",
    "%load_ext autoreload\n",
    "%autoreload 2"
   ]
  },
  {
   "cell_type": "code",
   "execution_count": 55,
   "metadata": {},
   "outputs": [],
   "source": [
    "from deep_boltzmann.models import DoubleWell\n",
    "from deep_boltzmann.networks.invertible import create_NICERNet, create_RealNVPNet, invnet\n",
    "from deep_boltzmann.sampling import GaussianPriorMCMC\n",
    "from deep_boltzmann.networks.plot import test_xz_projection\n",
    "from deep_boltzmann.util import count_transitions\n",
    "from deep_boltzmann.sampling.analysis import free_energy_bootstrap, mean_finite, std_finite"
   ]
  },
  {
   "cell_type": "code",
   "execution_count": 56,
   "metadata": {},
   "outputs": [],
   "source": [
    "def test_sample(network, temperature=1.0, nsample=100000, plot=True):\n",
    "    if nsample <= 100000:\n",
    "        sample_z, sample_x, energy_z, energy_x, logw = network.sample(temperature=temperature, nsample=nsample)\n",
    "    else:\n",
    "        sample_x = []\n",
    "        for i in range(int(nsample/100000)):\n",
    "            _, sample_x_, _, _, _ = network.sample(temperature=temperature, nsample=nsample)\n",
    "            sample_x.append(sample_x_)\n",
    "        sample_x = np.vstack(sample_x)\n",
    "        \n",
    "    # xgen = network.Tzx.predict(np.sqrt(temperature) * np.random.randn(100000, 2))\n",
    "    params = DoubleWell.params_default.copy()\n",
    "    params['dim'] = 2\n",
    "    double_well = DoubleWell(params=params)\n",
    "    plt.figure(figsize=(4, 4))\n",
    "    h, b = np.histogram(sample_x[:, 0], bins=100)\n",
    "    bin_means = 0.5*(b[:-1] + b[1:])\n",
    "    Eh = -np.log(h) / temperature\n",
    "    if plot:\n",
    "        Ex, E = double_well.plot_dimer_energy(temperature=temperature)\n",
    "        Eh = Eh - Eh.min() + E.min()\n",
    "        plt.plot(bin_means, Eh, color='green', linewidth=2)\n",
    "    return bin_means, Eh"
   ]
  },
  {
   "cell_type": "code",
   "execution_count": 57,
   "metadata": {},
   "outputs": [],
   "source": [
    "# reweighting\n",
    "def test_sample_rew(network, temperature=1.0, plot=True):\n",
    "    sample_z, sample_x, energy_z, energy_x, log_w = network.sample(temperature=1.0, nsample=100000)\n",
    "    log_w -= log_w.max()\n",
    "    bin_means, Es = free_energy_bootstrap(sample_x[:, 0], -2.5, 2.5, 100, sample=100, weights=np.exp(log_w))\n",
    "    plt.figure(figsize=(4, 4))\n",
    "    Emean = mean_finite(Es, axis=0)-10.7\n",
    "    Estd = std_finite(Es, axis=0)\n",
    "    var = mean_finite(std_finite(Es, axis=0) ** 2)\n",
    "    if plot:\n",
    "        double_well.plot_dimer_energy()\n",
    "        plt.errorbar(bin_means, Emean, Estd, linewidth=2, color='green')\n",
    "    # variance\n",
    "    print('Estimator Standard Error: ', np.sqrt(var))\n",
    "    return bin_means, Emean, Estd"
   ]
  },
  {
   "cell_type": "code",
   "execution_count": 58,
   "metadata": {},
   "outputs": [],
   "source": [
    "def hist_weights(network):\n",
    "    sample_z, sample_x, energy_z, energy_x, log_w = network.sample(temperature=1.0, nsample=100000)\n",
    "    log_w -= log_w.max()\n",
    "    bins = np.linspace(-2.5, 2.5, 100)\n",
    "    bin_means = 0.5 * (bins[:-1] + bins[1:])\n",
    "    sample_x_index = np.digitize(sample_x[:, 0], bins)\n",
    "    whist = np.zeros(len(bins) + 1)\n",
    "    for i in range(len(log_w)):\n",
    "        whist[sample_x_index[i]] += np.exp(log_w[i])\n",
    "    return bin_means, whist[1:-1]"
   ]
  },
  {
   "cell_type": "code",
   "execution_count": 59,
   "metadata": {},
   "outputs": [],
   "source": [
    "def test_mcmc(network, nsample):\n",
    "    fig, axes = plt.subplots(2, 1, figsize=(7, 7))\n",
    "    # test sampling\n",
    "    gp_mcmc = GaussianPriorMCMC(network)#, std_z=[0.7, 1.0])\n",
    "    Z, X, E, J = gp_mcmc.run(nsample)\n",
    "    print('Transitions:', count_transitions(X[:, 0], -1, 1))\n",
    "    axes[0].plot(X[:min(10000, nsample), 0])\n",
    "    # plot PMF\n",
    "    h, b = np.histogram(X[:, 0], bins=100)\n",
    "    b = 0.5 * (b[:-1] + b[1:])\n",
    "    F = -np.log(h)\n",
    "    Edimer = double_well.plot_dimer_energy(axes[1])\n",
    "    axes[1].plot(b, F-F.min()+Edimer.min())"
   ]
  },
  {
   "cell_type": "code",
   "execution_count": 60,
   "metadata": {},
   "outputs": [],
   "source": [
    "def plot_transformation_field_2d(transformer, bounds, ngrid=20, ):\n",
    "    # build grid\n",
    "    x_coarse_grid = np.linspace(bounds[0], bounds[1], num=ngrid)\n",
    "    y_coarse_grid = np.linspace(bounds[2], bounds[3], num=ngrid)\n",
    "    grid = []\n",
    "    for i in range(len(x_coarse_grid)):\n",
    "        for j in range(len(y_coarse_grid)):\n",
    "            grid.append([x_coarse_grid[i], y_coarse_grid[j]])\n",
    "    grid = np.array(grid)\n",
    "\n",
    "    # compute transformation field\n",
    "    grid_pred = transformer.predict(grid)\n",
    "\n",
    "    # show field\n",
    "    plt.figure(figsize=(5, 5))\n",
    "    plt.quiver(grid[:, 0], grid[:, 1], grid_pred[:, 0], grid_pred[:, 1], units='width')"
   ]
  },
  {
   "cell_type": "code",
   "execution_count": 61,
   "metadata": {},
   "outputs": [],
   "source": [
    "def getx(x):\n",
    "    return x[:, 0]"
   ]
  },
  {
   "cell_type": "markdown",
   "metadata": {},
   "source": [
    "Plotting function, sort of generic\n",
    "-----"
   ]
  },
  {
   "cell_type": "code",
   "execution_count": 62,
   "metadata": {},
   "outputs": [],
   "source": [
    "def plot_network(network, weight_cutoff=1e-2):\n",
    "    fig, axes = plt.subplots(nrows=1, ncols=4, figsize=(16, 3.5))\n",
    "    plt.subplots_adjust(wspace=0.25)\n",
    "    # Plot X distribution\n",
    "    axis = axes[0]\n",
    "    axis.plot(traj_left[:, 0], traj_left[:, 1], linewidth=0, marker='.', markersize=3, color='blue')\n",
    "    axis.plot(x_ts[:, 0], x_ts[:, 1], linewidth=0, marker='.', markersize=3, color='orange')\n",
    "    axis.plot(traj_right[:, 0], traj_right[:, 1], linewidth=0, marker='.', markersize=3, color='red')\n",
    "    axis.set_xlabel('$x_1$')\n",
    "    axis.set_xlim(-3, 3)\n",
    "    axis.set_ylabel('$x_2$', labelpad=-12)\n",
    "    axis.set_ylim(-4, 4)\n",
    "    axis.set_yticks([-4, -2, 0, 2, 4]);\n",
    "    # Plot Z distribution\n",
    "    axis = axes[1]\n",
    "    z_left = network.transform_xz(traj_left)\n",
    "    z_ts = network.transform_xz(x_ts)\n",
    "    z_right = network.transform_xz(traj_right)\n",
    "    axis.plot(z_left[:, 0], z_left[:, 1], linewidth=0, marker='.', markersize=3, color='blue')\n",
    "    axis.plot(z_ts[:, 0], z_ts[:, 1], linewidth=0, marker='.', markersize=3, color='orange')\n",
    "    axis.plot(z_right[:, 0], z_right[:, 1], linewidth=0, marker='.', markersize=3, color='red')\n",
    "    circle = plt.Circle((0, 0), radius=1.0, color='black', alpha=0.4, fill=True)\n",
    "    axis.add_artist(circle)\n",
    "    circle = plt.Circle((0, 0), radius=2.0, color='black', alpha=0.25, fill=True)\n",
    "    axis.add_artist(circle)\n",
    "    circle = plt.Circle((0, 0), radius=3.0, color='black', alpha=0.1, fill=True)\n",
    "    axis.add_artist(circle)\n",
    "    axis.set_xlabel('$z_1$')\n",
    "    axis.set_xlim(-4, 4)\n",
    "    axis.set_ylabel('$z_2$', labelpad=-12)\n",
    "    axis.set_ylim(-4, 4)\n",
    "    axis.set_yticks([-4, -2, 0, 2, 4]);\n",
    "    # Plot proposal distribution\n",
    "    X1, Y1 = test_sample(network, temperature=1.0, plot=False);\n",
    "    _, W1 = hist_weights(network)\n",
    "    axis = axes[2]\n",
    "    Ex, E = double_well.plot_dimer_energy(axis=axis, temperature=1.0)\n",
    "    Y1 = Y1 - Y1.min() + E.min()\n",
    "    Inan = np.where(W1 < weight_cutoff)\n",
    "    Y1[Inan] = np.nan\n",
    "    #Y2 = Y2 - Y2.min() + E.min()\n",
    "    #axis.plot(X2, Y2, color='#FF6600', linewidth=2, label='ML+KL+RC')\n",
    "    axis.plot(X1, Y1, color='orange', linewidth=2, label='ML+KL')\n",
    "    axis.set_xlim(-3, 3)\n",
    "    axis.set_ylim(-12, 5.5)\n",
    "    axis.set_yticks([]);\n",
    "    axis.set_xlabel('$x_1$')\n",
    "    axis.set_ylabel('Energy / kT')\n",
    "    #plt.legend(ncol=1, loc=9, fontsize=12, frameon=False)\n",
    "    # Plot reweighted distribution\n",
    "    RX1, RY1, DR1 = test_sample_rew(network, temperature=1.0, plot=False);\n",
    "    axis = axes[3]\n",
    "    Ex, E = double_well.plot_dimer_energy(axis=axis, temperature=1.0)\n",
    "    RY1 = RY1 - RY1[np.isfinite(RY1)].min() + E.min()\n",
    "    RY1[Inan] = np.nan\n",
    "    #RY1[RY1 > -4] = np.nan\n",
    "    #RY2 = RY2 - RY2[np.isfinite(RY2)].min() + E.min()\n",
    "    #axis.errorbar(RX2, RY2, DR2, color='#FF6600', linewidth=2, label='ML+KL+RC')\n",
    "    axis.errorbar(RX1, RY1, DR1, color='orange', linewidth=2, label='ML+KL')\n",
    "    axis.set_xlim(-3, 3)\n",
    "    axis.set_ylim(-12, 5.5)\n",
    "    axis.set_yticks([-12, -10, -8, -6, -4, -2, 0, 2, 4]);\n",
    "    axis.set_xlabel('$x_1$')\n",
    "    axis.set_ylabel('')\n",
    "    return fig, axes"
   ]
  },
  {
   "cell_type": "code",
   "execution_count": 63,
   "metadata": {},
   "outputs": [],
   "source": [
    "def low_energy_fraction(energies, Emax):\n",
    "    low_energy_count = [np.count_nonzero(E<Emax) for E in energies]\n",
    "    sizes = [E.size for E in energies]\n",
    "    low_energy_fraction = np.array(low_energy_count) / sizes\n",
    "    return low_energy_fraction"
   ]
  },
  {
   "cell_type": "code",
   "execution_count": 64,
   "metadata": {},
   "outputs": [],
   "source": [
    "def plot_convergence(hist_ML, hist_KL, enerx_cut, enerz_cut, MLcol=1, KLcol=2):\n",
    "    fig, axes = plt.subplots(nrows=3, ncols=1, figsize=(5, 10))\n",
    "    niter1 = len(hist_ML[0])\n",
    "    niter2 = hist_KL[1].shape[0]\n",
    "    niter = niter1 + niter2\n",
    "    # ML loss\n",
    "    losses_ML = np.concatenate([hist_ML[0], hist_KL[1][:, MLcol]])\n",
    "    xticks = np.arange(niter1 + niter2) + 1\n",
    "    axes[0].plot(xticks, losses_ML, color='black')\n",
    "    axes[0].set_xlim(0, niter + 1)\n",
    "    axes[0].set_ylabel('ML loss')\n",
    "    axes[0].axvline(x=200, color='red', linestyle='--', linewidth=3)\n",
    "    # KL loss\n",
    "    losses_KL = hist_KL[1][:, KLcol]\n",
    "    xticks = np.arange(niter1, niter1 + niter2) + 1\n",
    "    axes[1].plot(xticks, losses_KL, color='black')\n",
    "    axes[1].set_xlim(0, niter + 1)\n",
    "    axes[1].set_ylabel('KL loss')\n",
    "    axes[1].axvline(x=200, color='red', linestyle='--', linewidth=3)\n",
    "    # low energy fractions\n",
    "    enerx = hist_ML[2] + hist_KL[3]\n",
    "    enerz = hist_ML[3] + hist_KL[4]\n",
    "    lef_x = low_energy_fraction(enerx, enerx_cut)\n",
    "    lef_z = low_energy_fraction(enerz, enerz_cut)\n",
    "    axes[2].plot(lef_x, color='black', label='x')\n",
    "    axes[2].plot(lef_z, color='blue', label='z')\n",
    "    axes[2].set_xlim(0, niter + 1)\n",
    "    axes[2].set_ylim(0, 1.05)\n",
    "    axes[2].axvline(x=200, color='red', linestyle='--', linewidth=3)\n",
    "    axes[2].set_ylabel('Training iterations')\n",
    "    axes[2].set_ylabel('Low energy fraction')\n",
    "    axes[2].legend()\n",
    "    return fig, axes"
   ]
  },
  {
   "cell_type": "markdown",
   "metadata": {},
   "source": [
    "Double well\n",
    "---"
   ]
  },
  {
   "cell_type": "code",
   "execution_count": 65,
   "metadata": {},
   "outputs": [],
   "source": [
    "paper_dir = '/Users/noe/data/papers/NoeEtAl_BoltzmannGeneratorsRev/'"
   ]
  },
  {
   "cell_type": "code",
   "execution_count": 66,
   "metadata": {},
   "outputs": [
    {
     "data": {
      "image/png": "[encoded data removed]",
      "text/plain": [
       "<Figure size 360x360 with 1 Axes>"
      ]
     },
     "metadata": {},
     "output_type": "display_data"
    }
   ],
   "source": [
    "params = DoubleWell.params_default.copy()\n",
    "params['dim'] = 2\n",
    "double_well = DoubleWell(params=params)\n",
    "plt.figure(figsize=(5,5))\n",
    "double_well.plot_dimer_energy();\n",
    "#plt.savefig(paper_dir + 'figs/double_well/potential.pdf', bbox_inches='tight')"
   ]
  },
  {
   "cell_type": "code",
   "execution_count": 67,
   "metadata": {},
   "outputs": [],
   "source": [
    "def plot_potential(cbar=True, orientation='vertical', figsize=(4, 5.5)):\n",
    "    # 2D potential\n",
    "    xgrid = np.linspace(-3, 3, 100)\n",
    "    ygrid = np.linspace(-7, 7, 100)\n",
    "    Xgrid, Ygrid = np.meshgrid(xgrid, ygrid)\n",
    "    X = np.vstack([Xgrid.flatten(), Ygrid.flatten()]).T\n",
    "    E = double_well.energy(X)\n",
    "    E = E.reshape((100, 100))\n",
    "    E = np.minimum(E, 10.0)\n",
    "    plt.figure(figsize=figsize)\n",
    "    plt.contourf(Xgrid, Ygrid, E, 50, cmap='jet', vmax=4)\n",
    "    if cbar:\n",
    "        if orientation == 'horizontal':\n",
    "            cbar = plt.colorbar(orientation='horizontal', shrink=0.3, aspect=10, anchor=(0.5, 7.5), use_gridspec=False)#, anchor=(0, 0.5))\n",
    "            cbar.outline.set_linewidth(1)\n",
    "            cbar.outline.set_color('white')\n",
    "            cbar.outline.fill = False\n",
    "            plt.setp(plt.getp(cbar.ax.axes, 'xticklabels'), color='w')\n",
    "            cbar.ax.xaxis.set_tick_params(color='white')\n",
    "            #cbar.set_label('Energy / kT', labelpad=0, y=0.0, color='white')\n",
    "        else:\n",
    "            cbar = plt.colorbar()\n",
    "            cbar.set_label('Energy / kT', labelpad=-15, y=0.6)\n",
    "        cbar.set_ticks([-10, 0, 10])\n",
    "    plt.xticks([-2, 0, 2])\n",
    "    plt.yticks([-5, 0, 5])\n",
    "    plt.xlabel('$x_1$', labelpad=0)\n",
    "    plt.ylabel('$x_2$', labelpad=-10)"
   ]
  },
  {
   "cell_type": "code",
   "execution_count": 68,
   "metadata": {},
   "outputs": [
    {
     "data": {
      "image/png": "[encoded data removed]",
      "text/plain": [
       "<Figure size 288x396 with 2 Axes>"
      ]
     },
     "metadata": {},
     "output_type": "display_data"
    }
   ],
   "source": [
    "plot_potential(orientation='horizontal')\n",
    "#plt.savefig(paper_dir + 'figs/double_well/potential2D_horizontal.pdf', bbox_inches='tight')"
   ]
  },
  {
   "cell_type": "code",
   "execution_count": 69,
   "metadata": {},
   "outputs": [],
   "source": [
    "# simulation data\n",
    "from deep_boltzmann.sampling import MetropolisGauss"
   ]
  },
  {
   "cell_type": "code",
   "execution_count": 70,
   "metadata": {},
   "outputs": [],
   "source": [
    "nsteps = 10000\n",
    "x0_left = np.array([[-1.8, 0.0]])\n",
    "x0_right = np.array([[1.8, 0.0]])\n",
    "\n",
    "sampler = MetropolisGauss(double_well, x0_left, noise=0.1, stride=10)\n",
    "sampler.run(nsteps)\n",
    "traj_left = sampler.traj.copy()\n",
    "\n",
    "sampler.reset(x0_left)\n",
    "sampler.run(nsteps)\n",
    "traj_left_val = sampler.traj.copy()\n",
    "\n",
    "sampler.reset(x0_right)\n",
    "sampler.run(nsteps)\n",
    "traj_right = sampler.traj.copy()\n",
    "\n",
    "sampler.reset(x0_right)\n",
    "sampler.run(nsteps)\n",
    "traj_right_val = sampler.traj.copy()"
   ]
  },
  {
   "cell_type": "code",
   "execution_count": 71,
   "metadata": {},
   "outputs": [
    {
     "data": {
      "text/plain": [
       "Text(0.5,0,'Probability')"
      ]
     },
     "execution_count": 71,
     "metadata": {},
     "output_type": "execute_result"
    },
    {
     "data": {
      "image/png": "[encoded data removed]",
      "text/plain": [
       "<Figure size 648x288 with 2 Axes>"
      ]
     },
     "metadata": {},
     "output_type": "display_data"
    }
   ],
   "source": [
    "plt.figure(figsize=(9, 4))\n",
    "ax1 = plt.subplot2grid((1, 3), (0, 0), colspan=2)\n",
    "ax2 = plt.subplot2grid((1, 3), (0, 2))\n",
    "ax1.plot(traj_left[:, 0], color='blue', alpha=0.7)\n",
    "ax1.plot(traj_right[:, 0], color='red', alpha=0.7)\n",
    "ax1.set_xlim(0, 1000)\n",
    "ax1.set_ylim(-2.5, 2.5)\n",
    "ax1.set_xlabel('Time / steps')\n",
    "ax1.set_ylabel('$x_1$ / a.u.')\n",
    "ax2.hist(traj_left[:, 0], 30, orientation='horizontal', histtype='stepfilled', color='blue', alpha=0.2);\n",
    "ax2.hist(traj_left[:, 0], 30, orientation='horizontal', histtype='step', color='blue', linewidth=2);\n",
    "ax2.hist(traj_right[:, 0], 30, orientation='horizontal', histtype='stepfilled', color='red', alpha=0.2);\n",
    "ax2.hist(traj_right[:, 0], 30, orientation='horizontal', histtype='step', color='red', linewidth=2);\n",
    "ax2.set_xticks([])\n",
    "ax2.set_yticks([])\n",
    "ax2.set_ylim(-2.5, 2.5)\n",
    "ax2.set_xlabel('Probability')\n",
    "#plt.savefig(paper_dir + 'figs/double_well/prior_trajs.pdf', bbox_inches='tight')"
   ]
  },
  {
   "cell_type": "code",
   "execution_count": 72,
   "metadata": {},
   "outputs": [],
   "source": [
    "x = np.vstack([traj_left, traj_right])\n",
    "xval = np.vstack([traj_left_val, traj_right_val])"
   ]
  },
  {
   "cell_type": "code",
   "execution_count": 73,
   "metadata": {},
   "outputs": [],
   "source": [
    "# prepare transition state\n",
    "x_ts = np.vstack([np.zeros(1000), (1.0/double_well.params['k']) * np.random.randn(1000)]).T"
   ]
  },
  {
   "cell_type": "markdown",
   "metadata": {},
   "source": [
    "Estimate transition rate\n",
    "----"
   ]
  },
  {
   "cell_type": "code",
   "execution_count": 74,
   "metadata": {},
   "outputs": [
    {
     "data": {
      "text/plain": [
       "{'a4': 1.0, 'a2': 6.0, 'a1': 1.0, 'k': 1.0, 'dim': 2}"
      ]
     },
     "execution_count": 74,
     "metadata": {},
     "output_type": "execute_result"
    }
   ],
   "source": [
    "params"
   ]
  },
  {
   "cell_type": "code",
   "execution_count": 75,
   "metadata": {},
   "outputs": [
    {
     "data": {
      "image/png": "[encoded data removed]",
      "text/plain": [
       "<Figure size 432x288 with 1 Axes>"
      ]
     },
     "metadata": {},
     "output_type": "display_data"
    }
   ],
   "source": [
    "# change barrier but keep a/b\n",
    "params_flat = params.copy()\n",
    "params_flat['a2'] = 1.5\n",
    "params_flat['a4'] = 0.25\n",
    "double_well_flat = DoubleWell(params=params_flat)\n",
    "double_well_flat.plot_dimer_energy();\n",
    "#double_well_flat.plot_dimer_energy();"
   ]
  },
  {
   "cell_type": "code",
   "execution_count": 76,
   "metadata": {},
   "outputs": [],
   "source": [
    "sampler = MetropolisGauss(double_well_flat, x0_left, noise=0.1, stride=100)\n",
    "nstep = 1000000\n",
    "sampler.run(nstep)"
   ]
  },
  {
   "cell_type": "code",
   "execution_count": 77,
   "metadata": {},
   "outputs": [],
   "source": [
    "barrier_double_well = double_well.energy(np.array([[0, 0]])) - double_well.energy(np.array([[-2, 0]]))\n",
    "barrier_double_well_flat = double_well_flat.energy(np.array([[0, 0]])) - double_well_flat.energy(np.array([[-2, 0]]))"
   ]
  },
  {
   "cell_type": "code",
   "execution_count": 78,
   "metadata": {},
   "outputs": [
    {
     "name": "stdout",
     "output_type": "stream",
     "text": [
      "[6723813.22487892]\n"
     ]
    }
   ],
   "source": [
    "from deep_boltzmann.util import count_transitions\n",
    "Ntrans_low_barrier = count_transitions(sampler.traj[:, 0], -1, 1)\n",
    "rate_low_barrier = float(Ntrans_low_barrier) / float(nstep)\n",
    "dE = barrier_double_well - barrier_double_well_flat\n",
    "rate_high_barrier = rate_low_barrier * np.exp(-dE)\n",
    "print(1.0/rate_high_barrier)\n",
    "#plt.plot(sampler.traj[:, 0])"
   ]
  },
  {
   "cell_type": "markdown",
   "metadata": {},
   "source": [
    "Training\n",
    "-------"
   ]
  },
  {
   "cell_type": "code",
   "execution_count": 79,
   "metadata": {},
   "outputs": [],
   "source": [
    "epochsZ = 200\n",
    "epochsE = 500\n",
    "batchsize_ML = 128\n",
    "batchsize_KL = 1000\n",
    "temperature = 1.0\n",
    "explore = 1.0"
   ]
  },
  {
   "cell_type": "markdown",
   "metadata": {},
   "source": [
    "Networks\n",
    "----"
   ]
  },
  {
   "cell_type": "code",
   "execution_count": 80,
   "metadata": {
    "scrolled": true
   },
   "outputs": [
    {
     "name": "stdout",
     "output_type": "stream",
     "text": [
      "<NNNN>S\n",
      "< 2 0 0\n",
      "N 1 1 0\n",
      "N 1 1 0\n",
      "N 1 1 0\n",
      "N 1 1 0\n",
      "> 1 1 0\n",
      "S 2 0 0\n"
     ]
    }
   ],
   "source": [
    "network_NICER_KLML = invnet(double_well.dim, 'NNNNS', double_well, nl_layers=3, nl_hidden=100, \n",
    "                            nl_activation='relu', nl_activation_scale='tanh')"
   ]
  },
  {
   "cell_type": "code",
   "execution_count": 81,
   "metadata": {},
   "outputs": [],
   "source": [
    "hist_NICER_KLML1 = network_NICER_KLML.train_ML(x, xval=xval, epochs=epochsZ, batch_size=batchsize_ML, std=1.0, \n",
    "                                               verbose=0, return_test_energies=True)\n",
    "hist_NICER_KLML2 = network_NICER_KLML.train_flexible(x, xval=xval, lr=0.001, epochs=epochsE, batch_size=batchsize_KL, \n",
    "                                                     std=1.0,\n",
    "                                                     weight_ML=1.0, weight_KL=1.0, weight_MC=0.0, weight_W2=0.0,\n",
    "                                                     weight_RCEnt=0.0, rc_func=getx, rc_min=-2.5, rc_max=2.5,\n",
    "                                                     temperature=temperature, explore=explore, verbose=0,\n",
    "                                                     return_test_energies=True)"
   ]
  },
  {
   "cell_type": "code",
   "execution_count": 82,
   "metadata": {},
   "outputs": [
    {
     "data": {
      "text/plain": [
       "(<Figure size 360x720 with 3 Axes>,\n",
       " array([<matplotlib.axes._subplots.AxesSubplot object at 0x0000020EAD76A470>,\n",
       "        <matplotlib.axes._subplots.AxesSubplot object at 0x0000020EB34211D0>,\n",
       "        <matplotlib.axes._subplots.AxesSubplot object at 0x0000020EB73B2048>],\n",
       "       dtype=object))"
      ]
     },
     "execution_count": 82,
     "metadata": {},
     "output_type": "execute_result"
    },
    {
     "data": {
      "image/png": "[encoded data removed]",
      "text/plain": [
       "<Figure size 360x720 with 3 Axes>"
      ]
     },
     "metadata": {},
     "output_type": "display_data"
    }
   ],
   "source": [
    "plot_convergence(hist_NICER_KLML1, hist_NICER_KLML2, 0, 2)"
   ]
  },
  {
   "cell_type": "code",
   "execution_count": 83,
   "metadata": {},
   "outputs": [
    {
     "ename": "TypeError",
     "evalue": "free_energy_bootstrap() got an unexpected keyword argument 'sample'",
     "output_type": "error",
     "traceback": [
      "\u001b[1;31m---------------------------------------------------------------------------\u001b[0m",
      "\u001b[1;31mTypeError\u001b[0m                                 Traceback (most recent call last)",
      "\u001b[1;32m<ipython-input-83-95fa87bdbd98>\u001b[0m in \u001b[0;36m<module>\u001b[1;34m()\u001b[0m\n\u001b[1;32m----> 1\u001b[1;33m \u001b[0mfig\u001b[0m\u001b[1;33m,\u001b[0m \u001b[0maxes\u001b[0m \u001b[1;33m=\u001b[0m \u001b[0mplot_network\u001b[0m\u001b[1;33m(\u001b[0m\u001b[0mnetwork_NICER_KLML\u001b[0m\u001b[1;33m,\u001b[0m \u001b[0mweight_cutoff\u001b[0m\u001b[1;33m=\u001b[0m\u001b[1;36m1e-2\u001b[0m\u001b[1;33m)\u001b[0m\u001b[1;33m;\u001b[0m\u001b[1;33m\u001b[0m\u001b[0m\n\u001b[0m\u001b[0;32m      2\u001b[0m \u001b[1;31m#fig.savefig(paper_dir + 'figs/double_well/network_NICER_KLML.pdf', bbox_inches='tight')\u001b[0m\u001b[1;33m\u001b[0m\u001b[1;33m\u001b[0m\u001b[0m\n",
      "\u001b[1;32m<ipython-input-62-e2704f7c48fa>\u001b[0m in \u001b[0;36mplot_network\u001b[1;34m(network, weight_cutoff)\u001b[0m\n\u001b[0;32m     49\u001b[0m     \u001b[1;31m#plt.legend(ncol=1, loc=9, fontsize=12, frameon=False)\u001b[0m\u001b[1;33m\u001b[0m\u001b[1;33m\u001b[0m\u001b[0m\n\u001b[0;32m     50\u001b[0m     \u001b[1;31m# Plot reweighted distribution\u001b[0m\u001b[1;33m\u001b[0m\u001b[1;33m\u001b[0m\u001b[0m\n\u001b[1;32m---> 51\u001b[1;33m     \u001b[0mRX1\u001b[0m\u001b[1;33m,\u001b[0m \u001b[0mRY1\u001b[0m\u001b[1;33m,\u001b[0m \u001b[0mDR1\u001b[0m \u001b[1;33m=\u001b[0m \u001b[0mtest_sample_rew\u001b[0m\u001b[1;33m(\u001b[0m\u001b[0mnetwork\u001b[0m\u001b[1;33m,\u001b[0m \u001b[0mtemperature\u001b[0m\u001b[1;33m=\u001b[0m\u001b[1;36m1.0\u001b[0m\u001b[1;33m,\u001b[0m \u001b[0mplot\u001b[0m\u001b[1;33m=\u001b[0m\u001b[1;32mFalse\u001b[0m\u001b[1;33m)\u001b[0m\u001b[1;33m;\u001b[0m\u001b[1;33m\u001b[0m\u001b[0m\n\u001b[0m\u001b[0;32m     52\u001b[0m     \u001b[0maxis\u001b[0m \u001b[1;33m=\u001b[0m \u001b[0maxes\u001b[0m\u001b[1;33m[\u001b[0m\u001b[1;36m3\u001b[0m\u001b[1;33m]\u001b[0m\u001b[1;33m\u001b[0m\u001b[0m\n\u001b[0;32m     53\u001b[0m     \u001b[0mEx\u001b[0m\u001b[1;33m,\u001b[0m \u001b[0mE\u001b[0m \u001b[1;33m=\u001b[0m \u001b[0mdouble_well\u001b[0m\u001b[1;33m.\u001b[0m\u001b[0mplot_dimer_energy\u001b[0m\u001b[1;33m(\u001b[0m\u001b[0maxis\u001b[0m\u001b[1;33m=\u001b[0m\u001b[0maxis\u001b[0m\u001b[1;33m,\u001b[0m \u001b[0mtemperature\u001b[0m\u001b[1;33m=\u001b[0m\u001b[1;36m1.0\u001b[0m\u001b[1;33m)\u001b[0m\u001b[1;33m\u001b[0m\u001b[0m\n",
      "\u001b[1;32m<ipython-input-57-c6b746846da7>\u001b[0m in \u001b[0;36mtest_sample_rew\u001b[1;34m(network, temperature, plot)\u001b[0m\n\u001b[0;32m      3\u001b[0m     \u001b[0msample_z\u001b[0m\u001b[1;33m,\u001b[0m \u001b[0msample_x\u001b[0m\u001b[1;33m,\u001b[0m \u001b[0menergy_z\u001b[0m\u001b[1;33m,\u001b[0m \u001b[0menergy_x\u001b[0m\u001b[1;33m,\u001b[0m \u001b[0mlog_w\u001b[0m \u001b[1;33m=\u001b[0m \u001b[0mnetwork\u001b[0m\u001b[1;33m.\u001b[0m\u001b[0msample\u001b[0m\u001b[1;33m(\u001b[0m\u001b[0mtemperature\u001b[0m\u001b[1;33m=\u001b[0m\u001b[1;36m1.0\u001b[0m\u001b[1;33m,\u001b[0m \u001b[0mnsample\u001b[0m\u001b[1;33m=\u001b[0m\u001b[1;36m100000\u001b[0m\u001b[1;33m)\u001b[0m\u001b[1;33m\u001b[0m\u001b[0m\n\u001b[0;32m      4\u001b[0m     \u001b[0mlog_w\u001b[0m \u001b[1;33m-=\u001b[0m \u001b[0mlog_w\u001b[0m\u001b[1;33m.\u001b[0m\u001b[0mmax\u001b[0m\u001b[1;33m(\u001b[0m\u001b[1;33m)\u001b[0m\u001b[1;33m\u001b[0m\u001b[0m\n\u001b[1;32m----> 5\u001b[1;33m     \u001b[0mbin_means\u001b[0m\u001b[1;33m,\u001b[0m \u001b[0mEs\u001b[0m \u001b[1;33m=\u001b[0m \u001b[0mfree_energy_bootstrap\u001b[0m\u001b[1;33m(\u001b[0m\u001b[0msample_x\u001b[0m\u001b[1;33m[\u001b[0m\u001b[1;33m:\u001b[0m\u001b[1;33m,\u001b[0m \u001b[1;36m0\u001b[0m\u001b[1;33m]\u001b[0m\u001b[1;33m,\u001b[0m \u001b[1;33m-\u001b[0m\u001b[1;36m2.5\u001b[0m\u001b[1;33m,\u001b[0m \u001b[1;36m2.5\u001b[0m\u001b[1;33m,\u001b[0m \u001b[1;36m100\u001b[0m\u001b[1;33m,\u001b[0m \u001b[0msample\u001b[0m\u001b[1;33m=\u001b[0m\u001b[1;36m100\u001b[0m\u001b[1;33m,\u001b[0m \u001b[0mweights\u001b[0m\u001b[1;33m=\u001b[0m\u001b[0mnp\u001b[0m\u001b[1;33m.\u001b[0m\u001b[0mexp\u001b[0m\u001b[1;33m(\u001b[0m\u001b[0mlog_w\u001b[0m\u001b[1;33m)\u001b[0m\u001b[1;33m)\u001b[0m\u001b[1;33m\u001b[0m\u001b[0m\n\u001b[0m\u001b[0;32m      6\u001b[0m     \u001b[0mplt\u001b[0m\u001b[1;33m.\u001b[0m\u001b[0mfigure\u001b[0m\u001b[1;33m(\u001b[0m\u001b[0mfigsize\u001b[0m\u001b[1;33m=\u001b[0m\u001b[1;33m(\u001b[0m\u001b[1;36m4\u001b[0m\u001b[1;33m,\u001b[0m \u001b[1;36m4\u001b[0m\u001b[1;33m)\u001b[0m\u001b[1;33m)\u001b[0m\u001b[1;33m\u001b[0m\u001b[0m\n\u001b[0;32m      7\u001b[0m     \u001b[0mEmean\u001b[0m \u001b[1;33m=\u001b[0m \u001b[0mmean_finite\u001b[0m\u001b[1;33m(\u001b[0m\u001b[0mEs\u001b[0m\u001b[1;33m,\u001b[0m \u001b[0maxis\u001b[0m\u001b[1;33m=\u001b[0m\u001b[1;36m0\u001b[0m\u001b[1;33m)\u001b[0m\u001b[1;33m-\u001b[0m\u001b[1;36m10.7\u001b[0m\u001b[1;33m\u001b[0m\u001b[0m\n",
      "\u001b[1;31mTypeError\u001b[0m: free_energy_bootstrap() got an unexpected keyword argument 'sample'"
     ]
    },
    {
     "data": {
      "image/png": "[encoded data removed]",
      "text/plain": [
       "<Figure size 1152x252 with 4 Axes>"
      ]
     },
     "metadata": {},
     "output_type": "display_data"
    },
    {
     "data": {
      "text/plain": [
       "<Figure size 288x288 with 0 Axes>"
      ]
     },
     "metadata": {},
     "output_type": "display_data"
    }
   ],
   "source": [
    "fig, axes = plot_network(network_NICER_KLML, weight_cutoff=1e-2);\n",
    "#fig.savefig(paper_dir + 'figs/double_well/network_NICER_KLML.pdf', bbox_inches='tight')"
   ]
  },
  {
   "cell_type": "code",
   "execution_count": null,
   "metadata": {
    "scrolled": true
   },
   "outputs": [],
   "source": [
    "network_RNVP_KLML = invnet(double_well.dim, 'RRRR', double_well, nl_layers=3, nl_hidden=100, \n",
    "                           nl_activation='relu', nl_activation_scale='tanh')"
   ]
  },
  {
   "cell_type": "code",
   "execution_count": null,
   "metadata": {},
   "outputs": [],
   "source": [
    "hist_RNVP_KLML1 = network_RNVP_KLML.train_ML(x, xval=xval, epochs=epochsZ, batch_size=batchsize_ML, std=1.0, verbose=0,\n",
    "                                             return_test_energies=True)\n",
    "hist_RNVP_KLML2 = network_RNVP_KLML.train_flexible(x, xval=xval, lr=0.001, epochs=epochsE, batch_size=batchsize_KL, \n",
    "                                                   std=1.0,\n",
    "                                                   weight_ML=1.0, weight_KL=1.0, weight_MC=0.0, weight_W2=0.0,\n",
    "                                                   weight_RCEnt=0.0, rc_func=getx, rc_min=-2.5, rc_max=2.5,\n",
    "                                                   temperature=temperature, explore=explore, verbose=0,\n",
    "                                                   return_test_energies=True)"
   ]
  },
  {
   "cell_type": "code",
   "execution_count": null,
   "metadata": {},
   "outputs": [],
   "source": [
    "def energy_cut_z(ndim, nstd=3):\n",
    "    z = np.random.randn(10000, ndim)\n",
    "    zener = 0.5 * np.sum(z**2, axis=1)\n",
    "    #return zener\n",
    "    std = np.sqrt(np.mean((zener - zener.mean())**2))\n",
    "    return zener.mean() + nstd*std"
   ]
  },
  {
   "cell_type": "code",
   "execution_count": null,
   "metadata": {},
   "outputs": [],
   "source": [
    "zcut = energy_cut_z(double_well.dim, nstd=3)\n",
    "plot_convergence(hist_RNVP_KLML1, hist_RNVP_KLML2, 0, zcut)\n",
    "#plt.savefig(paper_dir + 'figs/double_well/training_convergence_KLML.pdf', bbox_inches='tight', transparent=True)"
   ]
  },
  {
   "cell_type": "code",
   "execution_count": null,
   "metadata": {},
   "outputs": [],
   "source": [
    "fig, axes = plot_network(network_RNVP_KLML, weight_cutoff=1e-2);\n",
    "#fig.savefig(paper_dir + 'figs/double_well/network_RNVP_KLML.pdf', bbox_inches='tight')"
   ]
  },
  {
   "cell_type": "code",
   "execution_count": null,
   "metadata": {
    "scrolled": true
   },
   "outputs": [],
   "source": [
    "network_NICER_KLRC = invnet(double_well.dim, 'NNNNS', double_well, nl_layers=3, nl_hidden=100, \n",
    "                            nl_activation='relu', nl_activation_scale='tanh')"
   ]
  },
  {
   "cell_type": "code",
   "execution_count": null,
   "metadata": {},
   "outputs": [],
   "source": [
    "hist_NICER_KLRC1 = network_NICER_KLRC.train_ML(x, xval=xval, epochs=epochsZ, batch_size=128, std=1.0, verbose=0, \n",
    "                                               return_test_energies=True)"
   ]
  },
  {
   "cell_type": "code",
   "execution_count": null,
   "metadata": {},
   "outputs": [],
   "source": [
    "hist_NICER_KLRC2 = network_NICER_KLRC.train_flexible(x, xval=xval, lr=0.001, epochs=epochsE, batch_size=2048, std=1.0,\n",
    "                                                     weight_ML=0.01, weight_KL=1.0, weight_MC=0.0, weight_W2=0.0,\n",
    "                                                     weight_RCEnt=1.0, rc_func=getx, rc_min=-2.5, rc_max=2.5,\n",
    "                                                     temperature=temperature, explore=explore, verbose=0,\n",
    "                                                     return_test_energies=True)"
   ]
  },
  {
   "cell_type": "code",
   "execution_count": null,
   "metadata": {},
   "outputs": [],
   "source": [
    "plot_convergence(hist_NICER_KLRC1, hist_NICER_KLRC2, 0, 2)"
   ]
  },
  {
   "cell_type": "code",
   "execution_count": null,
   "metadata": {},
   "outputs": [],
   "source": [
    "fig, axes = plot_network(network_NICER_KLRC, weight_cutoff=1e-2);\n",
    "#fig.savefig(paper_dir + 'figs/double_well/network_NICER_KLRC.pdf', bbox_inches='tight')"
   ]
  },
  {
   "cell_type": "code",
   "execution_count": null,
   "metadata": {
    "scrolled": true
   },
   "outputs": [],
   "source": [
    "network_RNVP_KLRC = invnet(double_well.dim, 'RRRR', double_well, nl_layers=3, nl_hidden=100, \n",
    "                            nl_activation='relu', nl_activation_scale='tanh')"
   ]
  },
  {
   "cell_type": "code",
   "execution_count": null,
   "metadata": {},
   "outputs": [],
   "source": [
    "hist_RNVP_KLRC1 = network_RNVP_KLRC.train_ML(x, xval=xval, epochs=epochsZ, batch_size=batchsize_ML, std=1.0, verbose=0,\n",
    "                                             return_test_energies=True)\n",
    "hist_RNVP_KLRC2 = network_RNVP_KLRC.train_flexible(x, xval=xval, lr=0.001, epochs=epochsE, batch_size=batchsize_KL, \n",
    "                                                   std=1.0,\n",
    "                                                   weight_ML=0.01, weight_KL=1.0, weight_MC=0.0, weight_W2=0.0,\n",
    "                                                   weight_RCEnt=1.0, rc_func=getx, rc_min=-2.5, rc_max=2.5,\n",
    "                                                   temperature=temperature, explore=explore, verbose=0,\n",
    "                                                   return_test_energies=True)"
   ]
  },
  {
   "cell_type": "code",
   "execution_count": null,
   "metadata": {},
   "outputs": [],
   "source": [
    "zcut = energy_cut_z(double_well.dim, nstd=3)\n",
    "plot_convergence(hist_RNVP_KLRC1, hist_RNVP_KLRC2, 0, zcut)\n",
    "#plt.savefig(paper_dir + 'figs/double_well/training_convergence_KLRC.pdf', bbox_inches='tight', transparent=True)"
   ]
  },
  {
   "cell_type": "code",
   "execution_count": null,
   "metadata": {},
   "outputs": [],
   "source": [
    "fig, axes = plot_network(network_NICER_KLRC, weight_cutoff=1e-2);\n",
    "#fig.savefig(paper_dir + 'figs/double_well/network_RNVP_KLRC.pdf', bbox_inches='tight')"
   ]
  },
  {
   "cell_type": "markdown",
   "metadata": {},
   "source": [
    "**Save Figures**"
   ]
  },
  {
   "cell_type": "code",
   "execution_count": null,
   "metadata": {},
   "outputs": [],
   "source": [
    "plot_potential(cbar=True, orientation='horizontal')\n",
    "#plt.savefig(paper_dir + 'figs/double_well/potential2D_horizontal.pdf', bbox_inches='tight')\n",
    "#plot_potential(cbar=True)\n",
    "plt.plot(traj_left[::5, 0], traj_left[::5, 1], linewidth=0, marker='.', markersize=4, color='teal')\n",
    "plt.plot(x_ts[:, 0], x_ts[:, 1], linewidth=0, marker='.', markersize=3, color='yellow')\n",
    "plt.plot(traj_right[::5, 0], traj_right[::5, 1], linewidth=0, marker='.', markersize=4, color='red')\n",
    "plt.xlabel('$x_1$')\n",
    "#plt.xlim(-3, 3)\n",
    "plt.ylabel('$x_2$')\n",
    "#plt.ylim(-4, 4)\n",
    "plt.yticks([-4, -2, 0, 2, 4]);\n",
    "#plt.savefig(paper_dir + 'figs/double_well/xdist.pdf', bbox_inches='tight', transparent=True)"
   ]
  },
  {
   "cell_type": "code",
   "execution_count": null,
   "metadata": {},
   "outputs": [],
   "source": [
    "z_left = network_NICER_KLRC.transform_xz(traj_left)\n",
    "z_ts = network_NICER_KLRC.transform_xz(x_ts)\n",
    "z_right = network_NICER_KLRC.transform_xz(traj_right)\n",
    "plt.figure(figsize=(4, 4))\n",
    "plt.plot(z_left[:, 0], z_left[:, 1], linewidth=0, marker='.', markersize=3, color='blue')\n",
    "plt.plot(z_ts[:, 0], z_ts[:, 1], linewidth=0, marker='.', markersize=3, color='orange')\n",
    "plt.plot(z_right[:, 0], z_right[:, 1], linewidth=0, marker='.', markersize=3, color='red')\n",
    "circle = plt.Circle((0, 0), radius=1.0, color='black', alpha=0.4, fill=True)\n",
    "plt.gca().add_artist(circle)\n",
    "circle = plt.Circle((0, 0), radius=2.0, color='black', alpha=0.25, fill=True)\n",
    "plt.gca().add_artist(circle)\n",
    "circle = plt.Circle((0, 0), radius=3.0, color='black', alpha=0.1, fill=True)\n",
    "plt.gca().add_artist(circle)\n",
    "plt.xlabel('$z_1$')\n",
    "plt.xlim(-4, 4)\n",
    "plt.ylabel('$z_2$')\n",
    "plt.ylim(-4, 4)\n",
    "plt.yticks([-4, -2, 0, 2, 4]);\n",
    "#plt.savefig(paper_dir + 'figs/double_well/zdist_NICER.pdf', bbox_inches='tight')"
   ]
  },
  {
   "cell_type": "code",
   "execution_count": null,
   "metadata": {},
   "outputs": [],
   "source": [
    "plot_transformation_field_2d(network_NICER_KLRC.Txz, [-3, 3, -3, 3], ngrid=20)\n",
    "plt.xlabel('z1');\n",
    "plt.ylabel('z2');"
   ]
  },
  {
   "cell_type": "code",
   "execution_count": null,
   "metadata": {},
   "outputs": [],
   "source": [
    "X1, Y1 = test_sample(network_NICER_KLML, temperature=1.0, plot=False);\n",
    "X2, Y2 = test_sample(network_NICER_KLRC, temperature=1.0, plot=False);"
   ]
  },
  {
   "cell_type": "code",
   "execution_count": null,
   "metadata": {},
   "outputs": [],
   "source": [
    "nsample=100000"
   ]
  },
  {
   "cell_type": "code",
   "execution_count": null,
   "metadata": {},
   "outputs": [],
   "source": [
    "_, sample_x1, _, energy_x1, _ = network_NICER_KLML.sample(temperature=temperature, nsample=nsample)\n",
    "_, sample_x2, _, energy_x2, _ = network_NICER_KLRC.sample(temperature=temperature, nsample=nsample)"
   ]
  },
  {
   "cell_type": "code",
   "execution_count": null,
   "metadata": {},
   "outputs": [],
   "source": [
    "plt.figure(figsize=(4,2))\n",
    "nsample = 100000\n",
    "plt.hist(sample_x1[:, 0], 1000, histtype='step', color='#00BB00', linewidth=2, label='KL+ML');\n",
    "plt.hist(sample_x2[:, 0], 1000, histtype='step', color='#FF6600', linewidth=2, label='KL+RC');\n",
    "plt.xlim(-3, 3)\n",
    "plt.yticks([]);\n",
    "plt.xlabel('$x_1$')\n",
    "plt.ylabel('Frequency')\n",
    "plt.xticks([]);\n",
    "plt.legend(ncol=1, loc='upper right', frameon=False)\n",
    "#plt.savefig(paper_dir + 'figs/double_well/hist_samplex.pdf', bbox_inches='tight', transparent=True)"
   ]
  },
  {
   "cell_type": "code",
   "execution_count": null,
   "metadata": {},
   "outputs": [],
   "source": [
    "nsteps = 100000\n",
    "sampler.reset(x0_left)\n",
    "sampler.run(nsteps)\n",
    "traj_left_ref = sampler.traj.copy()\n",
    "sampler.reset(x0_right)\n",
    "sampler.run(nsteps)\n",
    "traj_right_ref = sampler.traj.copy()\n",
    "x_ref = np.vstack([traj_left_ref, traj_right_ref])"
   ]
  },
  {
   "cell_type": "code",
   "execution_count": null,
   "metadata": {},
   "outputs": [],
   "source": [
    "plt.figure(figsize=(4, 2))\n",
    "nsample = 100000\n",
    "energy_md = double_well.energy(x_ref)\n",
    "plt.hist(energy_md, 100, density=True, color='grey', linewidth=1, label='MD');\n",
    "plt.hist(energy_md, 100, density=True, histtype='step', color='#555555', linewidth=2);\n",
    "plt.hist(energy_x1, 1000, density=True, histtype='step', color='#00BB00', linewidth=2, label='KL+ML');\n",
    "plt.hist(energy_x2, 1000, density=True, histtype='step', color='#FF6600', linewidth=2, label='KL+RC');\n",
    "plt.xlim(-12, 5)\n",
    "plt.yticks([]);\n",
    "plt.xlabel('Energy / kT')\n",
    "plt.ylabel('Frequency')\n",
    "plt.legend(ncol=1, loc=9, fontsize=12, frameon=False)\n",
    "#plt.savefig(paper_dir + 'figs/double_well/hist_sample_energy.pdf', bbox_inches='tight', transparent=True)"
   ]
  },
  {
   "cell_type": "code",
   "execution_count": null,
   "metadata": {},
   "outputs": [],
   "source": [
    "plt.figure(figsize=(4,4))\n",
    "Ex, E = double_well.plot_dimer_energy(temperature=1.0)\n",
    "Y1 = Y1 - Y1.min() + E.min()\n",
    "Y2 = Y2 - Y2.min() + E.min()\n",
    "plt.plot(X1, Y1, color='#00BB00', linewidth=2, label='KL+ML')\n",
    "plt.plot(X2, Y2, color='#FF6600', linewidth=2, label='KL+RC')\n",
    "plt.xlim(-3, 3)\n",
    "plt.ylim(-12, 5.5)\n",
    "plt.yticks([-12, -10, -8, -6, -4, -2, 0, 2, 4]);\n",
    "plt.legend(ncol=1, loc=9, fontsize=12, frameon=False)\n",
    "#plt.savefig(paper_dir + 'figs/double_well/energy_px.pdf', bbox_inches='tight')"
   ]
  },
  {
   "cell_type": "code",
   "execution_count": null,
   "metadata": {},
   "outputs": [],
   "source": [
    "RX1, RY1, DR1 = test_sample_rew(network_NICER_KLML, temperature=1.0, plot=False);\n",
    "RX2, RY2, DR2 = test_sample_rew(network_NICER_KLRC, temperature=1.0, plot=False);"
   ]
  },
  {
   "cell_type": "code",
   "execution_count": null,
   "metadata": {},
   "outputs": [],
   "source": [
    "Ex, E = double_well.plot_dimer_energy(temperature=1.0)"
   ]
  },
  {
   "cell_type": "code",
   "execution_count": null,
   "metadata": {},
   "outputs": [],
   "source": [
    "#test_sample_rew(network_NICER_KLRC, temperature=1.0);\n",
    "plt.figure(figsize=(4, 5))\n",
    "plt.plot(Ex, E, linewidth=3, color='black')\n",
    "RY1 = RY1 - RY1[np.isfinite(RY1)].min() + E.min()\n",
    "RY1[RY1 > -4] = np.nan\n",
    "RY2 = RY2 - RY2[np.isfinite(RY2)].min() + E.min()\n",
    "plt.errorbar(RX2, RY2, DR2, color='#FF6600', linewidth=2, label='ML+KL+RC')\n",
    "plt.errorbar(RX1, RY1, DR1, color='#00BB00', linewidth=2, label='ML+KL')\n",
    "plt.xlim(-3, 3)\n",
    "plt.ylim(-12, 4)\n",
    "#plt.yticks([-12, -10, -8, -6, -4, -2, 0, 2, 4]);\n",
    "plt.yticks([-12, -8, -4, 0, 4]);\n",
    "plt.xticks([]);\n",
    "plt.xlabel('$x_1$')\n",
    "plt.ylabel('Free energy / kT', labelpad=-10)\n",
    "#plt.savefig(paper_dir + 'figs/double_well/free_energy_rew.pdf', bbox_inches='tight', transparent=True)"
   ]
  },
  {
   "cell_type": "code",
   "execution_count": null,
   "metadata": {},
   "outputs": [],
   "source": [
    "z_left = network_RNVP_KLRC.transform_xz(traj_left)\n",
    "z_ts = network_RNVP_KLRC.transform_xz(x_ts)\n",
    "z_right = network_RNVP_KLRC.transform_xz(traj_right)\n",
    "plt.figure(figsize=(4, 4))\n",
    "plt.plot(z_left[:, 0], z_left[:, 1], linewidth=0, marker='.', markersize=3, color='blue')\n",
    "plt.plot(z_ts[:, 0], z_ts[:, 1], linewidth=0, marker='.', markersize=3, color='orange')\n",
    "plt.plot(z_right[:, 0], z_right[:, 1], linewidth=0, marker='.', markersize=3, color='red')\n",
    "circle = plt.Circle((0, 0), radius=1.0, color='black', alpha=0.4, fill=True)\n",
    "plt.gca().add_artist(circle)\n",
    "circle = plt.Circle((0, 0), radius=2.0, color='black', alpha=0.25, fill=True)\n",
    "plt.gca().add_artist(circle)\n",
    "circle = plt.Circle((0, 0), radius=3.0, color='black', alpha=0.1, fill=True)\n",
    "plt.gca().add_artist(circle)\n",
    "plt.xlabel('$z_1$')\n",
    "plt.xlim(-4, 4)\n",
    "plt.ylabel('$z_2$')\n",
    "plt.ylim(-4, 4)\n",
    "plt.yticks([-4, -2, 0, 2, 4]);\n",
    "#plt.savefig(paper_dir + 'figs/double_well/zdist_realNVP.pdf', bbox_inches='tight', transparent=True)"
   ]
  },
  {
   "cell_type": "code",
   "execution_count": null,
   "metadata": {},
   "outputs": [],
   "source": [
    "def latent_interpolation(bg, x1, x2, nstep=1000):\n",
    "    lambdas = np.array([np.linspace(0, 1, num=nstep)]).T\n",
    "    x1 = np.array([x1])\n",
    "    x2 = np.array([x2])\n",
    "    z1 = bg.transform_xz(x1)\n",
    "    z2 = bg.transform_xz(x2)\n",
    "    zpath = z1 + lambdas*(z2-z1)\n",
    "    xpath = bg.transform_zx(zpath)\n",
    "    return xpath"
   ]
  },
  {
   "cell_type": "code",
   "execution_count": null,
   "metadata": {},
   "outputs": [],
   "source": [
    "xpaths = []\n",
    "for i in range(10):\n",
    "    x1 = traj_left[np.random.randint(1000)] \n",
    "    x2 = traj_right[np.random.randint(1000)]\n",
    "    xpaths.append(latent_interpolation(network_RNVP_KLRC, x1, x2, nstep=1000))"
   ]
  },
  {
   "cell_type": "code",
   "execution_count": null,
   "metadata": {},
   "outputs": [],
   "source": [
    "plot_potential(cbar=False, figsize=(5, 5))\n",
    "plt.xticks([])\n",
    "plt.xlabel('')\n",
    "plt.yticks([])\n",
    "plt.ylabel('')\n",
    "for xpath in xpaths:\n",
    "    plt.plot(xpath[:, 0], xpath[:, 1], linewidth=2, color='white')\n",
    "#plt.savefig(paper_dir + 'figs/double_well/paths.pdf', bbox_inches='tight', transparent=True)"
   ]
  },
  {
   "cell_type": "code",
   "execution_count": null,
   "metadata": {},
   "outputs": [],
   "source": []
  }
 ],
 "metadata": {
  "anaconda-cloud": {},
  "kernelspec": {
   "display_name": "Python 3",
   "language": "python",
   "name": "python3"
  },
  "language_info": {
   "codemirror_mode": {
    "name": "ipython",
    "version": 3
   },
   "file_extension": ".py",
   "mimetype": "text/x-python",
   "name": "python",
   "nbconvert_exporter": "python",
   "pygments_lexer": "ipython3",
   "version": "3.6.5"
  }
 },
 "nbformat": 4,
 "nbformat_minor": 2
}
