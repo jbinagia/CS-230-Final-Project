{
 "cells": [
  {
   "cell_type": "code",
   "execution_count": 6,
   "metadata": {},
   "outputs": [],
   "source": [
    "import sys\n",
    "import numpy as np\n",
    "import matplotlib.pyplot as plt\n",
    "from matplotlib import rcParams\n",
    "import keras\n",
    "import tensorflow as tf\n",
    "sys.path.append('../deep_boltzmann')"
   ]
  },
  {
   "cell_type": "code",
   "execution_count": 7,
   "metadata": {},
   "outputs": [],
   "source": [
    "from IPython.display import SVG\n",
    "from keras.utils.vis_utils import model_to_dot"
   ]
  },
  {
   "cell_type": "code",
   "execution_count": 8,
   "metadata": {},
   "outputs": [],
   "source": [
    "rcParams.update({'font.size': 16})"
   ]
  },
  {
   "cell_type": "code",
   "execution_count": 9,
   "metadata": {},
   "outputs": [
    {
     "name": "stdout",
     "output_type": "stream",
     "text": [
      "The autoreload extension is already loaded. To reload it, use:\n",
      "  %reload_ext autoreload\n"
     ]
    }
   ],
   "source": [
    "# Switch AUTORELOAD ON. Disable this when in production mode!\n",
    "%load_ext autoreload\n",
    "%autoreload 2"
   ]
  },
  {
   "cell_type": "code",
   "execution_count": 10,
   "metadata": {},
   "outputs": [
    {
     "ename": "ModuleNotFoundError",
     "evalue": "No module named 'deep_boltzmann'",
     "output_type": "error",
     "traceback": [
      "\u001b[1;31m---------------------------------------------------------------------------\u001b[0m",
      "\u001b[1;31mModuleNotFoundError\u001b[0m                       Traceback (most recent call last)",
      "\u001b[1;32m<ipython-input-10-91e0fe464ba6>\u001b[0m in \u001b[0;36m<module>\u001b[1;34m()\u001b[0m\n\u001b[1;32m----> 1\u001b[1;33m \u001b[1;32mfrom\u001b[0m \u001b[0mdeep_boltzmann\u001b[0m\u001b[1;33m.\u001b[0m\u001b[0mmodels\u001b[0m \u001b[1;32mimport\u001b[0m \u001b[0mMuellerPotential\u001b[0m\u001b[1;33m\u001b[0m\u001b[0m\n\u001b[0m\u001b[0;32m      2\u001b[0m \u001b[1;32mfrom\u001b[0m \u001b[0mdeep_boltzmann\u001b[0m\u001b[1;33m.\u001b[0m\u001b[0mnetworks\u001b[0m\u001b[1;33m.\u001b[0m\u001b[0minvertible\u001b[0m \u001b[1;32mimport\u001b[0m \u001b[0mcreate_NICERNet\u001b[0m\u001b[1;33m,\u001b[0m \u001b[0mcreate_RealNVPNet\u001b[0m\u001b[1;33m,\u001b[0m \u001b[0minvnet\u001b[0m\u001b[1;33m\u001b[0m\u001b[0m\n\u001b[0;32m      3\u001b[0m \u001b[1;32mfrom\u001b[0m \u001b[0mdeep_boltzmann\u001b[0m\u001b[1;33m.\u001b[0m\u001b[0msampling\u001b[0m \u001b[1;32mimport\u001b[0m \u001b[0mGaussianPriorMCMC\u001b[0m\u001b[1;33m\u001b[0m\u001b[0m\n\u001b[0;32m      4\u001b[0m \u001b[1;32mfrom\u001b[0m \u001b[0mdeep_boltzmann\u001b[0m\u001b[1;33m.\u001b[0m\u001b[0mnetworks\u001b[0m\u001b[1;33m.\u001b[0m\u001b[0mplot\u001b[0m \u001b[1;32mimport\u001b[0m \u001b[0mtest_xz_projection\u001b[0m\u001b[1;33m\u001b[0m\u001b[0m\n\u001b[0;32m      5\u001b[0m \u001b[1;32mfrom\u001b[0m \u001b[0mdeep_boltzmann\u001b[0m\u001b[1;33m.\u001b[0m\u001b[0mutil\u001b[0m \u001b[1;32mimport\u001b[0m \u001b[0mcount_transitions\u001b[0m\u001b[1;33m\u001b[0m\u001b[0m\n",
      "\u001b[1;31mModuleNotFoundError\u001b[0m: No module named 'deep_boltzmann'"
     ]
    }
   ],
   "source": [
    "from deep_boltzmann.models import MuellerPotential\n",
    "from deep_boltzmann.networks.invertible import create_NICERNet, create_RealNVPNet, invnet\n",
    "from deep_boltzmann.sampling import GaussianPriorMCMC\n",
    "from deep_boltzmann.networks.plot import test_xz_projection\n",
    "from deep_boltzmann.util import count_transitions\n",
    "from deep_boltzmann.sampling.analysis import free_energy_bootstrap, mean_finite, std_finite"
   ]
  },
  {
   "cell_type": "code",
   "execution_count": null,
   "metadata": {},
   "outputs": [],
   "source": [
    "xgrid = np.linspace(-1.5, 1.0, 100)\n",
    "ygrid = np.linspace(-0.5, 2, 100)\n",
    "Xgrid, Ygrid = np.meshgrid(xgrid, ygrid)"
   ]
  },
  {
   "cell_type": "code",
   "execution_count": null,
   "metadata": {},
   "outputs": [],
   "source": [
    "def test_sample(network, temperature=1.0, nsample=100000, plot=True):\n",
    "    if nsample <= 100000:\n",
    "        sample_z, sample_x, energy_z, energy_x, logw = network.sample(temperature=temperature, nsample=nsample)\n",
    "    else:\n",
    "        sample_x = []\n",
    "        for i in range(int(nsample/100000)):\n",
    "            _, sample_x_, _, _, _ = network.sample(temperature=temperature, nsample=nsample)\n",
    "            sample_x.append(sample_x_)\n",
    "        sample_x = np.vstack(sample_x)\n",
    "        \n",
    "    # xgen = network.Tzx.predict(np.sqrt(temperature) * np.random.randn(100000, 2))\n",
    "    params = DoubleWell.params_default.copy()\n",
    "    params['dim'] = 2\n",
    "    double_well = DoubleWell(params=params)\n",
    "    plt.figure(figsize=(4, 4))\n",
    "    h, b = np.histogram(sample_x[:, 0], bins=100)\n",
    "    bin_means = 0.5*(b[:-1] + b[1:])\n",
    "    Eh = -np.log(h) / temperature\n",
    "    if plot:\n",
    "        Ex, E = double_well.plot_dimer_energy(temperature=temperature)\n",
    "        Eh = Eh - Eh.min() + E.min()\n",
    "        plt.plot(bin_means, Eh, color='green', linewidth=2)\n",
    "    return bin_means, Eh"
   ]
  },
  {
   "cell_type": "code",
   "execution_count": null,
   "metadata": {},
   "outputs": [],
   "source": [
    "# reweighting\n",
    "def test_sample_rew(network, temperature=1.0, plot=True):\n",
    "    sample_z, sample_x, energy_z, energy_x, log_w = network.sample(temperature=1.0, nsample=100000)\n",
    "    log_w -= log_w.max()\n",
    "    bin_means, Es = free_energy_bootstrap(sample_x[:, 0], -2.5, 2.5, 100, sample=100, weights=np.exp(log_w))\n",
    "    plt.figure(figsize=(4, 4))\n",
    "    Emean = mean_finite(Es, axis=0)-10.7\n",
    "    Estd = std_finite(Es, axis=0)\n",
    "    var = mean_finite(std_finite(Es, axis=0) ** 2)\n",
    "    if plot:\n",
    "        double_well.plot_dimer_energy()\n",
    "        plt.errorbar(bin_means, Emean, Estd, linewidth=2, color='green')\n",
    "    # variance\n",
    "    print('Estimator Standard Error: ', np.sqrt(var))\n",
    "    return bin_means, Emean, Estd"
   ]
  },
  {
   "cell_type": "code",
   "execution_count": null,
   "metadata": {},
   "outputs": [],
   "source": [
    "def hist_weights(network):\n",
    "    sample_z, sample_x, energy_z, energy_x, log_w = network.sample(temperature=1.0, nsample=100000)\n",
    "    log_w -= log_w.max()\n",
    "    bins = np.linspace(-2.5, 2.5, 100)\n",
    "    bin_means = 0.5 * (bins[:-1] + bins[1:])\n",
    "    sample_x_index = np.digitize(sample_x[:, 0], bins)\n",
    "    whist = np.zeros(len(bins) + 1)\n",
    "    for i in range(len(log_w)):\n",
    "        whist[sample_x_index[i]] += np.exp(log_w[i])\n",
    "    return bin_means, whist[1:-1]"
   ]
  },
  {
   "cell_type": "code",
   "execution_count": null,
   "metadata": {},
   "outputs": [],
   "source": [
    "def test_mcmc(network, nsample):\n",
    "    fig, axes = plt.subplots(2, 1, figsize=(7, 7))\n",
    "    # test sampling\n",
    "    gp_mcmc = GaussianPriorMCMC(network)#, std_z=[0.7, 1.0])\n",
    "    Z, X, E, J = gp_mcmc.run(nsample)\n",
    "    print('Transitions:', count_transitions(X[:, 0], -1, 1))\n",
    "    axes[0].plot(X[:min(10000, nsample), 0])\n",
    "    # plot PMF\n",
    "    h, b = np.histogram(X[:, 0], bins=100)\n",
    "    b = 0.5 * (b[:-1] + b[1:])\n",
    "    F = -np.log(h)\n",
    "    Edimer = double_well.plot_dimer_energy(axes[1])\n",
    "    axes[1].plot(b, F-F.min()+Edimer.min())"
   ]
  },
  {
   "cell_type": "code",
   "execution_count": null,
   "metadata": {},
   "outputs": [],
   "source": [
    "def plot_transformation_field_2d(transformer, bounds, ngrid=20, ):\n",
    "    # build grid\n",
    "    x_coarse_grid = np.linspace(bounds[0], bounds[1], num=ngrid)\n",
    "    y_coarse_grid = np.linspace(bounds[2], bounds[3], num=ngrid)\n",
    "    grid = []\n",
    "    for i in range(len(x_coarse_grid)):\n",
    "        for j in range(len(y_coarse_grid)):\n",
    "            grid.append([x_coarse_grid[i], y_coarse_grid[j]])\n",
    "    grid = np.array(grid)\n",
    "\n",
    "    # compute transformation field\n",
    "    grid_pred = transformer.predict(grid)\n",
    "\n",
    "    # show field\n",
    "    plt.figure(figsize=(5, 5))\n",
    "    plt.quiver(grid[:, 0], grid[:, 1], grid_pred[:, 0], grid_pred[:, 1], units='width')"
   ]
  },
  {
   "cell_type": "code",
   "execution_count": null,
   "metadata": {},
   "outputs": [],
   "source": [
    "def latent_interpolation(bg, x1, x2, nstep=1000):\n",
    "    lambdas = np.array([np.linspace(0, 1, num=nstep)]).T\n",
    "    x1 = np.array([x1])\n",
    "    x2 = np.array([x2])\n",
    "    z1 = bg.transform_xz(x1)\n",
    "    z2 = bg.transform_xz(x2)\n",
    "    zpath = z1 + lambdas*(z2-z1)\n",
    "    xpath = bg.transform_zx(zpath)\n",
    "    return xpath"
   ]
  },
  {
   "cell_type": "code",
   "execution_count": null,
   "metadata": {},
   "outputs": [],
   "source": [
    "def getx(x):\n",
    "    return x[:, 0]\n",
    "def gety(x):\n",
    "    return x[:, 1]"
   ]
  },
  {
   "cell_type": "markdown",
   "metadata": {},
   "source": [
    "Plotting functions\n",
    "-----"
   ]
  },
  {
   "cell_type": "code",
   "execution_count": null,
   "metadata": {},
   "outputs": [],
   "source": [
    "def low_energy_fraction(energies, Emax):\n",
    "    low_energy_count = [np.count_nonzero(E<Emax) for E in energies]\n",
    "    sizes = [E.size for E in energies]\n",
    "    low_energy_fraction = np.array(low_energy_count) / sizes\n",
    "    return low_energy_fraction"
   ]
  },
  {
   "cell_type": "code",
   "execution_count": null,
   "metadata": {},
   "outputs": [],
   "source": [
    "def plot_convergence(hist_ML, hist_KL, enerx_cut, enerz_cut, MLcol=1, KLcol=2):\n",
    "    fig, axes = plt.subplots(nrows=3, ncols=1, figsize=(5, 10))\n",
    "    niter1 = len(hist_ML[0])\n",
    "    niter2 = hist_KL[1].shape[0]\n",
    "    niter = niter1 + niter2\n",
    "    # ML loss\n",
    "    losses_ML = np.concatenate([hist_ML[0], hist_KL[1][:, MLcol]])\n",
    "    xticks = np.arange(niter1 + niter2) + 1\n",
    "    axes[0].plot(xticks, losses_ML, color='black')\n",
    "    axes[0].set_xlim(0, niter + 1)\n",
    "    axes[0].set_ylabel('ML loss')\n",
    "    axes[0].axvline(x=200, color='red', linestyle='--', linewidth=3)\n",
    "    # KL loss\n",
    "    losses_KL = hist_KL[1][:, KLcol]\n",
    "    xticks = np.arange(niter1, niter1 + niter2) + 1\n",
    "    axes[1].plot(xticks, losses_KL, color='black')\n",
    "    axes[1].set_xlim(0, niter + 1)\n",
    "    axes[1].set_ylabel('KL loss')\n",
    "    axes[1].axvline(x=200, color='red', linestyle='--', linewidth=3)\n",
    "    # low energy fractions\n",
    "    enerx = hist_ML[2] + hist_KL[3]\n",
    "    enerz = hist_ML[3] + hist_KL[4]\n",
    "    lef_x = low_energy_fraction(enerx, enerx_cut)\n",
    "    lef_z = low_energy_fraction(enerz, enerz_cut)\n",
    "    axes[2].plot(lef_x, color='black', label='x')\n",
    "    axes[2].plot(lef_z, color='blue', label='z')\n",
    "    axes[2].set_xlim(0, niter + 1)\n",
    "    axes[2].set_ylim(0, 1.05)\n",
    "    axes[2].axvline(x=200, color='red', linestyle='--', linewidth=3)\n",
    "    axes[2].set_ylabel('Training iterations')\n",
    "    axes[2].set_ylabel('Low energy fraction')\n",
    "    axes[2].legend()\n",
    "    return fig, axes"
   ]
  },
  {
   "cell_type": "code",
   "execution_count": null,
   "metadata": {},
   "outputs": [],
   "source": [
    "def energy_cut_z(ndim, nstd=3):\n",
    "    z = np.random.randn(10000, ndim)\n",
    "    zener = 0.5 * np.sum(z**2, axis=1)\n",
    "    #return zener\n",
    "    std = np.sqrt(np.mean((zener - zener.mean())**2))\n",
    "    return zener.mean() + nstd*std"
   ]
  },
  {
   "cell_type": "markdown",
   "metadata": {},
   "source": [
    "Mueller potential\n",
    "---"
   ]
  },
  {
   "cell_type": "code",
   "execution_count": null,
   "metadata": {},
   "outputs": [],
   "source": [
    "paper_dir = '/Users/noe/data/papers/NoeEtAl_BoltzmannGeneratorsRev/'"
   ]
  },
  {
   "cell_type": "code",
   "execution_count": null,
   "metadata": {},
   "outputs": [],
   "source": [
    "params = MuellerPotential.params_default.copy()\n",
    "params['k'] = 0.1\n",
    "params['dim'] = 2\n",
    "mueller = MuellerPotential(params=params)\n",
    "#plt.figure(figsize=(5,5))\n",
    "#double_well.plot_dimer_energy();\n",
    "#plt.savefig(paper_dir + 'figs/doublewell_potential.pdf', bbox_inches='tight')"
   ]
  },
  {
   "cell_type": "code",
   "execution_count": null,
   "metadata": {},
   "outputs": [],
   "source": [
    "def plot_potential(labels=True, cbar=True, figsize=(7, 4), orientation='vertical'):\n",
    "    # 2D potential\n",
    "    xgrid = np.linspace(-1.5, 1.0, 100)\n",
    "    ygrid = np.linspace(-0.2, 2, 100)\n",
    "    Xgrid, Ygrid = np.meshgrid(xgrid, ygrid)\n",
    "    X = np.vstack([Xgrid.flatten(), Ygrid.flatten(), np.zeros(Xgrid.size), np.zeros(Xgrid.size)]).T\n",
    "    E = mueller.energy(X)\n",
    "    E = E.reshape((100, 100))\n",
    "    E = np.minimum(E, 10.0)\n",
    "    plt.figure(figsize=figsize)\n",
    "    plt.contourf(Xgrid, Ygrid, E, 100, cmap='jet', vmin=-10, vmax=-3)\n",
    "    if cbar:\n",
    "        if orientation == 'horizontal':\n",
    "            cbar = plt.colorbar(orientation='horizontal', shrink=0.3, aspect=10, anchor=(0.9, 6.5), use_gridspec=False)#, anchor=(0, 0.5))\n",
    "            cbar.outline.set_linewidth(1)\n",
    "            cbar.outline.set_color('white')\n",
    "            cbar.outline.fill = False\n",
    "            plt.setp(plt.getp(cbar.ax.axes, 'xticklabels'), color='w')\n",
    "            cbar.ax.xaxis.set_tick_params(color='white')\n",
    "            cbar.set_label('Energy / kT', labelpad=0, y=0.0, color='white')\n",
    "        else:\n",
    "            cbar = plt.colorbar()\n",
    "            cbar.set_label('Energy / kT', labelpad=-15, y=0.6)\n",
    "        cbar.set_ticks([-10, 0, 10])\n",
    "        cbar.set_label('Energy / kT') # , labelpad=-15, y=0.6\n",
    "        #cbar.set_ticks([-10, -5, 0, 5, 10])\n",
    "    if labels:\n",
    "        plt.xlabel('$x_1$')\n",
    "        plt.ylabel('$x_2$')\n",
    "        plt.xticks([-1, 0, 1])\n",
    "        plt.yticks([0, 1, 2])\n",
    "    else:\n",
    "        plt.xticks([])\n",
    "        plt.yticks([])\n",
    "    return cbar\n",
    "    #plt.savefig(paper_dir + 'figs/doublewell_potential2D.pdf', bbox_inches='tight')    #plt.savefig(paper_dir + 'figs/doublewell_potential2D.pdf', bbox_inches='tight')"
   ]
  },
  {
   "cell_type": "code",
   "execution_count": null,
   "metadata": {},
   "outputs": [],
   "source": [
    "plot_potential(labels=True, cbar=True)"
   ]
  },
  {
   "cell_type": "code",
   "execution_count": null,
   "metadata": {},
   "outputs": [],
   "source": [
    "# simulation data\n",
    "from deep_boltzmann.sampling import MetropolisGauss"
   ]
  },
  {
   "cell_type": "code",
   "execution_count": null,
   "metadata": {},
   "outputs": [],
   "source": [
    "nsteps = 1000\n",
    "x0_left = np.array([[-0.5, 1.5]])\n",
    "x0_right = np.array([[0.5, 0.0]])\n",
    "\n",
    "sampler = MetropolisGauss(mueller, x0_left, noise=0.1, stride=10)\n",
    "sampler.run(nsteps)\n",
    "traj_left = sampler.traj.copy()\n",
    "\n",
    "sampler.reset(x0_left)\n",
    "sampler.run(nsteps)\n",
    "traj_left_val = sampler.traj.copy()\n",
    "\n",
    "sampler.reset(x0_right)\n",
    "sampler.run(nsteps)\n",
    "traj_right = sampler.traj.copy()\n",
    "\n",
    "sampler.reset(x0_right)\n",
    "sampler.run(nsteps)\n",
    "traj_right_val = sampler.traj.copy()"
   ]
  },
  {
   "cell_type": "code",
   "execution_count": null,
   "metadata": {},
   "outputs": [],
   "source": [
    "x_intermediate = np.array([[-0.05, 0.45]]) + np.array([[0.15, 0.05]]) * np.random.randn(100, 2)"
   ]
  },
  {
   "cell_type": "code",
   "execution_count": null,
   "metadata": {},
   "outputs": [],
   "source": [
    "cbar = plot_potential(labels=True, cbar=True, figsize=(4, 5.5), orientation='horizontal')\n",
    "plt.plot(traj_left[:, 0], traj_left[:, 1], color='teal', linewidth=0, marker='.')\n",
    "plt.plot(traj_right[:, 0], traj_right[:, 1], color='red', linewidth=0, marker='.')\n",
    "plt.plot(x_intermediate[:, 0], x_intermediate[:, 1], color='orange', linewidth=0, marker='.')\n",
    "#plt.savefig(paper_dir + 'figs/mueller/potential_horizontal.pdf', bbox_inches='tight', transparent=True)"
   ]
  },
  {
   "cell_type": "code",
   "execution_count": null,
   "metadata": {},
   "outputs": [],
   "source": [
    "x = np.vstack([traj_left, traj_right])\n",
    "xval = np.vstack([traj_left_val, traj_right_val])"
   ]
  },
  {
   "cell_type": "markdown",
   "metadata": {},
   "source": [
    "Training\n",
    "-------"
   ]
  },
  {
   "cell_type": "code",
   "execution_count": null,
   "metadata": {},
   "outputs": [],
   "source": [
    "epochsZ = 200\n",
    "epochsE = 500\n",
    "temperature = 1.0\n",
    "explore = 1.0\n",
    "batch_size_KL = 1000\n",
    "batch_size_ML = 128"
   ]
  },
  {
   "cell_type": "code",
   "execution_count": null,
   "metadata": {
    "scrolled": true
   },
   "outputs": [],
   "source": [
    "bg = invnet(mueller.dim, 'RRRRR', mueller, nl_layers=3, nl_hidden=100, \n",
    "            nl_activation='relu', nl_activation_scale='tanh')"
   ]
  },
  {
   "cell_type": "code",
   "execution_count": null,
   "metadata": {},
   "outputs": [],
   "source": [
    "hist = bg.train_ML(x, xval=xval, epochs=epochsZ, batch_size=batch_size_ML, std=1.0, verbose=0,\n",
    "                   return_test_energies=True)\n",
    "hist2 = bg.train_flexible(x, xval=xval, lr=0.001, epochs=epochsE, batch_size=batch_size_KL, std=1.0,\n",
    "                          weight_ML=1.0, weight_KL=1.0, weight_MC=0.0, weight_W2=0.0,\n",
    "                          weight_RCEnt=1.0, rc_func=gety, rc_min=-0.1, rc_max=1.7,\n",
    "                          temperature=temperature, explore=explore, verbose=0, return_test_energies=True)"
   ]
  },
  {
   "cell_type": "code",
   "execution_count": null,
   "metadata": {},
   "outputs": [],
   "source": [
    "zener = energy_cut_z(mueller.dim, nstd=3)\n",
    "plot_convergence(hist, hist2, 0, 2)\n",
    "#plt.savefig(paper_dir + 'figs/mueller/training_convergence_KLRC.pdf', bbox_inches='tight', transparent=True)"
   ]
  },
  {
   "cell_type": "code",
   "execution_count": null,
   "metadata": {},
   "outputs": [],
   "source": [
    "# Plot z distribution\n",
    "z_left = bg.transform_xz(traj_left)\n",
    "z_int = bg.transform_xz(x_intermediate)\n",
    "z_right = bg.transform_xz(traj_right)\n",
    "plt.figure(figsize=(4, 4))\n",
    "plt.plot(z_left[:, 0], z_left[:, 1], linewidth=0, marker='.', markersize=6, color='blue')\n",
    "plt.plot(z_int[:, 0], z_int[:, 1], linewidth=0, marker='.', markersize=6, color='orange')\n",
    "plt.plot(z_right[:, 0], z_right[:, 1], linewidth=0, marker='.', markersize=6, color='red')\n",
    "circle = plt.Circle((0, 0), radius=1.0, color='black', alpha=0.4, fill=True)\n",
    "plt.gca().add_artist(circle)\n",
    "circle = plt.Circle((0, 0), radius=2.0, color='black', alpha=0.25, fill=True)\n",
    "plt.gca().add_artist(circle)\n",
    "circle = plt.Circle((0, 0), radius=3.0, color='black', alpha=0.1, fill=True)\n",
    "plt.gca().add_artist(circle)\n",
    "plt.xlabel('$z_1$')\n",
    "plt.xlim(-4, 4)\n",
    "plt.ylabel('$z_2$')\n",
    "plt.ylim(-4, 4)\n",
    "plt.yticks([-4, -2, 0, 2, 4]);\n",
    "#plt.savefig(paper_dir + 'figs/mueller/zdist.pdf', bbox_inches='tight', transparent=True)"
   ]
  },
  {
   "cell_type": "code",
   "execution_count": null,
   "metadata": {},
   "outputs": [],
   "source": [
    "_, sample_x, _, sample_e, sample_logw = bg.sample(temperature=1.0, nsample=100000)"
   ]
  },
  {
   "cell_type": "code",
   "execution_count": null,
   "metadata": {},
   "outputs": [],
   "source": [
    "plot_potential(labels=False, cbar=False, figsize=(5, 5))\n",
    "plt.plot(sample_x[::10, 0], sample_x[::10, 1], color='white', linewidth=0, marker='.', markersize=2)\n",
    "plt.xlim(-1.5, 1.0)\n",
    "plt.ylim(-0.2, 2.0)\n",
    "#plt.savefig(paper_dir + 'figs/mueller/sample_on_pot_horizontal.pdf', bbox_inches='tight')"
   ]
  },
  {
   "cell_type": "code",
   "execution_count": null,
   "metadata": {},
   "outputs": [],
   "source": [
    "# long reference MD \n",
    "sampler.reset(x0_left)\n",
    "sampler.run(100000)\n",
    "traj_left_ref = sampler.traj.copy()\n",
    "sampler.reset(x0_right)\n",
    "sampler.run(100000)\n",
    "traj_right_ref = sampler.traj.copy()\n",
    "x_ref=np.vstack([traj_left_ref, traj_right_ref])"
   ]
  },
  {
   "cell_type": "code",
   "execution_count": null,
   "metadata": {},
   "outputs": [],
   "source": [
    "plt.figure(figsize=(4,2))\n",
    "nsample = 100000\n",
    "energy_md = mueller.energy(x_ref)\n",
    "plt.hist(energy_md, 100, density=True, color='grey', linewidth=1, label='MD');\n",
    "plt.hist(energy_md, 100, density=True, histtype='step', color='#555555', linewidth=2);\n",
    "plt.hist(sample_e, 200, density=True, histtype='step', color='#00BB00', linewidth=3, label='BG');\n",
    "plt.xlim(-16, 0)\n",
    "plt.yticks([]);\n",
    "plt.xlabel('Energy / kT')\n",
    "plt.ylabel('Frequency')\n",
    "plt.legend(ncol=1, loc=9, fontsize=14, frameon=False)\n",
    "#plt.savefig(paper_dir + 'figs/mueller/hist_sample_energy.pdf', bbox_inches='tight', transparent=True)"
   ]
  },
  {
   "cell_type": "code",
   "execution_count": null,
   "metadata": {},
   "outputs": [],
   "source": [
    "# Free energy:\n",
    "proj_dir = np.array([[0.7],[-0.7]])\n",
    "proj = sample_x.dot(proj_dir)"
   ]
  },
  {
   "cell_type": "code",
   "execution_count": null,
   "metadata": {},
   "outputs": [],
   "source": [
    "plt.figure(figsize=(4,2))\n",
    "nsample = 100000\n",
    "plt.hist(proj[:, 0], 1000, histtype='step', color='#00BB00', linewidth=2);\n",
    "plt.xlim(-2, 1)\n",
    "plt.yticks([]);\n",
    "plt.xlabel('$x_{proj}$')\n",
    "plt.ylabel('Frequency')\n",
    "plt.xticks([]);\n",
    "plt.legend(ncol=1, loc=9, fontsize=12, frameon=False)\n",
    "#plt.savefig(paper_dir + 'figs/mueller/hist_samplex.pdf', bbox_inches='tight', transparent=True)"
   ]
  },
  {
   "cell_type": "code",
   "execution_count": null,
   "metadata": {},
   "outputs": [],
   "source": [
    "# Reference calculation:\n",
    "xwild = np.array([-1.5, -0.2]) + np.array([2.5, 2.2]) * np.random.rand(1000000, 2)\n",
    "xwild_ener = mueller.energy(xwild)\n",
    "xwild_w = np.exp(-(xwild_ener-xwild_ener.min()))\n",
    "xwild_proj = xwild.dot(proj_dir)"
   ]
  },
  {
   "cell_type": "code",
   "execution_count": null,
   "metadata": {},
   "outputs": [],
   "source": [
    "plt.figure(figsize=(4, 5))\n",
    "hist, bin_edges = np.histogram(proj[:, 0], bins=100, weights=np.exp(sample_logw-sample_logw.max()))\n",
    "bin_values = 0.5*(bin_edges[:-1] + bin_edges[1:])\n",
    "hist_ref, bin_edges = np.histogram(xwild_proj[:, 0], bins=100, weights=xwild_w)\n",
    "bin_values_ref = 0.5*(bin_edges[:-1] + bin_edges[1:])\n",
    "\n",
    "plt.plot(bin_values_ref, -np.log(hist_ref), color='black', linewidth=4)\n",
    "plt.plot(bin_values, -np.log(hist)-1.2, color='#00CC00', linewidth=2)\n",
    "plt.xlim(-2, 1)\n",
    "plt.ylim(-10, 6)\n",
    "plt.yticks([-10, -5, 0, 5])\n",
    "plt.xlabel('$x_{proj}$')\n",
    "plt.ylabel('Free energy / kT', labelpad=-10)\n",
    "#plt.savefig(paper_dir + 'figs/mueller/free_energy.pdf', bbox_inches='tight', transparent=True)"
   ]
  },
  {
   "cell_type": "code",
   "execution_count": null,
   "metadata": {},
   "outputs": [],
   "source": [
    "xpaths = []\n",
    "for i in range(10):\n",
    "    x1 = traj_left[np.random.randint(100)] \n",
    "    x2 = traj_right[np.random.randint(100)]\n",
    "    xpaths.append(latent_interpolation(bg, x1, x2, nstep=1000))"
   ]
  },
  {
   "cell_type": "code",
   "execution_count": null,
   "metadata": {},
   "outputs": [],
   "source": [
    "plot_potential(cbar=False, figsize=(5, 5))\n",
    "plt.xticks([])\n",
    "plt.xlabel('')\n",
    "plt.yticks([])\n",
    "plt.ylabel('')\n",
    "for xpath in xpaths:\n",
    "    plt.plot(xpath[:, 0], xpath[:, 1], linewidth=2, color='white')\n",
    "#plt.savefig(paper_dir + 'figs/mueller/paths.pdf', bbox_inches='tight')"
   ]
  },
  {
   "cell_type": "markdown",
   "metadata": {},
   "source": [
    "BG without RC\n",
    "-----"
   ]
  },
  {
   "cell_type": "code",
   "execution_count": null,
   "metadata": {},
   "outputs": [],
   "source": [
    "bg_noRC = invnet(mueller.dim, 'RRRRR', mueller, nl_layers=3, nl_hidden=100, \n",
    "                 nl_activation='relu', nl_activation_scale='tanh')"
   ]
  },
  {
   "cell_type": "code",
   "execution_count": null,
   "metadata": {},
   "outputs": [],
   "source": [
    "hist_noRC = bg_noRC.train_ML(x, xval=xval, epochs=epochsZ, batch_size=128, std=1.0, verbose=0,\n",
    "                             return_test_energies=True)\n",
    "hist2_noRC = bg_noRC.train_flexible(x, xval=xval, lr=0.001, epochs=epochsE, batch_size=2048, std=1.0,\n",
    "                                    weight_ML=1.0, weight_KL=1.0, weight_MC=0.0, weight_W2=0.0,\n",
    "                                    temperature=temperature, explore=explore, verbose=0,\n",
    "                             return_test_energies=True)"
   ]
  },
  {
   "cell_type": "code",
   "execution_count": null,
   "metadata": {},
   "outputs": [],
   "source": [
    "zener = energy_cut_z(mueller.dim, nstd=3)\n",
    "plot_convergence(hist_noRC, hist2_noRC, 0, 2)\n",
    "#plt.savefig(paper_dir + 'figs/mueller/training_convergence_KLML.pdf', bbox_inches='tight', transparent=True)"
   ]
  },
  {
   "cell_type": "code",
   "execution_count": null,
   "metadata": {},
   "outputs": [],
   "source": [
    "plot_potential(labels=False, cbar=False, figsize=(5, 5))\n",
    "plt.plot(sample_x_noRC[::10, 0], sample_x_noRC[::10, 1], color='white', linewidth=0, marker='.', markersize=2)\n",
    "plt.xlim(-1.5, 1.0)\n",
    "plt.ylim(-0.2, 2.0)\n",
    "#plt.savefig(paper_dir + 'figs/mueller/sample_on_pot_horizontal.pdf', bbox_inches='tight')"
   ]
  },
  {
   "cell_type": "code",
   "execution_count": null,
   "metadata": {},
   "outputs": [],
   "source": [
    "_, sample_x_noRC, _, sample_e_noRC, sample_logw_noRC = bg_noRC.sample(temperature=1.0, nsample=100000)"
   ]
  },
  {
   "cell_type": "code",
   "execution_count": null,
   "metadata": {},
   "outputs": [],
   "source": [
    "plt.figure(figsize=(4,2))\n",
    "nsample = 100000\n",
    "energy_md = mueller.energy(x_ref)\n",
    "plt.hist(energy_md, 100, density=True, color='grey', linewidth=1, label='MD');\n",
    "plt.hist(energy_md, 100, density=True, histtype='step', color='#555555', linewidth=2);\n",
    "plt.hist(sample_e_noRC, 200, density=True, histtype='step', color='#00BB00', linewidth=3, label='KL + ML');\n",
    "plt.hist(sample_e, 200, density=True, histtype='step', color='#FF6600', linewidth=3, label='KL + RC');\n",
    "plt.xlim(-16, 0)\n",
    "plt.yticks([]);\n",
    "plt.xlabel('Energy / kT')\n",
    "plt.ylabel('Frequency')\n",
    "#plt.legend(ncol=1, loc=9, fontsize=14, frameon=False)\n",
    "#plt.savefig(paper_dir + 'figs/mueller/hist_sample_energy_horizontal.pdf', bbox_inches='tight', transparent=True)"
   ]
  },
  {
   "cell_type": "code",
   "execution_count": null,
   "metadata": {},
   "outputs": [],
   "source": [
    "xproj = x.dot(proj_dir)"
   ]
  },
  {
   "cell_type": "code",
   "execution_count": null,
   "metadata": {},
   "outputs": [],
   "source": [
    "proj_noRC = sample_x_noRC.dot(proj_dir)"
   ]
  },
  {
   "cell_type": "code",
   "execution_count": null,
   "metadata": {},
   "outputs": [],
   "source": [
    "plt.figure(figsize=(4,2))\n",
    "nsample = 100000\n",
    "plt.hist(proj_noRC[:, 0], 1000, histtype='step', color='#00BB00', linewidth=2);\n",
    "plt.hist(proj[:, 0], 1000, histtype='step', color='#FF6600', linewidth=2);\n",
    "plt.xlim(-2, 1)\n",
    "plt.yticks([]);\n",
    "plt.xlabel('$x_{proj}$')\n",
    "plt.ylabel('Frequency')\n",
    "plt.xticks([]);\n",
    "plt.legend(ncol=1, loc=9, fontsize=12, frameon=False)\n",
    "#plt.savefig(paper_dir + 'figs/mueller/hist_samplex.pdf', bbox_inches='tight', transparent=True)"
   ]
  },
  {
   "cell_type": "code",
   "execution_count": null,
   "metadata": {},
   "outputs": [],
   "source": [
    "plt.figure(figsize=(4, 5))\n",
    "hist_noRC, bin_edges = np.histogram(proj_noRC[:, 0], bins=100, weights=np.exp(sample_logw_noRC-sample_logw_noRC.max()))\n",
    "hist_noRC[18:67] = np.nan  # eliminate low-weight samples\n",
    "bin_values_noRC = 0.5*(bin_edges[:-1] + bin_edges[1:])\n",
    "#plt.plot(xproj, -1*np.ones(xproj.size), linewidth=0, color='blue', marker='.')\n",
    "hist_ref, bin_edges = np.histogram(xwild_proj[:, 0], bins=100, weights=xwild_w)\n",
    "bin_values_ref = 0.5*(bin_edges[:-1] + bin_edges[1:])\n",
    "\n",
    "plt.plot(bin_values_ref, -np.log(hist_ref), color='black', linewidth=4)\n",
    "plt.plot(bin_values, -np.log(hist)-1.2, color='#FF6600', linewidth=2)\n",
    "plt.plot(bin_values_noRC, -np.log(hist_noRC)-3.3, color='#00CC00', linewidth=2)\n",
    "plt.xlim(-2, 1)\n",
    "plt.ylim(-10, 6)\n",
    "plt.yticks([-10, -5, 0, 5])\n",
    "plt.xlabel('$x_{proj}$')\n",
    "plt.ylabel('Free energy / kT', labelpad=-10)\n",
    "#plt.savefig(paper_dir + 'figs/mueller/free_energy.pdf', bbox_inches='tight', transparent=True)"
   ]
  },
  {
   "cell_type": "code",
   "execution_count": null,
   "metadata": {},
   "outputs": [],
   "source": []
  }
 ],
 "metadata": {
  "anaconda-cloud": {},
  "kernelspec": {
   "display_name": "Python 3",
   "language": "python",
   "name": "python3"
  },
  "language_info": {
   "codemirror_mode": {
    "name": "ipython",
    "version": 3
   },
   "file_extension": ".py",
   "mimetype": "text/x-python",
   "name": "python",
   "nbconvert_exporter": "python",
   "pygments_lexer": "ipython3",
   "version": "3.6.5"
  }
 },
 "nbformat": 4,
 "nbformat_minor": 2
}
