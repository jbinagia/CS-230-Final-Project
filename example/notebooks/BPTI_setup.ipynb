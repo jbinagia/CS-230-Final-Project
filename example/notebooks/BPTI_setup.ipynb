{
 "cells": [
  {
   "cell_type": "code",
   "execution_count": 2,
   "metadata": {},
   "outputs": [],
   "source": [
    "import numpy as np\n",
    "import matplotlib.pyplot as plt\n",
    "from matplotlib import rcParams\n",
    "import keras\n",
    "import tensorflow as tf"
   ]
  },
  {
   "cell_type": "code",
   "execution_count": 3,
   "metadata": {},
   "outputs": [],
   "source": [
    "from IPython.display import SVG\n",
    "from keras.utils.vis_utils import model_to_dot"
   ]
  },
  {
   "cell_type": "code",
   "execution_count": 4,
   "metadata": {},
   "outputs": [],
   "source": [
    "import mdtraj, nglview"
   ]
  },
  {
   "cell_type": "code",
   "execution_count": 5,
   "metadata": {},
   "outputs": [],
   "source": [
    "rcParams.update({'font.size': 16})"
   ]
  },
  {
   "cell_type": "code",
   "execution_count": 6,
   "metadata": {},
   "outputs": [],
   "source": [
    "# Switch AUTORELOAD ON. Disable this when in production mode!\n",
    "%load_ext autoreload\n",
    "%autoreload 2"
   ]
  },
  {
   "cell_type": "code",
   "execution_count": 7,
   "metadata": {},
   "outputs": [],
   "source": [
    "from deep_boltzmann.networks.invertible import EnergyInvNet, invnet\n",
    "from deep_boltzmann.networks.plot import test_xz_projection, test_generate_x\n",
    "from deep_boltzmann.util import count_transitions\n",
    "from deep_boltzmann.sampling.analysis import free_energy_bootstrap, mean_finite, std_finite\n",
    "from deep_boltzmann.networks.training import MLTrainer, FlexibleTrainer\n",
    "from deep_boltzmann.util import save_obj, load_obj"
   ]
  },
  {
   "cell_type": "markdown",
   "metadata": {},
   "source": [
    "BPTI\n",
    "-----"
   ]
  },
  {
   "cell_type": "code",
   "execution_count": 1,
   "metadata": {},
   "outputs": [
    {
     "name": "stderr",
     "output_type": "stream",
     "text": [
      "Using TensorFlow backend.\n"
     ]
    }
   ],
   "source": [
    "import numpy as np\n",
    "from matplotlib import rcParams\n",
    "import keras\n",
    "import tensorflow as tf\n",
    "\n",
    "from keras.utils.vis_utils import model_to_dot\n",
    "\n",
    "from deep_boltzmann.networks.invertible import invnet\n",
    "from deep_boltzmann.models.openmm import OpenMMEnergy\n",
    "from deep_boltzmann import openmmutils\n",
    "from deep_boltzmann.networks.invertible import EnergyInvNet\n",
    "import mdtraj as md\n",
    "from simtk import openmm, unit"
   ]
  },
  {
   "cell_type": "code",
   "execution_count": 3,
   "metadata": {},
   "outputs": [],
   "source": [
    "# setup BPTI\n",
    "INTEGRATOR_ARGS = (300*unit.kelvin,\n",
    "                   1.0/unit.picoseconds,\n",
    "                    2.0*unit.femtoseconds)\n",
    "\n",
    "data_sets=[]\n",
    "pdb = openmm.app.PDBFile('./bpti/bpti.pdb')\n",
    "forcefield = openmm.app.ForceField('amber99sbildn.xml', 'amber99_obc.xml')\n",
    "\n",
    "system = forcefield.createSystem(pdb.topology,\n",
    "    nonbondedMethod=openmm.app.CutoffNonPeriodic, nonbondedCutoff=1.0*unit.nanometers,\n",
    "    constraints=None, rigidWater=True)\n",
    "integrator = openmm.LangevinIntegrator(300*unit.kelvin, 1.0/unit.picoseconds,\n",
    "    2.0*unit.femtoseconds)"
   ]
  },
  {
   "cell_type": "code",
   "execution_count": 4,
   "metadata": {},
   "outputs": [],
   "source": [
    "simulation = openmm.app.Simulation(pdb.topology, system, integrator)"
   ]
  },
  {
   "cell_type": "code",
   "execution_count": 5,
   "metadata": {},
   "outputs": [],
   "source": [
    "bpti_omm_energy = OpenMMEnergy(system,\n",
    "                               openmm.LangevinIntegrator,\n",
    "                               unit.nanometers,\n",
    "                               n_atoms=md.Topology().from_openmm(simulation.topology).n_atoms,\n",
    "                               openmm_integrator_args=INTEGRATOR_ARGS\n",
    "                              )\n",
    "\n",
    "mdtraj_topology = md.Topology().from_openmm(pdb.topology)\n",
    "\n",
    "cartesian = ['CA', 'C', 'N']\n",
    "cart = mdtraj_topology.select(' '.join([\"name \" + s for s in cartesian]))\n",
    "from deep_boltzmann.models.proteins import mdtraj2Z\n",
    "Z_ = np.array(mdtraj2Z(mdtraj_topology))"
   ]
  },
  {
   "cell_type": "code",
   "execution_count": null,
   "metadata": {},
   "outputs": [],
   "source": []
  }
 ],
 "metadata": {
  "anaconda-cloud": {},
  "kernelspec": {
   "display_name": "Python [default]",
   "language": "python",
   "name": "python3"
  },
  "language_info": {
   "codemirror_mode": {
    "name": "ipython",
    "version": 3
   },
   "file_extension": ".py",
   "mimetype": "text/x-python",
   "name": "python",
   "nbconvert_exporter": "python",
   "pygments_lexer": "ipython3",
   "version": "3.5.2"
  }
 },
 "nbformat": 4,
 "nbformat_minor": 2
}
