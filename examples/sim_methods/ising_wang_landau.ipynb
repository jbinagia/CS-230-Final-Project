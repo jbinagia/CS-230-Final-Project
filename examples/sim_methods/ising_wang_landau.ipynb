{
 "cells": [
  {
   "cell_type": "code",
   "execution_count": 1,
   "metadata": {},
   "outputs": [],
   "source": [
    "import numpy as np\n",
    "\n",
    "import matplotlib.pyplot as plt\n",
    "%matplotlib inline"
   ]
  },
  {
   "cell_type": "markdown",
   "metadata": {},
   "source": [
    "# Auxiliary"
   ]
  },
  {
   "cell_type": "code",
   "execution_count": 2,
   "metadata": {},
   "outputs": [],
   "source": [
    "def init_grid(ng):\n",
    "    return np.random.choice([-1,1], (ng, ng))\n",
    "\n",
    "def draw_grid(g):\n",
    "    plt.figure(figsize=(8,6))\n",
    "    plt.imshow(g)\n",
    "\n",
    "    plt.show()"
   ]
  },
  {
   "cell_type": "markdown",
   "metadata": {},
   "source": [
    "# Simulation"
   ]
  },
  {
   "cell_type": "markdown",
   "metadata": {},
   "source": [
    "Define an order parameter for the simulation as the average spin.\n",
    "\n",
    "$\\langle s \\rangle \\in [-1, 1]$"
   ]
  },
  {
   "cell_type": "code",
   "execution_count": 3,
   "metadata": {},
   "outputs": [],
   "source": [
    "def order_param(g):\n",
    "    '''Calculates average spin for grid.'''\n",
    "    return np.mean(g)\n",
    "\n",
    "def dord(sn, so, ng):\n",
    "    '''Calculates change in order param between old and new states.'''\n",
    "    return (sn - so)/ng**2\n",
    "\n",
    "def bin_id(oprm, ng):\n",
    "    '''Calculates histogram bin for current order parameter.'''\n",
    "    dm = 2/ng**2\n",
    "    return np.ceil((oprm + 1 - 0.5*dm)/dm).astype(int)\n",
    "\n",
    "def roughness(hist):\n",
    "    '''Measure of flatness of histogram.'''\n",
    "    mh = np.mean(hist)\n",
    "    return (np.max(hist - mh))/mh"
   ]
  },
  {
   "cell_type": "code",
   "execution_count": 4,
   "metadata": {},
   "outputs": [],
   "source": [
    "def delta_energy(g, sn, so, i, j, gam):\n",
    "    '''Determines change in energy between old and new spin states.'''\n",
    "    ng = g.shape[0]\n",
    "    eo = -0.5*gam*so*(g[i, (j+1)%ng] + g[i, (j-1)%ng] + g[(i+1)%ng, j] + g[(i-1)%ng, j])\n",
    "    en = -0.5*gam*sn*(g[i, (j+1)%ng] + g[i, (j-1)%ng] + g[(i+1)%ng, j] + g[(i-1)%ng, j])\n",
    "    return en - eo    "
   ]
  },
  {
   "cell_type": "code",
   "execution_count": 5,
   "metadata": {},
   "outputs": [],
   "source": [
    "def mcSimWL(temp, gam, ns, ng, df0 = 1.0, tol = 0.2):\n",
    "    fx = []\n",
    "    \n",
    "    df = df0\n",
    "    bins = np.linspace(-1, 1, ng**2 + 1)\n",
    "    nbins = bins.shape[0]\n",
    "    \n",
    "    hn = np.ones(nbins)\n",
    "    gn = -np.log(hn)\n",
    "    \n",
    "    g = init_grid(ng)\n",
    "    oprm = order_param(g) # Initial order param for random grid\n",
    "    bo = bin_id(oprm, ng)  # Initial bin ID for random grid\n",
    "    \n",
    "    step = 1\n",
    "    while step <= ns:\n",
    "        (i, j) = np.random.randint(0, ng, (2))\n",
    "        \n",
    "        so = g[i, j]\n",
    "        sn = (-1)*so # Just flip the sign since only two possibilities\n",
    "        \n",
    "        delta_oprm = dord(sn, so, ng)\n",
    "        bn = bin_id(oprm + delta_oprm, ng) # New bin ID after flip\n",
    "        \n",
    "        de = delta_energy(g, sn, so, i, j, gam)\n",
    "        dewl = de/temp + (gn[bn] - gn[bo]) # Bias potential from WL histogram\n",
    "        \n",
    "        if 0 <= bn < nbins:\n",
    "            accept = True if dewl <= 0 else np.random.rand() < np.exp(-dewl)\n",
    "            if accept:\n",
    "                bo = bn # Update bin ID for new order param\n",
    "                oprm += delta_oprm\n",
    "                g[i, j] = sn\n",
    "        \n",
    "        hn[bo] += 1   # Adjust the histogram by one for new state\n",
    "        gn[bo] += df  # Adjust the density of states by the log scale factor\n",
    "        \n",
    "        if step % ng**2 == 0:\n",
    "            if roughness(hn) < tol:\n",
    "                gn = gn - np.max(gn)\n",
    "                fx.append(np.array([bins, -gn]).T) # Add free energy curve to list\n",
    "                df *= 0.5\n",
    "                hn = np.ones(nbins) # Reset histogram\n",
    "        \n",
    "        step += 1\n",
    "        \n",
    "    return (g, fx)  "
   ]
  },
  {
   "cell_type": "markdown",
   "metadata": {},
   "source": [
    "# Test"
   ]
  },
  {
   "cell_type": "markdown",
   "metadata": {
    "heading_collapsed": true
   },
   "source": [
    "## $\\gamma$ = 0.25, T = 1.0"
   ]
  },
  {
   "cell_type": "code",
   "execution_count": 756,
   "metadata": {
    "hidden": true
   },
   "outputs": [],
   "source": [
    "temp = 1.0\n",
    "gam = 0.25\n",
    "\n",
    "ns = 10e5\n",
    "ng = 6"
   ]
  },
  {
   "cell_type": "code",
   "execution_count": 757,
   "metadata": {
    "hidden": true
   },
   "outputs": [],
   "source": [
    "g, fx = mcSimWL(temp, gam, ns, ng)"
   ]
  },
  {
   "cell_type": "code",
   "execution_count": null,
   "metadata": {
    "hidden": true
   },
   "outputs": [],
   "source": []
  },
  {
   "cell_type": "code",
   "execution_count": null,
   "metadata": {
    "hidden": true
   },
   "outputs": [],
   "source": []
  },
  {
   "cell_type": "code",
   "execution_count": 759,
   "metadata": {
    "hidden": true
   },
   "outputs": [
    {
     "data": {
      "image/png": "[encoded data removed]",
      "text/plain": [
       "<Figure size 504x360 with 1 Axes>"
      ]
     },
     "metadata": {
      "needs_background": "light"
     },
     "output_type": "display_data"
    }
   ],
   "source": [
    "plt.figure(figsize=(7,5))\n",
    "\n",
    "plt.plot(fx[-1][:, 0], fx[-1][:, 1], '-ro')\n",
    "plt.title(\"$\\gamma$ = 0.25\")\n",
    "plt.xlabel(\"s\", fontsize=14)\n",
    "plt.ylabel(\"f\", fontsize=14)\n",
    "\n",
    "plt.show()"
   ]
  },
  {
   "cell_type": "markdown",
   "metadata": {},
   "source": [
    "## $\\gamma$ = 0.375, T = 1.0"
   ]
  },
  {
   "cell_type": "code",
   "execution_count": 6,
   "metadata": {},
   "outputs": [],
   "source": [
    "temp = 1.0\n",
    "gam = 0.375\n",
    "\n",
    "ns = 10e5\n",
    "ng = 6"
   ]
  },
  {
   "cell_type": "code",
   "execution_count": 7,
   "metadata": {},
   "outputs": [],
   "source": [
    "g, fx = mcSimWL(temp, gam, ns, ng)"
   ]
  },
  {
   "cell_type": "code",
   "execution_count": 8,
   "metadata": {},
   "outputs": [
    {
     "data": {
      "image/png": "[encoded data removed]",
      "text/plain": [
       "<Figure size 504x360 with 1 Axes>"
      ]
     },
     "metadata": {
      "needs_background": "light"
     },
     "output_type": "display_data"
    }
   ],
   "source": [
    "plt.figure(figsize=(7,5))\n",
    "\n",
    "plt.plot(fx[-1][:, 0], fx[-1][:, 1], '-ro')\n",
    "plt.title(\"$\\gamma$ = 0.375\")\n",
    "plt.xlabel(\"s\", fontsize=14)\n",
    "plt.ylabel(\"f\", fontsize=14)\n",
    "\n",
    "plt.show()"
   ]
  },
  {
   "cell_type": "markdown",
   "metadata": {},
   "source": [
    "## $\\gamma$ = 0.5, T = 1.0"
   ]
  },
  {
   "cell_type": "code",
   "execution_count": 761,
   "metadata": {},
   "outputs": [],
   "source": [
    "temp = 1.0\n",
    "gam = 0.5\n",
    "\n",
    "ns = 10e5\n",
    "ng = 6"
   ]
  },
  {
   "cell_type": "code",
   "execution_count": 762,
   "metadata": {},
   "outputs": [],
   "source": [
    "g, fx = mcSimWL(temp, gam, ns, ng)"
   ]
  },
  {
   "cell_type": "code",
   "execution_count": 763,
   "metadata": {},
   "outputs": [
    {
     "data": {
      "image/png": "[encoded data removed]",
      "text/plain": [
       "<Figure size 504x360 with 1 Axes>"
      ]
     },
     "metadata": {
      "needs_background": "light"
     },
     "output_type": "display_data"
    }
   ],
   "source": [
    "plt.figure(figsize=(7,5))\n",
    "\n",
    "plt.plot(fx[-1][:, 0], fx[-1][:, 1], '-ro')\n",
    "plt.title(\"$\\gamma$ = 0.5\")\n",
    "plt.xlabel(\"s\", fontsize=14)\n",
    "plt.ylabel(\"f\", fontsize=14)\n",
    "\n",
    "plt.show()"
   ]
  }
 ],
 "metadata": {
  "kernelspec": {
   "display_name": "Python 3",
   "language": "python",
   "name": "python3"
  },
  "language_info": {
   "codemirror_mode": {
    "name": "ipython",
    "version": 3
   },
   "file_extension": ".py",
   "mimetype": "text/x-python",
   "name": "python",
   "nbconvert_exporter": "python",
   "pygments_lexer": "ipython3",
   "version": "3.7.3"
  }
 },
 "nbformat": 4,
 "nbformat_minor": 2
}
