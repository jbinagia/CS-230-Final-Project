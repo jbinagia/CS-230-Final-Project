{
 "cells": [
  {
   "cell_type": "code",
   "execution_count": 1,
   "metadata": {},
   "outputs": [
    {
     "name": "stderr",
     "output_type": "stream",
     "text": [
      "C:\\Users\\Jeremy\\Anaconda3\\lib\\site-packages\\h5py\\__init__.py:36: FutureWarning: Conversion of the second argument of issubdtype from `float` to `np.floating` is deprecated. In future, it will be treated as `np.float64 == np.dtype(float).type`.\n",
      "  from ._conv import register_converters as _register_converters\n",
      "Using TensorFlow backend.\n"
     ]
    }
   ],
   "source": [
    "import sys \n",
    "import numpy as np\n",
    "import matplotlib.pyplot as plt\n",
    "from matplotlib import rcParams\n",
    "import keras\n",
    "import tensorflow as tf\n",
    "sys.path.append('../deep_boltzmann')"
   ]
  },
  {
   "cell_type": "code",
   "execution_count": 2,
   "metadata": {},
   "outputs": [],
   "source": [
    "from IPython.display import SVG\n",
    "from keras.utils.vis_utils import model_to_dot"
   ]
  },
  {
   "cell_type": "code",
   "execution_count": 3,
   "metadata": {},
   "outputs": [],
   "source": [
    "rcParams.update({'font.size': 16})"
   ]
  },
  {
   "cell_type": "code",
   "execution_count": 4,
   "metadata": {},
   "outputs": [],
   "source": [
    "# Switch AUTORELOAD ON. Disable this when in production mode!\n",
    "%load_ext autoreload\n",
    "%autoreload 2"
   ]
  },
  {
   "cell_type": "code",
   "execution_count": 5,
   "metadata": {},
   "outputs": [
    {
     "ename": "ModuleNotFoundError",
     "evalue": "No module named 'deep_boltzmann'",
     "output_type": "error",
     "traceback": [
      "\u001b[1;31m---------------------------------------------------------------------------\u001b[0m",
      "\u001b[1;31mModuleNotFoundError\u001b[0m                       Traceback (most recent call last)",
      "\u001b[1;32m<ipython-input-5-3db70768601d>\u001b[0m in \u001b[0;36m<module>\u001b[1;34m()\u001b[0m\n\u001b[1;32m----> 1\u001b[1;33m \u001b[1;32mfrom\u001b[0m \u001b[0mdeep_boltzmann\u001b[0m\u001b[1;33m.\u001b[0m\u001b[0mmodels\u001b[0m \u001b[1;32mimport\u001b[0m \u001b[0mParticleDimer\u001b[0m\u001b[1;33m\u001b[0m\u001b[0m\n\u001b[0m\u001b[0;32m      2\u001b[0m \u001b[1;32mfrom\u001b[0m \u001b[0mdeep_boltzmann\u001b[0m\u001b[1;33m.\u001b[0m\u001b[0mnetworks\u001b[0m\u001b[1;33m.\u001b[0m\u001b[0minvertible\u001b[0m \u001b[1;32mimport\u001b[0m \u001b[0minvnet\u001b[0m\u001b[1;33m,\u001b[0m \u001b[0mEnergyInvNet\u001b[0m\u001b[1;33m,\u001b[0m \u001b[0mcreate_RealNVPNet\u001b[0m\u001b[1;33m\u001b[0m\u001b[0m\n\u001b[0;32m      3\u001b[0m \u001b[1;32mfrom\u001b[0m \u001b[0mdeep_boltzmann\u001b[0m\u001b[1;33m.\u001b[0m\u001b[0msampling\u001b[0m \u001b[1;32mimport\u001b[0m \u001b[0mGaussianPriorMCMC\u001b[0m\u001b[1;33m\u001b[0m\u001b[0m\n\u001b[0;32m      4\u001b[0m \u001b[1;32mfrom\u001b[0m \u001b[0mdeep_boltzmann\u001b[0m\u001b[1;33m.\u001b[0m\u001b[0msampling\u001b[0m\u001b[1;33m.\u001b[0m\u001b[0mlatent_sampling\u001b[0m \u001b[1;32mimport\u001b[0m \u001b[0mBiasedModel\u001b[0m\u001b[1;33m\u001b[0m\u001b[0m\n\u001b[0;32m      5\u001b[0m \u001b[1;32mfrom\u001b[0m \u001b[0mdeep_boltzmann\u001b[0m\u001b[1;33m.\u001b[0m\u001b[0msampling\u001b[0m\u001b[1;33m.\u001b[0m\u001b[0mpermutation\u001b[0m \u001b[1;32mimport\u001b[0m \u001b[0mHungarianMapper\u001b[0m\u001b[1;33m\u001b[0m\u001b[0m\n",
      "\u001b[1;31mModuleNotFoundError\u001b[0m: No module named 'deep_boltzmann'"
     ]
    }
   ],
   "source": [
    "from deep_boltzmann.models import ParticleDimer\n",
    "from deep_boltzmann.networks.invertible import invnet, EnergyInvNet, create_RealNVPNet\n",
    "from deep_boltzmann.sampling import GaussianPriorMCMC\n",
    "from deep_boltzmann.sampling.latent_sampling import BiasedModel\n",
    "from deep_boltzmann.sampling.permutation import HungarianMapper\n",
    "from deep_boltzmann.util import load_obj, save_obj"
   ]
  },
  {
   "cell_type": "code",
   "execution_count": null,
   "metadata": {},
   "outputs": [],
   "source": [
    "from deep_boltzmann.sampling.analysis import free_energy_bootstrap, mean_finite, std_finite"
   ]
  },
  {
   "cell_type": "code",
   "execution_count": null,
   "metadata": {},
   "outputs": [],
   "source": [
    "# reweighting\n",
    "def test_sample_rew(network, rcfunc, rcmin, rcmax, temperature=1.0, nsample=100000):\n",
    "    sample_z, sample_x, energy_z, energy_x, log_w = network.sample(temperature=1.0, nsample=nsample)\n",
    "    bin_means, Es = free_energy_bootstrap(rcfunc(sample_x), rcmin, rcmax, 100, sample=100, weights=np.exp(log_w))\n",
    "    fig = plt.figure(figsize=(5, 4))\n",
    "    # model.plot_dimer_energy()\n",
    "    plt.ylim(-10, 20)\n",
    "    Emean = mean_finite(Es, axis=0)-7\n",
    "    Estd = std_finite(Es, axis=0)\n",
    "    plt.errorbar(bin_means, Emean, 2*Estd)\n",
    "    # variance\n",
    "    var = mean_finite(std_finite(Es, axis=0) ** 2)\n",
    "    print('Estimator Standard Error: ', np.sqrt(var))\n",
    "    return fig, bin_means, Emean, Estd"
   ]
  },
  {
   "cell_type": "code",
   "execution_count": null,
   "metadata": {},
   "outputs": [],
   "source": [
    "def latent_interpolation(bg, x1, x2, nstep=1000, through_origin=False):\n",
    "    lambdas = np.array([np.linspace(0, 1, num=nstep)]).T\n",
    "    x1 = np.array([x1])\n",
    "    x2 = np.array([x2])\n",
    "    z1 = bg.transform_xz(x1)\n",
    "    z2 = bg.transform_xz(x2)\n",
    "    if through_origin:\n",
    "        zpath1 = z1 * (1-lambdas[::2])\n",
    "        zpath2 = z2 * (lambdas[::2]) \n",
    "        zpath = np.vstack([zpath1, zpath2])\n",
    "    else:\n",
    "        zpath = z1 + lambdas*(z2-z1)\n",
    "    xpath = bg.transform_zx(zpath)\n",
    "    return xpath"
   ]
  },
  {
   "cell_type": "code",
   "execution_count": null,
   "metadata": {},
   "outputs": [],
   "source": [
    "def low_energy_fraction(energies, Emax):\n",
    "    low_energy_count = [np.count_nonzero(E<Emax) for E in energies]\n",
    "    sizes = [E.size for E in energies]\n",
    "    low_energy_fraction = np.array(low_energy_count) / sizes\n",
    "    return low_energy_fraction"
   ]
  },
  {
   "cell_type": "code",
   "execution_count": null,
   "metadata": {},
   "outputs": [],
   "source": [
    "def plot_convergence(hist_ML, hist_KL, enerx_cut, enerz_cut, MLcol=1, KLcol=2):\n",
    "    fig, axes = plt.subplots(nrows=3, ncols=1, figsize=(5, 10))\n",
    "    niter1 = len(hist_ML[0])\n",
    "    niter2 = hist_KL[1].shape[0]\n",
    "    niter = niter1 + niter2\n",
    "    # ML loss\n",
    "    losses_ML = np.concatenate([hist_ML[0], hist_KL[1][:, MLcol]])\n",
    "    xticks = np.arange(niter1 + niter2) + 1\n",
    "    axes[0].plot(xticks, losses_ML, color='black')\n",
    "    axes[0].set_xlim(0, niter + 1)\n",
    "    axes[0].set_ylabel('ML loss')\n",
    "    axes[0].axvline(x=200, color='red', linestyle='--', linewidth=3)\n",
    "    # KL loss\n",
    "    losses_KL = hist_KL[1][:, KLcol]\n",
    "    xticks = np.arange(niter1, niter1 + niter2) + 1\n",
    "    axes[1].plot(xticks, losses_KL, color='black')\n",
    "    axes[1].set_xlim(0, niter + 1)\n",
    "    axes[1].set_ylabel('KL loss')\n",
    "    axes[1].axvline(x=200, color='red', linestyle='--', linewidth=3)\n",
    "    # low energy fractions\n",
    "    enerx = hist_ML[2] + hist_KL[3]\n",
    "    enerz = hist_ML[3] + hist_KL[4]\n",
    "    lef_x = low_energy_fraction(enerx, enerx_cut)\n",
    "    lef_z = low_energy_fraction(enerz, enerz_cut)\n",
    "    axes[2].plot(lef_x, color='black', label='x')\n",
    "    axes[2].plot(lef_z, color='blue', label='z')\n",
    "    axes[2].set_xlim(0, niter + 1)\n",
    "    axes[2].set_ylim(0, 1.05)\n",
    "    axes[2].axvline(x=200, color='red', linestyle='--', linewidth=3)\n",
    "    axes[2].set_ylabel('Training iterations')\n",
    "    axes[2].set_ylabel('Low energy fraction')\n",
    "    axes[2].legend()\n",
    "    return fig, axes"
   ]
  },
  {
   "cell_type": "code",
   "execution_count": null,
   "metadata": {},
   "outputs": [],
   "source": [
    "paper_dir = '/Users/noe/data/papers/NoeEtAl_BoltzmannGeneratorsRev/'"
   ]
  },
  {
   "cell_type": "markdown",
   "metadata": {},
   "source": [
    "Particle model\n",
    "---\n",
    "Run notebook \"Particles_Simulation_Data\" to generate data"
   ]
  },
  {
   "cell_type": "code",
   "execution_count": null,
   "metadata": {},
   "outputs": [],
   "source": [
    "# load trajectory data\n",
    "trajdict = np.load('../data/particles_tilted/trajdata_long.npz')\n",
    "import ast\n",
    "params = ast.literal_eval(str(trajdict['params']))\n",
    "traj_closed_train = trajdict['traj_closed_train_hungarian']\n",
    "traj_open_train = trajdict['traj_open_train_hungarian']\n",
    "traj_closed_test = trajdict['traj_closed_test_hungarian']\n",
    "traj_open_test = trajdict['traj_open_test_hungarian']\n",
    "x = np.vstack([traj_closed_train, traj_open_train])\n",
    "xval = np.vstack([traj_closed_test, traj_open_test])"
   ]
  },
  {
   "cell_type": "code",
   "execution_count": null,
   "metadata": {},
   "outputs": [],
   "source": [
    "# create model\n",
    "params['grid_k'] = 0.0\n",
    "model = ParticleDimer(params=params)"
   ]
  },
  {
   "cell_type": "code",
   "execution_count": null,
   "metadata": {},
   "outputs": [],
   "source": [
    "xx, xE = model.plot_dimer_energy();\n",
    "plt.figure(figsize=(5, 2))\n",
    "plt.plot(xx, xE, linewidth=2)\n",
    "plt.ylim(-3, 22)\n",
    "plt.xlabel('Dimer distance / nm')\n",
    "plt.ylabel('Energy / $kT_0$')\n",
    "#plt.savefig(paper_dir + 'figs/particles/particle_dimer_potential.pdf', bbox_inches='tight')"
   ]
  },
  {
   "cell_type": "code",
   "execution_count": null,
   "metadata": {},
   "outputs": [],
   "source": [
    "W = np.exp(-xE)\n",
    "-np.log(np.sum(W[xx < 1.5]) / np.sum(W[xx >= 1.5]))"
   ]
  },
  {
   "cell_type": "code",
   "execution_count": null,
   "metadata": {},
   "outputs": [],
   "source": [
    "# hyperparameters\n",
    "hyperparams = {'layer_types' : 'RRRRRRRR',\n",
    "               'nl_layers' : 3,\n",
    "               'nl_hidden' : 200,\n",
    "               'nl_activation' : 'tanh',\n",
    "               'zstd' : 1.0,\n",
    "               'reg_Jxz' : 0.0,\n",
    "               'temperature' : [0.1, 0.25, 0.5, 0.75, 1.0, 1.5, 2.0, 3.0, 4.0],\n",
    "               'weight_ML' : 0.1,\n",
    "               'weight_W2' : 0.0,\n",
    "               'weight_RC' : 10.0,\n",
    "               }"
   ]
  },
  {
   "cell_type": "markdown",
   "metadata": {},
   "source": [
    "Umbrella sampling reference\n",
    "-------"
   ]
  },
  {
   "cell_type": "code",
   "execution_count": null,
   "metadata": {},
   "outputs": [],
   "source": [
    "from deep_boltzmann.sampling.umbrella_sampling import UmbrellaSampling\n",
    "from deep_boltzmann.sampling.metropolis import MetropolisGauss"
   ]
  },
  {
   "cell_type": "code",
   "execution_count": null,
   "metadata": {},
   "outputs": [],
   "source": [
    "## Either run Umbrella Sampling here....\n",
    "#sampler = MetropolisGauss(model, model.init_positions(1.0), noise=0.02, stride=10)\n",
    "#sampler.run(nsteps=10000)\n",
    "#us = UmbrellaSampling(model, sampler, model.dimer_distance, sampler.traj[-1], 30, 250, 0.7, 2.3, forward_backward=True)\n",
    "#us.run(nsteps=20000, verbose=True)"
   ]
  },
  {
   "cell_type": "code",
   "execution_count": null,
   "metadata": {},
   "outputs": [],
   "source": [
    "## ... or load saved Umbrella Sampling data.\n",
    "npzfile = np.load('./particles/US_data.npz')\n",
    "colors = ['black', 'purple', 'blue', 'orange', 'red']\n",
    "x = npzfile['umbrella_positions']\n",
    "temperatures_US = npzfile['temperatures']\n",
    "dF_closed_open_US = []\n",
    "for i, dF in enumerate(npzfile['umbrella_free_energies']):\n",
    "    icolor = i // 3\n",
    "    plt.plot(x, dF, color=colors[icolor])\n",
    "    W = np.exp(-dF)\n",
    "    dF_at_kT0 = -np.log(np.sum(W[x < 1.5]) / np.sum(W[x >= 1.5]))\n",
    "    dF_closed_open_US.append(dF_at_kT0)\n",
    "    print(temperatures_US[i], dF_at_kT0)    "
   ]
  },
  {
   "cell_type": "code",
   "execution_count": null,
   "metadata": {
    "scrolled": true
   },
   "outputs": [],
   "source": [
    "# Estimate free energy profile and errors at kT=1 \n",
    "umbrella_positions = npzfile['umbrella_positions']\n",
    "# split in two halves because we ran forward and backward\n",
    "umbrella_positions = umbrella_positions[:umbrella_positions.size//2]\n",
    "umbrella_free_energies = [npzfile['umbrella_free_energies'][i][:umbrella_positions.size] for i in range(9, 12)] \\\n",
    "                       + [npzfile['umbrella_free_energies'][i][umbrella_positions.size:][::-1] for i in range(9, 12)] \n",
    "# align values\n",
    "umbrella_free_energies = [F-F.mean() for F in umbrella_free_energies]"
   ]
  },
  {
   "cell_type": "markdown",
   "metadata": {},
   "source": [
    "Boltzmann Generator\n",
    "-------"
   ]
  },
  {
   "cell_type": "code",
   "execution_count": null,
   "metadata": {},
   "outputs": [],
   "source": [
    "batchsize_ML =  500\n",
    "batchsize_KL = 1000\n",
    "noise_intensity = 0.0"
   ]
  },
  {
   "cell_type": "code",
   "execution_count": null,
   "metadata": {},
   "outputs": [],
   "source": [
    "X0 = np.vstack([traj_closed_train, traj_open_train])"
   ]
  },
  {
   "cell_type": "code",
   "execution_count": null,
   "metadata": {},
   "outputs": [],
   "source": [
    "Nnoise = xval.shape[0]\n",
    "X0noise = X0[np.random.choice(X0.shape[0], Nnoise)] + noise_intensity * np.random.randn(Nnoise, X0.shape[1])\n",
    "X0noise = X0noise.astype(np.float32)"
   ]
  },
  {
   "cell_type": "code",
   "execution_count": null,
   "metadata": {},
   "outputs": [],
   "source": [
    "#X0 = np.vstack([traj_closed_train[::100], traj_open_train[::100]])"
   ]
  },
  {
   "cell_type": "code",
   "execution_count": null,
   "metadata": {},
   "outputs": [],
   "source": [
    "model.draw_config(X0noise[1001], dimercolor='blue', alpha=0.8);"
   ]
  },
  {
   "cell_type": "code",
   "execution_count": null,
   "metadata": {
    "scrolled": true
   },
   "outputs": [],
   "source": [
    "bg = invnet(model.dim, 'RRRRRRRR', energy_model=model, nl_layers=4, nl_hidden=200, #100\n",
    "            nl_activation='relu', nl_activation_scale='tanh', whiten=X0noise)"
   ]
  },
  {
   "cell_type": "code",
   "execution_count": null,
   "metadata": {},
   "outputs": [],
   "source": [
    "hist_bg_ML = bg.train_ML(X0noise, xval=xval, epochs=200, lr=0.001, batch_size=batchsize_ML, \n",
    "                         std=1.0, verbose=0, return_test_energies=True)"
   ]
  },
  {
   "cell_type": "code",
   "execution_count": null,
   "metadata": {},
   "outputs": [],
   "source": [
    "plt.plot(hist_bg_ML[0])\n",
    "plt.plot(hist_bg_ML[1])\n",
    "#plt.ylim(0, 100)"
   ]
  },
  {
   "cell_type": "code",
   "execution_count": null,
   "metadata": {},
   "outputs": [],
   "source": [
    "_, sample_x, _, energies_x, _ = bg.sample(nsample=20000)\n",
    "sample_d = model.dimer_distance(sample_x)\n",
    "plt.hist(sample_d[sample_d < 3], 100, log=True)\n",
    "plt.xlim(0, 3)"
   ]
  },
  {
   "cell_type": "markdown",
   "metadata": {},
   "source": [
    "Regular training\n",
    "-----"
   ]
  },
  {
   "cell_type": "code",
   "execution_count": null,
   "metadata": {},
   "outputs": [],
   "source": [
    "temperature=1.0"
   ]
  },
  {
   "cell_type": "code",
   "execution_count": null,
   "metadata": {},
   "outputs": [],
   "source": [
    "# initial training\n",
    "Eschedule = [[200,  0.00001, 1e6, 1e3,  0.0, 10.0],\n",
    "             [100,  0.0001, 1e6,  300,  0.0, 10.0],\n",
    "             [100,  0.0001, 1e5,  100,  0.0, 10.0],\n",
    "             [100,  0.0001, 5e4,   50,  0.0, 10.0],\n",
    "             [100,  0.0001, 5e4,   20,  0.0, 10.0],\n",
    "             [200,  0.0001, 5e4,    5,  0.0, 10.0]]"
   ]
  },
  {
   "cell_type": "code",
   "execution_count": null,
   "metadata": {
    "scrolled": true
   },
   "outputs": [],
   "source": [
    "hists_bg_KL = []\n",
    "for i, s in enumerate(Eschedule):\n",
    "    print(s)#'high_energy =', s[0], 'weight_ML =', s[1], 'epochs =', s[2])\n",
    "    sys.stdout.flush()\n",
    "    hist_bg_KL = bg.train_flexible(X0noise, xval=xval, epochs=s[0], lr=s[1], batch_size=batchsize_KL,\n",
    "                                   verbose=1, high_energy=s[2], max_energy=1e10,\n",
    "                                   weight_ML=s[3], weight_KL=1.0, temperature=temperature, weight_MC=0.0, weight_W2=s[4],\n",
    "                                   weight_RCEnt=s[5], rc_func=model.dimer_distance_tf, rc_min=0.5, rc_max=2.5,\n",
    "                                   std=1.0, reg_Jxz=0.0, return_test_energies=True)\n",
    "    hists_bg_KL.append(hist_bg_KL)"
   ]
  },
  {
   "cell_type": "code",
   "execution_count": null,
   "metadata": {},
   "outputs": [],
   "source": [
    "xeners = []\n",
    "zeners = []\n",
    "for h in hists_bg_KL:\n",
    "    xeners += h[3]\n",
    "    zeners += h[4]\n",
    "hist_bg_KL_combined = [hists_bg_KL[0][0], \n",
    "                       np.vstack([h[1] for h in hists_bg_KL]),\n",
    "                       np.vstack([h[2] for h in hists_bg_KL]),\n",
    "                       xeners, zeners]"
   ]
  },
  {
   "cell_type": "code",
   "execution_count": null,
   "metadata": {},
   "outputs": [],
   "source": [
    "def plot_convergence(hist_ML, hist_KL, enerx_cut, enerz_cut, MLcol=1, KLcol=2):\n",
    "    fig, axes = plt.subplots(nrows=3, ncols=1, figsize=(5, 10))\n",
    "    niter1 = len(hist_ML[0])\n",
    "    niter2 = hist_KL[1].shape[0]\n",
    "    niter = niter1 + niter2\n",
    "    # ML loss\n",
    "    losses_ML = np.concatenate([hist_ML[0], hist_KL[1][:, MLcol]])\n",
    "    xticks = np.arange(niter1 + niter2) + 1\n",
    "    axes[0].plot(xticks, losses_ML, color='black')\n",
    "    axes[0].set_xlim(0, niter + 1)\n",
    "    axes[0].set_ylabel('ML loss')\n",
    "    axes[0].axvline(x=200, color='red', linestyle='--', linewidth=3)\n",
    "    # KL loss\n",
    "    losses_KL = hist_KL[1][:, KLcol]\n",
    "    xticks = np.arange(niter1, niter1 + niter2) + 1\n",
    "    axes[1].plot(xticks, losses_KL, color='black')\n",
    "    axes[1].set_xlim(0, niter + 1)\n",
    "    axes[1].set_ylabel('KL loss')\n",
    "    axes[1].axvline(x=200, color='red', linestyle='--', linewidth=3)\n",
    "    # low energy fractions\n",
    "    enerx = hist_ML[2] + hist_KL[3]\n",
    "    enerz = hist_ML[3] + hist_KL[4]\n",
    "    lef_x = low_energy_fraction(enerx, enerx_cut)\n",
    "    lef_z = low_energy_fraction(enerz, enerz_cut)\n",
    "    axes[2].plot(lef_x, color='black', label='x')\n",
    "    axes[2].plot(lef_z, color='blue', label='z')\n",
    "    axes[2].set_xlim(0, niter + 1)\n",
    "    axes[2].set_ylim(0, 1.05)\n",
    "    axes[2].axvline(x=200, color='red', linestyle='--', linewidth=3)\n",
    "    axes[2].set_ylabel('Training iterations')\n",
    "    axes[2].set_ylabel('Low energy fraction')\n",
    "    axes[2].legend()\n",
    "    return fig, axes"
   ]
  },
  {
   "cell_type": "code",
   "execution_count": null,
   "metadata": {},
   "outputs": [],
   "source": [
    "def energy_cut_z(ndim, nstd=3):\n",
    "    z = np.random.randn(10000, ndim)\n",
    "    zener = 0.5 * np.sum(z**2, axis=1)\n",
    "    #return zener\n",
    "    std = np.sqrt(np.mean((zener - zener.mean())**2))\n",
    "    return zener.mean() + nstd*std"
   ]
  },
  {
   "cell_type": "code",
   "execution_count": null,
   "metadata": {},
   "outputs": [],
   "source": [
    "zener = energy_cut_z(model.dim, nstd=3)\n",
    "#plt.hist(zener, 100);"
   ]
  },
  {
   "cell_type": "code",
   "execution_count": null,
   "metadata": {},
   "outputs": [],
   "source": [
    "xcut = 80\n",
    "zcut = energy_cut_z(model.dim, nstd=3)\n",
    "print('zcut = ', zcut)\n",
    "#hist_bg_KL_arr = np.vstack([hist_bg_KL[1] for hist_bg_KL in hists_bg_KL])\n",
    "fig, axes = plot_convergence(hist_bg_ML, hist_bg_KL_combined, xcut, zcut, MLcol=1, KLcol=2);\n",
    "axes[1].semilogy()\n",
    "#plt.savefig(paper_dir + 'figs/particles/training_convergence.pdf', bbox_inches='tight', transparent=True)"
   ]
  },
  {
   "cell_type": "code",
   "execution_count": null,
   "metadata": {},
   "outputs": [],
   "source": [
    "_, sample_x, _, energies_x, _ = bg.sample(nsample=20000)\n",
    "sample_d = model.dimer_distance(sample_x)\n",
    "plt.hist(sample_d[sample_d < 3], 100, log=True)\n",
    "plt.xlim(0, 3)"
   ]
  },
  {
   "cell_type": "code",
   "execution_count": null,
   "metadata": {},
   "outputs": [],
   "source": [
    "plt.hist(energies_x[np.bitwise_and(energies_x<100, sample_d<1.5)], 100, color='yellow', density=True);\n",
    "plt.hist(energies_x[np.bitwise_and(energies_x<100, sample_d>1.5)], 100, color='green', density=True);\n",
    "plt.hist(model.energy(traj_open_train), 100, color='blue', alpha=0.5, density=True);\n",
    "plt.hist(model.energy(traj_closed_train), 100, color='red', alpha=0.5, density=True);"
   ]
  },
  {
   "cell_type": "code",
   "execution_count": null,
   "metadata": {},
   "outputs": [],
   "source": [
    "model.draw_config(sample_x[1], dimercolor='blue', alpha=0.8);"
   ]
  },
  {
   "cell_type": "code",
   "execution_count": null,
   "metadata": {
    "scrolled": true
   },
   "outputs": [],
   "source": [
    "# show minimum energy path\n",
    "Emin = 1e9\n",
    "bestpath = None\n",
    "for i in range(90):\n",
    "    for j in range(90):\n",
    "        path = latent_interpolation(bg, traj_closed_train[i*100], traj_open_train[j*100], nstep=9)\n",
    "        E = model.energy(path).max()\n",
    "        if E < Emin:\n",
    "            Emin = E\n",
    "            bestpath = path"
   ]
  },
  {
   "cell_type": "code",
   "execution_count": null,
   "metadata": {},
   "outputs": [],
   "source": [
    "# Compressed version for paper\n",
    "fig, axes = plt.subplots(nrows=3, ncols=2, figsize=(6.5, 10))\n",
    "model.draw_config(bestpath[0], axis=axes[0, 0], dimercolor='blue', alpha=0.8);\n",
    "model.draw_config(bestpath[2], axis=axes[1, 0], dimercolor='blue', alpha=0.8);\n",
    "model.draw_config(bestpath[3], axis=axes[2, 0], dimercolor='orange', alpha=0.8);\n",
    "model.draw_config(bestpath[4], axis=axes[2, 1], dimercolor='orange', alpha=0.8);\n",
    "model.draw_config(bestpath[5], axis=axes[1, 1], dimercolor='red', alpha=0.8);\n",
    "model.draw_config(bestpath[7], axis=axes[0, 1], dimercolor='red', alpha=0.8);\n",
    "plt.subplots_adjust(wspace=0.03, hspace=0.03)\n",
    "plt.savefig(paper_dir + 'figs/particles/interpolate.pdf', bbox_inches='tight')"
   ]
  },
  {
   "cell_type": "markdown",
   "metadata": {},
   "source": [
    "Free energy calculation\n",
    "--------\n",
    "For the paper, we run estimation at a series of different temperatures and obtain estimates of the free energy profile by averaging 10 models. Here, we only make estimates at one temperature and use a faster averaging approach that has higher statistical error: We take only one model and sample it multiple times while training it in the already converged stage. We still get slightly different estimates for different samples because of the stochasticity in SGD, but the estimates are not statistically independent and thus lead to higher uncertainties than averaging independent models."
   ]
  },
  {
   "cell_type": "code",
   "execution_count": null,
   "metadata": {},
   "outputs": [],
   "source": [
    "from deep_boltzmann.networks.training import FlexibleTrainer\n",
    "from deep_boltzmann.sampling.analysis import free_energy_bootstrap"
   ]
  },
  {
   "cell_type": "code",
   "execution_count": null,
   "metadata": {},
   "outputs": [],
   "source": [
    "s = Eschedule[-1]\n",
    "flexible_trainer = FlexibleTrainer(bg, lr=s[1], batch_size=batchsize_KL, high_energy=s[2], max_energy=1e10,\n",
    "                                   std=1.0, temperature=temperature, w_KL=1.0, w_ML=s[3], \n",
    "                                   w_RC=s[5], rc_func=model.dimer_distance_tf, rc_min=0.5, rc_max=2.5)"
   ]
  },
  {
   "cell_type": "code",
   "execution_count": null,
   "metadata": {},
   "outputs": [],
   "source": [
    "logws = []\n",
    "sample_ds = []"
   ]
  },
  {
   "cell_type": "code",
   "execution_count": null,
   "metadata": {
    "scrolled": true
   },
   "outputs": [],
   "source": [
    "for i in range(20):\n",
    "    print('\\nIter:',i)\n",
    "    # train a bit\n",
    "    flexible_trainer.train(X0noise, epochs=10, verbose=1)\n",
    "    # sample while training:\n",
    "    _, sample_x, _, energies_x, logw = bg.sample(nsample=100000)\n",
    "    logws.append(logw - logw.max())\n",
    "    sample_ds.append(model.dimer_distance(sample_x))"
   ]
  },
  {
   "cell_type": "code",
   "execution_count": null,
   "metadata": {},
   "outputs": [],
   "source": [
    "bin_means = None\n",
    "sample_Fs = []\n",
    "for sample_d, logw in zip(sample_ds, logws):\n",
    "    bin_means, sample_F = free_energy_bootstrap(sample_d, bins=100, range=(0.8, 2.2), log_weights=logw, \n",
    "                                                nbootstrap=1000, align_bins=np.arange(100))\n",
    "    sample_Fs.append(sample_F)"
   ]
  },
  {
   "cell_type": "code",
   "execution_count": null,
   "metadata": {},
   "outputs": [],
   "source": [
    "plt.errorbar(bin_means, np.mean(np.vstack(sample_Fs), axis=0), np.std(np.vstack(sample_Fs), axis=0), color='green')\n",
    "plt.errorbar(umbrella_positions, np.mean(umbrella_free_energies, axis=0)-1, np.std(umbrella_free_energies, axis=0),\n",
    "             linewidth=3, color='black')\n",
    "plt.ylim(-18, 15)"
   ]
  },
  {
   "cell_type": "markdown",
   "metadata": {},
   "source": [
    "Test invertibility\n",
    "------"
   ]
  },
  {
   "cell_type": "code",
   "execution_count": null,
   "metadata": {},
   "outputs": [],
   "source": [
    "# test invertibility\n",
    "z = np.random.randn(1000, bg.dim)\n",
    "x, Jzx = bg.transform_zxJ(z)\n",
    "zrec, Jxz = bg.transform_xzJ(x)\n",
    "\n",
    "# invertible?\n",
    "print(np.abs(z[:,:-6] - zrec[:,:-6]).max())\n",
    "\n",
    "# Jacobian consistent?\n",
    "print(np.abs(Jxz + Jzx).max())"
   ]
  },
  {
   "cell_type": "markdown",
   "metadata": {},
   "source": [
    "Display sampling\n",
    "------"
   ]
  },
  {
   "cell_type": "code",
   "execution_count": null,
   "metadata": {},
   "outputs": [],
   "source": [
    "_, sample_x, _, energies_x, _ = bg.sample(nsample=100000)"
   ]
  },
  {
   "cell_type": "code",
   "execution_count": null,
   "metadata": {},
   "outputs": [],
   "source": [
    "traj_closed_train_ener = model.energy(traj_closed_train)\n",
    "traj_open_train_ener = model.energy(traj_open_train)"
   ]
  },
  {
   "cell_type": "code",
   "execution_count": null,
   "metadata": {},
   "outputs": [],
   "source": [
    "I_closed = np.where(model.dimer_distance(sample_x) < 1.3)[0]\n",
    "energies_x_closed = energies_x[I_closed][energies_x[I_closed]<150]\n",
    "I_ts = np.where(np.logical_and(model.dimer_distance(sample_x) > 1.3, model.dimer_distance(sample_x) < 1.7))[0]\n",
    "energies_x_ts = energies_x[I_ts][energies_x[I_ts]<150]\n",
    "I_open = np.where(model.dimer_distance(sample_x) > 1.7)[0]\n",
    "energies_x_open = energies_x[I_open][energies_x[I_open]<150]\n",
    "\n",
    "fig, axes = plt.subplots(nrows=3, ncols=1, figsize=(4, 8), sharex=True)\n",
    "plt.subplots_adjust(wspace=0.03, hspace=0.03)\n",
    "\n",
    "axes[0].hist(traj_closed_train_ener, 100, color='black', histtype='step', linewidth=2, density=True);\n",
    "axes[0].hist(traj_closed_train_ener, 100, color='grey', alpha=0.5, density=True);\n",
    "axes[0].hist(energies_x_closed, 100, color='blue', histtype='step', linewidth=2, density=True);\n",
    "axes[0].hist(energies_x_closed, 100, color='blue', alpha=0.3, density=True);\n",
    "axes[0].set_yticks([])\n",
    "axes[0].set_ylim(0, 0.08)\n",
    "axes[0].set_xlim(20, 150)\n",
    "\n",
    "axes[1].hist(energies_x_ts, 100, color='orange', histtype='step', linewidth=2, density=True);\n",
    "axes[1].hist(energies_x_ts, 100, color='orange', alpha=0.3, density=True);\n",
    "axes[1].set_yticks([])\n",
    "axes[1].set_ylim(0, 0.08)\n",
    "axes[1].set_xlim(20, 150)\n",
    "\n",
    "axes[2].hist(traj_open_train_ener, 100, color='black', histtype='step', linewidth=2, density=True);\n",
    "axes[2].hist(traj_open_train_ener, 100, color='grey', alpha=0.5, density=True);\n",
    "axes[2].hist(energies_x_open, 100, color='red', histtype='step', linewidth=2, density=True);\n",
    "axes[2].hist(energies_x_open, 100, color='red', alpha=0.3, density=True);\n",
    "axes[2].set_yticks([])\n",
    "axes[2].set_xlim(20, 150)\n",
    "axes[2].set_ylim(0, 0.08)\n",
    "axes[2].set_xlabel('Energy / $kT_0$')\n",
    "plt.savefig(paper_dir + 'figs/particles/sampled_energies.pdf', transparent=True)"
   ]
  },
  {
   "cell_type": "markdown",
   "metadata": {},
   "source": [
    "Display free energy profiles obtained from model averaging\n",
    "-----"
   ]
  },
  {
   "cell_type": "code",
   "execution_count": null,
   "metadata": {},
   "outputs": [],
   "source": [
    "from deep_boltzmann.sampling.analysis import free_energy_bootstrap, mean_finite, std_finite\n",
    "from deep_boltzmann.util import load_obj, save_obj\n",
    "from deep_boltzmann.sampling.analysis import mean_finite, std_finite\n",
    "from deep_boltzmann.sampling.umbrella_sampling import UmbrellaSampling"
   ]
  },
  {
   "cell_type": "code",
   "execution_count": null,
   "metadata": {},
   "outputs": [],
   "source": [
    "# Umbrella sampling - reference\n",
    "us05 = UmbrellaSampling.load('../local/particles/US_old/us_T05_F.pkl')\n",
    "us10 = UmbrellaSampling.load('../local/particles/US_old/us_T10_F.pkl')\n",
    "us20 = UmbrellaSampling.load('../local/particles/US_old/us_T20_F.pkl')"
   ]
  },
  {
   "cell_type": "code",
   "execution_count": null,
   "metadata": {},
   "outputs": [],
   "source": [
    "umbrella_positions = us10.umbrella_positions\n",
    "pmf_us05 = us05.umbrella_free_energies()\n",
    "pmf_us10 = us10.umbrella_free_energies()\n",
    "pmf_us20 = us20.umbrella_free_energies()\n",
    "pmf_uss = [pmf_us05, pmf_us10, pmf_us20]"
   ]
  },
  {
   "cell_type": "code",
   "execution_count": null,
   "metadata": {},
   "outputs": [],
   "source": [
    "# run training + analysis scripts to get this file \n",
    "many_sampled_distances = load_obj('../local/particles/model_averaging_old/distances_sample.pkl')"
   ]
  },
  {
   "cell_type": "code",
   "execution_count": null,
   "metadata": {},
   "outputs": [],
   "source": [
    "many_sampled_distances.keys()"
   ]
  },
  {
   "cell_type": "code",
   "execution_count": null,
   "metadata": {},
   "outputs": [],
   "source": [
    "def mean_free_energy(Ds, Ws):\n",
    "    E = []\n",
    "    ndrop=0\n",
    "    for D, W in zip(Ds, Ws):\n",
    "        # sort by descending weight\n",
    "        I = np.argsort(W)[::-1]\n",
    "        D_sorted = D[I][ndrop:]\n",
    "        W_sorted = W[I][ndrop:]\n",
    "\n",
    "        bins = np.linspace(0.5, 2.5, 30)\n",
    "        bin_means = 0.5*(bins[:-1] + bins[1:])\n",
    "        hist, _ = np.histogram(D_sorted, bins=bins, weights=np.exp(W_sorted))\n",
    "        e = -np.log(hist)\n",
    "        e -= np.concatenate([e[3:10],e[-10:-3]]).mean()\n",
    "        E.append(e)\n",
    "    E = np.array(E)\n",
    "    return bin_means, mean_finite(E, axis=0, min_finite=2), std_finite(E, axis=0, min_finite=2)"
   ]
  },
  {
   "cell_type": "code",
   "execution_count": null,
   "metadata": {},
   "outputs": [],
   "source": [
    "def cut_energy(mE, cut=35.0):\n",
    "    mEmin = mE[np.isfinite(mE)].min()\n",
    "    mE = np.where(mE-mEmin < cut, mE, np.nan)\n",
    "    return mE"
   ]
  },
  {
   "cell_type": "code",
   "execution_count": null,
   "metadata": {},
   "outputs": [],
   "source": [
    "bm05, mE05, sE05 = mean_free_energy(many_sampled_distances['D05'], many_sampled_distances['W05'])\n",
    "mE05 = cut_energy(mE05, cut=35.0)\n",
    "bm10, mE10, sE10 = mean_free_energy(many_sampled_distances['D10'], many_sampled_distances['W10'])\n",
    "mE10 = cut_energy(mE10, cut=35.0)\n",
    "bm20, mE20, sE20 = mean_free_energy(many_sampled_distances['D20'], many_sampled_distances['W20'])\n",
    "mE20 = cut_energy(mE20, cut=35.0)"
   ]
  },
  {
   "cell_type": "code",
   "execution_count": null,
   "metadata": {},
   "outputs": [],
   "source": [
    "plt.figure(figsize=(5, 5))\n",
    "#plt.fill_between(bm, mE+20-1*sE, mE+20+1*sE, color='blue', alpha=0.3)\n",
    "plt.fill_between(bm05, mE05+20-1*sE05, mE05+20+1*sE05, color='#008800', alpha=0.5)\n",
    "plt.plot(us05.rc_discretization, us05.rc_free_energies+6.2, linewidth=4, color='black')\n",
    "plt.plot(bm05, mE05+20, color='#008800', linewidth=0, marker='.', markersize=12, markeredgewidth=1, markeredgecolor='black', label='0.5 $T_0$')\n",
    "\n",
    "plt.fill_between(bm10, mE10+8.5-1*sE10, mE10+8.5+1*sE10, color='#00BB00', alpha=0.5)\n",
    "plt.plot(us10.rc_discretization, us10.rc_free_energies+0.5, linewidth=4, color='black')\n",
    "plt.plot(bm10, mE10+8.5, color='#00BB00', linewidth=0, marker='.', markersize=12, markeredgewidth=1, markeredgecolor='black', label='1.0 $T_0$')\n",
    "\n",
    "#plt.errorbar(bm20, mE20, sE20, color='#33FF00', linewidth=0, marker='.', markersize=8, elinewidth=2, label='2.0')\n",
    "plt.fill_between(bm20, mE20-1*sE20, mE20+1*sE20, color='#00FF00', alpha=0.5)\n",
    "plt.plot(us20.rc_discretization, us20.rc_free_energies-5.2, linewidth=4, color='black')\n",
    "plt.plot(bm20, mE20, color='#00FF00', linewidth=0, marker='.', markersize=12, markeredgewidth=1, markeredgecolor='black', label='2.0 $T_0$')\n",
    "\n",
    "\n",
    "plt.legend(loc='upper left', ncol=1, frameon=False, handletextpad=0, labelspacing=0)\n",
    "plt.ylim(-10, 60)\n",
    "plt.xlabel('Dimer distance / nm')\n",
    "plt.ylabel('Free energy difference / $kT_0$', labelpad=-10)\n",
    "plt.savefig(paper_dir + 'figs/particles/free_energies_temp2.pdf', bbox_inches='tight', transparent=True)"
   ]
  },
  {
   "cell_type": "code",
   "execution_count": null,
   "metadata": {},
   "outputs": [],
   "source": []
  }
 ],
 "metadata": {
  "anaconda-cloud": {},
  "kernelspec": {
   "display_name": "Python 3",
   "language": "python",
   "name": "python3"
  },
  "language_info": {
   "codemirror_mode": {
    "name": "ipython",
    "version": 3
   },
   "file_extension": ".py",
   "mimetype": "text/x-python",
   "name": "python",
   "nbconvert_exporter": "python",
   "pygments_lexer": "ipython3",
   "version": "3.6.5"
  }
 },
 "nbformat": 4,
 "nbformat_minor": 2
}
