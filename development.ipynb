{
 "cells": [
  {
   "cell_type": "markdown",
   "metadata": {},
   "source": [
    "# Auxiliary"
   ]
  },
  {
   "cell_type": "code",
   "execution_count": 3,
   "metadata": {},
   "outputs": [],
   "source": [
    "import numpy as np\n",
    "import tensorflow as tf\n",
    "import keras\n",
    "\n",
    "import matplotlib.pyplot as plt\n",
    "%matplotlib inline"
   ]
  },
  {
   "cell_type": "code",
   "execution_count": 4,
   "metadata": {},
   "outputs": [
    {
     "name": "stdout",
     "output_type": "stream",
     "text": [
      "The autoreload extension is already loaded. To reload it, use:\n",
      "  %reload_ext autoreload\n"
     ]
    }
   ],
   "source": [
    "%load_ext autoreload\n",
    "%autoreload 2"
   ]
  },
  {
   "cell_type": "markdown",
   "metadata": {},
   "source": [
    "# Models"
   ]
  },
  {
   "cell_type": "code",
   "execution_count": 17,
   "metadata": {},
   "outputs": [],
   "source": [
    "from models.pbc import Box\n",
    "from models.lj import LJFluid"
   ]
  },
  {
   "cell_type": "code",
   "execution_count": 18,
   "metadata": {},
   "outputs": [
    {
     "data": {
      "text/plain": [
       "array([0.78192189, 1.13848679, 0.52768241])"
      ]
     },
     "execution_count": 18,
     "metadata": {},
     "output_type": "execute_result"
    }
   ],
   "source": [
    "b = Box((2, 2, 2))\n",
    "\n",
    "b.random_position()"
   ]
  },
  {
   "cell_type": "code",
   "execution_count": 19,
   "metadata": {},
   "outputs": [],
   "source": [
    "lj = LJFluid(80, 10, 2, init_try = 1000)"
   ]
  },
  {
   "cell_type": "code",
   "execution_count": 30,
   "metadata": {},
   "outputs": [
    {
     "data": {
      "text/plain": [
       "array([3.51820226, 0.37610608])"
      ]
     },
     "execution_count": 30,
     "metadata": {},
     "output_type": "execute_result"
    }
   ],
   "source": [
    "lj.x[15]"
   ]
  },
  {
   "cell_type": "code",
   "execution_count": 31,
   "metadata": {},
   "outputs": [
    {
     "data": {
      "text/plain": [
       "array([8.84292841, 7.20893836])"
      ]
     },
     "execution_count": 31,
     "metadata": {},
     "output_type": "execute_result"
    }
   ],
   "source": [
    "lj.displace(4)"
   ]
  },
  {
   "cell_type": "code",
   "execution_count": null,
   "metadata": {},
   "outputs": [],
   "source": []
  },
  {
   "cell_type": "code",
   "execution_count": null,
   "metadata": {},
   "outputs": [],
   "source": []
  },
  {
   "cell_type": "code",
   "execution_count": 12,
   "metadata": {},
   "outputs": [
    {
     "data": {
      "text/plain": [
       "array([-2.61964449, -2.34712822, 13.34122317, 13.86496977, 14.08696919,\n",
       "       -5.28252054,  1.07720931,  8.62612438,  3.09531404,  4.09119634,\n",
       "       12.57642155,  2.12732979, -3.2714487 ,  4.61709552, 14.61543389,\n",
       "       -4.50795206, -4.24757725,  4.53814406,  7.53218626, -0.80209616,\n",
       "        1.47065424, -3.86148935, -3.8520604 , -4.30246324,  1.93651684,\n",
       "        5.8449239 , 14.46537144, 17.150551  ,  7.13419918,  4.87210558,\n",
       "       12.29292797,  5.48804321, -3.42823861,  5.86195317,  9.22883523,\n",
       "       20.50597022,  4.78494951, -4.16708439, -3.32590251, 19.37078908,\n",
       "        5.86754317, -1.0478381 , -0.7440333 ,  5.33485574,  3.65345161,\n",
       "        0.24759049,  0.57896779,  6.37201759, -2.40142287,  3.2201012 ,\n",
       "        2.94012196,  1.13480179,  9.17978452,  8.79761729, -3.9052855 ,\n",
       "       -4.33446998, -4.43452608, 12.47616547, 11.80816754, 29.03757405,\n",
       "       16.18491169,  1.41815776, 12.6430462 ,  2.50739573,  5.45518754,\n",
       "       15.1451995 ,  0.36097214, 21.09625994,  2.54305309, 16.62355843,\n",
       "       -3.62774192,  6.17953554, -1.28798018, 25.26482534, 22.24883306,\n",
       "       -2.0402813 , 18.08373869,  1.77828994,  5.83566155, 26.67951499])"
      ]
     },
     "execution_count": 12,
     "metadata": {},
     "output_type": "execute_result"
    }
   ],
   "source": [
    "lj.eidx"
   ]
  },
  {
   "cell_type": "code",
   "execution_count": 11,
   "metadata": {},
   "outputs": [
    {
     "data": {
      "text/plain": [
       "<matplotlib.collections.PathCollection at 0x7fd048a432e8>"
      ]
     },
     "execution_count": 11,
     "metadata": {},
     "output_type": "execute_result"
    },
    {
     "data": {
      "image/png": "[encoded data removed]",
      "text/plain": [
       "<Figure size 432x288 with 1 Axes>"
      ]
     },
     "metadata": {
      "needs_background": "light"
     },
     "output_type": "display_data"
    }
   ],
   "source": [
    "plt.scatter(lj.x[:,0], lj.x[:,1], s = 350)"
   ]
  },
  {
   "cell_type": "code",
   "execution_count": null,
   "metadata": {},
   "outputs": [],
   "source": []
  },
  {
   "cell_type": "code",
   "execution_count": null,
   "metadata": {},
   "outputs": [],
   "source": []
  }
 ],
 "metadata": {
  "kernelspec": {
   "display_name": "Python [conda env:mlearn] *",
   "language": "python",
   "name": "conda-env-mlearn-py"
  },
  "language_info": {
   "codemirror_mode": {
    "name": "ipython",
    "version": 3
   },
   "file_extension": ".py",
   "mimetype": "text/x-python",
   "name": "python",
   "nbconvert_exporter": "python",
   "pygments_lexer": "ipython3",
   "version": "3.7.3"
  }
 },
 "nbformat": 4,
 "nbformat_minor": 2
}
