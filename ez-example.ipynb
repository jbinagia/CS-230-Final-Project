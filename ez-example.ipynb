{
 "cells": [
  {
   "cell_type": "markdown",
   "metadata": {},
   "source": [
    "# Imports and Packages"
   ]
  },
  {
   "cell_type": "code",
   "execution_count": 208,
   "metadata": {},
   "outputs": [
    {
     "name": "stdout",
     "output_type": "stream",
     "text": [
      "The autoreload extension is already loaded. To reload it, use:\n",
      "  %reload_ext autoreload\n"
     ]
    }
   ],
   "source": [
    "import numpy as np\n",
    "from scipy.stats import *\n",
    "from mpl_toolkits.mplot3d import Axes3D\n",
    "import matplotlib.pyplot as plt\n",
    "import project\n",
    "from project.utils import *\n",
    "%matplotlib inline\n",
    "%load_ext autoreload\n",
    "%autoreload 2"
   ]
  },
  {
   "cell_type": "markdown",
   "metadata": {},
   "source": [
    "## Trivial Model (two beads in a 1D box connected by a spring)"
   ]
  },
  {
   "cell_type": "markdown",
   "metadata": {},
   "source": [
    "The goal of this notebook is to construct a trivially \"easy\" system for which we can analytically solve for the latent space transformation (x to z) which maps the Boltzmann distribution in the coordinate space (x) to a Normal distribution in the latent space (z).\n",
    "\n",
    "Consider a system of two beads in a 1D box, with spatial coordinates x1 and x2. Let a spring with spring constant k and rest length zero connect the two beads. Also, for simplicity, let us confine bead #1 within some length L. The Hamiltonian for this system is:\n",
    "\n",
    "$$ H(x_1,x_2;k) = \n",
    "\\begin{cases}\n",
    "k\\,(x_2-x_1)^2 ~~&~~ \\text{if  } 0 \\leq x_1 \\leq L \\\\\n",
    "\\infty ~~&~~ \\text{otherwise}\n",
    "\\end{cases}$$"
   ]
  },
  {
   "cell_type": "code",
   "execution_count": 209,
   "metadata": {
    "collapsed": true
   },
   "outputs": [],
   "source": [
    "# Hamiltonian for System (deal with confinement by adjusting domain of x1, later)\n",
    "def H(x1,x2,k):\n",
    "    return (k*(x2-x1)**2)"
   ]
  },
  {
   "cell_type": "markdown",
   "metadata": {},
   "source": [
    "The equilibrium distribution of this trivial system is given by the Boltzmann distribution. Since this potential is easy, we can go ahead and normalize the distribution right away. \n",
    "\n",
    "$$\n",
    "Z = \\int_{-\\infty}^\\infty dx_2 \\int_0^L dx_1 \\, {\\rm exp} \\left( -k (x_2 - x_1)^2 \\right) \n",
    "  = \\sqrt{ \\frac{\\pi L^2}{k} }\n",
    "$$"
   ]
  },
  {
   "cell_type": "code",
   "execution_count": 210,
   "metadata": {
    "collapsed": true
   },
   "outputs": [],
   "source": [
    "# Boltzmann Distribution\n",
    "def boltzmann(E,L,k,beta=1):\n",
    "    return np.exp(-beta*E)/(np.sqrt(np.pi*L*L/k))"
   ]
  },
  {
   "cell_type": "markdown",
   "metadata": {},
   "source": [
    "Let's visualize the probability distribution in the x1-x2 space:"
   ]
  },
  {
   "cell_type": "code",
   "execution_count": 211,
   "metadata": {},
   "outputs": [
    {
     "data": {
      "text/plain": [
       "<matplotlib.colorbar.Colorbar at 0x7fb52d7548d0>"
      ]
     },
     "execution_count": 211,
     "metadata": {},
     "output_type": "execute_result"
    },
    {
     "data": {
      "image/png": "[encoded data removed]",
      "text/plain": [
       "<matplotlib.figure.Figure at 0x7fb4b27b8128>"
      ]
     },
     "metadata": {},
     "output_type": "display_data"
    }
   ],
   "source": [
    "# Domain \n",
    "k = 1\n",
    "L = 4\n",
    "n = 1001\n",
    "\n",
    "# x1 is constrained by 0 to L\n",
    "x1space = np.linspace(0+0.0000001,L-0.0000001,n)\n",
    "x2space = np.linspace(-5,L+5,n)\n",
    "X1,X2 = np.meshgrid(x1space,x2space)\n",
    "P = boltzmann(H(X1,X2,k),L,k)\n",
    "\n",
    "# Plot\n",
    "plt.figure(figsize=(5.4,5))\n",
    "plt.title('PDF in coordinate space')\n",
    "plt.xlabel('x1')\n",
    "plt.ylabel('x2')\n",
    "plt.ylim([-1,L+1])\n",
    "plt.contourf(X1,X2,P,15,cmap='copper')\n",
    "plt.colorbar()"
   ]
  },
  {
   "cell_type": "markdown",
   "metadata": {},
   "source": [
    "We would like to solve for a transformation from coordinate space (x1, x2) to latent space (z1, z2) such that the PDF in the latent space is a normal distribution.\n",
    "\n",
    "I obtain the following transformations when I solve (sorry I did this on paper -- Kevin):\n",
    "\n",
    "$$ \\begin{align*}\n",
    "z_1 &= \\Phi^{-1} \\left( \\frac{x_1}{L} \\right) \\\\\n",
    "z_2 &= \\sqrt{2k}\\,|\\,x_2-x_1|  \n",
    "\\end{align*} $$\n",
    "\n",
    "Above, $\\Phi$ is the inverse Gaussian cumulative distribution function."
   ]
  },
  {
   "cell_type": "code",
   "execution_count": 212,
   "metadata": {},
   "outputs": [],
   "source": [
    "# Transform coordinates\n",
    "Z1 = norm.ppf(X1/L)\n",
    "Z2 = np.sqrt(2.0*k)*(X2 - X1)"
   ]
  },
  {
   "cell_type": "markdown",
   "metadata": {},
   "source": [
    "Since the transformation above is not affine (non-linear), we need to reweight the probability distribution in latent space (z1, z2). This is accomplished by enforcing the following equality.\n",
    "\n",
    "$$ p({\\bf x})\\,d{\\bf x} = \\bar{p}({\\bf z})\\,d{\\bf z} $$\n",
    "\n",
    "Above, ${\\bf x} = (x_1,x_2)$ and ${\\bf z} = (z_1,z_2)$ are vector quantities."
   ]
  },
  {
   "cell_type": "markdown",
   "metadata": {},
   "source": [
    "To compute the transformed distribution in latent space, we need the Jacobian $d {\\bf z}/d {\\bf x}$.\n",
    "\n",
    "It is first helpful to differentiate the inverse Gaussian CDF.\n",
    "\n",
    "$$ \\begin{align*}\n",
    "\\frac{d \\Phi^{-1}(x)}{dx} \n",
    "&= \\left( \\frac{dx}{d\\,(\\Phi^{-1} (x))} \\right)^{-1} \n",
    " = \\left( \\frac{d\\,\\left[\\Phi(\\Phi^{-1} (x))\\right]}{d (\\Phi^{-1}(x))}\\right)^{-1} \\\\\n",
    "&= \\frac{1}{\\phi\\left( \\Phi^{-1}(x) \\right)}\n",
    "\\end{align*} $$ \n",
    "\n",
    "Above, $\\phi = \\Phi'$ is the Gaussian PDF.\n",
    "\n",
    "Using this result, the Jacobian matrix is:\n",
    "$$ J \\equiv \n",
    "\\begin{bmatrix}\n",
    "\\frac{\\partial z_1}{\\partial x_1} & \\frac{\\partial z_1}{\\partial x_2} \\\\\n",
    "\\frac{\\partial z_2}{\\partial x_1} & \\frac{\\partial z_2}{\\partial x_2}\n",
    "\\end{bmatrix} = \n",
    "\\begin{bmatrix}\n",
    "\\frac{1}{L\\,\\phi \\left( \\Phi^{-1} (x_1/L) \\right)} & 0 \\\\\n",
    "-\\sqrt{2k} & \\sqrt{2k} \n",
    "\\end{bmatrix}$$\n",
    "\n",
    "$$ \\text{det}(J) = \\frac{\\sqrt{2k}}{L\\,\\phi \\left( z_1 \\right)} $$\n",
    "\n",
    "Thus, we must rescale the probability distribution according to:\n",
    "\n",
    "$$ \\bar{p}({\\bf z}) = \\left( \\frac{L\\,\\phi \\left( z_1 \\right)}{\\sqrt{2k}} \\right) p({\\bf x})$$\n",
    "\n",
    "We visualize the latent space distribution below:"
   ]
  },
  {
   "cell_type": "code",
   "execution_count": 213,
   "metadata": {},
   "outputs": [
    {
     "data": {
      "image/png": "[encoded data removed]",
      "text/plain": [
       "<matplotlib.figure.Figure at 0x7fb5038fa438>"
      ]
     },
     "metadata": {},
     "output_type": "display_data"
    }
   ],
   "source": [
    "# Reweight the PDF\n",
    "PZ = P*L*(norm.pdf(Z1))/(np.sqrt(2.0*k))\n",
    "\n",
    "# 2D normal distribution for comparison\n",
    "G = np.exp(-0.5*(np.power(Z1,2)+np.power(Z2,2)))/(2.0*np.pi)\n",
    "\n",
    "# Visualize\n",
    "fig, (ax1,ax2) = plt.subplots(1,2, figsize=(12,5))\n",
    "\n",
    "ax1.set_title('PDF in latent space')\n",
    "ax1.set(xlabel='z1', ylabel='z2', xlim=[-stdevs,stdevs], ylim=[-stdevs,stdevs]) \n",
    "im = ax1.contourf(Z1,Z2,PZ,15,cmap='copper')\n",
    "fig.colorbar(im, ax=ax1);\n",
    "\n",
    "ax2.set_title('Normal Distribution in latent space')\n",
    "ax2.set(xlabel='z1', ylabel='z2', xlim=[-stdevs,stdevs], ylim=[-stdevs,stdevs])\n",
    "im = ax2.contourf(Z1,Z2,G,15,cmap='copper')\n",
    "fig.colorbar(im, ax=ax2);"
   ]
  },
  {
   "cell_type": "markdown",
   "metadata": {},
   "source": [
    "## Inversion (sample from latent space)"
   ]
  },
  {
   "cell_type": "markdown",
   "metadata": {},
   "source": [
    "Let's check to see that the reverse works too. The inverted transformation is defined by:\n",
    "\n",
    "$$ \\begin{align*}\n",
    "x_1 &= L \\, \\Phi (z_1) \\\\ \n",
    "x_2 &= L \\, \\Phi (z_1) + \\frac{z_2}{\\sqrt{2k}}\n",
    "\\end{align*} $$\n",
    "\n",
    "$$ p({\\bf x}) = \\left( \\frac{\\sqrt{2k}}{L\\,\\phi \\left( \\Phi^{-1} (x_1/L) \\right)} \\right) \\bar{p} ({\\bf z}) $$"
   ]
  },
  {
   "cell_type": "markdown",
   "metadata": {},
   "source": [
    "Let's use a uniformly spaced grid in the latent space to do the backwards conversion."
   ]
  },
  {
   "cell_type": "code",
   "execution_count": 228,
   "metadata": {},
   "outputs": [
    {
     "data": {
      "image/png": "[encoded data removed]",
      "text/plain": [
       "<matplotlib.figure.Figure at 0x7fb4724ae080>"
      ]
     },
     "metadata": {},
     "output_type": "display_data"
    }
   ],
   "source": [
    "# Make the grid\n",
    "stdevs = 10\n",
    "Z1inv, Z2inv = np.meshgrid( np.linspace(-stdevs,stdevs,n), np.linspace(-stdevs,stdevs,n))\n",
    "Ginv = np.exp(-0.5*(np.power(Z1inv,2)+np.power(Z2inv,2)))/(2.0*np.pi)\n",
    "\n",
    "# Invert the distribution\n",
    "X1inv = L*norm.cdf(Z1inv)\n",
    "X2inv = X1inv + Z2inv/(np.sqrt(2.0*k))\n",
    "Pinv  = (np.sqrt(2*k)/(L*norm.pdf(Z1inv)))*Ginv\n",
    "\n",
    "# Visualize\n",
    "fig, (ax1,ax2) = plt.subplots(1,2, figsize=(12,5))\n",
    "\n",
    "ax1.set_title('PDF in coordinate space')\n",
    "ax1.set(xlabel='x1', ylabel='x2', xlim=[0,L], ylim=[-5,L+5]) \n",
    "im = ax1.contourf(X1inv,X2inv,Pinv,15,cmap='copper')\n",
    "fig.colorbar(im, ax=ax1);\n",
    "\n",
    "ax2.set_title('Boltzmann distribution')\n",
    "ax2.set(xlabel='x1', ylabel='x2', xlim=[0,L], ylim=[-5,L+5])\n",
    "im = ax2.contourf(X1,X2,P,15,cmap='copper')\n",
    "fig.colorbar(im, ax=ax2);"
   ]
  },
  {
   "cell_type": "markdown",
   "metadata": {},
   "source": [
    "So some notes:\n",
    "\n",
    "The deep machine learning framework should theoretically learn the transformation between x and z defined above, since for this trivial example a perfect functional form exists. The network must be expressive enough to approximate the Gaussian CDF function, which is non-linear and non-analytical (requires an error function).\n",
    "\n",
    "So first - I would assume that in general such a transformation always exists. The intuition here is that we are preserving the dimension of the initial space. We can theoretically map each degree of freedom to an independent Gaussian, which can be combined to make a multivariate normal distribution with identity covariance. Mathematically then, one of the interesting parts of this transformation is fitting the covariance matrix. An identity covariance matrix indicates that no degrees of freedom can be removed. I suspect in the limit that L goes to infinity, or k goes to infinity, the fitting here cannot be accomplished without correlating the two variables in latent space. Said differently, if z1 = z2, then we know that there is only one true degree of freedom in the system. This suggests taht any analysis of the order parameter will revolve around the efficacy of fit to the covariance matrix. I haven't given the paper a close look, but if we set it as a hyperparameter we could learn a lot. \n",
    "\n",
    "Second, if you look at the math, the network could accomplish it's goal (zero loss) by learning a transformation to any rotation of z1 and z2. However, for this trivial example, this is the only rotation of z1 and z2 that makes intuitive sense. One latent coordinate represents the position of particle 1 (z1) and the other represents the bond distance (z2). Any pure rotation in z1 and z2 produces the same distribution, however, due to the rotational symmetry of the normal distribution (with identity covariance). Thus, we may *lose* information on learning, since we can no longer cleanly separate the two. It would be interesting if we could account for this somehow, i.e., how do we tell the network to look for an intuitive parameterization.\n",
    "\n",
    "tl;dr\n",
    "\n",
    "Let's run the methodology in the paper on this example.\n",
    "\n",
    "My intuition is that we should use the covariance matrix as a hyperparameter. It should give us physical insight into the systems we simulate, and we might be able to establish some metrics."
   ]
  },
  {
   "cell_type": "code",
   "execution_count": null,
   "metadata": {},
   "outputs": [],
   "source": []
  },
  {
   "cell_type": "code",
   "execution_count": null,
   "metadata": {
    "collapsed": true
   },
   "outputs": [],
   "source": []
  },
  {
   "cell_type": "code",
   "execution_count": null,
   "metadata": {
    "collapsed": true
   },
   "outputs": [],
   "source": []
  }
 ],
 "metadata": {
  "kernelspec": {
   "display_name": "Python 3",
   "language": "python",
   "name": "python3"
  },
  "language_info": {
   "codemirror_mode": {
    "name": "ipython",
    "version": 3
   },
   "file_extension": ".py",
   "mimetype": "text/x-python",
   "name": "python",
   "nbconvert_exporter": "python",
   "pygments_lexer": "ipython3",
   "version": "3.6.3"
  }
 },
 "nbformat": 4,
 "nbformat_minor": 2
}
