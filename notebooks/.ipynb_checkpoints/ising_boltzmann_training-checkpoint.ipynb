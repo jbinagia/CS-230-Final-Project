{
 "cells": [
  {
   "cell_type": "markdown",
   "metadata": {},
   "source": [
    "# To-do\n",
    "1. implement Boltzmann reweighting so expectation is properly calculated \n",
    "2. implement training by energy and KL loss (see description of training schedule below as well as section \"Adaptive sampling and training\" from Noe et al.) \n",
    "3. generalize energy functions (they need to expect PyTorch tensors instead of numpy arrays) "
   ]
  },
  {
   "cell_type": "markdown",
   "metadata": {},
   "source": [
    "# Setup"
   ]
  },
  {
   "cell_type": "code",
   "execution_count": 46,
   "metadata": {},
   "outputs": [
    {
     "name": "stdout",
     "output_type": "stream",
     "text": [
      "The autoreload extension is already loaded. To reload it, use:\n",
      "  %reload_ext autoreload\n"
     ]
    }
   ],
   "source": [
    "import os\n",
    "import sys\n",
    "sys.path.insert(0, os.path.join(os.getcwd(), \"..\"))\n",
    "\n",
    "import torch\n",
    "from torch import distributions\n",
    "from torch import nn\n",
    "from sklearn import datasets\n",
    "\n",
    "import numpy as np\n",
    "import matplotlib.pyplot as plt\n",
    "import plotly.graph_objects as go\n",
    "%matplotlib inline\n",
    "%load_ext autoreload\n",
    "%autoreload 2"
   ]
  },
  {
   "cell_type": "code",
   "execution_count": 47,
   "metadata": {},
   "outputs": [],
   "source": [
    "from project.models.ising import IsingModel\n",
    "import project.networks.net as net"
   ]
  },
  {
   "cell_type": "markdown",
   "metadata": {},
   "source": [
    "# Define Ising Model"
   ]
  },
  {
   "cell_type": "code",
   "execution_count": 48,
   "metadata": {},
   "outputs": [
    {
     "name": "stdout",
     "output_type": "stream",
     "text": [
      "CPU times: user 88 µs, sys: 1 µs, total: 89 µs\n",
      "Wall time: 91.8 µs\n"
     ]
    },
    {
     "data": {
      "text/plain": [
       "-6.4"
      ]
     },
     "execution_count": 48,
     "metadata": {},
     "output_type": "execute_result"
    },
    {
     "data": {
      "image/png": "[encoded data removed]",
      "text/plain": [
       "<Figure size 432x432 with 1 Axes>"
      ]
     },
     "metadata": {},
     "output_type": "display_data"
    }
   ],
   "source": [
    "h = 0.0\n",
    "J = 0.8\n",
    "T = 1.0\n",
    "N = 8\n",
    "\n",
    "ising = IsingModel(h = h, J = J)\n",
    "x0 = ising.init_coords(N)\n",
    "\n",
    "ising.draw_config(x0)\n",
    "%time ising.energy(x0) # energy of a given configuration "
   ]
  },
  {
   "cell_type": "markdown",
   "metadata": {},
   "source": [
    "## Create training set\n",
    "We'd like to have a $m$ x $N$ matrix containing our training data where $m$ is the number of realizations of the system and $N$ is the number of features (i.e. the flattened dimensions of the system). For example, a training set with 1000 samples of the Ising Model for $N=8$ would be of size (1000, 64). "
   ]
  },
  {
   "cell_type": "code",
   "execution_count": 49,
   "metadata": {},
   "outputs": [],
   "source": [
    "num_samples = 100 # Use 1000 at run-time as done in Noe et al. for the biwell potential \n",
    "flattened_size = N**2\n",
    "\n",
    "training_set = np.zeros((num_samples,flattened_size), dtype=np.float32)\n",
    "for i in range(num_samples):\n",
    "    training_set[i,:] = ising.init_coords(N).flatten() # generate random configuration \n",
    "training_set = torch.from_numpy(training_set) # convert to PyTorch tensor "
   ]
  },
  {
   "cell_type": "markdown",
   "metadata": {},
   "source": [
    "As an aside, note that although we flatten our configurations for training, the flattening procedure can easily be reversed via the `rehsape()` function: "
   ]
  },
  {
   "cell_type": "code",
   "execution_count": 50,
   "metadata": {
    "scrolled": true
   },
   "outputs": [
    {
     "data": {
      "text/plain": [
       "array([[-1, -1,  1, -1,  1,  1, -1, -1],\n",
       "       [ 1,  1,  1, -1, -1, -1, -1, -1],\n",
       "       [ 1,  1, -1,  1,  1, -1,  1, -1],\n",
       "       [ 1, -1, -1,  1,  1, -1, -1,  1],\n",
       "       [ 1, -1, -1, -1,  1,  1, -1,  1],\n",
       "       [-1,  1, -1, -1,  1,  1,  1, -1],\n",
       "       [-1, -1, -1, -1, -1, -1,  1, -1],\n",
       "       [-1,  1, -1,  1,  1, -1,  1, -1]])"
      ]
     },
     "execution_count": 50,
     "metadata": {},
     "output_type": "execute_result"
    }
   ],
   "source": [
    "np.array(x0)"
   ]
  },
  {
   "cell_type": "code",
   "execution_count": 51,
   "metadata": {},
   "outputs": [
    {
     "data": {
      "text/plain": [
       "array([[-1, -1,  1, -1,  1,  1, -1, -1],\n",
       "       [ 1,  1,  1, -1, -1, -1, -1, -1],\n",
       "       [ 1,  1, -1,  1,  1, -1,  1, -1],\n",
       "       [ 1, -1, -1,  1,  1, -1, -1,  1],\n",
       "       [ 1, -1, -1, -1,  1,  1, -1,  1],\n",
       "       [-1,  1, -1, -1,  1,  1,  1, -1],\n",
       "       [-1, -1, -1, -1, -1, -1,  1, -1],\n",
       "       [-1,  1, -1,  1,  1, -1,  1, -1]])"
      ]
     },
     "execution_count": 51,
     "metadata": {},
     "output_type": "execute_result"
    }
   ],
   "source": [
    "np.array(x0).flatten().reshape((N,N))"
   ]
  },
  {
   "cell_type": "markdown",
   "metadata": {},
   "source": [
    "# Boltzmann generator\n",
    "## Define network architecture \n",
    "In the following we use 3 hidden layers for the translation and scaling networks and a total of four stacked RealNVP blocks (as defined by `masks`). "
   ]
  },
  {
   "cell_type": "code",
   "execution_count": 52,
   "metadata": {},
   "outputs": [],
   "source": [
    "n_hidden = 100 # number of hidden layers\n",
    "nets = lambda: nn.Sequential(nn.Linear(N**2, n_hidden), nn.Tanh(), nn.Linear(n_hidden, n_hidden), nn.Tanh(), nn.Linear(n_hidden, N**2), nn.Tanh()) # net s\n",
    "nett = lambda: nn.Sequential(nn.Linear(N**2, n_hidden), nn.ReLU(), nn.Linear(n_hidden, n_hidden), nn.ReLU(), nn.Linear(n_hidden, N**2)) # net t\n",
    "\n",
    "first_mask = np.array(np.concatenate((np.ones(round(N**2/2)), np.zeros(round(N**2/2)))))\n",
    "masks_np = np.stack((first_mask, np.flip(first_mask),first_mask,np.flip(first_mask),first_mask, np.flip(first_mask),first_mask, np.flip(first_mask))) \n",
    "masks = torch.from_numpy(masks_np.astype(np.float32))\n",
    "\n",
    "prior = distributions.MultivariateNormal(torch.zeros(N**2), torch.eye(N**2))      # so we have a total of 3 neural blocks (see fig. 1 of boltzmann generators paper)\n",
    "network = net.RealNVP(nets, nett, masks, prior, ising, x0.shape)\n",
    "\n",
    "# network.system.energy(network.g(training_set)) # energy functions need to be rewritten with PyTorch tensors in mind"
   ]
  },
  {
   "cell_type": "markdown",
   "metadata": {},
   "source": [
    "## Train model \n",
    "The training schedule accordingly the main text of Noe et al. is as follows: \n",
    "- Begin with a buffer of 10,000 real space configurations \n",
    "- Train by example, minimizing $J_{ML}$, using a batch size of 128 for 20 iterations (JB: so not even one full epoch?)\n",
    "- Switch to batch size of 1000 and for each batch (iteration) we now perform a Metropolis Monte Carlo step in latent space for each sample in the given batch. \n",
    "\n",
    "### Train by example first\n",
    "Minimizing $J_{ML}$."
   ]
  },
  {
   "cell_type": "code",
   "execution_count": 53,
   "metadata": {},
   "outputs": [
    {
     "name": "stdout",
     "output_type": "stream",
     "text": [
      "iter 0: loss = 3.815\n",
      "iter 100: loss = -31.986\n",
      "iter 200: loss = -41.662\n"
     ]
    }
   ],
   "source": [
    "optimizer = torch.optim.Adam([p for p in network.parameters() if p.requires_grad==True], lr=1e-4)\n",
    "losses = []\n",
    "for t in range(300):    \n",
    "    loss = network.loss(batch = training_set, w_ml = 1.0, w_kl = 0.0)\n",
    "    losses.append(loss.item()) # save values for plotting later \n",
    "    \n",
    "    optimizer.zero_grad() # we need to set the gradients to zero before starting to do \n",
    "                          # backpropragation because PyTorch accumulates the gradients on \n",
    "                          # subsequent backward passes.\n",
    "    loss.backward(retain_graph=True)\n",
    "    optimizer.step()\n",
    "    \n",
    "    if t % 100 == 0:\n",
    "        print('iter %s:' % t, 'loss = %.3f' % loss)"
   ]
  },
  {
   "cell_type": "markdown",
   "metadata": {},
   "source": [
    "### Next train by both example and by energy \n",
    "Minimizing linear combination of $J_{ML}$ and $J_{KL}$."
   ]
  },
  {
   "cell_type": "code",
   "execution_count": 54,
   "metadata": {},
   "outputs": [
    {
     "name": "stdout",
     "output_type": "stream",
     "text": [
      "iter 0: loss = -51.279\n",
      "iter 100: loss = -61.141\n",
      "iter 200: loss = -71.120\n",
      "iter 300: loss = -76.973\n",
      "iter 400: loss = -80.332\n"
     ]
    }
   ],
   "source": [
    "optimizer = torch.optim.Adam([p for p in network.parameters() if p.requires_grad==True], lr=1e-4)\n",
    "for t in range(500):    \n",
    "    loss = network.loss(batch = training_set, w_ml = 1.0, w_kl = 1.0)\n",
    "    losses.append(loss.item())\n",
    "    \n",
    "    optimizer.zero_grad() # we need to set the gradients to zero before starting to do \n",
    "                          # backpropragation because PyTorch accumulates the gradients on \n",
    "                          # subsequent backward passes.\n",
    "    loss.backward(retain_graph=True)\n",
    "    optimizer.step()\n",
    "    \n",
    "    if t % 100 == 0:\n",
    "        print('iter %s:' % t, 'loss = %.3f' % loss)"
   ]
  },
  {
   "cell_type": "markdown",
   "metadata": {},
   "source": [
    "## Visualize results\n",
    "### View loss as a function of iteration steps\n",
    "Training should proceed until the loss approximately levels out. "
   ]
  },
  {
   "cell_type": "code",
   "execution_count": 55,
   "metadata": {},
   "outputs": [
    {
     "data": {
      "application/vnd.plotly.v1+json": {
       "config": {
        "plotlyServerURL": "https://plot.ly"
       },
       "data": [
        {
         "mode": "lines",
         "name": "lines",
         "type": "scatter",
         "x": [
          0,
          1,
          2,
          3,
          4,
          5,
          6,
          7,
          8,
          9,
          10,
          11,
          12,
          13,
          14,
          15,
          16,
          17,
          18,
          19,
          20,
          21,
          22,
          23,
          24,
          25,
          26,
          27,
          28,
          29,
          30,
          31,
          32,
          33,
          34,
          35,
          36,
          37,
          38,
          39,
          40,
          41,
          42,
          43,
          44,
          45,
          46,
          47,
          48,
          49,
          50,
          51,
          52,
          53,
          54,
          55,
          56,
          57,
          58,
          59,
          60,
          61,
          62,
          63,
          64,
          65,
          66,
          67,
          68,
          69,
          70,
          71,
          72,
          73,
          74,
          75,
          76,
          77,
          78,
          79,
          80,
          81,
          82,
          83,
          84,
          85,
          86,
          87,
          88,
          89,
          90,
          91,
          92,
          93,
          94,
          95,
          96,
          97,
          98,
          99,
          100,
          101,
          102,
          103,
          104,
          105,
          106,
          107,
          108,
          109,
          110,
          111,
          112,
          113,
          114,
          115,
          116,
          117,
          118,
          119,
          120,
          121,
          122,
          123,
          124,
          125,
          126,
          127,
          128,
          129,
          130,
          131,
          132,
          133,
          134,
          135,
          136,
          137,
          138,
          139,
          140,
          141,
          142,
          143,
          144,
          145,
          146,
          147,
          148,
          149,
          150,
          151,
          152,
          153,
          154,
          155,
          156,
          157,
          158,
          159,
          160,
          161,
          162,
          163,
          164,
          165,
          166,
          167,
          168,
          169,
          170,
          171,
          172,
          173,
          174,
          175,
          176,
          177,
          178,
          179,
          180,
          181,
          182,
          183,
          184,
          185,
          186,
          187,
          188,
          189,
          190,
          191,
          192,
          193,
          194,
          195,
          196,
          197,
          198,
          199,
          200,
          201,
          202,
          203,
          204,
          205,
          206,
          207,
          208,
          209,
          210,
          211,
          212,
          213,
          214,
          215,
          216,
          217,
          218,
          219,
          220,
          221,
          222,
          223,
          224,
          225,
          226,
          227,
          228,
          229,
          230,
          231,
          232,
          233,
          234,
          235,
          236,
          237,
          238,
          239,
          240,
          241,
          242,
          243,
          244,
          245,
          246,
          247,
          248,
          249,
          250,
          251,
          252,
          253,
          254,
          255,
          256,
          257,
          258,
          259,
          260,
          261,
          262,
          263,
          264,
          265,
          266,
          267,
          268,
          269,
          270,
          271,
          272,
          273,
          274,
          275,
          276,
          277,
          278,
          279,
          280,
          281,
          282,
          283,
          284,
          285,
          286,
          287,
          288,
          289,
          290,
          291,
          292,
          293,
          294,
          295,
          296,
          297,
          298,
          299,
          300,
          301,
          302,
          303,
          304,
          305,
          306,
          307,
          308,
          309,
          310,
          311,
          312,
          313,
          314,
          315,
          316,
          317,
          318,
          319,
          320,
          321,
          322,
          323,
          324,
          325,
          326,
          327,
          328,
          329,
          330,
          331,
          332,
          333,
          334,
          335,
          336,
          337,
          338,
          339,
          340,
          341,
          342,
          343,
          344,
          345,
          346,
          347,
          348,
          349,
          350,
          351,
          352,
          353,
          354,
          355,
          356,
          357,
          358,
          359,
          360,
          361,
          362,
          363,
          364,
          365,
          366,
          367,
          368,
          369,
          370,
          371,
          372,
          373,
          374,
          375,
          376,
          377,
          378,
          379,
          380,
          381,
          382,
          383,
          384,
          385,
          386,
          387,
          388,
          389,
          390,
          391,
          392,
          393,
          394,
          395,
          396,
          397,
          398,
          399,
          400,
          401,
          402,
          403,
          404,
          405,
          406,
          407,
          408,
          409,
          410,
          411,
          412,
          413,
          414,
          415,
          416,
          417,
          418,
          419,
          420,
          421,
          422,
          423,
          424,
          425,
          426,
          427,
          428,
          429,
          430,
          431,
          432,
          433,
          434,
          435,
          436,
          437,
          438,
          439,
          440,
          441,
          442,
          443,
          444,
          445,
          446,
          447,
          448,
          449,
          450,
          451,
          452,
          453,
          454,
          455,
          456,
          457,
          458,
          459,
          460,
          461,
          462,
          463,
          464,
          465,
          466,
          467,
          468,
          469,
          470,
          471,
          472,
          473,
          474,
          475,
          476,
          477,
          478,
          479,
          480,
          481,
          482,
          483,
          484,
          485,
          486,
          487,
          488,
          489,
          490,
          491,
          492,
          493,
          494,
          495,
          496,
          497,
          498,
          499,
          500,
          501,
          502,
          503,
          504,
          505,
          506,
          507,
          508,
          509,
          510,
          511,
          512,
          513,
          514,
          515,
          516,
          517,
          518,
          519,
          520,
          521,
          522,
          523,
          524,
          525,
          526,
          527,
          528,
          529,
          530,
          531,
          532,
          533,
          534,
          535,
          536,
          537,
          538,
          539,
          540,
          541,
          542,
          543,
          544,
          545,
          546,
          547,
          548,
          549,
          550,
          551,
          552,
          553,
          554,
          555,
          556,
          557,
          558,
          559,
          560,
          561,
          562,
          563,
          564,
          565,
          566,
          567,
          568,
          569,
          570,
          571,
          572,
          573,
          574,
          575,
          576,
          577,
          578,
          579,
          580,
          581,
          582,
          583,
          584,
          585,
          586,
          587,
          588,
          589,
          590,
          591,
          592,
          593,
          594,
          595,
          596,
          597,
          598,
          599,
          600,
          601,
          602,
          603,
          604,
          605,
          606,
          607,
          608,
          609,
          610,
          611,
          612,
          613,
          614,
          615,
          616,
          617,
          618,
          619,
          620,
          621,
          622,
          623,
          624,
          625,
          626,
          627,
          628,
          629,
          630,
          631,
          632,
          633,
          634,
          635,
          636,
          637,
          638,
          639,
          640,
          641,
          642,
          643,
          644,
          645,
          646,
          647,
          648,
          649,
          650,
          651,
          652,
          653,
          654,
          655,
          656,
          657,
          658,
          659,
          660,
          661,
          662,
          663,
          664,
          665,
          666,
          667,
          668,
          669,
          670,
          671,
          672,
          673,
          674,
          675,
          676,
          677,
          678,
          679,
          680,
          681,
          682,
          683,
          684,
          685,
          686,
          687,
          688,
          689,
          690,
          691,
          692,
          693,
          694,
          695,
          696,
          697,
          698,
          699,
          700,
          701,
          702,
          703,
          704,
          705,
          706,
          707,
          708,
          709,
          710,
          711,
          712,
          713,
          714,
          715,
          716,
          717,
          718,
          719,
          720,
          721,
          722,
          723,
          724,
          725,
          726,
          727,
          728,
          729,
          730,
          731,
          732,
          733,
          734,
          735,
          736,
          737,
          738,
          739,
          740,
          741,
          742,
          743,
          744,
          745,
          746,
          747,
          748,
          749,
          750,
          751,
          752,
          753,
          754,
          755,
          756,
          757,
          758,
          759,
          760,
          761,
          762,
          763,
          764,
          765,
          766,
          767,
          768,
          769,
          770,
          771,
          772,
          773,
          774,
          775,
          776,
          777,
          778,
          779,
          780,
          781,
          782,
          783,
          784,
          785,
          786,
          787,
          788,
          789,
          790,
          791,
          792,
          793,
          794,
          795,
          796,
          797,
          798,
          799
         ],
         "y": [
          3.815070152282715,
          3.619434118270874,
          3.423891067504883,
          3.2282660007476807,
          3.0323736667633057,
          2.8359689712524414,
          2.638819694519043,
          2.4406843185424805,
          2.2412874698638916,
          2.040348768234253,
          1.8375859260559082,
          1.6326943635940552,
          1.4253541231155396,
          1.2152669429779053,
          1.0020924806594849,
          0.7854908108711243,
          0.5651274919509888,
          0.3406609296798706,
          0.11172857880592346,
          -0.12208961695432663,
          -0.3612036108970642,
          -0.6059949398040771,
          -0.856901228427887,
          -1.1143629550933838,
          -1.378798484802246,
          -1.650679111480713,
          -1.9305118322372437,
          -2.218771457672119,
          -2.5159482955932617,
          -2.8225438594818115,
          -3.139115571975708,
          -3.4661920070648193,
          -3.8042914867401123,
          -4.153977870941162,
          -4.515845775604248,
          -4.890449047088623,
          -5.278282642364502,
          -5.679792881011963,
          -6.095430850982666,
          -6.52557373046875,
          -6.970627307891846,
          -7.431070327758789,
          -7.907052993774414,
          -8.398799896240234,
          -8.906198501586914,
          -9.429062843322754,
          -9.96713638305664,
          -10.5198974609375,
          -11.086833953857422,
          -11.667022705078125,
          -12.259278297424316,
          -12.862088203430176,
          -13.473984718322754,
          -14.0931978225708,
          -14.71728801727295,
          -15.343886375427246,
          -15.970166206359863,
          -16.593358993530273,
          -17.21052360534668,
          -17.818918228149414,
          -18.415952682495117,
          -18.999238967895508,
          -19.566753387451172,
          -20.116880416870117,
          -20.64874267578125,
          -21.161884307861328,
          -21.656513214111328,
          -22.13309097290039,
          -22.592731475830078,
          -23.037025451660156,
          -23.46772003173828,
          -23.886157989501953,
          -24.293638229370117,
          -24.691495895385742,
          -25.08037567138672,
          -25.46068572998047,
          -25.83245086669922,
          -26.195594787597656,
          -26.549772262573242,
          -26.894493103027344,
          -27.22927474975586,
          -27.553770065307617,
          -27.867271423339844,
          -28.16971206665039,
          -28.460851669311523,
          -28.741104125976562,
          -29.010791778564453,
          -29.2705020904541,
          -29.52082061767578,
          -29.762134552001953,
          -29.995054244995117,
          -30.220312118530273,
          -30.438491821289062,
          -30.6502628326416,
          -30.856027603149414,
          -31.056325912475586,
          -31.251455307006836,
          -31.441791534423828,
          -31.62761688232422,
          -31.808975219726562,
          -31.985889434814453,
          -32.15849685668945,
          -32.32688903808594,
          -32.49126434326172,
          -32.651756286621094,
          -32.808433532714844,
          -32.96147155761719,
          -33.110904693603516,
          -33.25700759887695,
          -33.40000915527344,
          -33.54008865356445,
          -33.67713928222656,
          -33.81135177612305,
          -33.94283676147461,
          -34.07185363769531,
          -34.19860076904297,
          -34.3231315612793,
          -34.445621490478516,
          -34.565975189208984,
          -34.684207916259766,
          -34.800594329833984,
          -34.915218353271484,
          -35.02826690673828,
          -35.13978576660156,
          -35.24984359741211,
          -35.358428955078125,
          -35.46559143066406,
          -35.57147979736328,
          -35.67622375488281,
          -35.77973556518555,
          -35.882118225097656,
          -35.98328399658203,
          -36.083309173583984,
          -36.182281494140625,
          -36.28029251098633,
          -36.37730407714844,
          -36.47341537475586,
          -36.56874084472656,
          -36.663204193115234,
          -36.756736755371094,
          -36.84933090209961,
          -36.94104766845703,
          -37.03199768066406,
          -37.12211227416992,
          -37.2114372253418,
          -37.3000373840332,
          -37.387916564941406,
          -37.47514724731445,
          -37.5616569519043,
          -37.6474723815918,
          -37.73258972167969,
          -37.8170051574707,
          -37.900978088378906,
          -37.98450469970703,
          -38.067481994628906,
          -38.150001525878906,
          -38.23204803466797,
          -38.313602447509766,
          -38.3946647644043,
          -38.47532653808594,
          -38.5556755065918,
          -38.63577651977539,
          -38.71555709838867,
          -38.795074462890625,
          -38.874263763427734,
          -38.9532356262207,
          -39.032012939453125,
          -39.110477447509766,
          -39.18863296508789,
          -39.266632080078125,
          -39.34443664550781,
          -39.422115325927734,
          -39.49962615966797,
          -39.57693862915039,
          -39.654151916503906,
          -39.73127365112305,
          -39.808284759521484,
          -39.885250091552734,
          -39.96222686767578,
          -40.039180755615234,
          -40.116092681884766,
          -40.193016052246094,
          -40.26985168457031,
          -40.34660720825195,
          -40.423431396484375,
          -40.500240325927734,
          -40.577064514160156,
          -40.65399169921875,
          -40.7309684753418,
          -40.807979583740234,
          -40.885013580322266,
          -40.962188720703125,
          -41.039451599121094,
          -41.11683654785156,
          -41.19417953491211,
          -41.271610260009766,
          -41.349239349365234,
          -41.427024841308594,
          -41.504981994628906,
          -41.58317565917969,
          -41.66151428222656,
          -41.740081787109375,
          -41.818817138671875,
          -41.897735595703125,
          -41.97685623168945,
          -42.05622100830078,
          -42.135799407958984,
          -42.215579986572266,
          -42.29556655883789,
          -42.3757438659668,
          -42.456092834472656,
          -42.53663635253906,
          -42.617366790771484,
          -42.6983528137207,
          -42.779571533203125,
          -42.861045837402344,
          -42.942779541015625,
          -43.02485275268555,
          -43.10722732543945,
          -43.18985366821289,
          -43.27280807495117,
          -43.355979919433594,
          -43.4394416809082,
          -43.52317428588867,
          -43.6071891784668,
          -43.691551208496094,
          -43.776187896728516,
          -43.86113357543945,
          -43.9464111328125,
          -44.03205108642578,
          -44.11796951293945,
          -44.204227447509766,
          -44.29082107543945,
          -44.377769470214844,
          -44.46505355834961,
          -44.55271911621094,
          -44.640926361083984,
          -44.729454040527344,
          -44.81842803955078,
          -44.907859802246094,
          -44.99769592285156,
          -45.0878791809082,
          -45.1784553527832,
          -45.26942443847656,
          -45.360870361328125,
          -45.45273971557617,
          -45.5450553894043,
          -45.637794494628906,
          -45.731014251708984,
          -45.824615478515625,
          -45.9185905456543,
          -46.01304626464844,
          -46.107913970947266,
          -46.20319747924805,
          -46.298892974853516,
          -46.395145416259766,
          -46.491912841796875,
          -46.58909225463867,
          -46.68672180175781,
          -46.78474426269531,
          -46.88331604003906,
          -46.982303619384766,
          -47.081748962402344,
          -47.18168640136719,
          -47.282283782958984,
          -47.383426666259766,
          -47.48507308959961,
          -47.58722686767578,
          -47.68992233276367,
          -47.793121337890625,
          -47.896854400634766,
          -48.00113296508789,
          -48.10590744018555,
          -48.211246490478516,
          -48.317138671875,
          -48.42359924316406,
          -48.530696868896484,
          -48.63829040527344,
          -48.7463493347168,
          -48.85499954223633,
          -48.964202880859375,
          -49.074066162109375,
          -49.18446350097656,
          -49.29557800292969,
          -49.40730285644531,
          -49.519622802734375,
          -49.63253402709961,
          -49.746280670166016,
          -49.86048889160156,
          -49.97520446777344,
          -50.090572357177734,
          -50.20656204223633,
          -50.3232421875,
          -50.44036102294922,
          -50.558067321777344,
          -50.67643737792969,
          -50.795597076416016,
          -50.915626525878906,
          -51.03623962402344,
          -51.15726089477539,
          -51.279197692871094,
          -51.37098693847656,
          -51.351417541503906,
          -51.539310455322266,
          -51.538150787353516,
          -51.65316390991211,
          -51.75019073486328,
          -51.781837463378906,
          -51.8703498840332,
          -51.97087097167969,
          -52.02333068847656,
          -52.08806610107422,
          -52.18568420410156,
          -52.2634162902832,
          -52.322265625,
          -52.4047966003418,
          -52.49456024169922,
          -52.5644416809082,
          -52.63749694824219,
          -52.72593688964844,
          -52.806495666503906,
          -52.87972640991211,
          -52.964508056640625,
          -53.05034255981445,
          -53.12728500366211,
          -53.21062469482422,
          -53.29795837402344,
          -53.378475189208984,
          -53.46268081665039,
          -53.551307678222656,
          -53.634521484375,
          -53.720558166503906,
          -53.809940338134766,
          -53.895450592041016,
          -53.98406219482422,
          -54.074275970458984,
          -54.16168975830078,
          -54.2529182434082,
          -54.343631744384766,
          -54.434146881103516,
          -54.52727127075195,
          -54.61875534057617,
          -54.7127799987793,
          -54.80635070800781,
          -54.900821685791016,
          -54.99620056152344,
          -55.09148025512695,
          -55.188377380371094,
          -55.28489303588867,
          -55.383026123046875,
          -55.481040954589844,
          -55.58034133911133,
          -55.67961502075195,
          -55.78007888793945,
          -55.88080978393555,
          -55.98244094848633,
          -56.084571838378906,
          -56.18722152709961,
          -56.29082107543945,
          -56.39488220214844,
          -56.49970245361328,
          -56.605159759521484,
          -56.71120071411133,
          -56.818050384521484,
          -56.925418853759766,
          -57.03330612182617,
          -57.141963958740234,
          -57.25143051147461,
          -57.361454010009766,
          -57.472225189208984,
          -57.583621978759766,
          -57.69563293457031,
          -57.80826187133789,
          -57.921573638916016,
          -58.03541564941406,
          -58.15009689331055,
          -58.26515197753906,
          -58.380855560302734,
          -58.4970817565918,
          -58.6140022277832,
          -58.731258392333984,
          -58.849708557128906,
          -58.96890640258789,
          -59.08815383911133,
          -59.20777893066406,
          -59.32794952392578,
          -59.44906234741211,
          -59.57075500488281,
          -59.69266128540039,
          -59.813961029052734,
          -59.935001373291016,
          -60.055301666259766,
          -60.17274856567383,
          -60.291709899902344,
          -60.414894104003906,
          -60.54277420043945,
          -60.668739318847656,
          -60.79188919067383,
          -60.910213470458984,
          -61.02491760253906,
          -61.14128112792969,
          -61.259803771972656,
          -61.385005950927734,
          -61.512657165527344,
          -61.637725830078125,
          -61.754798889160156,
          -61.868045806884766,
          -61.9823112487793,
          -62.09537124633789,
          -62.21613311767578,
          -62.342193603515625,
          -62.467872619628906,
          -62.587608337402344,
          -62.70354080200195,
          -62.81666946411133,
          -62.924072265625,
          -63.03163146972656,
          -63.139102935791016,
          -63.26298904418945,
          -63.394264221191406,
          -63.518497467041016,
          -63.62679672241211,
          -63.726810455322266,
          -63.83161544799805,
          -63.943233489990234,
          -64.07118225097656,
          -64.19414520263672,
          -64.30475616455078,
          -64.40814208984375,
          -64.50823974609375,
          -64.61007690429688,
          -64.71678924560547,
          -64.83906555175781,
          -64.95964050292969,
          -65.0750503540039,
          -65.18388366699219,
          -65.28404235839844,
          -65.37835693359375,
          -65.46546173095703,
          -65.5621337890625,
          -65.66515350341797,
          -65.80126190185547,
          -65.9277114868164,
          -66.0263671875,
          -66.11133575439453,
          -66.1957778930664,
          -66.29945373535156,
          -66.41600799560547,
          -66.53829956054688,
          -66.6414794921875,
          -66.73085021972656,
          -66.81842803955078,
          -66.89807891845703,
          -66.99307250976562,
          -67.09977722167969,
          -67.21974182128906,
          -67.32917785644531,
          -67.43148803710938,
          -67.5185775756836,
          -67.59552001953125,
          -67.6810531616211,
          -67.75660705566406,
          -67.8518295288086,
          -67.9612045288086,
          -68.08503723144531,
          -68.18526458740234,
          -68.27510070800781,
          -68.353515625,
          -68.4188232421875,
          -68.49825286865234,
          -68.5793685913086,
          -68.69457244873047,
          -68.80706787109375,
          -68.90879821777344,
          -68.99765014648438,
          -69.07669830322266,
          -69.14482116699219,
          -69.20414733886719,
          -69.28304290771484,
          -69.35139465332031,
          -69.4634017944336,
          -69.58202362060547,
          -69.68608093261719,
          -69.76738739013672,
          -69.83595275878906,
          -69.89595031738281,
          -69.94641876220703,
          -70.03145599365234,
          -70.11737060546875,
          -70.23175048828125,
          -70.33997344970703,
          -70.42501831054688,
          -70.49099731445312,
          -70.54884338378906,
          -70.60458374023438,
          -70.6472396850586,
          -70.73593139648438,
          -70.83334350585938,
          -70.9474105834961,
          -71.04547882080078,
          -71.12017822265625,
          -71.17607116699219,
          -71.22489929199219,
          -71.28031921386719,
          -71.3284683227539,
          -71.42686462402344,
          -71.53406524658203,
          -71.63461303710938,
          -71.7155990600586,
          -71.7827377319336,
          -71.83944702148438,
          -71.88214874267578,
          -71.93152618408203,
          -71.96573638916016,
          -72.0534896850586,
          -72.14730834960938,
          -72.25466918945312,
          -72.34272766113281,
          -72.4242935180664,
          -72.4770278930664,
          -72.50768280029297,
          -72.5556411743164,
          -72.5940170288086,
          -72.66738891601562,
          -72.74456787109375,
          -72.86471557617188,
          -72.95919799804688,
          -73.02851867675781,
          -73.07323455810547,
          -73.10115051269531,
          -73.1508560180664,
          -73.1861572265625,
          -73.25277709960938,
          -73.32833099365234,
          -73.45098114013672,
          -73.53990936279297,
          -73.59729766845703,
          -73.65026092529297,
          -73.6921157836914,
          -73.73641204833984,
          -73.75476837158203,
          -73.79965209960938,
          -73.82821655273438,
          -73.9455795288086,
          -74.02484130859375,
          -74.12361145019531,
          -74.21530151367188,
          -74.26057434082031,
          -74.28764343261719,
          -74.3154067993164,
          -74.35814666748047,
          -74.37649536132812,
          -74.46267700195312,
          -74.53042602539062,
          -74.64250183105469,
          -74.72860717773438,
          -74.77903747558594,
          -74.8266830444336,
          -74.8683090209961,
          -74.88957214355469,
          -74.89295959472656,
          -74.94005584716797,
          -74.95014953613281,
          -75.04792022705078,
          -75.1399154663086,
          -75.24849700927734,
          -75.329345703125,
          -75.38455200195312,
          -75.40011596679688,
          -75.40003967285156,
          -75.44678497314453,
          -75.47325897216797,
          -75.56941223144531,
          -75.65213012695312,
          -75.72740936279297,
          -75.79297637939453,
          -75.85829162597656,
          -75.89627075195312,
          -75.91854858398438,
          -75.94442749023438,
          -75.93327331542969,
          -75.94966125488281,
          -75.918701171875,
          -75.98155212402344,
          -76.03083801269531,
          -76.24992370605469,
          -76.34767150878906,
          -76.33003997802734,
          -76.32706451416016,
          -76.32805633544922,
          -76.45716094970703,
          -76.52931213378906,
          -76.58830261230469,
          -76.6611099243164,
          -76.67906951904297,
          -76.69573974609375,
          -76.72928619384766,
          -76.8193588256836,
          -76.87908935546875,
          -76.9301528930664,
          -76.97321319580078,
          -77.03655242919922,
          -77.0953140258789,
          -77.12078094482422,
          -77.1516342163086,
          -77.19476318359375,
          -77.21597290039062,
          -77.15644836425781,
          -77.05061340332031,
          -76.7588882446289,
          -76.94203186035156,
          -77.16542053222656,
          -77.49793243408203,
          -77.40987396240234,
          -77.17970275878906,
          -77.48417663574219,
          -77.67072296142578,
          -77.5781021118164,
          -77.58029174804688,
          -77.6955795288086,
          -77.81082153320312,
          -77.8073959350586,
          -77.78788757324219,
          -77.88623809814453,
          -77.95845031738281,
          -77.992919921875,
          -78.0040054321289,
          -78.0180435180664,
          -78.12336730957031,
          -78.1843032836914,
          -78.18621826171875,
          -78.2116928100586,
          -78.26162719726562,
          -78.3376693725586,
          -78.37861633300781,
          -78.38965606689453,
          -78.433837890625,
          -78.4834213256836,
          -78.5170669555664,
          -78.53134155273438,
          -78.57398986816406,
          -78.62527465820312,
          -78.67547607421875,
          -78.70470428466797,
          -78.73423767089844,
          -78.75464630126953,
          -78.78912353515625,
          -78.79780578613281,
          -78.79596710205078,
          -78.7058334350586,
          -78.7233657836914,
          -78.67882537841797,
          -78.84477233886719,
          -78.93061828613281,
          -79.0718002319336,
          -79.13912963867188,
          -79.12821197509766,
          -79.1002426147461,
          -79.06709289550781,
          -79.20496368408203,
          -79.3167953491211,
          -79.36393737792969,
          -79.35977172851562,
          -79.36862182617188,
          -79.4203109741211,
          -79.41321563720703,
          -79.42417907714844,
          -79.43897247314453,
          -79.55015563964844,
          -79.58936309814453,
          -79.63379669189453,
          -79.6757583618164,
          -79.74540710449219,
          -79.78547668457031,
          -79.81414794921875,
          -79.843505859375,
          -79.86763763427734,
          -79.90951538085938,
          -79.93244934082031,
          -79.92664337158203,
          -79.81597900390625,
          -79.69197082519531,
          -79.27238464355469,
          -79.3844985961914,
          -79.42298126220703,
          -80.1078872680664,
          -79.99919891357422,
          -79.51639556884766,
          -79.96774291992188,
          -79.98131561279297,
          -80.00981140136719,
          -79.94912719726562,
          -79.74205017089844,
          -80.2806625366211,
          -79.84121704101562,
          -79.8342056274414,
          -80.05598449707031,
          -80.25980377197266,
          -80.0116195678711,
          -80.38020324707031,
          -80.33242797851562,
          -80.3203353881836,
          -80.32378387451172,
          -80.3836441040039,
          -80.52387237548828,
          -80.36414337158203,
          -80.50335693359375,
          -80.67017364501953,
          -80.48175048828125,
          -80.59828186035156,
          -80.636474609375,
          -80.70738983154297,
          -80.76937866210938,
          -80.73322296142578,
          -80.8581771850586,
          -80.90259552001953,
          -80.8609848022461,
          -80.95748901367188,
          -80.93160247802734,
          -81.04704284667969,
          -81.02973937988281,
          -81.06501007080078,
          -81.1140365600586,
          -81.14237213134766,
          -81.17059326171875,
          -81.20109558105469,
          -81.20964813232422,
          -81.25881958007812,
          -81.2860336303711,
          -81.30477905273438,
          -81.34696197509766,
          -81.3460464477539,
          -81.38561248779297,
          -81.41183471679688,
          -81.4451904296875,
          -81.46929931640625,
          -81.51153564453125,
          -81.5239486694336,
          -81.55377960205078,
          -81.58448028564453,
          -81.59849548339844,
          -81.62559509277344,
          -81.6438980102539,
          -81.66053771972656,
          -81.66304779052734,
          -81.64143371582031,
          -81.61780548095703,
          -81.50708770751953,
          -81.48197937011719,
          -81.36885070800781,
          -81.5798568725586,
          -81.73039245605469,
          -81.89645385742188,
          -81.87993621826172,
          -81.81037139892578,
          -81.7364501953125,
          -81.71761322021484,
          -81.88709259033203,
          -81.99547576904297,
          -82.05799102783203,
          -81.97953796386719,
          -81.93093872070312,
          -81.95138549804688,
          -82.00639343261719,
          -82.1532211303711,
          -82.17357635498047,
          -82.19808959960938,
          -82.12074279785156,
          -82.09427642822266,
          -82.15315246582031,
          -82.18303680419922,
          -82.33526611328125,
          -82.3271484375,
          -82.36348724365234,
          -82.2794418334961,
          -82.2217788696289,
          -82.27330017089844,
          -82.25397491455078,
          -82.46652221679688,
          -82.45348358154297,
          -82.53197479248047,
          -82.41510009765625,
          -82.34308624267578,
          -82.38168334960938,
          -82.30915069580078,
          -82.60334777832031,
          -82.55033111572266,
          -82.64832305908203,
          -82.40530395507812,
          -82.29449462890625,
          -82.41372680664062,
          -82.4283676147461,
          -82.77808380126953,
          -82.4964828491211,
          -82.46570587158203,
          -82.20576477050781,
          -82.51818084716797,
          -82.66970825195312,
          -82.79025268554688,
          -82.70353698730469
         ]
        }
       ],
       "layout": {
        "template": {
         "data": {
          "bar": [
           {
            "error_x": {
             "color": "#2a3f5f"
            },
            "error_y": {
             "color": "#2a3f5f"
            },
            "marker": {
             "line": {
              "color": "#E5ECF6",
              "width": 0.5
             }
            },
            "type": "bar"
           }
          ],
          "barpolar": [
           {
            "marker": {
             "line": {
              "color": "#E5ECF6",
              "width": 0.5
             }
            },
            "type": "barpolar"
           }
          ],
          "carpet": [
           {
            "aaxis": {
             "endlinecolor": "#2a3f5f",
             "gridcolor": "white",
             "linecolor": "white",
             "minorgridcolor": "white",
             "startlinecolor": "#2a3f5f"
            },
            "baxis": {
             "endlinecolor": "#2a3f5f",
             "gridcolor": "white",
             "linecolor": "white",
             "minorgridcolor": "white",
             "startlinecolor": "#2a3f5f"
            },
            "type": "carpet"
           }
          ],
          "choropleth": [
           {
            "colorbar": {
             "outlinewidth": 0,
             "ticks": ""
            },
            "type": "choropleth"
           }
          ],
          "contour": [
           {
            "colorbar": {
             "outlinewidth": 0,
             "ticks": ""
            },
            "colorscale": [
             [
              0,
              "#0d0887"
             ],
             [
              0.1111111111111111,
              "#46039f"
             ],
             [
              0.2222222222222222,
              "#7201a8"
             ],
             [
              0.3333333333333333,
              "#9c179e"
             ],
             [
              0.4444444444444444,
              "#bd3786"
             ],
             [
              0.5555555555555556,
              "#d8576b"
             ],
             [
              0.6666666666666666,
              "#ed7953"
             ],
             [
              0.7777777777777778,
              "#fb9f3a"
             ],
             [
              0.8888888888888888,
              "#fdca26"
             ],
             [
              1,
              "#f0f921"
             ]
            ],
            "type": "contour"
           }
          ],
          "contourcarpet": [
           {
            "colorbar": {
             "outlinewidth": 0,
             "ticks": ""
            },
            "type": "contourcarpet"
           }
          ],
          "heatmap": [
           {
            "colorbar": {
             "outlinewidth": 0,
             "ticks": ""
            },
            "colorscale": [
             [
              0,
              "#0d0887"
             ],
             [
              0.1111111111111111,
              "#46039f"
             ],
             [
              0.2222222222222222,
              "#7201a8"
             ],
             [
              0.3333333333333333,
              "#9c179e"
             ],
             [
              0.4444444444444444,
              "#bd3786"
             ],
             [
              0.5555555555555556,
              "#d8576b"
             ],
             [
              0.6666666666666666,
              "#ed7953"
             ],
             [
              0.7777777777777778,
              "#fb9f3a"
             ],
             [
              0.8888888888888888,
              "#fdca26"
             ],
             [
              1,
              "#f0f921"
             ]
            ],
            "type": "heatmap"
           }
          ],
          "heatmapgl": [
           {
            "colorbar": {
             "outlinewidth": 0,
             "ticks": ""
            },
            "colorscale": [
             [
              0,
              "#0d0887"
             ],
             [
              0.1111111111111111,
              "#46039f"
             ],
             [
              0.2222222222222222,
              "#7201a8"
             ],
             [
              0.3333333333333333,
              "#9c179e"
             ],
             [
              0.4444444444444444,
              "#bd3786"
             ],
             [
              0.5555555555555556,
              "#d8576b"
             ],
             [
              0.6666666666666666,
              "#ed7953"
             ],
             [
              0.7777777777777778,
              "#fb9f3a"
             ],
             [
              0.8888888888888888,
              "#fdca26"
             ],
             [
              1,
              "#f0f921"
             ]
            ],
            "type": "heatmapgl"
           }
          ],
          "histogram": [
           {
            "marker": {
             "colorbar": {
              "outlinewidth": 0,
              "ticks": ""
             }
            },
            "type": "histogram"
           }
          ],
          "histogram2d": [
           {
            "colorbar": {
             "outlinewidth": 0,
             "ticks": ""
            },
            "colorscale": [
             [
              0,
              "#0d0887"
             ],
             [
              0.1111111111111111,
              "#46039f"
             ],
             [
              0.2222222222222222,
              "#7201a8"
             ],
             [
              0.3333333333333333,
              "#9c179e"
             ],
             [
              0.4444444444444444,
              "#bd3786"
             ],
             [
              0.5555555555555556,
              "#d8576b"
             ],
             [
              0.6666666666666666,
              "#ed7953"
             ],
             [
              0.7777777777777778,
              "#fb9f3a"
             ],
             [
              0.8888888888888888,
              "#fdca26"
             ],
             [
              1,
              "#f0f921"
             ]
            ],
            "type": "histogram2d"
           }
          ],
          "histogram2dcontour": [
           {
            "colorbar": {
             "outlinewidth": 0,
             "ticks": ""
            },
            "colorscale": [
             [
              0,
              "#0d0887"
             ],
             [
              0.1111111111111111,
              "#46039f"
             ],
             [
              0.2222222222222222,
              "#7201a8"
             ],
             [
              0.3333333333333333,
              "#9c179e"
             ],
             [
              0.4444444444444444,
              "#bd3786"
             ],
             [
              0.5555555555555556,
              "#d8576b"
             ],
             [
              0.6666666666666666,
              "#ed7953"
             ],
             [
              0.7777777777777778,
              "#fb9f3a"
             ],
             [
              0.8888888888888888,
              "#fdca26"
             ],
             [
              1,
              "#f0f921"
             ]
            ],
            "type": "histogram2dcontour"
           }
          ],
          "mesh3d": [
           {
            "colorbar": {
             "outlinewidth": 0,
             "ticks": ""
            },
            "type": "mesh3d"
           }
          ],
          "parcoords": [
           {
            "line": {
             "colorbar": {
              "outlinewidth": 0,
              "ticks": ""
             }
            },
            "type": "parcoords"
           }
          ],
          "scatter": [
           {
            "marker": {
             "colorbar": {
              "outlinewidth": 0,
              "ticks": ""
             }
            },
            "type": "scatter"
           }
          ],
          "scatter3d": [
           {
            "line": {
             "colorbar": {
              "outlinewidth": 0,
              "ticks": ""
             }
            },
            "marker": {
             "colorbar": {
              "outlinewidth": 0,
              "ticks": ""
             }
            },
            "type": "scatter3d"
           }
          ],
          "scattercarpet": [
           {
            "marker": {
             "colorbar": {
              "outlinewidth": 0,
              "ticks": ""
             }
            },
            "type": "scattercarpet"
           }
          ],
          "scattergeo": [
           {
            "marker": {
             "colorbar": {
              "outlinewidth": 0,
              "ticks": ""
             }
            },
            "type": "scattergeo"
           }
          ],
          "scattergl": [
           {
            "marker": {
             "colorbar": {
              "outlinewidth": 0,
              "ticks": ""
             }
            },
            "type": "scattergl"
           }
          ],
          "scattermapbox": [
           {
            "marker": {
             "colorbar": {
              "outlinewidth": 0,
              "ticks": ""
             }
            },
            "type": "scattermapbox"
           }
          ],
          "scatterpolar": [
           {
            "marker": {
             "colorbar": {
              "outlinewidth": 0,
              "ticks": ""
             }
            },
            "type": "scatterpolar"
           }
          ],
          "scatterpolargl": [
           {
            "marker": {
             "colorbar": {
              "outlinewidth": 0,
              "ticks": ""
             }
            },
            "type": "scatterpolargl"
           }
          ],
          "scatterternary": [
           {
            "marker": {
             "colorbar": {
              "outlinewidth": 0,
              "ticks": ""
             }
            },
            "type": "scatterternary"
           }
          ],
          "surface": [
           {
            "colorbar": {
             "outlinewidth": 0,
             "ticks": ""
            },
            "colorscale": [
             [
              0,
              "#0d0887"
             ],
             [
              0.1111111111111111,
              "#46039f"
             ],
             [
              0.2222222222222222,
              "#7201a8"
             ],
             [
              0.3333333333333333,
              "#9c179e"
             ],
             [
              0.4444444444444444,
              "#bd3786"
             ],
             [
              0.5555555555555556,
              "#d8576b"
             ],
             [
              0.6666666666666666,
              "#ed7953"
             ],
             [
              0.7777777777777778,
              "#fb9f3a"
             ],
             [
              0.8888888888888888,
              "#fdca26"
             ],
             [
              1,
              "#f0f921"
             ]
            ],
            "type": "surface"
           }
          ],
          "table": [
           {
            "cells": {
             "fill": {
              "color": "#EBF0F8"
             },
             "line": {
              "color": "white"
             }
            },
            "header": {
             "fill": {
              "color": "#C8D4E3"
             },
             "line": {
              "color": "white"
             }
            },
            "type": "table"
           }
          ]
         },
         "layout": {
          "annotationdefaults": {
           "arrowcolor": "#2a3f5f",
           "arrowhead": 0,
           "arrowwidth": 1
          },
          "colorscale": {
           "diverging": [
            [
             0,
             "#8e0152"
            ],
            [
             0.1,
             "#c51b7d"
            ],
            [
             0.2,
             "#de77ae"
            ],
            [
             0.3,
             "#f1b6da"
            ],
            [
             0.4,
             "#fde0ef"
            ],
            [
             0.5,
             "#f7f7f7"
            ],
            [
             0.6,
             "#e6f5d0"
            ],
            [
             0.7,
             "#b8e186"
            ],
            [
             0.8,
             "#7fbc41"
            ],
            [
             0.9,
             "#4d9221"
            ],
            [
             1,
             "#276419"
            ]
           ],
           "sequential": [
            [
             0,
             "#0d0887"
            ],
            [
             0.1111111111111111,
             "#46039f"
            ],
            [
             0.2222222222222222,
             "#7201a8"
            ],
            [
             0.3333333333333333,
             "#9c179e"
            ],
            [
             0.4444444444444444,
             "#bd3786"
            ],
            [
             0.5555555555555556,
             "#d8576b"
            ],
            [
             0.6666666666666666,
             "#ed7953"
            ],
            [
             0.7777777777777778,
             "#fb9f3a"
            ],
            [
             0.8888888888888888,
             "#fdca26"
            ],
            [
             1,
             "#f0f921"
            ]
           ],
           "sequentialminus": [
            [
             0,
             "#0d0887"
            ],
            [
             0.1111111111111111,
             "#46039f"
            ],
            [
             0.2222222222222222,
             "#7201a8"
            ],
            [
             0.3333333333333333,
             "#9c179e"
            ],
            [
             0.4444444444444444,
             "#bd3786"
            ],
            [
             0.5555555555555556,
             "#d8576b"
            ],
            [
             0.6666666666666666,
             "#ed7953"
            ],
            [
             0.7777777777777778,
             "#fb9f3a"
            ],
            [
             0.8888888888888888,
             "#fdca26"
            ],
            [
             1,
             "#f0f921"
            ]
           ]
          },
          "colorway": [
           "#636efa",
           "#EF553B",
           "#00cc96",
           "#ab63fa",
           "#FFA15A",
           "#19d3f3",
           "#FF6692",
           "#B6E880",
           "#FF97FF",
           "#FECB52"
          ],
          "font": {
           "color": "#2a3f5f"
          },
          "geo": {
           "bgcolor": "white",
           "lakecolor": "white",
           "landcolor": "#E5ECF6",
           "showlakes": true,
           "showland": true,
           "subunitcolor": "white"
          },
          "hoverlabel": {
           "align": "left"
          },
          "hovermode": "closest",
          "mapbox": {
           "style": "light"
          },
          "paper_bgcolor": "white",
          "plot_bgcolor": "#E5ECF6",
          "polar": {
           "angularaxis": {
            "gridcolor": "white",
            "linecolor": "white",
            "ticks": ""
           },
           "bgcolor": "#E5ECF6",
           "radialaxis": {
            "gridcolor": "white",
            "linecolor": "white",
            "ticks": ""
           }
          },
          "scene": {
           "xaxis": {
            "backgroundcolor": "#E5ECF6",
            "gridcolor": "white",
            "gridwidth": 2,
            "linecolor": "white",
            "showbackground": true,
            "ticks": "",
            "zerolinecolor": "white"
           },
           "yaxis": {
            "backgroundcolor": "#E5ECF6",
            "gridcolor": "white",
            "gridwidth": 2,
            "linecolor": "white",
            "showbackground": true,
            "ticks": "",
            "zerolinecolor": "white"
           },
           "zaxis": {
            "backgroundcolor": "#E5ECF6",
            "gridcolor": "white",
            "gridwidth": 2,
            "linecolor": "white",
            "showbackground": true,
            "ticks": "",
            "zerolinecolor": "white"
           }
          },
          "shapedefaults": {
           "line": {
            "color": "#2a3f5f"
           }
          },
          "ternary": {
           "aaxis": {
            "gridcolor": "white",
            "linecolor": "white",
            "ticks": ""
           },
           "baxis": {
            "gridcolor": "white",
            "linecolor": "white",
            "ticks": ""
           },
           "bgcolor": "#E5ECF6",
           "caxis": {
            "gridcolor": "white",
            "linecolor": "white",
            "ticks": ""
           }
          },
          "title": {
           "x": 0.05
          },
          "xaxis": {
           "automargin": true,
           "gridcolor": "white",
           "linecolor": "white",
           "ticks": "",
           "zerolinecolor": "white",
           "zerolinewidth": 2
          },
          "yaxis": {
           "automargin": true,
           "gridcolor": "white",
           "linecolor": "white",
           "ticks": "",
           "zerolinecolor": "white",
           "zerolinewidth": 2
          }
         }
        },
        "xaxis": {
         "title": {
          "text": "Iteration #"
         }
        },
        "yaxis": {
         "title": {
          "text": "Loss"
         }
        }
       }
      },
      "text/html": [
       "<div>\n",
       "        \n",
       "        \n",
       "            <div id=\"136ba16a-e457-4874-a6d7-f5bb5f6309a8\" class=\"plotly-graph-div\" style=\"height:525px; width:100%;\"></div>\n",
       "            <script type=\"text/javascript\">\n",
       "                require([\"plotly\"], function(Plotly) {\n",
       "                    window.PLOTLYENV=window.PLOTLYENV || {};\n",
       "                    \n",
       "                if (document.getElementById(\"136ba16a-e457-4874-a6d7-f5bb5f6309a8\")) {\n",
       "                    Plotly.newPlot(\n",
       "                        '136ba16a-e457-4874-a6d7-f5bb5f6309a8',\n",
       "                        [{\"mode\": \"lines\", \"name\": \"lines\", \"type\": \"scatter\", \"x\": [0, 1, 2, 3, 4, 5, 6, 7, 8, 9, 10, 11, 12, 13, 14, 15, 16, 17, 18, 19, 20, 21, 22, 23, 24, 25, 26, 27, 28, 29, 30, 31, 32, 33, 34, 35, 36, 37, 38, 39, 40, 41, 42, 43, 44, 45, 46, 47, 48, 49, 50, 51, 52, 53, 54, 55, 56, 57, 58, 59, 60, 61, 62, 63, 64, 65, 66, 67, 68, 69, 70, 71, 72, 73, 74, 75, 76, 77, 78, 79, 80, 81, 82, 83, 84, 85, 86, 87, 88, 89, 90, 91, 92, 93, 94, 95, 96, 97, 98, 99, 100, 101, 102, 103, 104, 105, 106, 107, 108, 109, 110, 111, 112, 113, 114, 115, 116, 117, 118, 119, 120, 121, 122, 123, 124, 125, 126, 127, 128, 129, 130, 131, 132, 133, 134, 135, 136, 137, 138, 139, 140, 141, 142, 143, 144, 145, 146, 147, 148, 149, 150, 151, 152, 153, 154, 155, 156, 157, 158, 159, 160, 161, 162, 163, 164, 165, 166, 167, 168, 169, 170, 171, 172, 173, 174, 175, 176, 177, 178, 179, 180, 181, 182, 183, 184, 185, 186, 187, 188, 189, 190, 191, 192, 193, 194, 195, 196, 197, 198, 199, 200, 201, 202, 203, 204, 205, 206, 207, 208, 209, 210, 211, 212, 213, 214, 215, 216, 217, 218, 219, 220, 221, 222, 223, 224, 225, 226, 227, 228, 229, 230, 231, 232, 233, 234, 235, 236, 237, 238, 239, 240, 241, 242, 243, 244, 245, 246, 247, 248, 249, 250, 251, 252, 253, 254, 255, 256, 257, 258, 259, 260, 261, 262, 263, 264, 265, 266, 267, 268, 269, 270, 271, 272, 273, 274, 275, 276, 277, 278, 279, 280, 281, 282, 283, 284, 285, 286, 287, 288, 289, 290, 291, 292, 293, 294, 295, 296, 297, 298, 299, 300, 301, 302, 303, 304, 305, 306, 307, 308, 309, 310, 311, 312, 313, 314, 315, 316, 317, 318, 319, 320, 321, 322, 323, 324, 325, 326, 327, 328, 329, 330, 331, 332, 333, 334, 335, 336, 337, 338, 339, 340, 341, 342, 343, 344, 345, 346, 347, 348, 349, 350, 351, 352, 353, 354, 355, 356, 357, 358, 359, 360, 361, 362, 363, 364, 365, 366, 367, 368, 369, 370, 371, 372, 373, 374, 375, 376, 377, 378, 379, 380, 381, 382, 383, 384, 385, 386, 387, 388, 389, 390, 391, 392, 393, 394, 395, 396, 397, 398, 399, 400, 401, 402, 403, 404, 405, 406, 407, 408, 409, 410, 411, 412, 413, 414, 415, 416, 417, 418, 419, 420, 421, 422, 423, 424, 425, 426, 427, 428, 429, 430, 431, 432, 433, 434, 435, 436, 437, 438, 439, 440, 441, 442, 443, 444, 445, 446, 447, 448, 449, 450, 451, 452, 453, 454, 455, 456, 457, 458, 459, 460, 461, 462, 463, 464, 465, 466, 467, 468, 469, 470, 471, 472, 473, 474, 475, 476, 477, 478, 479, 480, 481, 482, 483, 484, 485, 486, 487, 488, 489, 490, 491, 492, 493, 494, 495, 496, 497, 498, 499, 500, 501, 502, 503, 504, 505, 506, 507, 508, 509, 510, 511, 512, 513, 514, 515, 516, 517, 518, 519, 520, 521, 522, 523, 524, 525, 526, 527, 528, 529, 530, 531, 532, 533, 534, 535, 536, 537, 538, 539, 540, 541, 542, 543, 544, 545, 546, 547, 548, 549, 550, 551, 552, 553, 554, 555, 556, 557, 558, 559, 560, 561, 562, 563, 564, 565, 566, 567, 568, 569, 570, 571, 572, 573, 574, 575, 576, 577, 578, 579, 580, 581, 582, 583, 584, 585, 586, 587, 588, 589, 590, 591, 592, 593, 594, 595, 596, 597, 598, 599, 600, 601, 602, 603, 604, 605, 606, 607, 608, 609, 610, 611, 612, 613, 614, 615, 616, 617, 618, 619, 620, 621, 622, 623, 624, 625, 626, 627, 628, 629, 630, 631, 632, 633, 634, 635, 636, 637, 638, 639, 640, 641, 642, 643, 644, 645, 646, 647, 648, 649, 650, 651, 652, 653, 654, 655, 656, 657, 658, 659, 660, 661, 662, 663, 664, 665, 666, 667, 668, 669, 670, 671, 672, 673, 674, 675, 676, 677, 678, 679, 680, 681, 682, 683, 684, 685, 686, 687, 688, 689, 690, 691, 692, 693, 694, 695, 696, 697, 698, 699, 700, 701, 702, 703, 704, 705, 706, 707, 708, 709, 710, 711, 712, 713, 714, 715, 716, 717, 718, 719, 720, 721, 722, 723, 724, 725, 726, 727, 728, 729, 730, 731, 732, 733, 734, 735, 736, 737, 738, 739, 740, 741, 742, 743, 744, 745, 746, 747, 748, 749, 750, 751, 752, 753, 754, 755, 756, 757, 758, 759, 760, 761, 762, 763, 764, 765, 766, 767, 768, 769, 770, 771, 772, 773, 774, 775, 776, 777, 778, 779, 780, 781, 782, 783, 784, 785, 786, 787, 788, 789, 790, 791, 792, 793, 794, 795, 796, 797, 798, 799], \"y\": [3.815070152282715, 3.619434118270874, 3.423891067504883, 3.2282660007476807, 3.0323736667633057, 2.8359689712524414, 2.638819694519043, 2.4406843185424805, 2.2412874698638916, 2.040348768234253, 1.8375859260559082, 1.6326943635940552, 1.4253541231155396, 1.2152669429779053, 1.0020924806594849, 0.7854908108711243, 0.5651274919509888, 0.3406609296798706, 0.11172857880592346, -0.12208961695432663, -0.3612036108970642, -0.6059949398040771, -0.856901228427887, -1.1143629550933838, -1.378798484802246, -1.650679111480713, -1.9305118322372437, -2.218771457672119, -2.5159482955932617, -2.8225438594818115, -3.139115571975708, -3.4661920070648193, -3.8042914867401123, -4.153977870941162, -4.515845775604248, -4.890449047088623, -5.278282642364502, -5.679792881011963, -6.095430850982666, -6.52557373046875, -6.970627307891846, -7.431070327758789, -7.907052993774414, -8.398799896240234, -8.906198501586914, -9.429062843322754, -9.96713638305664, -10.5198974609375, -11.086833953857422, -11.667022705078125, -12.259278297424316, -12.862088203430176, -13.473984718322754, -14.0931978225708, -14.71728801727295, -15.343886375427246, -15.970166206359863, -16.593358993530273, -17.21052360534668, -17.818918228149414, -18.415952682495117, -18.999238967895508, -19.566753387451172, -20.116880416870117, -20.64874267578125, -21.161884307861328, -21.656513214111328, -22.13309097290039, -22.592731475830078, -23.037025451660156, -23.46772003173828, -23.886157989501953, -24.293638229370117, -24.691495895385742, -25.08037567138672, -25.46068572998047, -25.83245086669922, -26.195594787597656, -26.549772262573242, -26.894493103027344, -27.22927474975586, -27.553770065307617, -27.867271423339844, -28.16971206665039, -28.460851669311523, -28.741104125976562, -29.010791778564453, -29.2705020904541, -29.52082061767578, -29.762134552001953, -29.995054244995117, -30.220312118530273, -30.438491821289062, -30.6502628326416, -30.856027603149414, -31.056325912475586, -31.251455307006836, -31.441791534423828, -31.62761688232422, -31.808975219726562, -31.985889434814453, -32.15849685668945, -32.32688903808594, -32.49126434326172, -32.651756286621094, -32.808433532714844, -32.96147155761719, -33.110904693603516, -33.25700759887695, -33.40000915527344, -33.54008865356445, -33.67713928222656, -33.81135177612305, -33.94283676147461, -34.07185363769531, -34.19860076904297, -34.3231315612793, -34.445621490478516, -34.565975189208984, -34.684207916259766, -34.800594329833984, -34.915218353271484, -35.02826690673828, -35.13978576660156, -35.24984359741211, -35.358428955078125, -35.46559143066406, -35.57147979736328, -35.67622375488281, -35.77973556518555, -35.882118225097656, -35.98328399658203, -36.083309173583984, -36.182281494140625, -36.28029251098633, -36.37730407714844, -36.47341537475586, -36.56874084472656, -36.663204193115234, -36.756736755371094, -36.84933090209961, -36.94104766845703, -37.03199768066406, -37.12211227416992, -37.2114372253418, -37.3000373840332, -37.387916564941406, -37.47514724731445, -37.5616569519043, -37.6474723815918, -37.73258972167969, -37.8170051574707, -37.900978088378906, -37.98450469970703, -38.067481994628906, -38.150001525878906, -38.23204803466797, -38.313602447509766, -38.3946647644043, -38.47532653808594, -38.5556755065918, -38.63577651977539, -38.71555709838867, -38.795074462890625, -38.874263763427734, -38.9532356262207, -39.032012939453125, -39.110477447509766, -39.18863296508789, -39.266632080078125, -39.34443664550781, -39.422115325927734, -39.49962615966797, -39.57693862915039, -39.654151916503906, -39.73127365112305, -39.808284759521484, -39.885250091552734, -39.96222686767578, -40.039180755615234, -40.116092681884766, -40.193016052246094, -40.26985168457031, -40.34660720825195, -40.423431396484375, -40.500240325927734, -40.577064514160156, -40.65399169921875, -40.7309684753418, -40.807979583740234, -40.885013580322266, -40.962188720703125, -41.039451599121094, -41.11683654785156, -41.19417953491211, -41.271610260009766, -41.349239349365234, -41.427024841308594, -41.504981994628906, -41.58317565917969, -41.66151428222656, -41.740081787109375, -41.818817138671875, -41.897735595703125, -41.97685623168945, -42.05622100830078, -42.135799407958984, -42.215579986572266, -42.29556655883789, -42.3757438659668, -42.456092834472656, -42.53663635253906, -42.617366790771484, -42.6983528137207, -42.779571533203125, -42.861045837402344, -42.942779541015625, -43.02485275268555, -43.10722732543945, -43.18985366821289, -43.27280807495117, -43.355979919433594, -43.4394416809082, -43.52317428588867, -43.6071891784668, -43.691551208496094, -43.776187896728516, -43.86113357543945, -43.9464111328125, -44.03205108642578, -44.11796951293945, -44.204227447509766, -44.29082107543945, -44.377769470214844, -44.46505355834961, -44.55271911621094, -44.640926361083984, -44.729454040527344, -44.81842803955078, -44.907859802246094, -44.99769592285156, -45.0878791809082, -45.1784553527832, -45.26942443847656, -45.360870361328125, -45.45273971557617, -45.5450553894043, -45.637794494628906, -45.731014251708984, -45.824615478515625, -45.9185905456543, -46.01304626464844, -46.107913970947266, -46.20319747924805, -46.298892974853516, -46.395145416259766, -46.491912841796875, -46.58909225463867, -46.68672180175781, -46.78474426269531, -46.88331604003906, -46.982303619384766, -47.081748962402344, -47.18168640136719, -47.282283782958984, -47.383426666259766, -47.48507308959961, -47.58722686767578, -47.68992233276367, -47.793121337890625, -47.896854400634766, -48.00113296508789, -48.10590744018555, -48.211246490478516, -48.317138671875, -48.42359924316406, -48.530696868896484, -48.63829040527344, -48.7463493347168, -48.85499954223633, -48.964202880859375, -49.074066162109375, -49.18446350097656, -49.29557800292969, -49.40730285644531, -49.519622802734375, -49.63253402709961, -49.746280670166016, -49.86048889160156, -49.97520446777344, -50.090572357177734, -50.20656204223633, -50.3232421875, -50.44036102294922, -50.558067321777344, -50.67643737792969, -50.795597076416016, -50.915626525878906, -51.03623962402344, -51.15726089477539, -51.279197692871094, -51.37098693847656, -51.351417541503906, -51.539310455322266, -51.538150787353516, -51.65316390991211, -51.75019073486328, -51.781837463378906, -51.8703498840332, -51.97087097167969, -52.02333068847656, -52.08806610107422, -52.18568420410156, -52.2634162902832, -52.322265625, -52.4047966003418, -52.49456024169922, -52.5644416809082, -52.63749694824219, -52.72593688964844, -52.806495666503906, -52.87972640991211, -52.964508056640625, -53.05034255981445, -53.12728500366211, -53.21062469482422, -53.29795837402344, -53.378475189208984, -53.46268081665039, -53.551307678222656, -53.634521484375, -53.720558166503906, -53.809940338134766, -53.895450592041016, -53.98406219482422, -54.074275970458984, -54.16168975830078, -54.2529182434082, -54.343631744384766, -54.434146881103516, -54.52727127075195, -54.61875534057617, -54.7127799987793, -54.80635070800781, -54.900821685791016, -54.99620056152344, -55.09148025512695, -55.188377380371094, -55.28489303588867, -55.383026123046875, -55.481040954589844, -55.58034133911133, -55.67961502075195, -55.78007888793945, -55.88080978393555, -55.98244094848633, -56.084571838378906, -56.18722152709961, -56.29082107543945, -56.39488220214844, -56.49970245361328, -56.605159759521484, -56.71120071411133, -56.818050384521484, -56.925418853759766, -57.03330612182617, -57.141963958740234, -57.25143051147461, -57.361454010009766, -57.472225189208984, -57.583621978759766, -57.69563293457031, -57.80826187133789, -57.921573638916016, -58.03541564941406, -58.15009689331055, -58.26515197753906, -58.380855560302734, -58.4970817565918, -58.6140022277832, -58.731258392333984, -58.849708557128906, -58.96890640258789, -59.08815383911133, -59.20777893066406, -59.32794952392578, -59.44906234741211, -59.57075500488281, -59.69266128540039, -59.813961029052734, -59.935001373291016, -60.055301666259766, -60.17274856567383, -60.291709899902344, -60.414894104003906, -60.54277420043945, -60.668739318847656, -60.79188919067383, -60.910213470458984, -61.02491760253906, -61.14128112792969, -61.259803771972656, -61.385005950927734, -61.512657165527344, -61.637725830078125, -61.754798889160156, -61.868045806884766, -61.9823112487793, -62.09537124633789, -62.21613311767578, -62.342193603515625, -62.467872619628906, -62.587608337402344, -62.70354080200195, -62.81666946411133, -62.924072265625, -63.03163146972656, -63.139102935791016, -63.26298904418945, -63.394264221191406, -63.518497467041016, -63.62679672241211, -63.726810455322266, -63.83161544799805, -63.943233489990234, -64.07118225097656, -64.19414520263672, -64.30475616455078, -64.40814208984375, -64.50823974609375, -64.61007690429688, -64.71678924560547, -64.83906555175781, -64.95964050292969, -65.0750503540039, -65.18388366699219, -65.28404235839844, -65.37835693359375, -65.46546173095703, -65.5621337890625, -65.66515350341797, -65.80126190185547, -65.9277114868164, -66.0263671875, -66.11133575439453, -66.1957778930664, -66.29945373535156, -66.41600799560547, -66.53829956054688, -66.6414794921875, -66.73085021972656, -66.81842803955078, -66.89807891845703, -66.99307250976562, -67.09977722167969, -67.21974182128906, -67.32917785644531, -67.43148803710938, -67.5185775756836, -67.59552001953125, -67.6810531616211, -67.75660705566406, -67.8518295288086, -67.9612045288086, -68.08503723144531, -68.18526458740234, -68.27510070800781, -68.353515625, -68.4188232421875, -68.49825286865234, -68.5793685913086, -68.69457244873047, -68.80706787109375, -68.90879821777344, -68.99765014648438, -69.07669830322266, -69.14482116699219, -69.20414733886719, -69.28304290771484, -69.35139465332031, -69.4634017944336, -69.58202362060547, -69.68608093261719, -69.76738739013672, -69.83595275878906, -69.89595031738281, -69.94641876220703, -70.03145599365234, -70.11737060546875, -70.23175048828125, -70.33997344970703, -70.42501831054688, -70.49099731445312, -70.54884338378906, -70.60458374023438, -70.6472396850586, -70.73593139648438, -70.83334350585938, -70.9474105834961, -71.04547882080078, -71.12017822265625, -71.17607116699219, -71.22489929199219, -71.28031921386719, -71.3284683227539, -71.42686462402344, -71.53406524658203, -71.63461303710938, -71.7155990600586, -71.7827377319336, -71.83944702148438, -71.88214874267578, -71.93152618408203, -71.96573638916016, -72.0534896850586, -72.14730834960938, -72.25466918945312, -72.34272766113281, -72.4242935180664, -72.4770278930664, -72.50768280029297, -72.5556411743164, -72.5940170288086, -72.66738891601562, -72.74456787109375, -72.86471557617188, -72.95919799804688, -73.02851867675781, -73.07323455810547, -73.10115051269531, -73.1508560180664, -73.1861572265625, -73.25277709960938, -73.32833099365234, -73.45098114013672, -73.53990936279297, -73.59729766845703, -73.65026092529297, -73.6921157836914, -73.73641204833984, -73.75476837158203, -73.79965209960938, -73.82821655273438, -73.9455795288086, -74.02484130859375, -74.12361145019531, -74.21530151367188, -74.26057434082031, -74.28764343261719, -74.3154067993164, -74.35814666748047, -74.37649536132812, -74.46267700195312, -74.53042602539062, -74.64250183105469, -74.72860717773438, -74.77903747558594, -74.8266830444336, -74.8683090209961, -74.88957214355469, -74.89295959472656, -74.94005584716797, -74.95014953613281, -75.04792022705078, -75.1399154663086, -75.24849700927734, -75.329345703125, -75.38455200195312, -75.40011596679688, -75.40003967285156, -75.44678497314453, -75.47325897216797, -75.56941223144531, -75.65213012695312, -75.72740936279297, -75.79297637939453, -75.85829162597656, -75.89627075195312, -75.91854858398438, -75.94442749023438, -75.93327331542969, -75.94966125488281, -75.918701171875, -75.98155212402344, -76.03083801269531, -76.24992370605469, -76.34767150878906, -76.33003997802734, -76.32706451416016, -76.32805633544922, -76.45716094970703, -76.52931213378906, -76.58830261230469, -76.6611099243164, -76.67906951904297, -76.69573974609375, -76.72928619384766, -76.8193588256836, -76.87908935546875, -76.9301528930664, -76.97321319580078, -77.03655242919922, -77.0953140258789, -77.12078094482422, -77.1516342163086, -77.19476318359375, -77.21597290039062, -77.15644836425781, -77.05061340332031, -76.7588882446289, -76.94203186035156, -77.16542053222656, -77.49793243408203, -77.40987396240234, -77.17970275878906, -77.48417663574219, -77.67072296142578, -77.5781021118164, -77.58029174804688, -77.6955795288086, -77.81082153320312, -77.8073959350586, -77.78788757324219, -77.88623809814453, -77.95845031738281, -77.992919921875, -78.0040054321289, -78.0180435180664, -78.12336730957031, -78.1843032836914, -78.18621826171875, -78.2116928100586, -78.26162719726562, -78.3376693725586, -78.37861633300781, -78.38965606689453, -78.433837890625, -78.4834213256836, -78.5170669555664, -78.53134155273438, -78.57398986816406, -78.62527465820312, -78.67547607421875, -78.70470428466797, -78.73423767089844, -78.75464630126953, -78.78912353515625, -78.79780578613281, -78.79596710205078, -78.7058334350586, -78.7233657836914, -78.67882537841797, -78.84477233886719, -78.93061828613281, -79.0718002319336, -79.13912963867188, -79.12821197509766, -79.1002426147461, -79.06709289550781, -79.20496368408203, -79.3167953491211, -79.36393737792969, -79.35977172851562, -79.36862182617188, -79.4203109741211, -79.41321563720703, -79.42417907714844, -79.43897247314453, -79.55015563964844, -79.58936309814453, -79.63379669189453, -79.6757583618164, -79.74540710449219, -79.78547668457031, -79.81414794921875, -79.843505859375, -79.86763763427734, -79.90951538085938, -79.93244934082031, -79.92664337158203, -79.81597900390625, -79.69197082519531, -79.27238464355469, -79.3844985961914, -79.42298126220703, -80.1078872680664, -79.99919891357422, -79.51639556884766, -79.96774291992188, -79.98131561279297, -80.00981140136719, -79.94912719726562, -79.74205017089844, -80.2806625366211, -79.84121704101562, -79.8342056274414, -80.05598449707031, -80.25980377197266, -80.0116195678711, -80.38020324707031, -80.33242797851562, -80.3203353881836, -80.32378387451172, -80.3836441040039, -80.52387237548828, -80.36414337158203, -80.50335693359375, -80.67017364501953, -80.48175048828125, -80.59828186035156, -80.636474609375, -80.70738983154297, -80.76937866210938, -80.73322296142578, -80.8581771850586, -80.90259552001953, -80.8609848022461, -80.95748901367188, -80.93160247802734, -81.04704284667969, -81.02973937988281, -81.06501007080078, -81.1140365600586, -81.14237213134766, -81.17059326171875, -81.20109558105469, -81.20964813232422, -81.25881958007812, -81.2860336303711, -81.30477905273438, -81.34696197509766, -81.3460464477539, -81.38561248779297, -81.41183471679688, -81.4451904296875, -81.46929931640625, -81.51153564453125, -81.5239486694336, -81.55377960205078, -81.58448028564453, -81.59849548339844, -81.62559509277344, -81.6438980102539, -81.66053771972656, -81.66304779052734, -81.64143371582031, -81.61780548095703, -81.50708770751953, -81.48197937011719, -81.36885070800781, -81.5798568725586, -81.73039245605469, -81.89645385742188, -81.87993621826172, -81.81037139892578, -81.7364501953125, -81.71761322021484, -81.88709259033203, -81.99547576904297, -82.05799102783203, -81.97953796386719, -81.93093872070312, -81.95138549804688, -82.00639343261719, -82.1532211303711, -82.17357635498047, -82.19808959960938, -82.12074279785156, -82.09427642822266, -82.15315246582031, -82.18303680419922, -82.33526611328125, -82.3271484375, -82.36348724365234, -82.2794418334961, -82.2217788696289, -82.27330017089844, -82.25397491455078, -82.46652221679688, -82.45348358154297, -82.53197479248047, -82.41510009765625, -82.34308624267578, -82.38168334960938, -82.30915069580078, -82.60334777832031, -82.55033111572266, -82.64832305908203, -82.40530395507812, -82.29449462890625, -82.41372680664062, -82.4283676147461, -82.77808380126953, -82.4964828491211, -82.46570587158203, -82.20576477050781, -82.51818084716797, -82.66970825195312, -82.79025268554688, -82.70353698730469]}],\n",
       "                        {\"template\": {\"data\": {\"bar\": [{\"error_x\": {\"color\": \"#2a3f5f\"}, \"error_y\": {\"color\": \"#2a3f5f\"}, \"marker\": {\"line\": {\"color\": \"#E5ECF6\", \"width\": 0.5}}, \"type\": \"bar\"}], \"barpolar\": [{\"marker\": {\"line\": {\"color\": \"#E5ECF6\", \"width\": 0.5}}, \"type\": \"barpolar\"}], \"carpet\": [{\"aaxis\": {\"endlinecolor\": \"#2a3f5f\", \"gridcolor\": \"white\", \"linecolor\": \"white\", \"minorgridcolor\": \"white\", \"startlinecolor\": \"#2a3f5f\"}, \"baxis\": {\"endlinecolor\": \"#2a3f5f\", \"gridcolor\": \"white\", \"linecolor\": \"white\", \"minorgridcolor\": \"white\", \"startlinecolor\": \"#2a3f5f\"}, \"type\": \"carpet\"}], \"choropleth\": [{\"colorbar\": {\"outlinewidth\": 0, \"ticks\": \"\"}, \"type\": \"choropleth\"}], \"contour\": [{\"colorbar\": {\"outlinewidth\": 0, \"ticks\": \"\"}, \"colorscale\": [[0.0, \"#0d0887\"], [0.1111111111111111, \"#46039f\"], [0.2222222222222222, \"#7201a8\"], [0.3333333333333333, \"#9c179e\"], [0.4444444444444444, \"#bd3786\"], [0.5555555555555556, \"#d8576b\"], [0.6666666666666666, \"#ed7953\"], [0.7777777777777778, \"#fb9f3a\"], [0.8888888888888888, \"#fdca26\"], [1.0, \"#f0f921\"]], \"type\": \"contour\"}], \"contourcarpet\": [{\"colorbar\": {\"outlinewidth\": 0, \"ticks\": \"\"}, \"type\": \"contourcarpet\"}], \"heatmap\": [{\"colorbar\": {\"outlinewidth\": 0, \"ticks\": \"\"}, \"colorscale\": [[0.0, \"#0d0887\"], [0.1111111111111111, \"#46039f\"], [0.2222222222222222, \"#7201a8\"], [0.3333333333333333, \"#9c179e\"], [0.4444444444444444, \"#bd3786\"], [0.5555555555555556, \"#d8576b\"], [0.6666666666666666, \"#ed7953\"], [0.7777777777777778, \"#fb9f3a\"], [0.8888888888888888, \"#fdca26\"], [1.0, \"#f0f921\"]], \"type\": \"heatmap\"}], \"heatmapgl\": [{\"colorbar\": {\"outlinewidth\": 0, \"ticks\": \"\"}, \"colorscale\": [[0.0, \"#0d0887\"], [0.1111111111111111, \"#46039f\"], [0.2222222222222222, \"#7201a8\"], [0.3333333333333333, \"#9c179e\"], [0.4444444444444444, \"#bd3786\"], [0.5555555555555556, \"#d8576b\"], [0.6666666666666666, \"#ed7953\"], [0.7777777777777778, \"#fb9f3a\"], [0.8888888888888888, \"#fdca26\"], [1.0, \"#f0f921\"]], \"type\": \"heatmapgl\"}], \"histogram\": [{\"marker\": {\"colorbar\": {\"outlinewidth\": 0, \"ticks\": \"\"}}, \"type\": \"histogram\"}], \"histogram2d\": [{\"colorbar\": {\"outlinewidth\": 0, \"ticks\": \"\"}, \"colorscale\": [[0.0, \"#0d0887\"], [0.1111111111111111, \"#46039f\"], [0.2222222222222222, \"#7201a8\"], [0.3333333333333333, \"#9c179e\"], [0.4444444444444444, \"#bd3786\"], [0.5555555555555556, \"#d8576b\"], [0.6666666666666666, \"#ed7953\"], [0.7777777777777778, \"#fb9f3a\"], [0.8888888888888888, \"#fdca26\"], [1.0, \"#f0f921\"]], \"type\": \"histogram2d\"}], \"histogram2dcontour\": [{\"colorbar\": {\"outlinewidth\": 0, \"ticks\": \"\"}, \"colorscale\": [[0.0, \"#0d0887\"], [0.1111111111111111, \"#46039f\"], [0.2222222222222222, \"#7201a8\"], [0.3333333333333333, \"#9c179e\"], [0.4444444444444444, \"#bd3786\"], [0.5555555555555556, \"#d8576b\"], [0.6666666666666666, \"#ed7953\"], [0.7777777777777778, \"#fb9f3a\"], [0.8888888888888888, \"#fdca26\"], [1.0, \"#f0f921\"]], \"type\": \"histogram2dcontour\"}], \"mesh3d\": [{\"colorbar\": {\"outlinewidth\": 0, \"ticks\": \"\"}, \"type\": \"mesh3d\"}], \"parcoords\": [{\"line\": {\"colorbar\": {\"outlinewidth\": 0, \"ticks\": \"\"}}, \"type\": \"parcoords\"}], \"scatter\": [{\"marker\": {\"colorbar\": {\"outlinewidth\": 0, \"ticks\": \"\"}}, \"type\": \"scatter\"}], \"scatter3d\": [{\"line\": {\"colorbar\": {\"outlinewidth\": 0, \"ticks\": \"\"}}, \"marker\": {\"colorbar\": {\"outlinewidth\": 0, \"ticks\": \"\"}}, \"type\": \"scatter3d\"}], \"scattercarpet\": [{\"marker\": {\"colorbar\": {\"outlinewidth\": 0, \"ticks\": \"\"}}, \"type\": \"scattercarpet\"}], \"scattergeo\": [{\"marker\": {\"colorbar\": {\"outlinewidth\": 0, \"ticks\": \"\"}}, \"type\": \"scattergeo\"}], \"scattergl\": [{\"marker\": {\"colorbar\": {\"outlinewidth\": 0, \"ticks\": \"\"}}, \"type\": \"scattergl\"}], \"scattermapbox\": [{\"marker\": {\"colorbar\": {\"outlinewidth\": 0, \"ticks\": \"\"}}, \"type\": \"scattermapbox\"}], \"scatterpolar\": [{\"marker\": {\"colorbar\": {\"outlinewidth\": 0, \"ticks\": \"\"}}, \"type\": \"scatterpolar\"}], \"scatterpolargl\": [{\"marker\": {\"colorbar\": {\"outlinewidth\": 0, \"ticks\": \"\"}}, \"type\": \"scatterpolargl\"}], \"scatterternary\": [{\"marker\": {\"colorbar\": {\"outlinewidth\": 0, \"ticks\": \"\"}}, \"type\": \"scatterternary\"}], \"surface\": [{\"colorbar\": {\"outlinewidth\": 0, \"ticks\": \"\"}, \"colorscale\": [[0.0, \"#0d0887\"], [0.1111111111111111, \"#46039f\"], [0.2222222222222222, \"#7201a8\"], [0.3333333333333333, \"#9c179e\"], [0.4444444444444444, \"#bd3786\"], [0.5555555555555556, \"#d8576b\"], [0.6666666666666666, \"#ed7953\"], [0.7777777777777778, \"#fb9f3a\"], [0.8888888888888888, \"#fdca26\"], [1.0, \"#f0f921\"]], \"type\": \"surface\"}], \"table\": [{\"cells\": {\"fill\": {\"color\": \"#EBF0F8\"}, \"line\": {\"color\": \"white\"}}, \"header\": {\"fill\": {\"color\": \"#C8D4E3\"}, \"line\": {\"color\": \"white\"}}, \"type\": \"table\"}]}, \"layout\": {\"annotationdefaults\": {\"arrowcolor\": \"#2a3f5f\", \"arrowhead\": 0, \"arrowwidth\": 1}, \"colorscale\": {\"diverging\": [[0, \"#8e0152\"], [0.1, \"#c51b7d\"], [0.2, \"#de77ae\"], [0.3, \"#f1b6da\"], [0.4, \"#fde0ef\"], [0.5, \"#f7f7f7\"], [0.6, \"#e6f5d0\"], [0.7, \"#b8e186\"], [0.8, \"#7fbc41\"], [0.9, \"#4d9221\"], [1, \"#276419\"]], \"sequential\": [[0.0, \"#0d0887\"], [0.1111111111111111, \"#46039f\"], [0.2222222222222222, \"#7201a8\"], [0.3333333333333333, \"#9c179e\"], [0.4444444444444444, \"#bd3786\"], [0.5555555555555556, \"#d8576b\"], [0.6666666666666666, \"#ed7953\"], [0.7777777777777778, \"#fb9f3a\"], [0.8888888888888888, \"#fdca26\"], [1.0, \"#f0f921\"]], \"sequentialminus\": [[0.0, \"#0d0887\"], [0.1111111111111111, \"#46039f\"], [0.2222222222222222, \"#7201a8\"], [0.3333333333333333, \"#9c179e\"], [0.4444444444444444, \"#bd3786\"], [0.5555555555555556, \"#d8576b\"], [0.6666666666666666, \"#ed7953\"], [0.7777777777777778, \"#fb9f3a\"], [0.8888888888888888, \"#fdca26\"], [1.0, \"#f0f921\"]]}, \"colorway\": [\"#636efa\", \"#EF553B\", \"#00cc96\", \"#ab63fa\", \"#FFA15A\", \"#19d3f3\", \"#FF6692\", \"#B6E880\", \"#FF97FF\", \"#FECB52\"], \"font\": {\"color\": \"#2a3f5f\"}, \"geo\": {\"bgcolor\": \"white\", \"lakecolor\": \"white\", \"landcolor\": \"#E5ECF6\", \"showlakes\": true, \"showland\": true, \"subunitcolor\": \"white\"}, \"hoverlabel\": {\"align\": \"left\"}, \"hovermode\": \"closest\", \"mapbox\": {\"style\": \"light\"}, \"paper_bgcolor\": \"white\", \"plot_bgcolor\": \"#E5ECF6\", \"polar\": {\"angularaxis\": {\"gridcolor\": \"white\", \"linecolor\": \"white\", \"ticks\": \"\"}, \"bgcolor\": \"#E5ECF6\", \"radialaxis\": {\"gridcolor\": \"white\", \"linecolor\": \"white\", \"ticks\": \"\"}}, \"scene\": {\"xaxis\": {\"backgroundcolor\": \"#E5ECF6\", \"gridcolor\": \"white\", \"gridwidth\": 2, \"linecolor\": \"white\", \"showbackground\": true, \"ticks\": \"\", \"zerolinecolor\": \"white\"}, \"yaxis\": {\"backgroundcolor\": \"#E5ECF6\", \"gridcolor\": \"white\", \"gridwidth\": 2, \"linecolor\": \"white\", \"showbackground\": true, \"ticks\": \"\", \"zerolinecolor\": \"white\"}, \"zaxis\": {\"backgroundcolor\": \"#E5ECF6\", \"gridcolor\": \"white\", \"gridwidth\": 2, \"linecolor\": \"white\", \"showbackground\": true, \"ticks\": \"\", \"zerolinecolor\": \"white\"}}, \"shapedefaults\": {\"line\": {\"color\": \"#2a3f5f\"}}, \"ternary\": {\"aaxis\": {\"gridcolor\": \"white\", \"linecolor\": \"white\", \"ticks\": \"\"}, \"baxis\": {\"gridcolor\": \"white\", \"linecolor\": \"white\", \"ticks\": \"\"}, \"bgcolor\": \"#E5ECF6\", \"caxis\": {\"gridcolor\": \"white\", \"linecolor\": \"white\", \"ticks\": \"\"}}, \"title\": {\"x\": 0.05}, \"xaxis\": {\"automargin\": true, \"gridcolor\": \"white\", \"linecolor\": \"white\", \"ticks\": \"\", \"zerolinecolor\": \"white\", \"zerolinewidth\": 2}, \"yaxis\": {\"automargin\": true, \"gridcolor\": \"white\", \"linecolor\": \"white\", \"ticks\": \"\", \"zerolinecolor\": \"white\", \"zerolinewidth\": 2}}}, \"xaxis\": {\"title\": {\"text\": \"Iteration #\"}}, \"yaxis\": {\"title\": {\"text\": \"Loss\"}}},\n",
       "                        {\"responsive\": true}\n",
       "                    ).then(function(){\n",
       "                            \n",
       "var gd = document.getElementById('136ba16a-e457-4874-a6d7-f5bb5f6309a8');\n",
       "var x = new MutationObserver(function (mutations, observer) {{\n",
       "        var display = window.getComputedStyle(gd).display;\n",
       "        if (!display || display === 'none') {{\n",
       "            console.log([gd, 'removed!']);\n",
       "            Plotly.purge(gd);\n",
       "            observer.disconnect();\n",
       "        }}\n",
       "}});\n",
       "\n",
       "// Listen for the removal of the full notebook cells\n",
       "var notebookContainer = gd.closest('#notebook-container');\n",
       "if (notebookContainer) {{\n",
       "    x.observe(notebookContainer, {childList: true});\n",
       "}}\n",
       "\n",
       "// Listen for the clearing of the current output cell\n",
       "var outputEl = gd.closest('.output');\n",
       "if (outputEl) {{\n",
       "    x.observe(outputEl, {childList: true});\n",
       "}}\n",
       "\n",
       "                        })\n",
       "                };\n",
       "                });\n",
       "            </script>\n",
       "        </div>"
      ]
     },
     "metadata": {},
     "output_type": "display_data"
    }
   ],
   "source": [
    "fig = go.Figure() # plotly reference: https://plot.ly/python/line-charts/\n",
    "fig.add_trace(go.Scatter(x=np.arange(len(losses)), y=losses,\n",
    "                    mode='lines',\n",
    "                    name='lines'))\n",
    "# Edit the layout\n",
    "fig.update_layout(yaxis_title='Loss',\n",
    "                   xaxis_title='Iteration #')"
   ]
  },
  {
   "cell_type": "code",
   "execution_count": null,
   "metadata": {},
   "outputs": [],
   "source": []
  }
 ],
 "metadata": {
  "@webio": {
   "lastCommId": null,
   "lastKernelId": null
  },
  "kernelspec": {
   "display_name": "Python 3",
   "language": "python",
   "name": "python3"
  },
  "language_info": {
   "codemirror_mode": {
    "name": "ipython",
    "version": 3
   },
   "file_extension": ".py",
   "mimetype": "text/x-python",
   "name": "python",
   "nbconvert_exporter": "python",
   "pygments_lexer": "ipython3",
   "version": "3.7.4"
  }
 },
 "nbformat": 4,
 "nbformat_minor": 2
}
