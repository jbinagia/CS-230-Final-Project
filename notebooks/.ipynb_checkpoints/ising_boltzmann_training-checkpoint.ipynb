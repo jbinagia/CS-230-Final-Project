{
 "cells": [
  {
   "cell_type": "markdown",
   "metadata": {},
   "source": [
    "# To-do \n",
    "1. implement Boltzmann reweighting so expectation is properly calculated \n",
    "2. implement training by energy and KL loss (see description of training schedule below as well as section \"Adaptive sampling and training\" from Noe et al.) \n",
    "3. (quick and easy) generalize energy functions (they need to expect PyTorch tensors instead of numpy arrays). So for example every `np.sum()` should be `torch.sum()`, etc. \n"
   ]
  },
  {
   "cell_type": "markdown",
   "metadata": {},
   "source": [
    "# Setup"
   ]
  },
  {
   "cell_type": "code",
   "execution_count": 34,
   "metadata": {},
   "outputs": [
    {
     "name": "stdout",
     "output_type": "stream",
     "text": [
      "The autoreload extension is already loaded. To reload it, use:\n",
      "  %reload_ext autoreload\n"
     ]
    }
   ],
   "source": [
    "import os\n",
    "import sys\n",
    "sys.path.insert(0, os.path.join(os.getcwd(), \"..\"))\n",
    "\n",
    "import torch\n",
    "from torch import distributions\n",
    "from torch import nn\n",
    "from sklearn import datasets\n",
    "\n",
    "import numpy as np\n",
    "import matplotlib.pyplot as plt\n",
    "import plotly.graph_objects as go\n",
    "%matplotlib inline\n",
    "%load_ext autoreload\n",
    "%autoreload 2 # Reload all modules every time before executing the Python code typed."
   ]
  },
  {
   "cell_type": "code",
   "execution_count": 35,
   "metadata": {},
   "outputs": [],
   "source": [
    "from project.models.ising import IsingModel\n",
    "import project.networks.net as net"
   ]
  },
  {
   "cell_type": "markdown",
   "metadata": {},
   "source": [
    "# Define Ising Model"
   ]
  },
  {
   "cell_type": "code",
   "execution_count": 36,
   "metadata": {},
   "outputs": [
    {
     "ename": "TypeError",
     "evalue": "zeros_like() received an invalid combination of arguments - got (numpy.ndarray), but expected one of:\n * (Tensor input, torch.dtype dtype, torch.layout layout, torch.device device, bool pin_memory, bool requires_grad)\n * (Tensor input, bool requires_grad)\n",
     "output_type": "error",
     "traceback": [
      "\u001b[0;31m---------------------------------------------------------------------------\u001b[0m",
      "\u001b[0;31mTypeError\u001b[0m                                 Traceback (most recent call last)",
      "\u001b[0;32m<timed eval>\u001b[0m in \u001b[0;36m<module>\u001b[0;34m\u001b[0m\n",
      "\u001b[0;32m~/Desktop/CS-230-Final-Project/notebooks/../project/models/ising.py\u001b[0m in \u001b[0;36menergy\u001b[0;34m(self, x)\u001b[0m\n\u001b[1;32m     29\u001b[0m     \u001b[0;32mdef\u001b[0m \u001b[0menergy\u001b[0m\u001b[0;34m(\u001b[0m\u001b[0mself\u001b[0m\u001b[0;34m,\u001b[0m \u001b[0mx\u001b[0m\u001b[0;34m)\u001b[0m\u001b[0;34m:\u001b[0m\u001b[0;34m\u001b[0m\u001b[0;34m\u001b[0m\u001b[0m\n\u001b[1;32m     30\u001b[0m         \u001b[0;31m# Non-PBCs\u001b[0m\u001b[0;34m\u001b[0m\u001b[0;34m\u001b[0m\u001b[0;34m\u001b[0m\u001b[0m\n\u001b[0;32m---> 31\u001b[0;31m         \u001b[0mneigh\u001b[0m \u001b[0;34m=\u001b[0m \u001b[0mtorch\u001b[0m\u001b[0;34m.\u001b[0m\u001b[0mzeros_like\u001b[0m\u001b[0;34m(\u001b[0m\u001b[0mx\u001b[0m\u001b[0;34m)\u001b[0m\u001b[0;34m\u001b[0m\u001b[0;34m\u001b[0m\u001b[0m\n\u001b[0m\u001b[1;32m     32\u001b[0m         \u001b[0mneigh\u001b[0m\u001b[0;34m[\u001b[0m\u001b[0;34m:\u001b[0m\u001b[0;34m,\u001b[0m \u001b[0;34m:\u001b[0m\u001b[0;34m-\u001b[0m\u001b[0;36m1\u001b[0m\u001b[0;34m]\u001b[0m \u001b[0;34m+=\u001b[0m \u001b[0mx\u001b[0m\u001b[0;34m[\u001b[0m\u001b[0;34m:\u001b[0m\u001b[0;34m,\u001b[0m \u001b[0;36m1\u001b[0m\u001b[0;34m:\u001b[0m\u001b[0;34m]\u001b[0m\u001b[0;34m\u001b[0m\u001b[0;34m\u001b[0m\u001b[0m\n\u001b[1;32m     33\u001b[0m         \u001b[0mneigh\u001b[0m\u001b[0;34m[\u001b[0m\u001b[0;34m:\u001b[0m\u001b[0;34m,\u001b[0m \u001b[0;36m1\u001b[0m\u001b[0;34m:\u001b[0m\u001b[0;34m]\u001b[0m \u001b[0;34m+=\u001b[0m \u001b[0mx\u001b[0m\u001b[0;34m[\u001b[0m\u001b[0;34m:\u001b[0m\u001b[0;34m,\u001b[0m \u001b[0;34m:\u001b[0m\u001b[0;34m-\u001b[0m\u001b[0;36m1\u001b[0m\u001b[0;34m]\u001b[0m\u001b[0;34m\u001b[0m\u001b[0;34m\u001b[0m\u001b[0m\n",
      "\u001b[0;31mTypeError\u001b[0m: zeros_like() received an invalid combination of arguments - got (numpy.ndarray), but expected one of:\n * (Tensor input, torch.dtype dtype, torch.layout layout, torch.device device, bool pin_memory, bool requires_grad)\n * (Tensor input, bool requires_grad)\n"
     ]
    },
    {
     "data": {
      "image/png": "[encoded data removed]",
      "text/plain": [
       "<Figure size 432x432 with 1 Axes>"
      ]
     },
     "metadata": {},
     "output_type": "display_data"
    }
   ],
   "source": [
    "h = 0.0\n",
    "J = 0.8\n",
    "T = 1.0\n",
    "N = 8\n",
    "\n",
    "ising = IsingModel(h = h, J = J)\n",
    "x0 = ising.init_coords(N)\n",
    "\n",
    "ising.draw_config(x0)\n",
    "%time ising.energy(x0) # energy of a given configuration "
   ]
  },
  {
   "cell_type": "markdown",
   "metadata": {},
   "source": [
    "## Create training set\n",
    "We'd like to have a $m$ x $N$ matrix containing our training data where $m$ is the number of realizations of the system and $N$ is the number of features (i.e. the flattened dimensions of the system). For example, a training set with 1000 samples of the Ising Model for $N=8$ would be of size (1000, 64). "
   ]
  },
  {
   "cell_type": "code",
   "execution_count": 37,
   "metadata": {},
   "outputs": [],
   "source": [
    "num_samples = 100 # Use 1000 at run-time as done in Noe et al. for the biwell potential \n",
    "flattened_size = N**2\n",
    "\n",
    "training_set = np.zeros((num_samples,flattened_size), dtype=np.float32)\n",
    "for i in range(num_samples):\n",
    "    training_set[i,:] = ising.init_coords(N).flatten() # generate random configuration \n",
    "training_set = torch.from_numpy(training_set) # convert to PyTorch tensor "
   ]
  },
  {
   "cell_type": "markdown",
   "metadata": {},
   "source": [
    "As an aside, note that although we flatten our configurations for training, the flattening procedure can easily be reversed via the `rehsape()` function: "
   ]
  },
  {
   "cell_type": "code",
   "execution_count": 38,
   "metadata": {
    "scrolled": true
   },
   "outputs": [
    {
     "data": {
      "text/plain": [
       "array([[-1, -1, -1,  1, -1, -1,  1,  1],\n",
       "       [ 1,  1, -1, -1, -1,  1,  1,  1],\n",
       "       [ 1, -1, -1, -1,  1, -1,  1,  1],\n",
       "       [-1,  1, -1,  1, -1, -1, -1,  1],\n",
       "       [ 1,  1, -1, -1, -1,  1, -1,  1],\n",
       "       [ 1, -1, -1, -1,  1,  1, -1,  1],\n",
       "       [ 1,  1, -1,  1, -1,  1,  1, -1],\n",
       "       [ 1, -1,  1,  1,  1, -1, -1,  1]])"
      ]
     },
     "execution_count": 38,
     "metadata": {},
     "output_type": "execute_result"
    }
   ],
   "source": [
    "np.array(x0)"
   ]
  },
  {
   "cell_type": "code",
   "execution_count": 39,
   "metadata": {},
   "outputs": [
    {
     "data": {
      "text/plain": [
       "array([[-1, -1, -1,  1, -1, -1,  1,  1],\n",
       "       [ 1,  1, -1, -1, -1,  1,  1,  1],\n",
       "       [ 1, -1, -1, -1,  1, -1,  1,  1],\n",
       "       [-1,  1, -1,  1, -1, -1, -1,  1],\n",
       "       [ 1,  1, -1, -1, -1,  1, -1,  1],\n",
       "       [ 1, -1, -1, -1,  1,  1, -1,  1],\n",
       "       [ 1,  1, -1,  1, -1,  1,  1, -1],\n",
       "       [ 1, -1,  1,  1,  1, -1, -1,  1]])"
      ]
     },
     "execution_count": 39,
     "metadata": {},
     "output_type": "execute_result"
    }
   ],
   "source": [
    "np.array(x0).flatten().reshape((N,N))"
   ]
  },
  {
   "cell_type": "markdown",
   "metadata": {},
   "source": [
    "# Boltzmann generator\n",
    "## Define network architecture \n",
    "In the following we use 3 hidden layers for the translation and scaling networks and a total of four stacked RealNVP blocks (as defined by `masks`). "
   ]
  },
  {
   "cell_type": "code",
   "execution_count": 40,
   "metadata": {},
   "outputs": [],
   "source": [
    "n_hidden = 100 # number of hidden layers\n",
    "nets = lambda: nn.Sequential(nn.Linear(N**2, n_hidden), nn.Tanh(), nn.Linear(n_hidden, n_hidden), nn.Tanh(), nn.Linear(n_hidden, N**2), nn.Tanh()) # net s\n",
    "nett = lambda: nn.Sequential(nn.Linear(N**2, n_hidden), nn.ReLU(), nn.Linear(n_hidden, n_hidden), nn.ReLU(), nn.Linear(n_hidden, N**2)) # net t\n",
    "\n",
    "first_mask = np.array(np.concatenate((np.ones(round(N**2/2)), np.zeros(round(N**2/2)))))\n",
    "masks_np = np.stack((first_mask, np.flip(first_mask),first_mask,np.flip(first_mask),first_mask, np.flip(first_mask),first_mask, np.flip(first_mask))) \n",
    "masks = torch.from_numpy(masks_np.astype(np.float32))\n",
    "\n",
    "prior = distributions.MultivariateNormal(torch.zeros(N**2), torch.eye(N**2))      # so we have a total of 3 neural blocks (see fig. 1 of boltzmann generators paper)\n",
    "network = net.RealNVP(nets, nett, masks, prior, ising, x0.shape)\n",
    "\n",
    "# network.system.energy(network.g(training_set)) # energy functions need to be rewritten with PyTorch tensors in mind"
   ]
  },
  {
   "cell_type": "markdown",
   "metadata": {},
   "source": [
    "## Train model \n",
    "The training schedule accordingly the main text of Noe et al. is as follows: \n",
    "- Begin with a buffer of 10,000 real space configurations \n",
    "- Train by example, minimizing $J_{ML}$, using a batch size of 128 for 20 iterations (JB: so not even one full epoch?)\n",
    "- Switch to batch size of 1000 and for each batch (iteration) we now perform a Metropolis Monte Carlo step in latent space for each sample in the given batch. \n",
    "\n",
    "### Train by example first\n",
    "Minimizing $J_{ML}$."
   ]
  },
  {
   "cell_type": "code",
   "execution_count": 41,
   "metadata": {},
   "outputs": [
    {
     "name": "stdout",
     "output_type": "stream",
     "text": [
      "iter 0: loss = 3.799\n",
      "iter 100: loss = -31.997\n",
      "iter 200: loss = -41.690\n"
     ]
    }
   ],
   "source": [
    "optimizer = torch.optim.Adam([p for p in network.parameters() if p.requires_grad==True], lr=1e-4)\n",
    "losses = []\n",
    "for t in range(300):    \n",
    "    loss = network.loss(batch = training_set, w_ml = 1.0, w_kl = 0.0)\n",
    "    losses.append(loss.item()) # save values for plotting later \n",
    "    \n",
    "    optimizer.zero_grad() # we need to set the gradients to zero before starting to do \n",
    "                          # backpropragation because PyTorch accumulates the gradients on \n",
    "                          # subsequent backward passes.\n",
    "    loss.backward(retain_graph=True)\n",
    "    optimizer.step()\n",
    "    \n",
    "    if t % 100 == 0:\n",
    "        print('iter %s:' % t, 'loss = %.3f' % loss)"
   ]
  },
  {
   "cell_type": "markdown",
   "metadata": {},
   "source": [
    "### Next train by both example and by energy \n",
    "Minimizing linear combination of $J_{ML}$ and $J_{KL}$."
   ]
  },
  {
   "cell_type": "code",
   "execution_count": 42,
   "metadata": {},
   "outputs": [
    {
     "name": "stdout",
     "output_type": "stream",
     "text": [
      "iter 0: loss = -51.066\n",
      "iter 100: loss = -62.339\n",
      "iter 200: loss = -72.437\n",
      "iter 300: loss = -78.033\n",
      "iter 400: loss = -81.849\n"
     ]
    }
   ],
   "source": [
    "optimizer = torch.optim.Adam([p for p in network.parameters() if p.requires_grad==True], lr=1e-4)\n",
    "for t in range(500):    \n",
    "    loss = network.loss(batch = training_set, w_ml = 1.0, w_kl = 1.0)\n",
    "    losses.append(loss.item())\n",
    "    \n",
    "    optimizer.zero_grad() # we need to set the gradients to zero before starting to do \n",
    "                          # backpropragation because PyTorch accumulates the gradients on \n",
    "                          # subsequent backward passes.\n",
    "    loss.backward(retain_graph=True)\n",
    "    optimizer.step()\n",
    "    \n",
    "    if t % 100 == 0:\n",
    "        print('iter %s:' % t, 'loss = %.3f' % loss)"
   ]
  },
  {
   "cell_type": "markdown",
   "metadata": {},
   "source": [
    "## Visualize results\n",
    "### View loss as a function of iteration steps\n",
    "Training should proceed until the loss approximately levels out. "
   ]
  },
  {
   "cell_type": "code",
   "execution_count": 43,
   "metadata": {},
   "outputs": [
    {
     "data": {
      "application/vnd.plotly.v1+json": {
       "config": {
        "plotlyServerURL": "https://plot.ly"
       },
       "data": [
        {
         "mode": "lines",
         "name": "lines",
         "type": "scatter",
         "x": [
          0,
          1,
          2,
          3,
          4,
          5,
          6,
          7,
          8,
          9,
          10,
          11,
          12,
          13,
          14,
          15,
          16,
          17,
          18,
          19,
          20,
          21,
          22,
          23,
          24,
          25,
          26,
          27,
          28,
          29,
          30,
          31,
          32,
          33,
          34,
          35,
          36,
          37,
          38,
          39,
          40,
          41,
          42,
          43,
          44,
          45,
          46,
          47,
          48,
          49,
          50,
          51,
          52,
          53,
          54,
          55,
          56,
          57,
          58,
          59,
          60,
          61,
          62,
          63,
          64,
          65,
          66,
          67,
          68,
          69,
          70,
          71,
          72,
          73,
          74,
          75,
          76,
          77,
          78,
          79,
          80,
          81,
          82,
          83,
          84,
          85,
          86,
          87,
          88,
          89,
          90,
          91,
          92,
          93,
          94,
          95,
          96,
          97,
          98,
          99,
          100,
          101,
          102,
          103,
          104,
          105,
          106,
          107,
          108,
          109,
          110,
          111,
          112,
          113,
          114,
          115,
          116,
          117,
          118,
          119,
          120,
          121,
          122,
          123,
          124,
          125,
          126,
          127,
          128,
          129,
          130,
          131,
          132,
          133,
          134,
          135,
          136,
          137,
          138,
          139,
          140,
          141,
          142,
          143,
          144,
          145,
          146,
          147,
          148,
          149,
          150,
          151,
          152,
          153,
          154,
          155,
          156,
          157,
          158,
          159,
          160,
          161,
          162,
          163,
          164,
          165,
          166,
          167,
          168,
          169,
          170,
          171,
          172,
          173,
          174,
          175,
          176,
          177,
          178,
          179,
          180,
          181,
          182,
          183,
          184,
          185,
          186,
          187,
          188,
          189,
          190,
          191,
          192,
          193,
          194,
          195,
          196,
          197,
          198,
          199,
          200,
          201,
          202,
          203,
          204,
          205,
          206,
          207,
          208,
          209,
          210,
          211,
          212,
          213,
          214,
          215,
          216,
          217,
          218,
          219,
          220,
          221,
          222,
          223,
          224,
          225,
          226,
          227,
          228,
          229,
          230,
          231,
          232,
          233,
          234,
          235,
          236,
          237,
          238,
          239,
          240,
          241,
          242,
          243,
          244,
          245,
          246,
          247,
          248,
          249,
          250,
          251,
          252,
          253,
          254,
          255,
          256,
          257,
          258,
          259,
          260,
          261,
          262,
          263,
          264,
          265,
          266,
          267,
          268,
          269,
          270,
          271,
          272,
          273,
          274,
          275,
          276,
          277,
          278,
          279,
          280,
          281,
          282,
          283,
          284,
          285,
          286,
          287,
          288,
          289,
          290,
          291,
          292,
          293,
          294,
          295,
          296,
          297,
          298,
          299,
          300,
          301,
          302,
          303,
          304,
          305,
          306,
          307,
          308,
          309,
          310,
          311,
          312,
          313,
          314,
          315,
          316,
          317,
          318,
          319,
          320,
          321,
          322,
          323,
          324,
          325,
          326,
          327,
          328,
          329,
          330,
          331,
          332,
          333,
          334,
          335,
          336,
          337,
          338,
          339,
          340,
          341,
          342,
          343,
          344,
          345,
          346,
          347,
          348,
          349,
          350,
          351,
          352,
          353,
          354,
          355,
          356,
          357,
          358,
          359,
          360,
          361,
          362,
          363,
          364,
          365,
          366,
          367,
          368,
          369,
          370,
          371,
          372,
          373,
          374,
          375,
          376,
          377,
          378,
          379,
          380,
          381,
          382,
          383,
          384,
          385,
          386,
          387,
          388,
          389,
          390,
          391,
          392,
          393,
          394,
          395,
          396,
          397,
          398,
          399,
          400,
          401,
          402,
          403,
          404,
          405,
          406,
          407,
          408,
          409,
          410,
          411,
          412,
          413,
          414,
          415,
          416,
          417,
          418,
          419,
          420,
          421,
          422,
          423,
          424,
          425,
          426,
          427,
          428,
          429,
          430,
          431,
          432,
          433,
          434,
          435,
          436,
          437,
          438,
          439,
          440,
          441,
          442,
          443,
          444,
          445,
          446,
          447,
          448,
          449,
          450,
          451,
          452,
          453,
          454,
          455,
          456,
          457,
          458,
          459,
          460,
          461,
          462,
          463,
          464,
          465,
          466,
          467,
          468,
          469,
          470,
          471,
          472,
          473,
          474,
          475,
          476,
          477,
          478,
          479,
          480,
          481,
          482,
          483,
          484,
          485,
          486,
          487,
          488,
          489,
          490,
          491,
          492,
          493,
          494,
          495,
          496,
          497,
          498,
          499,
          500,
          501,
          502,
          503,
          504,
          505,
          506,
          507,
          508,
          509,
          510,
          511,
          512,
          513,
          514,
          515,
          516,
          517,
          518,
          519,
          520,
          521,
          522,
          523,
          524,
          525,
          526,
          527,
          528,
          529,
          530,
          531,
          532,
          533,
          534,
          535,
          536,
          537,
          538,
          539,
          540,
          541,
          542,
          543,
          544,
          545,
          546,
          547,
          548,
          549,
          550,
          551,
          552,
          553,
          554,
          555,
          556,
          557,
          558,
          559,
          560,
          561,
          562,
          563,
          564,
          565,
          566,
          567,
          568,
          569,
          570,
          571,
          572,
          573,
          574,
          575,
          576,
          577,
          578,
          579,
          580,
          581,
          582,
          583,
          584,
          585,
          586,
          587,
          588,
          589,
          590,
          591,
          592,
          593,
          594,
          595,
          596,
          597,
          598,
          599,
          600,
          601,
          602,
          603,
          604,
          605,
          606,
          607,
          608,
          609,
          610,
          611,
          612,
          613,
          614,
          615,
          616,
          617,
          618,
          619,
          620,
          621,
          622,
          623,
          624,
          625,
          626,
          627,
          628,
          629,
          630,
          631,
          632,
          633,
          634,
          635,
          636,
          637,
          638,
          639,
          640,
          641,
          642,
          643,
          644,
          645,
          646,
          647,
          648,
          649,
          650,
          651,
          652,
          653,
          654,
          655,
          656,
          657,
          658,
          659,
          660,
          661,
          662,
          663,
          664,
          665,
          666,
          667,
          668,
          669,
          670,
          671,
          672,
          673,
          674,
          675,
          676,
          677,
          678,
          679,
          680,
          681,
          682,
          683,
          684,
          685,
          686,
          687,
          688,
          689,
          690,
          691,
          692,
          693,
          694,
          695,
          696,
          697,
          698,
          699,
          700,
          701,
          702,
          703,
          704,
          705,
          706,
          707,
          708,
          709,
          710,
          711,
          712,
          713,
          714,
          715,
          716,
          717,
          718,
          719,
          720,
          721,
          722,
          723,
          724,
          725,
          726,
          727,
          728,
          729,
          730,
          731,
          732,
          733,
          734,
          735,
          736,
          737,
          738,
          739,
          740,
          741,
          742,
          743,
          744,
          745,
          746,
          747,
          748,
          749,
          750,
          751,
          752,
          753,
          754,
          755,
          756,
          757,
          758,
          759,
          760,
          761,
          762,
          763,
          764,
          765,
          766,
          767,
          768,
          769,
          770,
          771,
          772,
          773,
          774,
          775,
          776,
          777,
          778,
          779,
          780,
          781,
          782,
          783,
          784,
          785,
          786,
          787,
          788,
          789,
          790,
          791,
          792,
          793,
          794,
          795,
          796,
          797,
          798,
          799
         ],
         "y": [
          3.798549175262451,
          3.616201877593994,
          3.434279680252075,
          3.2526562213897705,
          3.0711615085601807,
          2.88961124420166,
          2.7078003883361816,
          2.5255184173583984,
          2.34257435798645,
          2.158731460571289,
          1.973758578300476,
          1.7873947620391846,
          1.5993667840957642,
          1.409416913986206,
          1.2172787189483643,
          1.0226799249649048,
          0.8253130316734314,
          0.6248557567596436,
          0.42100661993026733,
          0.21342039108276367,
          0.0017263912595808506,
          -0.21442733705043793,
          -0.43541795015335083,
          -0.6616458892822266,
          -0.8935205936431885,
          -1.1314548254013062,
          -1.375900149345398,
          -1.6273378133773804,
          -1.8862814903259277,
          -2.1532516479492188,
          -2.428776979446411,
          -2.7133984565734863,
          -3.0076751708984375,
          -3.312230110168457,
          -3.627699375152588,
          -3.9547007083892822,
          -4.293899059295654,
          -4.645922660827637,
          -5.011468410491943,
          -5.391232967376709,
          -5.785876274108887,
          -6.196141242980957,
          -6.622700214385986,
          -7.06613826751709,
          -7.527095794677734,
          -8.006048202514648,
          -8.503497123718262,
          -9.019730567932129,
          -9.554880142211914,
          -10.108927726745605,
          -10.681853294372559,
          -11.273123741149902,
          -11.882206916809082,
          -12.507915496826172,
          -13.148811340332031,
          -13.803138732910156,
          -14.46874713897705,
          -15.142891883850098,
          -15.822653770446777,
          -16.504192352294922,
          -17.183664321899414,
          -17.857168197631836,
          -18.520549774169922,
          -19.169675827026367,
          -19.80032730102539,
          -20.408851623535156,
          -20.992643356323242,
          -21.5496826171875,
          -22.079565048217773,
          -22.58258819580078,
          -23.060009002685547,
          -23.5137939453125,
          -23.9467716217041,
          -24.362043380737305,
          -24.76276397705078,
          -25.151874542236328,
          -25.531532287597656,
          -25.90326690673828,
          -26.268022537231445,
          -26.626264572143555,
          -26.977798461914062,
          -27.321935653686523,
          -27.6575984954834,
          -27.98381805419922,
          -28.299814224243164,
          -28.604835510253906,
          -28.898456573486328,
          -29.180191040039062,
          -29.450105667114258,
          -29.708402633666992,
          -29.955686569213867,
          -30.19280242919922,
          -30.4204044342041,
          -30.63935089111328,
          -30.85065460205078,
          -31.055025100708008,
          -31.253389358520508,
          -31.446325302124023,
          -31.634366989135742,
          -31.817792892456055,
          -31.996898651123047,
          -32.17174530029297,
          -32.34245681762695,
          -32.50883865356445,
          -32.671016693115234,
          -32.82911682128906,
          -32.98319625854492,
          -33.13337707519531,
          -33.279972076416016,
          -33.42296600341797,
          -33.56279754638672,
          -33.69977951049805,
          -33.83405303955078,
          -33.965816497802734,
          -34.095272064208984,
          -34.22251892089844,
          -34.34764862060547,
          -34.470577239990234,
          -34.59147644042969,
          -34.71048355102539,
          -34.82734298706055,
          -34.94227600097656,
          -35.05536651611328,
          -35.16679382324219,
          -35.276634216308594,
          -35.38505935668945,
          -35.491943359375,
          -35.59736633300781,
          -35.70158767700195,
          -35.80458450317383,
          -35.90655517578125,
          -36.00749588012695,
          -36.107364654541016,
          -36.20610046386719,
          -36.3038215637207,
          -36.40052795410156,
          -36.496246337890625,
          -36.59098434448242,
          -36.68486785888672,
          -36.77796936035156,
          -36.87018585205078,
          -36.9615364074707,
          -37.05207061767578,
          -37.14193344116211,
          -37.23118591308594,
          -37.319793701171875,
          -37.407798767089844,
          -37.4951057434082,
          -37.581661224365234,
          -37.667625427246094,
          -37.752994537353516,
          -37.837894439697266,
          -37.92236328125,
          -38.00638198852539,
          -38.08990478515625,
          -38.173004150390625,
          -38.255706787109375,
          -38.33802795410156,
          -38.419921875,
          -38.50136947631836,
          -38.58245086669922,
          -38.663246154785156,
          -38.74375915527344,
          -38.82395553588867,
          -38.903839111328125,
          -38.98342514038086,
          -39.062740325927734,
          -39.141788482666016,
          -39.220611572265625,
          -39.29922866821289,
          -39.37766647338867,
          -39.45582580566406,
          -39.533878326416016,
          -39.61183547973633,
          -39.68962097167969,
          -39.76721954345703,
          -39.844696044921875,
          -39.92204284667969,
          -39.99921798706055,
          -40.07623291015625,
          -40.15312576293945,
          -40.23002624511719,
          -40.30684280395508,
          -40.38359832763672,
          -40.46022033691406,
          -40.53675842285156,
          -40.6132698059082,
          -40.689823150634766,
          -40.7663688659668,
          -40.842933654785156,
          -40.919498443603516,
          -40.99612808227539,
          -41.07283020019531,
          -41.14960861206055,
          -41.226505279541016,
          -41.30344772338867,
          -41.380409240722656,
          -41.45750045776367,
          -41.53474044799805,
          -41.61213302612305,
          -41.689659118652344,
          -41.767333984375,
          -41.84516143798828,
          -41.9232063293457,
          -42.001407623291016,
          -42.07972717285156,
          -42.1581916809082,
          -42.23683547973633,
          -42.315711975097656,
          -42.39475631713867,
          -42.47407150268555,
          -42.55362319946289,
          -42.6334114074707,
          -42.713356018066406,
          -42.793582916259766,
          -42.87409210205078,
          -42.95473098754883,
          -43.035640716552734,
          -43.116756439208984,
          -43.19807434082031,
          -43.2796630859375,
          -43.361507415771484,
          -43.4436149597168,
          -43.52591323852539,
          -43.60848617553711,
          -43.69132995605469,
          -43.774436950683594,
          -43.85783386230469,
          -43.941532135009766,
          -44.02553176879883,
          -44.109859466552734,
          -44.19449234008789,
          -44.27937316894531,
          -44.364566802978516,
          -44.45002746582031,
          -44.53582000732422,
          -44.62191390991211,
          -44.708351135253906,
          -44.79518508911133,
          -44.88234329223633,
          -44.96986770629883,
          -45.057716369628906,
          -45.145965576171875,
          -45.23472213745117,
          -45.323883056640625,
          -45.41341781616211,
          -45.50337219238281,
          -45.593692779541016,
          -45.68449401855469,
          -45.77577209472656,
          -45.86747741699219,
          -45.959598541259766,
          -46.05217742919922,
          -46.145179748535156,
          -46.238616943359375,
          -46.332435607910156,
          -46.426719665527344,
          -46.521484375,
          -46.61666488647461,
          -46.7122802734375,
          -46.808345794677734,
          -46.904903411865234,
          -47.00191879272461,
          -47.099300384521484,
          -47.19719314575195,
          -47.295631408691406,
          -47.39456558227539,
          -47.49398422241211,
          -47.593929290771484,
          -47.69432067871094,
          -47.79521560668945,
          -47.896541595458984,
          -47.99836730957031,
          -48.10072326660156,
          -48.20363235473633,
          -48.30697250366211,
          -48.410865783691406,
          -48.5152702331543,
          -48.62015151977539,
          -48.72550964355469,
          -48.83138656616211,
          -48.937767028808594,
          -49.044681549072266,
          -49.1522331237793,
          -49.260257720947266,
          -49.368865966796875,
          -49.47800827026367,
          -49.58766555786133,
          -49.69796371459961,
          -49.80873489379883,
          -49.92014694213867,
          -50.03203201293945,
          -50.144554138183594,
          -50.257625579833984,
          -50.37130355834961,
          -50.48558044433594,
          -50.600555419921875,
          -50.716121673583984,
          -50.83222579956055,
          -50.948997497558594,
          -51.06633758544922,
          -51.1646728515625,
          -51.25971603393555,
          -51.36261749267578,
          -51.452308654785156,
          -51.549041748046875,
          -51.640586853027344,
          -51.73444366455078,
          -51.828243255615234,
          -51.92146301269531,
          -52.01693344116211,
          -52.11220169067383,
          -52.20745086669922,
          -52.304481506347656,
          -52.40163040161133,
          -52.498966217041016,
          -52.59803771972656,
          -52.69660186767578,
          -52.79645919799805,
          -52.89667510986328,
          -52.99736022949219,
          -53.09886169433594,
          -53.201141357421875,
          -53.303680419921875,
          -53.40692901611328,
          -53.511016845703125,
          -53.61546325683594,
          -53.720577239990234,
          -53.82630920410156,
          -53.93269348144531,
          -54.039676666259766,
          -54.147186279296875,
          -54.25529479980469,
          -54.364166259765625,
          -54.47370529174805,
          -54.58401870727539,
          -54.694881439208984,
          -54.806304931640625,
          -54.918304443359375,
          -55.0309944152832,
          -55.144309997558594,
          -55.25785827636719,
          -55.370635986328125,
          -55.48261260986328,
          -55.59610366821289,
          -55.71254348754883,
          -55.827781677246094,
          -55.94065475463867,
          -56.054256439208984,
          -56.17036437988281,
          -56.287071228027344,
          -56.40229415893555,
          -56.51670837402344,
          -56.632843017578125,
          -56.750606536865234,
          -56.86929702758789,
          -56.987098693847656,
          -57.104190826416016,
          -57.22105026245117,
          -57.33839797973633,
          -57.45809555053711,
          -57.57905578613281,
          -57.699832916259766,
          -57.819000244140625,
          -57.9375114440918,
          -58.05665588378906,
          -58.17754364013672,
          -58.300018310546875,
          -58.422569274902344,
          -58.544612884521484,
          -58.666072845458984,
          -58.78691482543945,
          -58.90642166137695,
          -59.024658203125,
          -59.147178649902344,
          -59.274169921875,
          -59.40040969848633,
          -59.5205192565918,
          -59.63850021362305,
          -59.759666442871094,
          -59.885231018066406,
          -60.011985778808594,
          -60.1354866027832,
          -60.256568908691406,
          -60.377159118652344,
          -60.49834060668945,
          -60.623321533203125,
          -60.749874114990234,
          -60.876930236816406,
          -61.00181579589844,
          -61.12504959106445,
          -61.2471923828125,
          -61.367549896240234,
          -61.486698150634766,
          -61.602169036865234,
          -61.723777770996094,
          -61.8547477722168,
          -61.988094329833984,
          -62.10472106933594,
          -62.21857452392578,
          -62.3391227722168,
          -62.45924377441406,
          -62.58705139160156,
          -62.71318054199219,
          -62.82853698730469,
          -62.94453048706055,
          -63.061710357666016,
          -63.176483154296875,
          -63.29584503173828,
          -63.425662994384766,
          -63.54694366455078,
          -63.666622161865234,
          -63.7880744934082,
          -63.90251159667969,
          -64.01359558105469,
          -64.1231918334961,
          -64.2287826538086,
          -64.33624267578125,
          -64.47328186035156,
          -64.60392761230469,
          -64.71709442138672,
          -64.82238006591797,
          -64.92367553710938,
          -65.039794921875,
          -65.1670913696289,
          -65.2868881225586,
          -65.39491271972656,
          -65.50119018554688,
          -65.60493469238281,
          -65.70755767822266,
          -65.8262710571289,
          -65.94657897949219,
          -66.06321716308594,
          -66.17566680908203,
          -66.28606414794922,
          -66.3866958618164,
          -66.47882080078125,
          -66.572509765625,
          -66.66454315185547,
          -66.78933715820312,
          -66.92204284667969,
          -67.04199981689453,
          -67.13566589355469,
          -67.21728515625,
          -67.31771850585938,
          -67.42657470703125,
          -67.54808807373047,
          -67.66249084472656,
          -67.76403045654297,
          -67.85250091552734,
          -67.93742370605469,
          -68.03581237792969,
          -68.13682556152344,
          -68.25432586669922,
          -68.36589813232422,
          -68.47355651855469,
          -68.57212829589844,
          -68.65911865234375,
          -68.74024963378906,
          -68.81068420410156,
          -68.89862060546875,
          -68.99113464355469,
          -69.1244125366211,
          -69.25138854980469,
          -69.34778594970703,
          -69.4170913696289,
          -69.48273468017578,
          -69.58425903320312,
          -69.6947250366211,
          -69.80692291259766,
          -69.90363311767578,
          -69.99099731445312,
          -70.06432342529297,
          -70.13235473632812,
          -70.22547149658203,
          -70.32167053222656,
          -70.4365463256836,
          -70.53434753417969,
          -70.62620544433594,
          -70.717041015625,
          -70.80183410644531,
          -70.87258911132812,
          -70.9295883178711,
          -70.99317169189453,
          -71.03434753417969,
          -71.13603210449219,
          -71.2429428100586,
          -71.39742279052734,
          -71.48893737792969,
          -71.52206420898438,
          -71.58563232421875,
          -71.67549133300781,
          -71.79235076904297,
          -71.88536071777344,
          -71.97052001953125,
          -72.03282928466797,
          -72.08511352539062,
          -72.16094970703125,
          -72.2566909790039,
          -72.35615539550781,
          -72.43666076660156,
          -72.52875518798828,
          -72.60810852050781,
          -72.67514038085938,
          -72.72978210449219,
          -72.77679443359375,
          -72.81307220458984,
          -72.80604553222656,
          -72.89151763916016,
          -73.01947021484375,
          -73.19329833984375,
          -73.26449584960938,
          -73.28229522705078,
          -73.32255554199219,
          -73.40387725830078,
          -73.5414047241211,
          -73.6348648071289,
          -73.66800689697266,
          -73.7118148803711,
          -73.78265380859375,
          -73.8882827758789,
          -73.97240447998047,
          -74.0408706665039,
          -74.1069107055664,
          -74.14830017089844,
          -74.20149230957031,
          -74.2645492553711,
          -74.35009002685547,
          -74.42001342773438,
          -74.49729919433594,
          -74.57687377929688,
          -74.65946960449219,
          -74.730224609375,
          -74.79322052001953,
          -74.8599624633789,
          -74.92901611328125,
          -74.99867248535156,
          -75.05770874023438,
          -75.09281921386719,
          -75.06830596923828,
          -74.93679809570312,
          -74.56597900390625,
          -74.94737243652344,
          -75.37686157226562,
          -75.41510009765625,
          -75.22760009765625,
          -75.35432434082031,
          -75.66181945800781,
          -75.49049377441406,
          -75.47494506835938,
          -75.80216217041016,
          -75.69200134277344,
          -75.6618881225586,
          -75.95182800292969,
          -75.84306335449219,
          -75.87555694580078,
          -76.07813262939453,
          -76.0251693725586,
          -76.103759765625,
          -76.22053527832031,
          -76.2439193725586,
          -76.30931854248047,
          -76.35985565185547,
          -76.47930145263672,
          -76.455810546875,
          -76.56942749023438,
          -76.62864685058594,
          -76.63957214355469,
          -76.73727416992188,
          -76.75932312011719,
          -76.84526062011719,
          -76.84786987304688,
          -76.93142700195312,
          -76.99134826660156,
          -77.02039337158203,
          -77.07763671875,
          -77.12531280517578,
          -77.18680572509766,
          -77.24826049804688,
          -77.27448272705078,
          -77.3322982788086,
          -77.3804702758789,
          -77.44143676757812,
          -77.4946060180664,
          -77.54203796386719,
          -77.58839416503906,
          -77.62725830078125,
          -77.68466186523438,
          -77.72480773925781,
          -77.77429962158203,
          -77.83099365234375,
          -77.87290954589844,
          -77.92549896240234,
          -77.97087097167969,
          -78.01762390136719,
          -78.04222869873047,
          -78.07396697998047,
          -78.05987548828125,
          -78.04290771484375,
          -77.95682525634766,
          -78.03299713134766,
          -78.13789367675781,
          -78.35752868652344,
          -78.45733642578125,
          -78.43701171875,
          -78.38835906982422,
          -78.38871002197266,
          -78.54324340820312,
          -78.67227935791016,
          -78.72289276123047,
          -78.70663452148438,
          -78.68110656738281,
          -78.74697875976562,
          -78.83735656738281,
          -78.94049835205078,
          -78.98986053466797,
          -79.00883483886719,
          -79.01528930664062,
          -79.0186996459961,
          -79.08028411865234,
          -79.13612365722656,
          -79.22789001464844,
          -79.2950439453125,
          -79.34688568115234,
          -79.37931823730469,
          -79.39974975585938,
          -79.42997741699219,
          -79.43673706054688,
          -79.43810272216797,
          -79.3713150024414,
          -79.37293243408203,
          -79.36559295654297,
          -79.56372833251953,
          -79.68000793457031,
          -79.76219940185547,
          -79.80310821533203,
          -79.830810546875,
          -79.83011627197266,
          -79.78138732910156,
          -79.9034194946289,
          -79.99195861816406,
          -80.06742858886719,
          -80.09176635742188,
          -80.1439437866211,
          -80.18924713134766,
          -80.1923599243164,
          -80.1987533569336,
          -80.18927001953125,
          -80.22071075439453,
          -80.18474578857422,
          -80.2541275024414,
          -80.27362060546875,
          -80.41313934326172,
          -80.48958587646484,
          -80.5825424194336,
          -80.61984252929688,
          -80.643310546875,
          -80.64129638671875,
          -80.60260772705078,
          -80.6193618774414,
          -80.60885620117188,
          -80.69959259033203,
          -80.72679138183594,
          -80.8617172241211,
          -80.92459869384766,
          -81.01856231689453,
          -81.01842498779297,
          -81.0115966796875,
          -80.99580383300781,
          -80.95240020751953,
          -80.97029113769531,
          -80.92330932617188,
          -81.0546646118164,
          -81.14309692382812,
          -81.31343078613281,
          -81.307861328125,
          -81.34193420410156,
          -81.28094482421875,
          -81.27940368652344,
          -81.24298858642578,
          -81.23638153076172,
          -81.40315246582031,
          -81.5497817993164,
          -81.60948944091797,
          -81.62620544433594,
          -81.6197280883789,
          -81.63742065429688,
          -81.63998413085938,
          -81.66716003417969,
          -81.7206039428711,
          -81.81344604492188,
          -81.89147186279297,
          -81.93388366699219,
          -81.96839141845703,
          -81.99618530273438,
          -82.03539276123047,
          -82.05056762695312,
          -82.05638885498047,
          -82.0099105834961,
          -81.986083984375,
          -81.8487777709961,
          -81.8266830444336,
          -81.71949768066406,
          -81.9803695678711,
          -82.2114028930664,
          -82.36980438232422,
          -82.30611419677734,
          -82.17445373535156,
          -82.21498107910156,
          -82.30502319335938,
          -82.42800903320312,
          -82.48908233642578,
          -82.54283142089844,
          -82.54838562011719,
          -82.4819107055664,
          -82.54115295410156,
          -82.61503601074219,
          -82.71578979492188,
          -82.74360656738281,
          -82.75205993652344,
          -82.80200958251953,
          -82.82815551757812,
          -82.8221206665039,
          -82.79638671875,
          -82.83535766601562,
          -82.85260009765625,
          -82.86554718017578,
          -82.81523132324219,
          -82.90512084960938,
          -82.94966888427734,
          -83.01050567626953,
          -83.01677703857422,
          -83.11627197265625,
          -83.20587921142578,
          -83.24640655517578,
          -83.24913787841797,
          -83.2797622680664,
          -83.33409881591797,
          -83.3558578491211,
          -83.35230255126953,
          -83.32935333251953,
          -83.32882690429688,
          -83.19033813476562,
          -82.97990417480469,
          -82.54810333251953,
          -82.88278198242188,
          -83.18787384033203,
          -83.55796813964844,
          -83.54010009765625,
          -83.29132843017578,
          -83.32482147216797,
          -83.4829330444336,
          -83.69837951660156,
          -83.66560363769531,
          -83.57254791259766,
          -83.66134643554688,
          -83.70140838623047,
          -83.76319122314453,
          -83.85983276367188,
          -83.88449096679688,
          -83.84873962402344,
          -83.85086822509766,
          -83.95550537109375,
          -83.9877700805664,
          -84.02552032470703,
          -84.07673645019531,
          -84.0718765258789,
          -84.07180786132812,
          -84.09696960449219,
          -84.17184448242188,
          -84.18743133544922,
          -84.20820617675781,
          -84.24688720703125,
          -84.28881072998047,
          -84.30448913574219,
          -84.34046936035156,
          -84.38458251953125,
          -84.40941619873047,
          -84.4040298461914,
          -84.40771484375,
          -84.38119506835938,
          -84.323486328125,
          -84.06737518310547,
          -83.88982391357422,
          -83.4974594116211,
          -83.96056365966797,
          -84.33078002929688,
          -84.5976791381836,
          -84.39171600341797,
          -84.01781463623047,
          -84.4162368774414,
          -84.6889419555664,
          -84.63992309570312,
          -84.57913208007812,
          -84.55448150634766,
          -84.6827621459961,
          -84.74578094482422,
          -84.80126953125,
          -84.81218719482422,
          -84.8161392211914
         ]
        }
       ],
       "layout": {
        "template": {
         "data": {
          "bar": [
           {
            "error_x": {
             "color": "#2a3f5f"
            },
            "error_y": {
             "color": "#2a3f5f"
            },
            "marker": {
             "line": {
              "color": "#E5ECF6",
              "width": 0.5
             }
            },
            "type": "bar"
           }
          ],
          "barpolar": [
           {
            "marker": {
             "line": {
              "color": "#E5ECF6",
              "width": 0.5
             }
            },
            "type": "barpolar"
           }
          ],
          "carpet": [
           {
            "aaxis": {
             "endlinecolor": "#2a3f5f",
             "gridcolor": "white",
             "linecolor": "white",
             "minorgridcolor": "white",
             "startlinecolor": "#2a3f5f"
            },
            "baxis": {
             "endlinecolor": "#2a3f5f",
             "gridcolor": "white",
             "linecolor": "white",
             "minorgridcolor": "white",
             "startlinecolor": "#2a3f5f"
            },
            "type": "carpet"
           }
          ],
          "choropleth": [
           {
            "colorbar": {
             "outlinewidth": 0,
             "ticks": ""
            },
            "type": "choropleth"
           }
          ],
          "contour": [
           {
            "colorbar": {
             "outlinewidth": 0,
             "ticks": ""
            },
            "colorscale": [
             [
              0,
              "#0d0887"
             ],
             [
              0.1111111111111111,
              "#46039f"
             ],
             [
              0.2222222222222222,
              "#7201a8"
             ],
             [
              0.3333333333333333,
              "#9c179e"
             ],
             [
              0.4444444444444444,
              "#bd3786"
             ],
             [
              0.5555555555555556,
              "#d8576b"
             ],
             [
              0.6666666666666666,
              "#ed7953"
             ],
             [
              0.7777777777777778,
              "#fb9f3a"
             ],
             [
              0.8888888888888888,
              "#fdca26"
             ],
             [
              1,
              "#f0f921"
             ]
            ],
            "type": "contour"
           }
          ],
          "contourcarpet": [
           {
            "colorbar": {
             "outlinewidth": 0,
             "ticks": ""
            },
            "type": "contourcarpet"
           }
          ],
          "heatmap": [
           {
            "colorbar": {
             "outlinewidth": 0,
             "ticks": ""
            },
            "colorscale": [
             [
              0,
              "#0d0887"
             ],
             [
              0.1111111111111111,
              "#46039f"
             ],
             [
              0.2222222222222222,
              "#7201a8"
             ],
             [
              0.3333333333333333,
              "#9c179e"
             ],
             [
              0.4444444444444444,
              "#bd3786"
             ],
             [
              0.5555555555555556,
              "#d8576b"
             ],
             [
              0.6666666666666666,
              "#ed7953"
             ],
             [
              0.7777777777777778,
              "#fb9f3a"
             ],
             [
              0.8888888888888888,
              "#fdca26"
             ],
             [
              1,
              "#f0f921"
             ]
            ],
            "type": "heatmap"
           }
          ],
          "heatmapgl": [
           {
            "colorbar": {
             "outlinewidth": 0,
             "ticks": ""
            },
            "colorscale": [
             [
              0,
              "#0d0887"
             ],
             [
              0.1111111111111111,
              "#46039f"
             ],
             [
              0.2222222222222222,
              "#7201a8"
             ],
             [
              0.3333333333333333,
              "#9c179e"
             ],
             [
              0.4444444444444444,
              "#bd3786"
             ],
             [
              0.5555555555555556,
              "#d8576b"
             ],
             [
              0.6666666666666666,
              "#ed7953"
             ],
             [
              0.7777777777777778,
              "#fb9f3a"
             ],
             [
              0.8888888888888888,
              "#fdca26"
             ],
             [
              1,
              "#f0f921"
             ]
            ],
            "type": "heatmapgl"
           }
          ],
          "histogram": [
           {
            "marker": {
             "colorbar": {
              "outlinewidth": 0,
              "ticks": ""
             }
            },
            "type": "histogram"
           }
          ],
          "histogram2d": [
           {
            "colorbar": {
             "outlinewidth": 0,
             "ticks": ""
            },
            "colorscale": [
             [
              0,
              "#0d0887"
             ],
             [
              0.1111111111111111,
              "#46039f"
             ],
             [
              0.2222222222222222,
              "#7201a8"
             ],
             [
              0.3333333333333333,
              "#9c179e"
             ],
             [
              0.4444444444444444,
              "#bd3786"
             ],
             [
              0.5555555555555556,
              "#d8576b"
             ],
             [
              0.6666666666666666,
              "#ed7953"
             ],
             [
              0.7777777777777778,
              "#fb9f3a"
             ],
             [
              0.8888888888888888,
              "#fdca26"
             ],
             [
              1,
              "#f0f921"
             ]
            ],
            "type": "histogram2d"
           }
          ],
          "histogram2dcontour": [
           {
            "colorbar": {
             "outlinewidth": 0,
             "ticks": ""
            },
            "colorscale": [
             [
              0,
              "#0d0887"
             ],
             [
              0.1111111111111111,
              "#46039f"
             ],
             [
              0.2222222222222222,
              "#7201a8"
             ],
             [
              0.3333333333333333,
              "#9c179e"
             ],
             [
              0.4444444444444444,
              "#bd3786"
             ],
             [
              0.5555555555555556,
              "#d8576b"
             ],
             [
              0.6666666666666666,
              "#ed7953"
             ],
             [
              0.7777777777777778,
              "#fb9f3a"
             ],
             [
              0.8888888888888888,
              "#fdca26"
             ],
             [
              1,
              "#f0f921"
             ]
            ],
            "type": "histogram2dcontour"
           }
          ],
          "mesh3d": [
           {
            "colorbar": {
             "outlinewidth": 0,
             "ticks": ""
            },
            "type": "mesh3d"
           }
          ],
          "parcoords": [
           {
            "line": {
             "colorbar": {
              "outlinewidth": 0,
              "ticks": ""
             }
            },
            "type": "parcoords"
           }
          ],
          "scatter": [
           {
            "marker": {
             "colorbar": {
              "outlinewidth": 0,
              "ticks": ""
             }
            },
            "type": "scatter"
           }
          ],
          "scatter3d": [
           {
            "line": {
             "colorbar": {
              "outlinewidth": 0,
              "ticks": ""
             }
            },
            "marker": {
             "colorbar": {
              "outlinewidth": 0,
              "ticks": ""
             }
            },
            "type": "scatter3d"
           }
          ],
          "scattercarpet": [
           {
            "marker": {
             "colorbar": {
              "outlinewidth": 0,
              "ticks": ""
             }
            },
            "type": "scattercarpet"
           }
          ],
          "scattergeo": [
           {
            "marker": {
             "colorbar": {
              "outlinewidth": 0,
              "ticks": ""
             }
            },
            "type": "scattergeo"
           }
          ],
          "scattergl": [
           {
            "marker": {
             "colorbar": {
              "outlinewidth": 0,
              "ticks": ""
             }
            },
            "type": "scattergl"
           }
          ],
          "scattermapbox": [
           {
            "marker": {
             "colorbar": {
              "outlinewidth": 0,
              "ticks": ""
             }
            },
            "type": "scattermapbox"
           }
          ],
          "scatterpolar": [
           {
            "marker": {
             "colorbar": {
              "outlinewidth": 0,
              "ticks": ""
             }
            },
            "type": "scatterpolar"
           }
          ],
          "scatterpolargl": [
           {
            "marker": {
             "colorbar": {
              "outlinewidth": 0,
              "ticks": ""
             }
            },
            "type": "scatterpolargl"
           }
          ],
          "scatterternary": [
           {
            "marker": {
             "colorbar": {
              "outlinewidth": 0,
              "ticks": ""
             }
            },
            "type": "scatterternary"
           }
          ],
          "surface": [
           {
            "colorbar": {
             "outlinewidth": 0,
             "ticks": ""
            },
            "colorscale": [
             [
              0,
              "#0d0887"
             ],
             [
              0.1111111111111111,
              "#46039f"
             ],
             [
              0.2222222222222222,
              "#7201a8"
             ],
             [
              0.3333333333333333,
              "#9c179e"
             ],
             [
              0.4444444444444444,
              "#bd3786"
             ],
             [
              0.5555555555555556,
              "#d8576b"
             ],
             [
              0.6666666666666666,
              "#ed7953"
             ],
             [
              0.7777777777777778,
              "#fb9f3a"
             ],
             [
              0.8888888888888888,
              "#fdca26"
             ],
             [
              1,
              "#f0f921"
             ]
            ],
            "type": "surface"
           }
          ],
          "table": [
           {
            "cells": {
             "fill": {
              "color": "#EBF0F8"
             },
             "line": {
              "color": "white"
             }
            },
            "header": {
             "fill": {
              "color": "#C8D4E3"
             },
             "line": {
              "color": "white"
             }
            },
            "type": "table"
           }
          ]
         },
         "layout": {
          "annotationdefaults": {
           "arrowcolor": "#2a3f5f",
           "arrowhead": 0,
           "arrowwidth": 1
          },
          "colorscale": {
           "diverging": [
            [
             0,
             "#8e0152"
            ],
            [
             0.1,
             "#c51b7d"
            ],
            [
             0.2,
             "#de77ae"
            ],
            [
             0.3,
             "#f1b6da"
            ],
            [
             0.4,
             "#fde0ef"
            ],
            [
             0.5,
             "#f7f7f7"
            ],
            [
             0.6,
             "#e6f5d0"
            ],
            [
             0.7,
             "#b8e186"
            ],
            [
             0.8,
             "#7fbc41"
            ],
            [
             0.9,
             "#4d9221"
            ],
            [
             1,
             "#276419"
            ]
           ],
           "sequential": [
            [
             0,
             "#0d0887"
            ],
            [
             0.1111111111111111,
             "#46039f"
            ],
            [
             0.2222222222222222,
             "#7201a8"
            ],
            [
             0.3333333333333333,
             "#9c179e"
            ],
            [
             0.4444444444444444,
             "#bd3786"
            ],
            [
             0.5555555555555556,
             "#d8576b"
            ],
            [
             0.6666666666666666,
             "#ed7953"
            ],
            [
             0.7777777777777778,
             "#fb9f3a"
            ],
            [
             0.8888888888888888,
             "#fdca26"
            ],
            [
             1,
             "#f0f921"
            ]
           ],
           "sequentialminus": [
            [
             0,
             "#0d0887"
            ],
            [
             0.1111111111111111,
             "#46039f"
            ],
            [
             0.2222222222222222,
             "#7201a8"
            ],
            [
             0.3333333333333333,
             "#9c179e"
            ],
            [
             0.4444444444444444,
             "#bd3786"
            ],
            [
             0.5555555555555556,
             "#d8576b"
            ],
            [
             0.6666666666666666,
             "#ed7953"
            ],
            [
             0.7777777777777778,
             "#fb9f3a"
            ],
            [
             0.8888888888888888,
             "#fdca26"
            ],
            [
             1,
             "#f0f921"
            ]
           ]
          },
          "colorway": [
           "#636efa",
           "#EF553B",
           "#00cc96",
           "#ab63fa",
           "#FFA15A",
           "#19d3f3",
           "#FF6692",
           "#B6E880",
           "#FF97FF",
           "#FECB52"
          ],
          "font": {
           "color": "#2a3f5f"
          },
          "geo": {
           "bgcolor": "white",
           "lakecolor": "white",
           "landcolor": "#E5ECF6",
           "showlakes": true,
           "showland": true,
           "subunitcolor": "white"
          },
          "hoverlabel": {
           "align": "left"
          },
          "hovermode": "closest",
          "mapbox": {
           "style": "light"
          },
          "paper_bgcolor": "white",
          "plot_bgcolor": "#E5ECF6",
          "polar": {
           "angularaxis": {
            "gridcolor": "white",
            "linecolor": "white",
            "ticks": ""
           },
           "bgcolor": "#E5ECF6",
           "radialaxis": {
            "gridcolor": "white",
            "linecolor": "white",
            "ticks": ""
           }
          },
          "scene": {
           "xaxis": {
            "backgroundcolor": "#E5ECF6",
            "gridcolor": "white",
            "gridwidth": 2,
            "linecolor": "white",
            "showbackground": true,
            "ticks": "",
            "zerolinecolor": "white"
           },
           "yaxis": {
            "backgroundcolor": "#E5ECF6",
            "gridcolor": "white",
            "gridwidth": 2,
            "linecolor": "white",
            "showbackground": true,
            "ticks": "",
            "zerolinecolor": "white"
           },
           "zaxis": {
            "backgroundcolor": "#E5ECF6",
            "gridcolor": "white",
            "gridwidth": 2,
            "linecolor": "white",
            "showbackground": true,
            "ticks": "",
            "zerolinecolor": "white"
           }
          },
          "shapedefaults": {
           "line": {
            "color": "#2a3f5f"
           }
          },
          "ternary": {
           "aaxis": {
            "gridcolor": "white",
            "linecolor": "white",
            "ticks": ""
           },
           "baxis": {
            "gridcolor": "white",
            "linecolor": "white",
            "ticks": ""
           },
           "bgcolor": "#E5ECF6",
           "caxis": {
            "gridcolor": "white",
            "linecolor": "white",
            "ticks": ""
           }
          },
          "title": {
           "x": 0.05
          },
          "xaxis": {
           "automargin": true,
           "gridcolor": "white",
           "linecolor": "white",
           "ticks": "",
           "zerolinecolor": "white",
           "zerolinewidth": 2
          },
          "yaxis": {
           "automargin": true,
           "gridcolor": "white",
           "linecolor": "white",
           "ticks": "",
           "zerolinecolor": "white",
           "zerolinewidth": 2
          }
         }
        },
        "xaxis": {
         "title": {
          "text": "Iteration #"
         }
        },
        "yaxis": {
         "title": {
          "text": "Loss"
         }
        }
       }
      },
      "text/html": [
       "<div>\n",
       "        \n",
       "        \n",
       "            <div id=\"55f87a34-af1d-4750-956f-a6ddc601e2ad\" class=\"plotly-graph-div\" style=\"height:525px; width:100%;\"></div>\n",
       "            <script type=\"text/javascript\">\n",
       "                require([\"plotly\"], function(Plotly) {\n",
       "                    window.PLOTLYENV=window.PLOTLYENV || {};\n",
       "                    \n",
       "                if (document.getElementById(\"55f87a34-af1d-4750-956f-a6ddc601e2ad\")) {\n",
       "                    Plotly.newPlot(\n",
       "                        '55f87a34-af1d-4750-956f-a6ddc601e2ad',\n",
       "                        [{\"mode\": \"lines\", \"name\": \"lines\", \"type\": \"scatter\", \"x\": [0, 1, 2, 3, 4, 5, 6, 7, 8, 9, 10, 11, 12, 13, 14, 15, 16, 17, 18, 19, 20, 21, 22, 23, 24, 25, 26, 27, 28, 29, 30, 31, 32, 33, 34, 35, 36, 37, 38, 39, 40, 41, 42, 43, 44, 45, 46, 47, 48, 49, 50, 51, 52, 53, 54, 55, 56, 57, 58, 59, 60, 61, 62, 63, 64, 65, 66, 67, 68, 69, 70, 71, 72, 73, 74, 75, 76, 77, 78, 79, 80, 81, 82, 83, 84, 85, 86, 87, 88, 89, 90, 91, 92, 93, 94, 95, 96, 97, 98, 99, 100, 101, 102, 103, 104, 105, 106, 107, 108, 109, 110, 111, 112, 113, 114, 115, 116, 117, 118, 119, 120, 121, 122, 123, 124, 125, 126, 127, 128, 129, 130, 131, 132, 133, 134, 135, 136, 137, 138, 139, 140, 141, 142, 143, 144, 145, 146, 147, 148, 149, 150, 151, 152, 153, 154, 155, 156, 157, 158, 159, 160, 161, 162, 163, 164, 165, 166, 167, 168, 169, 170, 171, 172, 173, 174, 175, 176, 177, 178, 179, 180, 181, 182, 183, 184, 185, 186, 187, 188, 189, 190, 191, 192, 193, 194, 195, 196, 197, 198, 199, 200, 201, 202, 203, 204, 205, 206, 207, 208, 209, 210, 211, 212, 213, 214, 215, 216, 217, 218, 219, 220, 221, 222, 223, 224, 225, 226, 227, 228, 229, 230, 231, 232, 233, 234, 235, 236, 237, 238, 239, 240, 241, 242, 243, 244, 245, 246, 247, 248, 249, 250, 251, 252, 253, 254, 255, 256, 257, 258, 259, 260, 261, 262, 263, 264, 265, 266, 267, 268, 269, 270, 271, 272, 273, 274, 275, 276, 277, 278, 279, 280, 281, 282, 283, 284, 285, 286, 287, 288, 289, 290, 291, 292, 293, 294, 295, 296, 297, 298, 299, 300, 301, 302, 303, 304, 305, 306, 307, 308, 309, 310, 311, 312, 313, 314, 315, 316, 317, 318, 319, 320, 321, 322, 323, 324, 325, 326, 327, 328, 329, 330, 331, 332, 333, 334, 335, 336, 337, 338, 339, 340, 341, 342, 343, 344, 345, 346, 347, 348, 349, 350, 351, 352, 353, 354, 355, 356, 357, 358, 359, 360, 361, 362, 363, 364, 365, 366, 367, 368, 369, 370, 371, 372, 373, 374, 375, 376, 377, 378, 379, 380, 381, 382, 383, 384, 385, 386, 387, 388, 389, 390, 391, 392, 393, 394, 395, 396, 397, 398, 399, 400, 401, 402, 403, 404, 405, 406, 407, 408, 409, 410, 411, 412, 413, 414, 415, 416, 417, 418, 419, 420, 421, 422, 423, 424, 425, 426, 427, 428, 429, 430, 431, 432, 433, 434, 435, 436, 437, 438, 439, 440, 441, 442, 443, 444, 445, 446, 447, 448, 449, 450, 451, 452, 453, 454, 455, 456, 457, 458, 459, 460, 461, 462, 463, 464, 465, 466, 467, 468, 469, 470, 471, 472, 473, 474, 475, 476, 477, 478, 479, 480, 481, 482, 483, 484, 485, 486, 487, 488, 489, 490, 491, 492, 493, 494, 495, 496, 497, 498, 499, 500, 501, 502, 503, 504, 505, 506, 507, 508, 509, 510, 511, 512, 513, 514, 515, 516, 517, 518, 519, 520, 521, 522, 523, 524, 525, 526, 527, 528, 529, 530, 531, 532, 533, 534, 535, 536, 537, 538, 539, 540, 541, 542, 543, 544, 545, 546, 547, 548, 549, 550, 551, 552, 553, 554, 555, 556, 557, 558, 559, 560, 561, 562, 563, 564, 565, 566, 567, 568, 569, 570, 571, 572, 573, 574, 575, 576, 577, 578, 579, 580, 581, 582, 583, 584, 585, 586, 587, 588, 589, 590, 591, 592, 593, 594, 595, 596, 597, 598, 599, 600, 601, 602, 603, 604, 605, 606, 607, 608, 609, 610, 611, 612, 613, 614, 615, 616, 617, 618, 619, 620, 621, 622, 623, 624, 625, 626, 627, 628, 629, 630, 631, 632, 633, 634, 635, 636, 637, 638, 639, 640, 641, 642, 643, 644, 645, 646, 647, 648, 649, 650, 651, 652, 653, 654, 655, 656, 657, 658, 659, 660, 661, 662, 663, 664, 665, 666, 667, 668, 669, 670, 671, 672, 673, 674, 675, 676, 677, 678, 679, 680, 681, 682, 683, 684, 685, 686, 687, 688, 689, 690, 691, 692, 693, 694, 695, 696, 697, 698, 699, 700, 701, 702, 703, 704, 705, 706, 707, 708, 709, 710, 711, 712, 713, 714, 715, 716, 717, 718, 719, 720, 721, 722, 723, 724, 725, 726, 727, 728, 729, 730, 731, 732, 733, 734, 735, 736, 737, 738, 739, 740, 741, 742, 743, 744, 745, 746, 747, 748, 749, 750, 751, 752, 753, 754, 755, 756, 757, 758, 759, 760, 761, 762, 763, 764, 765, 766, 767, 768, 769, 770, 771, 772, 773, 774, 775, 776, 777, 778, 779, 780, 781, 782, 783, 784, 785, 786, 787, 788, 789, 790, 791, 792, 793, 794, 795, 796, 797, 798, 799], \"y\": [3.798549175262451, 3.616201877593994, 3.434279680252075, 3.2526562213897705, 3.0711615085601807, 2.88961124420166, 2.7078003883361816, 2.5255184173583984, 2.34257435798645, 2.158731460571289, 1.973758578300476, 1.7873947620391846, 1.5993667840957642, 1.409416913986206, 1.2172787189483643, 1.0226799249649048, 0.8253130316734314, 0.6248557567596436, 0.42100661993026733, 0.21342039108276367, 0.0017263912595808506, -0.21442733705043793, -0.43541795015335083, -0.6616458892822266, -0.8935205936431885, -1.1314548254013062, -1.375900149345398, -1.6273378133773804, -1.8862814903259277, -2.1532516479492188, -2.428776979446411, -2.7133984565734863, -3.0076751708984375, -3.312230110168457, -3.627699375152588, -3.9547007083892822, -4.293899059295654, -4.645922660827637, -5.011468410491943, -5.391232967376709, -5.785876274108887, -6.196141242980957, -6.622700214385986, -7.06613826751709, -7.527095794677734, -8.006048202514648, -8.503497123718262, -9.019730567932129, -9.554880142211914, -10.108927726745605, -10.681853294372559, -11.273123741149902, -11.882206916809082, -12.507915496826172, -13.148811340332031, -13.803138732910156, -14.46874713897705, -15.142891883850098, -15.822653770446777, -16.504192352294922, -17.183664321899414, -17.857168197631836, -18.520549774169922, -19.169675827026367, -19.80032730102539, -20.408851623535156, -20.992643356323242, -21.5496826171875, -22.079565048217773, -22.58258819580078, -23.060009002685547, -23.5137939453125, -23.9467716217041, -24.362043380737305, -24.76276397705078, -25.151874542236328, -25.531532287597656, -25.90326690673828, -26.268022537231445, -26.626264572143555, -26.977798461914062, -27.321935653686523, -27.6575984954834, -27.98381805419922, -28.299814224243164, -28.604835510253906, -28.898456573486328, -29.180191040039062, -29.450105667114258, -29.708402633666992, -29.955686569213867, -30.19280242919922, -30.4204044342041, -30.63935089111328, -30.85065460205078, -31.055025100708008, -31.253389358520508, -31.446325302124023, -31.634366989135742, -31.817792892456055, -31.996898651123047, -32.17174530029297, -32.34245681762695, -32.50883865356445, -32.671016693115234, -32.82911682128906, -32.98319625854492, -33.13337707519531, -33.279972076416016, -33.42296600341797, -33.56279754638672, -33.69977951049805, -33.83405303955078, -33.965816497802734, -34.095272064208984, -34.22251892089844, -34.34764862060547, -34.470577239990234, -34.59147644042969, -34.71048355102539, -34.82734298706055, -34.94227600097656, -35.05536651611328, -35.16679382324219, -35.276634216308594, -35.38505935668945, -35.491943359375, -35.59736633300781, -35.70158767700195, -35.80458450317383, -35.90655517578125, -36.00749588012695, -36.107364654541016, -36.20610046386719, -36.3038215637207, -36.40052795410156, -36.496246337890625, -36.59098434448242, -36.68486785888672, -36.77796936035156, -36.87018585205078, -36.9615364074707, -37.05207061767578, -37.14193344116211, -37.23118591308594, -37.319793701171875, -37.407798767089844, -37.4951057434082, -37.581661224365234, -37.667625427246094, -37.752994537353516, -37.837894439697266, -37.92236328125, -38.00638198852539, -38.08990478515625, -38.173004150390625, -38.255706787109375, -38.33802795410156, -38.419921875, -38.50136947631836, -38.58245086669922, -38.663246154785156, -38.74375915527344, -38.82395553588867, -38.903839111328125, -38.98342514038086, -39.062740325927734, -39.141788482666016, -39.220611572265625, -39.29922866821289, -39.37766647338867, -39.45582580566406, -39.533878326416016, -39.61183547973633, -39.68962097167969, -39.76721954345703, -39.844696044921875, -39.92204284667969, -39.99921798706055, -40.07623291015625, -40.15312576293945, -40.23002624511719, -40.30684280395508, -40.38359832763672, -40.46022033691406, -40.53675842285156, -40.6132698059082, -40.689823150634766, -40.7663688659668, -40.842933654785156, -40.919498443603516, -40.99612808227539, -41.07283020019531, -41.14960861206055, -41.226505279541016, -41.30344772338867, -41.380409240722656, -41.45750045776367, -41.53474044799805, -41.61213302612305, -41.689659118652344, -41.767333984375, -41.84516143798828, -41.9232063293457, -42.001407623291016, -42.07972717285156, -42.1581916809082, -42.23683547973633, -42.315711975097656, -42.39475631713867, -42.47407150268555, -42.55362319946289, -42.6334114074707, -42.713356018066406, -42.793582916259766, -42.87409210205078, -42.95473098754883, -43.035640716552734, -43.116756439208984, -43.19807434082031, -43.2796630859375, -43.361507415771484, -43.4436149597168, -43.52591323852539, -43.60848617553711, -43.69132995605469, -43.774436950683594, -43.85783386230469, -43.941532135009766, -44.02553176879883, -44.109859466552734, -44.19449234008789, -44.27937316894531, -44.364566802978516, -44.45002746582031, -44.53582000732422, -44.62191390991211, -44.708351135253906, -44.79518508911133, -44.88234329223633, -44.96986770629883, -45.057716369628906, -45.145965576171875, -45.23472213745117, -45.323883056640625, -45.41341781616211, -45.50337219238281, -45.593692779541016, -45.68449401855469, -45.77577209472656, -45.86747741699219, -45.959598541259766, -46.05217742919922, -46.145179748535156, -46.238616943359375, -46.332435607910156, -46.426719665527344, -46.521484375, -46.61666488647461, -46.7122802734375, -46.808345794677734, -46.904903411865234, -47.00191879272461, -47.099300384521484, -47.19719314575195, -47.295631408691406, -47.39456558227539, -47.49398422241211, -47.593929290771484, -47.69432067871094, -47.79521560668945, -47.896541595458984, -47.99836730957031, -48.10072326660156, -48.20363235473633, -48.30697250366211, -48.410865783691406, -48.5152702331543, -48.62015151977539, -48.72550964355469, -48.83138656616211, -48.937767028808594, -49.044681549072266, -49.1522331237793, -49.260257720947266, -49.368865966796875, -49.47800827026367, -49.58766555786133, -49.69796371459961, -49.80873489379883, -49.92014694213867, -50.03203201293945, -50.144554138183594, -50.257625579833984, -50.37130355834961, -50.48558044433594, -50.600555419921875, -50.716121673583984, -50.83222579956055, -50.948997497558594, -51.06633758544922, -51.1646728515625, -51.25971603393555, -51.36261749267578, -51.452308654785156, -51.549041748046875, -51.640586853027344, -51.73444366455078, -51.828243255615234, -51.92146301269531, -52.01693344116211, -52.11220169067383, -52.20745086669922, -52.304481506347656, -52.40163040161133, -52.498966217041016, -52.59803771972656, -52.69660186767578, -52.79645919799805, -52.89667510986328, -52.99736022949219, -53.09886169433594, -53.201141357421875, -53.303680419921875, -53.40692901611328, -53.511016845703125, -53.61546325683594, -53.720577239990234, -53.82630920410156, -53.93269348144531, -54.039676666259766, -54.147186279296875, -54.25529479980469, -54.364166259765625, -54.47370529174805, -54.58401870727539, -54.694881439208984, -54.806304931640625, -54.918304443359375, -55.0309944152832, -55.144309997558594, -55.25785827636719, -55.370635986328125, -55.48261260986328, -55.59610366821289, -55.71254348754883, -55.827781677246094, -55.94065475463867, -56.054256439208984, -56.17036437988281, -56.287071228027344, -56.40229415893555, -56.51670837402344, -56.632843017578125, -56.750606536865234, -56.86929702758789, -56.987098693847656, -57.104190826416016, -57.22105026245117, -57.33839797973633, -57.45809555053711, -57.57905578613281, -57.699832916259766, -57.819000244140625, -57.9375114440918, -58.05665588378906, -58.17754364013672, -58.300018310546875, -58.422569274902344, -58.544612884521484, -58.666072845458984, -58.78691482543945, -58.90642166137695, -59.024658203125, -59.147178649902344, -59.274169921875, -59.40040969848633, -59.5205192565918, -59.63850021362305, -59.759666442871094, -59.885231018066406, -60.011985778808594, -60.1354866027832, -60.256568908691406, -60.377159118652344, -60.49834060668945, -60.623321533203125, -60.749874114990234, -60.876930236816406, -61.00181579589844, -61.12504959106445, -61.2471923828125, -61.367549896240234, -61.486698150634766, -61.602169036865234, -61.723777770996094, -61.8547477722168, -61.988094329833984, -62.10472106933594, -62.21857452392578, -62.3391227722168, -62.45924377441406, -62.58705139160156, -62.71318054199219, -62.82853698730469, -62.94453048706055, -63.061710357666016, -63.176483154296875, -63.29584503173828, -63.425662994384766, -63.54694366455078, -63.666622161865234, -63.7880744934082, -63.90251159667969, -64.01359558105469, -64.1231918334961, -64.2287826538086, -64.33624267578125, -64.47328186035156, -64.60392761230469, -64.71709442138672, -64.82238006591797, -64.92367553710938, -65.039794921875, -65.1670913696289, -65.2868881225586, -65.39491271972656, -65.50119018554688, -65.60493469238281, -65.70755767822266, -65.8262710571289, -65.94657897949219, -66.06321716308594, -66.17566680908203, -66.28606414794922, -66.3866958618164, -66.47882080078125, -66.572509765625, -66.66454315185547, -66.78933715820312, -66.92204284667969, -67.04199981689453, -67.13566589355469, -67.21728515625, -67.31771850585938, -67.42657470703125, -67.54808807373047, -67.66249084472656, -67.76403045654297, -67.85250091552734, -67.93742370605469, -68.03581237792969, -68.13682556152344, -68.25432586669922, -68.36589813232422, -68.47355651855469, -68.57212829589844, -68.65911865234375, -68.74024963378906, -68.81068420410156, -68.89862060546875, -68.99113464355469, -69.1244125366211, -69.25138854980469, -69.34778594970703, -69.4170913696289, -69.48273468017578, -69.58425903320312, -69.6947250366211, -69.80692291259766, -69.90363311767578, -69.99099731445312, -70.06432342529297, -70.13235473632812, -70.22547149658203, -70.32167053222656, -70.4365463256836, -70.53434753417969, -70.62620544433594, -70.717041015625, -70.80183410644531, -70.87258911132812, -70.9295883178711, -70.99317169189453, -71.03434753417969, -71.13603210449219, -71.2429428100586, -71.39742279052734, -71.48893737792969, -71.52206420898438, -71.58563232421875, -71.67549133300781, -71.79235076904297, -71.88536071777344, -71.97052001953125, -72.03282928466797, -72.08511352539062, -72.16094970703125, -72.2566909790039, -72.35615539550781, -72.43666076660156, -72.52875518798828, -72.60810852050781, -72.67514038085938, -72.72978210449219, -72.77679443359375, -72.81307220458984, -72.80604553222656, -72.89151763916016, -73.01947021484375, -73.19329833984375, -73.26449584960938, -73.28229522705078, -73.32255554199219, -73.40387725830078, -73.5414047241211, -73.6348648071289, -73.66800689697266, -73.7118148803711, -73.78265380859375, -73.8882827758789, -73.97240447998047, -74.0408706665039, -74.1069107055664, -74.14830017089844, -74.20149230957031, -74.2645492553711, -74.35009002685547, -74.42001342773438, -74.49729919433594, -74.57687377929688, -74.65946960449219, -74.730224609375, -74.79322052001953, -74.8599624633789, -74.92901611328125, -74.99867248535156, -75.05770874023438, -75.09281921386719, -75.06830596923828, -74.93679809570312, -74.56597900390625, -74.94737243652344, -75.37686157226562, -75.41510009765625, -75.22760009765625, -75.35432434082031, -75.66181945800781, -75.49049377441406, -75.47494506835938, -75.80216217041016, -75.69200134277344, -75.6618881225586, -75.95182800292969, -75.84306335449219, -75.87555694580078, -76.07813262939453, -76.0251693725586, -76.103759765625, -76.22053527832031, -76.2439193725586, -76.30931854248047, -76.35985565185547, -76.47930145263672, -76.455810546875, -76.56942749023438, -76.62864685058594, -76.63957214355469, -76.73727416992188, -76.75932312011719, -76.84526062011719, -76.84786987304688, -76.93142700195312, -76.99134826660156, -77.02039337158203, -77.07763671875, -77.12531280517578, -77.18680572509766, -77.24826049804688, -77.27448272705078, -77.3322982788086, -77.3804702758789, -77.44143676757812, -77.4946060180664, -77.54203796386719, -77.58839416503906, -77.62725830078125, -77.68466186523438, -77.72480773925781, -77.77429962158203, -77.83099365234375, -77.87290954589844, -77.92549896240234, -77.97087097167969, -78.01762390136719, -78.04222869873047, -78.07396697998047, -78.05987548828125, -78.04290771484375, -77.95682525634766, -78.03299713134766, -78.13789367675781, -78.35752868652344, -78.45733642578125, -78.43701171875, -78.38835906982422, -78.38871002197266, -78.54324340820312, -78.67227935791016, -78.72289276123047, -78.70663452148438, -78.68110656738281, -78.74697875976562, -78.83735656738281, -78.94049835205078, -78.98986053466797, -79.00883483886719, -79.01528930664062, -79.0186996459961, -79.08028411865234, -79.13612365722656, -79.22789001464844, -79.2950439453125, -79.34688568115234, -79.37931823730469, -79.39974975585938, -79.42997741699219, -79.43673706054688, -79.43810272216797, -79.3713150024414, -79.37293243408203, -79.36559295654297, -79.56372833251953, -79.68000793457031, -79.76219940185547, -79.80310821533203, -79.830810546875, -79.83011627197266, -79.78138732910156, -79.9034194946289, -79.99195861816406, -80.06742858886719, -80.09176635742188, -80.1439437866211, -80.18924713134766, -80.1923599243164, -80.1987533569336, -80.18927001953125, -80.22071075439453, -80.18474578857422, -80.2541275024414, -80.27362060546875, -80.41313934326172, -80.48958587646484, -80.5825424194336, -80.61984252929688, -80.643310546875, -80.64129638671875, -80.60260772705078, -80.6193618774414, -80.60885620117188, -80.69959259033203, -80.72679138183594, -80.8617172241211, -80.92459869384766, -81.01856231689453, -81.01842498779297, -81.0115966796875, -80.99580383300781, -80.95240020751953, -80.97029113769531, -80.92330932617188, -81.0546646118164, -81.14309692382812, -81.31343078613281, -81.307861328125, -81.34193420410156, -81.28094482421875, -81.27940368652344, -81.24298858642578, -81.23638153076172, -81.40315246582031, -81.5497817993164, -81.60948944091797, -81.62620544433594, -81.6197280883789, -81.63742065429688, -81.63998413085938, -81.66716003417969, -81.7206039428711, -81.81344604492188, -81.89147186279297, -81.93388366699219, -81.96839141845703, -81.99618530273438, -82.03539276123047, -82.05056762695312, -82.05638885498047, -82.0099105834961, -81.986083984375, -81.8487777709961, -81.8266830444336, -81.71949768066406, -81.9803695678711, -82.2114028930664, -82.36980438232422, -82.30611419677734, -82.17445373535156, -82.21498107910156, -82.30502319335938, -82.42800903320312, -82.48908233642578, -82.54283142089844, -82.54838562011719, -82.4819107055664, -82.54115295410156, -82.61503601074219, -82.71578979492188, -82.74360656738281, -82.75205993652344, -82.80200958251953, -82.82815551757812, -82.8221206665039, -82.79638671875, -82.83535766601562, -82.85260009765625, -82.86554718017578, -82.81523132324219, -82.90512084960938, -82.94966888427734, -83.01050567626953, -83.01677703857422, -83.11627197265625, -83.20587921142578, -83.24640655517578, -83.24913787841797, -83.2797622680664, -83.33409881591797, -83.3558578491211, -83.35230255126953, -83.32935333251953, -83.32882690429688, -83.19033813476562, -82.97990417480469, -82.54810333251953, -82.88278198242188, -83.18787384033203, -83.55796813964844, -83.54010009765625, -83.29132843017578, -83.32482147216797, -83.4829330444336, -83.69837951660156, -83.66560363769531, -83.57254791259766, -83.66134643554688, -83.70140838623047, -83.76319122314453, -83.85983276367188, -83.88449096679688, -83.84873962402344, -83.85086822509766, -83.95550537109375, -83.9877700805664, -84.02552032470703, -84.07673645019531, -84.0718765258789, -84.07180786132812, -84.09696960449219, -84.17184448242188, -84.18743133544922, -84.20820617675781, -84.24688720703125, -84.28881072998047, -84.30448913574219, -84.34046936035156, -84.38458251953125, -84.40941619873047, -84.4040298461914, -84.40771484375, -84.38119506835938, -84.323486328125, -84.06737518310547, -83.88982391357422, -83.4974594116211, -83.96056365966797, -84.33078002929688, -84.5976791381836, -84.39171600341797, -84.01781463623047, -84.4162368774414, -84.6889419555664, -84.63992309570312, -84.57913208007812, -84.55448150634766, -84.6827621459961, -84.74578094482422, -84.80126953125, -84.81218719482422, -84.8161392211914]}],\n",
       "                        {\"template\": {\"data\": {\"bar\": [{\"error_x\": {\"color\": \"#2a3f5f\"}, \"error_y\": {\"color\": \"#2a3f5f\"}, \"marker\": {\"line\": {\"color\": \"#E5ECF6\", \"width\": 0.5}}, \"type\": \"bar\"}], \"barpolar\": [{\"marker\": {\"line\": {\"color\": \"#E5ECF6\", \"width\": 0.5}}, \"type\": \"barpolar\"}], \"carpet\": [{\"aaxis\": {\"endlinecolor\": \"#2a3f5f\", \"gridcolor\": \"white\", \"linecolor\": \"white\", \"minorgridcolor\": \"white\", \"startlinecolor\": \"#2a3f5f\"}, \"baxis\": {\"endlinecolor\": \"#2a3f5f\", \"gridcolor\": \"white\", \"linecolor\": \"white\", \"minorgridcolor\": \"white\", \"startlinecolor\": \"#2a3f5f\"}, \"type\": \"carpet\"}], \"choropleth\": [{\"colorbar\": {\"outlinewidth\": 0, \"ticks\": \"\"}, \"type\": \"choropleth\"}], \"contour\": [{\"colorbar\": {\"outlinewidth\": 0, \"ticks\": \"\"}, \"colorscale\": [[0.0, \"#0d0887\"], [0.1111111111111111, \"#46039f\"], [0.2222222222222222, \"#7201a8\"], [0.3333333333333333, \"#9c179e\"], [0.4444444444444444, \"#bd3786\"], [0.5555555555555556, \"#d8576b\"], [0.6666666666666666, \"#ed7953\"], [0.7777777777777778, \"#fb9f3a\"], [0.8888888888888888, \"#fdca26\"], [1.0, \"#f0f921\"]], \"type\": \"contour\"}], \"contourcarpet\": [{\"colorbar\": {\"outlinewidth\": 0, \"ticks\": \"\"}, \"type\": \"contourcarpet\"}], \"heatmap\": [{\"colorbar\": {\"outlinewidth\": 0, \"ticks\": \"\"}, \"colorscale\": [[0.0, \"#0d0887\"], [0.1111111111111111, \"#46039f\"], [0.2222222222222222, \"#7201a8\"], [0.3333333333333333, \"#9c179e\"], [0.4444444444444444, \"#bd3786\"], [0.5555555555555556, \"#d8576b\"], [0.6666666666666666, \"#ed7953\"], [0.7777777777777778, \"#fb9f3a\"], [0.8888888888888888, \"#fdca26\"], [1.0, \"#f0f921\"]], \"type\": \"heatmap\"}], \"heatmapgl\": [{\"colorbar\": {\"outlinewidth\": 0, \"ticks\": \"\"}, \"colorscale\": [[0.0, \"#0d0887\"], [0.1111111111111111, \"#46039f\"], [0.2222222222222222, \"#7201a8\"], [0.3333333333333333, \"#9c179e\"], [0.4444444444444444, \"#bd3786\"], [0.5555555555555556, \"#d8576b\"], [0.6666666666666666, \"#ed7953\"], [0.7777777777777778, \"#fb9f3a\"], [0.8888888888888888, \"#fdca26\"], [1.0, \"#f0f921\"]], \"type\": \"heatmapgl\"}], \"histogram\": [{\"marker\": {\"colorbar\": {\"outlinewidth\": 0, \"ticks\": \"\"}}, \"type\": \"histogram\"}], \"histogram2d\": [{\"colorbar\": {\"outlinewidth\": 0, \"ticks\": \"\"}, \"colorscale\": [[0.0, \"#0d0887\"], [0.1111111111111111, \"#46039f\"], [0.2222222222222222, \"#7201a8\"], [0.3333333333333333, \"#9c179e\"], [0.4444444444444444, \"#bd3786\"], [0.5555555555555556, \"#d8576b\"], [0.6666666666666666, \"#ed7953\"], [0.7777777777777778, \"#fb9f3a\"], [0.8888888888888888, \"#fdca26\"], [1.0, \"#f0f921\"]], \"type\": \"histogram2d\"}], \"histogram2dcontour\": [{\"colorbar\": {\"outlinewidth\": 0, \"ticks\": \"\"}, \"colorscale\": [[0.0, \"#0d0887\"], [0.1111111111111111, \"#46039f\"], [0.2222222222222222, \"#7201a8\"], [0.3333333333333333, \"#9c179e\"], [0.4444444444444444, \"#bd3786\"], [0.5555555555555556, \"#d8576b\"], [0.6666666666666666, \"#ed7953\"], [0.7777777777777778, \"#fb9f3a\"], [0.8888888888888888, \"#fdca26\"], [1.0, \"#f0f921\"]], \"type\": \"histogram2dcontour\"}], \"mesh3d\": [{\"colorbar\": {\"outlinewidth\": 0, \"ticks\": \"\"}, \"type\": \"mesh3d\"}], \"parcoords\": [{\"line\": {\"colorbar\": {\"outlinewidth\": 0, \"ticks\": \"\"}}, \"type\": \"parcoords\"}], \"scatter\": [{\"marker\": {\"colorbar\": {\"outlinewidth\": 0, \"ticks\": \"\"}}, \"type\": \"scatter\"}], \"scatter3d\": [{\"line\": {\"colorbar\": {\"outlinewidth\": 0, \"ticks\": \"\"}}, \"marker\": {\"colorbar\": {\"outlinewidth\": 0, \"ticks\": \"\"}}, \"type\": \"scatter3d\"}], \"scattercarpet\": [{\"marker\": {\"colorbar\": {\"outlinewidth\": 0, \"ticks\": \"\"}}, \"type\": \"scattercarpet\"}], \"scattergeo\": [{\"marker\": {\"colorbar\": {\"outlinewidth\": 0, \"ticks\": \"\"}}, \"type\": \"scattergeo\"}], \"scattergl\": [{\"marker\": {\"colorbar\": {\"outlinewidth\": 0, \"ticks\": \"\"}}, \"type\": \"scattergl\"}], \"scattermapbox\": [{\"marker\": {\"colorbar\": {\"outlinewidth\": 0, \"ticks\": \"\"}}, \"type\": \"scattermapbox\"}], \"scatterpolar\": [{\"marker\": {\"colorbar\": {\"outlinewidth\": 0, \"ticks\": \"\"}}, \"type\": \"scatterpolar\"}], \"scatterpolargl\": [{\"marker\": {\"colorbar\": {\"outlinewidth\": 0, \"ticks\": \"\"}}, \"type\": \"scatterpolargl\"}], \"scatterternary\": [{\"marker\": {\"colorbar\": {\"outlinewidth\": 0, \"ticks\": \"\"}}, \"type\": \"scatterternary\"}], \"surface\": [{\"colorbar\": {\"outlinewidth\": 0, \"ticks\": \"\"}, \"colorscale\": [[0.0, \"#0d0887\"], [0.1111111111111111, \"#46039f\"], [0.2222222222222222, \"#7201a8\"], [0.3333333333333333, \"#9c179e\"], [0.4444444444444444, \"#bd3786\"], [0.5555555555555556, \"#d8576b\"], [0.6666666666666666, \"#ed7953\"], [0.7777777777777778, \"#fb9f3a\"], [0.8888888888888888, \"#fdca26\"], [1.0, \"#f0f921\"]], \"type\": \"surface\"}], \"table\": [{\"cells\": {\"fill\": {\"color\": \"#EBF0F8\"}, \"line\": {\"color\": \"white\"}}, \"header\": {\"fill\": {\"color\": \"#C8D4E3\"}, \"line\": {\"color\": \"white\"}}, \"type\": \"table\"}]}, \"layout\": {\"annotationdefaults\": {\"arrowcolor\": \"#2a3f5f\", \"arrowhead\": 0, \"arrowwidth\": 1}, \"colorscale\": {\"diverging\": [[0, \"#8e0152\"], [0.1, \"#c51b7d\"], [0.2, \"#de77ae\"], [0.3, \"#f1b6da\"], [0.4, \"#fde0ef\"], [0.5, \"#f7f7f7\"], [0.6, \"#e6f5d0\"], [0.7, \"#b8e186\"], [0.8, \"#7fbc41\"], [0.9, \"#4d9221\"], [1, \"#276419\"]], \"sequential\": [[0.0, \"#0d0887\"], [0.1111111111111111, \"#46039f\"], [0.2222222222222222, \"#7201a8\"], [0.3333333333333333, \"#9c179e\"], [0.4444444444444444, \"#bd3786\"], [0.5555555555555556, \"#d8576b\"], [0.6666666666666666, \"#ed7953\"], [0.7777777777777778, \"#fb9f3a\"], [0.8888888888888888, \"#fdca26\"], [1.0, \"#f0f921\"]], \"sequentialminus\": [[0.0, \"#0d0887\"], [0.1111111111111111, \"#46039f\"], [0.2222222222222222, \"#7201a8\"], [0.3333333333333333, \"#9c179e\"], [0.4444444444444444, \"#bd3786\"], [0.5555555555555556, \"#d8576b\"], [0.6666666666666666, \"#ed7953\"], [0.7777777777777778, \"#fb9f3a\"], [0.8888888888888888, \"#fdca26\"], [1.0, \"#f0f921\"]]}, \"colorway\": [\"#636efa\", \"#EF553B\", \"#00cc96\", \"#ab63fa\", \"#FFA15A\", \"#19d3f3\", \"#FF6692\", \"#B6E880\", \"#FF97FF\", \"#FECB52\"], \"font\": {\"color\": \"#2a3f5f\"}, \"geo\": {\"bgcolor\": \"white\", \"lakecolor\": \"white\", \"landcolor\": \"#E5ECF6\", \"showlakes\": true, \"showland\": true, \"subunitcolor\": \"white\"}, \"hoverlabel\": {\"align\": \"left\"}, \"hovermode\": \"closest\", \"mapbox\": {\"style\": \"light\"}, \"paper_bgcolor\": \"white\", \"plot_bgcolor\": \"#E5ECF6\", \"polar\": {\"angularaxis\": {\"gridcolor\": \"white\", \"linecolor\": \"white\", \"ticks\": \"\"}, \"bgcolor\": \"#E5ECF6\", \"radialaxis\": {\"gridcolor\": \"white\", \"linecolor\": \"white\", \"ticks\": \"\"}}, \"scene\": {\"xaxis\": {\"backgroundcolor\": \"#E5ECF6\", \"gridcolor\": \"white\", \"gridwidth\": 2, \"linecolor\": \"white\", \"showbackground\": true, \"ticks\": \"\", \"zerolinecolor\": \"white\"}, \"yaxis\": {\"backgroundcolor\": \"#E5ECF6\", \"gridcolor\": \"white\", \"gridwidth\": 2, \"linecolor\": \"white\", \"showbackground\": true, \"ticks\": \"\", \"zerolinecolor\": \"white\"}, \"zaxis\": {\"backgroundcolor\": \"#E5ECF6\", \"gridcolor\": \"white\", \"gridwidth\": 2, \"linecolor\": \"white\", \"showbackground\": true, \"ticks\": \"\", \"zerolinecolor\": \"white\"}}, \"shapedefaults\": {\"line\": {\"color\": \"#2a3f5f\"}}, \"ternary\": {\"aaxis\": {\"gridcolor\": \"white\", \"linecolor\": \"white\", \"ticks\": \"\"}, \"baxis\": {\"gridcolor\": \"white\", \"linecolor\": \"white\", \"ticks\": \"\"}, \"bgcolor\": \"#E5ECF6\", \"caxis\": {\"gridcolor\": \"white\", \"linecolor\": \"white\", \"ticks\": \"\"}}, \"title\": {\"x\": 0.05}, \"xaxis\": {\"automargin\": true, \"gridcolor\": \"white\", \"linecolor\": \"white\", \"ticks\": \"\", \"zerolinecolor\": \"white\", \"zerolinewidth\": 2}, \"yaxis\": {\"automargin\": true, \"gridcolor\": \"white\", \"linecolor\": \"white\", \"ticks\": \"\", \"zerolinecolor\": \"white\", \"zerolinewidth\": 2}}}, \"xaxis\": {\"title\": {\"text\": \"Iteration #\"}}, \"yaxis\": {\"title\": {\"text\": \"Loss\"}}},\n",
       "                        {\"responsive\": true}\n",
       "                    ).then(function(){\n",
       "                            \n",
       "var gd = document.getElementById('55f87a34-af1d-4750-956f-a6ddc601e2ad');\n",
       "var x = new MutationObserver(function (mutations, observer) {{\n",
       "        var display = window.getComputedStyle(gd).display;\n",
       "        if (!display || display === 'none') {{\n",
       "            console.log([gd, 'removed!']);\n",
       "            Plotly.purge(gd);\n",
       "            observer.disconnect();\n",
       "        }}\n",
       "}});\n",
       "\n",
       "// Listen for the removal of the full notebook cells\n",
       "var notebookContainer = gd.closest('#notebook-container');\n",
       "if (notebookContainer) {{\n",
       "    x.observe(notebookContainer, {childList: true});\n",
       "}}\n",
       "\n",
       "// Listen for the clearing of the current output cell\n",
       "var outputEl = gd.closest('.output');\n",
       "if (outputEl) {{\n",
       "    x.observe(outputEl, {childList: true});\n",
       "}}\n",
       "\n",
       "                        })\n",
       "                };\n",
       "                });\n",
       "            </script>\n",
       "        </div>"
      ]
     },
     "metadata": {},
     "output_type": "display_data"
    }
   ],
   "source": [
    "fig = go.Figure() # plotly reference: https://plot.ly/python/line-charts/\n",
    "fig.add_trace(go.Scatter(x=np.arange(len(losses)), y=losses,\n",
    "                    mode='lines',\n",
    "                    name='lines'))\n",
    "# Edit the layout\n",
    "fig.update_layout(yaxis_title='Loss',\n",
    "                   xaxis_title='Iteration #')"
   ]
  },
  {
   "cell_type": "code",
   "execution_count": null,
   "metadata": {},
   "outputs": [],
   "source": []
  }
 ],
 "metadata": {
  "@webio": {
   "lastCommId": null,
   "lastKernelId": null
  },
  "kernelspec": {
   "display_name": "Python 3",
   "language": "python",
   "name": "python3"
  },
  "language_info": {
   "codemirror_mode": {
    "name": "ipython",
    "version": 3
   },
   "file_extension": ".py",
   "mimetype": "text/x-python",
   "name": "python",
   "nbconvert_exporter": "python",
   "pygments_lexer": "ipython3",
   "version": "3.7.4"
  }
 },
 "nbformat": 4,
 "nbformat_minor": 2
}
