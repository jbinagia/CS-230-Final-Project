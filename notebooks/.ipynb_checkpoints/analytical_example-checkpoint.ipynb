{
 "cells": [
  {
   "cell_type": "markdown",
   "metadata": {},
   "source": [
    "# Imports and Packages"
   ]
  },
  {
   "cell_type": "code",
   "execution_count": 1,
   "metadata": {},
   "outputs": [
    {
     "data": {
      "text/plain": [
       "<torch._C.Generator at 0x111c177f0>"
      ]
     },
     "execution_count": 1,
     "metadata": {},
     "output_type": "execute_result"
    }
   ],
   "source": [
    "import os\n",
    "import sys\n",
    "sys.path.insert(0, os.path.join(os.getcwd(), \"..\"))\n",
    "\n",
    "import torch\n",
    "from torch import distributions\n",
    "from torch import nn\n",
    "from torch.utils import data\n",
    "from sklearn import datasets\n",
    "\n",
    "import random\n",
    "import numpy as np\n",
    "import matplotlib.pyplot as plt\n",
    "import plotly.graph_objects as go\n",
    "import plotly.express as px\n",
    "\n",
    "from scipy.stats import norm\n",
    "from mpl_toolkits.mplot3d import Axes3D\n",
    "import project\n",
    "from project.utils import *\n",
    "from project.models.ising import IsingModel\n",
    "from project.models.sho   import SHOModel\n",
    "import project.networks.net as net\n",
    "\n",
    "%matplotlib inline\n",
    "%load_ext autoreload\n",
    "%autoreload 2 # Reload all modules every time before executing the Python code typed.\n",
    "\n",
    "np.random.seed(seed=0)\n",
    "torch.manual_seed(0)"
   ]
  },
  {
   "cell_type": "markdown",
   "metadata": {},
   "source": [
    "## Trivial Model (two beads in a 1D box connected by a spring)"
   ]
  },
  {
   "cell_type": "markdown",
   "metadata": {},
   "source": [
    "The goal of this notebook is to construct a trivially \"easy\" system for which we can analytically solve for the latent space transformation (x to z) which maps the Boltzmann distribution in the coordinate space (x) to a Normal distribution in the latent space (z).\n",
    "\n",
    "Consider a system of two beads in a 1D box, with spatial coordinates x1 and x2. Let a spring with spring constant k and rest length zero connect the two beads. Also, for simplicity, let us confine bead #1 within some length L. The Hamiltonian for this system is:\n",
    "\n",
    "$$ H(x_1,x_2;k) = \n",
    "\\begin{cases}\n",
    "k\\,(x_2-x_1)^2 ~~&~~ \\text{if  } 0 \\leq x_1 \\leq L \\\\\n",
    "\\infty ~~&~~ \\text{otherwise}\n",
    "\\end{cases}$$"
   ]
  },
  {
   "cell_type": "code",
   "execution_count": 2,
   "metadata": {},
   "outputs": [],
   "source": [
    "# Hamiltonian for System (deal with confinement by adjusting domain of x1, later)\n",
    "def H(x1,x2,k):\n",
    "    return (k*(x2-x1)**2)"
   ]
  },
  {
   "cell_type": "markdown",
   "metadata": {},
   "source": [
    "The equilibrium distribution of this trivial system is given by the Boltzmann distribution. Since this potential is easy, we can go ahead and normalize the distribution right away. \n",
    "\n",
    "$$\n",
    "Z = \\int_{-\\infty}^\\infty dx_2 \\int_0^L dx_1 \\, {\\rm exp} \\left( -k (x_2 - x_1)^2 \\right) \n",
    "  = \\sqrt{ \\frac{\\pi L^2}{k} }\n",
    "$$"
   ]
  },
  {
   "cell_type": "code",
   "execution_count": 3,
   "metadata": {},
   "outputs": [],
   "source": [
    "# Boltzmann Distribution\n",
    "def boltzmann(E,L,k,beta=1):\n",
    "    return np.exp(-beta*E)/(np.sqrt(np.pi*L*L/k))"
   ]
  },
  {
   "cell_type": "markdown",
   "metadata": {},
   "source": [
    "Let's visualize the probability distribution in the x1-x2 space:"
   ]
  },
  {
   "cell_type": "code",
   "execution_count": 4,
   "metadata": {},
   "outputs": [
    {
     "data": {
      "text/plain": [
       "<matplotlib.colorbar.Colorbar at 0x1a2af09c90>"
      ]
     },
     "execution_count": 4,
     "metadata": {},
     "output_type": "execute_result"
    },
    {
     "data": {
      "image/png": "[encoded data removed]",
      "text/plain": [
       "<Figure size 388.8x360 with 2 Axes>"
      ]
     },
     "metadata": {
      "needs_background": "light"
     },
     "output_type": "display_data"
    }
   ],
   "source": [
    "# Domain \n",
    "k = 1\n",
    "L = 4\n",
    "n = 1001\n",
    "\n",
    "# x1 is constrained by 0 to L\n",
    "x1space = np.linspace(0+0.0000001,L-0.0000001,n)\n",
    "x2space = np.linspace(-5,L+5,n)\n",
    "X1,X2 = np.meshgrid(x1space,x2space)\n",
    "P = boltzmann(H(X1,X2,k),L,k)\n",
    "\n",
    "# Plot\n",
    "plt.figure(figsize=(5.4,5))\n",
    "plt.title('PDF in coordinate space')\n",
    "plt.xlabel('x1')\n",
    "plt.ylabel('x2')\n",
    "plt.ylim([-1,L+1])\n",
    "plt.contourf(X1,X2,P,15,cmap='copper')\n",
    "plt.colorbar()"
   ]
  },
  {
   "cell_type": "markdown",
   "metadata": {},
   "source": [
    "We would like to solve for a transformation from coordinate space (x1, x2) to latent space (z1, z2) such that the PDF in the latent space is a normal distribution.\n",
    "\n",
    "I obtain the following transformations when I solve (sorry I did this on paper -- Kevin):\n",
    "\n",
    "$$ \\begin{align*}\n",
    "z_1 &= \\Phi^{-1} \\left( \\frac{x_1}{L} \\right) \\\\\n",
    "z_2 &= \\sqrt{2k}\\,|\\,x_2-x_1|  \n",
    "\\end{align*} $$\n",
    "\n",
    "Above, $\\Phi$ is the inverse Gaussian cumulative distribution function."
   ]
  },
  {
   "cell_type": "code",
   "execution_count": 5,
   "metadata": {},
   "outputs": [],
   "source": [
    "# Transform coordinates\n",
    "Z1 = norm.ppf(X1/L)\n",
    "Z2 = np.sqrt(2.0*k)*(X2 - X1)"
   ]
  },
  {
   "cell_type": "markdown",
   "metadata": {},
   "source": [
    "Since the transformation above is not affine (non-linear), we need to reweight the probability distribution in latent space (z1, z2). This is accomplished by enforcing the following equality.\n",
    "\n",
    "$$ p({\\bf x})\\,d{\\bf x} = \\bar{p}({\\bf z})\\,d{\\bf z} $$\n",
    "\n",
    "Above, ${\\bf x} = (x_1,x_2)$ and ${\\bf z} = (z_1,z_2)$ are vector quantities."
   ]
  },
  {
   "cell_type": "markdown",
   "metadata": {},
   "source": [
    "To compute the transformed distribution in latent space, we need the Jacobian $d {\\bf z}/d {\\bf x}$.\n",
    "\n",
    "It is first helpful to differentiate the inverse Gaussian CDF.\n",
    "\n",
    "$$ \\begin{align*}\n",
    "\\frac{d \\Phi^{-1}(x)}{dx} \n",
    "&= \\left( \\frac{dx}{d\\,(\\Phi^{-1} (x))} \\right)^{-1} \n",
    " = \\left( \\frac{d\\,\\left[\\Phi(\\Phi^{-1} (x))\\right]}{d (\\Phi^{-1}(x))}\\right)^{-1} \\\\\n",
    "&= \\frac{1}{\\phi\\left( \\Phi^{-1}(x) \\right)}\n",
    "\\end{align*} $$ \n",
    "\n",
    "Above, $\\phi = \\Phi'$ is the Gaussian PDF.\n",
    "\n",
    "Using this result, the Jacobian matrix is:\n",
    "$$ J \\equiv \n",
    "\\begin{bmatrix}\n",
    "\\frac{\\partial z_1}{\\partial x_1} & \\frac{\\partial z_1}{\\partial x_2} \\\\\n",
    "\\frac{\\partial z_2}{\\partial x_1} & \\frac{\\partial z_2}{\\partial x_2}\n",
    "\\end{bmatrix} = \n",
    "\\begin{bmatrix}\n",
    "\\frac{1}{L\\,\\phi \\left( \\Phi^{-1} (x_1/L) \\right)} & 0 \\\\\n",
    "-\\sqrt{2k} & \\sqrt{2k} \n",
    "\\end{bmatrix}$$\n",
    "\n",
    "$$ \\text{det}(J) = \\frac{\\sqrt{2k}}{L\\,\\phi \\left( z_1 \\right)} $$\n",
    "\n",
    "Thus, we must rescale the probability distribution according to:\n",
    "\n",
    "$$ \\bar{p}({\\bf z}) = \\left( \\frac{L\\,\\phi \\left( z_1 \\right)}{\\sqrt{2k}} \\right) p({\\bf x})$$\n",
    "\n",
    "We visualize the latent space distribution below:"
   ]
  },
  {
   "cell_type": "code",
   "execution_count": 6,
   "metadata": {},
   "outputs": [
    {
     "data": {
      "image/png": "[encoded data removed]",
      "text/plain": [
       "<Figure size 864x360 with 4 Axes>"
      ]
     },
     "metadata": {
      "needs_background": "light"
     },
     "output_type": "display_data"
    }
   ],
   "source": [
    "# Reweight the PDF\n",
    "PZ = P*L*(norm.pdf(Z1))/(np.sqrt(2.0*k))\n",
    "\n",
    "# 2D normal distribution for comparison\n",
    "G = np.exp(-0.5*(np.power(Z1,2)+np.power(Z2,2)))/(2.0*np.pi)\n",
    "\n",
    "# Visualize\n",
    "stdevs = 3\n",
    "fig, (ax1,ax2) = plt.subplots(1,2, figsize=(12,5))\n",
    "\n",
    "ax1.set_title('PDF in latent space')\n",
    "ax1.set(xlabel='z1', ylabel='z2', xlim=[-stdevs,stdevs], ylim=[-stdevs,stdevs]) \n",
    "im = ax1.contourf(Z1,Z2,PZ,15,cmap='copper')\n",
    "fig.colorbar(im, ax=ax1);\n",
    "\n",
    "ax2.set_title('Normal Distribution in latent space')\n",
    "ax2.set(xlabel='z1', ylabel='z2', xlim=[-stdevs,stdevs], ylim=[-stdevs,stdevs])\n",
    "im = ax2.contourf(Z1,Z2,G,15,cmap='copper')\n",
    "fig.colorbar(im, ax=ax2);"
   ]
  },
  {
   "cell_type": "markdown",
   "metadata": {},
   "source": [
    "## Inversion (sample from latent space)"
   ]
  },
  {
   "cell_type": "markdown",
   "metadata": {},
   "source": [
    "Let's check to see that the reverse works too. The inverted transformation is defined by:\n",
    "\n",
    "$$ \\begin{align*}\n",
    "x_1 &= L \\, \\Phi (z_1) \\\\ \n",
    "x_2 &= L \\, \\Phi (z_1) + \\frac{z_2}{\\sqrt{2k}}\n",
    "\\end{align*} $$\n",
    "\n",
    "$$ p({\\bf x}) = \\left( \\frac{\\sqrt{2k}}{L\\,\\phi \\left( \\Phi^{-1} (x_1/L) \\right)} \\right) \\bar{p} ({\\bf z}) $$"
   ]
  },
  {
   "cell_type": "markdown",
   "metadata": {},
   "source": [
    "Let's use a uniformly spaced grid in the latent space to do the backwards conversion."
   ]
  },
  {
   "cell_type": "code",
   "execution_count": 7,
   "metadata": {},
   "outputs": [
    {
     "data": {
      "image/png": "[encoded data removed]",
      "text/plain": [
       "<Figure size 864x360 with 4 Axes>"
      ]
     },
     "metadata": {
      "needs_background": "light"
     },
     "output_type": "display_data"
    }
   ],
   "source": [
    "# Make the grid\n",
    "stdevs = 10\n",
    "Z1inv, Z2inv = np.meshgrid( np.linspace(-stdevs,stdevs,n), np.linspace(-stdevs,stdevs,n))\n",
    "Ginv = np.exp(-0.5*(np.power(Z1inv,2)+np.power(Z2inv,2)))/(2.0*np.pi)\n",
    "\n",
    "# Invert the distribution\n",
    "X1inv = L*norm.cdf(Z1inv)\n",
    "X2inv = X1inv + Z2inv/(np.sqrt(2.0*k))\n",
    "Pinv  = (np.sqrt(2*k)/(L*norm.pdf(Z1inv)))*Ginv\n",
    "\n",
    "# Visualize\n",
    "fig, (ax1,ax2) = plt.subplots(1,2, figsize=(12,5))\n",
    "\n",
    "ax1.set_title('PDF in coordinate space')\n",
    "ax1.set(xlabel='x1', ylabel='x2', xlim=[0,L], ylim=[-5,L+5]) \n",
    "im = ax1.contourf(X1inv,X2inv,Pinv,15,cmap='copper')\n",
    "fig.colorbar(im, ax=ax1);\n",
    "\n",
    "ax2.set_title('Boltzmann distribution')\n",
    "ax2.set(xlabel='x1', ylabel='x2', xlim=[0,L], ylim=[-5,L+5])\n",
    "im = ax2.contourf(X1,X2,P,15,cmap='copper')\n",
    "fig.colorbar(im, ax=ax2);"
   ]
  },
  {
   "cell_type": "markdown",
   "metadata": {},
   "source": [
    "So some notes:\n",
    "\n",
    "The deep machine learning framework should theoretically learn the transformation between x and z defined above, since for this trivial example a perfect functional form exists. The network must be expressive enough to approximate the Gaussian CDF function, which is non-linear and non-analytical (requires an error function).\n",
    "\n",
    "So first - I would assume that in general such a transformation always exists. The intuition here is that we are preserving the dimension of the initial space. We can theoretically map each degree of freedom to an independent Gaussian, which can be combined to make a multivariate normal distribution with identity covariance. Mathematically then, one of the interesting parts of this transformation is fitting the covariance matrix. An identity covariance matrix indicates that no degrees of freedom can be removed. I suspect in the limit that L goes to infinity, or k goes to infinity, the fitting here cannot be accomplished without correlating the two variables in latent space. Said differently, if z1 = z2, then we know that there is only one true degree of freedom in the system. This suggests taht any analysis of the order parameter will revolve around the efficacy of fit to the covariance matrix. I haven't given the paper a close look, but if we set it as a hyperparameter we could learn a lot. \n",
    "\n",
    "Second, if you look at the math, the network could accomplish it's goal (zero loss) by learning a transformation to any rotation of z1 and z2. However, for this trivial example, this is the only rotation of z1 and z2 that makes intuitive sense. One latent coordinate represents the position of particle 1 (z1) and the other represents the bond distance (z2). Any pure rotation in z1 and z2 produces the same distribution, however, due to the rotational symmetry of the normal distribution (with identity covariance). Thus, we may *lose* information on learning, since we can no longer cleanly separate the two. It would be interesting if we could account for this somehow, i.e., how do we tell the network to look for an intuitive parameterization.\n",
    "\n",
    "tl;dr\n",
    "\n",
    "Let's run the methodology in the paper on this example.\n",
    "\n",
    "My intuition is that we should use the covariance matrix as a hyperparameter. It should give us physical insight into the systems we simulate, and we might be able to establish some metrics."
   ]
  },
  {
   "cell_type": "markdown",
   "metadata": {},
   "source": [
    "## Try Boltzmann Generators"
   ]
  },
  {
   "cell_type": "code",
   "execution_count": 8,
   "metadata": {},
   "outputs": [
    {
     "data": {
      "text/plain": [
       "<matplotlib.colorbar.Colorbar at 0x1a34030fd0>"
      ]
     },
     "execution_count": 8,
     "metadata": {},
     "output_type": "execute_result"
    },
    {
     "data": {
      "image/png": "[encoded data removed]",
      "text/plain": [
       "<Figure size 388.8x360 with 2 Axes>"
      ]
     },
     "metadata": {
      "needs_background": "light"
     },
     "output_type": "display_data"
    }
   ],
   "source": [
    "# Parameters\n",
    "k = 2 # spring constant. 0.5 is probably lowest we would want to go. \n",
    "L = 4 # size of box \n",
    "n = 1001 # discretization of domain \n",
    "\n",
    "# Source probability distribution (real space)\n",
    "x1space = np.linspace(0+0.0000001,L-0.0000001,n)\n",
    "x2space = np.linspace(-5,L+5,n)\n",
    "X1,X2 = np.meshgrid(x1space,x2space)\n",
    "P = boltzmann(H(X1,X2,k),L,k)\n",
    "plt.figure(figsize=(5.4,5))\n",
    "plt.title('PDF in coordinate space')\n",
    "plt.xlabel('x1')\n",
    "plt.ylabel('x2')\n",
    "plt.ylim([-1,L+1])\n",
    "plt.contourf(X1,X2,P,15,cmap='copper')\n",
    "plt.colorbar()"
   ]
  },
  {
   "cell_type": "code",
   "execution_count": 9,
   "metadata": {
    "scrolled": false
   },
   "outputs": [
    {
     "name": "stdout",
     "output_type": "stream",
     "text": [
      "float32\n",
      "(3200, 2)\n"
     ]
    },
    {
     "data": {
      "text/plain": [
       "<matplotlib.collections.PathCollection at 0x1a341558d0>"
      ]
     },
     "execution_count": 9,
     "metadata": {},
     "output_type": "execute_result"
    },
    {
     "data": {
      "image/png": "[encoded data removed]",
      "text/plain": [
       "<Figure size 360x360 with 1 Axes>"
      ]
     },
     "metadata": {
      "needs_background": "light"
     },
     "output_type": "display_data"
    }
   ],
   "source": [
    "# Create a training set\n",
    "train_set_size = 128*25 # 25 batches, where each batch is of size 128 \n",
    "\n",
    "# x1 is a uniformly distributed variable from 0 to L, and\n",
    "# (x2-x1) is Gaussian distributed with zero mean and stdev of (2k)^-0.5 (to recapitulate the Boltzmann distribution)\n",
    "def sample(n,L,k):\n",
    "    x1 = L*np.random.random((n,1))\n",
    "    x2 = x1 + np.random.normal(scale=np.power(2*k,-0.5),size=(n,1)) # scale is std. dev \n",
    "    #x2 = x1 + np.random.normal(size=(n,1))/np.sqrt(2*k) # equivalent to the above \n",
    "    return np.hstack((x1,x2)).astype('float32')\n",
    "    # np.hstack(): Stack arrays in sequence horizontally\n",
    "    \n",
    "# used for debugging\n",
    "def sample1D(n,L,k):\n",
    "    x1 = 2.0\n",
    "    x2 = x1 + np.random.normal(size=(n,1))/np.sqrt(2*k)\n",
    "    return x2.astype('float32')\n",
    "\n",
    "# Generate training set\n",
    "train_set = sample(train_set_size,L,k)\n",
    "print(train_set.dtype)\n",
    "print(train_set.shape) # should be 128*25 x 2 \n",
    "\n",
    "# Visualize training set\n",
    "plt.figure(figsize=(5,5))\n",
    "plt.title('Training set distribution')\n",
    "plt.xlabel('x1')\n",
    "plt.ylabel('x2')\n",
    "plt.xlim([0,L])\n",
    "plt.ylim([-1,L+1])\n",
    "plt.scatter(train_set[:,0],train_set[:,1])"
   ]
  },
  {
   "cell_type": "markdown",
   "metadata": {},
   "source": [
    "### Debugging discrepancy between discrete sampling and analytical pdf"
   ]
  },
  {
   "cell_type": "markdown",
   "metadata": {},
   "source": [
    "I'd like to check that there is no bug in the `sample` function by comparing the distribution of the sampled points to that of the analytical distribution."
   ]
  },
  {
   "cell_type": "code",
   "execution_count": 10,
   "metadata": {},
   "outputs": [],
   "source": [
    "def boltzmann1D(E,L,k,beta=1):\n",
    "    return np.exp(-beta*E)/(np.sqrt(np.pi/k))"
   ]
  },
  {
   "cell_type": "markdown",
   "metadata": {},
   "source": [
    "Note that in the above I used the fact that the 1D the partition function for the Boltzmann distribution is given by (where $x_1$ is held fixed): \n",
    "$$\n",
    "Z = \\int_{-\\infty}^\\infty dx_2  \\, {\\rm exp} \\left( -k (x_2 - x_1)^2 \\right) \n",
    "  = \\sqrt{ \\frac{\\pi}{k} }\n",
    "$$"
   ]
  },
  {
   "cell_type": "code",
   "execution_count": 11,
   "metadata": {
    "scrolled": true
   },
   "outputs": [
    {
     "data": {
      "image/png": "[encoded data removed]",
      "text/plain": [
       "<Figure size 432x288 with 1 Axes>"
      ]
     },
     "metadata": {
      "needs_background": "light"
     },
     "output_type": "display_data"
    }
   ],
   "source": [
    "plt.hist(sample1D(train_set_size,L,k), density = True)\n",
    "\n",
    "X1 = 2.0\n",
    "X2 = np.linspace(-5,L+5,n)\n",
    "plt.plot(X2, boltzmann1D(H(X1,X2,k),L,k))\n",
    "plt.show()"
   ]
  },
  {
   "cell_type": "markdown",
   "metadata": {},
   "source": [
    "### Applying boltzmann generators to the analytical example "
   ]
  },
  {
   "cell_type": "code",
   "execution_count": 12,
   "metadata": {},
   "outputs": [
    {
     "data": {
      "image/png": "[encoded data removed]",
      "text/plain": [
       "<Figure size 432x288 with 1 Axes>"
      ]
     },
     "metadata": {
      "needs_background": "light"
     },
     "output_type": "display_data"
    }
   ],
   "source": [
    "# Define a model\n",
    "toymodel = SHOModel( params= { \"k\" : k, \n",
    "                               \"L\" : L} ) \n",
    "# SHOModel: Toy simple harmonic oscillator model, two particles connected by a spring stuck in a 1D box of length L.\n",
    "\n",
    "plt.hist(toymodel.energy(train_set))\n",
    "plt.show()"
   ]
  },
  {
   "cell_type": "code",
   "execution_count": 13,
   "metadata": {},
   "outputs": [],
   "source": [
    "# Define the network architecture\n",
    "n_hidden = 100 # number of hidden layers\n",
    "nets = lambda: nn.Sequential(nn.Linear(2, n_hidden), nn.ReLU(), nn.Linear(n_hidden, n_hidden), nn.ReLU(), nn.Linear(n_hidden, 2), nn.Tanh()) # net s\n",
    "nett = lambda: nn.Sequential(nn.Linear(2, n_hidden), nn.ReLU(), nn.Linear(n_hidden, n_hidden), nn.ReLU(), nn.Linear(n_hidden, 2)) # net t\n",
    "masks = torch.from_numpy(np.array([[0, 1], [1, 0]] * 3).astype(np.float32)) # 6x2 matrix. len(masks) = 6 = num subblocks.\n",
    "prior = distributions.MultivariateNormal(torch.zeros(2), torch.eye(2))      # so we have a total of 3 neural blocks (see fig. 1 of boltzmann generators paper)\n",
    "model = net.RealNVP(nets, nett, masks, prior, toymodel, (2,))"
   ]
  },
  {
   "cell_type": "code",
   "execution_count": 15,
   "metadata": {},
   "outputs": [
    {
     "ename": "AttributeError",
     "evalue": "'tuple' object has no attribute 'detach'",
     "output_type": "error",
     "traceback": [
      "\u001b[0;31m---------------------------------------------------------------------------\u001b[0m",
      "\u001b[0;31mAttributeError\u001b[0m                            Traceback (most recent call last)",
      "\u001b[0;32m<ipython-input-15-215d589d9255>\u001b[0m in \u001b[0;36m<module>\u001b[0;34m\u001b[0m\n\u001b[1;32m     28\u001b[0m \u001b[0;34m\u001b[0m\u001b[0m\n\u001b[1;32m     29\u001b[0m \u001b[0mplt\u001b[0m\u001b[0;34m.\u001b[0m\u001b[0msubplot\u001b[0m\u001b[0;34m(\u001b[0m\u001b[0;36m224\u001b[0m\u001b[0;34m)\u001b[0m\u001b[0;34m\u001b[0m\u001b[0;34m\u001b[0m\u001b[0m\n\u001b[0;32m---> 30\u001b[0;31m \u001b[0mz\u001b[0m\u001b[0;34m,\u001b[0m \u001b[0mx\u001b[0m \u001b[0;34m=\u001b[0m \u001b[0mmodel\u001b[0m\u001b[0;34m.\u001b[0m\u001b[0msample\u001b[0m\u001b[0;34m(\u001b[0m\u001b[0;36m1000\u001b[0m\u001b[0;34m)\u001b[0m\u001b[0;34m.\u001b[0m\u001b[0mdetach\u001b[0m\u001b[0;34m(\u001b[0m\u001b[0;34m)\u001b[0m\u001b[0;34m.\u001b[0m\u001b[0mnumpy\u001b[0m\u001b[0;34m(\u001b[0m\u001b[0;34m)\u001b[0m\u001b[0;34m\u001b[0m\u001b[0;34m\u001b[0m\u001b[0m\n\u001b[0m\u001b[1;32m     31\u001b[0m \u001b[0mplt\u001b[0m\u001b[0;34m.\u001b[0m\u001b[0mxlim\u001b[0m\u001b[0;34m(\u001b[0m\u001b[0;34m[\u001b[0m\u001b[0;36m0\u001b[0m\u001b[0;34m,\u001b[0m\u001b[0mL\u001b[0m\u001b[0;34m]\u001b[0m\u001b[0;34m)\u001b[0m\u001b[0;34m\u001b[0m\u001b[0;34m\u001b[0m\u001b[0m\n\u001b[1;32m     32\u001b[0m \u001b[0mplt\u001b[0m\u001b[0;34m.\u001b[0m\u001b[0mylim\u001b[0m\u001b[0;34m(\u001b[0m\u001b[0;34m[\u001b[0m\u001b[0;34m-\u001b[0m\u001b[0;36m2\u001b[0m\u001b[0;34m,\u001b[0m\u001b[0mL\u001b[0m\u001b[0;34m+\u001b[0m\u001b[0;36m2\u001b[0m\u001b[0;34m]\u001b[0m\u001b[0;34m)\u001b[0m\u001b[0;34m\u001b[0m\u001b[0;34m\u001b[0m\u001b[0m\n",
      "\u001b[0;31mAttributeError\u001b[0m: 'tuple' object has no attribute 'detach'"
     ]
    },
    {
     "data": {
      "image/png": "[encoded data removed]",
      "text/plain": [
       "<Figure size 864x720 with 4 Axes>"
      ]
     },
     "metadata": {
      "needs_background": "light"
     },
     "output_type": "display_data"
    }
   ],
   "source": [
    "# Visualize the learned transformation (Before Training, with default weights)\n",
    "fig, axes = plt.subplots(2, 2, figsize = (12,10))\n",
    "nvis = 10000\n",
    "\n",
    "toy_set = sample(nvis,L,k)\n",
    "z = model.f(torch.from_numpy(toy_set))[0].detach().numpy()\n",
    "plt.subplot(221)\n",
    "plt.scatter(z[:, 0], z[:, 1])\n",
    "plt.xlim([-8,8])\n",
    "plt.ylim([-8,8])\n",
    "plt.title(r'$z = f(X)$')\n",
    "\n",
    "\n",
    "# sampling from the multivariate gaussian with zero mean and unit variance\n",
    "z = np.random.multivariate_normal(np.zeros(2), np.eye(2), nvis)\n",
    "plt.subplot(222)\n",
    "plt.scatter(z[:, 0], z[:, 1])\n",
    "plt.xlim([-8,8])\n",
    "plt.ylim([-8,8])\n",
    "plt.title(r'$z \\sim p(z)$')\n",
    "\n",
    "plt.subplot(223)\n",
    "x = sample(nvis,L,k)\n",
    "plt.xlim([0,L])\n",
    "plt.ylim([-2,L+2])\n",
    "plt.scatter(x[:, 0], x[:, 1], c='r')\n",
    "plt.title(r'$X \\sim p(X)$')\n",
    "\n",
    "plt.subplot(224)\n",
    "z, x = model.sample(1000)\n",
    "plt.xlim([0,L])\n",
    "plt.ylim([-2,L+2])\n",
    "plt.scatter(x[:,0], x[:,1], c='r')\n",
    "plt.title(r'$X = g(z)$')"
   ]
  },
  {
   "cell_type": "code",
   "execution_count": null,
   "metadata": {},
   "outputs": [],
   "source": [
    "# Hyperparameters\n",
    "num_epochs =  10 # 150 (number of iterations really) is sufficient for normal gd. \n",
    "batch_size = 128 # num_epochs = 10 and batch_size = 128 works well (and quickly) for bgd \n",
    "\n",
    "# Train and shit\n",
    "optimizer = torch.optim.Adam([p for p in model.parameters() if p.requires_grad==True], lr=0.0001) \n",
    "# need lr of 0.0001 or smaller to get monotonically decreasing loss for batch gradient descent \n",
    "trainloader = data.DataLoader(dataset=train_set, batch_size=batch_size)\n",
    "\n",
    "#losses = np.zeros(num_epochs)\n",
    "losses = [] # for visualizing loss as a function of iteration number rather than epoch number\n",
    "t = 0 # iteration count\n",
    "for epoch in range(num_epochs):\n",
    "    for batch in trainloader:  \n",
    "        # Custom ML loss function\n",
    "        loss = model.loss_ml(batch) \n",
    "        losses.append(loss.item()) # save values for plotting later \n",
    "    \n",
    "        # Training\n",
    "        optimizer.zero_grad() # Set grads to zero, else PyTorch will accumulate gradients on each backprop\n",
    "        loss.backward(retain_graph=True)\n",
    "        optimizer.step()\n",
    "        \n",
    "        t = t + 1 # iteration count\n",
    "        if t % 100 == 0:\n",
    "            print('iter %s:' % t, 'loss = %.3f' % loss)\n",
    "\n",
    "    # Print progress (for each epoch)\n",
    "#     if epoch % 50 == 0:\n",
    "#         print('Epoch %s:' % epoch, 'loss = %.3f' % loss)\n",
    "        \n",
    "    # Write loss once per epoch\n",
    "#     losses[epoch] = loss.item() \n",
    "\n",
    "# Visualize loss\n",
    "plt.plot(losses)"
   ]
  },
  {
   "cell_type": "code",
   "execution_count": null,
   "metadata": {
    "scrolled": true
   },
   "outputs": [],
   "source": [
    "# Visualize the learned transformation (After training)\n",
    "fig, axes = plt.subplots(2, 2, figsize = (12,10))\n",
    "nvis = 10000\n",
    "\n",
    "# sample from x and transform to z \n",
    "toy_set = sample(nvis,L,k)\n",
    "z = model.f(torch.from_numpy(toy_set))[0].detach().numpy()\n",
    "plt.subplot(221)\n",
    "plt.scatter(z[:, 0], z[:, 1])\n",
    "plt.xlim([-8,8])\n",
    "plt.ylim([-8,8])\n",
    "plt.title(r'$z = f(X)$')\n",
    "\n",
    "# sampling from the multivariate gaussian with zero mean and unit variance\n",
    "z = np.random.multivariate_normal(np.zeros(2), np.eye(2), nvis) \n",
    "plt.subplot(222)\n",
    "plt.scatter(z[:, 0], z[:, 1])\n",
    "plt.xlim([-8,8])\n",
    "plt.ylim([-8,8])\n",
    "plt.title(r'$z \\sim p(z)$')\n",
    "\n",
    "# plot data sampled in real space \n",
    "plt.subplot(223)\n",
    "plt.xlim([0,L])\n",
    "plt.ylim([-2,L+2])\n",
    "plt.scatter(toy_set[:, 0], toy_set[:, 1], c='r')\n",
    "plt.title(r'$X \\sim p(X)$')\n",
    "\n",
    "# sample 1000 points from prior and transform back \n",
    "plt.subplot(224)\n",
    "z, x = model.sample(1000)\n",
    "plt.xlim([0,L])\n",
    "plt.ylim([-2,L+2])\n",
    "plt.scatter(x[:, 0], x[:, 1], c='r') # x[:, 0, 0] is x1 coordinates of all samples \n",
    "plt.title(r'$X = g(z)$')"
   ]
  },
  {
   "cell_type": "markdown",
   "metadata": {},
   "source": [
    "At first glance it appears that something is wrong: the variance of the sampled distribution (i.e. sampled in latent space and transformed back to real space) seems to be much less than that created from sampling directly from the real space distribution. But this is to be expected since the variance in both latent and real space for this comparison is different. In other words, if we had sampled exactly at the points denoted in the upper left graft, we should recover the bottom left plot. Thus we will now show that if we input the transformed coordinates $z=f(x)$, that we will recover the bottom left plot. "
   ]
  },
  {
   "cell_type": "code",
   "execution_count": null,
   "metadata": {},
   "outputs": [],
   "source": [
    "# Visualize the learned transformation (After training)\n",
    "fig, axes = plt.subplots(2, 2, figsize = (12,10))\n",
    "nvis = 10000\n",
    "\n",
    "# sample from x and transform to z \n",
    "toy_set = sample(nvis,L,k)\n",
    "z = model.f(torch.from_numpy(toy_set))[0].detach().numpy()\n",
    "plt.subplot(221)\n",
    "plt.scatter(z[:, 0], z[:, 1])\n",
    "plt.xlim([-8,8])\n",
    "plt.ylim([-8,8])\n",
    "plt.title(r'$z = f(X)$')\n",
    "\n",
    "# sampling from the multivariate gaussian with zero mean and unit variance\n",
    "plt.subplot(222)\n",
    "plt.scatter(z[:, 0], z[:, 1])\n",
    "plt.xlim([-8,8])\n",
    "plt.ylim([-8,8])\n",
    "plt.title(r'$z = f(X)$')\n",
    "\n",
    "# plot data sampled in real space \n",
    "plt.subplot(223)\n",
    "plt.xlim([0,L])\n",
    "plt.ylim([-2,L+2])\n",
    "plt.scatter(toy_set[:, 0], toy_set[:, 1], c='r')\n",
    "plt.title(r'$X \\sim p(X)$')\n",
    "\n",
    "# sample 1000 points from prior and transform back \n",
    "plt.subplot(224)\n",
    "x = model.g(torch.from_numpy(z))[0].detach().numpy()\n",
    "plt.xlim([0,L])\n",
    "plt.ylim([-2,L+2])\n",
    "plt.scatter(x[:, 0], x[:, 1], c='r')\n",
    "plt.title(r'$X = g(z)$')"
   ]
  },
  {
   "cell_type": "markdown",
   "metadata": {},
   "source": [
    "As expected, the transformation is indeed invertible; thus the proof of concept for this simple analytical case is complete. "
   ]
  },
  {
   "cell_type": "code",
   "execution_count": null,
   "metadata": {},
   "outputs": [],
   "source": []
  }
 ],
 "metadata": {
  "@webio": {
   "lastCommId": null,
   "lastKernelId": null
  },
  "kernelspec": {
   "display_name": "Python 3",
   "language": "python",
   "name": "python3"
  },
  "language_info": {
   "codemirror_mode": {
    "name": "ipython",
    "version": 3
   },
   "file_extension": ".py",
   "mimetype": "text/x-python",
   "name": "python",
   "nbconvert_exporter": "python",
   "pygments_lexer": "ipython3",
   "version": "3.7.4"
  }
 },
 "nbformat": 4,
 "nbformat_minor": 2
}
