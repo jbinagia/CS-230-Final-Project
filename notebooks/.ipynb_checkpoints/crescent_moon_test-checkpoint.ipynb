{
 "cells": [
  {
   "cell_type": "markdown",
   "metadata": {},
   "source": [
    "Import required libraries: "
   ]
  },
  {
   "cell_type": "code",
   "execution_count": 1,
   "metadata": {},
   "outputs": [],
   "source": [
    "import os\n",
    "import sys\n",
    "sys.path.insert(0, os.path.join(os.getcwd(), \"..\"))\n",
    "\n",
    "import numpy as np\n",
    "import matplotlib.pyplot as plt \n",
    "\n",
    "from pylab import rcParams\n",
    "rcParams['figure.figsize'] = 20, 16\n",
    "rcParams['figure.dpi'] = 300\n",
    "\n",
    "import torch\n",
    "from torch import nn\n",
    "from torch import distributions\n",
    "from torch.nn.parameter import Parameter\n",
    "\n",
    "from sklearn import cluster, datasets, mixture\n",
    "from sklearn.preprocessing import StandardScaler\n",
    "\n",
    "%load_ext autoreload\n",
    "%autoreload 2"
   ]
  },
  {
   "cell_type": "markdown",
   "metadata": {},
   "source": [
    "Import our own libraries: "
   ]
  },
  {
   "cell_type": "code",
   "execution_count": 2,
   "metadata": {},
   "outputs": [],
   "source": [
    "from project.training.train import train as train\n",
    "import project.utils as utils\n",
    "import project.networks.net as net"
   ]
  },
  {
   "cell_type": "markdown",
   "metadata": {},
   "source": [
    "Define our architecture:"
   ]
  },
  {
   "cell_type": "code",
   "execution_count": 4,
   "metadata": {},
   "outputs": [],
   "source": [
    "nets = lambda: nn.Sequential(nn.Linear(2, 256), nn.LeakyReLU(), nn.Linear(256, 256), nn.LeakyReLU(), nn.Linear(256, 2), nn.Tanh()) # net s\n",
    "nett = lambda: nn.Sequential(nn.Linear(2, 256), nn.LeakyReLU(), nn.Linear(256, 256), nn.LeakyReLU(), nn.Linear(256, 2)) # net t\n",
    "masks = torch.from_numpy(np.array([[0, 1], [1, 0]] * 3).astype(np.float32)) # 6x2 matrix. len(masks) = 6 = num subblocks.\n",
    "prior = distributions.MultivariateNormal(torch.zeros(2), torch.eye(2))      # so we have a total of 3 neural blocks (see fig. 1 of boltzmann generators paper)\n",
    "model = net.RealNVP(nets, nett, masks, prior)"
   ]
  },
  {
   "cell_type": "markdown",
   "metadata": {},
   "source": [
    "Either train the model or load the pre-trained version:"
   ]
  },
  {
   "cell_type": "code",
   "execution_count": 17,
   "metadata": {},
   "outputs": [
    {
     "name": "stderr",
     "output_type": "stream",
     "text": [
      "Loading the datasets...\n",
      "- done.\n",
      "Starting training for 200 epoch(s)\n",
      "Epoch 1/200\n",
      "100%|██████████| 16/16 [00:00<00:00, 44.03it/s, loss=0.480]\n",
      "- Train metrics: accuracy: 0.531 ; loss: 0.398\n",
      "- Eval metrics : accuracy: 0.457 ; loss: 0.569\n",
      "- Found new best accuracy\n",
      "Epoch 2/200\n",
      " 38%|███▊      | 6/16 [00:00<00:00, 44.73it/s, loss=0.455]"
     ]
    },
    {
     "name": "stdout",
     "output_type": "stream",
     "text": [
      "Checkpoint Directory exists! \n"
     ]
    },
    {
     "name": "stderr",
     "output_type": "stream",
     "text": [
      "100%|██████████| 16/16 [00:00<00:00, 46.79it/s, loss=0.438]\n",
      "- Train metrics: accuracy: 0.391 ; loss: 0.477\n",
      "- Eval metrics : accuracy: 0.447 ; loss: 0.439\n",
      "Epoch 3/200\n",
      " 44%|████▍     | 7/16 [00:00<00:00, 46.30it/s, loss=0.390]"
     ]
    },
    {
     "name": "stdout",
     "output_type": "stream",
     "text": [
      "Checkpoint Directory exists! \n"
     ]
    },
    {
     "name": "stderr",
     "output_type": "stream",
     "text": [
      "100%|██████████| 16/16 [00:00<00:00, 45.30it/s, loss=0.400]\n",
      "- Train metrics: accuracy: 0.469 ; loss: 0.282\n",
      "- Eval metrics : accuracy: 0.405 ; loss: 0.428\n",
      "Epoch 4/200\n",
      " 44%|████▍     | 7/16 [00:00<00:00, 46.71it/s, loss=0.423]"
     ]
    },
    {
     "name": "stdout",
     "output_type": "stream",
     "text": [
      "Checkpoint Directory exists! \n"
     ]
    },
    {
     "name": "stderr",
     "output_type": "stream",
     "text": [
      "100%|██████████| 16/16 [00:00<00:00, 48.34it/s, loss=0.381]\n",
      "- Train metrics: accuracy: 0.562 ; loss: 0.584\n",
      "- Eval metrics : accuracy: 0.433 ; loss: 0.431\n",
      "Epoch 5/200\n",
      " 44%|████▍     | 7/16 [00:00<00:00, 46.86it/s, loss=0.384]"
     ]
    },
    {
     "name": "stdout",
     "output_type": "stream",
     "text": [
      "Checkpoint Directory exists! \n"
     ]
    },
    {
     "name": "stderr",
     "output_type": "stream",
     "text": [
      "100%|██████████| 16/16 [00:00<00:00, 48.93it/s, loss=0.412]\n",
      "- Train metrics: accuracy: 0.500 ; loss: 0.457\n",
      "- Eval metrics : accuracy: 0.431 ; loss: 0.502\n",
      "Epoch 6/200\n",
      " 44%|████▍     | 7/16 [00:00<00:00, 46.25it/s, loss=0.505]"
     ]
    },
    {
     "name": "stdout",
     "output_type": "stream",
     "text": [
      "Checkpoint Directory exists! \n"
     ]
    },
    {
     "name": "stderr",
     "output_type": "stream",
     "text": [
      "100%|██████████| 16/16 [00:00<00:00, 47.07it/s, loss=0.465]\n",
      "- Train metrics: accuracy: 0.531 ; loss: 0.240\n",
      "- Eval metrics : accuracy: 0.439 ; loss: 0.524\n",
      "Epoch 7/200\n",
      " 44%|████▍     | 7/16 [00:00<00:00, 45.23it/s, loss=0.403]"
     ]
    },
    {
     "name": "stdout",
     "output_type": "stream",
     "text": [
      "Checkpoint Directory exists! \n"
     ]
    },
    {
     "name": "stderr",
     "output_type": "stream",
     "text": [
      "100%|██████████| 16/16 [00:00<00:00, 47.70it/s, loss=0.432]\n",
      "- Train metrics: accuracy: 0.547 ; loss: 0.338\n",
      "- Eval metrics : accuracy: 0.463 ; loss: 0.468\n",
      "- Found new best accuracy\n",
      "Epoch 8/200\n",
      " 38%|███▊      | 6/16 [00:00<00:00, 41.73it/s, loss=0.433]"
     ]
    },
    {
     "name": "stdout",
     "output_type": "stream",
     "text": [
      "Checkpoint Directory exists! \n"
     ]
    },
    {
     "name": "stderr",
     "output_type": "stream",
     "text": [
      "100%|██████████| 16/16 [00:00<00:00, 45.98it/s, loss=0.431]\n",
      "- Train metrics: accuracy: 0.562 ; loss: 0.657\n",
      "- Eval metrics : accuracy: 0.421 ; loss: 0.422\n",
      "Epoch 9/200\n",
      " 44%|████▍     | 7/16 [00:00<00:00, 46.06it/s, loss=0.396]"
     ]
    },
    {
     "name": "stdout",
     "output_type": "stream",
     "text": [
      "Checkpoint Directory exists! \n"
     ]
    },
    {
     "name": "stderr",
     "output_type": "stream",
     "text": [
      "100%|██████████| 16/16 [00:00<00:00, 47.33it/s, loss=0.382]\n",
      "- Train metrics: accuracy: 0.609 ; loss: 0.324\n",
      "- Eval metrics : accuracy: 0.449 ; loss: 0.534\n",
      "Epoch 10/200\n",
      " 44%|████▍     | 7/16 [00:00<00:00, 46.60it/s, loss=0.357]"
     ]
    },
    {
     "name": "stdout",
     "output_type": "stream",
     "text": [
      "Checkpoint Directory exists! \n"
     ]
    },
    {
     "name": "stderr",
     "output_type": "stream",
     "text": [
      "100%|██████████| 16/16 [00:00<00:00, 48.62it/s, loss=0.390]\n",
      "- Train metrics: accuracy: 0.453 ; loss: 0.425\n",
      "- Eval metrics : accuracy: 0.421 ; loss: 0.462\n",
      "Epoch 11/200\n",
      " 44%|████▍     | 7/16 [00:00<00:00, 47.21it/s, loss=0.361]"
     ]
    },
    {
     "name": "stdout",
     "output_type": "stream",
     "text": [
      "Checkpoint Directory exists! \n"
     ]
    },
    {
     "name": "stderr",
     "output_type": "stream",
     "text": [
      "100%|██████████| 16/16 [00:00<00:00, 48.55it/s, loss=0.384]\n",
      "- Train metrics: accuracy: 0.484 ; loss: 0.221\n",
      "- Eval metrics : accuracy: 0.431 ; loss: 0.480\n",
      "Epoch 12/200\n",
      " 44%|████▍     | 7/16 [00:00<00:00, 45.84it/s, loss=0.359]"
     ]
    },
    {
     "name": "stdout",
     "output_type": "stream",
     "text": [
      "Checkpoint Directory exists! \n"
     ]
    },
    {
     "name": "stderr",
     "output_type": "stream",
     "text": [
      "100%|██████████| 16/16 [00:00<00:00, 48.91it/s, loss=0.357]\n",
      "- Train metrics: accuracy: 0.484 ; loss: 0.333\n",
      "- Eval metrics : accuracy: 0.429 ; loss: 0.441\n",
      "Epoch 13/200\n",
      " 44%|████▍     | 7/16 [00:00<00:00, 46.44it/s, loss=0.377]"
     ]
    },
    {
     "name": "stdout",
     "output_type": "stream",
     "text": [
      "Checkpoint Directory exists! \n"
     ]
    },
    {
     "name": "stderr",
     "output_type": "stream",
     "text": [
      "100%|██████████| 16/16 [00:00<00:00, 47.16it/s, loss=0.366]\n",
      "- Train metrics: accuracy: 0.516 ; loss: 0.512\n",
      "- Eval metrics : accuracy: 0.459 ; loss: 0.494\n",
      "Epoch 14/200\n",
      " 50%|█████     | 8/16 [00:00<00:00, 48.42it/s, loss=0.392]"
     ]
    },
    {
     "name": "stdout",
     "output_type": "stream",
     "text": [
      "Checkpoint Directory exists! \n"
     ]
    },
    {
     "name": "stderr",
     "output_type": "stream",
     "text": [
      "100%|██████████| 16/16 [00:00<00:00, 48.75it/s, loss=0.404]\n",
      "- Train metrics: accuracy: 0.484 ; loss: 0.277\n",
      "- Eval metrics : accuracy: 0.473 ; loss: 0.483\n",
      "- Found new best accuracy\n",
      "Epoch 15/200\n",
      " 44%|████▍     | 7/16 [00:00<00:00, 47.29it/s, loss=0.372]"
     ]
    },
    {
     "name": "stdout",
     "output_type": "stream",
     "text": [
      "Checkpoint Directory exists! \n"
     ]
    },
    {
     "name": "stderr",
     "output_type": "stream",
     "text": [
      "100%|██████████| 16/16 [00:00<00:00, 49.37it/s, loss=0.382]\n",
      "- Train metrics: accuracy: 0.484 ; loss: 0.319\n",
      "- Eval metrics : accuracy: 0.397 ; loss: 0.545\n",
      "Epoch 16/200\n",
      " 50%|█████     | 8/16 [00:00<00:00, 48.63it/s, loss=0.368]"
     ]
    },
    {
     "name": "stdout",
     "output_type": "stream",
     "text": [
      "Checkpoint Directory exists! \n"
     ]
    },
    {
     "name": "stderr",
     "output_type": "stream",
     "text": [
      "100%|██████████| 16/16 [00:00<00:00, 49.37it/s, loss=0.398]\n",
      "- Train metrics: accuracy: 0.562 ; loss: 0.194\n",
      "- Eval metrics : accuracy: 0.467 ; loss: 0.440\n",
      "Epoch 17/200\n",
      " 50%|█████     | 8/16 [00:00<00:00, 47.66it/s, loss=0.365]"
     ]
    },
    {
     "name": "stdout",
     "output_type": "stream",
     "text": [
      "Checkpoint Directory exists! \n"
     ]
    },
    {
     "name": "stderr",
     "output_type": "stream",
     "text": [
      "100%|██████████| 16/16 [00:00<00:00, 48.50it/s, loss=0.399]\n",
      "- Train metrics: accuracy: 0.453 ; loss: 0.249\n",
      "- Eval metrics : accuracy: 0.441 ; loss: 0.450\n",
      "Epoch 18/200\n",
      " 44%|████▍     | 7/16 [00:00<00:00, 44.96it/s, loss=0.417]"
     ]
    },
    {
     "name": "stdout",
     "output_type": "stream",
     "text": [
      "Checkpoint Directory exists! \n"
     ]
    },
    {
     "name": "stderr",
     "output_type": "stream",
     "text": [
      "100%|██████████| 16/16 [00:00<00:00, 48.65it/s, loss=0.398]\n",
      "- Train metrics: accuracy: 0.578 ; loss: 0.586\n",
      "- Eval metrics : accuracy: 0.419 ; loss: 0.511\n",
      "Epoch 19/200\n",
      " 44%|████▍     | 7/16 [00:00<00:00, 45.46it/s, loss=0.394]"
     ]
    },
    {
     "name": "stdout",
     "output_type": "stream",
     "text": [
      "Checkpoint Directory exists! \n"
     ]
    },
    {
     "name": "stderr",
     "output_type": "stream",
     "text": [
      "100%|██████████| 16/16 [00:00<00:00, 46.60it/s, loss=0.383]\n",
      "- Train metrics: accuracy: 0.469 ; loss: 0.469\n",
      "- Eval metrics : accuracy: 0.449 ; loss: 0.457\n",
      "Epoch 20/200\n",
      " 44%|████▍     | 7/16 [00:00<00:00, 46.27it/s, loss=0.330]"
     ]
    },
    {
     "name": "stdout",
     "output_type": "stream",
     "text": [
      "Checkpoint Directory exists! \n"
     ]
    },
    {
     "name": "stderr",
     "output_type": "stream",
     "text": [
      "100%|██████████| 16/16 [00:00<00:00, 47.99it/s, loss=0.377]\n",
      "- Train metrics: accuracy: 0.484 ; loss: 0.254\n",
      "- Eval metrics : accuracy: 0.433 ; loss: 0.440\n",
      "Epoch 21/200\n",
      " 50%|█████     | 8/16 [00:00<00:00, 48.01it/s, loss=0.427]"
     ]
    },
    {
     "name": "stdout",
     "output_type": "stream",
     "text": [
      "Checkpoint Directory exists! \n"
     ]
    },
    {
     "name": "stderr",
     "output_type": "stream",
     "text": [
      "100%|██████████| 16/16 [00:00<00:00, 50.16it/s, loss=0.424]\n",
      "- Train metrics: accuracy: 0.484 ; loss: 0.440\n",
      "- Eval metrics : accuracy: 0.451 ; loss: 0.466\n",
      "Epoch 22/200\n",
      " 50%|█████     | 8/16 [00:00<00:00, 48.00it/s, loss=0.364]"
     ]
    },
    {
     "name": "stdout",
     "output_type": "stream",
     "text": [
      "Checkpoint Directory exists! \n"
     ]
    },
    {
     "name": "stderr",
     "output_type": "stream",
     "text": [
      "100%|██████████| 16/16 [00:00<00:00, 49.28it/s, loss=0.437]\n",
      "- Train metrics: accuracy: 0.516 ; loss: 0.349\n",
      "- Eval metrics : accuracy: 0.472 ; loss: 0.463\n",
      "Epoch 23/200\n",
      " 44%|████▍     | 7/16 [00:00<00:00, 48.57it/s, loss=0.396]"
     ]
    },
    {
     "name": "stdout",
     "output_type": "stream",
     "text": [
      "Checkpoint Directory exists! \n"
     ]
    },
    {
     "name": "stderr",
     "output_type": "stream",
     "text": [
      "100%|██████████| 16/16 [00:00<00:00, 48.50it/s, loss=0.384]\n",
      "- Train metrics: accuracy: 0.500 ; loss: 0.508\n",
      "- Eval metrics : accuracy: 0.424 ; loss: 0.477\n",
      "Epoch 24/200\n",
      " 50%|█████     | 8/16 [00:00<00:00, 48.85it/s, loss=0.396]"
     ]
    },
    {
     "name": "stdout",
     "output_type": "stream",
     "text": [
      "Checkpoint Directory exists! \n"
     ]
    },
    {
     "name": "stderr",
     "output_type": "stream",
     "text": [
      "100%|██████████| 16/16 [00:00<00:00, 49.55it/s, loss=0.378]\n",
      "- Train metrics: accuracy: 0.516 ; loss: 0.259\n",
      "- Eval metrics : accuracy: 0.453 ; loss: 0.526\n",
      "Epoch 25/200\n",
      " 50%|█████     | 8/16 [00:00<00:00, 48.40it/s, loss=0.375]"
     ]
    },
    {
     "name": "stdout",
     "output_type": "stream",
     "text": [
      "Checkpoint Directory exists! \n"
     ]
    },
    {
     "name": "stderr",
     "output_type": "stream",
     "text": [
      "100%|██████████| 16/16 [00:00<00:00, 49.48it/s, loss=0.368]\n",
      "- Train metrics: accuracy: 0.422 ; loss: 0.390\n",
      "- Eval metrics : accuracy: 0.451 ; loss: 0.501\n",
      "Epoch 26/200\n",
      " 44%|████▍     | 7/16 [00:00<00:00, 46.25it/s, loss=0.375]"
     ]
    },
    {
     "name": "stdout",
     "output_type": "stream",
     "text": [
      "Checkpoint Directory exists! \n"
     ]
    },
    {
     "name": "stderr",
     "output_type": "stream",
     "text": [
      "100%|██████████| 16/16 [00:00<00:00, 49.37it/s, loss=0.385]\n",
      "- Train metrics: accuracy: 0.422 ; loss: 0.375\n",
      "- Eval metrics : accuracy: 0.481 ; loss: 0.484\n",
      "- Found new best accuracy\n",
      "Epoch 27/200\n",
      " 44%|████▍     | 7/16 [00:00<00:00, 46.03it/s, loss=0.405]"
     ]
    },
    {
     "name": "stdout",
     "output_type": "stream",
     "text": [
      "Checkpoint Directory exists! \n"
     ]
    },
    {
     "name": "stderr",
     "output_type": "stream",
     "text": [
      "100%|██████████| 16/16 [00:00<00:00, 48.05it/s, loss=0.398]\n",
      "- Train metrics: accuracy: 0.469 ; loss: 0.431\n",
      "- Eval metrics : accuracy: 0.455 ; loss: 0.522\n",
      "Epoch 28/200\n",
      " 50%|█████     | 8/16 [00:00<00:00, 47.95it/s, loss=0.415]"
     ]
    },
    {
     "name": "stdout",
     "output_type": "stream",
     "text": [
      "Checkpoint Directory exists! \n"
     ]
    },
    {
     "name": "stderr",
     "output_type": "stream",
     "text": [
      "100%|██████████| 16/16 [00:00<00:00, 49.71it/s, loss=0.403]\n",
      "- Train metrics: accuracy: 0.453 ; loss: 0.357\n",
      "- Eval metrics : accuracy: 0.460 ; loss: 0.466\n",
      "Epoch 29/200\n",
      " 44%|████▍     | 7/16 [00:00<00:00, 46.44it/s, loss=0.362]"
     ]
    },
    {
     "name": "stdout",
     "output_type": "stream",
     "text": [
      "Checkpoint Directory exists! \n"
     ]
    },
    {
     "name": "stderr",
     "output_type": "stream",
     "text": [
      "100%|██████████| 16/16 [00:00<00:00, 49.62it/s, loss=0.387]\n",
      "- Train metrics: accuracy: 0.625 ; loss: 0.321\n",
      "- Eval metrics : accuracy: 0.483 ; loss: 0.471\n",
      "- Found new best accuracy\n",
      "Epoch 30/200\n",
      " 44%|████▍     | 7/16 [00:00<00:00, 44.76it/s, loss=0.401]"
     ]
    },
    {
     "name": "stdout",
     "output_type": "stream",
     "text": [
      "Checkpoint Directory exists! \n"
     ]
    },
    {
     "name": "stderr",
     "output_type": "stream",
     "text": [
      "100%|██████████| 16/16 [00:00<00:00, 48.26it/s, loss=0.372]\n",
      "- Train metrics: accuracy: 0.359 ; loss: 0.472\n",
      "- Eval metrics : accuracy: 0.438 ; loss: 0.433\n",
      "Epoch 31/200\n",
      " 50%|█████     | 8/16 [00:00<00:00, 48.55it/s, loss=0.369]"
     ]
    },
    {
     "name": "stdout",
     "output_type": "stream",
     "text": [
      "Checkpoint Directory exists! \n"
     ]
    },
    {
     "name": "stderr",
     "output_type": "stream",
     "text": [
      "100%|██████████| 16/16 [00:00<00:00, 48.43it/s, loss=0.370]\n",
      "- Train metrics: accuracy: 0.531 ; loss: 0.518\n",
      "- Eval metrics : accuracy: 0.463 ; loss: 0.467\n",
      "Epoch 32/200\n",
      " 31%|███▏      | 5/16 [00:00<00:00, 46.88it/s, loss=0.413]"
     ]
    },
    {
     "name": "stdout",
     "output_type": "stream",
     "text": [
      "Checkpoint Directory exists! \n"
     ]
    },
    {
     "name": "stderr",
     "output_type": "stream",
     "text": [
      "100%|██████████| 16/16 [00:00<00:00, 47.92it/s, loss=0.393]\n",
      "- Train metrics: accuracy: 0.422 ; loss: 0.317\n",
      "- Eval metrics : accuracy: 0.463 ; loss: 0.509\n",
      "Epoch 33/200\n",
      " 50%|█████     | 8/16 [00:00<00:00, 46.77it/s, loss=0.400]"
     ]
    },
    {
     "name": "stdout",
     "output_type": "stream",
     "text": [
      "Checkpoint Directory exists! \n"
     ]
    },
    {
     "name": "stderr",
     "output_type": "stream",
     "text": [
      "100%|██████████| 16/16 [00:00<00:00, 48.75it/s, loss=0.354]\n",
      "- Train metrics: accuracy: 0.531 ; loss: 0.468\n",
      "- Eval metrics : accuracy: 0.435 ; loss: 0.476\n",
      "Epoch 34/200\n",
      " 44%|████▍     | 7/16 [00:00<00:00, 46.74it/s, loss=0.339]"
     ]
    },
    {
     "name": "stdout",
     "output_type": "stream",
     "text": [
      "Checkpoint Directory exists! \n"
     ]
    },
    {
     "name": "stderr",
     "output_type": "stream",
     "text": [
      "100%|██████████| 16/16 [00:00<00:00, 48.84it/s, loss=0.360]\n",
      "- Train metrics: accuracy: 0.484 ; loss: 0.504\n",
      "- Eval metrics : accuracy: 0.455 ; loss: 0.502\n",
      "Epoch 35/200\n",
      " 50%|█████     | 8/16 [00:00<00:00, 48.41it/s, loss=0.391]"
     ]
    },
    {
     "name": "stdout",
     "output_type": "stream",
     "text": [
      "Checkpoint Directory exists! \n"
     ]
    },
    {
     "name": "stderr",
     "output_type": "stream",
     "text": [
      "100%|██████████| 16/16 [00:00<00:00, 49.74it/s, loss=0.358]\n",
      "- Train metrics: accuracy: 0.484 ; loss: 0.264\n",
      "- Eval metrics : accuracy: 0.429 ; loss: 0.485\n",
      "Epoch 36/200\n",
      " 50%|█████     | 8/16 [00:00<00:00, 48.85it/s, loss=0.382]"
     ]
    },
    {
     "name": "stdout",
     "output_type": "stream",
     "text": [
      "Checkpoint Directory exists! \n"
     ]
    },
    {
     "name": "stderr",
     "output_type": "stream",
     "text": [
      "100%|██████████| 16/16 [00:00<00:00, 49.74it/s, loss=0.363]\n",
      "- Train metrics: accuracy: 0.438 ; loss: 0.461\n",
      "- Eval metrics : accuracy: 0.484 ; loss: 0.497\n",
      "- Found new best accuracy\n",
      "Epoch 37/200\n",
      " 44%|████▍     | 7/16 [00:00<00:00, 46.24it/s, loss=0.346]"
     ]
    },
    {
     "name": "stdout",
     "output_type": "stream",
     "text": [
      "Checkpoint Directory exists! \n"
     ]
    },
    {
     "name": "stderr",
     "output_type": "stream",
     "text": [
      "100%|██████████| 16/16 [00:00<00:00, 47.77it/s, loss=0.369]\n",
      "- Train metrics: accuracy: 0.438 ; loss: 0.429\n",
      "- Eval metrics : accuracy: 0.475 ; loss: 0.508\n",
      "Epoch 38/200\n",
      " 50%|█████     | 8/16 [00:00<00:00, 48.17it/s, loss=0.366]"
     ]
    },
    {
     "name": "stdout",
     "output_type": "stream",
     "text": [
      "Checkpoint Directory exists! \n"
     ]
    },
    {
     "name": "stderr",
     "output_type": "stream",
     "text": [
      "100%|██████████| 16/16 [00:00<00:00, 48.64it/s, loss=0.356]\n",
      "- Train metrics: accuracy: 0.547 ; loss: 0.444\n",
      "- Eval metrics : accuracy: 0.455 ; loss: 0.482\n",
      "Epoch 39/200\n",
      " 44%|████▍     | 7/16 [00:00<00:00, 46.36it/s, loss=0.338]"
     ]
    },
    {
     "name": "stdout",
     "output_type": "stream",
     "text": [
      "Checkpoint Directory exists! \n"
     ]
    },
    {
     "name": "stderr",
     "output_type": "stream",
     "text": [
      "100%|██████████| 16/16 [00:00<00:00, 48.17it/s, loss=0.343]\n",
      "- Train metrics: accuracy: 0.547 ; loss: 0.440\n",
      "- Eval metrics : accuracy: 0.423 ; loss: 0.536\n",
      "Epoch 40/200\n",
      " 50%|█████     | 8/16 [00:00<00:00, 48.62it/s, loss=0.399]"
     ]
    },
    {
     "name": "stdout",
     "output_type": "stream",
     "text": [
      "Checkpoint Directory exists! \n"
     ]
    },
    {
     "name": "stderr",
     "output_type": "stream",
     "text": [
      "100%|██████████| 16/16 [00:00<00:00, 50.30it/s, loss=0.353]\n",
      "- Train metrics: accuracy: 0.531 ; loss: 0.405\n",
      "- Eval metrics : accuracy: 0.439 ; loss: 0.482\n",
      "Epoch 41/200\n",
      " 44%|████▍     | 7/16 [00:00<00:00, 45.77it/s, loss=0.310]"
     ]
    },
    {
     "name": "stdout",
     "output_type": "stream",
     "text": [
      "Checkpoint Directory exists! \n"
     ]
    },
    {
     "name": "stderr",
     "output_type": "stream",
     "text": [
      "100%|██████████| 16/16 [00:00<00:00, 47.67it/s, loss=0.350]\n",
      "- Train metrics: accuracy: 0.547 ; loss: 0.310\n",
      "- Eval metrics : accuracy: 0.401 ; loss: 0.521\n",
      "Epoch 42/200\n",
      " 44%|████▍     | 7/16 [00:00<00:00, 47.35it/s, loss=0.389]"
     ]
    },
    {
     "name": "stdout",
     "output_type": "stream",
     "text": [
      "Checkpoint Directory exists! \n"
     ]
    },
    {
     "name": "stderr",
     "output_type": "stream",
     "text": [
      "100%|██████████| 16/16 [00:00<00:00, 48.01it/s, loss=0.365]\n",
      "- Train metrics: accuracy: 0.422 ; loss: 0.510\n",
      "- Eval metrics : accuracy: 0.407 ; loss: 0.502\n",
      "Epoch 43/200\n",
      " 44%|████▍     | 7/16 [00:00<00:00, 47.39it/s, loss=0.344]"
     ]
    },
    {
     "name": "stdout",
     "output_type": "stream",
     "text": [
      "Checkpoint Directory exists! \n"
     ]
    },
    {
     "name": "stderr",
     "output_type": "stream",
     "text": [
      "100%|██████████| 16/16 [00:00<00:00, 48.21it/s, loss=0.348]\n",
      "- Train metrics: accuracy: 0.453 ; loss: 0.267\n",
      "- Eval metrics : accuracy: 0.438 ; loss: 0.517\n",
      "Epoch 44/200\n",
      " 44%|████▍     | 7/16 [00:00<00:00, 46.34it/s, loss=0.371]"
     ]
    },
    {
     "name": "stdout",
     "output_type": "stream",
     "text": [
      "Checkpoint Directory exists! \n"
     ]
    },
    {
     "name": "stderr",
     "output_type": "stream",
     "text": [
      "100%|██████████| 16/16 [00:00<00:00, 48.21it/s, loss=0.392]\n",
      "- Train metrics: accuracy: 0.516 ; loss: 0.260\n",
      "- Eval metrics : accuracy: 0.409 ; loss: 0.478\n",
      "Epoch 45/200\n",
      " 44%|████▍     | 7/16 [00:00<00:00, 45.87it/s, loss=0.354]"
     ]
    },
    {
     "name": "stdout",
     "output_type": "stream",
     "text": [
      "Checkpoint Directory exists! \n"
     ]
    },
    {
     "name": "stderr",
     "output_type": "stream",
     "text": [
      "100%|██████████| 16/16 [00:00<00:00, 46.78it/s, loss=0.362]\n",
      "- Train metrics: accuracy: 0.484 ; loss: 0.228\n",
      "- Eval metrics : accuracy: 0.443 ; loss: 0.480\n",
      "Epoch 46/200\n",
      " 44%|████▍     | 7/16 [00:00<00:00, 44.20it/s, loss=0.350]"
     ]
    },
    {
     "name": "stdout",
     "output_type": "stream",
     "text": [
      "Checkpoint Directory exists! \n"
     ]
    },
    {
     "name": "stderr",
     "output_type": "stream",
     "text": [
      "100%|██████████| 16/16 [00:00<00:00, 45.43it/s, loss=0.360]\n",
      "- Train metrics: accuracy: 0.500 ; loss: 0.243\n",
      "- Eval metrics : accuracy: 0.457 ; loss: 0.520\n",
      "Epoch 47/200\n",
      " 44%|████▍     | 7/16 [00:00<00:00, 46.10it/s, loss=0.457]"
     ]
    },
    {
     "name": "stdout",
     "output_type": "stream",
     "text": [
      "Checkpoint Directory exists! \n"
     ]
    },
    {
     "name": "stderr",
     "output_type": "stream",
     "text": [
      "100%|██████████| 16/16 [00:00<00:00, 46.93it/s, loss=0.452]\n",
      "- Train metrics: accuracy: 0.469 ; loss: 0.280\n",
      "- Eval metrics : accuracy: 0.447 ; loss: 0.539\n",
      "Epoch 48/200\n",
      " 44%|████▍     | 7/16 [00:00<00:00, 44.00it/s, loss=0.433]"
     ]
    },
    {
     "name": "stdout",
     "output_type": "stream",
     "text": [
      "Checkpoint Directory exists! \n"
     ]
    },
    {
     "name": "stderr",
     "output_type": "stream",
     "text": [
      "100%|██████████| 16/16 [00:00<00:00, 46.00it/s, loss=0.441]\n",
      "- Train metrics: accuracy: 0.469 ; loss: 0.345\n",
      "- Eval metrics : accuracy: 0.458 ; loss: 0.505\n",
      "Epoch 49/200\n",
      " 44%|████▍     | 7/16 [00:00<00:00, 46.04it/s, loss=0.385]"
     ]
    },
    {
     "name": "stdout",
     "output_type": "stream",
     "text": [
      "Checkpoint Directory exists! \n"
     ]
    },
    {
     "name": "stderr",
     "output_type": "stream",
     "text": [
      "100%|██████████| 16/16 [00:00<00:00, 45.49it/s, loss=0.386]\n",
      "- Train metrics: accuracy: 0.484 ; loss: 0.500\n",
      "- Eval metrics : accuracy: 0.427 ; loss: 0.461\n",
      "Epoch 50/200\n",
      " 38%|███▊      | 6/16 [00:00<00:00, 38.93it/s, loss=0.407]"
     ]
    },
    {
     "name": "stdout",
     "output_type": "stream",
     "text": [
      "Checkpoint Directory exists! \n"
     ]
    },
    {
     "name": "stderr",
     "output_type": "stream",
     "text": [
      "100%|██████████| 16/16 [00:00<00:00, 42.08it/s, loss=0.431]\n",
      "- Train metrics: accuracy: 0.422 ; loss: 0.311\n",
      "- Eval metrics : accuracy: 0.449 ; loss: 0.511\n",
      "Epoch 51/200\n",
      " 44%|████▍     | 7/16 [00:00<00:00, 43.85it/s, loss=0.525]"
     ]
    },
    {
     "name": "stdout",
     "output_type": "stream",
     "text": [
      "Checkpoint Directory exists! \n"
     ]
    },
    {
     "name": "stderr",
     "output_type": "stream",
     "text": [
      "100%|██████████| 16/16 [00:00<00:00, 43.90it/s, loss=0.454]\n",
      "- Train metrics: accuracy: 0.359 ; loss: 0.520\n",
      "- Eval metrics : accuracy: 0.445 ; loss: 0.693\n",
      "Epoch 52/200\n",
      " 44%|████▍     | 7/16 [00:00<00:00, 44.28it/s, loss=0.444]"
     ]
    },
    {
     "name": "stdout",
     "output_type": "stream",
     "text": [
      "Checkpoint Directory exists! \n"
     ]
    },
    {
     "name": "stderr",
     "output_type": "stream",
     "text": [
      "100%|██████████| 16/16 [00:00<00:00, 45.54it/s, loss=0.448]\n",
      "- Train metrics: accuracy: 0.562 ; loss: 0.536\n",
      "- Eval metrics : accuracy: 0.465 ; loss: 0.476\n",
      "Epoch 53/200\n",
      " 38%|███▊      | 6/16 [00:00<00:00, 41.58it/s, loss=0.431]"
     ]
    },
    {
     "name": "stdout",
     "output_type": "stream",
     "text": [
      "Checkpoint Directory exists! \n"
     ]
    },
    {
     "name": "stderr",
     "output_type": "stream",
     "text": [
      "100%|██████████| 16/16 [00:00<00:00, 44.74it/s, loss=0.411]\n",
      "- Train metrics: accuracy: 0.562 ; loss: 0.413\n",
      "- Eval metrics : accuracy: 0.485 ; loss: 0.491\n",
      "- Found new best accuracy\n",
      "Epoch 54/200\n",
      " 38%|███▊      | 6/16 [00:00<00:00, 45.01it/s, loss=0.399]"
     ]
    },
    {
     "name": "stdout",
     "output_type": "stream",
     "text": [
      "Checkpoint Directory exists! \n"
     ]
    },
    {
     "name": "stderr",
     "output_type": "stream",
     "text": [
      "100%|██████████| 16/16 [00:00<00:00, 46.05it/s, loss=0.376]\n",
      "- Train metrics: accuracy: 0.484 ; loss: 0.472\n",
      "- Eval metrics : accuracy: 0.499 ; loss: 0.522\n",
      "- Found new best accuracy\n",
      "Epoch 55/200\n",
      " 44%|████▍     | 7/16 [00:00<00:00, 45.17it/s, loss=0.309]"
     ]
    },
    {
     "name": "stdout",
     "output_type": "stream",
     "text": [
      "Checkpoint Directory exists! \n"
     ]
    },
    {
     "name": "stderr",
     "output_type": "stream",
     "text": [
      "100%|██████████| 16/16 [00:00<00:00, 46.15it/s, loss=0.351]\n",
      "- Train metrics: accuracy: 0.344 ; loss: 0.276\n",
      "- Eval metrics : accuracy: 0.435 ; loss: 0.484\n",
      "Epoch 56/200\n",
      " 44%|████▍     | 7/16 [00:00<00:00, 47.13it/s, loss=0.360]"
     ]
    },
    {
     "name": "stdout",
     "output_type": "stream",
     "text": [
      "Checkpoint Directory exists! \n"
     ]
    },
    {
     "name": "stderr",
     "output_type": "stream",
     "text": [
      "100%|██████████| 16/16 [00:00<00:00, 48.17it/s, loss=0.341]\n",
      "- Train metrics: accuracy: 0.422 ; loss: 0.261\n",
      "- Eval metrics : accuracy: 0.441 ; loss: 0.534\n",
      "Epoch 57/200\n",
      " 44%|████▍     | 7/16 [00:00<00:00, 42.83it/s, loss=0.389]"
     ]
    },
    {
     "name": "stdout",
     "output_type": "stream",
     "text": [
      "Checkpoint Directory exists! \n"
     ]
    },
    {
     "name": "stderr",
     "output_type": "stream",
     "text": [
      "100%|██████████| 16/16 [00:00<00:00, 45.92it/s, loss=0.367]\n",
      "- Train metrics: accuracy: 0.578 ; loss: 0.230\n",
      "- Eval metrics : accuracy: 0.490 ; loss: 0.514\n",
      "Epoch 58/200\n",
      " 44%|████▍     | 7/16 [00:00<00:00, 46.53it/s, loss=0.359]"
     ]
    },
    {
     "name": "stdout",
     "output_type": "stream",
     "text": [
      "Checkpoint Directory exists! \n"
     ]
    },
    {
     "name": "stderr",
     "output_type": "stream",
     "text": [
      "100%|██████████| 16/16 [00:00<00:00, 47.60it/s, loss=0.351]\n",
      "- Train metrics: accuracy: 0.547 ; loss: 0.405\n",
      "- Eval metrics : accuracy: 0.423 ; loss: 0.483\n",
      "Epoch 59/200\n",
      " 44%|████▍     | 7/16 [00:00<00:00, 44.50it/s, loss=0.300]"
     ]
    },
    {
     "name": "stdout",
     "output_type": "stream",
     "text": [
      "Checkpoint Directory exists! \n"
     ]
    },
    {
     "name": "stderr",
     "output_type": "stream",
     "text": [
      "100%|██████████| 16/16 [00:00<00:00, 45.99it/s, loss=0.339]\n",
      "- Train metrics: accuracy: 0.406 ; loss: 0.276\n",
      "- Eval metrics : accuracy: 0.451 ; loss: 0.537\n",
      "Epoch 60/200\n",
      " 44%|████▍     | 7/16 [00:00<00:00, 46.78it/s, loss=0.383]"
     ]
    },
    {
     "name": "stdout",
     "output_type": "stream",
     "text": [
      "Checkpoint Directory exists! \n"
     ]
    },
    {
     "name": "stderr",
     "output_type": "stream",
     "text": [
      "100%|██████████| 16/16 [00:00<00:00, 48.47it/s, loss=0.342]\n",
      "- Train metrics: accuracy: 0.562 ; loss: 0.303\n",
      "- Eval metrics : accuracy: 0.421 ; loss: 0.507\n",
      "Epoch 61/200\n",
      " 44%|████▍     | 7/16 [00:00<00:00, 42.08it/s, loss=0.337]"
     ]
    },
    {
     "name": "stdout",
     "output_type": "stream",
     "text": [
      "Checkpoint Directory exists! \n"
     ]
    },
    {
     "name": "stderr",
     "output_type": "stream",
     "text": [
      "100%|██████████| 16/16 [00:00<00:00, 44.48it/s, loss=0.345]\n",
      "- Train metrics: accuracy: 0.422 ; loss: 0.178\n",
      "- Eval metrics : accuracy: 0.411 ; loss: 0.491\n",
      "Epoch 62/200\n",
      " 44%|████▍     | 7/16 [00:00<00:00, 44.43it/s, loss=0.296]"
     ]
    },
    {
     "name": "stdout",
     "output_type": "stream",
     "text": [
      "Checkpoint Directory exists! \n"
     ]
    },
    {
     "name": "stderr",
     "output_type": "stream",
     "text": [
      "100%|██████████| 16/16 [00:00<00:00, 45.69it/s, loss=0.375]\n",
      "- Train metrics: accuracy: 0.391 ; loss: 0.154\n",
      "- Eval metrics : accuracy: 0.429 ; loss: 0.515\n",
      "Epoch 63/200\n",
      " 44%|████▍     | 7/16 [00:00<00:00, 44.82it/s, loss=0.347]"
     ]
    },
    {
     "name": "stdout",
     "output_type": "stream",
     "text": [
      "Checkpoint Directory exists! \n"
     ]
    },
    {
     "name": "stderr",
     "output_type": "stream",
     "text": [
      "100%|██████████| 16/16 [00:00<00:00, 46.32it/s, loss=0.364]\n",
      "- Train metrics: accuracy: 0.438 ; loss: 0.441\n",
      "- Eval metrics : accuracy: 0.427 ; loss: 0.527\n",
      "Epoch 64/200\n",
      " 44%|████▍     | 7/16 [00:00<00:00, 44.35it/s, loss=0.365]"
     ]
    },
    {
     "name": "stdout",
     "output_type": "stream",
     "text": [
      "Checkpoint Directory exists! \n"
     ]
    },
    {
     "name": "stderr",
     "output_type": "stream",
     "text": [
      "100%|██████████| 16/16 [00:00<00:00, 46.18it/s, loss=0.366]\n",
      "- Train metrics: accuracy: 0.516 ; loss: 0.323\n",
      "- Eval metrics : accuracy: 0.418 ; loss: 0.606\n",
      "Epoch 65/200\n",
      " 44%|████▍     | 7/16 [00:00<00:00, 44.13it/s, loss=0.338]"
     ]
    },
    {
     "name": "stdout",
     "output_type": "stream",
     "text": [
      "Checkpoint Directory exists! \n"
     ]
    },
    {
     "name": "stderr",
     "output_type": "stream",
     "text": [
      "100%|██████████| 16/16 [00:00<00:00, 46.60it/s, loss=0.365]\n",
      "- Train metrics: accuracy: 0.438 ; loss: 0.287\n",
      "- Eval metrics : accuracy: 0.463 ; loss: 0.490\n",
      "Epoch 66/200\n",
      " 44%|████▍     | 7/16 [00:00<00:00, 46.23it/s, loss=0.314]"
     ]
    },
    {
     "name": "stdout",
     "output_type": "stream",
     "text": [
      "Checkpoint Directory exists! \n"
     ]
    },
    {
     "name": "stderr",
     "output_type": "stream",
     "text": [
      "100%|██████████| 16/16 [00:00<00:00, 46.57it/s, loss=0.346]\n",
      "- Train metrics: accuracy: 0.453 ; loss: 0.195\n",
      "- Eval metrics : accuracy: 0.435 ; loss: 0.507\n",
      "Epoch 67/200\n",
      " 44%|████▍     | 7/16 [00:00<00:00, 45.40it/s, loss=0.337]"
     ]
    },
    {
     "name": "stdout",
     "output_type": "stream",
     "text": [
      "Checkpoint Directory exists! \n"
     ]
    },
    {
     "name": "stderr",
     "output_type": "stream",
     "text": [
      "100%|██████████| 16/16 [00:00<00:00, 46.22it/s, loss=0.371]\n",
      "- Train metrics: accuracy: 0.531 ; loss: 0.533\n",
      "- Eval metrics : accuracy: 0.411 ; loss: 0.503\n",
      "Epoch 68/200\n",
      " 44%|████▍     | 7/16 [00:00<00:00, 46.70it/s, loss=0.353]"
     ]
    },
    {
     "name": "stdout",
     "output_type": "stream",
     "text": [
      "Checkpoint Directory exists! \n"
     ]
    },
    {
     "name": "stderr",
     "output_type": "stream",
     "text": [
      "100%|██████████| 16/16 [00:00<00:00, 48.31it/s, loss=0.344]\n",
      "- Train metrics: accuracy: 0.547 ; loss: 0.258\n",
      "- Eval metrics : accuracy: 0.481 ; loss: 0.504\n",
      "Epoch 69/200\n",
      " 44%|████▍     | 7/16 [00:00<00:00, 45.25it/s, loss=0.391]"
     ]
    },
    {
     "name": "stdout",
     "output_type": "stream",
     "text": [
      "Checkpoint Directory exists! \n"
     ]
    },
    {
     "name": "stderr",
     "output_type": "stream",
     "text": [
      "100%|██████████| 16/16 [00:00<00:00, 47.93it/s, loss=0.345]\n",
      "- Train metrics: accuracy: 0.516 ; loss: 0.350\n",
      "- Eval metrics : accuracy: 0.431 ; loss: 0.505\n",
      "Epoch 70/200\n",
      " 44%|████▍     | 7/16 [00:00<00:00, 46.88it/s, loss=0.342]"
     ]
    },
    {
     "name": "stdout",
     "output_type": "stream",
     "text": [
      "Checkpoint Directory exists! \n"
     ]
    },
    {
     "name": "stderr",
     "output_type": "stream",
     "text": [
      "100%|██████████| 16/16 [00:00<00:00, 47.37it/s, loss=0.367]\n",
      "- Train metrics: accuracy: 0.531 ; loss: 0.287\n",
      "- Eval metrics : accuracy: 0.433 ; loss: 0.500\n",
      "Epoch 71/200\n",
      " 44%|████▍     | 7/16 [00:00<00:00, 46.76it/s, loss=0.397]"
     ]
    },
    {
     "name": "stdout",
     "output_type": "stream",
     "text": [
      "Checkpoint Directory exists! \n"
     ]
    },
    {
     "name": "stderr",
     "output_type": "stream",
     "text": [
      "100%|██████████| 16/16 [00:00<00:00, 47.68it/s, loss=0.378]\n",
      "- Train metrics: accuracy: 0.469 ; loss: 0.340\n",
      "- Eval metrics : accuracy: 0.472 ; loss: 0.474\n",
      "Epoch 72/200\n",
      " 44%|████▍     | 7/16 [00:00<00:00, 46.87it/s, loss=0.387]"
     ]
    },
    {
     "name": "stdout",
     "output_type": "stream",
     "text": [
      "Checkpoint Directory exists! \n"
     ]
    },
    {
     "name": "stderr",
     "output_type": "stream",
     "text": [
      "100%|██████████| 16/16 [00:00<00:00, 47.76it/s, loss=0.363]\n",
      "- Train metrics: accuracy: 0.484 ; loss: 0.541\n",
      "- Eval metrics : accuracy: 0.417 ; loss: 0.528\n",
      "Epoch 73/200\n",
      " 44%|████▍     | 7/16 [00:00<00:00, 44.52it/s, loss=0.340]"
     ]
    },
    {
     "name": "stdout",
     "output_type": "stream",
     "text": [
      "Checkpoint Directory exists! \n"
     ]
    },
    {
     "name": "stderr",
     "output_type": "stream",
     "text": [
      "100%|██████████| 16/16 [00:00<00:00, 47.42it/s, loss=0.360]\n",
      "- Train metrics: accuracy: 0.422 ; loss: 0.437\n",
      "- Eval metrics : accuracy: 0.469 ; loss: 0.496\n",
      "Epoch 74/200\n",
      " 44%|████▍     | 7/16 [00:00<00:00, 46.64it/s, loss=0.423]"
     ]
    },
    {
     "name": "stdout",
     "output_type": "stream",
     "text": [
      "Checkpoint Directory exists! \n"
     ]
    },
    {
     "name": "stderr",
     "output_type": "stream",
     "text": [
      "100%|██████████| 16/16 [00:00<00:00, 47.74it/s, loss=0.397]\n",
      "- Train metrics: accuracy: 0.484 ; loss: 0.423\n",
      "- Eval metrics : accuracy: 0.467 ; loss: 0.471\n",
      "Epoch 75/200\n",
      " 44%|████▍     | 7/16 [00:00<00:00, 46.11it/s, loss=0.408]"
     ]
    },
    {
     "name": "stdout",
     "output_type": "stream",
     "text": [
      "Checkpoint Directory exists! \n"
     ]
    },
    {
     "name": "stderr",
     "output_type": "stream",
     "text": [
      "100%|██████████| 16/16 [00:00<00:00, 46.73it/s, loss=0.365]\n",
      "- Train metrics: accuracy: 0.375 ; loss: 0.341\n",
      "- Eval metrics : accuracy: 0.479 ; loss: 0.483\n",
      "Epoch 76/200\n",
      " 44%|████▍     | 7/16 [00:00<00:00, 46.33it/s, loss=0.337]"
     ]
    },
    {
     "name": "stdout",
     "output_type": "stream",
     "text": [
      "Checkpoint Directory exists! \n"
     ]
    },
    {
     "name": "stderr",
     "output_type": "stream",
     "text": [
      "100%|██████████| 16/16 [00:00<00:00, 47.83it/s, loss=0.361]\n",
      "- Train metrics: accuracy: 0.578 ; loss: 0.302\n",
      "- Eval metrics : accuracy: 0.481 ; loss: 0.449\n",
      "Epoch 77/200\n",
      " 44%|████▍     | 7/16 [00:00<00:00, 45.80it/s, loss=0.362]"
     ]
    },
    {
     "name": "stdout",
     "output_type": "stream",
     "text": [
      "Checkpoint Directory exists! \n"
     ]
    },
    {
     "name": "stderr",
     "output_type": "stream",
     "text": [
      "100%|██████████| 16/16 [00:00<00:00, 47.96it/s, loss=0.363]\n",
      "- Train metrics: accuracy: 0.578 ; loss: 0.217\n",
      "- Eval metrics : accuracy: 0.439 ; loss: 0.476\n",
      "Epoch 78/200\n",
      " 44%|████▍     | 7/16 [00:00<00:00, 46.25it/s, loss=0.376]"
     ]
    },
    {
     "name": "stdout",
     "output_type": "stream",
     "text": [
      "Checkpoint Directory exists! \n"
     ]
    },
    {
     "name": "stderr",
     "output_type": "stream",
     "text": [
      "100%|██████████| 16/16 [00:00<00:00, 45.65it/s, loss=0.340]\n",
      "- Train metrics: accuracy: 0.453 ; loss: 0.292\n",
      "- Eval metrics : accuracy: 0.459 ; loss: 0.562\n",
      "Epoch 79/200\n",
      " 44%|████▍     | 7/16 [00:00<00:00, 45.98it/s, loss=0.313]"
     ]
    },
    {
     "name": "stdout",
     "output_type": "stream",
     "text": [
      "Checkpoint Directory exists! \n"
     ]
    },
    {
     "name": "stderr",
     "output_type": "stream",
     "text": [
      "100%|██████████| 16/16 [00:00<00:00, 46.55it/s, loss=0.358]\n",
      "- Train metrics: accuracy: 0.438 ; loss: 0.371\n",
      "- Eval metrics : accuracy: 0.467 ; loss: 0.573\n",
      "Epoch 80/200\n",
      " 44%|████▍     | 7/16 [00:00<00:00, 45.77it/s, loss=0.376]"
     ]
    },
    {
     "name": "stdout",
     "output_type": "stream",
     "text": [
      "Checkpoint Directory exists! \n"
     ]
    },
    {
     "name": "stderr",
     "output_type": "stream",
     "text": [
      "100%|██████████| 16/16 [00:00<00:00, 47.37it/s, loss=0.373]\n",
      "- Train metrics: accuracy: 0.438 ; loss: 0.423\n",
      "- Eval metrics : accuracy: 0.477 ; loss: 0.490\n",
      "Epoch 81/200\n",
      " 38%|███▊      | 6/16 [00:00<00:00, 42.21it/s, loss=0.424]"
     ]
    },
    {
     "name": "stdout",
     "output_type": "stream",
     "text": [
      "Checkpoint Directory exists! \n"
     ]
    },
    {
     "name": "stderr",
     "output_type": "stream",
     "text": [
      "100%|██████████| 16/16 [00:00<00:00, 44.29it/s, loss=0.364]\n",
      "- Train metrics: accuracy: 0.516 ; loss: 0.426\n",
      "- Eval metrics : accuracy: 0.463 ; loss: 0.517\n",
      "Epoch 82/200\n",
      " 44%|████▍     | 7/16 [00:00<00:00, 44.88it/s, loss=0.319]"
     ]
    },
    {
     "name": "stdout",
     "output_type": "stream",
     "text": [
      "Checkpoint Directory exists! \n"
     ]
    },
    {
     "name": "stderr",
     "output_type": "stream",
     "text": [
      "100%|██████████| 16/16 [00:00<00:00, 46.25it/s, loss=0.327]\n",
      "- Train metrics: accuracy: 0.484 ; loss: 0.315\n",
      "- Eval metrics : accuracy: 0.449 ; loss: 0.536\n",
      "Epoch 83/200\n",
      " 44%|████▍     | 7/16 [00:00<00:00, 45.86it/s, loss=0.353]"
     ]
    },
    {
     "name": "stdout",
     "output_type": "stream",
     "text": [
      "Checkpoint Directory exists! \n"
     ]
    },
    {
     "name": "stderr",
     "output_type": "stream",
     "text": [
      "100%|██████████| 16/16 [00:00<00:00, 45.95it/s, loss=0.353]\n",
      "- Train metrics: accuracy: 0.469 ; loss: 0.580\n",
      "- Eval metrics : accuracy: 0.407 ; loss: 0.505\n",
      "Epoch 84/200\n",
      " 44%|████▍     | 7/16 [00:00<00:00, 44.75it/s, loss=0.365]"
     ]
    },
    {
     "name": "stdout",
     "output_type": "stream",
     "text": [
      "Checkpoint Directory exists! \n"
     ]
    },
    {
     "name": "stderr",
     "output_type": "stream",
     "text": [
      "100%|██████████| 16/16 [00:00<00:00, 46.32it/s, loss=0.329]\n",
      "- Train metrics: accuracy: 0.578 ; loss: 0.405\n",
      "- Eval metrics : accuracy: 0.423 ; loss: 0.491\n",
      "Epoch 85/200\n",
      " 44%|████▍     | 7/16 [00:00<00:00, 41.53it/s, loss=0.389]"
     ]
    },
    {
     "name": "stdout",
     "output_type": "stream",
     "text": [
      "Checkpoint Directory exists! \n"
     ]
    },
    {
     "name": "stderr",
     "output_type": "stream",
     "text": [
      "100%|██████████| 16/16 [00:00<00:00, 45.59it/s, loss=0.346]\n",
      "- Train metrics: accuracy: 0.547 ; loss: 0.363\n",
      "- Eval metrics : accuracy: 0.431 ; loss: 0.497\n",
      "Epoch 86/200\n",
      " 44%|████▍     | 7/16 [00:00<00:00, 45.77it/s, loss=0.429]"
     ]
    },
    {
     "name": "stdout",
     "output_type": "stream",
     "text": [
      "Checkpoint Directory exists! \n"
     ]
    },
    {
     "name": "stderr",
     "output_type": "stream",
     "text": [
      "100%|██████████| 16/16 [00:00<00:00, 47.43it/s, loss=0.391]\n",
      "- Train metrics: accuracy: 0.438 ; loss: 0.305\n",
      "- Eval metrics : accuracy: 0.425 ; loss: 0.548\n",
      "Epoch 87/200\n",
      " 44%|████▍     | 7/16 [00:00<00:00, 46.49it/s, loss=0.374]"
     ]
    },
    {
     "name": "stdout",
     "output_type": "stream",
     "text": [
      "Checkpoint Directory exists! \n"
     ]
    },
    {
     "name": "stderr",
     "output_type": "stream",
     "text": [
      "100%|██████████| 16/16 [00:00<00:00, 46.71it/s, loss=0.361]\n",
      "- Train metrics: accuracy: 0.484 ; loss: 0.512\n",
      "- Eval metrics : accuracy: 0.447 ; loss: 0.475\n",
      "Epoch 88/200\n",
      " 44%|████▍     | 7/16 [00:00<00:00, 45.52it/s, loss=0.340]"
     ]
    },
    {
     "name": "stdout",
     "output_type": "stream",
     "text": [
      "Checkpoint Directory exists! \n"
     ]
    },
    {
     "name": "stderr",
     "output_type": "stream",
     "text": [
      "100%|██████████| 16/16 [00:00<00:00, 46.06it/s, loss=0.350]\n",
      "- Train metrics: accuracy: 0.453 ; loss: 0.318\n",
      "- Eval metrics : accuracy: 0.409 ; loss: 0.494\n",
      "Epoch 89/200\n",
      " 44%|████▍     | 7/16 [00:00<00:00, 44.57it/s, loss=0.349]"
     ]
    },
    {
     "name": "stdout",
     "output_type": "stream",
     "text": [
      "Checkpoint Directory exists! \n"
     ]
    },
    {
     "name": "stderr",
     "output_type": "stream",
     "text": [
      "100%|██████████| 16/16 [00:00<00:00, 47.49it/s, loss=0.382]\n",
      "- Train metrics: accuracy: 0.578 ; loss: 0.293\n",
      "- Eval metrics : accuracy: 0.455 ; loss: 0.509\n",
      "Epoch 90/200\n",
      " 44%|████▍     | 7/16 [00:00<00:00, 43.57it/s, loss=0.336]"
     ]
    },
    {
     "name": "stdout",
     "output_type": "stream",
     "text": [
      "Checkpoint Directory exists! \n"
     ]
    },
    {
     "name": "stderr",
     "output_type": "stream",
     "text": [
      "100%|██████████| 16/16 [00:00<00:00, 45.96it/s, loss=0.358]\n",
      "- Train metrics: accuracy: 0.453 ; loss: 0.388\n",
      "- Eval metrics : accuracy: 0.457 ; loss: 0.450\n",
      "Epoch 91/200\n",
      " 44%|████▍     | 7/16 [00:00<00:00, 43.44it/s, loss=0.344]"
     ]
    },
    {
     "name": "stdout",
     "output_type": "stream",
     "text": [
      "Checkpoint Directory exists! \n"
     ]
    },
    {
     "name": "stderr",
     "output_type": "stream",
     "text": [
      "100%|██████████| 16/16 [00:00<00:00, 45.66it/s, loss=0.361]\n",
      "- Train metrics: accuracy: 0.531 ; loss: 0.324\n",
      "- Eval metrics : accuracy: 0.411 ; loss: 0.443\n",
      "Epoch 92/200\n",
      " 44%|████▍     | 7/16 [00:00<00:00, 46.04it/s, loss=0.336]"
     ]
    },
    {
     "name": "stdout",
     "output_type": "stream",
     "text": [
      "Checkpoint Directory exists! \n"
     ]
    },
    {
     "name": "stderr",
     "output_type": "stream",
     "text": [
      "100%|██████████| 16/16 [00:00<00:00, 47.32it/s, loss=0.359]\n",
      "- Train metrics: accuracy: 0.516 ; loss: 0.398\n",
      "- Eval metrics : accuracy: 0.417 ; loss: 0.526\n",
      "Epoch 93/200\n",
      " 44%|████▍     | 7/16 [00:00<00:00, 42.33it/s, loss=0.349]"
     ]
    },
    {
     "name": "stdout",
     "output_type": "stream",
     "text": [
      "Checkpoint Directory exists! \n"
     ]
    },
    {
     "name": "stderr",
     "output_type": "stream",
     "text": [
      "100%|██████████| 16/16 [00:00<00:00, 45.02it/s, loss=0.385]\n",
      "- Train metrics: accuracy: 0.531 ; loss: 0.373\n",
      "- Eval metrics : accuracy: 0.498 ; loss: 0.559\n",
      "Epoch 94/200\n",
      " 38%|███▊      | 6/16 [00:00<00:00, 43.35it/s, loss=0.411]"
     ]
    },
    {
     "name": "stdout",
     "output_type": "stream",
     "text": [
      "Checkpoint Directory exists! \n"
     ]
    },
    {
     "name": "stderr",
     "output_type": "stream",
     "text": [
      "100%|██████████| 16/16 [00:00<00:00, 44.66it/s, loss=0.399]\n",
      "- Train metrics: accuracy: 0.438 ; loss: 0.233\n",
      "- Eval metrics : accuracy: 0.438 ; loss: 0.515\n",
      "Epoch 95/200\n",
      " 44%|████▍     | 7/16 [00:00<00:00, 44.10it/s, loss=0.339]"
     ]
    },
    {
     "name": "stdout",
     "output_type": "stream",
     "text": [
      "Checkpoint Directory exists! \n"
     ]
    },
    {
     "name": "stderr",
     "output_type": "stream",
     "text": [
      "100%|██████████| 16/16 [00:00<00:00, 45.03it/s, loss=0.391]\n",
      "- Train metrics: accuracy: 0.469 ; loss: 0.342\n",
      "- Eval metrics : accuracy: 0.435 ; loss: 0.507\n",
      "Epoch 96/200\n",
      " 44%|████▍     | 7/16 [00:00<00:00, 45.63it/s, loss=0.313]"
     ]
    },
    {
     "name": "stdout",
     "output_type": "stream",
     "text": [
      "Checkpoint Directory exists! \n"
     ]
    },
    {
     "name": "stderr",
     "output_type": "stream",
     "text": [
      "100%|██████████| 16/16 [00:00<00:00, 46.89it/s, loss=0.360]\n",
      "- Train metrics: accuracy: 0.406 ; loss: 0.339\n",
      "- Eval metrics : accuracy: 0.469 ; loss: 0.485\n",
      "Epoch 97/200\n",
      " 44%|████▍     | 7/16 [00:00<00:00, 42.93it/s, loss=0.322]"
     ]
    },
    {
     "name": "stdout",
     "output_type": "stream",
     "text": [
      "Checkpoint Directory exists! \n"
     ]
    },
    {
     "name": "stderr",
     "output_type": "stream",
     "text": [
      "100%|██████████| 16/16 [00:00<00:00, 46.01it/s, loss=0.354]\n",
      "- Train metrics: accuracy: 0.578 ; loss: 0.365\n",
      "- Eval metrics : accuracy: 0.463 ; loss: 0.474\n",
      "Epoch 98/200\n",
      " 44%|████▍     | 7/16 [00:00<00:00, 44.83it/s, loss=0.336]"
     ]
    },
    {
     "name": "stdout",
     "output_type": "stream",
     "text": [
      "Checkpoint Directory exists! \n"
     ]
    },
    {
     "name": "stderr",
     "output_type": "stream",
     "text": [
      "100%|██████████| 16/16 [00:00<00:00, 46.54it/s, loss=0.342]\n",
      "- Train metrics: accuracy: 0.516 ; loss: 0.278\n",
      "- Eval metrics : accuracy: 0.435 ; loss: 0.470\n",
      "Epoch 99/200\n",
      " 44%|████▍     | 7/16 [00:00<00:00, 45.68it/s, loss=0.357]"
     ]
    },
    {
     "name": "stdout",
     "output_type": "stream",
     "text": [
      "Checkpoint Directory exists! \n"
     ]
    },
    {
     "name": "stderr",
     "output_type": "stream",
     "text": [
      "100%|██████████| 16/16 [00:00<00:00, 46.68it/s, loss=0.339]\n",
      "- Train metrics: accuracy: 0.453 ; loss: 0.387\n",
      "- Eval metrics : accuracy: 0.415 ; loss: 0.529\n",
      "Epoch 100/200\n",
      " 38%|███▊      | 6/16 [00:00<00:00, 45.33it/s, loss=0.298]"
     ]
    },
    {
     "name": "stdout",
     "output_type": "stream",
     "text": [
      "Checkpoint Directory exists! \n"
     ]
    },
    {
     "name": "stderr",
     "output_type": "stream",
     "text": [
      "100%|██████████| 16/16 [00:00<00:00, 45.48it/s, loss=0.340]\n",
      "- Train metrics: accuracy: 0.547 ; loss: 0.175\n",
      "- Eval metrics : accuracy: 0.477 ; loss: 0.484\n",
      "Epoch 101/200\n",
      " 44%|████▍     | 7/16 [00:00<00:00, 44.35it/s, loss=0.322]"
     ]
    },
    {
     "name": "stdout",
     "output_type": "stream",
     "text": [
      "Checkpoint Directory exists! \n"
     ]
    },
    {
     "name": "stderr",
     "output_type": "stream",
     "text": [
      "100%|██████████| 16/16 [00:00<00:00, 45.93it/s, loss=0.362]\n",
      "- Train metrics: accuracy: 0.594 ; loss: 0.344\n",
      "- Eval metrics : accuracy: 0.373 ; loss: 0.557\n",
      "Epoch 102/200\n",
      " 44%|████▍     | 7/16 [00:00<00:00, 43.08it/s, loss=0.367]"
     ]
    },
    {
     "name": "stdout",
     "output_type": "stream",
     "text": [
      "Checkpoint Directory exists! \n"
     ]
    },
    {
     "name": "stderr",
     "output_type": "stream",
     "text": [
      "100%|██████████| 16/16 [00:00<00:00, 46.00it/s, loss=0.351]\n",
      "- Train metrics: accuracy: 0.422 ; loss: 0.483\n",
      "- Eval metrics : accuracy: 0.477 ; loss: 0.530\n",
      "Epoch 103/200\n",
      " 44%|████▍     | 7/16 [00:00<00:00, 46.58it/s, loss=0.352]"
     ]
    },
    {
     "name": "stdout",
     "output_type": "stream",
     "text": [
      "Checkpoint Directory exists! \n"
     ]
    },
    {
     "name": "stderr",
     "output_type": "stream",
     "text": [
      "100%|██████████| 16/16 [00:00<00:00, 47.66it/s, loss=0.361]\n",
      "- Train metrics: accuracy: 0.672 ; loss: 0.385\n",
      "- Eval metrics : accuracy: 0.478 ; loss: 0.466\n",
      "Epoch 104/200\n",
      " 44%|████▍     | 7/16 [00:00<00:00, 45.20it/s, loss=0.305]"
     ]
    },
    {
     "name": "stdout",
     "output_type": "stream",
     "text": [
      "Checkpoint Directory exists! \n"
     ]
    },
    {
     "name": "stderr",
     "output_type": "stream",
     "text": [
      "100%|██████████| 16/16 [00:00<00:00, 47.15it/s, loss=0.330]\n",
      "- Train metrics: accuracy: 0.453 ; loss: 0.136\n",
      "- Eval metrics : accuracy: 0.449 ; loss: 0.500\n",
      "Epoch 105/200\n",
      " 44%|████▍     | 7/16 [00:00<00:00, 46.07it/s, loss=0.298]"
     ]
    },
    {
     "name": "stdout",
     "output_type": "stream",
     "text": [
      "Checkpoint Directory exists! \n"
     ]
    },
    {
     "name": "stderr",
     "output_type": "stream",
     "text": [
      "100%|██████████| 16/16 [00:00<00:00, 47.57it/s, loss=0.372]\n",
      "- Train metrics: accuracy: 0.547 ; loss: 0.262\n",
      "- Eval metrics : accuracy: 0.449 ; loss: 0.512\n",
      "Epoch 106/200\n",
      " 44%|████▍     | 7/16 [00:00<00:00, 45.53it/s, loss=0.366]"
     ]
    },
    {
     "name": "stdout",
     "output_type": "stream",
     "text": [
      "Checkpoint Directory exists! \n"
     ]
    },
    {
     "name": "stderr",
     "output_type": "stream",
     "text": [
      "100%|██████████| 16/16 [00:00<00:00, 47.25it/s, loss=0.370]\n",
      "- Train metrics: accuracy: 0.531 ; loss: 0.438\n",
      "- Eval metrics : accuracy: 0.463 ; loss: 0.536\n",
      "Epoch 107/200\n",
      " 44%|████▍     | 7/16 [00:00<00:00, 45.82it/s, loss=0.360]"
     ]
    },
    {
     "name": "stdout",
     "output_type": "stream",
     "text": [
      "Checkpoint Directory exists! \n"
     ]
    },
    {
     "name": "stderr",
     "output_type": "stream",
     "text": [
      "100%|██████████| 16/16 [00:00<00:00, 44.99it/s, loss=0.362]\n",
      "- Train metrics: accuracy: 0.453 ; loss: 0.308\n",
      "- Eval metrics : accuracy: 0.429 ; loss: 0.499\n",
      "Epoch 108/200\n",
      " 38%|███▊      | 6/16 [00:00<00:00, 43.49it/s, loss=0.338]"
     ]
    },
    {
     "name": "stdout",
     "output_type": "stream",
     "text": [
      "Checkpoint Directory exists! \n"
     ]
    },
    {
     "name": "stderr",
     "output_type": "stream",
     "text": [
      "100%|██████████| 16/16 [00:00<00:00, 44.50it/s, loss=0.418]\n",
      "- Train metrics: accuracy: 0.516 ; loss: 0.352\n",
      "- Eval metrics : accuracy: 0.427 ; loss: 0.495\n",
      "Epoch 109/200\n",
      " 44%|████▍     | 7/16 [00:00<00:00, 43.88it/s, loss=0.420]"
     ]
    },
    {
     "name": "stdout",
     "output_type": "stream",
     "text": [
      "Checkpoint Directory exists! \n"
     ]
    },
    {
     "name": "stderr",
     "output_type": "stream",
     "text": [
      "100%|██████████| 16/16 [00:00<00:00, 45.18it/s, loss=0.391]\n",
      "- Train metrics: accuracy: 0.562 ; loss: 0.197\n",
      "- Eval metrics : accuracy: 0.453 ; loss: 0.551\n",
      "Epoch 110/200\n",
      " 38%|███▊      | 6/16 [00:00<00:00, 39.13it/s, loss=0.381]"
     ]
    },
    {
     "name": "stdout",
     "output_type": "stream",
     "text": [
      "Checkpoint Directory exists! \n"
     ]
    },
    {
     "name": "stderr",
     "output_type": "stream",
     "text": [
      "100%|██████████| 16/16 [00:00<00:00, 43.62it/s, loss=0.359]\n",
      "- Train metrics: accuracy: 0.531 ; loss: 0.310\n",
      "- Eval metrics : accuracy: 0.461 ; loss: 0.483\n",
      "Epoch 111/200\n",
      " 44%|████▍     | 7/16 [00:00<00:00, 44.80it/s, loss=0.348]"
     ]
    },
    {
     "name": "stdout",
     "output_type": "stream",
     "text": [
      "Checkpoint Directory exists! \n"
     ]
    },
    {
     "name": "stderr",
     "output_type": "stream",
     "text": [
      "100%|██████████| 16/16 [00:00<00:00, 44.94it/s, loss=0.350]\n",
      "- Train metrics: accuracy: 0.516 ; loss: 0.304\n",
      "- Eval metrics : accuracy: 0.455 ; loss: 0.542\n",
      "Epoch 112/200\n",
      " 44%|████▍     | 7/16 [00:00<00:00, 44.46it/s, loss=0.279]"
     ]
    },
    {
     "name": "stdout",
     "output_type": "stream",
     "text": [
      "Checkpoint Directory exists! \n"
     ]
    },
    {
     "name": "stderr",
     "output_type": "stream",
     "text": [
      "100%|██████████| 16/16 [00:00<00:00, 43.95it/s, loss=0.351]\n",
      "- Train metrics: accuracy: 0.516 ; loss: 0.315\n",
      "- Eval metrics : accuracy: 0.475 ; loss: 0.527\n",
      "Epoch 113/200\n",
      " 44%|████▍     | 7/16 [00:00<00:00, 43.41it/s, loss=0.400]"
     ]
    },
    {
     "name": "stdout",
     "output_type": "stream",
     "text": [
      "Checkpoint Directory exists! \n"
     ]
    },
    {
     "name": "stderr",
     "output_type": "stream",
     "text": [
      "100%|██████████| 16/16 [00:00<00:00, 45.63it/s, loss=0.382]\n",
      "- Train metrics: accuracy: 0.484 ; loss: 0.437\n",
      "- Eval metrics : accuracy: 0.469 ; loss: 0.581\n",
      "Epoch 114/200\n",
      " 44%|████▍     | 7/16 [00:00<00:00, 44.32it/s, loss=0.407]"
     ]
    },
    {
     "name": "stdout",
     "output_type": "stream",
     "text": [
      "Checkpoint Directory exists! \n"
     ]
    },
    {
     "name": "stderr",
     "output_type": "stream",
     "text": [
      "100%|██████████| 16/16 [00:00<00:00, 45.61it/s, loss=0.379]\n",
      "- Train metrics: accuracy: 0.422 ; loss: 0.391\n",
      "- Eval metrics : accuracy: 0.417 ; loss: 0.530\n",
      "Epoch 115/200\n",
      " 38%|███▊      | 6/16 [00:00<00:00, 41.99it/s, loss=0.336]"
     ]
    },
    {
     "name": "stdout",
     "output_type": "stream",
     "text": [
      "Checkpoint Directory exists! \n"
     ]
    },
    {
     "name": "stderr",
     "output_type": "stream",
     "text": [
      "100%|██████████| 16/16 [00:00<00:00, 45.05it/s, loss=0.405]\n",
      "- Train metrics: accuracy: 0.516 ; loss: 0.256\n",
      "- Eval metrics : accuracy: 0.486 ; loss: 0.489\n",
      "Epoch 116/200\n",
      " 44%|████▍     | 7/16 [00:00<00:00, 44.96it/s, loss=0.426]"
     ]
    },
    {
     "name": "stdout",
     "output_type": "stream",
     "text": [
      "Checkpoint Directory exists! \n"
     ]
    },
    {
     "name": "stderr",
     "output_type": "stream",
     "text": [
      "100%|██████████| 16/16 [00:00<00:00, 42.07it/s, loss=0.433]\n",
      "- Train metrics: accuracy: 0.484 ; loss: 0.220\n",
      "- Eval metrics : accuracy: 0.401 ; loss: 0.526\n",
      "Epoch 117/200\n",
      " 44%|████▍     | 7/16 [00:00<00:00, 45.01it/s, loss=0.343]"
     ]
    },
    {
     "name": "stdout",
     "output_type": "stream",
     "text": [
      "Checkpoint Directory exists! \n"
     ]
    },
    {
     "name": "stderr",
     "output_type": "stream",
     "text": [
      "100%|██████████| 16/16 [00:00<00:00, 45.11it/s, loss=0.356]\n",
      "- Train metrics: accuracy: 0.594 ; loss: 0.498\n",
      "- Eval metrics : accuracy: 0.457 ; loss: 0.457\n",
      "Epoch 118/200\n",
      " 44%|████▍     | 7/16 [00:00<00:00, 42.20it/s, loss=0.357]"
     ]
    },
    {
     "name": "stdout",
     "output_type": "stream",
     "text": [
      "Checkpoint Directory exists! \n"
     ]
    },
    {
     "name": "stderr",
     "output_type": "stream",
     "text": [
      "100%|██████████| 16/16 [00:00<00:00, 45.07it/s, loss=0.338]\n",
      "- Train metrics: accuracy: 0.516 ; loss: 0.372\n",
      "- Eval metrics : accuracy: 0.469 ; loss: 0.542\n",
      "Epoch 119/200\n",
      " 38%|███▊      | 6/16 [00:00<00:00, 42.92it/s, loss=0.429]"
     ]
    },
    {
     "name": "stdout",
     "output_type": "stream",
     "text": [
      "Checkpoint Directory exists! \n"
     ]
    },
    {
     "name": "stderr",
     "output_type": "stream",
     "text": [
      "100%|██████████| 16/16 [00:00<00:00, 43.09it/s, loss=0.385]\n",
      "- Train metrics: accuracy: 0.375 ; loss: 0.385\n",
      "- Eval metrics : accuracy: 0.409 ; loss: 0.480\n",
      "Epoch 120/200\n",
      " 38%|███▊      | 6/16 [00:00<00:00, 42.17it/s, loss=0.323]"
     ]
    },
    {
     "name": "stdout",
     "output_type": "stream",
     "text": [
      "Checkpoint Directory exists! \n"
     ]
    },
    {
     "name": "stderr",
     "output_type": "stream",
     "text": [
      "100%|██████████| 16/16 [00:00<00:00, 45.10it/s, loss=0.369]\n",
      "- Train metrics: accuracy: 0.391 ; loss: 0.219\n",
      "- Eval metrics : accuracy: 0.435 ; loss: 0.515\n",
      "Epoch 121/200\n",
      " 44%|████▍     | 7/16 [00:00<00:00, 45.83it/s, loss=0.295]"
     ]
    },
    {
     "name": "stdout",
     "output_type": "stream",
     "text": [
      "Checkpoint Directory exists! \n"
     ]
    },
    {
     "name": "stderr",
     "output_type": "stream",
     "text": [
      "100%|██████████| 16/16 [00:00<00:00, 44.58it/s, loss=0.353]\n",
      "- Train metrics: accuracy: 0.438 ; loss: 0.348\n",
      "- Eval metrics : accuracy: 0.438 ; loss: 0.539\n",
      "Epoch 122/200\n",
      " 44%|████▍     | 7/16 [00:00<00:00, 45.12it/s, loss=0.379]"
     ]
    },
    {
     "name": "stdout",
     "output_type": "stream",
     "text": [
      "Checkpoint Directory exists! \n"
     ]
    },
    {
     "name": "stderr",
     "output_type": "stream",
     "text": [
      "100%|██████████| 16/16 [00:00<00:00, 46.86it/s, loss=0.387]\n",
      "- Train metrics: accuracy: 0.547 ; loss: 0.457\n",
      "- Eval metrics : accuracy: 0.417 ; loss: 0.493\n",
      "Epoch 123/200\n",
      " 44%|████▍     | 7/16 [00:00<00:00, 46.18it/s, loss=0.356]"
     ]
    },
    {
     "name": "stdout",
     "output_type": "stream",
     "text": [
      "Checkpoint Directory exists! \n"
     ]
    },
    {
     "name": "stderr",
     "output_type": "stream",
     "text": [
      "100%|██████████| 16/16 [00:00<00:00, 47.97it/s, loss=0.373]\n",
      "- Train metrics: accuracy: 0.453 ; loss: 0.304\n",
      "- Eval metrics : accuracy: 0.411 ; loss: 0.551\n",
      "Epoch 124/200\n",
      " 44%|████▍     | 7/16 [00:00<00:00, 45.01it/s, loss=0.474]"
     ]
    },
    {
     "name": "stdout",
     "output_type": "stream",
     "text": [
      "Checkpoint Directory exists! \n"
     ]
    },
    {
     "name": "stderr",
     "output_type": "stream",
     "text": [
      "100%|██████████| 16/16 [00:00<00:00, 47.57it/s, loss=0.426]\n",
      "- Train metrics: accuracy: 0.453 ; loss: 0.580\n",
      "- Eval metrics : accuracy: 0.472 ; loss: 0.503\n",
      "Epoch 125/200\n",
      " 44%|████▍     | 7/16 [00:00<00:00, 47.19it/s, loss=0.417]"
     ]
    },
    {
     "name": "stdout",
     "output_type": "stream",
     "text": [
      "Checkpoint Directory exists! \n"
     ]
    },
    {
     "name": "stderr",
     "output_type": "stream",
     "text": [
      "100%|██████████| 16/16 [00:00<00:00, 47.83it/s, loss=0.401]\n",
      "- Train metrics: accuracy: 0.359 ; loss: 0.372\n",
      "- Eval metrics : accuracy: 0.451 ; loss: 0.474\n",
      "Epoch 126/200\n",
      " 44%|████▍     | 7/16 [00:00<00:00, 47.19it/s, loss=0.345]"
     ]
    },
    {
     "name": "stdout",
     "output_type": "stream",
     "text": [
      "Checkpoint Directory exists! \n"
     ]
    },
    {
     "name": "stderr",
     "output_type": "stream",
     "text": [
      "100%|██████████| 16/16 [00:00<00:00, 48.17it/s, loss=0.344]\n",
      "- Train metrics: accuracy: 0.562 ; loss: 0.327\n",
      "- Eval metrics : accuracy: 0.475 ; loss: 0.506\n",
      "Epoch 127/200\n",
      " 44%|████▍     | 7/16 [00:00<00:00, 46.65it/s, loss=0.355]"
     ]
    },
    {
     "name": "stdout",
     "output_type": "stream",
     "text": [
      "Checkpoint Directory exists! \n"
     ]
    },
    {
     "name": "stderr",
     "output_type": "stream",
     "text": [
      "100%|██████████| 16/16 [00:00<00:00, 48.27it/s, loss=0.344]\n",
      "- Train metrics: accuracy: 0.438 ; loss: 0.450\n",
      "- Eval metrics : accuracy: 0.455 ; loss: 0.440\n",
      "Epoch 128/200\n",
      " 44%|████▍     | 7/16 [00:00<00:00, 47.31it/s, loss=0.279]"
     ]
    },
    {
     "name": "stdout",
     "output_type": "stream",
     "text": [
      "Checkpoint Directory exists! \n"
     ]
    },
    {
     "name": "stderr",
     "output_type": "stream",
     "text": [
      "100%|██████████| 16/16 [00:00<00:00, 48.19it/s, loss=0.335]\n",
      "- Train metrics: accuracy: 0.500 ; loss: 0.220\n",
      "- Eval metrics : accuracy: 0.458 ; loss: 0.462\n",
      "Epoch 129/200\n",
      " 44%|████▍     | 7/16 [00:00<00:00, 46.52it/s, loss=0.303]"
     ]
    },
    {
     "name": "stdout",
     "output_type": "stream",
     "text": [
      "Checkpoint Directory exists! \n"
     ]
    },
    {
     "name": "stderr",
     "output_type": "stream",
     "text": [
      "100%|██████████| 16/16 [00:00<00:00, 47.30it/s, loss=0.322]\n",
      "- Train metrics: accuracy: 0.562 ; loss: 0.310\n",
      "- Eval metrics : accuracy: 0.457 ; loss: 0.469\n",
      "Epoch 130/200\n",
      " 44%|████▍     | 7/16 [00:00<00:00, 45.86it/s, loss=0.334]"
     ]
    },
    {
     "name": "stdout",
     "output_type": "stream",
     "text": [
      "Checkpoint Directory exists! \n"
     ]
    },
    {
     "name": "stderr",
     "output_type": "stream",
     "text": [
      "100%|██████████| 16/16 [00:00<00:00, 46.81it/s, loss=0.338]\n",
      "- Train metrics: accuracy: 0.516 ; loss: 0.491\n",
      "- Eval metrics : accuracy: 0.445 ; loss: 0.517\n",
      "Epoch 131/200\n",
      " 44%|████▍     | 7/16 [00:00<00:00, 44.73it/s, loss=0.310]"
     ]
    },
    {
     "name": "stdout",
     "output_type": "stream",
     "text": [
      "Checkpoint Directory exists! \n"
     ]
    },
    {
     "name": "stderr",
     "output_type": "stream",
     "text": [
      "100%|██████████| 16/16 [00:00<00:00, 45.76it/s, loss=0.336]\n",
      "- Train metrics: accuracy: 0.406 ; loss: 0.484\n",
      "- Eval metrics : accuracy: 0.490 ; loss: 0.442\n",
      "Epoch 132/200\n",
      " 44%|████▍     | 7/16 [00:00<00:00, 45.12it/s, loss=0.303]"
     ]
    },
    {
     "name": "stdout",
     "output_type": "stream",
     "text": [
      "Checkpoint Directory exists! \n"
     ]
    },
    {
     "name": "stderr",
     "output_type": "stream",
     "text": [
      "100%|██████████| 16/16 [00:00<00:00, 47.11it/s, loss=0.350]\n",
      "- Train metrics: accuracy: 0.516 ; loss: 0.324\n",
      "- Eval metrics : accuracy: 0.445 ; loss: 0.452\n",
      "Epoch 133/200\n",
      " 19%|█▉        | 3/16 [00:00<00:00, 31.90it/s, loss=0.331]"
     ]
    },
    {
     "name": "stdout",
     "output_type": "stream",
     "text": [
      "Checkpoint Directory exists! \n"
     ]
    },
    {
     "name": "stderr",
     "output_type": "stream",
     "text": [
      "100%|██████████| 16/16 [00:00<00:00, 45.22it/s, loss=0.359]\n",
      "- Train metrics: accuracy: 0.469 ; loss: 0.316\n",
      "- Eval metrics : accuracy: 0.469 ; loss: 0.557\n",
      "Epoch 134/200\n",
      " 38%|███▊      | 6/16 [00:00<00:00, 42.55it/s, loss=0.350]"
     ]
    },
    {
     "name": "stdout",
     "output_type": "stream",
     "text": [
      "Checkpoint Directory exists! \n"
     ]
    },
    {
     "name": "stderr",
     "output_type": "stream",
     "text": [
      "100%|██████████| 16/16 [00:00<00:00, 43.80it/s, loss=0.339]\n",
      "- Train metrics: accuracy: 0.500 ; loss: 0.263\n",
      "- Eval metrics : accuracy: 0.423 ; loss: 0.541\n",
      "Epoch 135/200\n",
      " 44%|████▍     | 7/16 [00:00<00:00, 43.11it/s, loss=0.319]"
     ]
    },
    {
     "name": "stdout",
     "output_type": "stream",
     "text": [
      "Checkpoint Directory exists! \n"
     ]
    },
    {
     "name": "stderr",
     "output_type": "stream",
     "text": [
      "100%|██████████| 16/16 [00:00<00:00, 44.65it/s, loss=0.326]\n",
      "- Train metrics: accuracy: 0.453 ; loss: 0.337\n",
      "- Eval metrics : accuracy: 0.431 ; loss: 0.486\n",
      "Epoch 136/200\n",
      " 44%|████▍     | 7/16 [00:00<00:00, 45.21it/s, loss=0.330]"
     ]
    },
    {
     "name": "stdout",
     "output_type": "stream",
     "text": [
      "Checkpoint Directory exists! \n"
     ]
    },
    {
     "name": "stderr",
     "output_type": "stream",
     "text": [
      "100%|██████████| 16/16 [00:00<00:00, 46.89it/s, loss=0.366]\n",
      "- Train metrics: accuracy: 0.484 ; loss: 0.379\n",
      "- Eval metrics : accuracy: 0.438 ; loss: 0.480\n",
      "Epoch 137/200\n",
      " 44%|████▍     | 7/16 [00:00<00:00, 44.38it/s, loss=0.323]"
     ]
    },
    {
     "name": "stdout",
     "output_type": "stream",
     "text": [
      "Checkpoint Directory exists! \n"
     ]
    },
    {
     "name": "stderr",
     "output_type": "stream",
     "text": [
      "100%|██████████| 16/16 [00:00<00:00, 46.86it/s, loss=0.340]\n",
      "- Train metrics: accuracy: 0.547 ; loss: 0.295\n",
      "- Eval metrics : accuracy: 0.442 ; loss: 0.528\n",
      "Epoch 138/200\n",
      " 44%|████▍     | 7/16 [00:00<00:00, 45.47it/s, loss=0.343]"
     ]
    },
    {
     "name": "stdout",
     "output_type": "stream",
     "text": [
      "Checkpoint Directory exists! \n"
     ]
    },
    {
     "name": "stderr",
     "output_type": "stream",
     "text": [
      "100%|██████████| 16/16 [00:00<00:00, 46.14it/s, loss=0.344]\n",
      "- Train metrics: accuracy: 0.500 ; loss: 0.408\n",
      "- Eval metrics : accuracy: 0.403 ; loss: 0.565\n",
      "Epoch 139/200\n",
      " 44%|████▍     | 7/16 [00:00<00:00, 45.87it/s, loss=0.307]"
     ]
    },
    {
     "name": "stdout",
     "output_type": "stream",
     "text": [
      "Checkpoint Directory exists! \n"
     ]
    },
    {
     "name": "stderr",
     "output_type": "stream",
     "text": [
      "100%|██████████| 16/16 [00:00<00:00, 46.89it/s, loss=0.350]\n",
      "- Train metrics: accuracy: 0.453 ; loss: 0.246\n",
      "- Eval metrics : accuracy: 0.444 ; loss: 0.471\n",
      "Epoch 140/200\n",
      " 44%|████▍     | 7/16 [00:00<00:00, 44.81it/s, loss=0.351]"
     ]
    },
    {
     "name": "stdout",
     "output_type": "stream",
     "text": [
      "Checkpoint Directory exists! \n"
     ]
    },
    {
     "name": "stderr",
     "output_type": "stream",
     "text": [
      "100%|██████████| 16/16 [00:00<00:00, 46.05it/s, loss=0.350]\n",
      "- Train metrics: accuracy: 0.406 ; loss: 0.332\n",
      "- Eval metrics : accuracy: 0.425 ; loss: 0.477\n",
      "Epoch 141/200\n",
      " 44%|████▍     | 7/16 [00:00<00:00, 45.73it/s, loss=0.346]"
     ]
    },
    {
     "name": "stdout",
     "output_type": "stream",
     "text": [
      "Checkpoint Directory exists! \n"
     ]
    },
    {
     "name": "stderr",
     "output_type": "stream",
     "text": [
      "100%|██████████| 16/16 [00:00<00:00, 46.75it/s, loss=0.363]\n",
      "- Train metrics: accuracy: 0.625 ; loss: 0.229\n",
      "- Eval metrics : accuracy: 0.479 ; loss: 0.511\n",
      "Epoch 142/200\n",
      " 44%|████▍     | 7/16 [00:00<00:00, 46.22it/s, loss=0.383]"
     ]
    },
    {
     "name": "stdout",
     "output_type": "stream",
     "text": [
      "Checkpoint Directory exists! \n"
     ]
    },
    {
     "name": "stderr",
     "output_type": "stream",
     "text": [
      "100%|██████████| 16/16 [00:00<00:00, 47.58it/s, loss=0.357]\n",
      "- Train metrics: accuracy: 0.609 ; loss: 0.379\n",
      "- Eval metrics : accuracy: 0.401 ; loss: 0.572\n",
      "Epoch 143/200\n",
      " 44%|████▍     | 7/16 [00:00<00:00, 46.14it/s, loss=0.372]"
     ]
    },
    {
     "name": "stdout",
     "output_type": "stream",
     "text": [
      "Checkpoint Directory exists! \n"
     ]
    },
    {
     "name": "stderr",
     "output_type": "stream",
     "text": [
      "100%|██████████| 16/16 [00:00<00:00, 47.27it/s, loss=0.379]\n",
      "- Train metrics: accuracy: 0.469 ; loss: 0.276\n",
      "- Eval metrics : accuracy: 0.433 ; loss: 0.560\n",
      "Epoch 144/200\n",
      " 44%|████▍     | 7/16 [00:00<00:00, 46.04it/s, loss=0.363]"
     ]
    },
    {
     "name": "stdout",
     "output_type": "stream",
     "text": [
      "Checkpoint Directory exists! \n"
     ]
    },
    {
     "name": "stderr",
     "output_type": "stream",
     "text": [
      "100%|██████████| 16/16 [00:00<00:00, 48.12it/s, loss=0.374]\n",
      "- Train metrics: accuracy: 0.531 ; loss: 0.431\n",
      "- Eval metrics : accuracy: 0.429 ; loss: 0.563\n",
      "Epoch 145/200\n",
      " 44%|████▍     | 7/16 [00:00<00:00, 47.35it/s, loss=0.376]"
     ]
    },
    {
     "name": "stdout",
     "output_type": "stream",
     "text": [
      "Checkpoint Directory exists! \n"
     ]
    },
    {
     "name": "stderr",
     "output_type": "stream",
     "text": [
      "100%|██████████| 16/16 [00:00<00:00, 48.10it/s, loss=0.379]\n",
      "- Train metrics: accuracy: 0.453 ; loss: 0.424\n",
      "- Eval metrics : accuracy: 0.463 ; loss: 0.496\n",
      "Epoch 146/200\n",
      " 44%|████▍     | 7/16 [00:00<00:00, 47.27it/s, loss=0.413]"
     ]
    },
    {
     "name": "stdout",
     "output_type": "stream",
     "text": [
      "Checkpoint Directory exists! \n"
     ]
    },
    {
     "name": "stderr",
     "output_type": "stream",
     "text": [
      "100%|██████████| 16/16 [00:00<00:00, 48.20it/s, loss=0.374]\n",
      "- Train metrics: accuracy: 0.453 ; loss: 0.410\n",
      "- Eval metrics : accuracy: 0.443 ; loss: 0.468\n",
      "Epoch 147/200\n",
      " 44%|████▍     | 7/16 [00:00<00:00, 46.81it/s, loss=0.368]"
     ]
    },
    {
     "name": "stdout",
     "output_type": "stream",
     "text": [
      "Checkpoint Directory exists! \n"
     ]
    },
    {
     "name": "stderr",
     "output_type": "stream",
     "text": [
      "100%|██████████| 16/16 [00:00<00:00, 47.74it/s, loss=0.346]\n",
      "- Train metrics: accuracy: 0.484 ; loss: 0.416\n",
      "- Eval metrics : accuracy: 0.421 ; loss: 0.494\n",
      "Epoch 148/200\n",
      " 44%|████▍     | 7/16 [00:00<00:00, 47.74it/s, loss=0.352]"
     ]
    },
    {
     "name": "stdout",
     "output_type": "stream",
     "text": [
      "Checkpoint Directory exists! \n"
     ]
    },
    {
     "name": "stderr",
     "output_type": "stream",
     "text": [
      "100%|██████████| 16/16 [00:00<00:00, 47.61it/s, loss=0.322]\n",
      "- Train metrics: accuracy: 0.500 ; loss: 0.386\n",
      "- Eval metrics : accuracy: 0.463 ; loss: 0.537\n",
      "Epoch 149/200\n",
      " 44%|████▍     | 7/16 [00:00<00:00, 43.42it/s, loss=0.350]"
     ]
    },
    {
     "name": "stdout",
     "output_type": "stream",
     "text": [
      "Checkpoint Directory exists! \n"
     ]
    },
    {
     "name": "stderr",
     "output_type": "stream",
     "text": [
      "100%|██████████| 16/16 [00:00<00:00, 46.06it/s, loss=0.340]\n",
      "- Train metrics: accuracy: 0.453 ; loss: 0.230\n",
      "- Eval metrics : accuracy: 0.464 ; loss: 0.581\n",
      "Epoch 150/200\n",
      " 44%|████▍     | 7/16 [00:00<00:00, 44.00it/s, loss=0.312]"
     ]
    },
    {
     "name": "stdout",
     "output_type": "stream",
     "text": [
      "Checkpoint Directory exists! \n"
     ]
    },
    {
     "name": "stderr",
     "output_type": "stream",
     "text": [
      "100%|██████████| 16/16 [00:00<00:00, 45.30it/s, loss=0.330]\n",
      "- Train metrics: accuracy: 0.406 ; loss: 0.200\n",
      "- Eval metrics : accuracy: 0.486 ; loss: 0.462\n",
      "Epoch 151/200\n",
      " 44%|████▍     | 7/16 [00:00<00:00, 46.21it/s, loss=0.348]"
     ]
    },
    {
     "name": "stdout",
     "output_type": "stream",
     "text": [
      "Checkpoint Directory exists! \n"
     ]
    },
    {
     "name": "stderr",
     "output_type": "stream",
     "text": [
      "100%|██████████| 16/16 [00:00<00:00, 46.59it/s, loss=0.342]\n",
      "- Train metrics: accuracy: 0.453 ; loss: 0.358\n",
      "- Eval metrics : accuracy: 0.457 ; loss: 0.426\n",
      "Epoch 152/200\n",
      " 38%|███▊      | 6/16 [00:00<00:00, 42.24it/s, loss=0.297]"
     ]
    },
    {
     "name": "stdout",
     "output_type": "stream",
     "text": [
      "Checkpoint Directory exists! \n"
     ]
    },
    {
     "name": "stderr",
     "output_type": "stream",
     "text": [
      "100%|██████████| 16/16 [00:00<00:00, 44.13it/s, loss=0.346]\n",
      "- Train metrics: accuracy: 0.453 ; loss: 0.422\n",
      "- Eval metrics : accuracy: 0.435 ; loss: 0.487\n",
      "Epoch 153/200\n",
      " 44%|████▍     | 7/16 [00:00<00:00, 44.76it/s, loss=0.332]"
     ]
    },
    {
     "name": "stdout",
     "output_type": "stream",
     "text": [
      "Checkpoint Directory exists! \n"
     ]
    },
    {
     "name": "stderr",
     "output_type": "stream",
     "text": [
      "100%|██████████| 16/16 [00:00<00:00, 46.61it/s, loss=0.343]\n",
      "- Train metrics: accuracy: 0.500 ; loss: 0.476\n",
      "- Eval metrics : accuracy: 0.441 ; loss: 0.490\n",
      "Epoch 154/200\n",
      " 44%|████▍     | 7/16 [00:00<00:00, 44.79it/s, loss=0.334]"
     ]
    },
    {
     "name": "stdout",
     "output_type": "stream",
     "text": [
      "Checkpoint Directory exists! \n"
     ]
    },
    {
     "name": "stderr",
     "output_type": "stream",
     "text": [
      "100%|██████████| 16/16 [00:00<00:00, 45.85it/s, loss=0.345]\n",
      "- Train metrics: accuracy: 0.422 ; loss: 0.241\n",
      "- Eval metrics : accuracy: 0.457 ; loss: 0.508\n",
      "Epoch 155/200\n",
      " 44%|████▍     | 7/16 [00:00<00:00, 44.01it/s, loss=0.310]"
     ]
    },
    {
     "name": "stdout",
     "output_type": "stream",
     "text": [
      "Checkpoint Directory exists! \n"
     ]
    },
    {
     "name": "stderr",
     "output_type": "stream",
     "text": [
      "100%|██████████| 16/16 [00:00<00:00, 46.12it/s, loss=0.347]\n",
      "- Train metrics: accuracy: 0.453 ; loss: 0.353\n",
      "- Eval metrics : accuracy: 0.452 ; loss: 0.497\n",
      "Epoch 156/200\n",
      " 44%|████▍     | 7/16 [00:00<00:00, 44.12it/s, loss=0.406]"
     ]
    },
    {
     "name": "stdout",
     "output_type": "stream",
     "text": [
      "Checkpoint Directory exists! \n"
     ]
    },
    {
     "name": "stderr",
     "output_type": "stream",
     "text": [
      "100%|██████████| 16/16 [00:00<00:00, 46.12it/s, loss=0.407]\n",
      "- Train metrics: accuracy: 0.562 ; loss: 0.548\n",
      "- Eval metrics : accuracy: 0.469 ; loss: 0.479\n",
      "Epoch 157/200\n",
      " 44%|████▍     | 7/16 [00:00<00:00, 45.44it/s, loss=0.300]"
     ]
    },
    {
     "name": "stdout",
     "output_type": "stream",
     "text": [
      "Checkpoint Directory exists! \n"
     ]
    },
    {
     "name": "stderr",
     "output_type": "stream",
     "text": [
      "100%|██████████| 16/16 [00:00<00:00, 46.93it/s, loss=0.340]\n",
      "- Train metrics: accuracy: 0.562 ; loss: 0.330\n",
      "- Eval metrics : accuracy: 0.447 ; loss: 0.485\n",
      "Epoch 158/200\n",
      " 44%|████▍     | 7/16 [00:00<00:00, 45.28it/s, loss=0.320]"
     ]
    },
    {
     "name": "stdout",
     "output_type": "stream",
     "text": [
      "Checkpoint Directory exists! \n"
     ]
    },
    {
     "name": "stderr",
     "output_type": "stream",
     "text": [
      "100%|██████████| 16/16 [00:00<00:00, 45.53it/s, loss=0.335]\n",
      "- Train metrics: accuracy: 0.594 ; loss: 0.201\n",
      "- Eval metrics : accuracy: 0.463 ; loss: 0.493\n",
      "Epoch 159/200\n",
      " 44%|████▍     | 7/16 [00:00<00:00, 45.75it/s, loss=0.375]"
     ]
    },
    {
     "name": "stdout",
     "output_type": "stream",
     "text": [
      "Checkpoint Directory exists! \n"
     ]
    },
    {
     "name": "stderr",
     "output_type": "stream",
     "text": [
      "100%|██████████| 16/16 [00:00<00:00, 45.93it/s, loss=0.359]\n",
      "- Train metrics: accuracy: 0.422 ; loss: 0.261\n",
      "- Eval metrics : accuracy: 0.470 ; loss: 0.507\n",
      "Epoch 160/200\n",
      " 44%|████▍     | 7/16 [00:00<00:00, 45.48it/s, loss=0.393]"
     ]
    },
    {
     "name": "stdout",
     "output_type": "stream",
     "text": [
      "Checkpoint Directory exists! \n"
     ]
    },
    {
     "name": "stderr",
     "output_type": "stream",
     "text": [
      "100%|██████████| 16/16 [00:00<00:00, 46.76it/s, loss=0.398]\n",
      "- Train metrics: accuracy: 0.406 ; loss: 0.484\n",
      "- Eval metrics : accuracy: 0.461 ; loss: 0.521\n",
      "Epoch 161/200\n",
      " 44%|████▍     | 7/16 [00:00<00:00, 44.24it/s, loss=0.355]"
     ]
    },
    {
     "name": "stdout",
     "output_type": "stream",
     "text": [
      "Checkpoint Directory exists! \n"
     ]
    },
    {
     "name": "stderr",
     "output_type": "stream",
     "text": [
      "100%|██████████| 16/16 [00:00<00:00, 45.68it/s, loss=0.373]\n",
      "- Train metrics: accuracy: 0.406 ; loss: 0.274\n",
      "- Eval metrics : accuracy: 0.453 ; loss: 0.529\n",
      "Epoch 162/200\n",
      " 44%|████▍     | 7/16 [00:00<00:00, 42.44it/s, loss=0.312]"
     ]
    },
    {
     "name": "stdout",
     "output_type": "stream",
     "text": [
      "Checkpoint Directory exists! \n"
     ]
    },
    {
     "name": "stderr",
     "output_type": "stream",
     "text": [
      "100%|██████████| 16/16 [00:00<00:00, 45.50it/s, loss=0.351]\n",
      "- Train metrics: accuracy: 0.500 ; loss: 0.266\n",
      "- Eval metrics : accuracy: 0.423 ; loss: 0.510\n",
      "Epoch 163/200\n",
      " 44%|████▍     | 7/16 [00:00<00:00, 45.87it/s, loss=0.334]"
     ]
    },
    {
     "name": "stdout",
     "output_type": "stream",
     "text": [
      "Checkpoint Directory exists! \n"
     ]
    },
    {
     "name": "stderr",
     "output_type": "stream",
     "text": [
      "100%|██████████| 16/16 [00:00<00:00, 47.01it/s, loss=0.343]\n",
      "- Train metrics: accuracy: 0.406 ; loss: 0.217\n",
      "- Eval metrics : accuracy: 0.484 ; loss: 0.504\n",
      "Epoch 164/200\n",
      " 44%|████▍     | 7/16 [00:00<00:00, 46.89it/s, loss=0.384]"
     ]
    },
    {
     "name": "stdout",
     "output_type": "stream",
     "text": [
      "Checkpoint Directory exists! \n"
     ]
    },
    {
     "name": "stderr",
     "output_type": "stream",
     "text": [
      "100%|██████████| 16/16 [00:00<00:00, 48.04it/s, loss=0.364]\n",
      "- Train metrics: accuracy: 0.469 ; loss: 0.335\n",
      "- Eval metrics : accuracy: 0.453 ; loss: 0.471\n",
      "Epoch 165/200\n",
      " 44%|████▍     | 7/16 [00:00<00:00, 46.22it/s, loss=0.333]"
     ]
    },
    {
     "name": "stdout",
     "output_type": "stream",
     "text": [
      "Checkpoint Directory exists! \n"
     ]
    },
    {
     "name": "stderr",
     "output_type": "stream",
     "text": [
      "100%|██████████| 16/16 [00:00<00:00, 47.56it/s, loss=0.341]\n",
      "- Train metrics: accuracy: 0.453 ; loss: 0.240\n",
      "- Eval metrics : accuracy: 0.472 ; loss: 0.496\n",
      "Epoch 166/200\n",
      " 44%|████▍     | 7/16 [00:00<00:00, 45.02it/s, loss=0.337]"
     ]
    },
    {
     "name": "stdout",
     "output_type": "stream",
     "text": [
      "Checkpoint Directory exists! \n"
     ]
    },
    {
     "name": "stderr",
     "output_type": "stream",
     "text": [
      "100%|██████████| 16/16 [00:00<00:00, 47.57it/s, loss=0.356]\n",
      "- Train metrics: accuracy: 0.531 ; loss: 0.288\n",
      "- Eval metrics : accuracy: 0.435 ; loss: 0.513\n",
      "Epoch 167/200\n",
      " 44%|████▍     | 7/16 [00:00<00:00, 46.37it/s, loss=0.306]"
     ]
    },
    {
     "name": "stdout",
     "output_type": "stream",
     "text": [
      "Checkpoint Directory exists! \n"
     ]
    },
    {
     "name": "stderr",
     "output_type": "stream",
     "text": [
      "100%|██████████| 16/16 [00:00<00:00, 48.17it/s, loss=0.339]\n",
      "- Train metrics: accuracy: 0.516 ; loss: 0.309\n",
      "- Eval metrics : accuracy: 0.417 ; loss: 0.496\n",
      "Epoch 168/200\n",
      " 44%|████▍     | 7/16 [00:00<00:00, 46.47it/s, loss=0.321]"
     ]
    },
    {
     "name": "stdout",
     "output_type": "stream",
     "text": [
      "Checkpoint Directory exists! \n"
     ]
    },
    {
     "name": "stderr",
     "output_type": "stream",
     "text": [
      "100%|██████████| 16/16 [00:00<00:00, 46.80it/s, loss=0.330]\n",
      "- Train metrics: accuracy: 0.453 ; loss: 0.170\n",
      "- Eval metrics : accuracy: 0.435 ; loss: 0.499\n",
      "Epoch 169/200\n",
      " 44%|████▍     | 7/16 [00:00<00:00, 43.69it/s, loss=0.273]"
     ]
    },
    {
     "name": "stdout",
     "output_type": "stream",
     "text": [
      "Checkpoint Directory exists! \n"
     ]
    },
    {
     "name": "stderr",
     "output_type": "stream",
     "text": [
      "100%|██████████| 16/16 [00:00<00:00, 45.05it/s, loss=0.323]\n",
      "- Train metrics: accuracy: 0.484 ; loss: 0.404\n",
      "- Eval metrics : accuracy: 0.524 ; loss: 0.562\n",
      "- Found new best accuracy\n",
      "Epoch 170/200\n",
      " 38%|███▊      | 6/16 [00:00<00:00, 41.30it/s, loss=0.378]"
     ]
    },
    {
     "name": "stdout",
     "output_type": "stream",
     "text": [
      "Checkpoint Directory exists! \n"
     ]
    },
    {
     "name": "stderr",
     "output_type": "stream",
     "text": [
      "100%|██████████| 16/16 [00:00<00:00, 44.88it/s, loss=0.346]\n",
      "- Train metrics: accuracy: 0.516 ; loss: 0.548\n",
      "- Eval metrics : accuracy: 0.447 ; loss: 0.540\n",
      "Epoch 171/200\n",
      " 44%|████▍     | 7/16 [00:00<00:00, 43.05it/s, loss=0.362]"
     ]
    },
    {
     "name": "stdout",
     "output_type": "stream",
     "text": [
      "Checkpoint Directory exists! \n"
     ]
    },
    {
     "name": "stderr",
     "output_type": "stream",
     "text": [
      "100%|██████████| 16/16 [00:00<00:00, 45.30it/s, loss=0.340]\n",
      "- Train metrics: accuracy: 0.516 ; loss: 0.201\n",
      "- Eval metrics : accuracy: 0.378 ; loss: 0.558\n",
      "Epoch 172/200\n",
      " 44%|████▍     | 7/16 [00:00<00:00, 45.19it/s, loss=0.355]"
     ]
    },
    {
     "name": "stdout",
     "output_type": "stream",
     "text": [
      "Checkpoint Directory exists! \n"
     ]
    },
    {
     "name": "stderr",
     "output_type": "stream",
     "text": [
      "100%|██████████| 16/16 [00:00<00:00, 45.90it/s, loss=0.344]\n",
      "- Train metrics: accuracy: 0.547 ; loss: 0.372\n",
      "- Eval metrics : accuracy: 0.409 ; loss: 0.601\n",
      "Epoch 173/200\n",
      " 44%|████▍     | 7/16 [00:00<00:00, 44.53it/s, loss=0.303]"
     ]
    },
    {
     "name": "stdout",
     "output_type": "stream",
     "text": [
      "Checkpoint Directory exists! \n"
     ]
    },
    {
     "name": "stderr",
     "output_type": "stream",
     "text": [
      "100%|██████████| 16/16 [00:00<00:00, 45.28it/s, loss=0.336]\n",
      "- Train metrics: accuracy: 0.422 ; loss: 0.251\n",
      "- Eval metrics : accuracy: 0.403 ; loss: 0.526\n",
      "Epoch 174/200\n",
      " 44%|████▍     | 7/16 [00:00<00:00, 43.67it/s, loss=0.342]"
     ]
    },
    {
     "name": "stdout",
     "output_type": "stream",
     "text": [
      "Checkpoint Directory exists! \n"
     ]
    },
    {
     "name": "stderr",
     "output_type": "stream",
     "text": [
      "100%|██████████| 16/16 [00:00<00:00, 46.25it/s, loss=0.321]\n",
      "- Train metrics: accuracy: 0.422 ; loss: 0.328\n",
      "- Eval metrics : accuracy: 0.479 ; loss: 0.433\n",
      "Epoch 175/200\n",
      " 44%|████▍     | 7/16 [00:00<00:00, 44.63it/s, loss=0.314]"
     ]
    },
    {
     "name": "stdout",
     "output_type": "stream",
     "text": [
      "Checkpoint Directory exists! \n"
     ]
    },
    {
     "name": "stderr",
     "output_type": "stream",
     "text": [
      "100%|██████████| 16/16 [00:00<00:00, 46.14it/s, loss=0.323]\n",
      "- Train metrics: accuracy: 0.406 ; loss: 0.357\n",
      "- Eval metrics : accuracy: 0.443 ; loss: 0.540\n",
      "Epoch 176/200\n",
      " 44%|████▍     | 7/16 [00:00<00:00, 45.50it/s, loss=0.390]"
     ]
    },
    {
     "name": "stdout",
     "output_type": "stream",
     "text": [
      "Checkpoint Directory exists! \n"
     ]
    },
    {
     "name": "stderr",
     "output_type": "stream",
     "text": [
      "100%|██████████| 16/16 [00:00<00:00, 46.60it/s, loss=0.379]\n",
      "- Train metrics: accuracy: 0.547 ; loss: 0.369\n",
      "- Eval metrics : accuracy: 0.458 ; loss: 0.597\n",
      "Epoch 177/200\n",
      " 44%|████▍     | 7/16 [00:00<00:00, 42.95it/s, loss=0.397]"
     ]
    },
    {
     "name": "stdout",
     "output_type": "stream",
     "text": [
      "Checkpoint Directory exists! \n"
     ]
    },
    {
     "name": "stderr",
     "output_type": "stream",
     "text": [
      "100%|██████████| 16/16 [00:00<00:00, 46.35it/s, loss=0.358]\n",
      "- Train metrics: accuracy: 0.484 ; loss: 0.335\n",
      "- Eval metrics : accuracy: 0.450 ; loss: 0.576\n",
      "Epoch 178/200\n",
      " 44%|████▍     | 7/16 [00:00<00:00, 46.08it/s, loss=0.397]"
     ]
    },
    {
     "name": "stdout",
     "output_type": "stream",
     "text": [
      "Checkpoint Directory exists! \n"
     ]
    },
    {
     "name": "stderr",
     "output_type": "stream",
     "text": [
      "100%|██████████| 16/16 [00:00<00:00, 47.30it/s, loss=0.374]\n",
      "- Train metrics: accuracy: 0.484 ; loss: 0.482\n",
      "- Eval metrics : accuracy: 0.437 ; loss: 0.551\n",
      "Epoch 179/200\n",
      " 44%|████▍     | 7/16 [00:00<00:00, 45.90it/s, loss=0.367]"
     ]
    },
    {
     "name": "stdout",
     "output_type": "stream",
     "text": [
      "Checkpoint Directory exists! \n"
     ]
    },
    {
     "name": "stderr",
     "output_type": "stream",
     "text": [
      "100%|██████████| 16/16 [00:00<00:00, 46.43it/s, loss=0.358]\n",
      "- Train metrics: accuracy: 0.422 ; loss: 0.397\n",
      "- Eval metrics : accuracy: 0.489 ; loss: 0.469\n",
      "Epoch 180/200\n",
      " 44%|████▍     | 7/16 [00:00<00:00, 45.17it/s, loss=0.366]"
     ]
    },
    {
     "name": "stdout",
     "output_type": "stream",
     "text": [
      "Checkpoint Directory exists! \n"
     ]
    },
    {
     "name": "stderr",
     "output_type": "stream",
     "text": [
      "100%|██████████| 16/16 [00:00<00:00, 46.57it/s, loss=0.345]\n",
      "- Train metrics: accuracy: 0.484 ; loss: 0.326\n",
      "- Eval metrics : accuracy: 0.435 ; loss: 0.480\n",
      "Epoch 181/200\n",
      " 44%|████▍     | 7/16 [00:00<00:00, 43.74it/s, loss=0.368]"
     ]
    },
    {
     "name": "stdout",
     "output_type": "stream",
     "text": [
      "Checkpoint Directory exists! \n"
     ]
    },
    {
     "name": "stderr",
     "output_type": "stream",
     "text": [
      "100%|██████████| 16/16 [00:00<00:00, 45.11it/s, loss=0.346]\n",
      "- Train metrics: accuracy: 0.453 ; loss: 0.343\n",
      "- Eval metrics : accuracy: 0.429 ; loss: 0.495\n",
      "Epoch 182/200\n",
      " 44%|████▍     | 7/16 [00:00<00:00, 45.20it/s, loss=0.345]"
     ]
    },
    {
     "name": "stdout",
     "output_type": "stream",
     "text": [
      "Checkpoint Directory exists! \n"
     ]
    },
    {
     "name": "stderr",
     "output_type": "stream",
     "text": [
      "100%|██████████| 16/16 [00:00<00:00, 46.38it/s, loss=0.348]\n",
      "- Train metrics: accuracy: 0.453 ; loss: 0.253\n",
      "- Eval metrics : accuracy: 0.431 ; loss: 0.496\n",
      "Epoch 183/200\n",
      " 44%|████▍     | 7/16 [00:00<00:00, 44.75it/s, loss=0.327]"
     ]
    },
    {
     "name": "stdout",
     "output_type": "stream",
     "text": [
      "Checkpoint Directory exists! \n"
     ]
    },
    {
     "name": "stderr",
     "output_type": "stream",
     "text": [
      "100%|██████████| 16/16 [00:00<00:00, 46.40it/s, loss=0.338]\n",
      "- Train metrics: accuracy: 0.469 ; loss: 0.423\n",
      "- Eval metrics : accuracy: 0.471 ; loss: 0.573\n",
      "Epoch 184/200\n",
      " 44%|████▍     | 7/16 [00:00<00:00, 44.85it/s, loss=0.368]"
     ]
    },
    {
     "name": "stdout",
     "output_type": "stream",
     "text": [
      "Checkpoint Directory exists! \n"
     ]
    },
    {
     "name": "stderr",
     "output_type": "stream",
     "text": [
      "100%|██████████| 16/16 [00:00<00:00, 44.99it/s, loss=0.341]\n",
      "- Train metrics: accuracy: 0.516 ; loss: 0.372\n",
      "- Eval metrics : accuracy: 0.444 ; loss: 0.508\n",
      "Epoch 185/200\n",
      " 38%|███▊      | 6/16 [00:00<00:00, 35.55it/s, loss=0.307]"
     ]
    },
    {
     "name": "stdout",
     "output_type": "stream",
     "text": [
      "Checkpoint Directory exists! \n"
     ]
    },
    {
     "name": "stderr",
     "output_type": "stream",
     "text": [
      "100%|██████████| 16/16 [00:00<00:00, 43.20it/s, loss=0.325]\n",
      "- Train metrics: accuracy: 0.453 ; loss: 0.499\n",
      "- Eval metrics : accuracy: 0.492 ; loss: 0.514\n",
      "Epoch 186/200\n",
      " 44%|████▍     | 7/16 [00:00<00:00, 45.49it/s, loss=0.388]"
     ]
    },
    {
     "name": "stdout",
     "output_type": "stream",
     "text": [
      "Checkpoint Directory exists! \n"
     ]
    },
    {
     "name": "stderr",
     "output_type": "stream",
     "text": [
      "100%|██████████| 16/16 [00:00<00:00, 47.48it/s, loss=0.353]\n",
      "- Train metrics: accuracy: 0.656 ; loss: 0.485\n",
      "- Eval metrics : accuracy: 0.447 ; loss: 0.534\n",
      "Epoch 187/200\n",
      " 38%|███▊      | 6/16 [00:00<00:00, 41.92it/s, loss=0.319]"
     ]
    },
    {
     "name": "stdout",
     "output_type": "stream",
     "text": [
      "Checkpoint Directory exists! \n"
     ]
    },
    {
     "name": "stderr",
     "output_type": "stream",
     "text": [
      "100%|██████████| 16/16 [00:00<00:00, 45.16it/s, loss=0.331]\n",
      "- Train metrics: accuracy: 0.516 ; loss: 0.262\n",
      "- Eval metrics : accuracy: 0.424 ; loss: 0.534\n",
      "Epoch 188/200\n",
      " 44%|████▍     | 7/16 [00:00<00:00, 42.86it/s, loss=0.328]"
     ]
    },
    {
     "name": "stdout",
     "output_type": "stream",
     "text": [
      "Checkpoint Directory exists! \n"
     ]
    },
    {
     "name": "stderr",
     "output_type": "stream",
     "text": [
      "100%|██████████| 16/16 [00:00<00:00, 44.18it/s, loss=0.344]\n",
      "- Train metrics: accuracy: 0.500 ; loss: 0.340\n",
      "- Eval metrics : accuracy: 0.451 ; loss: 0.524\n",
      "Epoch 189/200\n",
      " 38%|███▊      | 6/16 [00:00<00:00, 41.69it/s, loss=0.310]"
     ]
    },
    {
     "name": "stdout",
     "output_type": "stream",
     "text": [
      "Checkpoint Directory exists! \n"
     ]
    },
    {
     "name": "stderr",
     "output_type": "stream",
     "text": [
      "100%|██████████| 16/16 [00:00<00:00, 44.02it/s, loss=0.319]\n",
      "- Train metrics: accuracy: 0.453 ; loss: 0.280\n",
      "- Eval metrics : accuracy: 0.463 ; loss: 0.485\n",
      "Epoch 190/200\n",
      " 38%|███▊      | 6/16 [00:00<00:00, 40.92it/s, loss=0.306]"
     ]
    },
    {
     "name": "stdout",
     "output_type": "stream",
     "text": [
      "Checkpoint Directory exists! \n"
     ]
    },
    {
     "name": "stderr",
     "output_type": "stream",
     "text": [
      "100%|██████████| 16/16 [00:00<00:00, 42.68it/s, loss=0.328]\n",
      "- Train metrics: accuracy: 0.531 ; loss: 0.241\n",
      "- Eval metrics : accuracy: 0.401 ; loss: 0.501\n",
      "Epoch 191/200\n",
      " 44%|████▍     | 7/16 [00:00<00:00, 43.08it/s, loss=0.335]"
     ]
    },
    {
     "name": "stdout",
     "output_type": "stream",
     "text": [
      "Checkpoint Directory exists! \n"
     ]
    },
    {
     "name": "stderr",
     "output_type": "stream",
     "text": [
      "100%|██████████| 16/16 [00:00<00:00, 45.78it/s, loss=0.358]\n",
      "- Train metrics: accuracy: 0.578 ; loss: 0.362\n",
      "- Eval metrics : accuracy: 0.481 ; loss: 0.561\n",
      "Epoch 192/200\n",
      " 44%|████▍     | 7/16 [00:00<00:00, 45.73it/s, loss=0.349]"
     ]
    },
    {
     "name": "stdout",
     "output_type": "stream",
     "text": [
      "Checkpoint Directory exists! \n"
     ]
    },
    {
     "name": "stderr",
     "output_type": "stream",
     "text": [
      "100%|██████████| 16/16 [00:00<00:00, 46.23it/s, loss=0.344]\n",
      "- Train metrics: accuracy: 0.406 ; loss: 0.369\n",
      "- Eval metrics : accuracy: 0.438 ; loss: 0.520\n",
      "Epoch 193/200\n",
      " 44%|████▍     | 7/16 [00:00<00:00, 45.08it/s, loss=0.317]"
     ]
    },
    {
     "name": "stdout",
     "output_type": "stream",
     "text": [
      "Checkpoint Directory exists! \n"
     ]
    },
    {
     "name": "stderr",
     "output_type": "stream",
     "text": [
      "100%|██████████| 16/16 [00:00<00:00, 45.69it/s, loss=0.330]\n",
      "- Train metrics: accuracy: 0.484 ; loss: 0.356\n",
      "- Eval metrics : accuracy: 0.427 ; loss: 0.478\n",
      "Epoch 194/200\n",
      " 44%|████▍     | 7/16 [00:00<00:00, 43.66it/s, loss=0.300]"
     ]
    },
    {
     "name": "stdout",
     "output_type": "stream",
     "text": [
      "Checkpoint Directory exists! \n"
     ]
    },
    {
     "name": "stderr",
     "output_type": "stream",
     "text": [
      "100%|██████████| 16/16 [00:00<00:00, 43.69it/s, loss=0.298]\n",
      "- Train metrics: accuracy: 0.453 ; loss: 0.248\n",
      "- Eval metrics : accuracy: 0.431 ; loss: 0.500\n",
      "Epoch 195/200\n",
      " 38%|███▊      | 6/16 [00:00<00:00, 37.51it/s, loss=0.311]"
     ]
    },
    {
     "name": "stdout",
     "output_type": "stream",
     "text": [
      "Checkpoint Directory exists! \n"
     ]
    },
    {
     "name": "stderr",
     "output_type": "stream",
     "text": [
      "100%|██████████| 16/16 [00:00<00:00, 42.71it/s, loss=0.325]\n",
      "- Train metrics: accuracy: 0.531 ; loss: 0.163\n",
      "- Eval metrics : accuracy: 0.495 ; loss: 0.459\n",
      "Epoch 196/200\n",
      " 44%|████▍     | 7/16 [00:00<00:00, 43.60it/s, loss=0.354]"
     ]
    },
    {
     "name": "stdout",
     "output_type": "stream",
     "text": [
      "Checkpoint Directory exists! \n"
     ]
    },
    {
     "name": "stderr",
     "output_type": "stream",
     "text": [
      "100%|██████████| 16/16 [00:00<00:00, 44.82it/s, loss=0.367]\n",
      "- Train metrics: accuracy: 0.438 ; loss: 0.266\n",
      "- Eval metrics : accuracy: 0.457 ; loss: 0.531\n",
      "Epoch 197/200\n",
      " 38%|███▊      | 6/16 [00:00<00:00, 41.62it/s, loss=0.351]"
     ]
    },
    {
     "name": "stdout",
     "output_type": "stream",
     "text": [
      "Checkpoint Directory exists! \n"
     ]
    },
    {
     "name": "stderr",
     "output_type": "stream",
     "text": [
      "100%|██████████| 16/16 [00:00<00:00, 42.80it/s, loss=0.362]\n",
      "- Train metrics: accuracy: 0.453 ; loss: 0.204\n",
      "- Eval metrics : accuracy: 0.425 ; loss: 0.492\n",
      "Epoch 198/200\n",
      " 38%|███▊      | 6/16 [00:00<00:00, 42.98it/s, loss=0.395]"
     ]
    },
    {
     "name": "stdout",
     "output_type": "stream",
     "text": [
      "Checkpoint Directory exists! \n"
     ]
    },
    {
     "name": "stderr",
     "output_type": "stream",
     "text": [
      "100%|██████████| 16/16 [00:00<00:00, 44.20it/s, loss=0.392]\n",
      "- Train metrics: accuracy: 0.562 ; loss: 0.352\n",
      "- Eval metrics : accuracy: 0.490 ; loss: 0.609\n",
      "Epoch 199/200\n",
      " 38%|███▊      | 6/16 [00:00<00:00, 41.36it/s, loss=0.473]"
     ]
    },
    {
     "name": "stdout",
     "output_type": "stream",
     "text": [
      "Checkpoint Directory exists! \n"
     ]
    },
    {
     "name": "stderr",
     "output_type": "stream",
     "text": [
      "100%|██████████| 16/16 [00:00<00:00, 42.44it/s, loss=0.431]\n",
      "- Train metrics: accuracy: 0.469 ; loss: 0.808\n",
      "- Eval metrics : accuracy: 0.439 ; loss: 0.488\n",
      "Epoch 200/200\n",
      " 25%|██▌       | 4/16 [00:00<00:00, 32.73it/s, loss=0.340]"
     ]
    },
    {
     "name": "stdout",
     "output_type": "stream",
     "text": [
      "Checkpoint Directory exists! \n"
     ]
    },
    {
     "name": "stderr",
     "output_type": "stream",
     "text": [
      "100%|██████████| 16/16 [00:00<00:00, 36.67it/s, loss=0.348]\n",
      "- Train metrics: accuracy: 0.453 ; loss: 0.341\n",
      "- Eval metrics : accuracy: 0.459 ; loss: 0.508\n"
     ]
    },
    {
     "name": "stdout",
     "output_type": "stream",
     "text": [
      "Checkpoint Directory exists! \n"
     ]
    }
   ],
   "source": [
    "train(model)"
   ]
  },
  {
   "cell_type": "code",
   "execution_count": 18,
   "metadata": {},
   "outputs": [],
   "source": [
    "#model.load_state_dict(torch.load('results/training/testing.pt'))\n",
    "utils.load_checkpoint('../project/experiments/base_model/best.pth.tar', model);\n",
    "#utils.load_checkpoint('../project/experiments/base_model/last.pth.tar', model);"
   ]
  },
  {
   "cell_type": "code",
   "execution_count": 19,
   "metadata": {},
   "outputs": [
    {
     "data": {
      "image/png": "[encoded data removed]",
      "text/plain": [
       "<Figure size 864x720 with 4 Axes>"
      ]
     },
     "metadata": {
      "needs_background": "light"
     },
     "output_type": "display_data"
    }
   ],
   "source": [
    "fig, axes = plt.subplots(2, 2, figsize = (12,10))\n",
    "\n",
    "# sampling from the moons and applying our transformation \n",
    "noisy_moons = datasets.make_moons(n_samples=1000, noise=.05)[0].astype(np.float32)\n",
    "z = model.f(torch.from_numpy(noisy_moons))[0].detach().numpy()\n",
    "plt.subplot(221)\n",
    "plt.scatter(z[:, 0], z[:, 1])\n",
    "plt.title(r'$z = f(X)$')\n",
    "\n",
    "# sampling from a gaussian \n",
    "z = np.random.multivariate_normal(np.zeros(2), np.eye(2), 1000)\n",
    "plt.subplot(222)\n",
    "plt.scatter(z[:, 0], z[:, 1])\n",
    "plt.title(r'$z \\sim p(z)$')\n",
    "\n",
    "# sampling straight from the crescent moon distribution \n",
    "plt.subplot(223)\n",
    "x = datasets.make_moons(n_samples=1000, noise=.05)[0].astype(np.float32)\n",
    "plt.scatter(x[:, 0], x[:, 1], c='r')\n",
    "plt.title(r'$X \\sim p(X)$')\n",
    "\n",
    "# sampling from our latent space and applying inverse transformation \n",
    "plt.subplot(224)\n",
    "x = model.sample(1000).detach().numpy()\n",
    "plt.scatter(x[:, 0, 0], x[:, 0, 1], c='r')\n",
    "plt.title(r'$X = g(z)$');"
   ]
  },
  {
   "cell_type": "code",
   "execution_count": null,
   "metadata": {},
   "outputs": [],
   "source": []
  }
 ],
 "metadata": {
  "@webio": {
   "lastCommId": null,
   "lastKernelId": null
  },
  "kernelspec": {
   "display_name": "Python 3",
   "language": "python",
   "name": "python3"
  },
  "language_info": {
   "codemirror_mode": {
    "name": "ipython",
    "version": 3
   },
   "file_extension": ".py",
   "mimetype": "text/x-python",
   "name": "python",
   "nbconvert_exporter": "python",
   "pygments_lexer": "ipython3",
   "version": "3.7.4"
  }
 },
 "nbformat": 4,
 "nbformat_minor": 2
}
