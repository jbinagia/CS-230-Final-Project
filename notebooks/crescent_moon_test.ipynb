{
 "cells": [
  {
   "cell_type": "markdown",
   "metadata": {},
   "source": [
    "Import required libraries: "
   ]
  },
  {
   "cell_type": "code",
   "execution_count": 1,
   "metadata": {},
   "outputs": [],
   "source": [
    "import os\n",
    "import sys\n",
    "sys.path.insert(0, os.path.join(os.getcwd(), \"..\"))\n",
    "\n",
    "import numpy as np\n",
    "import matplotlib.pyplot as plt \n",
    "\n",
    "from pylab import rcParams\n",
    "rcParams['figure.figsize'] = 20, 16\n",
    "rcParams['figure.dpi'] = 300\n",
    "\n",
    "import torch\n",
    "from torch import nn\n",
    "from torch import distributions\n",
    "from torch.nn.parameter import Parameter\n",
    "\n",
    "from sklearn import cluster, datasets, mixture\n",
    "from sklearn.preprocessing import StandardScaler\n",
    "\n",
    "%load_ext autoreload\n",
    "%autoreload 2"
   ]
  },
  {
   "cell_type": "markdown",
   "metadata": {},
   "source": [
    "Import our own libraries: "
   ]
  },
  {
   "cell_type": "code",
   "execution_count": 2,
   "metadata": {},
   "outputs": [],
   "source": [
    "from project.training.train import train as train\n",
    "import project.utils as utils\n",
    "import project.networks.net as net"
   ]
  },
  {
   "cell_type": "markdown",
   "metadata": {},
   "source": [
    "Define our architecture:"
   ]
  },
  {
   "cell_type": "code",
   "execution_count": 3,
   "metadata": {},
   "outputs": [],
   "source": [
    "nets = lambda: nn.Sequential(nn.Linear(2, 256), nn.LeakyReLU(), nn.Linear(256, 256), nn.LeakyReLU(), nn.Linear(256, 2), nn.Tanh()) # net s\n",
    "nett = lambda: nn.Sequential(nn.Linear(2, 256), nn.LeakyReLU(), nn.Linear(256, 256), nn.LeakyReLU(), nn.Linear(256, 2)) # net t\n",
    "masks = torch.from_numpy(np.array([[0, 1], [1, 0]] * 3).astype(np.float32)) # 6x2 matrix. len(masks) = 6 = num subblocks.\n",
    "prior = distributions.MultivariateNormal(torch.zeros(2), torch.eye(2))      # so we have a total of 3 neural blocks (see fig. 1 of boltzmann generators paper)\n",
    "model = net.RealNVP(nets, nett, masks, prior)"
   ]
  },
  {
   "cell_type": "markdown",
   "metadata": {},
   "source": [
    "Either train the model or load the pre-trained version:"
   ]
  },
  {
   "cell_type": "code",
   "execution_count": null,
   "metadata": {},
   "outputs": [
    {
     "name": "stderr",
     "output_type": "stream",
     "text": [
      "Loading the datasets...\n",
      "- done.\n",
      "Starting training for 200 epoch(s)\n",
      "Epoch 1/200\n",
      "100%|██████████| 32/32 [00:00<00:00, 56.06it/s, loss=0.522]\n",
      "- Train metrics: accuracy: 0.625 ; loss: 0.406\n",
      "- Eval metrics : accuracy: 0.477 ; loss: 0.347\n",
      "- Found new best accuracy\n",
      "Epoch 2/200\n",
      " 25%|██▌       | 8/32 [00:00<00:00, 54.21it/s, loss=0.488]"
     ]
    },
    {
     "name": "stdout",
     "output_type": "stream",
     "text": [
      "Checkpoint Directory exists! \n"
     ]
    },
    {
     "name": "stderr",
     "output_type": "stream",
     "text": [
      "100%|██████████| 32/32 [00:00<00:00, 57.47it/s, loss=0.434]\n",
      "- Train metrics: accuracy: 0.500 ; loss: 0.520\n",
      "- Eval metrics : accuracy: 0.562 ; loss: 0.329\n",
      "- Found new best accuracy\n",
      "Epoch 3/200\n",
      " 28%|██▊       | 9/32 [00:00<00:00, 57.88it/s, loss=0.337]"
     ]
    },
    {
     "name": "stdout",
     "output_type": "stream",
     "text": [
      "Checkpoint Directory exists! \n"
     ]
    },
    {
     "name": "stderr",
     "output_type": "stream",
     "text": [
      "100%|██████████| 32/32 [00:00<00:00, 61.05it/s, loss=0.376]\n",
      "- Train metrics: accuracy: 0.594 ; loss: 0.263\n",
      "- Eval metrics : accuracy: 0.508 ; loss: 0.808\n",
      "Epoch 4/200\n",
      " 28%|██▊       | 9/32 [00:00<00:00, 55.98it/s, loss=0.410]"
     ]
    },
    {
     "name": "stdout",
     "output_type": "stream",
     "text": [
      "Checkpoint Directory exists! \n"
     ]
    },
    {
     "name": "stderr",
     "output_type": "stream",
     "text": [
      "100%|██████████| 32/32 [00:00<00:00, 59.52it/s, loss=0.442]\n",
      "- Train metrics: accuracy: 0.594 ; loss: 0.693\n",
      "- Eval metrics : accuracy: 0.562 ; loss: 0.570\n",
      "- Found new best accuracy\n",
      "Epoch 5/200\n",
      " 25%|██▌       | 8/32 [00:00<00:00, 54.08it/s, loss=0.555]"
     ]
    },
    {
     "name": "stdout",
     "output_type": "stream",
     "text": [
      "Checkpoint Directory exists! \n"
     ]
    },
    {
     "name": "stderr",
     "output_type": "stream",
     "text": [
      "100%|██████████| 32/32 [00:00<00:00, 59.09it/s, loss=0.434]\n",
      "- Train metrics: accuracy: 0.531 ; loss: 0.322\n",
      "- Eval metrics : accuracy: 0.508 ; loss: 0.360\n",
      "Epoch 6/200\n",
      " 28%|██▊       | 9/32 [00:00<00:00, 57.49it/s, loss=0.418]"
     ]
    },
    {
     "name": "stdout",
     "output_type": "stream",
     "text": [
      "Checkpoint Directory exists! \n"
     ]
    },
    {
     "name": "stderr",
     "output_type": "stream",
     "text": [
      "100%|██████████| 32/32 [00:00<00:00, 60.75it/s, loss=0.385]\n",
      "- Train metrics: accuracy: 0.625 ; loss: 0.263\n",
      "- Eval metrics : accuracy: 0.445 ; loss: 0.233\n",
      "Epoch 7/200\n",
      " 28%|██▊       | 9/32 [00:00<00:00, 57.05it/s, loss=0.395]"
     ]
    },
    {
     "name": "stdout",
     "output_type": "stream",
     "text": [
      "Checkpoint Directory exists! \n"
     ]
    },
    {
     "name": "stderr",
     "output_type": "stream",
     "text": [
      "100%|██████████| 32/32 [00:00<00:00, 60.50it/s, loss=0.426]\n",
      "- Train metrics: accuracy: 0.531 ; loss: 0.735\n",
      "- Eval metrics : accuracy: 0.555 ; loss: 0.604\n",
      "Epoch 8/200\n",
      " 28%|██▊       | 9/32 [00:00<00:00, 54.55it/s, loss=0.477]"
     ]
    },
    {
     "name": "stdout",
     "output_type": "stream",
     "text": [
      "Checkpoint Directory exists! \n"
     ]
    },
    {
     "name": "stderr",
     "output_type": "stream",
     "text": [
      "100%|██████████| 32/32 [00:00<00:00, 60.56it/s, loss=0.478]\n",
      "- Train metrics: accuracy: 0.594 ; loss: 0.390\n",
      "- Eval metrics : accuracy: 0.375 ; loss: 0.269\n",
      "Epoch 9/200\n",
      " 31%|███▏      | 10/32 [00:00<00:00, 56.03it/s, loss=0.423]"
     ]
    },
    {
     "name": "stdout",
     "output_type": "stream",
     "text": [
      "Checkpoint Directory exists! \n"
     ]
    },
    {
     "name": "stderr",
     "output_type": "stream",
     "text": [
      "100%|██████████| 32/32 [00:00<00:00, 60.56it/s, loss=0.391]\n",
      "- Train metrics: accuracy: 0.469 ; loss: 0.415\n",
      "- Eval metrics : accuracy: 0.555 ; loss: 0.432\n",
      "Epoch 10/200\n",
      " 31%|███▏      | 10/32 [00:00<00:00, 56.08it/s, loss=0.414]"
     ]
    },
    {
     "name": "stdout",
     "output_type": "stream",
     "text": [
      "Checkpoint Directory exists! \n"
     ]
    },
    {
     "name": "stderr",
     "output_type": "stream",
     "text": [
      "100%|██████████| 32/32 [00:00<00:00, 60.29it/s, loss=0.384]\n",
      "- Train metrics: accuracy: 0.469 ; loss: 0.543\n",
      "- Eval metrics : accuracy: 0.562 ; loss: 0.284\n",
      "- Found new best accuracy\n",
      "Epoch 11/200\n",
      " 25%|██▌       | 8/32 [00:00<00:00, 55.24it/s, loss=0.340]"
     ]
    },
    {
     "name": "stdout",
     "output_type": "stream",
     "text": [
      "Checkpoint Directory exists! \n"
     ]
    },
    {
     "name": "stderr",
     "output_type": "stream",
     "text": [
      "100%|██████████| 32/32 [00:00<00:00, 58.87it/s, loss=0.376]\n",
      "- Train metrics: accuracy: 0.500 ; loss: 0.373\n",
      "- Eval metrics : accuracy: 0.422 ; loss: 0.423\n",
      "Epoch 12/200\n",
      " 25%|██▌       | 8/32 [00:00<00:00, 53.88it/s, loss=0.331]"
     ]
    },
    {
     "name": "stdout",
     "output_type": "stream",
     "text": [
      "Checkpoint Directory exists! \n"
     ]
    },
    {
     "name": "stderr",
     "output_type": "stream",
     "text": [
      "100%|██████████| 32/32 [00:00<00:00, 56.65it/s, loss=0.401]\n",
      "- Train metrics: accuracy: 0.469 ; loss: 0.443\n",
      "- Eval metrics : accuracy: 0.375 ; loss: 0.387\n",
      "Epoch 13/200\n",
      " 28%|██▊       | 9/32 [00:00<00:00, 56.32it/s, loss=0.398]"
     ]
    },
    {
     "name": "stdout",
     "output_type": "stream",
     "text": [
      "Checkpoint Directory exists! \n"
     ]
    },
    {
     "name": "stderr",
     "output_type": "stream",
     "text": [
      "100%|██████████| 32/32 [00:00<00:00, 60.42it/s, loss=0.403]\n",
      "- Train metrics: accuracy: 0.656 ; loss: 0.291\n",
      "- Eval metrics : accuracy: 0.508 ; loss: 0.400\n",
      "Epoch 14/200\n",
      " 28%|██▊       | 9/32 [00:00<00:00, 57.27it/s, loss=0.369]"
     ]
    },
    {
     "name": "stdout",
     "output_type": "stream",
     "text": [
      "Checkpoint Directory exists! \n"
     ]
    },
    {
     "name": "stderr",
     "output_type": "stream",
     "text": [
      "100%|██████████| 32/32 [00:00<00:00, 60.30it/s, loss=0.374]\n",
      "- Train metrics: accuracy: 0.406 ; loss: 0.358\n",
      "- Eval metrics : accuracy: 0.500 ; loss: 0.352\n",
      "Epoch 15/200\n",
      " 28%|██▊       | 9/32 [00:00<00:00, 57.41it/s, loss=0.339]"
     ]
    },
    {
     "name": "stdout",
     "output_type": "stream",
     "text": [
      "Checkpoint Directory exists! \n"
     ]
    },
    {
     "name": "stderr",
     "output_type": "stream",
     "text": [
      "100%|██████████| 32/32 [00:00<00:00, 60.30it/s, loss=0.362]\n",
      "- Train metrics: accuracy: 0.531 ; loss: 0.507\n",
      "- Eval metrics : accuracy: 0.430 ; loss: 0.552\n",
      "Epoch 16/200\n",
      " 28%|██▊       | 9/32 [00:00<00:00, 55.86it/s, loss=0.483]"
     ]
    },
    {
     "name": "stdout",
     "output_type": "stream",
     "text": [
      "Checkpoint Directory exists! \n"
     ]
    },
    {
     "name": "stderr",
     "output_type": "stream",
     "text": [
      "100%|██████████| 32/32 [00:00<00:00, 60.51it/s, loss=0.440]\n",
      "- Train metrics: accuracy: 0.625 ; loss: 0.759\n",
      "- Eval metrics : accuracy: 0.500 ; loss: 0.345\n",
      "Epoch 17/200\n",
      " 31%|███▏      | 10/32 [00:00<00:00, 58.30it/s, loss=0.330]"
     ]
    },
    {
     "name": "stdout",
     "output_type": "stream",
     "text": [
      "Checkpoint Directory exists! \n"
     ]
    },
    {
     "name": "stderr",
     "output_type": "stream",
     "text": [
      "100%|██████████| 32/32 [00:00<00:00, 59.65it/s, loss=0.361]\n",
      "- Train metrics: accuracy: 0.469 ; loss: 0.299\n",
      "- Eval metrics : accuracy: 0.477 ; loss: 0.374\n",
      "Epoch 18/200\n",
      " 31%|███▏      | 10/32 [00:00<00:00, 59.89it/s, loss=0.365]"
     ]
    },
    {
     "name": "stdout",
     "output_type": "stream",
     "text": [
      "Checkpoint Directory exists! \n"
     ]
    },
    {
     "name": "stderr",
     "output_type": "stream",
     "text": [
      "100%|██████████| 32/32 [00:00<00:00, 61.15it/s, loss=0.403]\n",
      "- Train metrics: accuracy: 0.531 ; loss: 0.405\n",
      "- Eval metrics : accuracy: 0.523 ; loss: 0.463\n",
      "Epoch 19/200\n",
      " 28%|██▊       | 9/32 [00:00<00:00, 58.84it/s, loss=0.325]"
     ]
    },
    {
     "name": "stdout",
     "output_type": "stream",
     "text": [
      "Checkpoint Directory exists! \n"
     ]
    },
    {
     "name": "stderr",
     "output_type": "stream",
     "text": [
      "100%|██████████| 32/32 [00:00<00:00, 59.80it/s, loss=0.354]\n",
      "- Train metrics: accuracy: 0.500 ; loss: 0.350\n",
      "- Eval metrics : accuracy: 0.531 ; loss: 0.588\n",
      "Epoch 20/200\n",
      " 31%|███▏      | 10/32 [00:00<00:00, 57.76it/s, loss=0.363]"
     ]
    },
    {
     "name": "stdout",
     "output_type": "stream",
     "text": [
      "Checkpoint Directory exists! \n"
     ]
    },
    {
     "name": "stderr",
     "output_type": "stream",
     "text": [
      "100%|██████████| 32/32 [00:00<00:00, 59.97it/s, loss=0.369]\n",
      "- Train metrics: accuracy: 0.594 ; loss: 0.490\n",
      "- Eval metrics : accuracy: 0.391 ; loss: 0.372\n",
      "Epoch 21/200\n",
      " 31%|███▏      | 10/32 [00:00<00:00, 59.70it/s, loss=0.387]"
     ]
    },
    {
     "name": "stdout",
     "output_type": "stream",
     "text": [
      "Checkpoint Directory exists! \n"
     ]
    },
    {
     "name": "stderr",
     "output_type": "stream",
     "text": [
      "100%|██████████| 32/32 [00:00<00:00, 61.70it/s, loss=0.367]\n",
      "- Train metrics: accuracy: 0.625 ; loss: 0.304\n",
      "- Eval metrics : accuracy: 0.438 ; loss: 0.385\n",
      "Epoch 22/200\n",
      " 31%|███▏      | 10/32 [00:00<00:00, 57.38it/s, loss=0.352]"
     ]
    },
    {
     "name": "stdout",
     "output_type": "stream",
     "text": [
      "Checkpoint Directory exists! \n"
     ]
    },
    {
     "name": "stderr",
     "output_type": "stream",
     "text": [
      "100%|██████████| 32/32 [00:00<00:00, 60.88it/s, loss=0.342]\n",
      "- Train metrics: accuracy: 0.469 ; loss: 0.343\n",
      "- Eval metrics : accuracy: 0.516 ; loss: 0.317\n",
      "Epoch 23/200\n",
      " 28%|██▊       | 9/32 [00:00<00:00, 57.23it/s, loss=0.427]"
     ]
    },
    {
     "name": "stdout",
     "output_type": "stream",
     "text": [
      "Checkpoint Directory exists! \n"
     ]
    },
    {
     "name": "stderr",
     "output_type": "stream",
     "text": [
      "100%|██████████| 32/32 [00:00<00:00, 58.67it/s, loss=0.390]\n",
      "- Train metrics: accuracy: 0.656 ; loss: 0.341\n",
      "- Eval metrics : accuracy: 0.516 ; loss: 0.531\n",
      "Epoch 24/200\n",
      " 28%|██▊       | 9/32 [00:00<00:00, 56.07it/s, loss=0.356]"
     ]
    },
    {
     "name": "stdout",
     "output_type": "stream",
     "text": [
      "Checkpoint Directory exists! \n"
     ]
    },
    {
     "name": "stderr",
     "output_type": "stream",
     "text": [
      "100%|██████████| 32/32 [00:00<00:00, 58.47it/s, loss=0.370]\n",
      "- Train metrics: accuracy: 0.719 ; loss: 0.317\n",
      "- Eval metrics : accuracy: 0.570 ; loss: 0.245\n",
      "- Found new best accuracy\n",
      "Epoch 25/200\n",
      " 25%|██▌       | 8/32 [00:00<00:00, 53.71it/s, loss=0.367]"
     ]
    },
    {
     "name": "stdout",
     "output_type": "stream",
     "text": [
      "Checkpoint Directory exists! \n"
     ]
    },
    {
     "name": "stderr",
     "output_type": "stream",
     "text": [
      "100%|██████████| 32/32 [00:00<00:00, 57.81it/s, loss=0.370]\n",
      "- Train metrics: accuracy: 0.469 ; loss: 0.546\n",
      "- Eval metrics : accuracy: 0.438 ; loss: 0.317\n",
      "Epoch 26/200\n",
      " 28%|██▊       | 9/32 [00:00<00:00, 56.87it/s, loss=0.366]"
     ]
    },
    {
     "name": "stdout",
     "output_type": "stream",
     "text": [
      "Checkpoint Directory exists! \n"
     ]
    },
    {
     "name": "stderr",
     "output_type": "stream",
     "text": [
      "100%|██████████| 32/32 [00:00<00:00, 58.95it/s, loss=0.357]\n",
      "- Train metrics: accuracy: 0.562 ; loss: 0.206\n",
      "- Eval metrics : accuracy: 0.391 ; loss: 0.467\n",
      "Epoch 27/200\n",
      " 25%|██▌       | 8/32 [00:00<00:00, 48.54it/s, loss=0.353]"
     ]
    },
    {
     "name": "stdout",
     "output_type": "stream",
     "text": [
      "Checkpoint Directory exists! \n"
     ]
    },
    {
     "name": "stderr",
     "output_type": "stream",
     "text": [
      "100%|██████████| 32/32 [00:00<00:00, 55.33it/s, loss=0.351]\n",
      "- Train metrics: accuracy: 0.562 ; loss: 0.412\n",
      "- Eval metrics : accuracy: 0.508 ; loss: 0.381\n",
      "Epoch 28/200\n",
      " 28%|██▊       | 9/32 [00:00<00:00, 49.75it/s, loss=0.278]"
     ]
    },
    {
     "name": "stdout",
     "output_type": "stream",
     "text": [
      "Checkpoint Directory exists! \n"
     ]
    },
    {
     "name": "stderr",
     "output_type": "stream",
     "text": [
      "100%|██████████| 32/32 [00:00<00:00, 56.80it/s, loss=0.377]\n",
      "- Train metrics: accuracy: 0.562 ; loss: 0.391\n",
      "- Eval metrics : accuracy: 0.477 ; loss: 0.470\n",
      "Epoch 29/200\n",
      " 28%|██▊       | 9/32 [00:00<00:00, 54.55it/s, loss=0.386]"
     ]
    },
    {
     "name": "stdout",
     "output_type": "stream",
     "text": [
      "Checkpoint Directory exists! \n"
     ]
    },
    {
     "name": "stderr",
     "output_type": "stream",
     "text": [
      "100%|██████████| 32/32 [00:00<00:00, 57.76it/s, loss=0.366]\n",
      "- Train metrics: accuracy: 0.469 ; loss: 0.521\n",
      "- Eval metrics : accuracy: 0.469 ; loss: 0.391\n",
      "Epoch 30/200\n",
      " 28%|██▊       | 9/32 [00:00<00:00, 54.60it/s, loss=0.413]"
     ]
    },
    {
     "name": "stdout",
     "output_type": "stream",
     "text": [
      "Checkpoint Directory exists! \n"
     ]
    },
    {
     "name": "stderr",
     "output_type": "stream",
     "text": [
      "100%|██████████| 32/32 [00:00<00:00, 58.62it/s, loss=0.370]\n",
      "- Train metrics: accuracy: 0.438 ; loss: 0.477\n",
      "- Eval metrics : accuracy: 0.445 ; loss: 0.363\n",
      "Epoch 31/200\n",
      " 28%|██▊       | 9/32 [00:00<00:00, 52.82it/s, loss=0.390]"
     ]
    },
    {
     "name": "stdout",
     "output_type": "stream",
     "text": [
      "Checkpoint Directory exists! \n"
     ]
    },
    {
     "name": "stderr",
     "output_type": "stream",
     "text": [
      "100%|██████████| 32/32 [00:00<00:00, 57.65it/s, loss=0.382]\n",
      "- Train metrics: accuracy: 0.469 ; loss: 0.316\n",
      "- Eval metrics : accuracy: 0.453 ; loss: 0.413\n",
      "Epoch 32/200\n",
      " 28%|██▊       | 9/32 [00:00<00:00, 55.55it/s, loss=0.413]"
     ]
    },
    {
     "name": "stdout",
     "output_type": "stream",
     "text": [
      "Checkpoint Directory exists! \n"
     ]
    },
    {
     "name": "stderr",
     "output_type": "stream",
     "text": [
      "100%|██████████| 32/32 [00:00<00:00, 57.25it/s, loss=0.376]\n",
      "- Train metrics: accuracy: 0.531 ; loss: 0.648\n",
      "- Eval metrics : accuracy: 0.508 ; loss: 0.401\n",
      "Epoch 33/200\n",
      " 25%|██▌       | 8/32 [00:00<00:00, 48.48it/s, loss=0.438]"
     ]
    },
    {
     "name": "stdout",
     "output_type": "stream",
     "text": [
      "Checkpoint Directory exists! \n"
     ]
    },
    {
     "name": "stderr",
     "output_type": "stream",
     "text": [
      "100%|██████████| 32/32 [00:00<00:00, 55.31it/s, loss=0.362]\n",
      "- Train metrics: accuracy: 0.469 ; loss: 0.453\n",
      "- Eval metrics : accuracy: 0.461 ; loss: 0.353\n",
      "Epoch 34/200\n",
      " 28%|██▊       | 9/32 [00:00<00:00, 56.29it/s, loss=0.329]"
     ]
    },
    {
     "name": "stdout",
     "output_type": "stream",
     "text": [
      "Checkpoint Directory exists! \n"
     ]
    },
    {
     "name": "stderr",
     "output_type": "stream",
     "text": [
      "100%|██████████| 32/32 [00:00<00:00, 57.87it/s, loss=0.357]\n",
      "- Train metrics: accuracy: 0.594 ; loss: 0.468\n",
      "- Eval metrics : accuracy: 0.469 ; loss: 0.310\n",
      "Epoch 35/200\n",
      " 25%|██▌       | 8/32 [00:00<00:00, 48.43it/s, loss=0.347]"
     ]
    },
    {
     "name": "stdout",
     "output_type": "stream",
     "text": [
      "Checkpoint Directory exists! \n"
     ]
    },
    {
     "name": "stderr",
     "output_type": "stream",
     "text": [
      "100%|██████████| 32/32 [00:00<00:00, 54.56it/s, loss=0.386]\n",
      "- Train metrics: accuracy: 0.438 ; loss: 0.223\n",
      "- Eval metrics : accuracy: 0.562 ; loss: 0.411\n",
      "Epoch 36/200\n",
      " 28%|██▊       | 9/32 [00:00<00:00, 54.27it/s, loss=0.413]"
     ]
    },
    {
     "name": "stdout",
     "output_type": "stream",
     "text": [
      "Checkpoint Directory exists! \n"
     ]
    },
    {
     "name": "stderr",
     "output_type": "stream",
     "text": [
      "100%|██████████| 32/32 [00:00<00:00, 54.37it/s, loss=0.369]\n",
      "- Train metrics: accuracy: 0.469 ; loss: 0.216\n",
      "- Eval metrics : accuracy: 0.617 ; loss: 0.671\n",
      "- Found new best accuracy\n",
      "Epoch 37/200\n",
      " 25%|██▌       | 8/32 [00:00<00:00, 54.71it/s, loss=0.350]"
     ]
    },
    {
     "name": "stdout",
     "output_type": "stream",
     "text": [
      "Checkpoint Directory exists! \n"
     ]
    },
    {
     "name": "stderr",
     "output_type": "stream",
     "text": [
      "100%|██████████| 32/32 [00:00<00:00, 58.30it/s, loss=0.427]\n",
      "- Train metrics: accuracy: 0.562 ; loss: 0.505\n",
      "- Eval metrics : accuracy: 0.414 ; loss: 0.342\n",
      "Epoch 38/200\n",
      " 28%|██▊       | 9/32 [00:00<00:00, 55.19it/s, loss=0.397]"
     ]
    },
    {
     "name": "stdout",
     "output_type": "stream",
     "text": [
      "Checkpoint Directory exists! \n"
     ]
    },
    {
     "name": "stderr",
     "output_type": "stream",
     "text": [
      "100%|██████████| 32/32 [00:00<00:00, 55.37it/s, loss=0.421]\n",
      "- Train metrics: accuracy: 0.375 ; loss: 0.410\n",
      "- Eval metrics : accuracy: 0.562 ; loss: 0.553\n",
      "Epoch 39/200\n",
      " 25%|██▌       | 8/32 [00:00<00:00, 52.08it/s, loss=0.345]"
     ]
    },
    {
     "name": "stdout",
     "output_type": "stream",
     "text": [
      "Checkpoint Directory exists! \n"
     ]
    },
    {
     "name": "stderr",
     "output_type": "stream",
     "text": [
      "100%|██████████| 32/32 [00:00<00:00, 58.79it/s, loss=0.394]\n",
      "- Train metrics: accuracy: 0.594 ; loss: 0.125\n",
      "- Eval metrics : accuracy: 0.531 ; loss: 0.371\n",
      "Epoch 40/200\n",
      " 31%|███▏      | 10/32 [00:00<00:00, 59.96it/s, loss=0.372]"
     ]
    },
    {
     "name": "stdout",
     "output_type": "stream",
     "text": [
      "Checkpoint Directory exists! \n"
     ]
    },
    {
     "name": "stderr",
     "output_type": "stream",
     "text": [
      "100%|██████████| 32/32 [00:00<00:00, 59.88it/s, loss=0.362]\n",
      "- Train metrics: accuracy: 0.562 ; loss: 0.430\n",
      "- Eval metrics : accuracy: 0.531 ; loss: 0.377\n",
      "Epoch 41/200\n",
      " 28%|██▊       | 9/32 [00:00<00:00, 57.08it/s, loss=0.346]"
     ]
    },
    {
     "name": "stdout",
     "output_type": "stream",
     "text": [
      "Checkpoint Directory exists! \n"
     ]
    },
    {
     "name": "stderr",
     "output_type": "stream",
     "text": [
      "100%|██████████| 32/32 [00:00<00:00, 60.17it/s, loss=0.383]\n",
      "- Train metrics: accuracy: 0.500 ; loss: 0.331\n",
      "- Eval metrics : accuracy: 0.609 ; loss: 0.422\n",
      "Epoch 42/200\n",
      " 28%|██▊       | 9/32 [00:00<00:00, 53.53it/s, loss=0.323]"
     ]
    },
    {
     "name": "stdout",
     "output_type": "stream",
     "text": [
      "Checkpoint Directory exists! \n"
     ]
    },
    {
     "name": "stderr",
     "output_type": "stream",
     "text": [
      "100%|██████████| 32/32 [00:00<00:00, 60.25it/s, loss=0.350]\n",
      "- Train metrics: accuracy: 0.312 ; loss: 0.271\n",
      "- Eval metrics : accuracy: 0.523 ; loss: 0.456\n",
      "Epoch 43/200\n",
      " 28%|██▊       | 9/32 [00:00<00:00, 57.79it/s, loss=0.429]"
     ]
    },
    {
     "name": "stdout",
     "output_type": "stream",
     "text": [
      "Checkpoint Directory exists! \n"
     ]
    },
    {
     "name": "stderr",
     "output_type": "stream",
     "text": [
      "100%|██████████| 32/32 [00:00<00:00, 59.89it/s, loss=0.384]\n",
      "- Train metrics: accuracy: 0.500 ; loss: 0.622\n",
      "- Eval metrics : accuracy: 0.531 ; loss: 0.427\n",
      "Epoch 44/200\n",
      " 31%|███▏      | 10/32 [00:00<00:00, 59.38it/s, loss=0.369]"
     ]
    },
    {
     "name": "stdout",
     "output_type": "stream",
     "text": [
      "Checkpoint Directory exists! \n"
     ]
    },
    {
     "name": "stderr",
     "output_type": "stream",
     "text": [
      "100%|██████████| 32/32 [00:00<00:00, 60.14it/s, loss=0.352]\n",
      "- Train metrics: accuracy: 0.562 ; loss: 0.295\n",
      "- Eval metrics : accuracy: 0.484 ; loss: 0.660\n",
      "Epoch 45/200\n",
      " 31%|███▏      | 10/32 [00:00<00:00, 58.99it/s, loss=0.419]"
     ]
    },
    {
     "name": "stdout",
     "output_type": "stream",
     "text": [
      "Checkpoint Directory exists! \n"
     ]
    },
    {
     "name": "stderr",
     "output_type": "stream",
     "text": [
      "100%|██████████| 32/32 [00:00<00:00, 59.73it/s, loss=0.382]\n",
      "- Train metrics: accuracy: 0.406 ; loss: 0.491\n",
      "- Eval metrics : accuracy: 0.523 ; loss: 0.357\n",
      "Epoch 46/200\n",
      " 28%|██▊       | 9/32 [00:00<00:00, 54.34it/s, loss=0.377]"
     ]
    },
    {
     "name": "stdout",
     "output_type": "stream",
     "text": [
      "Checkpoint Directory exists! \n"
     ]
    },
    {
     "name": "stderr",
     "output_type": "stream",
     "text": [
      "100%|██████████| 32/32 [00:00<00:00, 58.96it/s, loss=0.365]\n",
      "- Train metrics: accuracy: 0.562 ; loss: 0.484\n",
      "- Eval metrics : accuracy: 0.547 ; loss: 0.301\n",
      "Epoch 47/200\n",
      " 31%|███▏      | 10/32 [00:00<00:00, 57.99it/s, loss=0.422]"
     ]
    },
    {
     "name": "stdout",
     "output_type": "stream",
     "text": [
      "Checkpoint Directory exists! \n"
     ]
    },
    {
     "name": "stderr",
     "output_type": "stream",
     "text": [
      "100%|██████████| 32/32 [00:00<00:00, 59.98it/s, loss=0.398]\n",
      "- Train metrics: accuracy: 0.469 ; loss: 0.504\n",
      "- Eval metrics : accuracy: 0.555 ; loss: 0.662\n",
      "Epoch 48/200\n",
      " 28%|██▊       | 9/32 [00:00<00:00, 53.16it/s, loss=0.349]"
     ]
    },
    {
     "name": "stdout",
     "output_type": "stream",
     "text": [
      "Checkpoint Directory exists! \n"
     ]
    },
    {
     "name": "stderr",
     "output_type": "stream",
     "text": [
      "100%|██████████| 32/32 [00:00<00:00, 57.60it/s, loss=0.393]\n",
      "- Train metrics: accuracy: 0.594 ; loss: 0.428\n",
      "- Eval metrics : accuracy: 0.562 ; loss: 0.440\n",
      "Epoch 49/200\n",
      " 28%|██▊       | 9/32 [00:00<00:00, 55.03it/s, loss=0.307]"
     ]
    },
    {
     "name": "stdout",
     "output_type": "stream",
     "text": [
      "Checkpoint Directory exists! \n"
     ]
    },
    {
     "name": "stderr",
     "output_type": "stream",
     "text": [
      "100%|██████████| 32/32 [00:00<00:00, 57.82it/s, loss=0.316]\n",
      "- Train metrics: accuracy: 0.469 ; loss: 0.229\n",
      "- Eval metrics : accuracy: 0.570 ; loss: 0.467\n",
      "Epoch 50/200\n",
      " 28%|██▊       | 9/32 [00:00<00:00, 55.77it/s, loss=0.457]"
     ]
    },
    {
     "name": "stdout",
     "output_type": "stream",
     "text": [
      "Checkpoint Directory exists! \n"
     ]
    },
    {
     "name": "stderr",
     "output_type": "stream",
     "text": [
      "100%|██████████| 32/32 [00:00<00:00, 57.42it/s, loss=0.382]\n",
      "- Train metrics: accuracy: 0.344 ; loss: 0.639\n",
      "- Eval metrics : accuracy: 0.500 ; loss: 0.395\n",
      "Epoch 51/200\n",
      " 28%|██▊       | 9/32 [00:00<00:00, 56.32it/s, loss=0.363]"
     ]
    },
    {
     "name": "stdout",
     "output_type": "stream",
     "text": [
      "Checkpoint Directory exists! \n"
     ]
    },
    {
     "name": "stderr",
     "output_type": "stream",
     "text": [
      "100%|██████████| 32/32 [00:00<00:00, 54.30it/s, loss=0.350]\n",
      "- Train metrics: accuracy: 0.469 ; loss: 0.395\n",
      "- Eval metrics : accuracy: 0.562 ; loss: 0.287\n",
      "Epoch 52/200\n",
      " 28%|██▊       | 9/32 [00:00<00:00, 57.95it/s, loss=0.385]"
     ]
    },
    {
     "name": "stdout",
     "output_type": "stream",
     "text": [
      "Checkpoint Directory exists! \n"
     ]
    },
    {
     "name": "stderr",
     "output_type": "stream",
     "text": [
      "100%|██████████| 32/32 [00:00<00:00, 54.05it/s, loss=0.369]\n",
      "- Train metrics: accuracy: 0.500 ; loss: 0.066\n",
      "- Eval metrics : accuracy: 0.555 ; loss: 0.409\n",
      "Epoch 53/200\n",
      " 28%|██▊       | 9/32 [00:00<00:00, 55.34it/s, loss=0.362]"
     ]
    },
    {
     "name": "stdout",
     "output_type": "stream",
     "text": [
      "Checkpoint Directory exists! \n"
     ]
    },
    {
     "name": "stderr",
     "output_type": "stream",
     "text": [
      "100%|██████████| 32/32 [00:00<00:00, 59.01it/s, loss=0.350]\n",
      "- Train metrics: accuracy: 0.500 ; loss: 0.398\n",
      "- Eval metrics : accuracy: 0.438 ; loss: 0.393\n",
      "Epoch 54/200\n",
      " 28%|██▊       | 9/32 [00:00<00:00, 58.25it/s, loss=0.357]"
     ]
    },
    {
     "name": "stdout",
     "output_type": "stream",
     "text": [
      "Checkpoint Directory exists! \n"
     ]
    },
    {
     "name": "stderr",
     "output_type": "stream",
     "text": [
      "100%|██████████| 32/32 [00:00<00:00, 60.49it/s, loss=0.349]\n",
      "- Train metrics: accuracy: 0.438 ; loss: 0.212\n",
      "- Eval metrics : accuracy: 0.555 ; loss: 0.479\n",
      "Epoch 55/200\n",
      " 31%|███▏      | 10/32 [00:00<00:00, 60.91it/s, loss=0.352]"
     ]
    },
    {
     "name": "stdout",
     "output_type": "stream",
     "text": [
      "Checkpoint Directory exists! \n"
     ]
    },
    {
     "name": "stderr",
     "output_type": "stream",
     "text": [
      "100%|██████████| 32/32 [00:00<00:00, 63.67it/s, loss=0.341]\n",
      "- Train metrics: accuracy: 0.500 ; loss: 0.362\n",
      "- Eval metrics : accuracy: 0.578 ; loss: 0.287\n",
      "Epoch 56/200\n",
      " 31%|███▏      | 10/32 [00:00<00:00, 60.68it/s, loss=0.358]"
     ]
    },
    {
     "name": "stdout",
     "output_type": "stream",
     "text": [
      "Checkpoint Directory exists! \n"
     ]
    },
    {
     "name": "stderr",
     "output_type": "stream",
     "text": [
      "100%|██████████| 32/32 [00:00<00:00, 63.90it/s, loss=0.364]\n",
      "- Train metrics: accuracy: 0.406 ; loss: 0.614\n",
      "- Eval metrics : accuracy: 0.523 ; loss: 0.385\n",
      "Epoch 57/200\n",
      " 34%|███▍      | 11/32 [00:00<00:00, 61.77it/s, loss=0.341]"
     ]
    },
    {
     "name": "stdout",
     "output_type": "stream",
     "text": [
      "Checkpoint Directory exists! \n"
     ]
    },
    {
     "name": "stderr",
     "output_type": "stream",
     "text": [
      "100%|██████████| 32/32 [00:00<00:00, 64.20it/s, loss=0.325]\n",
      "- Train metrics: accuracy: 0.562 ; loss: 0.414\n",
      "- Eval metrics : accuracy: 0.469 ; loss: 0.389\n",
      "Epoch 58/200\n",
      " 31%|███▏      | 10/32 [00:00<00:00, 59.94it/s, loss=0.338]"
     ]
    },
    {
     "name": "stdout",
     "output_type": "stream",
     "text": [
      "Checkpoint Directory exists! \n"
     ]
    },
    {
     "name": "stderr",
     "output_type": "stream",
     "text": [
      "100%|██████████| 32/32 [00:00<00:00, 64.27it/s, loss=0.347]\n",
      "- Train metrics: accuracy: 0.562 ; loss: 0.406\n",
      "- Eval metrics : accuracy: 0.453 ; loss: 0.284\n",
      "Epoch 59/200\n",
      " 34%|███▍      | 11/32 [00:00<00:00, 62.30it/s, loss=0.364]"
     ]
    },
    {
     "name": "stdout",
     "output_type": "stream",
     "text": [
      "Checkpoint Directory exists! \n"
     ]
    },
    {
     "name": "stderr",
     "output_type": "stream",
     "text": [
      "100%|██████████| 32/32 [00:00<00:00, 64.73it/s, loss=0.393]\n",
      "- Train metrics: accuracy: 0.312 ; loss: 0.536\n",
      "- Eval metrics : accuracy: 0.445 ; loss: 0.389\n",
      "Epoch 60/200\n",
      " 31%|███▏      | 10/32 [00:00<00:00, 63.11it/s, loss=0.352]"
     ]
    },
    {
     "name": "stdout",
     "output_type": "stream",
     "text": [
      "Checkpoint Directory exists! \n"
     ]
    },
    {
     "name": "stderr",
     "output_type": "stream",
     "text": [
      "100%|██████████| 32/32 [00:00<00:00, 64.11it/s, loss=0.371]\n",
      "- Train metrics: accuracy: 0.375 ; loss: 0.400\n",
      "- Eval metrics : accuracy: 0.578 ; loss: 0.385\n",
      "Epoch 61/200\n",
      " 34%|███▍      | 11/32 [00:00<00:00, 62.34it/s, loss=0.372]"
     ]
    },
    {
     "name": "stdout",
     "output_type": "stream",
     "text": [
      "Checkpoint Directory exists! \n"
     ]
    },
    {
     "name": "stderr",
     "output_type": "stream",
     "text": [
      "100%|██████████| 32/32 [00:00<00:00, 65.08it/s, loss=0.317]\n",
      "- Train metrics: accuracy: 0.625 ; loss: 0.359\n",
      "- Eval metrics : accuracy: 0.484 ; loss: 0.299\n",
      "Epoch 62/200\n",
      " 34%|███▍      | 11/32 [00:00<00:00, 62.97it/s, loss=0.375]"
     ]
    },
    {
     "name": "stdout",
     "output_type": "stream",
     "text": [
      "Checkpoint Directory exists! \n"
     ]
    },
    {
     "name": "stderr",
     "output_type": "stream",
     "text": [
      "100%|██████████| 32/32 [00:00<00:00, 64.92it/s, loss=0.349]\n",
      "- Train metrics: accuracy: 0.438 ; loss: 0.388\n",
      "- Eval metrics : accuracy: 0.508 ; loss: 0.316\n",
      "Epoch 63/200\n",
      " 34%|███▍      | 11/32 [00:00<00:00, 63.08it/s, loss=0.340]"
     ]
    },
    {
     "name": "stdout",
     "output_type": "stream",
     "text": [
      "Checkpoint Directory exists! \n"
     ]
    },
    {
     "name": "stderr",
     "output_type": "stream",
     "text": [
      "100%|██████████| 32/32 [00:00<00:00, 63.34it/s, loss=0.362]\n",
      "- Train metrics: accuracy: 0.469 ; loss: 0.155\n",
      "- Eval metrics : accuracy: 0.461 ; loss: 0.442\n",
      "Epoch 64/200\n",
      " 31%|███▏      | 10/32 [00:00<00:00, 60.95it/s, loss=0.354]"
     ]
    },
    {
     "name": "stdout",
     "output_type": "stream",
     "text": [
      "Checkpoint Directory exists! \n"
     ]
    },
    {
     "name": "stderr",
     "output_type": "stream",
     "text": [
      "100%|██████████| 32/32 [00:00<00:00, 63.36it/s, loss=0.337]\n",
      "- Train metrics: accuracy: 0.500 ; loss: 0.534\n",
      "- Eval metrics : accuracy: 0.508 ; loss: 0.255\n",
      "Epoch 65/200\n",
      " 31%|███▏      | 10/32 [00:00<00:00, 62.71it/s, loss=0.335]"
     ]
    },
    {
     "name": "stdout",
     "output_type": "stream",
     "text": [
      "Checkpoint Directory exists! \n"
     ]
    },
    {
     "name": "stderr",
     "output_type": "stream",
     "text": [
      "100%|██████████| 32/32 [00:00<00:00, 63.08it/s, loss=0.313]\n",
      "- Train metrics: accuracy: 0.312 ; loss: 0.235\n",
      "- Eval metrics : accuracy: 0.555 ; loss: 0.583\n",
      "Epoch 66/200\n",
      " 31%|███▏      | 10/32 [00:00<00:00, 60.53it/s, loss=0.353]"
     ]
    },
    {
     "name": "stdout",
     "output_type": "stream",
     "text": [
      "Checkpoint Directory exists! \n"
     ]
    },
    {
     "name": "stderr",
     "output_type": "stream",
     "text": [
      "100%|██████████| 32/32 [00:00<00:00, 62.68it/s, loss=0.368]\n",
      "- Train metrics: accuracy: 0.312 ; loss: 0.184\n",
      "- Eval metrics : accuracy: 0.539 ; loss: 0.398\n",
      "Epoch 67/200\n",
      " 31%|███▏      | 10/32 [00:00<00:00, 60.51it/s, loss=0.340]"
     ]
    },
    {
     "name": "stdout",
     "output_type": "stream",
     "text": [
      "Checkpoint Directory exists! \n"
     ]
    },
    {
     "name": "stderr",
     "output_type": "stream",
     "text": [
      "100%|██████████| 32/32 [00:00<00:00, 62.54it/s, loss=0.349]\n",
      "- Train metrics: accuracy: 0.594 ; loss: 0.355\n",
      "- Eval metrics : accuracy: 0.383 ; loss: 0.347\n",
      "Epoch 68/200\n",
      " 31%|███▏      | 10/32 [00:00<00:00, 60.81it/s, loss=0.337]"
     ]
    },
    {
     "name": "stdout",
     "output_type": "stream",
     "text": [
      "Checkpoint Directory exists! \n"
     ]
    },
    {
     "name": "stderr",
     "output_type": "stream",
     "text": [
      "100%|██████████| 32/32 [00:00<00:00, 62.07it/s, loss=0.329]\n",
      "- Train metrics: accuracy: 0.375 ; loss: 0.288\n",
      "- Eval metrics : accuracy: 0.492 ; loss: 0.260\n",
      "Epoch 69/200\n",
      " 31%|███▏      | 10/32 [00:00<00:00, 59.07it/s, loss=0.330]"
     ]
    },
    {
     "name": "stdout",
     "output_type": "stream",
     "text": [
      "Checkpoint Directory exists! \n"
     ]
    },
    {
     "name": "stderr",
     "output_type": "stream",
     "text": [
      "100%|██████████| 32/32 [00:00<00:00, 62.30it/s, loss=0.336]\n",
      "- Train metrics: accuracy: 0.438 ; loss: 0.295\n",
      "- Eval metrics : accuracy: 0.562 ; loss: 0.414\n",
      "Epoch 70/200\n",
      " 31%|███▏      | 10/32 [00:00<00:00, 59.95it/s, loss=0.388]"
     ]
    },
    {
     "name": "stdout",
     "output_type": "stream",
     "text": [
      "Checkpoint Directory exists! \n"
     ]
    },
    {
     "name": "stderr",
     "output_type": "stream",
     "text": [
      "100%|██████████| 32/32 [00:00<00:00, 62.65it/s, loss=0.351]\n",
      "- Train metrics: accuracy: 0.531 ; loss: 0.776\n",
      "- Eval metrics : accuracy: 0.500 ; loss: 0.367\n",
      "Epoch 71/200\n",
      " 31%|███▏      | 10/32 [00:00<00:00, 61.41it/s, loss=0.340]"
     ]
    },
    {
     "name": "stdout",
     "output_type": "stream",
     "text": [
      "Checkpoint Directory exists! \n"
     ]
    },
    {
     "name": "stderr",
     "output_type": "stream",
     "text": [
      "100%|██████████| 32/32 [00:00<00:00, 62.36it/s, loss=0.320]\n",
      "- Train metrics: accuracy: 0.531 ; loss: 0.417\n",
      "- Eval metrics : accuracy: 0.430 ; loss: 0.511\n",
      "Epoch 72/200\n",
      " 22%|██▏       | 7/32 [00:00<00:00, 61.67it/s, loss=0.295]"
     ]
    }
   ],
   "source": [
    "train(model)"
   ]
  },
  {
   "cell_type": "code",
   "execution_count": 12,
   "metadata": {},
   "outputs": [],
   "source": [
    "#model.load_state_dict(torch.load('results/training/testing.pt'))\n",
    "utils.load_checkpoint('../project/experiments/base_model/best.pth.tar', model);\n",
    "#utils.load_checkpoint('../project/experiments/base_model/last.pth.tar', model);"
   ]
  },
  {
   "cell_type": "code",
   "execution_count": 13,
   "metadata": {},
   "outputs": [
    {
     "data": {
      "image/png": "[encoded data removed]",
      "text/plain": [
       "<Figure size 864x720 with 4 Axes>"
      ]
     },
     "metadata": {
      "needs_background": "light"
     },
     "output_type": "display_data"
    }
   ],
   "source": [
    "np.random.seed(seed=0)\n",
    "fig, axes = plt.subplots(2, 2, figsize = (12,10))\n",
    "\n",
    "# sampling from the moons and applying our transformation \n",
    "noisy_moons = datasets.make_moons(n_samples=1000, noise=.05)[0].astype(np.float32)\n",
    "z = model.f(torch.from_numpy(noisy_moons))[0].detach().numpy()\n",
    "plt.subplot(221)\n",
    "plt.scatter(z[:, 0], z[:, 1])\n",
    "plt.title(r'$z = f(X)$')\n",
    "\n",
    "# sampling from a gaussian \n",
    "z = np.random.multivariate_normal(np.zeros(2), np.eye(2), 1000)\n",
    "plt.subplot(222)\n",
    "plt.scatter(z[:, 0], z[:, 1])\n",
    "plt.title(r'$z \\sim p(z)$')\n",
    "\n",
    "# sampling straight from the crescent moon distribution \n",
    "plt.subplot(223)\n",
    "x = datasets.make_moons(n_samples=1000, noise=.05)[0].astype(np.float32)\n",
    "plt.scatter(x[:, 0], x[:, 1], c='r')\n",
    "plt.title(r'$X \\sim p(X)$')\n",
    "\n",
    "# sampling from our latent space and applying inverse transformation \n",
    "plt.subplot(224)\n",
    "x = model.sample(1000).detach().numpy()\n",
    "plt.scatter(x[:, 0, 0], x[:, 0, 1], c='r')\n",
    "plt.title(r'$X = g(z)$');"
   ]
  },
  {
   "cell_type": "code",
   "execution_count": null,
   "metadata": {},
   "outputs": [],
   "source": []
  }
 ],
 "metadata": {
  "@webio": {
   "lastCommId": null,
   "lastKernelId": null
  },
  "kernelspec": {
   "display_name": "Python 3",
   "language": "python",
   "name": "python3"
  },
  "language_info": {
   "codemirror_mode": {
    "name": "ipython",
    "version": 3
   },
   "file_extension": ".py",
   "mimetype": "text/x-python",
   "name": "python",
   "nbconvert_exporter": "python",
   "pygments_lexer": "ipython3",
   "version": "3.7.4"
  }
 },
 "nbformat": 4,
 "nbformat_minor": 2
}
