{
 "cells": [
  {
   "cell_type": "markdown",
   "metadata": {},
   "source": [
    "# Setup"
   ]
  },
  {
   "cell_type": "code",
   "execution_count": 67,
   "metadata": {},
   "outputs": [
    {
     "name": "stdout",
     "output_type": "stream",
     "text": [
      "The autoreload extension is already loaded. To reload it, use:\n",
      "  %reload_ext autoreload\n"
     ]
    }
   ],
   "source": [
    "import os\n",
    "import sys\n",
    "sys.path.insert(0, os.path.join(os.getcwd(), \"..\"))\n",
    "\n",
    "import torch\n",
    "from torch import distributions\n",
    "from torch import nn\n",
    "from torch.utils import data\n",
    "from sklearn import datasets\n",
    "\n",
    "import random\n",
    "import numpy as np\n",
    "import matplotlib.pyplot as plt\n",
    "import plotly.graph_objects as go\n",
    "import plotly.express as px\n",
    "\n",
    "%matplotlib inline\n",
    "%load_ext autoreload\n",
    "%autoreload 2 # Reload all modules every time before executing the Python code typed.\n",
    "\n",
    "import project\n",
    "import project.networks.net as net\n",
    "from project.models.ising   import IsingModel"
   ]
  },
  {
   "cell_type": "code",
   "execution_count": 68,
   "metadata": {},
   "outputs": [],
   "source": [
    "np.random.seed(0)\n",
    "torch.manual_seed(0)\n",
    "torch.cuda.manual_seed(0)\n",
    "random.seed(0)"
   ]
  },
  {
   "cell_type": "markdown",
   "metadata": {},
   "source": [
    "# Define Ising Model"
   ]
  },
  {
   "cell_type": "code",
   "execution_count": 69,
   "metadata": {},
   "outputs": [
    {
     "name": "stdout",
     "output_type": "stream",
     "text": [
      "CPU times: user 372 µs, sys: 0 ns, total: 372 µs\n",
      "Wall time: 378 µs\n"
     ]
    },
    {
     "data": {
      "text/plain": [
       "0.1875"
      ]
     },
     "execution_count": 69,
     "metadata": {},
     "output_type": "execute_result"
    },
    {
     "data": {
      "image/png": "[encoded data removed]",
      "text/plain": [
       "<Figure size 432x432 with 1 Axes>"
      ]
     },
     "metadata": {},
     "output_type": "display_data"
    }
   ],
   "source": [
    "h = 0.0\n",
    "J = 0.8\n",
    "T = 1.0\n",
    "N = 8\n",
    "\n",
    "ising = IsingModel(h = h, J = J)\n",
    "x0 = ising.init_coords(N)\n",
    "ising.draw_config(x0)\n",
    "\n",
    "%time ising.energy(torch.from_numpy(x0)) # energy of a given configuration \n",
    "ising.oprm(x0) # calculate average magnetization "
   ]
  },
  {
   "cell_type": "markdown",
   "metadata": {},
   "source": [
    "## Create training set\n",
    "We'd like to have a $m$ x $N$ matrix containing our training data where $m$ is the number of realizations of the system and $N$ is the number of features (i.e. the flattened dimensions of the system). For example, a training set with 1000 samples of the Ising Model for $N=8$ would be of size (1000, 64). For a given row, each of these 64 columns will contain a \"coordinate\" of the system, taking on a value of 1 or -1. "
   ]
  },
  {
   "cell_type": "code",
   "execution_count": 70,
   "metadata": {},
   "outputs": [],
   "source": [
    "num_samples = 1000 # Use 1000 at run-time as done in Noe et al. for the biwell potential \n",
    "flattened_size = N**2\n",
    "\n",
    "training_set = np.zeros((num_samples,flattened_size), dtype=np.float32)\n",
    "for i in range(num_samples):\n",
    "    training_set[i,:] = ising.init_coords(N).flatten() # generate random configuration \n",
    "training_set = torch.from_numpy(training_set) # convert to PyTorch tensor "
   ]
  },
  {
   "cell_type": "markdown",
   "metadata": {},
   "source": [
    "As an aside, note that although we flatten our configurations for training, the flattening procedure can easily be reversed via the `rehsape()` function: "
   ]
  },
  {
   "cell_type": "code",
   "execution_count": 71,
   "metadata": {
    "scrolled": true
   },
   "outputs": [
    {
     "data": {
      "text/plain": [
       "array([[-1,  1,  1, -1,  1,  1,  1,  1],\n",
       "       [ 1,  1,  1, -1, -1,  1, -1, -1],\n",
       "       [-1, -1, -1,  1, -1,  1,  1, -1],\n",
       "       [-1,  1,  1,  1,  1, -1,  1, -1],\n",
       "       [ 1, -1,  1,  1, -1,  1,  1, -1],\n",
       "       [-1,  1, -1,  1,  1,  1,  1,  1],\n",
       "       [-1,  1, -1,  1,  1,  1,  1, -1],\n",
       "       [ 1, -1, -1,  1,  1, -1,  1, -1]])"
      ]
     },
     "execution_count": 71,
     "metadata": {},
     "output_type": "execute_result"
    }
   ],
   "source": [
    "np.array(x0)"
   ]
  },
  {
   "cell_type": "code",
   "execution_count": 72,
   "metadata": {
    "scrolled": true
   },
   "outputs": [
    {
     "data": {
      "text/plain": [
       "array([[-1,  1,  1, -1,  1,  1,  1,  1],\n",
       "       [ 1,  1,  1, -1, -1,  1, -1, -1],\n",
       "       [-1, -1, -1,  1, -1,  1,  1, -1],\n",
       "       [-1,  1,  1,  1,  1, -1,  1, -1],\n",
       "       [ 1, -1,  1,  1, -1,  1,  1, -1],\n",
       "       [-1,  1, -1,  1,  1,  1,  1,  1],\n",
       "       [-1,  1, -1,  1,  1,  1,  1, -1],\n",
       "       [ 1, -1, -1,  1,  1, -1,  1, -1]])"
      ]
     },
     "execution_count": 72,
     "metadata": {},
     "output_type": "execute_result"
    }
   ],
   "source": [
    "np.array(x0).flatten().reshape((N,N))"
   ]
  },
  {
   "cell_type": "markdown",
   "metadata": {},
   "source": [
    "## Histogram energies of training set"
   ]
  },
  {
   "cell_type": "markdown",
   "metadata": {},
   "source": [
    "Previously I was calculating energy as: "
   ]
  },
  {
   "cell_type": "code",
   "execution_count": 73,
   "metadata": {
    "scrolled": true
   },
   "outputs": [
    {
     "data": {
      "image/png": "[encoded data removed]",
      "text/plain": [
       "<Figure size 432x288 with 1 Axes>"
      ]
     },
     "metadata": {
      "needs_background": "light"
     },
     "output_type": "display_data"
    }
   ],
   "source": [
    "plt.hist(ising.energy_vec(training_set))\n",
    "plt.show()"
   ]
  },
  {
   "cell_type": "markdown",
   "metadata": {},
   "source": [
    "Which is clearly different from: "
   ]
  },
  {
   "cell_type": "code",
   "execution_count": 74,
   "metadata": {
    "scrolled": true
   },
   "outputs": [
    {
     "data": {
      "image/png": "[encoded data removed]",
      "text/plain": [
       "<Figure size 432x288 with 1 Axes>"
      ]
     },
     "metadata": {
      "needs_background": "light"
     },
     "output_type": "display_data"
    }
   ],
   "source": [
    "energies = []\n",
    "for i in range(training_set.shape[0]):\n",
    "    energies.append(ising.energy(training_set[i,:].reshape((N,N))))\n",
    "plt.hist(energies)\n",
    "plt.show()"
   ]
  },
  {
   "cell_type": "markdown",
   "metadata": {},
   "source": [
    "Histogram Boltzmann weights:"
   ]
  },
  {
   "cell_type": "code",
   "execution_count": 75,
   "metadata": {},
   "outputs": [
    {
     "data": {
      "image/png": "[encoded data removed]",
      "text/plain": [
       "<Figure size 432x288 with 1 Axes>"
      ]
     },
     "metadata": {
      "needs_background": "light"
     },
     "output_type": "display_data"
    }
   ],
   "source": [
    "# KH I added a temperature so the weights could be visualized\n",
    "weights = np.exp(-np.array(energies)/100)\n",
    "plt.hist(weights)\n",
    "plt.show()"
   ]
  },
  {
   "cell_type": "markdown",
   "metadata": {},
   "source": [
    "# Boltzmann generator\n",
    "## Define network architecture \n",
    "In the following we use 3 hidden layers for the translation and scaling networks and a total of four stacked RealNVP blocks (as defined by `masks`). "
   ]
  },
  {
   "cell_type": "code",
   "execution_count": 76,
   "metadata": {},
   "outputs": [],
   "source": [
    "n_hidden = 256 # number of hidden layers\n",
    "nets = lambda: nn.Sequential(nn.Linear(N**2, n_hidden), nn.Tanh(), nn.Linear(n_hidden, n_hidden), nn.Tanh(), nn.Linear(n_hidden, N**2), nn.Tanh()) # net s\n",
    "nett = lambda: nn.Sequential(nn.Linear(N**2, n_hidden), nn.ReLU(), nn.Linear(n_hidden, n_hidden), nn.ReLU(), nn.Linear(n_hidden, N**2)) # net t\n",
    "\n",
    "first_mask = np.array(np.concatenate((np.ones(round(N**2/2)), np.zeros(round(N**2/2)))))\n",
    "masks_np = np.stack(\n",
    "                    ( first_mask, np.flip(first_mask, axis=0),\n",
    "                      first_mask, np.flip(first_mask, axis=0),\n",
    "                      first_mask, np.flip(first_mask, axis=0),\n",
    "                      first_mask, np.flip(first_mask, axis=0) )\n",
    "                   ) \n",
    "masks = torch.from_numpy(masks_np.astype(np.float32))\n",
    "\n",
    "prior = distributions.MultivariateNormal(torch.zeros(N**2), torch.eye(N**2))      # so we have a total of 3 neural blocks (see fig. 1 of boltzmann generators paper)\n",
    "network = net.RealNVP(nets, nett, masks, prior, ising, x0.shape)\n",
    "\n",
    "# network.system.energy(network.g(training_set)) # energy functions need to be rewritten with PyTorch tensors in mind"
   ]
  },
  {
   "cell_type": "markdown",
   "metadata": {},
   "source": [
    "Note that $\\log R_{xz} = - \\log R_{zx}$, as demonstrated below: "
   ]
  },
  {
   "cell_type": "code",
   "execution_count": 77,
   "metadata": {
    "scrolled": true
   },
   "outputs": [
    {
     "name": "stdout",
     "output_type": "stream",
     "text": [
      "tensor([0.2011], grad_fn=<AddBackward0>)\n",
      "tensor([-0.2011], grad_fn=<SubBackward0>)\n"
     ]
    }
   ],
   "source": [
    "z, log_Rxz = network.f(training_set[0:1,:])\n",
    "x, log_Rzx = network.g(z)\n",
    "print(log_Rzx)\n",
    "print(log_Rxz)"
   ]
  },
  {
   "cell_type": "markdown",
   "metadata": {},
   "source": [
    "Energies can be calculated via the `calculate_energy()` method of the network. "
   ]
  },
  {
   "cell_type": "code",
   "execution_count": 78,
   "metadata": {
    "scrolled": true
   },
   "outputs": [
    {
     "data": {
      "image/png": "[encoded data removed]",
      "text/plain": [
       "<Figure size 432x288 with 1 Axes>"
      ]
     },
     "metadata": {
      "needs_background": "light"
     },
     "output_type": "display_data"
    }
   ],
   "source": [
    "plt.hist(network.calculate_energy(training_set))\n",
    "plt.show()"
   ]
  },
  {
   "cell_type": "markdown",
   "metadata": {},
   "source": [
    "We can calculate the average energy as: "
   ]
  },
  {
   "cell_type": "code",
   "execution_count": 79,
   "metadata": {},
   "outputs": [
    {
     "data": {
      "text/plain": [
       "tensor(0.2720)"
      ]
     },
     "execution_count": 79,
     "metadata": {},
     "output_type": "execute_result"
    }
   ],
   "source": [
    "network.expected_value(network.calculate_energy(training_set))"
   ]
  },
  {
   "cell_type": "markdown",
   "metadata": {},
   "source": [
    "## Train model \n",
    "Before training let us define the optimization parameters we will consider.  Let \"1\" in the following denote the first set of iterations (where only the ML loss is used) while \"2\" refers to the second second of iterations (where both the ML and KL loss is utilized):"
   ]
  },
  {
   "cell_type": "code",
   "execution_count": 80,
   "metadata": {},
   "outputs": [],
   "source": [
    "iter1 = 100\n",
    "iter2 = 100\n",
    "\n",
    "batch_size1 = num_samples \n",
    "batch_size2 = num_samples\n",
    "\n",
    "lr1 = 1e-4 # require small loss for monotonic decrease of loss on standard gradient descent \n",
    "lr2 = 1e-4"
   ]
  },
  {
   "cell_type": "markdown",
   "metadata": {},
   "source": [
    "### Train by example first\n",
    "Minimizing $J_{ML}$."
   ]
  },
  {
   "cell_type": "code",
   "execution_count": 81,
   "metadata": {
    "scrolled": true
   },
   "outputs": [
    {
     "name": "stdout",
     "output_type": "stream",
     "text": [
      "iter 100: loss = 27.608\n"
     ]
    }
   ],
   "source": [
    "optimizer = torch.optim.Adam([p for p in network.parameters() if p.requires_grad==True], lr=lr1)\n",
    "trainloader = data.DataLoader(dataset=training_set, batch_size=batch_size1)\n",
    "\n",
    "losses = []\n",
    "avg_energy = []\n",
    "t = 0 \n",
    "for epoch in range(iter1):\n",
    "    for batch in trainloader:  \n",
    "\n",
    "        loss = network.loss_ml(batch)\n",
    "        losses.append(loss.item()) # save values for plotting later \n",
    "        \n",
    "        avg_energy.append(network.expected_value(network.energies))\n",
    "\n",
    "        optimizer.zero_grad() # we need to set the gradients to zero before starting to do \n",
    "                              # backpropragation because PyTorch accumulates the gradients on \n",
    "                              # subsequent backward passes.\n",
    "        loss.backward(retain_graph=True)\n",
    "        optimizer.step()\n",
    "        \n",
    "        t = t + 1 # iteration count\n",
    "\n",
    "        if t % 100 == 0:\n",
    "            print('iter %s:' % t, 'loss = %.3f' % loss)"
   ]
  },
  {
   "cell_type": "markdown",
   "metadata": {},
   "source": [
    "### Training by energy\n",
    "We will now train with the KL loss to teach the network to focus on low energy states. First, let's create out training set for training by energy. "
   ]
  },
  {
   "cell_type": "code",
   "execution_count": 102,
   "metadata": {},
   "outputs": [
    {
     "name": "stdout",
     "output_type": "stream",
     "text": [
      "[[ 1.4644078  -0.232027   -0.40494615 ...  0.67715794  1.4308492\n",
      "  -0.9600274 ]\n",
      " [-1.0031375  -1.2214214   1.5341016  ...  0.29757753 -0.61697173\n",
      "  -1.2087357 ]\n",
      " [-0.82838714  0.955208    0.02016834 ... -1.8131317   0.28662738\n",
      "  -0.73043203]\n",
      " ...\n",
      " [-0.25411347 -0.6809858  -0.20834851 ...  2.195165   -0.29229578\n",
      "  -0.2358155 ]\n",
      " [ 0.14633924  0.01806322  0.8253808  ... -0.11305102 -0.505746\n",
      "  -1.7103528 ]\n",
      " [ 0.3907868  -1.2597488   0.00481492 ...  2.3136134  -0.98173976\n",
      "  -1.3040583 ]]\n"
     ]
    }
   ],
   "source": [
    "z, x = network.sample(num_samples)\n",
    "print(z)"
   ]
  },
  {
   "cell_type": "markdown",
   "metadata": {},
   "source": [
    "During training we will need to map latent space variables to -1 or 1 to align with the definition of the Ising model. We can achieve this as so: "
   ]
  },
  {
   "cell_type": "code",
   "execution_count": 100,
   "metadata": {},
   "outputs": [
    {
     "name": "stdout",
     "output_type": "stream",
     "text": [
      "tensor([[ 1.,  1.,  1.,  ..., -1.,  1.,  1.],\n",
      "        [ 1.,  1., -1.,  ..., -1., -1., -1.],\n",
      "        [ 1., -1.,  1.,  ...,  1., -1.,  1.],\n",
      "        ...,\n",
      "        [-1.,  1.,  1.,  ...,  1.,  1., -1.],\n",
      "        [ 1., -1.,  1.,  ..., -1.,  1.,  1.],\n",
      "        [ 1., -1.,  1.,  ...,  1.,  1.,  1.]])\n"
     ]
    }
   ],
   "source": [
    "x_sign = np.sign(torch.from_numpy(x)) # map all values to between -1 and 1 \n",
    "print(x_sign)"
   ]
  },
  {
   "cell_type": "code",
   "execution_count": 82,
   "metadata": {},
   "outputs": [
    {
     "ename": "NameError",
     "evalue": "name 'model' is not defined",
     "output_type": "error",
     "traceback": [
      "\u001b[0;31m---------------------------------------------------------------------------\u001b[0m",
      "\u001b[0;31mNameError\u001b[0m                                 Traceback (most recent call last)",
      "\u001b[0;32m<ipython-input-82-36a94840b5b1>\u001b[0m in \u001b[0;36m<module>\u001b[0;34m\u001b[0m\n\u001b[0;32m----> 1\u001b[0;31m \u001b[0moptimizer\u001b[0m \u001b[0;34m=\u001b[0m \u001b[0mtorch\u001b[0m\u001b[0;34m.\u001b[0m\u001b[0moptim\u001b[0m\u001b[0;34m.\u001b[0m\u001b[0mAdam\u001b[0m\u001b[0;34m(\u001b[0m\u001b[0;34m[\u001b[0m\u001b[0mp\u001b[0m \u001b[0;32mfor\u001b[0m \u001b[0mp\u001b[0m \u001b[0;32min\u001b[0m \u001b[0mmodel\u001b[0m\u001b[0;34m.\u001b[0m\u001b[0mparameters\u001b[0m\u001b[0;34m(\u001b[0m\u001b[0;34m)\u001b[0m \u001b[0;32mif\u001b[0m \u001b[0mp\u001b[0m\u001b[0;34m.\u001b[0m\u001b[0mrequires_grad\u001b[0m\u001b[0;34m==\u001b[0m\u001b[0;32mTrue\u001b[0m\u001b[0;34m]\u001b[0m\u001b[0;34m,\u001b[0m \u001b[0mlr\u001b[0m\u001b[0;34m=\u001b[0m\u001b[0mlr2\u001b[0m\u001b[0;34m)\u001b[0m\u001b[0;34m\u001b[0m\u001b[0;34m\u001b[0m\u001b[0m\n\u001b[0m\u001b[1;32m      2\u001b[0m \u001b[0;31m#training_set_2 = z.astype('float32')\u001b[0m\u001b[0;34m\u001b[0m\u001b[0;34m\u001b[0m\u001b[0;34m\u001b[0m\u001b[0m\n\u001b[1;32m      3\u001b[0m \u001b[0mtrainloader_2\u001b[0m \u001b[0;34m=\u001b[0m \u001b[0mdata\u001b[0m\u001b[0;34m.\u001b[0m\u001b[0mDataLoader\u001b[0m\u001b[0;34m(\u001b[0m\u001b[0mdataset\u001b[0m\u001b[0;34m=\u001b[0m\u001b[0mtraining_set_2\u001b[0m\u001b[0;34m,\u001b[0m \u001b[0mbatch_size\u001b[0m\u001b[0;34m=\u001b[0m\u001b[0mbatch_size2\u001b[0m\u001b[0;34m)\u001b[0m\u001b[0;34m\u001b[0m\u001b[0;34m\u001b[0m\u001b[0m\n\u001b[1;32m      4\u001b[0m \u001b[0;34m\u001b[0m\u001b[0m\n\u001b[1;32m      5\u001b[0m \u001b[0;32mwhile\u001b[0m \u001b[0mt\u001b[0m \u001b[0;34m<\u001b[0m \u001b[0miter1\u001b[0m \u001b[0;34m+\u001b[0m \u001b[0miter2\u001b[0m\u001b[0;34m:\u001b[0m\u001b[0;34m\u001b[0m\u001b[0;34m\u001b[0m\u001b[0m\n",
      "\u001b[0;31mNameError\u001b[0m: name 'model' is not defined"
     ]
    }
   ],
   "source": [
    "optimizer = torch.optim.Adam([p for p in network.parameters() if p.requires_grad==True], lr=lr2) \n",
    "training_set_2 = z.astype('float32')\n",
    "trainloader_2 = data.DataLoader(dataset=training_set_2, batch_size=batch_size2)\n",
    "\n",
    "while t < iter1 + iter2:\n",
    "    for batch_z in trainloader_2:  \n",
    "        # KL loss function\n",
    "        loss = network.loss_kl(batch_z)\n",
    "        losses.append(loss.item()) # save values for plotting later \n",
    "    \n",
    "        # Training on KL loss\n",
    "        optimizer.zero_grad() # Set grads to zero, else PyTorch will accumulate gradients on each backprop\n",
    "        loss.backward(retain_graph=True)\n",
    "        optimizer.step()\n",
    "        \n",
    "        t = t + 1 # iteration count\n",
    "        if t % 25 == 0:\n",
    "            print('iter %s:' % t, 'loss = %.3f' % loss)\n",
    "\n",
    "# Visualize loss\n",
    "fig = go.Figure() # plotly reference: https://plot.ly/python/line-charts/\n",
    "fig.add_trace(go.Scatter(x=np.arange(len(losses)), y=losses,\n",
    "                    mode='lines',\n",
    "                    name='lines'))\n",
    "\n",
    "fig.update_layout(yaxis_title='Loss', xaxis_title='Iteration #')"
   ]
  },
  {
   "cell_type": "markdown",
   "metadata": {},
   "source": [
    "## Visualize results\n",
    "### View loss as a function of iteration steps\n",
    "Training should proceed until the loss approximately levels out. "
   ]
  },
  {
   "cell_type": "code",
   "execution_count": null,
   "metadata": {
    "scrolled": false
   },
   "outputs": [],
   "source": [
    "fig = go.Figure() # plotly reference: https://plot.ly/python/line-charts/\n",
    "fig.add_trace(go.Scatter(x=np.arange(len(losses)), y=losses,\n",
    "                    mode='lines',\n",
    "                    name='lines'))\n",
    "# Edit the layout\n",
    "fig.update_layout(yaxis_title='Loss',\n",
    "                   xaxis_title='Iteration #')"
   ]
  },
  {
   "cell_type": "markdown",
   "metadata": {},
   "source": [
    "### View average energy as a function of iteration steps\n",
    "We should see the average energy decrease once we perform adaptive sampling during training by energy. "
   ]
  },
  {
   "cell_type": "code",
   "execution_count": null,
   "metadata": {},
   "outputs": [],
   "source": [
    "fig = go.Figure() # plotly reference: https://plot.ly/python/line-charts/\n",
    "fig.add_trace(go.Scatter(x=np.arange(len(losses)), y=avg_energy,\n",
    "                    mode='lines',\n",
    "                    name='lines'))\n",
    "# Edit the layout\n",
    "fig.update_layout(yaxis_title='Avg. Energy',\n",
    "                   xaxis_title='Iteration #')"
   ]
  },
  {
   "cell_type": "markdown",
   "metadata": {},
   "source": [
    "### Procedure for adaptive sampling\n",
    "The training schedule according to the the main text of Noe et al. is as follows: \n",
    "- Begin with a buffer of 10,000 real space configurations \n",
    "- Train by example, minimizing $J_{ML}$, using a batch size of 128 for 20 iterations (JB: so not even one full epoch?)\n",
    "- Switch to batch size of 1000 and for each batch (iteration) we now perform a Metropolis Monte Carlo step in latent space for each sample in the given batch. "
   ]
  },
  {
   "cell_type": "code",
   "execution_count": null,
   "metadata": {},
   "outputs": [],
   "source": []
  }
 ],
 "metadata": {
  "@webio": {
   "lastCommId": null,
   "lastKernelId": null
  },
  "kernelspec": {
   "display_name": "Python 3",
   "language": "python",
   "name": "python3"
  },
  "language_info": {
   "codemirror_mode": {
    "name": "ipython",
    "version": 3
   },
   "file_extension": ".py",
   "mimetype": "text/x-python",
   "name": "python",
   "nbconvert_exporter": "python",
   "pygments_lexer": "ipython3",
   "version": "3.7.4"
  }
 },
 "nbformat": 4,
 "nbformat_minor": 2
}
