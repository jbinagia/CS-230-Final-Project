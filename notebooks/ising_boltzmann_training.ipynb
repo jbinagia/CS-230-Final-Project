{
 "cells": [
  {
   "cell_type": "markdown",
   "metadata": {},
   "source": [
    "# To-do \n",
    "1. implement Boltzmann reweighting so expectation is properly calculated \n",
    "2. implement training by energy and KL loss (see description of training schedule below as well as section \"Adaptive sampling and training\" from Noe et al.) \n",
    "3. (quick and easy) generalize energy functions (they need to expect PyTorch tensors instead of numpy arrays). So for example every `np.sum()` should be `torch.sum()`, etc. \n",
    "3. Why does line 40 of `net.py` have a negative sign when calculating the Jacobian? It's right (otherwise RealNVP won't work) but I don't understand it. "
   ]
  },
  {
   "cell_type": "markdown",
   "metadata": {},
   "source": [
    "# Setup"
   ]
  },
  {
   "cell_type": "code",
   "execution_count": 51,
   "metadata": {},
   "outputs": [
    {
     "name": "stdout",
     "output_type": "stream",
     "text": [
      "The autoreload extension is already loaded. To reload it, use:\n",
      "  %reload_ext autoreload\n"
     ]
    }
   ],
   "source": [
    "import os\n",
    "import sys\n",
    "sys.path.insert(0, os.path.join(os.getcwd(), \"..\"))\n",
    "\n",
    "import torch\n",
    "from torch import distributions\n",
    "from torch import nn\n",
    "from sklearn import datasets\n",
    "\n",
    "import numpy as np\n",
    "import matplotlib.pyplot as plt\n",
    "import plotly.graph_objects as go\n",
    "%matplotlib inline\n",
    "%load_ext autoreload\n",
    "%autoreload 2 # Reload all modules every time before executing the Python code typed."
   ]
  },
  {
   "cell_type": "code",
   "execution_count": 52,
   "metadata": {},
   "outputs": [],
   "source": [
    "from project.models.ising import IsingModel\n",
    "import project.networks.net as net"
   ]
  },
  {
   "cell_type": "markdown",
   "metadata": {},
   "source": [
    "# Define Ising Model"
   ]
  },
  {
   "cell_type": "code",
   "execution_count": 53,
   "metadata": {},
   "outputs": [
    {
     "name": "stdout",
     "output_type": "stream",
     "text": [
      "CPU times: user 293 µs, sys: 0 ns, total: 293 µs\n",
      "Wall time: 297 µs\n"
     ]
    },
    {
     "data": {
      "text/plain": [
       "tensor(9.6000)"
      ]
     },
     "execution_count": 53,
     "metadata": {},
     "output_type": "execute_result"
    },
    {
     "data": {
      "image/png": "[encoded data removed]",
      "text/plain": [
       "<Figure size 432x432 with 1 Axes>"
      ]
     },
     "metadata": {},
     "output_type": "display_data"
    }
   ],
   "source": [
    "h = 0.0\n",
    "J = 0.8\n",
    "T = 1.0\n",
    "N = 8\n",
    "\n",
    "ising = IsingModel(h = h, J = J)\n",
    "x0 = ising.init_coords(N)\n",
    "\n",
    "ising.draw_config(x0)\n",
    "%time ising.energy(torch.from_numpy(x0)) # energy of a given configuration "
   ]
  },
  {
   "cell_type": "markdown",
   "metadata": {},
   "source": [
    "## Create training set\n",
    "We'd like to have a $m$ x $N$ matrix containing our training data where $m$ is the number of realizations of the system and $N$ is the number of features (i.e. the flattened dimensions of the system). For example, a training set with 1000 samples of the Ising Model for $N=8$ would be of size (1000, 64). "
   ]
  },
  {
   "cell_type": "code",
   "execution_count": 54,
   "metadata": {},
   "outputs": [],
   "source": [
    "num_samples = 100 # Use 1000 at run-time as done in Noe et al. for the biwell potential \n",
    "flattened_size = N**2\n",
    "\n",
    "training_set = np.zeros((num_samples,flattened_size), dtype=np.float32)\n",
    "for i in range(num_samples):\n",
    "    training_set[i,:] = ising.init_coords(N).flatten() # generate random configuration \n",
    "training_set = torch.from_numpy(training_set) # convert to PyTorch tensor "
   ]
  },
  {
   "cell_type": "markdown",
   "metadata": {},
   "source": [
    "As an aside, note that although we flatten our configurations for training, the flattening procedure can easily be reversed via the `rehsape()` function: "
   ]
  },
  {
   "cell_type": "code",
   "execution_count": 55,
   "metadata": {
    "scrolled": true
   },
   "outputs": [
    {
     "data": {
      "text/plain": [
       "array([[-1, -1, -1,  1, -1,  1, -1,  1],\n",
       "       [-1,  1,  1, -1,  1, -1,  1,  1],\n",
       "       [-1,  1, -1,  1, -1,  1,  1, -1],\n",
       "       [ 1,  1, -1, -1, -1,  1,  1,  1],\n",
       "       [ 1,  1,  1,  1,  1,  1, -1,  1],\n",
       "       [-1,  1, -1, -1, -1, -1, -1,  1],\n",
       "       [-1, -1,  1,  1, -1, -1,  1,  1],\n",
       "       [ 1,  1,  1,  1, -1,  1, -1, -1]])"
      ]
     },
     "execution_count": 55,
     "metadata": {},
     "output_type": "execute_result"
    }
   ],
   "source": [
    "np.array(x0)"
   ]
  },
  {
   "cell_type": "code",
   "execution_count": 56,
   "metadata": {},
   "outputs": [
    {
     "data": {
      "text/plain": [
       "array([[-1, -1, -1,  1, -1,  1, -1,  1],\n",
       "       [-1,  1,  1, -1,  1, -1,  1,  1],\n",
       "       [-1,  1, -1,  1, -1,  1,  1, -1],\n",
       "       [ 1,  1, -1, -1, -1,  1,  1,  1],\n",
       "       [ 1,  1,  1,  1,  1,  1, -1,  1],\n",
       "       [-1,  1, -1, -1, -1, -1, -1,  1],\n",
       "       [-1, -1,  1,  1, -1, -1,  1,  1],\n",
       "       [ 1,  1,  1,  1, -1,  1, -1, -1]])"
      ]
     },
     "execution_count": 56,
     "metadata": {},
     "output_type": "execute_result"
    }
   ],
   "source": [
    "np.array(x0).flatten().reshape((N,N))"
   ]
  },
  {
   "cell_type": "markdown",
   "metadata": {},
   "source": [
    "# Boltzmann generator\n",
    "## Define network architecture \n",
    "In the following we use 3 hidden layers for the translation and scaling networks and a total of four stacked RealNVP blocks (as defined by `masks`). "
   ]
  },
  {
   "cell_type": "code",
   "execution_count": 57,
   "metadata": {},
   "outputs": [],
   "source": [
    "n_hidden = 100 # number of hidden layers\n",
    "nets = lambda: nn.Sequential(nn.Linear(N**2, n_hidden), nn.Tanh(), nn.Linear(n_hidden, n_hidden), nn.Tanh(), nn.Linear(n_hidden, N**2), nn.Tanh()) # net s\n",
    "nett = lambda: nn.Sequential(nn.Linear(N**2, n_hidden), nn.ReLU(), nn.Linear(n_hidden, n_hidden), nn.ReLU(), nn.Linear(n_hidden, N**2)) # net t\n",
    "\n",
    "first_mask = np.array(np.concatenate((np.ones(round(N**2/2)), np.zeros(round(N**2/2)))))\n",
    "masks_np = np.stack((first_mask, np.flip(first_mask),first_mask,np.flip(first_mask),first_mask, np.flip(first_mask),first_mask, np.flip(first_mask))) \n",
    "masks = torch.from_numpy(masks_np.astype(np.float32))\n",
    "\n",
    "prior = distributions.MultivariateNormal(torch.zeros(N**2), torch.eye(N**2))      # so we have a total of 3 neural blocks (see fig. 1 of boltzmann generators paper)\n",
    "network = net.RealNVP(nets, nett, masks, prior, ising, x0.shape)\n",
    "\n",
    "# network.system.energy(network.g(training_set)) # energy functions need to be rewritten with PyTorch tensors in mind"
   ]
  },
  {
   "cell_type": "markdown",
   "metadata": {},
   "source": [
    "## Train model \n",
    "The training schedule accordingly the main text of Noe et al. is as follows: \n",
    "- Begin with a buffer of 10,000 real space configurations \n",
    "- Train by example, minimizing $J_{ML}$, using a batch size of 128 for 20 iterations (JB: so not even one full epoch?)\n",
    "- Switch to batch size of 1000 and for each batch (iteration) we now perform a Metropolis Monte Carlo step in latent space for each sample in the given batch. \n",
    "\n",
    "### Train by example first\n",
    "Minimizing $J_{ML}$."
   ]
  },
  {
   "cell_type": "code",
   "execution_count": 58,
   "metadata": {},
   "outputs": [
    {
     "name": "stdout",
     "output_type": "stream",
     "text": [
      "iter 0: loss = 5.411\n",
      "iter 100: loss = -31.922\n",
      "iter 200: loss = -41.560\n"
     ]
    }
   ],
   "source": [
    "optimizer = torch.optim.Adam([p for p in network.parameters() if p.requires_grad==True], lr=1e-4)\n",
    "losses = []\n",
    "for t in range(300):    \n",
    "    loss = network.loss(batch = training_set, w_ml = 1.0, w_kl = 0.0)\n",
    "    losses.append(loss.item()) # save values for plotting later \n",
    "    \n",
    "    optimizer.zero_grad() # we need to set the gradients to zero before starting to do \n",
    "                          # backpropragation because PyTorch accumulates the gradients on \n",
    "                          # subsequent backward passes.\n",
    "    loss.backward(retain_graph=True)\n",
    "    optimizer.step()\n",
    "    \n",
    "    if t % 100 == 0:\n",
    "        print('iter %s:' % t, 'loss = %.3f' % loss)"
   ]
  },
  {
   "cell_type": "markdown",
   "metadata": {},
   "source": [
    "### Next train by both example and by energy \n",
    "Minimizing linear combination of $J_{ML}$ and $J_{KL}$."
   ]
  },
  {
   "cell_type": "code",
   "execution_count": 59,
   "metadata": {},
   "outputs": [
    {
     "name": "stdout",
     "output_type": "stream",
     "text": [
      "iter 0: loss = -51.440\n",
      "iter 100: loss = -62.561\n",
      "iter 200: loss = -72.313\n",
      "iter 300: loss = -77.316\n",
      "iter 400: loss = -80.407\n"
     ]
    }
   ],
   "source": [
    "optimizer = torch.optim.Adam([p for p in network.parameters() if p.requires_grad==True], lr=1e-4)\n",
    "for t in range(500):    \n",
    "    loss = network.loss(batch = training_set, w_ml = 1.0, w_kl = 1.0)\n",
    "    losses.append(loss.item())\n",
    "    \n",
    "    optimizer.zero_grad() # we need to set the gradients to zero before starting to do \n",
    "                          # backpropragation because PyTorch accumulates the gradients on \n",
    "                          # subsequent backward passes.\n",
    "    loss.backward(retain_graph=True)\n",
    "    optimizer.step()\n",
    "    \n",
    "    if t % 100 == 0:\n",
    "        print('iter %s:' % t, 'loss = %.3f' % loss)"
   ]
  },
  {
   "cell_type": "markdown",
   "metadata": {},
   "source": [
    "## Visualize results\n",
    "### View loss as a function of iteration steps\n",
    "Training should proceed until the loss approximately levels out. "
   ]
  },
  {
   "cell_type": "code",
   "execution_count": 60,
   "metadata": {},
   "outputs": [
    {
     "data": {
      "application/vnd.plotly.v1+json": {
       "config": {
        "plotlyServerURL": "https://plot.ly"
       },
       "data": [
        {
         "mode": "lines",
         "name": "lines",
         "type": "scatter",
         "x": [
          0,
          1,
          2,
          3,
          4,
          5,
          6,
          7,
          8,
          9,
          10,
          11,
          12,
          13,
          14,
          15,
          16,
          17,
          18,
          19,
          20,
          21,
          22,
          23,
          24,
          25,
          26,
          27,
          28,
          29,
          30,
          31,
          32,
          33,
          34,
          35,
          36,
          37,
          38,
          39,
          40,
          41,
          42,
          43,
          44,
          45,
          46,
          47,
          48,
          49,
          50,
          51,
          52,
          53,
          54,
          55,
          56,
          57,
          58,
          59,
          60,
          61,
          62,
          63,
          64,
          65,
          66,
          67,
          68,
          69,
          70,
          71,
          72,
          73,
          74,
          75,
          76,
          77,
          78,
          79,
          80,
          81,
          82,
          83,
          84,
          85,
          86,
          87,
          88,
          89,
          90,
          91,
          92,
          93,
          94,
          95,
          96,
          97,
          98,
          99,
          100,
          101,
          102,
          103,
          104,
          105,
          106,
          107,
          108,
          109,
          110,
          111,
          112,
          113,
          114,
          115,
          116,
          117,
          118,
          119,
          120,
          121,
          122,
          123,
          124,
          125,
          126,
          127,
          128,
          129,
          130,
          131,
          132,
          133,
          134,
          135,
          136,
          137,
          138,
          139,
          140,
          141,
          142,
          143,
          144,
          145,
          146,
          147,
          148,
          149,
          150,
          151,
          152,
          153,
          154,
          155,
          156,
          157,
          158,
          159,
          160,
          161,
          162,
          163,
          164,
          165,
          166,
          167,
          168,
          169,
          170,
          171,
          172,
          173,
          174,
          175,
          176,
          177,
          178,
          179,
          180,
          181,
          182,
          183,
          184,
          185,
          186,
          187,
          188,
          189,
          190,
          191,
          192,
          193,
          194,
          195,
          196,
          197,
          198,
          199,
          200,
          201,
          202,
          203,
          204,
          205,
          206,
          207,
          208,
          209,
          210,
          211,
          212,
          213,
          214,
          215,
          216,
          217,
          218,
          219,
          220,
          221,
          222,
          223,
          224,
          225,
          226,
          227,
          228,
          229,
          230,
          231,
          232,
          233,
          234,
          235,
          236,
          237,
          238,
          239,
          240,
          241,
          242,
          243,
          244,
          245,
          246,
          247,
          248,
          249,
          250,
          251,
          252,
          253,
          254,
          255,
          256,
          257,
          258,
          259,
          260,
          261,
          262,
          263,
          264,
          265,
          266,
          267,
          268,
          269,
          270,
          271,
          272,
          273,
          274,
          275,
          276,
          277,
          278,
          279,
          280,
          281,
          282,
          283,
          284,
          285,
          286,
          287,
          288,
          289,
          290,
          291,
          292,
          293,
          294,
          295,
          296,
          297,
          298,
          299,
          300,
          301,
          302,
          303,
          304,
          305,
          306,
          307,
          308,
          309,
          310,
          311,
          312,
          313,
          314,
          315,
          316,
          317,
          318,
          319,
          320,
          321,
          322,
          323,
          324,
          325,
          326,
          327,
          328,
          329,
          330,
          331,
          332,
          333,
          334,
          335,
          336,
          337,
          338,
          339,
          340,
          341,
          342,
          343,
          344,
          345,
          346,
          347,
          348,
          349,
          350,
          351,
          352,
          353,
          354,
          355,
          356,
          357,
          358,
          359,
          360,
          361,
          362,
          363,
          364,
          365,
          366,
          367,
          368,
          369,
          370,
          371,
          372,
          373,
          374,
          375,
          376,
          377,
          378,
          379,
          380,
          381,
          382,
          383,
          384,
          385,
          386,
          387,
          388,
          389,
          390,
          391,
          392,
          393,
          394,
          395,
          396,
          397,
          398,
          399,
          400,
          401,
          402,
          403,
          404,
          405,
          406,
          407,
          408,
          409,
          410,
          411,
          412,
          413,
          414,
          415,
          416,
          417,
          418,
          419,
          420,
          421,
          422,
          423,
          424,
          425,
          426,
          427,
          428,
          429,
          430,
          431,
          432,
          433,
          434,
          435,
          436,
          437,
          438,
          439,
          440,
          441,
          442,
          443,
          444,
          445,
          446,
          447,
          448,
          449,
          450,
          451,
          452,
          453,
          454,
          455,
          456,
          457,
          458,
          459,
          460,
          461,
          462,
          463,
          464,
          465,
          466,
          467,
          468,
          469,
          470,
          471,
          472,
          473,
          474,
          475,
          476,
          477,
          478,
          479,
          480,
          481,
          482,
          483,
          484,
          485,
          486,
          487,
          488,
          489,
          490,
          491,
          492,
          493,
          494,
          495,
          496,
          497,
          498,
          499,
          500,
          501,
          502,
          503,
          504,
          505,
          506,
          507,
          508,
          509,
          510,
          511,
          512,
          513,
          514,
          515,
          516,
          517,
          518,
          519,
          520,
          521,
          522,
          523,
          524,
          525,
          526,
          527,
          528,
          529,
          530,
          531,
          532,
          533,
          534,
          535,
          536,
          537,
          538,
          539,
          540,
          541,
          542,
          543,
          544,
          545,
          546,
          547,
          548,
          549,
          550,
          551,
          552,
          553,
          554,
          555,
          556,
          557,
          558,
          559,
          560,
          561,
          562,
          563,
          564,
          565,
          566,
          567,
          568,
          569,
          570,
          571,
          572,
          573,
          574,
          575,
          576,
          577,
          578,
          579,
          580,
          581,
          582,
          583,
          584,
          585,
          586,
          587,
          588,
          589,
          590,
          591,
          592,
          593,
          594,
          595,
          596,
          597,
          598,
          599,
          600,
          601,
          602,
          603,
          604,
          605,
          606,
          607,
          608,
          609,
          610,
          611,
          612,
          613,
          614,
          615,
          616,
          617,
          618,
          619,
          620,
          621,
          622,
          623,
          624,
          625,
          626,
          627,
          628,
          629,
          630,
          631,
          632,
          633,
          634,
          635,
          636,
          637,
          638,
          639,
          640,
          641,
          642,
          643,
          644,
          645,
          646,
          647,
          648,
          649,
          650,
          651,
          652,
          653,
          654,
          655,
          656,
          657,
          658,
          659,
          660,
          661,
          662,
          663,
          664,
          665,
          666,
          667,
          668,
          669,
          670,
          671,
          672,
          673,
          674,
          675,
          676,
          677,
          678,
          679,
          680,
          681,
          682,
          683,
          684,
          685,
          686,
          687,
          688,
          689,
          690,
          691,
          692,
          693,
          694,
          695,
          696,
          697,
          698,
          699,
          700,
          701,
          702,
          703,
          704,
          705,
          706,
          707,
          708,
          709,
          710,
          711,
          712,
          713,
          714,
          715,
          716,
          717,
          718,
          719,
          720,
          721,
          722,
          723,
          724,
          725,
          726,
          727,
          728,
          729,
          730,
          731,
          732,
          733,
          734,
          735,
          736,
          737,
          738,
          739,
          740,
          741,
          742,
          743,
          744,
          745,
          746,
          747,
          748,
          749,
          750,
          751,
          752,
          753,
          754,
          755,
          756,
          757,
          758,
          759,
          760,
          761,
          762,
          763,
          764,
          765,
          766,
          767,
          768,
          769,
          770,
          771,
          772,
          773,
          774,
          775,
          776,
          777,
          778,
          779,
          780,
          781,
          782,
          783,
          784,
          785,
          786,
          787,
          788,
          789,
          790,
          791,
          792,
          793,
          794,
          795,
          796,
          797,
          798,
          799
         ],
         "y": [
          5.411370754241943,
          5.2229743003845215,
          5.034517288208008,
          4.845832347869873,
          4.6567511558532715,
          4.467056751251221,
          4.276536464691162,
          4.084967136383057,
          3.8920934200286865,
          3.6976397037506104,
          3.501309871673584,
          3.3028252124786377,
          3.101877450942993,
          2.8981659412384033,
          2.691357374191284,
          2.4810895919799805,
          2.2669830322265625,
          2.048684597015381,
          1.825795292854309,
          1.5979095697402954,
          1.3645776510238647,
          1.1253682374954224,
          0.8798534870147705,
          0.6275364756584167,
          0.3678889572620392,
          0.10039591789245605,
          -0.17549103498458862,
          -0.46033939719200134,
          -0.7547520995140076,
          -1.0593315362930298,
          -1.3747364282608032,
          -1.7015992403030396,
          -2.040592670440674,
          -2.392413377761841,
          -2.7577691078186035,
          -3.1373767852783203,
          -3.531867027282715,
          -3.941934823989868,
          -4.368226528167725,
          -4.811422348022461,
          -5.272055149078369,
          -5.75079345703125,
          -6.248064994812012,
          -6.76418399810791,
          -7.299494743347168,
          -7.854084491729736,
          -8.427716255187988,
          -9.020028114318848,
          -9.630452156066895,
          -10.258000373840332,
          -10.901436805725098,
          -11.559123992919922,
          -12.229267120361328,
          -12.90939712524414,
          -13.596787452697754,
          -14.288400650024414,
          -14.980892181396484,
          -15.670785903930664,
          -16.35467529296875,
          -17.028791427612305,
          -17.68934440612793,
          -18.332857131958008,
          -18.956785202026367,
          -19.558826446533203,
          -20.137399673461914,
          -20.691551208496094,
          -21.22107696533203,
          -21.727041244506836,
          -22.210908889770508,
          -22.674753189086914,
          -23.120927810668945,
          -23.552085876464844,
          -23.970727920532227,
          -24.378948211669922,
          -24.77853012084961,
          -25.170488357543945,
          -25.55548095703125,
          -25.9333553314209,
          -26.303791046142578,
          -26.666166305541992,
          -27.019678115844727,
          -27.363025665283203,
          -27.695175170898438,
          -28.015762329101562,
          -28.324052810668945,
          -28.619892120361328,
          -28.903295516967773,
          -29.174795150756836,
          -29.434890747070312,
          -29.684213638305664,
          -29.923564910888672,
          -30.153705596923828,
          -30.375585556030273,
          -30.59000015258789,
          -30.7974910736084,
          -30.998645782470703,
          -31.193876266479492,
          -31.383617401123047,
          -31.568008422851562,
          -31.747289657592773,
          -31.92156219482422,
          -32.090606689453125,
          -32.25444412231445,
          -32.413455963134766,
          -32.567779541015625,
          -32.717552185058594,
          -32.8630485534668,
          -33.004581451416016,
          -33.14250564575195,
          -33.27692794799805,
          -33.408363342285156,
          -33.537052154541016,
          -33.663246154785156,
          -33.78716278076172,
          -33.909061431884766,
          -34.028995513916016,
          -34.14689636230469,
          -34.26301574707031,
          -34.37733840942383,
          -34.48990249633789,
          -34.601009368896484,
          -34.710697174072266,
          -34.818939208984375,
          -34.92585754394531,
          -35.03154373168945,
          -35.13597869873047,
          -35.23929977416992,
          -35.3416748046875,
          -35.443119049072266,
          -35.543704986572266,
          -35.64339828491211,
          -35.74223327636719,
          -35.840084075927734,
          -35.93706512451172,
          -36.033294677734375,
          -36.128883361816406,
          -36.2237663269043,
          -36.31795120239258,
          -36.41156768798828,
          -36.504364013671875,
          -36.596492767333984,
          -36.68809509277344,
          -36.77906799316406,
          -36.8695068359375,
          -36.95942306518555,
          -37.04887390136719,
          -37.13786697387695,
          -37.22639083862305,
          -37.314449310302734,
          -37.402000427246094,
          -37.48911666870117,
          -37.575775146484375,
          -37.662010192871094,
          -37.747833251953125,
          -37.83321762084961,
          -37.91825866699219,
          -38.002994537353516,
          -38.087371826171875,
          -38.17141342163086,
          -38.25518035888672,
          -38.338775634765625,
          -38.422080993652344,
          -38.5051155090332,
          -38.58792495727539,
          -38.670475006103516,
          -38.75267028808594,
          -38.83466339111328,
          -38.91642761230469,
          -38.998016357421875,
          -39.07941818237305,
          -39.16064453125,
          -39.241737365722656,
          -39.322669982910156,
          -39.40345764160156,
          -39.484195709228516,
          -39.56475067138672,
          -39.64510726928711,
          -39.72532272338867,
          -39.8054084777832,
          -39.88539123535156,
          -39.96527862548828,
          -40.045013427734375,
          -40.12466049194336,
          -40.204254150390625,
          -40.283836364746094,
          -40.363460540771484,
          -40.44304275512695,
          -40.522674560546875,
          -40.602394104003906,
          -40.68197250366211,
          -40.76150894165039,
          -40.84111022949219,
          -40.920753479003906,
          -41.00050354003906,
          -41.08024978637695,
          -41.159976959228516,
          -41.23979187011719,
          -41.31974792480469,
          -41.399845123291016,
          -41.48008346557617,
          -41.56044006347656,
          -41.640869140625,
          -41.72148895263672,
          -41.80228042602539,
          -41.883201599121094,
          -41.964298248291016,
          -42.0456428527832,
          -42.127235412597656,
          -42.20896911621094,
          -42.290931701660156,
          -42.37306594848633,
          -42.455379486083984,
          -42.537940979003906,
          -42.62076187133789,
          -42.70375061035156,
          -42.78695297241211,
          -42.87044906616211,
          -42.95420837402344,
          -43.038204193115234,
          -43.12242126464844,
          -43.206905364990234,
          -43.29172897338867,
          -43.376792907714844,
          -43.4621467590332,
          -43.547821044921875,
          -43.633724212646484,
          -43.719940185546875,
          -43.80646514892578,
          -43.893341064453125,
          -43.98055648803711,
          -44.068138122558594,
          -44.15607452392578,
          -44.2443733215332,
          -44.33298873901367,
          -44.42192459106445,
          -44.511287689208984,
          -44.6010627746582,
          -44.69126892089844,
          -44.78192901611328,
          -44.87302780151367,
          -44.964542388916016,
          -45.05659103393555,
          -45.14901351928711,
          -45.241943359375,
          -45.33528137207031,
          -45.428993225097656,
          -45.52312469482422,
          -45.617652893066406,
          -45.71272277832031,
          -45.80815887451172,
          -45.90407180786133,
          -46.000404357910156,
          -46.097286224365234,
          -46.19461441040039,
          -46.29243469238281,
          -46.39078140258789,
          -46.48966979980469,
          -46.589111328125,
          -46.68896484375,
          -46.7893180847168,
          -46.89021301269531,
          -46.99175262451172,
          -47.093780517578125,
          -47.1962890625,
          -47.29938888549805,
          -47.40290069580078,
          -47.507022857666016,
          -47.61170959472656,
          -47.717037200927734,
          -47.823001861572266,
          -47.929500579833984,
          -48.036651611328125,
          -48.144500732421875,
          -48.252967834472656,
          -48.36207962036133,
          -48.471778869628906,
          -48.58210754394531,
          -48.69316101074219,
          -48.80477523803711,
          -48.91704177856445,
          -49.030025482177734,
          -49.14360427856445,
          -49.25791931152344,
          -49.372901916503906,
          -49.48882293701172,
          -49.60530090332031,
          -49.722442626953125,
          -49.840274810791016,
          -49.958709716796875,
          -50.077938079833984,
          -50.19786071777344,
          -50.31867218017578,
          -50.44017028808594,
          -50.5625,
          -50.68540573120117,
          -50.80924987792969,
          -50.93378829956055,
          -51.05904769897461,
          -51.185157775878906,
          -51.31201171875,
          -51.439735412597656,
          -51.53822326660156,
          -51.5456657409668,
          -51.726436614990234,
          -51.748191833496094,
          -51.85299301147461,
          -51.96369171142578,
          -52.01100540161133,
          -52.098388671875,
          -52.205909729003906,
          -52.275001525878906,
          -52.34770584106445,
          -52.44948196411133,
          -52.538002014160156,
          -52.60898971557617,
          -52.699424743652344,
          -52.7976188659668,
          -52.878604888916016,
          -52.96184539794922,
          -53.059410095214844,
          -53.149925231933594,
          -53.23420715332031,
          -53.32914733886719,
          -53.424461364746094,
          -53.512393951416016,
          -53.606929779052734,
          -53.704246520996094,
          -53.79603576660156,
          -53.89204025268555,
          -53.99073791503906,
          -54.085472106933594,
          -54.18376159667969,
          -54.2836799621582,
          -54.381229400634766,
          -54.482215881347656,
          -54.583168029785156,
          -54.68349075317383,
          -54.786766052246094,
          -54.88914108276367,
          -54.99290466308594,
          -55.097713470458984,
          -55.202476501464844,
          -55.309059143066406,
          -55.41550827026367,
          -55.52329635620117,
          -55.63154220581055,
          -55.7407341003418,
          -55.85072326660156,
          -55.96135711669922,
          -56.07278823852539,
          -56.18492126464844,
          -56.29817199707031,
          -56.412086486816406,
          -56.5267448425293,
          -56.642173767089844,
          -56.75838851928711,
          -56.875465393066406,
          -56.9931640625,
          -57.11174774169922,
          -57.231136322021484,
          -57.35121536254883,
          -57.472023010253906,
          -57.593505859375,
          -57.71583938598633,
          -57.8388671875,
          -57.962547302246094,
          -58.08720397949219,
          -58.21233367919922,
          -58.338321685791016,
          -58.464942932128906,
          -58.5924186706543,
          -58.7205810546875,
          -58.849342346191406,
          -58.97868347167969,
          -59.10871887207031,
          -59.2394905090332,
          -59.370941162109375,
          -59.50320816040039,
          -59.63606262207031,
          -59.76942825317383,
          -59.90351867675781,
          -60.0380973815918,
          -60.17302703857422,
          -60.307777404785156,
          -60.44245529174805,
          -60.57600402832031,
          -60.707576751708984,
          -60.83804702758789,
          -60.9720573425293,
          -61.11085891723633,
          -61.25116729736328,
          -61.386329650878906,
          -61.515846252441406,
          -61.642459869384766,
          -61.76986312866211,
          -61.903114318847656,
          -62.041587829589844,
          -62.179691314697266,
          -62.311614990234375,
          -62.43772506713867,
          -62.5611457824707,
          -62.683902740478516,
          -62.8128547668457,
          -62.94871139526367,
          -63.08696746826172,
          -63.21711349487305,
          -63.33970642089844,
          -63.45811462402344,
          -63.573429107666016,
          -63.69855499267578,
          -63.83147048950195,
          -63.9680290222168,
          -64.09585571289062,
          -64.21347045898438,
          -64.32550811767578,
          -64.43562316894531,
          -64.55596923828125,
          -64.6858139038086,
          -64.8193359375,
          -64.9433822631836,
          -65.05534362792969,
          -65.16181945800781,
          -65.26656341552734,
          -65.38294982910156,
          -65.50834655761719,
          -65.63805389404297,
          -65.7579574584961,
          -65.86670684814453,
          -65.96926879882812,
          -66.06725311279297,
          -66.17245483398438,
          -66.28584289550781,
          -66.41252136230469,
          -66.53606414794922,
          -66.64861297607422,
          -66.74901580810547,
          -66.84172821044922,
          -66.93695068359375,
          -67.03413391113281,
          -67.14910125732422,
          -67.26998901367188,
          -67.38887786865234,
          -67.4928970336914,
          -67.58480834960938,
          -67.67268371582031,
          -67.75540924072266,
          -67.84976196289062,
          -67.95262908935547,
          -68.07601165771484,
          -68.18992614746094,
          -68.28799438476562,
          -68.3743667602539,
          -68.45278930664062,
          -68.53315734863281,
          -68.61656188964844,
          -68.72811889648438,
          -68.83777618408203,
          -68.94442749023438,
          -69.03790283203125,
          -69.11669921875,
          -69.19078826904297,
          -69.26164245605469,
          -69.3418197631836,
          -69.42416381835938,
          -69.53912353515625,
          -69.64785766601562,
          -69.74250793457031,
          -69.82256317138672,
          -69.89065551757812,
          -69.95459747314453,
          -70.01744079589844,
          -70.1049575805664,
          -70.19583129882812,
          -70.30821228027344,
          -70.40632629394531,
          -70.48239135742188,
          -70.54558563232422,
          -70.60345458984375,
          -70.66875457763672,
          -70.73516845703125,
          -70.83468627929688,
          -70.93533325195312,
          -71.02733612060547,
          -71.10509490966797,
          -71.17241668701172,
          -71.2290267944336,
          -71.27400970458984,
          -71.33634948730469,
          -71.3968734741211,
          -71.49250030517578,
          -71.59371185302734,
          -71.69288635253906,
          -71.76228332519531,
          -71.81260681152344,
          -71.86219024658203,
          -71.90802001953125,
          -71.97908020019531,
          -72.05740356445312,
          -72.16161346435547,
          -72.24604797363281,
          -72.31254577636719,
          -72.36760711669922,
          -72.41427612304688,
          -72.45948028564453,
          -72.50394439697266,
          -72.58247375488281,
          -72.65988159179688,
          -72.75218200683594,
          -72.83306884765625,
          -72.9058609008789,
          -72.95496368408203,
          -72.99536895751953,
          -73.03944396972656,
          -73.07208251953125,
          -73.12474822998047,
          -73.18177795410156,
          -73.28775024414062,
          -73.37898254394531,
          -73.45451354980469,
          -73.50312805175781,
          -73.54606628417969,
          -73.5778579711914,
          -73.60708618164062,
          -73.67689514160156,
          -73.75425720214844,
          -73.83928680419922,
          -73.91131591796875,
          -73.97344207763672,
          -74.0237808227539,
          -74.05827331542969,
          -74.08989715576172,
          -74.1206283569336,
          -74.17334747314453,
          -74.21764373779297,
          -74.30026245117188,
          -74.38383483886719,
          -74.46819305419922,
          -74.52445983886719,
          -74.56038665771484,
          -74.60160827636719,
          -74.63375854492188,
          -74.66696166992188,
          -74.68900299072266,
          -74.75718688964844,
          -74.83142852783203,
          -74.91326904296875,
          -74.97285461425781,
          -75.03254699707031,
          -75.09272766113281,
          -75.13529205322266,
          -75.16207885742188,
          -75.17472076416016,
          -75.21278381347656,
          -75.21588897705078,
          -75.23629760742188,
          -75.25129699707031,
          -75.39056396484375,
          -75.5094985961914,
          -75.5667495727539,
          -75.58822631835938,
          -75.59949493408203,
          -75.63104248046875,
          -75.65420532226562,
          -75.75679779052734,
          -75.84945678710938,
          -75.8951644897461,
          -75.9139404296875,
          -75.94026184082031,
          -75.9843978881836,
          -76.00811767578125,
          -76.0670394897461,
          -76.13749694824219,
          -76.20602416992188,
          -76.24760437011719,
          -76.28479766845703,
          -76.33590698242188,
          -76.37994384765625,
          -76.40556335449219,
          -76.40641021728516,
          -76.4167251586914,
          -76.36944580078125,
          -76.35153198242188,
          -76.28901672363281,
          -76.50129699707031,
          -76.69576263427734,
          -76.74278259277344,
          -76.68653106689453,
          -76.65467071533203,
          -76.77909851074219,
          -76.86691284179688,
          -76.9089584350586,
          -76.94314575195312,
          -76.9330825805664,
          -76.99368286132812,
          -77.08880615234375,
          -77.14978790283203,
          -77.14543151855469,
          -77.14983367919922,
          -77.23155212402344,
          -77.28258514404297,
          -77.31622314453125,
          -77.3676528930664,
          -77.40834045410156,
          -77.42744445800781,
          -77.4450454711914,
          -77.5014419555664,
          -77.5485610961914,
          -77.58013153076172,
          -77.60891723632812,
          -77.6600570678711,
          -77.7077407836914,
          -77.73938751220703,
          -77.76226806640625,
          -77.79361724853516,
          -77.81488037109375,
          -77.8233413696289,
          -77.76739501953125,
          -77.72659301757812,
          -77.6015396118164,
          -77.77799987792969,
          -77.92144775390625,
          -78.06425476074219,
          -78.10020446777344,
          -78.05773162841797,
          -78.0538558959961,
          -78.07583618164062,
          -78.2419204711914,
          -78.30422973632812,
          -78.24819946289062,
          -78.27171325683594,
          -78.3506851196289,
          -78.42878723144531,
          -78.44046783447266,
          -78.45298767089844,
          -78.51793670654297,
          -78.53514099121094,
          -78.54039001464844,
          -78.58381652832031,
          -78.65967559814453,
          -78.69527435302734,
          -78.71283721923828,
          -78.75418853759766,
          -78.80448913574219,
          -78.83163452148438,
          -78.83944702148438,
          -78.86653137207031,
          -78.89115142822266,
          -78.89144134521484,
          -78.81480407714844,
          -78.77494049072266,
          -78.63594055175781,
          -78.78851318359375,
          -78.87922668457031,
          -79.0724868774414,
          -79.16195678710938,
          -79.11216735839844,
          -79.0573959350586,
          -79.07264709472656,
          -79.24126434326172,
          -79.31043243408203,
          -79.27534484863281,
          -79.3025894165039,
          -79.33917236328125,
          -79.3742446899414,
          -79.40087127685547,
          -79.47425842285156,
          -79.5293197631836,
          -79.51978302001953,
          -79.52217102050781,
          -79.55459594726562,
          -79.6109390258789,
          -79.63060760498047,
          -79.66035461425781,
          -79.71049499511719,
          -79.7608871459961,
          -79.78555297851562,
          -79.79972839355469,
          -79.83418273925781,
          -79.87518310546875,
          -79.90618896484375,
          -79.9200210571289,
          -79.92684936523438,
          -79.9125747680664,
          -79.88522338867188,
          -79.71060943603516,
          -79.54757690429688,
          -79.22425079345703,
          -79.72772216796875,
          -80.1226806640625,
          -80.05740356445312,
          -79.82173156738281,
          -79.79283142089844,
          -80.1807861328125,
          -80.18163299560547,
          -79.9334487915039,
          -80.13960266113281,
          -80.32093811035156,
          -80.23181915283203,
          -80.23780059814453,
          -80.35777282714844,
          -80.40744018554688,
          -80.37162017822266,
          -80.39884948730469,
          -80.51436614990234,
          -80.49530029296875,
          -80.45487976074219,
          -80.56594848632812,
          -80.61707305908203,
          -80.5843734741211,
          -80.621826171875,
          -80.6909408569336,
          -80.71537780761719,
          -80.70748138427734,
          -80.73992156982422,
          -80.79624938964844,
          -80.81664276123047,
          -80.81697082519531,
          -80.85137939453125,
          -80.89708709716797,
          -80.91963195800781,
          -80.92634582519531,
          -80.93270874023438,
          -80.94636535644531,
          -80.90515899658203,
          -80.82485961914062,
          -80.62279510498047,
          -80.7890396118164,
          -80.92296600341797,
          -81.04679870605469,
          -81.00658416748047,
          -81.07289123535156,
          -81.13658142089844,
          -81.06964111328125,
          -81.10906219482422,
          -81.21595001220703,
          -81.2982406616211,
          -81.26516723632812,
          -81.24079895019531,
          -81.31515502929688,
          -81.31909942626953,
          -81.31936645507812,
          -81.3812484741211,
          -81.45403289794922,
          -81.45829010009766,
          -81.47081756591797,
          -81.5163803100586,
          -81.54015350341797,
          -81.53134155273438,
          -81.5217056274414,
          -81.5511245727539,
          -81.54090118408203,
          -81.51800537109375,
          -81.44266510009766,
          -81.50540161132812,
          -81.50984191894531,
          -81.58015441894531,
          -81.6332778930664,
          -81.75273132324219,
          -81.82611083984375,
          -81.82293701171875,
          -81.79826354980469,
          -81.7783432006836,
          -81.81047058105469,
          -81.81231689453125,
          -81.8442611694336,
          -81.87240600585938,
          -81.95536804199219,
          -82.01152038574219,
          -82.0304946899414,
          -82.04017639160156,
          -82.06263732910156,
          -82.09737396240234,
          -82.11370086669922,
          -82.11719512939453,
          -82.0982437133789,
          -82.0942611694336,
          -82.04945373535156,
          -82.00765991210938,
          -81.84867095947266,
          -81.84676361083984,
          -81.74016571044922,
          -82.10148620605469,
          -82.3171615600586,
          -82.28558349609375,
          -82.21180725097656,
          -82.14820098876953,
          -82.31201171875,
          -82.3427963256836,
          -82.31996154785156,
          -82.37311553955078,
          -82.46021270751953,
          -82.50521850585938,
          -82.4332046508789,
          -82.46392822265625,
          -82.54027557373047,
          -82.58901977539062,
          -82.56539154052734,
          -82.57598876953125,
          -82.6404037475586,
          -82.68008422851562
         ]
        }
       ],
       "layout": {
        "template": {
         "data": {
          "bar": [
           {
            "error_x": {
             "color": "#2a3f5f"
            },
            "error_y": {
             "color": "#2a3f5f"
            },
            "marker": {
             "line": {
              "color": "#E5ECF6",
              "width": 0.5
             }
            },
            "type": "bar"
           }
          ],
          "barpolar": [
           {
            "marker": {
             "line": {
              "color": "#E5ECF6",
              "width": 0.5
             }
            },
            "type": "barpolar"
           }
          ],
          "carpet": [
           {
            "aaxis": {
             "endlinecolor": "#2a3f5f",
             "gridcolor": "white",
             "linecolor": "white",
             "minorgridcolor": "white",
             "startlinecolor": "#2a3f5f"
            },
            "baxis": {
             "endlinecolor": "#2a3f5f",
             "gridcolor": "white",
             "linecolor": "white",
             "minorgridcolor": "white",
             "startlinecolor": "#2a3f5f"
            },
            "type": "carpet"
           }
          ],
          "choropleth": [
           {
            "colorbar": {
             "outlinewidth": 0,
             "ticks": ""
            },
            "type": "choropleth"
           }
          ],
          "contour": [
           {
            "colorbar": {
             "outlinewidth": 0,
             "ticks": ""
            },
            "colorscale": [
             [
              0,
              "#0d0887"
             ],
             [
              0.1111111111111111,
              "#46039f"
             ],
             [
              0.2222222222222222,
              "#7201a8"
             ],
             [
              0.3333333333333333,
              "#9c179e"
             ],
             [
              0.4444444444444444,
              "#bd3786"
             ],
             [
              0.5555555555555556,
              "#d8576b"
             ],
             [
              0.6666666666666666,
              "#ed7953"
             ],
             [
              0.7777777777777778,
              "#fb9f3a"
             ],
             [
              0.8888888888888888,
              "#fdca26"
             ],
             [
              1,
              "#f0f921"
             ]
            ],
            "type": "contour"
           }
          ],
          "contourcarpet": [
           {
            "colorbar": {
             "outlinewidth": 0,
             "ticks": ""
            },
            "type": "contourcarpet"
           }
          ],
          "heatmap": [
           {
            "colorbar": {
             "outlinewidth": 0,
             "ticks": ""
            },
            "colorscale": [
             [
              0,
              "#0d0887"
             ],
             [
              0.1111111111111111,
              "#46039f"
             ],
             [
              0.2222222222222222,
              "#7201a8"
             ],
             [
              0.3333333333333333,
              "#9c179e"
             ],
             [
              0.4444444444444444,
              "#bd3786"
             ],
             [
              0.5555555555555556,
              "#d8576b"
             ],
             [
              0.6666666666666666,
              "#ed7953"
             ],
             [
              0.7777777777777778,
              "#fb9f3a"
             ],
             [
              0.8888888888888888,
              "#fdca26"
             ],
             [
              1,
              "#f0f921"
             ]
            ],
            "type": "heatmap"
           }
          ],
          "heatmapgl": [
           {
            "colorbar": {
             "outlinewidth": 0,
             "ticks": ""
            },
            "colorscale": [
             [
              0,
              "#0d0887"
             ],
             [
              0.1111111111111111,
              "#46039f"
             ],
             [
              0.2222222222222222,
              "#7201a8"
             ],
             [
              0.3333333333333333,
              "#9c179e"
             ],
             [
              0.4444444444444444,
              "#bd3786"
             ],
             [
              0.5555555555555556,
              "#d8576b"
             ],
             [
              0.6666666666666666,
              "#ed7953"
             ],
             [
              0.7777777777777778,
              "#fb9f3a"
             ],
             [
              0.8888888888888888,
              "#fdca26"
             ],
             [
              1,
              "#f0f921"
             ]
            ],
            "type": "heatmapgl"
           }
          ],
          "histogram": [
           {
            "marker": {
             "colorbar": {
              "outlinewidth": 0,
              "ticks": ""
             }
            },
            "type": "histogram"
           }
          ],
          "histogram2d": [
           {
            "colorbar": {
             "outlinewidth": 0,
             "ticks": ""
            },
            "colorscale": [
             [
              0,
              "#0d0887"
             ],
             [
              0.1111111111111111,
              "#46039f"
             ],
             [
              0.2222222222222222,
              "#7201a8"
             ],
             [
              0.3333333333333333,
              "#9c179e"
             ],
             [
              0.4444444444444444,
              "#bd3786"
             ],
             [
              0.5555555555555556,
              "#d8576b"
             ],
             [
              0.6666666666666666,
              "#ed7953"
             ],
             [
              0.7777777777777778,
              "#fb9f3a"
             ],
             [
              0.8888888888888888,
              "#fdca26"
             ],
             [
              1,
              "#f0f921"
             ]
            ],
            "type": "histogram2d"
           }
          ],
          "histogram2dcontour": [
           {
            "colorbar": {
             "outlinewidth": 0,
             "ticks": ""
            },
            "colorscale": [
             [
              0,
              "#0d0887"
             ],
             [
              0.1111111111111111,
              "#46039f"
             ],
             [
              0.2222222222222222,
              "#7201a8"
             ],
             [
              0.3333333333333333,
              "#9c179e"
             ],
             [
              0.4444444444444444,
              "#bd3786"
             ],
             [
              0.5555555555555556,
              "#d8576b"
             ],
             [
              0.6666666666666666,
              "#ed7953"
             ],
             [
              0.7777777777777778,
              "#fb9f3a"
             ],
             [
              0.8888888888888888,
              "#fdca26"
             ],
             [
              1,
              "#f0f921"
             ]
            ],
            "type": "histogram2dcontour"
           }
          ],
          "mesh3d": [
           {
            "colorbar": {
             "outlinewidth": 0,
             "ticks": ""
            },
            "type": "mesh3d"
           }
          ],
          "parcoords": [
           {
            "line": {
             "colorbar": {
              "outlinewidth": 0,
              "ticks": ""
             }
            },
            "type": "parcoords"
           }
          ],
          "scatter": [
           {
            "marker": {
             "colorbar": {
              "outlinewidth": 0,
              "ticks": ""
             }
            },
            "type": "scatter"
           }
          ],
          "scatter3d": [
           {
            "line": {
             "colorbar": {
              "outlinewidth": 0,
              "ticks": ""
             }
            },
            "marker": {
             "colorbar": {
              "outlinewidth": 0,
              "ticks": ""
             }
            },
            "type": "scatter3d"
           }
          ],
          "scattercarpet": [
           {
            "marker": {
             "colorbar": {
              "outlinewidth": 0,
              "ticks": ""
             }
            },
            "type": "scattercarpet"
           }
          ],
          "scattergeo": [
           {
            "marker": {
             "colorbar": {
              "outlinewidth": 0,
              "ticks": ""
             }
            },
            "type": "scattergeo"
           }
          ],
          "scattergl": [
           {
            "marker": {
             "colorbar": {
              "outlinewidth": 0,
              "ticks": ""
             }
            },
            "type": "scattergl"
           }
          ],
          "scattermapbox": [
           {
            "marker": {
             "colorbar": {
              "outlinewidth": 0,
              "ticks": ""
             }
            },
            "type": "scattermapbox"
           }
          ],
          "scatterpolar": [
           {
            "marker": {
             "colorbar": {
              "outlinewidth": 0,
              "ticks": ""
             }
            },
            "type": "scatterpolar"
           }
          ],
          "scatterpolargl": [
           {
            "marker": {
             "colorbar": {
              "outlinewidth": 0,
              "ticks": ""
             }
            },
            "type": "scatterpolargl"
           }
          ],
          "scatterternary": [
           {
            "marker": {
             "colorbar": {
              "outlinewidth": 0,
              "ticks": ""
             }
            },
            "type": "scatterternary"
           }
          ],
          "surface": [
           {
            "colorbar": {
             "outlinewidth": 0,
             "ticks": ""
            },
            "colorscale": [
             [
              0,
              "#0d0887"
             ],
             [
              0.1111111111111111,
              "#46039f"
             ],
             [
              0.2222222222222222,
              "#7201a8"
             ],
             [
              0.3333333333333333,
              "#9c179e"
             ],
             [
              0.4444444444444444,
              "#bd3786"
             ],
             [
              0.5555555555555556,
              "#d8576b"
             ],
             [
              0.6666666666666666,
              "#ed7953"
             ],
             [
              0.7777777777777778,
              "#fb9f3a"
             ],
             [
              0.8888888888888888,
              "#fdca26"
             ],
             [
              1,
              "#f0f921"
             ]
            ],
            "type": "surface"
           }
          ],
          "table": [
           {
            "cells": {
             "fill": {
              "color": "#EBF0F8"
             },
             "line": {
              "color": "white"
             }
            },
            "header": {
             "fill": {
              "color": "#C8D4E3"
             },
             "line": {
              "color": "white"
             }
            },
            "type": "table"
           }
          ]
         },
         "layout": {
          "annotationdefaults": {
           "arrowcolor": "#2a3f5f",
           "arrowhead": 0,
           "arrowwidth": 1
          },
          "colorscale": {
           "diverging": [
            [
             0,
             "#8e0152"
            ],
            [
             0.1,
             "#c51b7d"
            ],
            [
             0.2,
             "#de77ae"
            ],
            [
             0.3,
             "#f1b6da"
            ],
            [
             0.4,
             "#fde0ef"
            ],
            [
             0.5,
             "#f7f7f7"
            ],
            [
             0.6,
             "#e6f5d0"
            ],
            [
             0.7,
             "#b8e186"
            ],
            [
             0.8,
             "#7fbc41"
            ],
            [
             0.9,
             "#4d9221"
            ],
            [
             1,
             "#276419"
            ]
           ],
           "sequential": [
            [
             0,
             "#0d0887"
            ],
            [
             0.1111111111111111,
             "#46039f"
            ],
            [
             0.2222222222222222,
             "#7201a8"
            ],
            [
             0.3333333333333333,
             "#9c179e"
            ],
            [
             0.4444444444444444,
             "#bd3786"
            ],
            [
             0.5555555555555556,
             "#d8576b"
            ],
            [
             0.6666666666666666,
             "#ed7953"
            ],
            [
             0.7777777777777778,
             "#fb9f3a"
            ],
            [
             0.8888888888888888,
             "#fdca26"
            ],
            [
             1,
             "#f0f921"
            ]
           ],
           "sequentialminus": [
            [
             0,
             "#0d0887"
            ],
            [
             0.1111111111111111,
             "#46039f"
            ],
            [
             0.2222222222222222,
             "#7201a8"
            ],
            [
             0.3333333333333333,
             "#9c179e"
            ],
            [
             0.4444444444444444,
             "#bd3786"
            ],
            [
             0.5555555555555556,
             "#d8576b"
            ],
            [
             0.6666666666666666,
             "#ed7953"
            ],
            [
             0.7777777777777778,
             "#fb9f3a"
            ],
            [
             0.8888888888888888,
             "#fdca26"
            ],
            [
             1,
             "#f0f921"
            ]
           ]
          },
          "colorway": [
           "#636efa",
           "#EF553B",
           "#00cc96",
           "#ab63fa",
           "#FFA15A",
           "#19d3f3",
           "#FF6692",
           "#B6E880",
           "#FF97FF",
           "#FECB52"
          ],
          "font": {
           "color": "#2a3f5f"
          },
          "geo": {
           "bgcolor": "white",
           "lakecolor": "white",
           "landcolor": "#E5ECF6",
           "showlakes": true,
           "showland": true,
           "subunitcolor": "white"
          },
          "hoverlabel": {
           "align": "left"
          },
          "hovermode": "closest",
          "mapbox": {
           "style": "light"
          },
          "paper_bgcolor": "white",
          "plot_bgcolor": "#E5ECF6",
          "polar": {
           "angularaxis": {
            "gridcolor": "white",
            "linecolor": "white",
            "ticks": ""
           },
           "bgcolor": "#E5ECF6",
           "radialaxis": {
            "gridcolor": "white",
            "linecolor": "white",
            "ticks": ""
           }
          },
          "scene": {
           "xaxis": {
            "backgroundcolor": "#E5ECF6",
            "gridcolor": "white",
            "gridwidth": 2,
            "linecolor": "white",
            "showbackground": true,
            "ticks": "",
            "zerolinecolor": "white"
           },
           "yaxis": {
            "backgroundcolor": "#E5ECF6",
            "gridcolor": "white",
            "gridwidth": 2,
            "linecolor": "white",
            "showbackground": true,
            "ticks": "",
            "zerolinecolor": "white"
           },
           "zaxis": {
            "backgroundcolor": "#E5ECF6",
            "gridcolor": "white",
            "gridwidth": 2,
            "linecolor": "white",
            "showbackground": true,
            "ticks": "",
            "zerolinecolor": "white"
           }
          },
          "shapedefaults": {
           "line": {
            "color": "#2a3f5f"
           }
          },
          "ternary": {
           "aaxis": {
            "gridcolor": "white",
            "linecolor": "white",
            "ticks": ""
           },
           "baxis": {
            "gridcolor": "white",
            "linecolor": "white",
            "ticks": ""
           },
           "bgcolor": "#E5ECF6",
           "caxis": {
            "gridcolor": "white",
            "linecolor": "white",
            "ticks": ""
           }
          },
          "title": {
           "x": 0.05
          },
          "xaxis": {
           "automargin": true,
           "gridcolor": "white",
           "linecolor": "white",
           "ticks": "",
           "zerolinecolor": "white",
           "zerolinewidth": 2
          },
          "yaxis": {
           "automargin": true,
           "gridcolor": "white",
           "linecolor": "white",
           "ticks": "",
           "zerolinecolor": "white",
           "zerolinewidth": 2
          }
         }
        },
        "xaxis": {
         "title": {
          "text": "Iteration #"
         }
        },
        "yaxis": {
         "title": {
          "text": "Loss"
         }
        }
       }
      },
      "text/html": [
       "<div>\n",
       "        \n",
       "        \n",
       "            <div id=\"63dcfc0b-1f46-4e08-820f-25b200339843\" class=\"plotly-graph-div\" style=\"height:525px; width:100%;\"></div>\n",
       "            <script type=\"text/javascript\">\n",
       "                require([\"plotly\"], function(Plotly) {\n",
       "                    window.PLOTLYENV=window.PLOTLYENV || {};\n",
       "                    \n",
       "                if (document.getElementById(\"63dcfc0b-1f46-4e08-820f-25b200339843\")) {\n",
       "                    Plotly.newPlot(\n",
       "                        '63dcfc0b-1f46-4e08-820f-25b200339843',\n",
       "                        [{\"mode\": \"lines\", \"name\": \"lines\", \"type\": \"scatter\", \"x\": [0, 1, 2, 3, 4, 5, 6, 7, 8, 9, 10, 11, 12, 13, 14, 15, 16, 17, 18, 19, 20, 21, 22, 23, 24, 25, 26, 27, 28, 29, 30, 31, 32, 33, 34, 35, 36, 37, 38, 39, 40, 41, 42, 43, 44, 45, 46, 47, 48, 49, 50, 51, 52, 53, 54, 55, 56, 57, 58, 59, 60, 61, 62, 63, 64, 65, 66, 67, 68, 69, 70, 71, 72, 73, 74, 75, 76, 77, 78, 79, 80, 81, 82, 83, 84, 85, 86, 87, 88, 89, 90, 91, 92, 93, 94, 95, 96, 97, 98, 99, 100, 101, 102, 103, 104, 105, 106, 107, 108, 109, 110, 111, 112, 113, 114, 115, 116, 117, 118, 119, 120, 121, 122, 123, 124, 125, 126, 127, 128, 129, 130, 131, 132, 133, 134, 135, 136, 137, 138, 139, 140, 141, 142, 143, 144, 145, 146, 147, 148, 149, 150, 151, 152, 153, 154, 155, 156, 157, 158, 159, 160, 161, 162, 163, 164, 165, 166, 167, 168, 169, 170, 171, 172, 173, 174, 175, 176, 177, 178, 179, 180, 181, 182, 183, 184, 185, 186, 187, 188, 189, 190, 191, 192, 193, 194, 195, 196, 197, 198, 199, 200, 201, 202, 203, 204, 205, 206, 207, 208, 209, 210, 211, 212, 213, 214, 215, 216, 217, 218, 219, 220, 221, 222, 223, 224, 225, 226, 227, 228, 229, 230, 231, 232, 233, 234, 235, 236, 237, 238, 239, 240, 241, 242, 243, 244, 245, 246, 247, 248, 249, 250, 251, 252, 253, 254, 255, 256, 257, 258, 259, 260, 261, 262, 263, 264, 265, 266, 267, 268, 269, 270, 271, 272, 273, 274, 275, 276, 277, 278, 279, 280, 281, 282, 283, 284, 285, 286, 287, 288, 289, 290, 291, 292, 293, 294, 295, 296, 297, 298, 299, 300, 301, 302, 303, 304, 305, 306, 307, 308, 309, 310, 311, 312, 313, 314, 315, 316, 317, 318, 319, 320, 321, 322, 323, 324, 325, 326, 327, 328, 329, 330, 331, 332, 333, 334, 335, 336, 337, 338, 339, 340, 341, 342, 343, 344, 345, 346, 347, 348, 349, 350, 351, 352, 353, 354, 355, 356, 357, 358, 359, 360, 361, 362, 363, 364, 365, 366, 367, 368, 369, 370, 371, 372, 373, 374, 375, 376, 377, 378, 379, 380, 381, 382, 383, 384, 385, 386, 387, 388, 389, 390, 391, 392, 393, 394, 395, 396, 397, 398, 399, 400, 401, 402, 403, 404, 405, 406, 407, 408, 409, 410, 411, 412, 413, 414, 415, 416, 417, 418, 419, 420, 421, 422, 423, 424, 425, 426, 427, 428, 429, 430, 431, 432, 433, 434, 435, 436, 437, 438, 439, 440, 441, 442, 443, 444, 445, 446, 447, 448, 449, 450, 451, 452, 453, 454, 455, 456, 457, 458, 459, 460, 461, 462, 463, 464, 465, 466, 467, 468, 469, 470, 471, 472, 473, 474, 475, 476, 477, 478, 479, 480, 481, 482, 483, 484, 485, 486, 487, 488, 489, 490, 491, 492, 493, 494, 495, 496, 497, 498, 499, 500, 501, 502, 503, 504, 505, 506, 507, 508, 509, 510, 511, 512, 513, 514, 515, 516, 517, 518, 519, 520, 521, 522, 523, 524, 525, 526, 527, 528, 529, 530, 531, 532, 533, 534, 535, 536, 537, 538, 539, 540, 541, 542, 543, 544, 545, 546, 547, 548, 549, 550, 551, 552, 553, 554, 555, 556, 557, 558, 559, 560, 561, 562, 563, 564, 565, 566, 567, 568, 569, 570, 571, 572, 573, 574, 575, 576, 577, 578, 579, 580, 581, 582, 583, 584, 585, 586, 587, 588, 589, 590, 591, 592, 593, 594, 595, 596, 597, 598, 599, 600, 601, 602, 603, 604, 605, 606, 607, 608, 609, 610, 611, 612, 613, 614, 615, 616, 617, 618, 619, 620, 621, 622, 623, 624, 625, 626, 627, 628, 629, 630, 631, 632, 633, 634, 635, 636, 637, 638, 639, 640, 641, 642, 643, 644, 645, 646, 647, 648, 649, 650, 651, 652, 653, 654, 655, 656, 657, 658, 659, 660, 661, 662, 663, 664, 665, 666, 667, 668, 669, 670, 671, 672, 673, 674, 675, 676, 677, 678, 679, 680, 681, 682, 683, 684, 685, 686, 687, 688, 689, 690, 691, 692, 693, 694, 695, 696, 697, 698, 699, 700, 701, 702, 703, 704, 705, 706, 707, 708, 709, 710, 711, 712, 713, 714, 715, 716, 717, 718, 719, 720, 721, 722, 723, 724, 725, 726, 727, 728, 729, 730, 731, 732, 733, 734, 735, 736, 737, 738, 739, 740, 741, 742, 743, 744, 745, 746, 747, 748, 749, 750, 751, 752, 753, 754, 755, 756, 757, 758, 759, 760, 761, 762, 763, 764, 765, 766, 767, 768, 769, 770, 771, 772, 773, 774, 775, 776, 777, 778, 779, 780, 781, 782, 783, 784, 785, 786, 787, 788, 789, 790, 791, 792, 793, 794, 795, 796, 797, 798, 799], \"y\": [5.411370754241943, 5.2229743003845215, 5.034517288208008, 4.845832347869873, 4.6567511558532715, 4.467056751251221, 4.276536464691162, 4.084967136383057, 3.8920934200286865, 3.6976397037506104, 3.501309871673584, 3.3028252124786377, 3.101877450942993, 2.8981659412384033, 2.691357374191284, 2.4810895919799805, 2.2669830322265625, 2.048684597015381, 1.825795292854309, 1.5979095697402954, 1.3645776510238647, 1.1253682374954224, 0.8798534870147705, 0.6275364756584167, 0.3678889572620392, 0.10039591789245605, -0.17549103498458862, -0.46033939719200134, -0.7547520995140076, -1.0593315362930298, -1.3747364282608032, -1.7015992403030396, -2.040592670440674, -2.392413377761841, -2.7577691078186035, -3.1373767852783203, -3.531867027282715, -3.941934823989868, -4.368226528167725, -4.811422348022461, -5.272055149078369, -5.75079345703125, -6.248064994812012, -6.76418399810791, -7.299494743347168, -7.854084491729736, -8.427716255187988, -9.020028114318848, -9.630452156066895, -10.258000373840332, -10.901436805725098, -11.559123992919922, -12.229267120361328, -12.90939712524414, -13.596787452697754, -14.288400650024414, -14.980892181396484, -15.670785903930664, -16.35467529296875, -17.028791427612305, -17.68934440612793, -18.332857131958008, -18.956785202026367, -19.558826446533203, -20.137399673461914, -20.691551208496094, -21.22107696533203, -21.727041244506836, -22.210908889770508, -22.674753189086914, -23.120927810668945, -23.552085876464844, -23.970727920532227, -24.378948211669922, -24.77853012084961, -25.170488357543945, -25.55548095703125, -25.9333553314209, -26.303791046142578, -26.666166305541992, -27.019678115844727, -27.363025665283203, -27.695175170898438, -28.015762329101562, -28.324052810668945, -28.619892120361328, -28.903295516967773, -29.174795150756836, -29.434890747070312, -29.684213638305664, -29.923564910888672, -30.153705596923828, -30.375585556030273, -30.59000015258789, -30.7974910736084, -30.998645782470703, -31.193876266479492, -31.383617401123047, -31.568008422851562, -31.747289657592773, -31.92156219482422, -32.090606689453125, -32.25444412231445, -32.413455963134766, -32.567779541015625, -32.717552185058594, -32.8630485534668, -33.004581451416016, -33.14250564575195, -33.27692794799805, -33.408363342285156, -33.537052154541016, -33.663246154785156, -33.78716278076172, -33.909061431884766, -34.028995513916016, -34.14689636230469, -34.26301574707031, -34.37733840942383, -34.48990249633789, -34.601009368896484, -34.710697174072266, -34.818939208984375, -34.92585754394531, -35.03154373168945, -35.13597869873047, -35.23929977416992, -35.3416748046875, -35.443119049072266, -35.543704986572266, -35.64339828491211, -35.74223327636719, -35.840084075927734, -35.93706512451172, -36.033294677734375, -36.128883361816406, -36.2237663269043, -36.31795120239258, -36.41156768798828, -36.504364013671875, -36.596492767333984, -36.68809509277344, -36.77906799316406, -36.8695068359375, -36.95942306518555, -37.04887390136719, -37.13786697387695, -37.22639083862305, -37.314449310302734, -37.402000427246094, -37.48911666870117, -37.575775146484375, -37.662010192871094, -37.747833251953125, -37.83321762084961, -37.91825866699219, -38.002994537353516, -38.087371826171875, -38.17141342163086, -38.25518035888672, -38.338775634765625, -38.422080993652344, -38.5051155090332, -38.58792495727539, -38.670475006103516, -38.75267028808594, -38.83466339111328, -38.91642761230469, -38.998016357421875, -39.07941818237305, -39.16064453125, -39.241737365722656, -39.322669982910156, -39.40345764160156, -39.484195709228516, -39.56475067138672, -39.64510726928711, -39.72532272338867, -39.8054084777832, -39.88539123535156, -39.96527862548828, -40.045013427734375, -40.12466049194336, -40.204254150390625, -40.283836364746094, -40.363460540771484, -40.44304275512695, -40.522674560546875, -40.602394104003906, -40.68197250366211, -40.76150894165039, -40.84111022949219, -40.920753479003906, -41.00050354003906, -41.08024978637695, -41.159976959228516, -41.23979187011719, -41.31974792480469, -41.399845123291016, -41.48008346557617, -41.56044006347656, -41.640869140625, -41.72148895263672, -41.80228042602539, -41.883201599121094, -41.964298248291016, -42.0456428527832, -42.127235412597656, -42.20896911621094, -42.290931701660156, -42.37306594848633, -42.455379486083984, -42.537940979003906, -42.62076187133789, -42.70375061035156, -42.78695297241211, -42.87044906616211, -42.95420837402344, -43.038204193115234, -43.12242126464844, -43.206905364990234, -43.29172897338867, -43.376792907714844, -43.4621467590332, -43.547821044921875, -43.633724212646484, -43.719940185546875, -43.80646514892578, -43.893341064453125, -43.98055648803711, -44.068138122558594, -44.15607452392578, -44.2443733215332, -44.33298873901367, -44.42192459106445, -44.511287689208984, -44.6010627746582, -44.69126892089844, -44.78192901611328, -44.87302780151367, -44.964542388916016, -45.05659103393555, -45.14901351928711, -45.241943359375, -45.33528137207031, -45.428993225097656, -45.52312469482422, -45.617652893066406, -45.71272277832031, -45.80815887451172, -45.90407180786133, -46.000404357910156, -46.097286224365234, -46.19461441040039, -46.29243469238281, -46.39078140258789, -46.48966979980469, -46.589111328125, -46.68896484375, -46.7893180847168, -46.89021301269531, -46.99175262451172, -47.093780517578125, -47.1962890625, -47.29938888549805, -47.40290069580078, -47.507022857666016, -47.61170959472656, -47.717037200927734, -47.823001861572266, -47.929500579833984, -48.036651611328125, -48.144500732421875, -48.252967834472656, -48.36207962036133, -48.471778869628906, -48.58210754394531, -48.69316101074219, -48.80477523803711, -48.91704177856445, -49.030025482177734, -49.14360427856445, -49.25791931152344, -49.372901916503906, -49.48882293701172, -49.60530090332031, -49.722442626953125, -49.840274810791016, -49.958709716796875, -50.077938079833984, -50.19786071777344, -50.31867218017578, -50.44017028808594, -50.5625, -50.68540573120117, -50.80924987792969, -50.93378829956055, -51.05904769897461, -51.185157775878906, -51.31201171875, -51.439735412597656, -51.53822326660156, -51.5456657409668, -51.726436614990234, -51.748191833496094, -51.85299301147461, -51.96369171142578, -52.01100540161133, -52.098388671875, -52.205909729003906, -52.275001525878906, -52.34770584106445, -52.44948196411133, -52.538002014160156, -52.60898971557617, -52.699424743652344, -52.7976188659668, -52.878604888916016, -52.96184539794922, -53.059410095214844, -53.149925231933594, -53.23420715332031, -53.32914733886719, -53.424461364746094, -53.512393951416016, -53.606929779052734, -53.704246520996094, -53.79603576660156, -53.89204025268555, -53.99073791503906, -54.085472106933594, -54.18376159667969, -54.2836799621582, -54.381229400634766, -54.482215881347656, -54.583168029785156, -54.68349075317383, -54.786766052246094, -54.88914108276367, -54.99290466308594, -55.097713470458984, -55.202476501464844, -55.309059143066406, -55.41550827026367, -55.52329635620117, -55.63154220581055, -55.7407341003418, -55.85072326660156, -55.96135711669922, -56.07278823852539, -56.18492126464844, -56.29817199707031, -56.412086486816406, -56.5267448425293, -56.642173767089844, -56.75838851928711, -56.875465393066406, -56.9931640625, -57.11174774169922, -57.231136322021484, -57.35121536254883, -57.472023010253906, -57.593505859375, -57.71583938598633, -57.8388671875, -57.962547302246094, -58.08720397949219, -58.21233367919922, -58.338321685791016, -58.464942932128906, -58.5924186706543, -58.7205810546875, -58.849342346191406, -58.97868347167969, -59.10871887207031, -59.2394905090332, -59.370941162109375, -59.50320816040039, -59.63606262207031, -59.76942825317383, -59.90351867675781, -60.0380973815918, -60.17302703857422, -60.307777404785156, -60.44245529174805, -60.57600402832031, -60.707576751708984, -60.83804702758789, -60.9720573425293, -61.11085891723633, -61.25116729736328, -61.386329650878906, -61.515846252441406, -61.642459869384766, -61.76986312866211, -61.903114318847656, -62.041587829589844, -62.179691314697266, -62.311614990234375, -62.43772506713867, -62.5611457824707, -62.683902740478516, -62.8128547668457, -62.94871139526367, -63.08696746826172, -63.21711349487305, -63.33970642089844, -63.45811462402344, -63.573429107666016, -63.69855499267578, -63.83147048950195, -63.9680290222168, -64.09585571289062, -64.21347045898438, -64.32550811767578, -64.43562316894531, -64.55596923828125, -64.6858139038086, -64.8193359375, -64.9433822631836, -65.05534362792969, -65.16181945800781, -65.26656341552734, -65.38294982910156, -65.50834655761719, -65.63805389404297, -65.7579574584961, -65.86670684814453, -65.96926879882812, -66.06725311279297, -66.17245483398438, -66.28584289550781, -66.41252136230469, -66.53606414794922, -66.64861297607422, -66.74901580810547, -66.84172821044922, -66.93695068359375, -67.03413391113281, -67.14910125732422, -67.26998901367188, -67.38887786865234, -67.4928970336914, -67.58480834960938, -67.67268371582031, -67.75540924072266, -67.84976196289062, -67.95262908935547, -68.07601165771484, -68.18992614746094, -68.28799438476562, -68.3743667602539, -68.45278930664062, -68.53315734863281, -68.61656188964844, -68.72811889648438, -68.83777618408203, -68.94442749023438, -69.03790283203125, -69.11669921875, -69.19078826904297, -69.26164245605469, -69.3418197631836, -69.42416381835938, -69.53912353515625, -69.64785766601562, -69.74250793457031, -69.82256317138672, -69.89065551757812, -69.95459747314453, -70.01744079589844, -70.1049575805664, -70.19583129882812, -70.30821228027344, -70.40632629394531, -70.48239135742188, -70.54558563232422, -70.60345458984375, -70.66875457763672, -70.73516845703125, -70.83468627929688, -70.93533325195312, -71.02733612060547, -71.10509490966797, -71.17241668701172, -71.2290267944336, -71.27400970458984, -71.33634948730469, -71.3968734741211, -71.49250030517578, -71.59371185302734, -71.69288635253906, -71.76228332519531, -71.81260681152344, -71.86219024658203, -71.90802001953125, -71.97908020019531, -72.05740356445312, -72.16161346435547, -72.24604797363281, -72.31254577636719, -72.36760711669922, -72.41427612304688, -72.45948028564453, -72.50394439697266, -72.58247375488281, -72.65988159179688, -72.75218200683594, -72.83306884765625, -72.9058609008789, -72.95496368408203, -72.99536895751953, -73.03944396972656, -73.07208251953125, -73.12474822998047, -73.18177795410156, -73.28775024414062, -73.37898254394531, -73.45451354980469, -73.50312805175781, -73.54606628417969, -73.5778579711914, -73.60708618164062, -73.67689514160156, -73.75425720214844, -73.83928680419922, -73.91131591796875, -73.97344207763672, -74.0237808227539, -74.05827331542969, -74.08989715576172, -74.1206283569336, -74.17334747314453, -74.21764373779297, -74.30026245117188, -74.38383483886719, -74.46819305419922, -74.52445983886719, -74.56038665771484, -74.60160827636719, -74.63375854492188, -74.66696166992188, -74.68900299072266, -74.75718688964844, -74.83142852783203, -74.91326904296875, -74.97285461425781, -75.03254699707031, -75.09272766113281, -75.13529205322266, -75.16207885742188, -75.17472076416016, -75.21278381347656, -75.21588897705078, -75.23629760742188, -75.25129699707031, -75.39056396484375, -75.5094985961914, -75.5667495727539, -75.58822631835938, -75.59949493408203, -75.63104248046875, -75.65420532226562, -75.75679779052734, -75.84945678710938, -75.8951644897461, -75.9139404296875, -75.94026184082031, -75.9843978881836, -76.00811767578125, -76.0670394897461, -76.13749694824219, -76.20602416992188, -76.24760437011719, -76.28479766845703, -76.33590698242188, -76.37994384765625, -76.40556335449219, -76.40641021728516, -76.4167251586914, -76.36944580078125, -76.35153198242188, -76.28901672363281, -76.50129699707031, -76.69576263427734, -76.74278259277344, -76.68653106689453, -76.65467071533203, -76.77909851074219, -76.86691284179688, -76.9089584350586, -76.94314575195312, -76.9330825805664, -76.99368286132812, -77.08880615234375, -77.14978790283203, -77.14543151855469, -77.14983367919922, -77.23155212402344, -77.28258514404297, -77.31622314453125, -77.3676528930664, -77.40834045410156, -77.42744445800781, -77.4450454711914, -77.5014419555664, -77.5485610961914, -77.58013153076172, -77.60891723632812, -77.6600570678711, -77.7077407836914, -77.73938751220703, -77.76226806640625, -77.79361724853516, -77.81488037109375, -77.8233413696289, -77.76739501953125, -77.72659301757812, -77.6015396118164, -77.77799987792969, -77.92144775390625, -78.06425476074219, -78.10020446777344, -78.05773162841797, -78.0538558959961, -78.07583618164062, -78.2419204711914, -78.30422973632812, -78.24819946289062, -78.27171325683594, -78.3506851196289, -78.42878723144531, -78.44046783447266, -78.45298767089844, -78.51793670654297, -78.53514099121094, -78.54039001464844, -78.58381652832031, -78.65967559814453, -78.69527435302734, -78.71283721923828, -78.75418853759766, -78.80448913574219, -78.83163452148438, -78.83944702148438, -78.86653137207031, -78.89115142822266, -78.89144134521484, -78.81480407714844, -78.77494049072266, -78.63594055175781, -78.78851318359375, -78.87922668457031, -79.0724868774414, -79.16195678710938, -79.11216735839844, -79.0573959350586, -79.07264709472656, -79.24126434326172, -79.31043243408203, -79.27534484863281, -79.3025894165039, -79.33917236328125, -79.3742446899414, -79.40087127685547, -79.47425842285156, -79.5293197631836, -79.51978302001953, -79.52217102050781, -79.55459594726562, -79.6109390258789, -79.63060760498047, -79.66035461425781, -79.71049499511719, -79.7608871459961, -79.78555297851562, -79.79972839355469, -79.83418273925781, -79.87518310546875, -79.90618896484375, -79.9200210571289, -79.92684936523438, -79.9125747680664, -79.88522338867188, -79.71060943603516, -79.54757690429688, -79.22425079345703, -79.72772216796875, -80.1226806640625, -80.05740356445312, -79.82173156738281, -79.79283142089844, -80.1807861328125, -80.18163299560547, -79.9334487915039, -80.13960266113281, -80.32093811035156, -80.23181915283203, -80.23780059814453, -80.35777282714844, -80.40744018554688, -80.37162017822266, -80.39884948730469, -80.51436614990234, -80.49530029296875, -80.45487976074219, -80.56594848632812, -80.61707305908203, -80.5843734741211, -80.621826171875, -80.6909408569336, -80.71537780761719, -80.70748138427734, -80.73992156982422, -80.79624938964844, -80.81664276123047, -80.81697082519531, -80.85137939453125, -80.89708709716797, -80.91963195800781, -80.92634582519531, -80.93270874023438, -80.94636535644531, -80.90515899658203, -80.82485961914062, -80.62279510498047, -80.7890396118164, -80.92296600341797, -81.04679870605469, -81.00658416748047, -81.07289123535156, -81.13658142089844, -81.06964111328125, -81.10906219482422, -81.21595001220703, -81.2982406616211, -81.26516723632812, -81.24079895019531, -81.31515502929688, -81.31909942626953, -81.31936645507812, -81.3812484741211, -81.45403289794922, -81.45829010009766, -81.47081756591797, -81.5163803100586, -81.54015350341797, -81.53134155273438, -81.5217056274414, -81.5511245727539, -81.54090118408203, -81.51800537109375, -81.44266510009766, -81.50540161132812, -81.50984191894531, -81.58015441894531, -81.6332778930664, -81.75273132324219, -81.82611083984375, -81.82293701171875, -81.79826354980469, -81.7783432006836, -81.81047058105469, -81.81231689453125, -81.8442611694336, -81.87240600585938, -81.95536804199219, -82.01152038574219, -82.0304946899414, -82.04017639160156, -82.06263732910156, -82.09737396240234, -82.11370086669922, -82.11719512939453, -82.0982437133789, -82.0942611694336, -82.04945373535156, -82.00765991210938, -81.84867095947266, -81.84676361083984, -81.74016571044922, -82.10148620605469, -82.3171615600586, -82.28558349609375, -82.21180725097656, -82.14820098876953, -82.31201171875, -82.3427963256836, -82.31996154785156, -82.37311553955078, -82.46021270751953, -82.50521850585938, -82.4332046508789, -82.46392822265625, -82.54027557373047, -82.58901977539062, -82.56539154052734, -82.57598876953125, -82.6404037475586, -82.68008422851562]}],\n",
       "                        {\"template\": {\"data\": {\"bar\": [{\"error_x\": {\"color\": \"#2a3f5f\"}, \"error_y\": {\"color\": \"#2a3f5f\"}, \"marker\": {\"line\": {\"color\": \"#E5ECF6\", \"width\": 0.5}}, \"type\": \"bar\"}], \"barpolar\": [{\"marker\": {\"line\": {\"color\": \"#E5ECF6\", \"width\": 0.5}}, \"type\": \"barpolar\"}], \"carpet\": [{\"aaxis\": {\"endlinecolor\": \"#2a3f5f\", \"gridcolor\": \"white\", \"linecolor\": \"white\", \"minorgridcolor\": \"white\", \"startlinecolor\": \"#2a3f5f\"}, \"baxis\": {\"endlinecolor\": \"#2a3f5f\", \"gridcolor\": \"white\", \"linecolor\": \"white\", \"minorgridcolor\": \"white\", \"startlinecolor\": \"#2a3f5f\"}, \"type\": \"carpet\"}], \"choropleth\": [{\"colorbar\": {\"outlinewidth\": 0, \"ticks\": \"\"}, \"type\": \"choropleth\"}], \"contour\": [{\"colorbar\": {\"outlinewidth\": 0, \"ticks\": \"\"}, \"colorscale\": [[0.0, \"#0d0887\"], [0.1111111111111111, \"#46039f\"], [0.2222222222222222, \"#7201a8\"], [0.3333333333333333, \"#9c179e\"], [0.4444444444444444, \"#bd3786\"], [0.5555555555555556, \"#d8576b\"], [0.6666666666666666, \"#ed7953\"], [0.7777777777777778, \"#fb9f3a\"], [0.8888888888888888, \"#fdca26\"], [1.0, \"#f0f921\"]], \"type\": \"contour\"}], \"contourcarpet\": [{\"colorbar\": {\"outlinewidth\": 0, \"ticks\": \"\"}, \"type\": \"contourcarpet\"}], \"heatmap\": [{\"colorbar\": {\"outlinewidth\": 0, \"ticks\": \"\"}, \"colorscale\": [[0.0, \"#0d0887\"], [0.1111111111111111, \"#46039f\"], [0.2222222222222222, \"#7201a8\"], [0.3333333333333333, \"#9c179e\"], [0.4444444444444444, \"#bd3786\"], [0.5555555555555556, \"#d8576b\"], [0.6666666666666666, \"#ed7953\"], [0.7777777777777778, \"#fb9f3a\"], [0.8888888888888888, \"#fdca26\"], [1.0, \"#f0f921\"]], \"type\": \"heatmap\"}], \"heatmapgl\": [{\"colorbar\": {\"outlinewidth\": 0, \"ticks\": \"\"}, \"colorscale\": [[0.0, \"#0d0887\"], [0.1111111111111111, \"#46039f\"], [0.2222222222222222, \"#7201a8\"], [0.3333333333333333, \"#9c179e\"], [0.4444444444444444, \"#bd3786\"], [0.5555555555555556, \"#d8576b\"], [0.6666666666666666, \"#ed7953\"], [0.7777777777777778, \"#fb9f3a\"], [0.8888888888888888, \"#fdca26\"], [1.0, \"#f0f921\"]], \"type\": \"heatmapgl\"}], \"histogram\": [{\"marker\": {\"colorbar\": {\"outlinewidth\": 0, \"ticks\": \"\"}}, \"type\": \"histogram\"}], \"histogram2d\": [{\"colorbar\": {\"outlinewidth\": 0, \"ticks\": \"\"}, \"colorscale\": [[0.0, \"#0d0887\"], [0.1111111111111111, \"#46039f\"], [0.2222222222222222, \"#7201a8\"], [0.3333333333333333, \"#9c179e\"], [0.4444444444444444, \"#bd3786\"], [0.5555555555555556, \"#d8576b\"], [0.6666666666666666, \"#ed7953\"], [0.7777777777777778, \"#fb9f3a\"], [0.8888888888888888, \"#fdca26\"], [1.0, \"#f0f921\"]], \"type\": \"histogram2d\"}], \"histogram2dcontour\": [{\"colorbar\": {\"outlinewidth\": 0, \"ticks\": \"\"}, \"colorscale\": [[0.0, \"#0d0887\"], [0.1111111111111111, \"#46039f\"], [0.2222222222222222, \"#7201a8\"], [0.3333333333333333, \"#9c179e\"], [0.4444444444444444, \"#bd3786\"], [0.5555555555555556, \"#d8576b\"], [0.6666666666666666, \"#ed7953\"], [0.7777777777777778, \"#fb9f3a\"], [0.8888888888888888, \"#fdca26\"], [1.0, \"#f0f921\"]], \"type\": \"histogram2dcontour\"}], \"mesh3d\": [{\"colorbar\": {\"outlinewidth\": 0, \"ticks\": \"\"}, \"type\": \"mesh3d\"}], \"parcoords\": [{\"line\": {\"colorbar\": {\"outlinewidth\": 0, \"ticks\": \"\"}}, \"type\": \"parcoords\"}], \"scatter\": [{\"marker\": {\"colorbar\": {\"outlinewidth\": 0, \"ticks\": \"\"}}, \"type\": \"scatter\"}], \"scatter3d\": [{\"line\": {\"colorbar\": {\"outlinewidth\": 0, \"ticks\": \"\"}}, \"marker\": {\"colorbar\": {\"outlinewidth\": 0, \"ticks\": \"\"}}, \"type\": \"scatter3d\"}], \"scattercarpet\": [{\"marker\": {\"colorbar\": {\"outlinewidth\": 0, \"ticks\": \"\"}}, \"type\": \"scattercarpet\"}], \"scattergeo\": [{\"marker\": {\"colorbar\": {\"outlinewidth\": 0, \"ticks\": \"\"}}, \"type\": \"scattergeo\"}], \"scattergl\": [{\"marker\": {\"colorbar\": {\"outlinewidth\": 0, \"ticks\": \"\"}}, \"type\": \"scattergl\"}], \"scattermapbox\": [{\"marker\": {\"colorbar\": {\"outlinewidth\": 0, \"ticks\": \"\"}}, \"type\": \"scattermapbox\"}], \"scatterpolar\": [{\"marker\": {\"colorbar\": {\"outlinewidth\": 0, \"ticks\": \"\"}}, \"type\": \"scatterpolar\"}], \"scatterpolargl\": [{\"marker\": {\"colorbar\": {\"outlinewidth\": 0, \"ticks\": \"\"}}, \"type\": \"scatterpolargl\"}], \"scatterternary\": [{\"marker\": {\"colorbar\": {\"outlinewidth\": 0, \"ticks\": \"\"}}, \"type\": \"scatterternary\"}], \"surface\": [{\"colorbar\": {\"outlinewidth\": 0, \"ticks\": \"\"}, \"colorscale\": [[0.0, \"#0d0887\"], [0.1111111111111111, \"#46039f\"], [0.2222222222222222, \"#7201a8\"], [0.3333333333333333, \"#9c179e\"], [0.4444444444444444, \"#bd3786\"], [0.5555555555555556, \"#d8576b\"], [0.6666666666666666, \"#ed7953\"], [0.7777777777777778, \"#fb9f3a\"], [0.8888888888888888, \"#fdca26\"], [1.0, \"#f0f921\"]], \"type\": \"surface\"}], \"table\": [{\"cells\": {\"fill\": {\"color\": \"#EBF0F8\"}, \"line\": {\"color\": \"white\"}}, \"header\": {\"fill\": {\"color\": \"#C8D4E3\"}, \"line\": {\"color\": \"white\"}}, \"type\": \"table\"}]}, \"layout\": {\"annotationdefaults\": {\"arrowcolor\": \"#2a3f5f\", \"arrowhead\": 0, \"arrowwidth\": 1}, \"colorscale\": {\"diverging\": [[0, \"#8e0152\"], [0.1, \"#c51b7d\"], [0.2, \"#de77ae\"], [0.3, \"#f1b6da\"], [0.4, \"#fde0ef\"], [0.5, \"#f7f7f7\"], [0.6, \"#e6f5d0\"], [0.7, \"#b8e186\"], [0.8, \"#7fbc41\"], [0.9, \"#4d9221\"], [1, \"#276419\"]], \"sequential\": [[0.0, \"#0d0887\"], [0.1111111111111111, \"#46039f\"], [0.2222222222222222, \"#7201a8\"], [0.3333333333333333, \"#9c179e\"], [0.4444444444444444, \"#bd3786\"], [0.5555555555555556, \"#d8576b\"], [0.6666666666666666, \"#ed7953\"], [0.7777777777777778, \"#fb9f3a\"], [0.8888888888888888, \"#fdca26\"], [1.0, \"#f0f921\"]], \"sequentialminus\": [[0.0, \"#0d0887\"], [0.1111111111111111, \"#46039f\"], [0.2222222222222222, \"#7201a8\"], [0.3333333333333333, \"#9c179e\"], [0.4444444444444444, \"#bd3786\"], [0.5555555555555556, \"#d8576b\"], [0.6666666666666666, \"#ed7953\"], [0.7777777777777778, \"#fb9f3a\"], [0.8888888888888888, \"#fdca26\"], [1.0, \"#f0f921\"]]}, \"colorway\": [\"#636efa\", \"#EF553B\", \"#00cc96\", \"#ab63fa\", \"#FFA15A\", \"#19d3f3\", \"#FF6692\", \"#B6E880\", \"#FF97FF\", \"#FECB52\"], \"font\": {\"color\": \"#2a3f5f\"}, \"geo\": {\"bgcolor\": \"white\", \"lakecolor\": \"white\", \"landcolor\": \"#E5ECF6\", \"showlakes\": true, \"showland\": true, \"subunitcolor\": \"white\"}, \"hoverlabel\": {\"align\": \"left\"}, \"hovermode\": \"closest\", \"mapbox\": {\"style\": \"light\"}, \"paper_bgcolor\": \"white\", \"plot_bgcolor\": \"#E5ECF6\", \"polar\": {\"angularaxis\": {\"gridcolor\": \"white\", \"linecolor\": \"white\", \"ticks\": \"\"}, \"bgcolor\": \"#E5ECF6\", \"radialaxis\": {\"gridcolor\": \"white\", \"linecolor\": \"white\", \"ticks\": \"\"}}, \"scene\": {\"xaxis\": {\"backgroundcolor\": \"#E5ECF6\", \"gridcolor\": \"white\", \"gridwidth\": 2, \"linecolor\": \"white\", \"showbackground\": true, \"ticks\": \"\", \"zerolinecolor\": \"white\"}, \"yaxis\": {\"backgroundcolor\": \"#E5ECF6\", \"gridcolor\": \"white\", \"gridwidth\": 2, \"linecolor\": \"white\", \"showbackground\": true, \"ticks\": \"\", \"zerolinecolor\": \"white\"}, \"zaxis\": {\"backgroundcolor\": \"#E5ECF6\", \"gridcolor\": \"white\", \"gridwidth\": 2, \"linecolor\": \"white\", \"showbackground\": true, \"ticks\": \"\", \"zerolinecolor\": \"white\"}}, \"shapedefaults\": {\"line\": {\"color\": \"#2a3f5f\"}}, \"ternary\": {\"aaxis\": {\"gridcolor\": \"white\", \"linecolor\": \"white\", \"ticks\": \"\"}, \"baxis\": {\"gridcolor\": \"white\", \"linecolor\": \"white\", \"ticks\": \"\"}, \"bgcolor\": \"#E5ECF6\", \"caxis\": {\"gridcolor\": \"white\", \"linecolor\": \"white\", \"ticks\": \"\"}}, \"title\": {\"x\": 0.05}, \"xaxis\": {\"automargin\": true, \"gridcolor\": \"white\", \"linecolor\": \"white\", \"ticks\": \"\", \"zerolinecolor\": \"white\", \"zerolinewidth\": 2}, \"yaxis\": {\"automargin\": true, \"gridcolor\": \"white\", \"linecolor\": \"white\", \"ticks\": \"\", \"zerolinecolor\": \"white\", \"zerolinewidth\": 2}}}, \"xaxis\": {\"title\": {\"text\": \"Iteration #\"}}, \"yaxis\": {\"title\": {\"text\": \"Loss\"}}},\n",
       "                        {\"responsive\": true}\n",
       "                    ).then(function(){\n",
       "                            \n",
       "var gd = document.getElementById('63dcfc0b-1f46-4e08-820f-25b200339843');\n",
       "var x = new MutationObserver(function (mutations, observer) {{\n",
       "        var display = window.getComputedStyle(gd).display;\n",
       "        if (!display || display === 'none') {{\n",
       "            console.log([gd, 'removed!']);\n",
       "            Plotly.purge(gd);\n",
       "            observer.disconnect();\n",
       "        }}\n",
       "}});\n",
       "\n",
       "// Listen for the removal of the full notebook cells\n",
       "var notebookContainer = gd.closest('#notebook-container');\n",
       "if (notebookContainer) {{\n",
       "    x.observe(notebookContainer, {childList: true});\n",
       "}}\n",
       "\n",
       "// Listen for the clearing of the current output cell\n",
       "var outputEl = gd.closest('.output');\n",
       "if (outputEl) {{\n",
       "    x.observe(outputEl, {childList: true});\n",
       "}}\n",
       "\n",
       "                        })\n",
       "                };\n",
       "                });\n",
       "            </script>\n",
       "        </div>"
      ]
     },
     "metadata": {},
     "output_type": "display_data"
    }
   ],
   "source": [
    "fig = go.Figure() # plotly reference: https://plot.ly/python/line-charts/\n",
    "fig.add_trace(go.Scatter(x=np.arange(len(losses)), y=losses,\n",
    "                    mode='lines',\n",
    "                    name='lines'))\n",
    "# Edit the layout\n",
    "fig.update_layout(yaxis_title='Loss',\n",
    "                   xaxis_title='Iteration #')"
   ]
  },
  {
   "cell_type": "code",
   "execution_count": 61,
   "metadata": {},
   "outputs": [
    {
     "data": {
      "text/plain": [
       "(tensor([[-4.4372, -3.1456, -3.3804,  ..., -0.6187, -1.1672,  1.9753],\n",
       "         [-9.5478,  8.6213,  7.7318,  ..., -0.3889, -1.0441,  2.0410],\n",
       "         [-6.0651,  9.1495,  6.2013,  ..., -0.5222, -1.5329, -0.0343],\n",
       "         ...,\n",
       "         [ 7.3518, -2.8517, -8.9734,  ...,  0.3534, -1.4855,  4.2785],\n",
       "         [ 8.5807,  9.2392, -7.0568,  ..., -2.2862, -1.3748,  0.4628],\n",
       "         [ 7.8029,  9.4373,  7.8759,  ..., -1.2467, -0.8323,  0.7821]],\n",
       "        grad_fn=<AddBackward0>),\n",
       " tensor([201.6633, 200.6397, 204.6457, 209.5813, 211.2753, 201.6770, 202.0795,\n",
       "         206.6251, 209.1360, 196.6290, 206.0660, 199.6956, 207.1976, 205.5970,\n",
       "         206.9928, 204.0737, 196.7374, 201.1887, 199.1103, 204.3058, 199.3554,\n",
       "         205.6327, 206.6482, 204.1237, 200.7200, 202.4378, 210.8189, 208.9752,\n",
       "         204.5013, 203.6100, 208.5066, 201.7889, 212.9533, 209.8856, 203.1792,\n",
       "         206.5946, 207.8216, 204.9010, 197.1725, 204.4120, 202.2392, 205.5128,\n",
       "         204.6386, 203.7855, 200.6258, 208.9647, 207.3778, 212.0003, 200.2639,\n",
       "         202.4686, 196.8741, 201.3545, 204.9393, 206.9716, 213.3547, 203.9603,\n",
       "         203.7104, 205.0150, 200.7574, 206.9586, 208.8271, 200.2495, 208.4148,\n",
       "         206.7924, 204.4335, 201.2521, 209.3317, 207.6152, 212.5516, 206.3140,\n",
       "         199.2074, 211.2732, 206.0811, 209.9576, 205.4813, 207.5118, 199.9678,\n",
       "         208.1079, 202.4718, 203.1598, 202.2146, 204.3367, 204.6532, 208.3872,\n",
       "         204.3098, 207.5662, 206.0730, 205.7983, 214.3248, 208.7701, 207.8545,\n",
       "         206.0530, 210.7545, 207.4485, 205.5334, 199.3717, 205.8308, 205.6951,\n",
       "         206.1540, 213.6644], grad_fn=<SubBackward0>))"
      ]
     },
     "execution_count": 61,
     "metadata": {},
     "output_type": "execute_result"
    }
   ],
   "source": [
    "network.f(training_set)"
   ]
  }
 ],
 "metadata": {
  "@webio": {
   "lastCommId": null,
   "lastKernelId": null
  },
  "kernelspec": {
   "display_name": "Python 3",
   "language": "python",
   "name": "python3"
  },
  "language_info": {
   "codemirror_mode": {
    "name": "ipython",
    "version": 3
   },
   "file_extension": ".py",
   "mimetype": "text/x-python",
   "name": "python",
   "nbconvert_exporter": "python",
   "pygments_lexer": "ipython3",
   "version": "3.7.4"
  }
 },
 "nbformat": 4,
 "nbformat_minor": 2
}
