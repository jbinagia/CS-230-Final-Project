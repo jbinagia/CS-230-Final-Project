{
 "cells": [
  {
   "cell_type": "markdown",
   "metadata": {},
   "source": [
    "# To-do \n",
    "- Debug Metropolis Monte Carlo step during training by energy so we can sample low-energy states efficiently. \n",
    "- Generally optimize methods in net.py (several redundant calls) \n",
    "- (quick and easy) generalize energy functions (they need to expect PyTorch tensors instead of numpy arrays). So for example every `np.sum()` should be `torch.sum()`, etc. "
   ]
  },
  {
   "cell_type": "markdown",
   "metadata": {},
   "source": [
    "# Setup"
   ]
  },
  {
   "cell_type": "code",
   "execution_count": 26,
   "metadata": {},
   "outputs": [
    {
     "name": "stdout",
     "output_type": "stream",
     "text": [
      "The autoreload extension is already loaded. To reload it, use:\n",
      "  %reload_ext autoreload\n"
     ]
    }
   ],
   "source": [
    "import os\n",
    "import sys\n",
    "sys.path.insert(0, os.path.join(os.getcwd(), \"..\"))\n",
    "\n",
    "import torch\n",
    "from torch import distributions\n",
    "from torch import nn\n",
    "from torch.utils import data\n",
    "from sklearn import datasets\n",
    "\n",
    "import random\n",
    "import numpy as np\n",
    "import matplotlib.pyplot as plt\n",
    "import plotly.graph_objects as go\n",
    "import plotly.express as px\n",
    "%matplotlib inline\n",
    "%load_ext autoreload\n",
    "%autoreload 2 # Reload all modules every time before executing the Python code typed."
   ]
  },
  {
   "cell_type": "code",
   "execution_count": 27,
   "metadata": {
    "collapsed": true
   },
   "outputs": [],
   "source": []
  },
  {
   "cell_type": "code",
   "execution_count": 28,
   "metadata": {
    "collapsed": true
   },
   "outputs": [],
   "source": [
    "np.random.seed(0)\n",
    "torch.manual_seed(0)\n",
    "torch.cuda.manual_seed(0)\n",
    "random.seed(0)"
   ]
  },
  {
   "cell_type": "markdown",
   "metadata": {},
   "source": [
    "# Define Ising Model"
   ]
  },
  {
   "cell_type": "code",
   "execution_count": 53,
   "metadata": {},
   "outputs": [
    {
     "name": "stdout",
     "output_type": "stream",
     "text": [
      "CPU times: user 336 µs, sys: 0 ns, total: 336 µs\n",
      "Wall time: 339 µs\n"
     ]
    },
    {
     "data": {
      "text/plain": [
       "0.0625"
      ]
     },
     "execution_count": 53,
     "metadata": {},
     "output_type": "execute_result"
    },
    {
     "data": {
      "image/png": "[encoded data removed]",
      "text/plain": [
       "<matplotlib.figure.Figure at 0x7f926b05a6a0>"
      ]
     },
     "metadata": {},
     "output_type": "display_data"
    }
   ],
   "source": [
    "h = 0.0\n",
    "J = 0.8\n",
    "T = 1.0\n",
    "N = 8\n",
    "\n",
    "ising = IsingModel(h = h, J = J)\n",
    "x0 = ising.init_coords(N)\n",
    "ising.draw_config(x0)\n",
    "\n",
    "%time ising.energy(torch.from_numpy(x0)) # energy of a given configuration \n",
    "ising.oprm(x0) # calculate average magnetization "
   ]
  },
  {
   "cell_type": "markdown",
   "metadata": {},
   "source": [
    "## Create training set\n",
    "We'd like to have a $m$ x $N$ matrix containing our training data where $m$ is the number of realizations of the system and $N$ is the number of features (i.e. the flattened dimensions of the system). For example, a training set with 1000 samples of the Ising Model for $N=8$ would be of size (1000, 64). "
   ]
  },
  {
   "cell_type": "code",
   "execution_count": 47,
   "metadata": {
    "collapsed": true
   },
   "outputs": [],
   "source": [
    "num_samples = 12800 # Use 1000 at run-time as done in Noe et al. for the biwell potential \n",
    "flattened_size = N**2\n",
    "\n",
    "training_set = np.zeros((num_samples,flattened_size), dtype=np.float32)\n",
    "for i in range(num_samples):\n",
    "    training_set[i,:] = ising.init_coords(N).flatten() # generate random configuration \n",
    "training_set = torch.from_numpy(training_set) # convert to PyTorch tensor "
   ]
  },
  {
   "cell_type": "markdown",
   "metadata": {},
   "source": [
    "As an aside, note that although we flatten our configurations for training, the flattening procedure can easily be reversed via the `rehsape()` function: "
   ]
  },
  {
   "cell_type": "code",
   "execution_count": 48,
   "metadata": {
    "scrolled": true
   },
   "outputs": [
    {
     "data": {
      "text/plain": [
       "array([[-1, -1, -1,  1, -1,  1,  1,  1],\n",
       "       [ 1, -1, -1,  1, -1,  1, -1,  1],\n",
       "       [ 1, -1,  1,  1, -1, -1,  1, -1],\n",
       "       [-1,  1, -1, -1, -1, -1, -1,  1],\n",
       "       [-1, -1, -1, -1, -1,  1,  1,  1],\n",
       "       [-1,  1,  1,  1, -1,  1,  1,  1],\n",
       "       [ 1, -1,  1, -1,  1, -1, -1, -1],\n",
       "       [-1, -1, -1, -1,  1, -1, -1, -1]])"
      ]
     },
     "execution_count": 48,
     "metadata": {},
     "output_type": "execute_result"
    }
   ],
   "source": [
    "np.array(x0)"
   ]
  },
  {
   "cell_type": "code",
   "execution_count": 49,
   "metadata": {
    "scrolled": true
   },
   "outputs": [
    {
     "data": {
      "text/plain": [
       "array([[-1, -1, -1,  1, -1,  1,  1,  1],\n",
       "       [ 1, -1, -1,  1, -1,  1, -1,  1],\n",
       "       [ 1, -1,  1,  1, -1, -1,  1, -1],\n",
       "       [-1,  1, -1, -1, -1, -1, -1,  1],\n",
       "       [-1, -1, -1, -1, -1,  1,  1,  1],\n",
       "       [-1,  1,  1,  1, -1,  1,  1,  1],\n",
       "       [ 1, -1,  1, -1,  1, -1, -1, -1],\n",
       "       [-1, -1, -1, -1,  1, -1, -1, -1]])"
      ]
     },
     "execution_count": 49,
     "metadata": {},
     "output_type": "execute_result"
    }
   ],
   "source": [
    "np.array(x0).flatten().reshape((N,N))"
   ]
  },
  {
   "cell_type": "markdown",
   "metadata": {},
   "source": [
    "## Histogram energies of training set"
   ]
  },
  {
   "cell_type": "markdown",
   "metadata": {},
   "source": [
    "Previously I was calculating energy as: "
   ]
  },
  {
   "cell_type": "code",
   "execution_count": 50,
   "metadata": {
    "scrolled": true
   },
   "outputs": [
    {
     "data": {
      "image/png": "[encoded data removed]",
      "text/plain": [
       "<matplotlib.figure.Figure at 0x7f92894096a0>"
      ]
     },
     "metadata": {},
     "output_type": "display_data"
    }
   ],
   "source": [
    "plt.hist(ising.energy_vec(training_set))\n",
    "plt.show()"
   ]
  },
  {
   "cell_type": "markdown",
   "metadata": {},
   "source": [
    "Which is clearly different from: "
   ]
  },
  {
   "cell_type": "code",
   "execution_count": 51,
   "metadata": {
    "scrolled": true
   },
   "outputs": [
    {
     "data": {
      "image/png": "[encoded data removed]",
      "text/plain": [
       "<matplotlib.figure.Figure at 0x7f926ad97358>"
      ]
     },
     "metadata": {},
     "output_type": "display_data"
    }
   ],
   "source": [
    "energies = []\n",
    "for i in range(training_set.shape[0]):\n",
    "    energies.append(ising.energy(training_set[i,:].reshape((N,N))))\n",
    "plt.hist(energies)\n",
    "plt.show()"
   ]
  },
  {
   "cell_type": "markdown",
   "metadata": {},
   "source": [
    "Histogram Boltzmann weights:"
   ]
  },
  {
   "cell_type": "code",
   "execution_count": 57,
   "metadata": {},
   "outputs": [
    {
     "data": {
      "image/png": "[encoded data removed]",
      "text/plain": [
       "<matplotlib.figure.Figure at 0x7f926b06d400>"
      ]
     },
     "metadata": {},
     "output_type": "display_data"
    }
   ],
   "source": [
    "# KH I added a temperature so the weights could be visualized\n",
    "weights = np.exp(-np.array(energies)/100)\n",
    "plt.hist(weights)\n",
    "plt.show()"
   ]
  },
  {
   "cell_type": "markdown",
   "metadata": {},
   "source": [
    "# Boltzmann generator\n",
    "## Define network architecture \n",
    "In the following we use 3 hidden layers for the translation and scaling networks and a total of four stacked RealNVP blocks (as defined by `masks`). "
   ]
  },
  {
   "cell_type": "code",
   "execution_count": 60,
   "metadata": {
    "collapsed": true
   },
   "outputs": [],
   "source": [
    "n_hidden = 100 # number of hidden layers\n",
    "nets = lambda: nn.Sequential(nn.Linear(N**2, n_hidden), nn.Tanh(), nn.Linear(n_hidden, n_hidden), nn.Tanh(), nn.Linear(n_hidden, N**2), nn.Tanh()) # net s\n",
    "nett = lambda: nn.Sequential(nn.Linear(N**2, n_hidden), nn.ReLU(), nn.Linear(n_hidden, n_hidden), nn.ReLU(), nn.Linear(n_hidden, N**2)) # net t\n",
    "\n",
    "first_mask = np.array(np.concatenate((np.ones(round(N**2/2)), np.zeros(round(N**2/2)))))\n",
    "masks_np = np.stack(\n",
    "                    ( first_mask, np.flip(first_mask, axis=0),\n",
    "                      first_mask, np.flip(first_mask, axis=0),\n",
    "                      first_mask, np.flip(first_mask, axis=0),\n",
    "                      first_mask, np.flip(first_mask, axis=0) )\n",
    "                   ) \n",
    "masks = torch.from_numpy(masks_np.astype(np.float32))\n",
    "\n",
    "prior = distributions.MultivariateNormal(torch.zeros(N**2), torch.eye(N**2))      # so we have a total of 3 neural blocks (see fig. 1 of boltzmann generators paper)\n",
    "network = net.RealNVP(nets, nett, masks, prior, ising, x0.shape)\n",
    "\n",
    "# network.system.energy(network.g(training_set)) # energy functions need to be rewritten with PyTorch tensors in mind"
   ]
  },
  {
   "cell_type": "markdown",
   "metadata": {},
   "source": [
    "Note that $\\log R_{xz} = - \\log R_{zx}$, as demonstrated below: "
   ]
  },
  {
   "cell_type": "code",
   "execution_count": 61,
   "metadata": {
    "scrolled": true
   },
   "outputs": [
    {
     "name": "stdout",
     "output_type": "stream",
     "text": [
      "tensor([1.1162], grad_fn=<AddBackward0>)\n",
      "tensor([-1.1162], grad_fn=<SubBackward0>)\n"
     ]
    }
   ],
   "source": [
    "z, log_Rxz = network.f(training_set[0:1,:])\n",
    "x, log_Rzx = network.g(z)\n",
    "print(log_Rzx)\n",
    "print(log_Rxz)"
   ]
  },
  {
   "cell_type": "markdown",
   "metadata": {},
   "source": [
    "Energies can not be calculated via the `calculate_energy()` method of the network. "
   ]
  },
  {
   "cell_type": "code",
   "execution_count": 62,
   "metadata": {
    "scrolled": true
   },
   "outputs": [
    {
     "data": {
      "image/png": "[encoded data removed]",
      "text/plain": [
       "<matplotlib.figure.Figure at 0x7f92894d6d68>"
      ]
     },
     "metadata": {},
     "output_type": "display_data"
    }
   ],
   "source": [
    "plt.hist(network.calculate_energy(training_set))\n",
    "plt.show()"
   ]
  },
  {
   "cell_type": "markdown",
   "metadata": {},
   "source": [
    "We can calculate the average energy using the Boltzmann weights as: "
   ]
  },
  {
   "cell_type": "code",
   "execution_count": 63,
   "metadata": {},
   "outputs": [
    {
     "data": {
      "text/plain": [
       "tensor(-38.3434)"
      ]
     },
     "execution_count": 63,
     "metadata": {},
     "output_type": "execute_result"
    }
   ],
   "source": [
    "network.expected_value(network.calculate_energy(training_set), training_set)"
   ]
  },
  {
   "cell_type": "markdown",
   "metadata": {},
   "source": [
    "## Train model \n",
    "The training schedule accordingly the main text of Noe et al. is as follows: \n",
    "- Begin with a buffer of 10,000 real space configurations \n",
    "- Train by example, minimizing $J_{ML}$, using a batch size of 128 for 20 iterations (JB: so not even one full epoch?)\n",
    "- Switch to batch size of 1000 and for each batch (iteration) we now perform a Metropolis Monte Carlo step in latent space for each sample in the given batch. \n",
    "\n",
    "### Train by example first\n",
    "Minimizing $J_{ML}$."
   ]
  },
  {
   "cell_type": "code",
   "execution_count": null,
   "metadata": {
    "scrolled": true
   },
   "outputs": [
    {
     "name": "stdout",
     "output_type": "stream",
     "text": [
      "iter 100: loss = -7.019\n",
      "iter 200: loss = -28.649\n",
      "iter 300: loss = -32.306\n",
      "iter 400: loss = -33.711\n",
      "iter 500: loss = -34.739\n",
      "iter 600: loss = -35.531\n",
      "iter 700: loss = -36.169\n",
      "iter 800: loss = -36.741\n",
      "iter 900: loss = -37.226\n",
      "iter 1000: loss = -37.749\n",
      "iter 1100: loss = -38.240\n",
      "iter 1200: loss = -38.728\n",
      "iter 1300: loss = -39.190\n",
      "iter 1400: loss = -39.712\n",
      "iter 1500: loss = -39.988\n",
      "iter 1600: loss = -40.998\n",
      "iter 1700: loss = -41.413\n",
      "iter 1800: loss = -42.038\n",
      "iter 1900: loss = -42.704\n",
      "iter 2000: loss = -43.114\n",
      "iter 2100: loss = -44.401\n",
      "iter 2200: loss = -44.308\n",
      "iter 2300: loss = -44.816\n",
      "iter 2400: loss = -45.664\n",
      "iter 2500: loss = -46.279\n",
      "iter 2600: loss = -47.310\n",
      "iter 2700: loss = -49.106\n",
      "iter 2800: loss = -49.383\n",
      "iter 2900: loss = -50.517\n",
      "iter 3000: loss = -49.875\n",
      "iter 3100: loss = -51.652\n",
      "iter 3200: loss = -51.477\n",
      "iter 3300: loss = -53.279\n",
      "iter 3400: loss = -54.120\n",
      "iter 3500: loss = -55.063\n",
      "iter 3600: loss = -56.216\n",
      "iter 3700: loss = -55.933\n",
      "iter 3800: loss = -56.397\n",
      "iter 3900: loss = -57.083\n",
      "iter 4000: loss = -58.287\n",
      "iter 4100: loss = -58.580\n",
      "iter 4200: loss = -60.251\n",
      "iter 4300: loss = -60.877\n",
      "iter 4400: loss = -59.522\n",
      "iter 4500: loss = -63.398\n",
      "iter 4600: loss = -63.532\n",
      "iter 4700: loss = -64.823\n",
      "iter 4800: loss = -65.292\n",
      "iter 4900: loss = -64.566\n",
      "iter 5000: loss = -65.585\n",
      "iter 5100: loss = -66.031\n",
      "iter 5200: loss = -68.371\n",
      "iter 5300: loss = -68.225\n",
      "iter 5400: loss = -67.270\n",
      "iter 5500: loss = -65.654\n",
      "iter 5600: loss = -68.541\n",
      "iter 5700: loss = -69.440\n",
      "iter 5800: loss = -71.019\n",
      "iter 5900: loss = -69.476\n",
      "iter 6000: loss = -72.094\n",
      "iter 6100: loss = -70.958\n",
      "iter 6200: loss = -72.246\n",
      "iter 6300: loss = -72.572\n",
      "iter 6400: loss = -72.594\n",
      "iter 6500: loss = -73.235\n",
      "iter 6600: loss = -71.508\n",
      "iter 6700: loss = -73.094\n",
      "iter 6800: loss = -71.457\n",
      "iter 6900: loss = -73.833\n",
      "iter 7000: loss = -74.910\n",
      "iter 7100: loss = -72.351\n",
      "iter 7200: loss = -74.066\n",
      "iter 7300: loss = -73.483\n",
      "iter 7400: loss = -76.081\n",
      "iter 7500: loss = -75.425\n",
      "iter 7600: loss = -72.991\n",
      "iter 7700: loss = -74.988\n",
      "iter 7800: loss = -75.225\n",
      "iter 7900: loss = -73.244\n",
      "iter 8000: loss = -75.131\n",
      "iter 8100: loss = -74.530\n",
      "iter 8200: loss = -74.485\n",
      "iter 8300: loss = -75.833\n",
      "iter 8400: loss = -78.271\n",
      "iter 8500: loss = -78.058\n",
      "iter 8600: loss = -75.021\n",
      "iter 8700: loss = -77.859\n",
      "iter 8800: loss = -79.066\n",
      "iter 8900: loss = -76.007\n",
      "iter 9000: loss = -78.973\n",
      "iter 9100: loss = -76.882\n",
      "iter 9200: loss = -79.198\n",
      "iter 9300: loss = -78.810\n",
      "iter 9400: loss = -78.456\n",
      "iter 9500: loss = -77.474\n",
      "iter 9600: loss = -79.798\n",
      "iter 9700: loss = -80.884\n",
      "iter 9800: loss = -77.108\n",
      "iter 9900: loss = -74.705\n",
      "iter 10000: loss = -76.921\n",
      "iter 10100: loss = -81.723\n",
      "iter 10200: loss = -80.125\n",
      "iter 10300: loss = -79.790\n",
      "iter 10400: loss = -79.900\n",
      "iter 10500: loss = -80.038\n",
      "iter 10600: loss = -81.607\n",
      "iter 10700: loss = -81.537\n",
      "iter 10800: loss = -77.211\n",
      "iter 10900: loss = -81.779\n",
      "iter 11000: loss = -82.378\n",
      "iter 11100: loss = -80.404\n",
      "iter 11200: loss = -80.706\n",
      "iter 11300: loss = -81.148\n",
      "iter 11400: loss = -82.128\n",
      "iter 11500: loss = -80.667\n",
      "iter 11600: loss = -84.270\n",
      "iter 11700: loss = -81.890\n",
      "iter 11800: loss = -83.253\n",
      "iter 11900: loss = -79.900\n",
      "iter 12000: loss = -79.861\n",
      "iter 12100: loss = -80.235\n",
      "iter 12200: loss = -81.506\n",
      "iter 12300: loss = -83.112\n",
      "iter 12400: loss = -82.650\n",
      "iter 12500: loss = -79.582\n",
      "iter 12600: loss = -81.649\n",
      "iter 12700: loss = -85.060\n",
      "iter 12800: loss = -84.450\n",
      "iter 12900: loss = -82.332\n",
      "iter 13000: loss = -79.607\n",
      "iter 13100: loss = -82.512\n",
      "iter 13200: loss = -79.892\n",
      "iter 13300: loss = -84.848\n",
      "iter 13400: loss = -79.584\n",
      "iter 13500: loss = -84.286\n",
      "iter 13600: loss = -82.124\n",
      "iter 13700: loss = -85.353\n",
      "iter 13800: loss = -83.682\n",
      "iter 13900: loss = -83.780\n",
      "iter 14000: loss = -84.466\n",
      "iter 14100: loss = -84.505\n",
      "iter 14200: loss = -82.744\n",
      "iter 14300: loss = -83.973\n",
      "iter 14400: loss = -85.413\n",
      "iter 14500: loss = -84.859\n",
      "iter 14600: loss = -87.206\n",
      "iter 14700: loss = -85.655\n",
      "iter 14800: loss = -87.248\n",
      "iter 14900: loss = -85.641\n",
      "iter 15000: loss = -87.333\n",
      "iter 15100: loss = -86.918\n",
      "iter 15200: loss = -88.792\n",
      "iter 15300: loss = -84.537\n",
      "iter 15400: loss = -85.636\n",
      "iter 15500: loss = -86.129\n",
      "iter 15600: loss = -87.048\n",
      "iter 15700: loss = -87.220\n",
      "iter 15800: loss = -87.010\n",
      "iter 15900: loss = -88.404\n",
      "iter 16000: loss = -86.387\n",
      "iter 16100: loss = -85.716\n",
      "iter 16200: loss = -82.581\n",
      "iter 16300: loss = -82.582\n",
      "iter 16400: loss = -87.168\n",
      "iter 16500: loss = -87.214\n",
      "iter 16600: loss = -87.087\n",
      "iter 16700: loss = -88.546\n",
      "iter 16800: loss = -89.838\n",
      "iter 16900: loss = -87.182\n",
      "iter 17000: loss = -88.898\n",
      "iter 17100: loss = -86.357\n",
      "iter 17200: loss = -86.679\n",
      "iter 17300: loss = -83.807\n",
      "iter 17400: loss = -89.584\n",
      "iter 17500: loss = -88.478\n",
      "iter 17600: loss = -89.372\n",
      "iter 17700: loss = -88.623\n",
      "iter 17800: loss = -86.184\n",
      "iter 17900: loss = -86.280\n",
      "iter 18000: loss = -87.751\n",
      "iter 18100: loss = -90.434\n",
      "iter 18200: loss = -88.873\n",
      "iter 18300: loss = -87.764\n",
      "iter 18400: loss = -89.195\n",
      "iter 18500: loss = -87.084\n",
      "iter 18600: loss = -90.103\n",
      "iter 18700: loss = -88.054\n",
      "iter 18800: loss = -86.525\n",
      "iter 18900: loss = -90.648\n",
      "iter 19000: loss = -89.012\n",
      "iter 19100: loss = -89.996\n",
      "iter 19200: loss = -88.603\n",
      "iter 19300: loss = -88.202\n",
      "iter 19400: loss = -88.042\n",
      "iter 19500: loss = -86.781\n",
      "iter 19600: loss = -87.841\n",
      "iter 19700: loss = -91.323\n",
      "iter 19800: loss = -89.458\n",
      "iter 19900: loss = -87.872\n",
      "iter 20000: loss = -88.262\n",
      "iter 20100: loss = -91.201\n",
      "iter 20200: loss = -90.234\n",
      "iter 20300: loss = -92.237\n",
      "iter 20400: loss = -89.147\n",
      "iter 20500: loss = -90.182\n",
      "iter 20600: loss = -87.248\n",
      "iter 20700: loss = -89.703\n",
      "iter 20800: loss = -88.369\n",
      "iter 20900: loss = -92.184\n",
      "iter 21000: loss = -88.504\n",
      "iter 21100: loss = -89.456\n",
      "iter 21200: loss = -88.454\n",
      "iter 21300: loss = -90.300\n",
      "iter 21400: loss = -92.176\n",
      "iter 21500: loss = -93.426\n",
      "iter 21600: loss = -90.679\n",
      "iter 21700: loss = -88.391\n",
      "iter 21800: loss = -90.966\n",
      "iter 21900: loss = -93.520\n",
      "iter 22000: loss = -91.823\n",
      "iter 22100: loss = -91.005\n",
      "iter 22200: loss = -91.035\n",
      "iter 22300: loss = -92.773\n",
      "iter 22400: loss = -88.455\n",
      "iter 22500: loss = -89.398\n",
      "iter 22600: loss = -90.845\n",
      "iter 22700: loss = -92.848\n",
      "iter 22800: loss = -93.833\n",
      "iter 22900: loss = -92.122\n",
      "iter 23000: loss = -93.831\n",
      "iter 23100: loss = -92.780\n",
      "iter 23200: loss = -92.115\n",
      "iter 23300: loss = -92.613\n",
      "iter 23400: loss = -95.029\n",
      "iter 23500: loss = -92.085\n",
      "iter 23600: loss = -91.287\n",
      "iter 23700: loss = -92.879\n",
      "iter 23800: loss = -93.899\n",
      "iter 23900: loss = -92.245\n",
      "iter 24000: loss = -91.299\n",
      "iter 24100: loss = -88.037\n",
      "iter 24200: loss = -87.031\n",
      "iter 24300: loss = -87.600\n",
      "iter 24400: loss = -94.162\n",
      "iter 24500: loss = -94.501\n",
      "iter 24600: loss = -94.970\n",
      "iter 24700: loss = -91.515\n",
      "iter 24800: loss = -92.025\n",
      "iter 24900: loss = -83.694\n",
      "iter 25000: loss = -71.499\n",
      "iter 25100: loss = -87.578\n",
      "iter 25200: loss = -86.592\n",
      "iter 25300: loss = -92.919\n",
      "iter 25400: loss = -91.426\n",
      "iter 25500: loss = -95.493\n",
      "iter 25600: loss = -93.831\n",
      "iter 25700: loss = -93.483\n",
      "iter 25800: loss = -95.965\n",
      "iter 25900: loss = -95.333\n",
      "iter 26000: loss = -94.874\n",
      "iter 26100: loss = -88.928\n",
      "iter 26200: loss = -91.619\n",
      "iter 26300: loss = -93.250\n",
      "iter 26400: loss = -90.460\n",
      "iter 26500: loss = -94.886\n",
      "iter 26600: loss = -94.768\n",
      "iter 26700: loss = -94.445\n",
      "iter 26800: loss = -94.450\n",
      "iter 26900: loss = -95.709\n",
      "iter 27000: loss = -93.697\n",
      "iter 27100: loss = -95.553\n",
      "iter 27200: loss = -95.790\n",
      "iter 27300: loss = -94.334\n",
      "iter 27400: loss = -95.627\n",
      "iter 27500: loss = -95.833\n",
      "iter 27600: loss = -94.407\n",
      "iter 27700: loss = -94.137\n",
      "iter 27800: loss = -94.292\n",
      "iter 27900: loss = -94.523\n",
      "iter 28000: loss = -86.752\n",
      "iter 28100: loss = -94.087\n",
      "iter 28200: loss = -93.391\n",
      "iter 28300: loss = -93.118\n",
      "iter 28400: loss = -96.536\n",
      "iter 28500: loss = -96.192\n",
      "iter 28600: loss = -96.657\n",
      "iter 28700: loss = -93.468\n",
      "iter 28800: loss = -97.146\n",
      "iter 28900: loss = -97.411\n",
      "iter 29000: loss = -95.146\n",
      "iter 29100: loss = -94.878\n",
      "iter 29200: loss = -97.174\n",
      "iter 29300: loss = -92.667\n",
      "iter 29400: loss = -90.223\n",
      "iter 29500: loss = -97.038\n",
      "iter 29600: loss = -96.010\n",
      "iter 29700: loss = -97.322\n",
      "iter 29800: loss = -97.590\n",
      "iter 29900: loss = -89.923\n",
      "iter 30000: loss = -79.974\n"
     ]
    }
   ],
   "source": [
    "optimizer = torch.optim.Adam([p for p in network.parameters() if p.requires_grad==True], lr=1e-4)\n",
    "trainloader = data.DataLoader(dataset=training_set, batch_size=128)\n",
    "\n",
    "losses = []\n",
    "avg_energy = []\n",
    "t = 0 \n",
    "for epoch in range(300):\n",
    "    for batch in trainloader:  \n",
    "        z, log_det_J = network.f(batch)\n",
    "              \n",
    "        loss = network.loss_ml(batch)\n",
    "        losses.append(loss.item()) # save values for plotting later \n",
    "        \n",
    "        avg_energy.append(network.expected_value(network.energies, training_set))\n",
    "\n",
    "        optimizer.zero_grad() # we need to set the gradients to zero before starting to do \n",
    "                              # backpropragation because PyTorch accumulates the gradients on \n",
    "                              # subsequent backward passes.\n",
    "        loss.backward(retain_graph=True)\n",
    "        optimizer.step()\n",
    "        t = t + 1 # iteration count\n",
    "\n",
    "        if t % 100 == 0:\n",
    "            print('iter %s:' % t, 'loss = %.3f' % loss)"
   ]
  },
  {
   "cell_type": "markdown",
   "metadata": {},
   "source": [
    "### Next train by both example and by energy \n",
    "Minimizing linear combination of $J_{ML}$ and $J_{KL}$."
   ]
  },
  {
   "cell_type": "code",
   "execution_count": null,
   "metadata": {
    "scrolled": true
   },
   "outputs": [
    {
     "name": "stdout",
     "output_type": "stream",
     "text": [
      "iter 100: loss = 49.136\n",
      "iter 200: loss = -5.507\n",
      "iter 300: loss = -45.883\n",
      "iter 400: loss = -69.317\n",
      "iter 500: loss = -97.285\n",
      "iter 600: loss = -112.007\n",
      "iter 700: loss = -119.569\n",
      "iter 800: loss = -122.931\n",
      "iter 900: loss = -125.471\n",
      "iter 1000: loss = -128.172\n",
      "iter 1100: loss = -131.148\n",
      "iter 1200: loss = -134.297\n",
      "iter 1300: loss = -137.528\n",
      "iter 1400: loss = -140.794\n",
      "iter 1500: loss = -144.054\n",
      "iter 1600: loss = -147.040\n",
      "iter 1700: loss = -149.371\n",
      "iter 1800: loss = -150.939\n",
      "iter 1900: loss = -151.917\n",
      "iter 2000: loss = -152.547\n",
      "iter 2100: loss = -153.007\n",
      "iter 2200: loss = -153.397\n",
      "iter 2300: loss = -153.766\n",
      "iter 2400: loss = -154.132\n",
      "iter 2500: loss = -154.491\n",
      "iter 2600: loss = -154.828\n",
      "iter 2700: loss = -155.121\n",
      "iter 2800: loss = -155.344\n",
      "iter 2900: loss = -155.499\n",
      "iter 3000: loss = -155.610\n",
      "iter 3100: loss = -155.693\n",
      "iter 3200: loss = -155.760\n",
      "iter 3300: loss = -155.817\n",
      "iter 3400: loss = -155.866\n",
      "iter 3500: loss = -155.910\n",
      "iter 3600: loss = -155.950\n",
      "iter 3700: loss = -155.987\n",
      "iter 3800: loss = -156.021\n",
      "iter 3900: loss = -156.055\n",
      "iter 4000: loss = -156.086\n",
      "iter 4100: loss = -156.117\n",
      "iter 4200: loss = -156.146\n",
      "iter 4300: loss = -156.175\n",
      "iter 4400: loss = -156.203\n",
      "iter 4500: loss = -156.230\n",
      "iter 4600: loss = -156.257\n",
      "iter 4700: loss = -156.283\n",
      "iter 4800: loss = -156.309\n",
      "iter 4900: loss = -156.334\n",
      "iter 5000: loss = -156.360\n",
      "iter 5100: loss = -156.385\n",
      "iter 5200: loss = -156.409\n",
      "iter 5300: loss = -156.434\n",
      "iter 5400: loss = -156.458\n",
      "iter 5500: loss = -156.483\n",
      "iter 5600: loss = -156.508\n",
      "iter 5700: loss = -156.533\n",
      "iter 5800: loss = -156.558\n",
      "iter 5900: loss = -156.583\n",
      "iter 6000: loss = -156.608\n",
      "iter 6100: loss = -156.631\n",
      "iter 6200: loss = -156.652\n",
      "iter 6300: loss = -156.670\n",
      "iter 6400: loss = -156.683\n",
      "iter 6500: loss = -156.693\n",
      "iter 6600: loss = -156.699\n",
      "iter 6700: loss = -156.703\n",
      "iter 6800: loss = -156.707\n",
      "iter 6900: loss = -156.709\n",
      "iter 7000: loss = -156.711\n",
      "iter 7100: loss = -156.713\n",
      "iter 7200: loss = -156.714\n",
      "iter 7300: loss = -156.715\n",
      "iter 7400: loss = -156.717\n",
      "iter 7500: loss = -156.718\n",
      "iter 7600: loss = -156.719\n",
      "iter 7700: loss = -156.720\n",
      "iter 7800: loss = -156.720\n",
      "iter 7900: loss = -156.721\n",
      "iter 8000: loss = -156.722\n",
      "iter 8100: loss = -156.723\n",
      "iter 8200: loss = -156.723\n",
      "iter 8300: loss = -156.724\n",
      "iter 8400: loss = -156.724\n",
      "iter 8500: loss = -156.725\n",
      "iter 8600: loss = -156.725\n",
      "iter 8700: loss = -156.726\n",
      "iter 8800: loss = -156.726\n",
      "iter 8900: loss = -156.727\n",
      "iter 9000: loss = -156.727\n",
      "iter 9100: loss = -156.727\n",
      "iter 9200: loss = -156.728\n",
      "iter 9300: loss = -156.728\n",
      "iter 9400: loss = -156.729\n",
      "iter 9500: loss = -156.729\n",
      "iter 9600: loss = -156.730\n",
      "iter 9700: loss = -156.730\n",
      "iter 9800: loss = -156.730\n",
      "iter 9900: loss = -156.731\n",
      "iter 10000: loss = -156.731\n",
      "iter 10100: loss = -156.731\n",
      "iter 10200: loss = -156.732\n",
      "iter 10300: loss = -156.732\n",
      "iter 10400: loss = -156.732\n",
      "iter 10500: loss = -156.733\n",
      "iter 10600: loss = -156.733\n",
      "iter 10700: loss = -156.733\n",
      "iter 10800: loss = -156.734\n",
      "iter 10900: loss = -156.734\n",
      "iter 11000: loss = -156.735\n",
      "iter 11100: loss = -156.735\n",
      "iter 11200: loss = -156.735\n",
      "iter 11300: loss = -156.736\n",
      "iter 11400: loss = -156.736\n",
      "iter 11500: loss = -156.736\n",
      "iter 11600: loss = -156.737\n",
      "iter 11700: loss = -156.737\n",
      "iter 11800: loss = -156.738\n",
      "iter 11900: loss = -156.738\n",
      "iter 12000: loss = -156.738\n",
      "iter 12100: loss = -156.739\n",
      "iter 12200: loss = -156.739\n",
      "iter 12300: loss = -156.739\n",
      "iter 12400: loss = -156.740\n",
      "iter 12500: loss = -156.740\n",
      "iter 12600: loss = -156.740\n",
      "iter 12700: loss = -156.740\n",
      "iter 12800: loss = -156.741\n",
      "iter 12900: loss = -156.741\n",
      "iter 13000: loss = -156.741\n",
      "iter 13100: loss = -156.742\n",
      "iter 13200: loss = -156.742\n",
      "iter 13300: loss = -156.742\n",
      "iter 13400: loss = -156.743\n",
      "iter 13500: loss = -156.743\n",
      "iter 13600: loss = -156.743\n",
      "iter 13700: loss = -156.743\n",
      "iter 13800: loss = -156.744\n",
      "iter 13900: loss = -156.744\n",
      "iter 14000: loss = -156.744\n",
      "iter 14100: loss = -156.745\n",
      "iter 14200: loss = -156.745\n",
      "iter 14300: loss = -156.745\n",
      "iter 14400: loss = -156.745\n",
      "iter 14500: loss = -156.746\n",
      "iter 14600: loss = -156.746\n",
      "iter 14700: loss = -156.746\n",
      "iter 14800: loss = -156.747\n",
      "iter 14900: loss = -156.747\n",
      "iter 15000: loss = -156.747\n",
      "iter 15100: loss = -156.748\n",
      "iter 15200: loss = -156.748\n",
      "iter 15300: loss = -156.748\n",
      "iter 15400: loss = -156.749\n",
      "iter 15500: loss = -156.749\n",
      "iter 15600: loss = -156.749\n",
      "iter 15700: loss = -156.750\n",
      "iter 15800: loss = -156.750\n",
      "iter 15900: loss = -156.750\n",
      "iter 16000: loss = -156.751\n",
      "iter 16100: loss = -156.751\n",
      "iter 16200: loss = -156.751\n",
      "iter 16300: loss = -156.752\n",
      "iter 16400: loss = -156.752\n",
      "iter 16500: loss = -156.752\n",
      "iter 16600: loss = -156.753\n",
      "iter 16700: loss = -156.753\n",
      "iter 16800: loss = -156.753\n",
      "iter 16900: loss = -156.754\n",
      "iter 17000: loss = -156.754\n",
      "iter 17100: loss = -156.755\n",
      "iter 17200: loss = -156.755\n",
      "iter 17300: loss = -156.755\n",
      "iter 17400: loss = -156.756\n",
      "iter 17500: loss = -156.756\n",
      "iter 17600: loss = -156.756\n",
      "iter 17700: loss = -156.756\n",
      "iter 17800: loss = -156.757\n",
      "iter 17900: loss = -156.757\n",
      "iter 18000: loss = -156.757\n",
      "iter 18100: loss = -156.758\n",
      "iter 18200: loss = -156.758\n",
      "iter 18300: loss = -156.758\n",
      "iter 18400: loss = -156.758\n",
      "iter 18500: loss = -156.759\n",
      "iter 18600: loss = -156.759\n",
      "iter 18700: loss = -156.759\n",
      "iter 18800: loss = -156.759\n",
      "iter 18900: loss = -156.760\n",
      "iter 19000: loss = -156.760\n",
      "iter 19100: loss = -156.760\n",
      "iter 19200: loss = -156.761\n",
      "iter 19300: loss = -156.761\n",
      "iter 19400: loss = -156.761\n",
      "iter 19500: loss = -156.761\n",
      "iter 19600: loss = -156.761\n",
      "iter 19700: loss = -156.762\n",
      "iter 19800: loss = -156.762\n",
      "iter 19900: loss = -156.762\n",
      "iter 20000: loss = -156.762\n",
      "iter 20100: loss = -156.763\n",
      "iter 20200: loss = -156.763\n",
      "iter 20300: loss = -156.763\n",
      "iter 20400: loss = -156.764\n",
      "iter 20500: loss = -156.764\n",
      "iter 20600: loss = -156.764\n",
      "iter 20700: loss = -156.764\n",
      "iter 20800: loss = -156.765\n",
      "iter 20900: loss = -156.765\n",
      "iter 21000: loss = -156.765\n",
      "iter 21100: loss = -156.765\n",
      "iter 21200: loss = -156.765\n",
      "iter 21300: loss = -156.765\n",
      "iter 21400: loss = -156.765\n",
      "iter 21500: loss = -156.767\n",
      "iter 21600: loss = -156.768\n",
      "iter 21700: loss = -156.765\n"
     ]
    }
   ],
   "source": [
    "optimizer = torch.optim.Adam([p for p in network.parameters() if p.requires_grad==True], lr=1e-4)\n",
    "\n",
    "s = 0.1 # Metropolis Monte Carlo step size \n",
    "m = distributions.Uniform(torch.tensor([0.0]), torch.tensor([1.0])) # uniform distribution\n",
    "\n",
    "t = 0\n",
    "for epoch in range(500): \n",
    "    trainloader = data.DataLoader(dataset=training_set, batch_size=128)\n",
    "    for batch in trainloader:   \n",
    "\n",
    "        loss = network.loss_ml(batch) + network.loss_kl(batch)\n",
    "        losses.append(loss.item())\n",
    "        \n",
    "        avg_energy.append(network.expected_value(network.energies, training_set))\n",
    "\n",
    "        optimizer.zero_grad() # we need to set the gradients to zero before starting to do \n",
    "                              # backpropragation because PyTorch accumulates the gradients on \n",
    "                              # subsequent backward passes.\n",
    "        loss.backward(retain_graph=True)\n",
    "        optimizer.step()\n",
    "        t = t + 1 # iteration count\n",
    "\n",
    "        # Metropolis Monte Carlo step (almost completely vectorized) \n",
    "#         z, log_R_xz = network.f(batch)\n",
    "#         z_prop = z + s*prior.sample((z.shape[0],)) # proposed move in latent space\n",
    "#         x_prop, log_R_zx = network.g(z_prop) # corresponding position in real space\n",
    "        \n",
    "#         delta_E = torch.zeros_like(log_R_xz)\n",
    "#         for i in range(batch.shape[0]): # for each x in the batch \n",
    "#             delta_E[i] = ising.energy(x_prop[i,:].reshape((N,N))) - ising.energy(batch[i,:].reshape((N,N))) - log_R_zx[i] + log_R_xz[i]\n",
    "#         acceptance_ratio = torch.min(torch.ones(delta_E.shape), torch.exp(-delta_E))\n",
    "#         mask = torch.rand(acceptance_ratio.shape) <= acceptance_ratio\n",
    "        \n",
    "#         for i in range(batch.shape[0]): # for each x in the batch \n",
    "#             if mask[i]: # accept candidate \n",
    "#                 training_set[i,:] = x_prop[i,:]\n",
    "\n",
    "        if t % 100 == 0:\n",
    "            print('iter %s:' % t, 'loss = %.3f' % loss)"
   ]
  },
  {
   "cell_type": "markdown",
   "metadata": {},
   "source": [
    "Debugging trail:"
   ]
  },
  {
   "cell_type": "code",
   "execution_count": null,
   "metadata": {
    "collapsed": true
   },
   "outputs": [],
   "source": [
    "# print(ising.energy(x_prop[i,:].reshape((N,N)))) # none?\n",
    "# print(-ising.energy(batch[i,:].reshape((N,N)))) # works fine \n",
    "# print( - log_R_zx[i]) # NaN\n",
    "# print(log_R_xz[i]) # NaN\n",
    "# print(x_prop) # NaN\n",
    "# print(z_prop) # NaN\n",
    "# print(z) # NaN\n",
    "print(network.f(batch)) # NaN"
   ]
  },
  {
   "cell_type": "markdown",
   "metadata": {},
   "source": [
    "## Visualize results\n",
    "### View loss as a function of iteration steps\n",
    "Training should proceed until the loss approximately levels out. "
   ]
  },
  {
   "cell_type": "code",
   "execution_count": null,
   "metadata": {
    "collapsed": true,
    "scrolled": true
   },
   "outputs": [],
   "source": [
    "fig = go.Figure() # plotly reference: https://plot.ly/python/line-charts/\n",
    "fig.add_trace(go.Scatter(x=np.arange(len(losses)), y=losses,\n",
    "                    mode='lines',\n",
    "                    name='lines'))\n",
    "# Edit the layout\n",
    "fig.update_layout(yaxis_title='Loss',\n",
    "                   xaxis_title='Iteration #')"
   ]
  },
  {
   "cell_type": "markdown",
   "metadata": {},
   "source": [
    "### View average energy as a function of iteration steps\n",
    "We should see the average energy decrease once we perform adaptive sampling during training by energy. "
   ]
  },
  {
   "cell_type": "code",
   "execution_count": null,
   "metadata": {
    "collapsed": true
   },
   "outputs": [],
   "source": [
    "fig = go.Figure() # plotly reference: https://plot.ly/python/line-charts/\n",
    "fig.add_trace(go.Scatter(x=np.arange(len(losses)), y=avg_energy,\n",
    "                    mode='lines',\n",
    "                    name='lines'))\n",
    "# Edit the layout\n",
    "fig.update_layout(yaxis_title='Avg. Energy',\n",
    "                   xaxis_title='Iteration #')"
   ]
  },
  {
   "cell_type": "code",
   "execution_count": null,
   "metadata": {
    "collapsed": true
   },
   "outputs": [],
   "source": []
  },
  {
   "cell_type": "code",
   "execution_count": null,
   "metadata": {
    "collapsed": true
   },
   "outputs": [],
   "source": []
  },
  {
   "cell_type": "code",
   "execution_count": null,
   "metadata": {
    "collapsed": true
   },
   "outputs": [],
   "source": []
  }
 ],
 "metadata": {
  "@webio": {
   "lastCommId": null,
   "lastKernelId": null
  },
  "kernelspec": {
   "display_name": "Python 3",
   "language": "python",
   "name": "python3"
  },
  "language_info": {
   "codemirror_mode": {
    "name": "ipython",
    "version": 3
   },
   "file_extension": ".py",
   "mimetype": "text/x-python",
   "name": "python",
   "nbconvert_exporter": "python",
   "pygments_lexer": "ipython3",
   "version": "3.6.3"
  }
 },
 "nbformat": 4,
 "nbformat_minor": 2
}
