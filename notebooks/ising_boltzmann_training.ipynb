{
 "cells": [
  {
   "cell_type": "markdown",
   "metadata": {},
   "source": [
    "# To-do \n",
    "- Debug Boltzmann reweighting so expectation is properly calculated. I believe the energy needs to be regularized as they described on pg. 3 of the SI.  \n",
    "- Debug/Optimize Metropolis Monte Carlo step during training by energy. This may also not be working due to extremely high energy values (so energy regularization could also help here). \n",
    "- Generally optimize methods in net.py (several redundant calls) \n",
    "- (quick and easy) generalize energy functions (they need to expect PyTorch tensors instead of numpy arrays). So for example every `np.sum()` should be `torch.sum()`, etc. "
   ]
  },
  {
   "cell_type": "markdown",
   "metadata": {},
   "source": [
    "# Setup"
   ]
  },
  {
   "cell_type": "code",
   "execution_count": 13,
   "metadata": {},
   "outputs": [
    {
     "name": "stdout",
     "output_type": "stream",
     "text": [
      "The autoreload extension is already loaded. To reload it, use:\n",
      "  %reload_ext autoreload\n"
     ]
    }
   ],
   "source": [
    "import os\n",
    "import sys\n",
    "sys.path.insert(0, os.path.join(os.getcwd(), \"..\"))\n",
    "\n",
    "import torch\n",
    "from torch import distributions\n",
    "from torch import nn\n",
    "from torch.utils import data\n",
    "from sklearn import datasets\n",
    "\n",
    "import random\n",
    "import numpy as np\n",
    "import matplotlib.pyplot as plt\n",
    "import plotly.graph_objects as go\n",
    "%matplotlib inline\n",
    "%load_ext autoreload\n",
    "%autoreload 2 # Reload all modules every time before executing the Python code typed."
   ]
  },
  {
   "cell_type": "code",
   "execution_count": 14,
   "metadata": {},
   "outputs": [],
   "source": [
    "from project.models.ising import IsingModel\n",
    "import project.networks.net as net"
   ]
  },
  {
   "cell_type": "code",
   "execution_count": 15,
   "metadata": {},
   "outputs": [],
   "source": [
    "np.random.seed(0)\n",
    "torch.manual_seed(0)\n",
    "torch.cuda.manual_seed(0)\n",
    "random.seed(0)"
   ]
  },
  {
   "cell_type": "markdown",
   "metadata": {},
   "source": [
    "# Define Ising Model"
   ]
  },
  {
   "cell_type": "code",
   "execution_count": 16,
   "metadata": {},
   "outputs": [
    {
     "name": "stdout",
     "output_type": "stream",
     "text": [
      "CPU times: user 303 µs, sys: 1 µs, total: 304 µs\n",
      "Wall time: 307 µs\n"
     ]
    },
    {
     "data": {
      "text/plain": [
       "0.1875"
      ]
     },
     "execution_count": 16,
     "metadata": {},
     "output_type": "execute_result"
    },
    {
     "data": {
      "image/png": "[encoded data removed]",
      "text/plain": [
       "<Figure size 432x432 with 1 Axes>"
      ]
     },
     "metadata": {},
     "output_type": "display_data"
    }
   ],
   "source": [
    "h = 0.0\n",
    "J = 0.8\n",
    "T = 1.0\n",
    "N = 8\n",
    "\n",
    "ising = IsingModel(h = h, J = J)\n",
    "x0 = ising.init_coords(N)\n",
    "ising.draw_config(x0)\n",
    "\n",
    "%time ising.energy(torch.from_numpy(x0)) # energy of a given configuration \n",
    "ising.oprm(x0) # calculate average magnetization "
   ]
  },
  {
   "cell_type": "markdown",
   "metadata": {},
   "source": [
    "## Create training set\n",
    "We'd like to have a $m$ x $N$ matrix containing our training data where $m$ is the number of realizations of the system and $N$ is the number of features (i.e. the flattened dimensions of the system). For example, a training set with 1000 samples of the Ising Model for $N=8$ would be of size (1000, 64). "
   ]
  },
  {
   "cell_type": "code",
   "execution_count": 17,
   "metadata": {},
   "outputs": [],
   "source": [
    "num_samples = 128 # Use 1000 at run-time as done in Noe et al. for the biwell potential \n",
    "flattened_size = N**2\n",
    "\n",
    "training_set = np.zeros((num_samples,flattened_size), dtype=np.float32)\n",
    "for i in range(num_samples):\n",
    "    training_set[i,:] = ising.init_coords(N).flatten() # generate random configuration \n",
    "training_set = torch.from_numpy(training_set) # convert to PyTorch tensor "
   ]
  },
  {
   "cell_type": "markdown",
   "metadata": {},
   "source": [
    "As an aside, note that although we flatten our configurations for training, the flattening procedure can easily be reversed via the `rehsape()` function: "
   ]
  },
  {
   "cell_type": "code",
   "execution_count": 18,
   "metadata": {
    "scrolled": true
   },
   "outputs": [
    {
     "data": {
      "text/plain": [
       "array([[-1,  1,  1, -1,  1,  1,  1,  1],\n",
       "       [ 1,  1,  1, -1, -1,  1, -1, -1],\n",
       "       [-1, -1, -1,  1, -1,  1,  1, -1],\n",
       "       [-1,  1,  1,  1,  1, -1,  1, -1],\n",
       "       [ 1, -1,  1,  1, -1,  1,  1, -1],\n",
       "       [-1,  1, -1,  1,  1,  1,  1,  1],\n",
       "       [-1,  1, -1,  1,  1,  1,  1, -1],\n",
       "       [ 1, -1, -1,  1,  1, -1,  1, -1]])"
      ]
     },
     "execution_count": 18,
     "metadata": {},
     "output_type": "execute_result"
    }
   ],
   "source": [
    "np.array(x0)"
   ]
  },
  {
   "cell_type": "code",
   "execution_count": 19,
   "metadata": {},
   "outputs": [
    {
     "data": {
      "text/plain": [
       "array([[-1,  1,  1, -1,  1,  1,  1,  1],\n",
       "       [ 1,  1,  1, -1, -1,  1, -1, -1],\n",
       "       [-1, -1, -1,  1, -1,  1,  1, -1],\n",
       "       [-1,  1,  1,  1,  1, -1,  1, -1],\n",
       "       [ 1, -1,  1,  1, -1,  1,  1, -1],\n",
       "       [-1,  1, -1,  1,  1,  1,  1,  1],\n",
       "       [-1,  1, -1,  1,  1,  1,  1, -1],\n",
       "       [ 1, -1, -1,  1,  1, -1,  1, -1]])"
      ]
     },
     "execution_count": 19,
     "metadata": {},
     "output_type": "execute_result"
    }
   ],
   "source": [
    "np.array(x0).flatten().reshape((N,N))"
   ]
  },
  {
   "cell_type": "markdown",
   "metadata": {},
   "source": [
    "# Boltzmann generator\n",
    "## Define network architecture \n",
    "In the following we use 3 hidden layers for the translation and scaling networks and a total of four stacked RealNVP blocks (as defined by `masks`). "
   ]
  },
  {
   "cell_type": "code",
   "execution_count": 20,
   "metadata": {},
   "outputs": [],
   "source": [
    "n_hidden = 100 # number of hidden layers\n",
    "nets = lambda: nn.Sequential(nn.Linear(N**2, n_hidden), nn.Tanh(), nn.Linear(n_hidden, n_hidden), nn.Tanh(), nn.Linear(n_hidden, N**2), nn.Tanh()) # net s\n",
    "nett = lambda: nn.Sequential(nn.Linear(N**2, n_hidden), nn.ReLU(), nn.Linear(n_hidden, n_hidden), nn.ReLU(), nn.Linear(n_hidden, N**2)) # net t\n",
    "\n",
    "first_mask = np.array(np.concatenate((np.ones(round(N**2/2)), np.zeros(round(N**2/2)))))\n",
    "masks_np = np.stack((first_mask, np.flip(first_mask),first_mask,np.flip(first_mask),first_mask, np.flip(first_mask),first_mask, np.flip(first_mask))) \n",
    "masks = torch.from_numpy(masks_np.astype(np.float32))\n",
    "\n",
    "prior = distributions.MultivariateNormal(torch.zeros(N**2), torch.eye(N**2))      # so we have a total of 3 neural blocks (see fig. 1 of boltzmann generators paper)\n",
    "network = net.RealNVP(nets, nett, masks, prior, ising, x0.shape)\n",
    "\n",
    "# network.system.energy(network.g(training_set)) # energy functions need to be rewritten with PyTorch tensors in mind"
   ]
  },
  {
   "cell_type": "markdown",
   "metadata": {},
   "source": [
    "Note that $\\log R_{xz} = - \\log R_{zx}$, as demonstrated below: "
   ]
  },
  {
   "cell_type": "code",
   "execution_count": 21,
   "metadata": {},
   "outputs": [
    {
     "name": "stdout",
     "output_type": "stream",
     "text": [
      "tensor([3.5293], grad_fn=<AddBackward0>)\n",
      "tensor([-3.5293], grad_fn=<SubBackward0>)\n"
     ]
    }
   ],
   "source": [
    "z, log_Rxz = network.f(training_set[0:1,:])\n",
    "x, log_Rzx = network.g(z)\n",
    "print(log_Rzx)\n",
    "print(log_Rxz)"
   ]
  },
  {
   "cell_type": "markdown",
   "metadata": {},
   "source": [
    "## Train model \n",
    "The training schedule accordingly the main text of Noe et al. is as follows: \n",
    "- Begin with a buffer of 10,000 real space configurations \n",
    "- Train by example, minimizing $J_{ML}$, using a batch size of 128 for 20 iterations (JB: so not even one full epoch?)\n",
    "- Switch to batch size of 1000 and for each batch (iteration) we now perform a Metropolis Monte Carlo step in latent space for each sample in the given batch. \n",
    "\n",
    "### Train by example first\n",
    "Minimizing $J_{ML}$."
   ]
  },
  {
   "cell_type": "code",
   "execution_count": 22,
   "metadata": {},
   "outputs": [
    {
     "name": "stdout",
     "output_type": "stream",
     "text": [
      "iter 100: loss = -32.107\n",
      "iter 200: loss = -40.201\n",
      "iter 300: loss = -47.649\n",
      "iter 400: loss = -60.056\n",
      "iter 500: loss = -70.439\n"
     ]
    }
   ],
   "source": [
    "optimizer = torch.optim.Adam([p for p in network.parameters() if p.requires_grad==True], lr=1e-4)\n",
    "trainloader = data.DataLoader(dataset=training_set, batch_size=128)\n",
    "\n",
    "losses = []\n",
    "t = 0 \n",
    "for epoch in range(500):\n",
    "    for batch in trainloader:  \n",
    "        z, log_det_J = network.f(batch)\n",
    "              \n",
    "        loss = network.loss_ml(batch)\n",
    "        losses.append(loss.item()) # save values for plotting later \n",
    "\n",
    "        optimizer.zero_grad() # we need to set the gradients to zero before starting to do \n",
    "                              # backpropragation because PyTorch accumulates the gradients on \n",
    "                              # subsequent backward passes.\n",
    "        loss.backward(retain_graph=True)\n",
    "        optimizer.step()\n",
    "        t = t + 1 # iteration count\n",
    "\n",
    "        if t % 100 == 0:\n",
    "            print('iter %s:' % t, 'loss = %.3f' % loss)"
   ]
  },
  {
   "cell_type": "markdown",
   "metadata": {},
   "source": [
    "### Next train by both example and by energy \n",
    "Minimizing linear combination of $J_{ML}$ and $J_{KL}$."
   ]
  },
  {
   "cell_type": "code",
   "execution_count": 23,
   "metadata": {},
   "outputs": [
    {
     "name": "stdout",
     "output_type": "stream",
     "text": [
      "iter 100: loss = -28.710\n",
      "iter 200: loss = -83.922\n",
      "iter 300: loss = -102.537\n"
     ]
    }
   ],
   "source": [
    "optimizer = torch.optim.Adam([p for p in network.parameters() if p.requires_grad==True], lr=1e-4)\n",
    "\n",
    "s = 0.1 # Metropolis Monte Carlo step size \n",
    "m = distributions.Uniform(torch.tensor([0.0]), torch.tensor([1.0])) # uniform distribution\n",
    "\n",
    "t = 0\n",
    "for epoch in range(300): \n",
    "    trainloader = data.DataLoader(dataset=training_set, batch_size=128)\n",
    "    for batch in trainloader:   \n",
    "\n",
    "        loss = network.loss_ml(batch) + network.loss_kl(batch)\n",
    "        losses.append(loss.item())\n",
    "\n",
    "        optimizer.zero_grad() # we need to set the gradients to zero before starting to do \n",
    "                              # backpropragation because PyTorch accumulates the gradients on \n",
    "                              # subsequent backward passes.\n",
    "        loss.backward(retain_graph=True)\n",
    "        optimizer.step()\n",
    "        t = t + 1 # iteration count\n",
    "\n",
    "        # Metropolis Monte Carlo step (almost completely vectorized) \n",
    "        z, log_R_xz = network.f(batch)\n",
    "        z_prop = z + s*prior.sample((z.shape[0],)) # proposed move in latent space\n",
    "        x_prop, log_R_zx = network.g(z_prop) # corresponding position in real space\n",
    "        delta_E = ising.energy(x_prop) - ising.energy(batch) - log_R_zx + log_R_xz\n",
    "        acceptance_ratio = torch.min(torch.ones(delta_E.shape), torch.exp(-delta_E))\n",
    "        mask = torch.rand(acceptance_ratio.shape) <= acceptance_ratio\n",
    "        \n",
    "        # algorithms eems to diverge here, and I bet this chunk can also be vectorized too\n",
    "#         for i in range(batch.shape[0]): # for each x in the batch \n",
    "#             if mask[i]: # accept candidate \n",
    "#                 training_set[i,:] = x_prop[i,:]\n",
    "\n",
    "        if t % 100 == 0:\n",
    "            print('iter %s:' % t, 'loss = %.3f' % loss)"
   ]
  },
  {
   "cell_type": "markdown",
   "metadata": {},
   "source": [
    "## Visualize results\n",
    "### View loss as a function of iteration steps\n",
    "Training should proceed until the loss approximately levels out. "
   ]
  },
  {
   "cell_type": "code",
   "execution_count": 24,
   "metadata": {},
   "outputs": [
    {
     "data": {
      "application/vnd.plotly.v1+json": {
       "config": {
        "plotlyServerURL": "https://plot.ly"
       },
       "data": [
        {
         "mode": "lines",
         "name": "lines",
         "type": "scatter",
         "x": [
          0,
          1,
          2,
          3,
          4,
          5,
          6,
          7,
          8,
          9,
          10,
          11,
          12,
          13,
          14,
          15,
          16,
          17,
          18,
          19,
          20,
          21,
          22,
          23,
          24,
          25,
          26,
          27,
          28,
          29,
          30,
          31,
          32,
          33,
          34,
          35,
          36,
          37,
          38,
          39,
          40,
          41,
          42,
          43,
          44,
          45,
          46,
          47,
          48,
          49,
          50,
          51,
          52,
          53,
          54,
          55,
          56,
          57,
          58,
          59,
          60,
          61,
          62,
          63,
          64,
          65,
          66,
          67,
          68,
          69,
          70,
          71,
          72,
          73,
          74,
          75,
          76,
          77,
          78,
          79,
          80,
          81,
          82,
          83,
          84,
          85,
          86,
          87,
          88,
          89,
          90,
          91,
          92,
          93,
          94,
          95,
          96,
          97,
          98,
          99,
          100,
          101,
          102,
          103,
          104,
          105,
          106,
          107,
          108,
          109,
          110,
          111,
          112,
          113,
          114,
          115,
          116,
          117,
          118,
          119,
          120,
          121,
          122,
          123,
          124,
          125,
          126,
          127,
          128,
          129,
          130,
          131,
          132,
          133,
          134,
          135,
          136,
          137,
          138,
          139,
          140,
          141,
          142,
          143,
          144,
          145,
          146,
          147,
          148,
          149,
          150,
          151,
          152,
          153,
          154,
          155,
          156,
          157,
          158,
          159,
          160,
          161,
          162,
          163,
          164,
          165,
          166,
          167,
          168,
          169,
          170,
          171,
          172,
          173,
          174,
          175,
          176,
          177,
          178,
          179,
          180,
          181,
          182,
          183,
          184,
          185,
          186,
          187,
          188,
          189,
          190,
          191,
          192,
          193,
          194,
          195,
          196,
          197,
          198,
          199,
          200,
          201,
          202,
          203,
          204,
          205,
          206,
          207,
          208,
          209,
          210,
          211,
          212,
          213,
          214,
          215,
          216,
          217,
          218,
          219,
          220,
          221,
          222,
          223,
          224,
          225,
          226,
          227,
          228,
          229,
          230,
          231,
          232,
          233,
          234,
          235,
          236,
          237,
          238,
          239,
          240,
          241,
          242,
          243,
          244,
          245,
          246,
          247,
          248,
          249,
          250,
          251,
          252,
          253,
          254,
          255,
          256,
          257,
          258,
          259,
          260,
          261,
          262,
          263,
          264,
          265,
          266,
          267,
          268,
          269,
          270,
          271,
          272,
          273,
          274,
          275,
          276,
          277,
          278,
          279,
          280,
          281,
          282,
          283,
          284,
          285,
          286,
          287,
          288,
          289,
          290,
          291,
          292,
          293,
          294,
          295,
          296,
          297,
          298,
          299,
          300,
          301,
          302,
          303,
          304,
          305,
          306,
          307,
          308,
          309,
          310,
          311,
          312,
          313,
          314,
          315,
          316,
          317,
          318,
          319,
          320,
          321,
          322,
          323,
          324,
          325,
          326,
          327,
          328,
          329,
          330,
          331,
          332,
          333,
          334,
          335,
          336,
          337,
          338,
          339,
          340,
          341,
          342,
          343,
          344,
          345,
          346,
          347,
          348,
          349,
          350,
          351,
          352,
          353,
          354,
          355,
          356,
          357,
          358,
          359,
          360,
          361,
          362,
          363,
          364,
          365,
          366,
          367,
          368,
          369,
          370,
          371,
          372,
          373,
          374,
          375,
          376,
          377,
          378,
          379,
          380,
          381,
          382,
          383,
          384,
          385,
          386,
          387,
          388,
          389,
          390,
          391,
          392,
          393,
          394,
          395,
          396,
          397,
          398,
          399,
          400,
          401,
          402,
          403,
          404,
          405,
          406,
          407,
          408,
          409,
          410,
          411,
          412,
          413,
          414,
          415,
          416,
          417,
          418,
          419,
          420,
          421,
          422,
          423,
          424,
          425,
          426,
          427,
          428,
          429,
          430,
          431,
          432,
          433,
          434,
          435,
          436,
          437,
          438,
          439,
          440,
          441,
          442,
          443,
          444,
          445,
          446,
          447,
          448,
          449,
          450,
          451,
          452,
          453,
          454,
          455,
          456,
          457,
          458,
          459,
          460,
          461,
          462,
          463,
          464,
          465,
          466,
          467,
          468,
          469,
          470,
          471,
          472,
          473,
          474,
          475,
          476,
          477,
          478,
          479,
          480,
          481,
          482,
          483,
          484,
          485,
          486,
          487,
          488,
          489,
          490,
          491,
          492,
          493,
          494,
          495,
          496,
          497,
          498,
          499,
          500,
          501,
          502,
          503,
          504,
          505,
          506,
          507,
          508,
          509,
          510,
          511,
          512,
          513,
          514,
          515,
          516,
          517,
          518,
          519,
          520,
          521,
          522,
          523,
          524,
          525,
          526,
          527,
          528,
          529,
          530,
          531,
          532,
          533,
          534,
          535,
          536,
          537,
          538,
          539,
          540,
          541,
          542,
          543,
          544,
          545,
          546,
          547,
          548,
          549,
          550,
          551,
          552,
          553,
          554,
          555,
          556,
          557,
          558,
          559,
          560,
          561,
          562,
          563,
          564,
          565,
          566,
          567,
          568,
          569,
          570,
          571,
          572,
          573,
          574,
          575,
          576,
          577,
          578,
          579,
          580,
          581,
          582,
          583,
          584,
          585,
          586,
          587,
          588,
          589,
          590,
          591,
          592,
          593,
          594,
          595,
          596,
          597,
          598,
          599,
          600,
          601,
          602,
          603,
          604,
          605,
          606,
          607,
          608,
          609,
          610,
          611,
          612,
          613,
          614,
          615,
          616,
          617,
          618,
          619,
          620,
          621,
          622,
          623,
          624,
          625,
          626,
          627,
          628,
          629,
          630,
          631,
          632,
          633,
          634,
          635,
          636,
          637,
          638,
          639,
          640,
          641,
          642,
          643,
          644,
          645,
          646,
          647,
          648,
          649,
          650,
          651,
          652,
          653,
          654,
          655,
          656,
          657,
          658,
          659,
          660,
          661,
          662,
          663,
          664,
          665,
          666,
          667,
          668,
          669,
          670,
          671,
          672,
          673,
          674,
          675,
          676,
          677,
          678,
          679,
          680,
          681,
          682,
          683,
          684,
          685,
          686,
          687,
          688,
          689,
          690,
          691,
          692,
          693,
          694,
          695,
          696,
          697,
          698,
          699,
          700,
          701,
          702,
          703,
          704,
          705,
          706,
          707,
          708,
          709,
          710,
          711,
          712,
          713,
          714,
          715,
          716,
          717,
          718,
          719,
          720,
          721,
          722,
          723,
          724,
          725,
          726,
          727,
          728,
          729,
          730,
          731,
          732,
          733,
          734,
          735,
          736,
          737,
          738,
          739,
          740,
          741,
          742,
          743,
          744,
          745,
          746,
          747,
          748,
          749,
          750,
          751,
          752,
          753,
          754,
          755,
          756,
          757,
          758,
          759,
          760,
          761,
          762,
          763,
          764,
          765,
          766,
          767,
          768,
          769,
          770,
          771,
          772,
          773,
          774,
          775,
          776,
          777,
          778,
          779,
          780,
          781,
          782,
          783,
          784,
          785,
          786,
          787,
          788,
          789,
          790,
          791,
          792,
          793,
          794,
          795,
          796,
          797,
          798,
          799
         ],
         "y": [
          4.392230987548828,
          4.204662799835205,
          4.017190456390381,
          3.8296098709106445,
          3.6416893005371094,
          3.453207015991211,
          3.263899326324463,
          3.0734853744506836,
          2.8816938400268555,
          2.688232898712158,
          2.4927825927734375,
          2.2950377464294434,
          2.0946784019470215,
          1.891364336013794,
          1.6847679615020752,
          1.4745008945465088,
          1.2602217197418213,
          1.0415360927581787,
          0.8180023431777954,
          0.589204728603363,
          0.354693204164505,
          0.11404626071453094,
          -0.1332041621208191,
          -0.38757389783859253,
          -0.6495519280433655,
          -0.919648289680481,
          -1.1983909606933594,
          -1.4863865375518799,
          -1.7842376232147217,
          -2.0925188064575195,
          -2.4118432998657227,
          -2.7428855895996094,
          -3.0862650871276855,
          -3.4426722526550293,
          -3.81276273727417,
          -4.197263717651367,
          -4.596843719482422,
          -5.012162685394287,
          -5.443816661834717,
          -5.892425060272217,
          -6.358469009399414,
          -6.842520713806152,
          -7.344883918762207,
          -7.86592435836792,
          -8.405735969543457,
          -8.964275360107422,
          -9.541509628295898,
          -10.136833190917969,
          -10.749605178833008,
          -11.378754615783691,
          -12.023139953613281,
          -12.681011199951172,
          -13.350455284118652,
          -14.028995513916016,
          -14.713846206665039,
          -15.401885032653809,
          -16.089763641357422,
          -16.773651123046875,
          -17.449668884277344,
          -18.113916397094727,
          -18.762723922729492,
          -19.39251136779785,
          -20.000438690185547,
          -20.584630966186523,
          -21.14413833618164,
          -21.678970336914062,
          -22.189950942993164,
          -22.67850112915039,
          -23.147050857543945,
          -23.598276138305664,
          -24.034793853759766,
          -24.458765029907227,
          -24.871904373168945,
          -25.275653839111328,
          -25.67056655883789,
          -26.056570053100586,
          -26.433591842651367,
          -26.800750732421875,
          -27.157062530517578,
          -27.501741409301758,
          -27.83434295654297,
          -28.15412712097168,
          -28.460481643676758,
          -28.753385543823242,
          -29.03308868408203,
          -29.300159454345703,
          -29.555171966552734,
          -29.798978805541992,
          -30.03253173828125,
          -30.256425857543945,
          -30.471389770507812,
          -30.67850112915039,
          -30.878467559814453,
          -31.071578979492188,
          -31.25836944580078,
          -31.439165115356445,
          -31.6142635345459,
          -31.783889770507812,
          -31.94814682006836,
          -32.10721206665039,
          -32.26122283935547,
          -32.41029357910156,
          -32.554744720458984,
          -32.69474411010742,
          -32.83052444458008,
          -32.96240997314453,
          -33.09076690673828,
          -33.216026306152344,
          -33.33834457397461,
          -33.457984924316406,
          -33.57515335083008,
          -33.690185546875,
          -33.803035736083984,
          -33.91387939453125,
          -34.022891998291016,
          -34.130104064941406,
          -34.235595703125,
          -34.339393615722656,
          -34.44140625,
          -34.541847229003906,
          -34.64060974121094,
          -34.73790740966797,
          -34.83386993408203,
          -34.92845153808594,
          -35.02172088623047,
          -35.11375427246094,
          -35.20460510253906,
          -35.29432678222656,
          -35.382850646972656,
          -35.4703254699707,
          -35.556861877441406,
          -35.64240264892578,
          -35.7269172668457,
          -35.81047821044922,
          -35.89309310913086,
          -35.97474670410156,
          -36.055503845214844,
          -36.1353759765625,
          -36.214447021484375,
          -36.29262924194336,
          -36.36992645263672,
          -36.4463996887207,
          -36.522117614746094,
          -36.597023010253906,
          -36.67118835449219,
          -36.744651794433594,
          -36.817359924316406,
          -36.88933563232422,
          -36.96063232421875,
          -37.031272888183594,
          -37.10133361816406,
          -37.17085266113281,
          -37.239810943603516,
          -37.308197021484375,
          -37.376102447509766,
          -37.44350814819336,
          -37.510459899902344,
          -37.576961517333984,
          -37.64307403564453,
          -37.7088737487793,
          -37.77428436279297,
          -37.83931350708008,
          -37.90407180786133,
          -37.968589782714844,
          -38.032875061035156,
          -38.09690856933594,
          -38.16071319580078,
          -38.22429656982422,
          -38.28765869140625,
          -38.350791931152344,
          -38.4137077331543,
          -38.47643280029297,
          -38.53894805908203,
          -38.60127258300781,
          -38.66341018676758,
          -38.7253532409668,
          -38.78717041015625,
          -38.8488883972168,
          -38.91056823730469,
          -38.9721794128418,
          -39.0336799621582,
          -39.09513854980469,
          -39.15654373168945,
          -39.2178840637207,
          -39.2791748046875,
          -39.34043884277344,
          -39.4017333984375,
          -39.46302795410156,
          -39.52434158325195,
          -39.585689544677734,
          -39.647064208984375,
          -39.70842742919922,
          -39.76983642578125,
          -39.831321716308594,
          -39.89282989501953,
          -39.95439529418945,
          -40.01603317260742,
          -40.07771682739258,
          -40.139442443847656,
          -40.20127487182617,
          -40.263160705566406,
          -40.32513427734375,
          -40.38719940185547,
          -40.44935607910156,
          -40.511592864990234,
          -40.573951721191406,
          -40.636436462402344,
          -40.69902420043945,
          -40.76179122924805,
          -40.82466125488281,
          -40.88771057128906,
          -40.950897216796875,
          -41.01427459716797,
          -41.077796936035156,
          -41.14152908325195,
          -41.205406188964844,
          -41.26947784423828,
          -41.333709716796875,
          -41.39811325073242,
          -41.462745666503906,
          -41.52757263183594,
          -41.59260559082031,
          -41.657779693603516,
          -41.72315979003906,
          -41.788795471191406,
          -41.85463333129883,
          -41.92070388793945,
          -41.98695755004883,
          -42.05348205566406,
          -42.12025451660156,
          -42.187191009521484,
          -42.254371643066406,
          -42.32181167602539,
          -42.38945007324219,
          -42.45735168457031,
          -42.525535583496094,
          -42.593971252441406,
          -42.66271209716797,
          -42.731773376464844,
          -42.80110168457031,
          -42.870689392089844,
          -42.940521240234375,
          -43.01062774658203,
          -43.08104705810547,
          -43.15174865722656,
          -43.22276306152344,
          -43.29405212402344,
          -43.365745544433594,
          -43.43779373168945,
          -43.51018524169922,
          -43.582855224609375,
          -43.655818939208984,
          -43.729156494140625,
          -43.80280685424805,
          -43.876853942871094,
          -43.95124053955078,
          -44.02606201171875,
          -44.101173400878906,
          -44.17674255371094,
          -44.252681732177734,
          -44.32901382446289,
          -44.405731201171875,
          -44.482749938964844,
          -44.560089111328125,
          -44.637779235839844,
          -44.71588897705078,
          -44.794437408447266,
          -44.87339782714844,
          -44.95277404785156,
          -45.03254699707031,
          -45.112762451171875,
          -45.193397521972656,
          -45.274452209472656,
          -45.35595703125,
          -45.43792724609375,
          -45.52033233642578,
          -45.603233337402344,
          -45.68657684326172,
          -45.77047348022461,
          -45.85481262207031,
          -45.93965530395508,
          -46.02495574951172,
          -46.11070251464844,
          -46.197044372558594,
          -46.28394317626953,
          -46.37139129638672,
          -46.459442138671875,
          -46.5478515625,
          -46.63677978515625,
          -46.726234436035156,
          -46.816139221191406,
          -46.9066276550293,
          -46.99751281738281,
          -47.08893585205078,
          -47.180938720703125,
          -47.2734375,
          -47.36643981933594,
          -47.459999084472656,
          -47.554100036621094,
          -47.64872741699219,
          -47.74400329589844,
          -47.83985900878906,
          -47.936302185058594,
          -48.033226013183594,
          -48.130714416503906,
          -48.22882843017578,
          -48.32752990722656,
          -48.42683792114258,
          -48.52669906616211,
          -48.62715530395508,
          -48.72816467285156,
          -48.82974624633789,
          -48.932193756103516,
          -49.03522491455078,
          -49.13892364501953,
          -49.24330139160156,
          -49.3482666015625,
          -49.4537353515625,
          -49.55987548828125,
          -49.66664505004883,
          -49.77400207519531,
          -49.88201904296875,
          -49.99073791503906,
          -50.09992218017578,
          -50.20982360839844,
          -50.32036209106445,
          -50.43159866333008,
          -50.54328155517578,
          -50.655784606933594,
          -50.76911163330078,
          -50.88310241699219,
          -50.99765396118164,
          -51.11282730102539,
          -51.228981018066406,
          -51.345947265625,
          -51.46352767944336,
          -51.58167266845703,
          -51.70078659057617,
          -51.82063293457031,
          -51.94116973876953,
          -52.06230163574219,
          -52.184242248535156,
          -52.30711364746094,
          -52.430545806884766,
          -52.55443572998047,
          -52.67970275878906,
          -52.80586624145508,
          -52.932647705078125,
          -53.059844970703125,
          -53.188072204589844,
          -53.317298889160156,
          -53.44645690917969,
          -53.576236724853516,
          -53.706546783447266,
          -53.837581634521484,
          -53.97003173828125,
          -54.10368347167969,
          -54.23860549926758,
          -54.373287200927734,
          -54.50877380371094,
          -54.64421463012695,
          -54.78034591674805,
          -54.91567611694336,
          -55.04912185668945,
          -55.17919921875,
          -55.31117248535156,
          -55.45285415649414,
          -55.60151672363281,
          -55.74286651611328,
          -55.87355041503906,
          -56.004905700683594,
          -56.14443588256836,
          -56.29096603393555,
          -56.4354248046875,
          -56.57249450683594,
          -56.70555114746094,
          -56.84015655517578,
          -56.98030090332031,
          -57.12554931640625,
          -57.273109436035156,
          -57.41748046875,
          -57.558555603027344,
          -57.697608947753906,
          -57.83350372314453,
          -57.96138381958008,
          -58.079811096191406,
          -58.2109260559082,
          -58.37000274658203,
          -58.54033279418945,
          -58.67743682861328,
          -58.791255950927734,
          -58.92088317871094,
          -59.070335388183594,
          -59.22965621948242,
          -59.367340087890625,
          -59.4861946105957,
          -59.613914489746094,
          -59.75422668457031,
          -59.90708923339844,
          -60.05567932128906,
          -60.18932342529297,
          -60.31420135498047,
          -60.43612289428711,
          -60.558311462402344,
          -60.68696594238281,
          -60.83901596069336,
          -60.99317169189453,
          -61.14012908935547,
          -61.272586822509766,
          -61.3913688659668,
          -61.503990173339844,
          -61.60851287841797,
          -61.72698974609375,
          -61.86752700805664,
          -62.04235076904297,
          -62.193626403808594,
          -62.30651092529297,
          -62.402225494384766,
          -62.50450897216797,
          -62.64472579956055,
          -62.795440673828125,
          -62.94739532470703,
          -63.07071304321289,
          -63.16987609863281,
          -63.27134323120117,
          -63.37729263305664,
          -63.51557922363281,
          -63.65798568725586,
          -63.800594329833984,
          -63.9290885925293,
          -64.04171752929688,
          -64.14193725585938,
          -64.22516632080078,
          -64.30956268310547,
          -64.38558959960938,
          -64.52322387695312,
          -64.69764709472656,
          -64.86156463623047,
          -64.94835662841797,
          -65.00982666015625,
          -65.10652160644531,
          -65.22479248046875,
          -65.38703155517578,
          -65.51434326171875,
          -65.60514831542969,
          -65.67240905761719,
          -65.75318145751953,
          -65.87296295166016,
          -65.99011993408203,
          -66.14593505859375,
          -66.25169372558594,
          -66.33596801757812,
          -66.41484069824219,
          -66.47859954833984,
          -66.5713882446289,
          -66.65452575683594,
          -66.80902099609375,
          -66.93553924560547,
          -67.05813598632812,
          -67.14964294433594,
          -67.22367858886719,
          -67.29031372070312,
          -67.32926940917969,
          -67.41253662109375,
          -67.4871826171875,
          -67.64196014404297,
          -67.7886962890625,
          -67.91156005859375,
          -67.98104095458984,
          -68.0173568725586,
          -68.07917785644531,
          -68.14653015136719,
          -68.27766418457031,
          -68.40180969238281,
          -68.52681732177734,
          -68.61249542236328,
          -68.66251373291016,
          -68.71294403076172,
          -68.75296783447266,
          -68.84295654296875,
          -68.93124389648438,
          -69.06101989746094,
          -69.18580627441406,
          -69.28889465332031,
          -69.35359191894531,
          -69.394775390625,
          -69.446044921875,
          -69.48873138427734,
          -69.54834747314453,
          -69.5843505859375,
          -69.74217224121094,
          -69.88772583007812,
          -69.9844970703125,
          -70.03910064697266,
          -70.09690856933594,
          -70.1550521850586,
          -70.17070770263672,
          -70.23838806152344,
          -70.32882690429688,
          -70.43873596191406,
          118.99324035644531,
          116.32926940917969,
          112.72943115234375,
          108.52284240722656,
          102.89900970458984,
          96.08953857421875,
          90.0147705078125,
          85.9142837524414,
          83.64736938476562,
          82.32896423339844,
          81.2351303100586,
          80.15899658203125,
          79.0648422241211,
          77.93709564208984,
          76.77874755859375,
          75.60237121582031,
          74.421630859375,
          73.24373626708984,
          72.07195281982422,
          70.91004943847656,
          69.76270294189453,
          68.63639831542969,
          67.53421783447266,
          66.45318603515625,
          65.38575744628906,
          64.32521057128906,
          63.265625,
          62.20359420776367,
          61.1357307434082,
          60.05857467651367,
          58.97036361694336,
          57.87226104736328,
          56.76425552368164,
          55.64659118652344,
          54.51836395263672,
          53.37822723388672,
          52.225555419921875,
          51.05870819091797,
          49.8765869140625,
          48.67897033691406,
          47.46502685546875,
          46.23322296142578,
          44.9831428527832,
          43.713768005371094,
          42.424259185791016,
          41.11522674560547,
          39.787109375,
          38.44007110595703,
          37.07427978515625,
          35.689483642578125,
          34.28599548339844,
          32.86478042602539,
          31.42667007446289,
          29.972368240356445,
          28.50342559814453,
          27.021677017211914,
          25.529422760009766,
          24.028892517089844,
          22.52277946472168,
          21.01310920715332,
          19.50176429748535,
          17.991071701049805,
          16.483078002929688,
          14.979669570922852,
          13.48293685913086,
          11.99366569519043,
          10.513456344604492,
          9.044036865234375,
          7.5860724449157715,
          6.141084671020508,
          4.710362434387207,
          3.294614315032959,
          1.8948898315429688,
          0.5121173858642578,
          -0.8531618118286133,
          -2.1999359130859375,
          -3.5272693634033203,
          -4.834328651428223,
          -6.121146202087402,
          -7.387651443481445,
          -8.633222579956055,
          -9.857948303222656,
          -11.062286376953125,
          -12.246013641357422,
          -13.409210205078125,
          -14.552265167236328,
          -15.675468444824219,
          -16.779451370239258,
          -17.864532470703125,
          -18.93132781982422,
          -19.980466842651367,
          -21.012548446655273,
          -22.02817153930664,
          -23.027517318725586,
          -24.011056900024414,
          -24.979618072509766,
          -25.933429718017578,
          -26.87279510498047,
          -27.798072814941406,
          -28.709869384765625,
          -29.608566284179688,
          -30.494792938232422,
          -31.368309020996094,
          -32.229583740234375,
          -33.07921600341797,
          -33.917564392089844,
          -34.744956970214844,
          -35.56148910522461,
          -36.36731719970703,
          -37.16264724731445,
          -37.94796371459961,
          -38.72323226928711,
          -39.48872756958008,
          -40.24465560913086,
          -40.9911003112793,
          -41.72825241088867,
          -42.45627975463867,
          -43.175392150878906,
          -43.8859748840332,
          -44.58821105957031,
          -45.2819938659668,
          -45.96742630004883,
          -46.64482879638672,
          -47.31435012817383,
          -47.97610092163086,
          -48.630401611328125,
          -49.27749252319336,
          -49.91749572753906,
          -50.55066680908203,
          -51.17725372314453,
          -51.79747772216797,
          -52.41156768798828,
          -53.0195426940918,
          -53.621585845947266,
          -54.21803283691406,
          -54.808895111083984,
          -55.394378662109375,
          -55.974853515625,
          -56.55039978027344,
          -57.121238708496094,
          -57.68744659423828,
          -58.248985290527344,
          -58.80601501464844,
          -59.35865020751953,
          -59.90691375732422,
          -60.450706481933594,
          -60.99021911621094,
          -61.52558898925781,
          -62.05683898925781,
          -62.58393859863281,
          -63.106964111328125,
          -63.62596130371094,
          -64.14091491699219,
          -64.65188598632812,
          -65.15885925292969,
          -65.66199493408203,
          -66.16114807128906,
          -66.65625,
          -67.14729309082031,
          -67.6341781616211,
          -68.11697387695312,
          -68.59562683105469,
          -69.07020568847656,
          -69.54071044921875,
          -70.007080078125,
          -70.46920013427734,
          -70.92715454101562,
          -71.38095092773438,
          -71.83062744140625,
          -72.27633666992188,
          -72.7178955078125,
          -73.15533447265625,
          -73.58860778808594,
          -74.017822265625,
          -74.44293975830078,
          -74.86412048339844,
          -75.2813720703125,
          -75.69479370117188,
          -76.10430908203125,
          -76.51000213623047,
          -76.9118881225586,
          -77.31011962890625,
          -77.70484161376953,
          -78.09598541259766,
          -78.48358917236328,
          -78.86780548095703,
          -79.24867248535156,
          -79.626220703125,
          -80.00053405761719,
          -80.37165069580078,
          -80.73973846435547,
          -81.10477447509766,
          -81.4669189453125,
          -81.82611846923828,
          -82.18241882324219,
          -82.53591918945312,
          -82.88666534423828,
          -83.23468017578125,
          -83.57998657226562,
          -83.9224853515625,
          -84.26228332519531,
          -84.599365234375,
          -84.93375396728516,
          -85.26541137695312,
          -85.59435272216797,
          -85.92053985595703,
          -86.24391174316406,
          -86.564453125,
          -86.88214111328125,
          -87.1969223022461,
          -87.50872802734375,
          -87.81749725341797,
          -88.12318420410156,
          -88.42573547363281,
          -88.72510528564453,
          -89.02116394042969,
          -89.31390380859375,
          -89.60325622558594,
          -89.8892822265625,
          -90.17178344726562,
          -90.45072174072266,
          -90.72604370117188,
          -90.99765014648438,
          -91.26557159423828,
          -91.52973937988281,
          -91.79011535644531,
          -92.0466537475586,
          -92.29936218261719,
          -92.54818725585938,
          -92.79310607910156,
          -93.03406524658203,
          -93.27110290527344,
          -93.50422668457031,
          -93.7333984375,
          -93.95866394042969,
          -94.17999267578125,
          -94.39743041992188,
          -94.61102294921875,
          -94.82073974609375,
          -95.0266342163086,
          -95.2287368774414,
          -95.42708587646484,
          -95.62174987792969,
          -95.812744140625,
          -96.00013732910156,
          -96.18401336669922,
          -96.36441040039062,
          -96.54137420654297,
          -96.71495056152344,
          -96.88519287109375,
          -97.05218505859375,
          -97.21595764160156,
          -97.37660217285156,
          -97.53416442871094,
          -97.68873596191406,
          -97.84034729003906,
          -97.98910522460938,
          -98.13507080078125,
          -98.27828979492188,
          -98.41883087158203,
          -98.5567626953125,
          -98.6921615600586,
          -98.82508087158203,
          -98.95562744140625,
          -99.08380126953125,
          -99.209716796875,
          -99.33340454101562,
          -99.4549560546875,
          -99.57441711425781,
          -99.69190979003906,
          -99.80746459960938,
          -99.92111206054688,
          -100.03294372558594,
          -100.14299011230469,
          -100.25132751464844,
          -100.35798645019531,
          -100.46305847167969,
          -100.5665283203125,
          -100.66851806640625,
          -100.76904296875,
          -100.86815643310547,
          -100.96589660644531,
          -101.06232452392578,
          -101.15748596191406,
          -101.25141143798828,
          -101.34413146972656,
          -101.43569946289062,
          -101.52616882324219,
          -101.6155776977539,
          -101.70391845703125,
          -101.791259765625,
          -101.87760925292969,
          -101.9630355834961,
          -102.04754638671875,
          -102.13116455078125,
          -102.21393585205078,
          -102.29586791992188,
          -102.37701416015625,
          -102.45736694335938,
          -102.53700256347656
         ]
        }
       ],
       "layout": {
        "template": {
         "data": {
          "bar": [
           {
            "error_x": {
             "color": "#2a3f5f"
            },
            "error_y": {
             "color": "#2a3f5f"
            },
            "marker": {
             "line": {
              "color": "#E5ECF6",
              "width": 0.5
             }
            },
            "type": "bar"
           }
          ],
          "barpolar": [
           {
            "marker": {
             "line": {
              "color": "#E5ECF6",
              "width": 0.5
             }
            },
            "type": "barpolar"
           }
          ],
          "carpet": [
           {
            "aaxis": {
             "endlinecolor": "#2a3f5f",
             "gridcolor": "white",
             "linecolor": "white",
             "minorgridcolor": "white",
             "startlinecolor": "#2a3f5f"
            },
            "baxis": {
             "endlinecolor": "#2a3f5f",
             "gridcolor": "white",
             "linecolor": "white",
             "minorgridcolor": "white",
             "startlinecolor": "#2a3f5f"
            },
            "type": "carpet"
           }
          ],
          "choropleth": [
           {
            "colorbar": {
             "outlinewidth": 0,
             "ticks": ""
            },
            "type": "choropleth"
           }
          ],
          "contour": [
           {
            "colorbar": {
             "outlinewidth": 0,
             "ticks": ""
            },
            "colorscale": [
             [
              0,
              "#0d0887"
             ],
             [
              0.1111111111111111,
              "#46039f"
             ],
             [
              0.2222222222222222,
              "#7201a8"
             ],
             [
              0.3333333333333333,
              "#9c179e"
             ],
             [
              0.4444444444444444,
              "#bd3786"
             ],
             [
              0.5555555555555556,
              "#d8576b"
             ],
             [
              0.6666666666666666,
              "#ed7953"
             ],
             [
              0.7777777777777778,
              "#fb9f3a"
             ],
             [
              0.8888888888888888,
              "#fdca26"
             ],
             [
              1,
              "#f0f921"
             ]
            ],
            "type": "contour"
           }
          ],
          "contourcarpet": [
           {
            "colorbar": {
             "outlinewidth": 0,
             "ticks": ""
            },
            "type": "contourcarpet"
           }
          ],
          "heatmap": [
           {
            "colorbar": {
             "outlinewidth": 0,
             "ticks": ""
            },
            "colorscale": [
             [
              0,
              "#0d0887"
             ],
             [
              0.1111111111111111,
              "#46039f"
             ],
             [
              0.2222222222222222,
              "#7201a8"
             ],
             [
              0.3333333333333333,
              "#9c179e"
             ],
             [
              0.4444444444444444,
              "#bd3786"
             ],
             [
              0.5555555555555556,
              "#d8576b"
             ],
             [
              0.6666666666666666,
              "#ed7953"
             ],
             [
              0.7777777777777778,
              "#fb9f3a"
             ],
             [
              0.8888888888888888,
              "#fdca26"
             ],
             [
              1,
              "#f0f921"
             ]
            ],
            "type": "heatmap"
           }
          ],
          "heatmapgl": [
           {
            "colorbar": {
             "outlinewidth": 0,
             "ticks": ""
            },
            "colorscale": [
             [
              0,
              "#0d0887"
             ],
             [
              0.1111111111111111,
              "#46039f"
             ],
             [
              0.2222222222222222,
              "#7201a8"
             ],
             [
              0.3333333333333333,
              "#9c179e"
             ],
             [
              0.4444444444444444,
              "#bd3786"
             ],
             [
              0.5555555555555556,
              "#d8576b"
             ],
             [
              0.6666666666666666,
              "#ed7953"
             ],
             [
              0.7777777777777778,
              "#fb9f3a"
             ],
             [
              0.8888888888888888,
              "#fdca26"
             ],
             [
              1,
              "#f0f921"
             ]
            ],
            "type": "heatmapgl"
           }
          ],
          "histogram": [
           {
            "marker": {
             "colorbar": {
              "outlinewidth": 0,
              "ticks": ""
             }
            },
            "type": "histogram"
           }
          ],
          "histogram2d": [
           {
            "colorbar": {
             "outlinewidth": 0,
             "ticks": ""
            },
            "colorscale": [
             [
              0,
              "#0d0887"
             ],
             [
              0.1111111111111111,
              "#46039f"
             ],
             [
              0.2222222222222222,
              "#7201a8"
             ],
             [
              0.3333333333333333,
              "#9c179e"
             ],
             [
              0.4444444444444444,
              "#bd3786"
             ],
             [
              0.5555555555555556,
              "#d8576b"
             ],
             [
              0.6666666666666666,
              "#ed7953"
             ],
             [
              0.7777777777777778,
              "#fb9f3a"
             ],
             [
              0.8888888888888888,
              "#fdca26"
             ],
             [
              1,
              "#f0f921"
             ]
            ],
            "type": "histogram2d"
           }
          ],
          "histogram2dcontour": [
           {
            "colorbar": {
             "outlinewidth": 0,
             "ticks": ""
            },
            "colorscale": [
             [
              0,
              "#0d0887"
             ],
             [
              0.1111111111111111,
              "#46039f"
             ],
             [
              0.2222222222222222,
              "#7201a8"
             ],
             [
              0.3333333333333333,
              "#9c179e"
             ],
             [
              0.4444444444444444,
              "#bd3786"
             ],
             [
              0.5555555555555556,
              "#d8576b"
             ],
             [
              0.6666666666666666,
              "#ed7953"
             ],
             [
              0.7777777777777778,
              "#fb9f3a"
             ],
             [
              0.8888888888888888,
              "#fdca26"
             ],
             [
              1,
              "#f0f921"
             ]
            ],
            "type": "histogram2dcontour"
           }
          ],
          "mesh3d": [
           {
            "colorbar": {
             "outlinewidth": 0,
             "ticks": ""
            },
            "type": "mesh3d"
           }
          ],
          "parcoords": [
           {
            "line": {
             "colorbar": {
              "outlinewidth": 0,
              "ticks": ""
             }
            },
            "type": "parcoords"
           }
          ],
          "scatter": [
           {
            "marker": {
             "colorbar": {
              "outlinewidth": 0,
              "ticks": ""
             }
            },
            "type": "scatter"
           }
          ],
          "scatter3d": [
           {
            "line": {
             "colorbar": {
              "outlinewidth": 0,
              "ticks": ""
             }
            },
            "marker": {
             "colorbar": {
              "outlinewidth": 0,
              "ticks": ""
             }
            },
            "type": "scatter3d"
           }
          ],
          "scattercarpet": [
           {
            "marker": {
             "colorbar": {
              "outlinewidth": 0,
              "ticks": ""
             }
            },
            "type": "scattercarpet"
           }
          ],
          "scattergeo": [
           {
            "marker": {
             "colorbar": {
              "outlinewidth": 0,
              "ticks": ""
             }
            },
            "type": "scattergeo"
           }
          ],
          "scattergl": [
           {
            "marker": {
             "colorbar": {
              "outlinewidth": 0,
              "ticks": ""
             }
            },
            "type": "scattergl"
           }
          ],
          "scattermapbox": [
           {
            "marker": {
             "colorbar": {
              "outlinewidth": 0,
              "ticks": ""
             }
            },
            "type": "scattermapbox"
           }
          ],
          "scatterpolar": [
           {
            "marker": {
             "colorbar": {
              "outlinewidth": 0,
              "ticks": ""
             }
            },
            "type": "scatterpolar"
           }
          ],
          "scatterpolargl": [
           {
            "marker": {
             "colorbar": {
              "outlinewidth": 0,
              "ticks": ""
             }
            },
            "type": "scatterpolargl"
           }
          ],
          "scatterternary": [
           {
            "marker": {
             "colorbar": {
              "outlinewidth": 0,
              "ticks": ""
             }
            },
            "type": "scatterternary"
           }
          ],
          "surface": [
           {
            "colorbar": {
             "outlinewidth": 0,
             "ticks": ""
            },
            "colorscale": [
             [
              0,
              "#0d0887"
             ],
             [
              0.1111111111111111,
              "#46039f"
             ],
             [
              0.2222222222222222,
              "#7201a8"
             ],
             [
              0.3333333333333333,
              "#9c179e"
             ],
             [
              0.4444444444444444,
              "#bd3786"
             ],
             [
              0.5555555555555556,
              "#d8576b"
             ],
             [
              0.6666666666666666,
              "#ed7953"
             ],
             [
              0.7777777777777778,
              "#fb9f3a"
             ],
             [
              0.8888888888888888,
              "#fdca26"
             ],
             [
              1,
              "#f0f921"
             ]
            ],
            "type": "surface"
           }
          ],
          "table": [
           {
            "cells": {
             "fill": {
              "color": "#EBF0F8"
             },
             "line": {
              "color": "white"
             }
            },
            "header": {
             "fill": {
              "color": "#C8D4E3"
             },
             "line": {
              "color": "white"
             }
            },
            "type": "table"
           }
          ]
         },
         "layout": {
          "annotationdefaults": {
           "arrowcolor": "#2a3f5f",
           "arrowhead": 0,
           "arrowwidth": 1
          },
          "colorscale": {
           "diverging": [
            [
             0,
             "#8e0152"
            ],
            [
             0.1,
             "#c51b7d"
            ],
            [
             0.2,
             "#de77ae"
            ],
            [
             0.3,
             "#f1b6da"
            ],
            [
             0.4,
             "#fde0ef"
            ],
            [
             0.5,
             "#f7f7f7"
            ],
            [
             0.6,
             "#e6f5d0"
            ],
            [
             0.7,
             "#b8e186"
            ],
            [
             0.8,
             "#7fbc41"
            ],
            [
             0.9,
             "#4d9221"
            ],
            [
             1,
             "#276419"
            ]
           ],
           "sequential": [
            [
             0,
             "#0d0887"
            ],
            [
             0.1111111111111111,
             "#46039f"
            ],
            [
             0.2222222222222222,
             "#7201a8"
            ],
            [
             0.3333333333333333,
             "#9c179e"
            ],
            [
             0.4444444444444444,
             "#bd3786"
            ],
            [
             0.5555555555555556,
             "#d8576b"
            ],
            [
             0.6666666666666666,
             "#ed7953"
            ],
            [
             0.7777777777777778,
             "#fb9f3a"
            ],
            [
             0.8888888888888888,
             "#fdca26"
            ],
            [
             1,
             "#f0f921"
            ]
           ],
           "sequentialminus": [
            [
             0,
             "#0d0887"
            ],
            [
             0.1111111111111111,
             "#46039f"
            ],
            [
             0.2222222222222222,
             "#7201a8"
            ],
            [
             0.3333333333333333,
             "#9c179e"
            ],
            [
             0.4444444444444444,
             "#bd3786"
            ],
            [
             0.5555555555555556,
             "#d8576b"
            ],
            [
             0.6666666666666666,
             "#ed7953"
            ],
            [
             0.7777777777777778,
             "#fb9f3a"
            ],
            [
             0.8888888888888888,
             "#fdca26"
            ],
            [
             1,
             "#f0f921"
            ]
           ]
          },
          "colorway": [
           "#636efa",
           "#EF553B",
           "#00cc96",
           "#ab63fa",
           "#FFA15A",
           "#19d3f3",
           "#FF6692",
           "#B6E880",
           "#FF97FF",
           "#FECB52"
          ],
          "font": {
           "color": "#2a3f5f"
          },
          "geo": {
           "bgcolor": "white",
           "lakecolor": "white",
           "landcolor": "#E5ECF6",
           "showlakes": true,
           "showland": true,
           "subunitcolor": "white"
          },
          "hoverlabel": {
           "align": "left"
          },
          "hovermode": "closest",
          "mapbox": {
           "style": "light"
          },
          "paper_bgcolor": "white",
          "plot_bgcolor": "#E5ECF6",
          "polar": {
           "angularaxis": {
            "gridcolor": "white",
            "linecolor": "white",
            "ticks": ""
           },
           "bgcolor": "#E5ECF6",
           "radialaxis": {
            "gridcolor": "white",
            "linecolor": "white",
            "ticks": ""
           }
          },
          "scene": {
           "xaxis": {
            "backgroundcolor": "#E5ECF6",
            "gridcolor": "white",
            "gridwidth": 2,
            "linecolor": "white",
            "showbackground": true,
            "ticks": "",
            "zerolinecolor": "white"
           },
           "yaxis": {
            "backgroundcolor": "#E5ECF6",
            "gridcolor": "white",
            "gridwidth": 2,
            "linecolor": "white",
            "showbackground": true,
            "ticks": "",
            "zerolinecolor": "white"
           },
           "zaxis": {
            "backgroundcolor": "#E5ECF6",
            "gridcolor": "white",
            "gridwidth": 2,
            "linecolor": "white",
            "showbackground": true,
            "ticks": "",
            "zerolinecolor": "white"
           }
          },
          "shapedefaults": {
           "line": {
            "color": "#2a3f5f"
           }
          },
          "ternary": {
           "aaxis": {
            "gridcolor": "white",
            "linecolor": "white",
            "ticks": ""
           },
           "baxis": {
            "gridcolor": "white",
            "linecolor": "white",
            "ticks": ""
           },
           "bgcolor": "#E5ECF6",
           "caxis": {
            "gridcolor": "white",
            "linecolor": "white",
            "ticks": ""
           }
          },
          "title": {
           "x": 0.05
          },
          "xaxis": {
           "automargin": true,
           "gridcolor": "white",
           "linecolor": "white",
           "ticks": "",
           "zerolinecolor": "white",
           "zerolinewidth": 2
          },
          "yaxis": {
           "automargin": true,
           "gridcolor": "white",
           "linecolor": "white",
           "ticks": "",
           "zerolinecolor": "white",
           "zerolinewidth": 2
          }
         }
        },
        "xaxis": {
         "title": {
          "text": "Iteration #"
         }
        },
        "yaxis": {
         "title": {
          "text": "Loss"
         }
        }
       }
      },
      "text/html": [
       "<div>\n",
       "        \n",
       "        \n",
       "            <div id=\"1fec7974-6aa2-4cb6-ae25-d4bc30890336\" class=\"plotly-graph-div\" style=\"height:525px; width:100%;\"></div>\n",
       "            <script type=\"text/javascript\">\n",
       "                require([\"plotly\"], function(Plotly) {\n",
       "                    window.PLOTLYENV=window.PLOTLYENV || {};\n",
       "                    \n",
       "                if (document.getElementById(\"1fec7974-6aa2-4cb6-ae25-d4bc30890336\")) {\n",
       "                    Plotly.newPlot(\n",
       "                        '1fec7974-6aa2-4cb6-ae25-d4bc30890336',\n",
       "                        [{\"mode\": \"lines\", \"name\": \"lines\", \"type\": \"scatter\", \"x\": [0, 1, 2, 3, 4, 5, 6, 7, 8, 9, 10, 11, 12, 13, 14, 15, 16, 17, 18, 19, 20, 21, 22, 23, 24, 25, 26, 27, 28, 29, 30, 31, 32, 33, 34, 35, 36, 37, 38, 39, 40, 41, 42, 43, 44, 45, 46, 47, 48, 49, 50, 51, 52, 53, 54, 55, 56, 57, 58, 59, 60, 61, 62, 63, 64, 65, 66, 67, 68, 69, 70, 71, 72, 73, 74, 75, 76, 77, 78, 79, 80, 81, 82, 83, 84, 85, 86, 87, 88, 89, 90, 91, 92, 93, 94, 95, 96, 97, 98, 99, 100, 101, 102, 103, 104, 105, 106, 107, 108, 109, 110, 111, 112, 113, 114, 115, 116, 117, 118, 119, 120, 121, 122, 123, 124, 125, 126, 127, 128, 129, 130, 131, 132, 133, 134, 135, 136, 137, 138, 139, 140, 141, 142, 143, 144, 145, 146, 147, 148, 149, 150, 151, 152, 153, 154, 155, 156, 157, 158, 159, 160, 161, 162, 163, 164, 165, 166, 167, 168, 169, 170, 171, 172, 173, 174, 175, 176, 177, 178, 179, 180, 181, 182, 183, 184, 185, 186, 187, 188, 189, 190, 191, 192, 193, 194, 195, 196, 197, 198, 199, 200, 201, 202, 203, 204, 205, 206, 207, 208, 209, 210, 211, 212, 213, 214, 215, 216, 217, 218, 219, 220, 221, 222, 223, 224, 225, 226, 227, 228, 229, 230, 231, 232, 233, 234, 235, 236, 237, 238, 239, 240, 241, 242, 243, 244, 245, 246, 247, 248, 249, 250, 251, 252, 253, 254, 255, 256, 257, 258, 259, 260, 261, 262, 263, 264, 265, 266, 267, 268, 269, 270, 271, 272, 273, 274, 275, 276, 277, 278, 279, 280, 281, 282, 283, 284, 285, 286, 287, 288, 289, 290, 291, 292, 293, 294, 295, 296, 297, 298, 299, 300, 301, 302, 303, 304, 305, 306, 307, 308, 309, 310, 311, 312, 313, 314, 315, 316, 317, 318, 319, 320, 321, 322, 323, 324, 325, 326, 327, 328, 329, 330, 331, 332, 333, 334, 335, 336, 337, 338, 339, 340, 341, 342, 343, 344, 345, 346, 347, 348, 349, 350, 351, 352, 353, 354, 355, 356, 357, 358, 359, 360, 361, 362, 363, 364, 365, 366, 367, 368, 369, 370, 371, 372, 373, 374, 375, 376, 377, 378, 379, 380, 381, 382, 383, 384, 385, 386, 387, 388, 389, 390, 391, 392, 393, 394, 395, 396, 397, 398, 399, 400, 401, 402, 403, 404, 405, 406, 407, 408, 409, 410, 411, 412, 413, 414, 415, 416, 417, 418, 419, 420, 421, 422, 423, 424, 425, 426, 427, 428, 429, 430, 431, 432, 433, 434, 435, 436, 437, 438, 439, 440, 441, 442, 443, 444, 445, 446, 447, 448, 449, 450, 451, 452, 453, 454, 455, 456, 457, 458, 459, 460, 461, 462, 463, 464, 465, 466, 467, 468, 469, 470, 471, 472, 473, 474, 475, 476, 477, 478, 479, 480, 481, 482, 483, 484, 485, 486, 487, 488, 489, 490, 491, 492, 493, 494, 495, 496, 497, 498, 499, 500, 501, 502, 503, 504, 505, 506, 507, 508, 509, 510, 511, 512, 513, 514, 515, 516, 517, 518, 519, 520, 521, 522, 523, 524, 525, 526, 527, 528, 529, 530, 531, 532, 533, 534, 535, 536, 537, 538, 539, 540, 541, 542, 543, 544, 545, 546, 547, 548, 549, 550, 551, 552, 553, 554, 555, 556, 557, 558, 559, 560, 561, 562, 563, 564, 565, 566, 567, 568, 569, 570, 571, 572, 573, 574, 575, 576, 577, 578, 579, 580, 581, 582, 583, 584, 585, 586, 587, 588, 589, 590, 591, 592, 593, 594, 595, 596, 597, 598, 599, 600, 601, 602, 603, 604, 605, 606, 607, 608, 609, 610, 611, 612, 613, 614, 615, 616, 617, 618, 619, 620, 621, 622, 623, 624, 625, 626, 627, 628, 629, 630, 631, 632, 633, 634, 635, 636, 637, 638, 639, 640, 641, 642, 643, 644, 645, 646, 647, 648, 649, 650, 651, 652, 653, 654, 655, 656, 657, 658, 659, 660, 661, 662, 663, 664, 665, 666, 667, 668, 669, 670, 671, 672, 673, 674, 675, 676, 677, 678, 679, 680, 681, 682, 683, 684, 685, 686, 687, 688, 689, 690, 691, 692, 693, 694, 695, 696, 697, 698, 699, 700, 701, 702, 703, 704, 705, 706, 707, 708, 709, 710, 711, 712, 713, 714, 715, 716, 717, 718, 719, 720, 721, 722, 723, 724, 725, 726, 727, 728, 729, 730, 731, 732, 733, 734, 735, 736, 737, 738, 739, 740, 741, 742, 743, 744, 745, 746, 747, 748, 749, 750, 751, 752, 753, 754, 755, 756, 757, 758, 759, 760, 761, 762, 763, 764, 765, 766, 767, 768, 769, 770, 771, 772, 773, 774, 775, 776, 777, 778, 779, 780, 781, 782, 783, 784, 785, 786, 787, 788, 789, 790, 791, 792, 793, 794, 795, 796, 797, 798, 799], \"y\": [4.392230987548828, 4.204662799835205, 4.017190456390381, 3.8296098709106445, 3.6416893005371094, 3.453207015991211, 3.263899326324463, 3.0734853744506836, 2.8816938400268555, 2.688232898712158, 2.4927825927734375, 2.2950377464294434, 2.0946784019470215, 1.891364336013794, 1.6847679615020752, 1.4745008945465088, 1.2602217197418213, 1.0415360927581787, 0.8180023431777954, 0.589204728603363, 0.354693204164505, 0.11404626071453094, -0.1332041621208191, -0.38757389783859253, -0.6495519280433655, -0.919648289680481, -1.1983909606933594, -1.4863865375518799, -1.7842376232147217, -2.0925188064575195, -2.4118432998657227, -2.7428855895996094, -3.0862650871276855, -3.4426722526550293, -3.81276273727417, -4.197263717651367, -4.596843719482422, -5.012162685394287, -5.443816661834717, -5.892425060272217, -6.358469009399414, -6.842520713806152, -7.344883918762207, -7.86592435836792, -8.405735969543457, -8.964275360107422, -9.541509628295898, -10.136833190917969, -10.749605178833008, -11.378754615783691, -12.023139953613281, -12.681011199951172, -13.350455284118652, -14.028995513916016, -14.713846206665039, -15.401885032653809, -16.089763641357422, -16.773651123046875, -17.449668884277344, -18.113916397094727, -18.762723922729492, -19.39251136779785, -20.000438690185547, -20.584630966186523, -21.14413833618164, -21.678970336914062, -22.189950942993164, -22.67850112915039, -23.147050857543945, -23.598276138305664, -24.034793853759766, -24.458765029907227, -24.871904373168945, -25.275653839111328, -25.67056655883789, -26.056570053100586, -26.433591842651367, -26.800750732421875, -27.157062530517578, -27.501741409301758, -27.83434295654297, -28.15412712097168, -28.460481643676758, -28.753385543823242, -29.03308868408203, -29.300159454345703, -29.555171966552734, -29.798978805541992, -30.03253173828125, -30.256425857543945, -30.471389770507812, -30.67850112915039, -30.878467559814453, -31.071578979492188, -31.25836944580078, -31.439165115356445, -31.6142635345459, -31.783889770507812, -31.94814682006836, -32.10721206665039, -32.26122283935547, -32.41029357910156, -32.554744720458984, -32.69474411010742, -32.83052444458008, -32.96240997314453, -33.09076690673828, -33.216026306152344, -33.33834457397461, -33.457984924316406, -33.57515335083008, -33.690185546875, -33.803035736083984, -33.91387939453125, -34.022891998291016, -34.130104064941406, -34.235595703125, -34.339393615722656, -34.44140625, -34.541847229003906, -34.64060974121094, -34.73790740966797, -34.83386993408203, -34.92845153808594, -35.02172088623047, -35.11375427246094, -35.20460510253906, -35.29432678222656, -35.382850646972656, -35.4703254699707, -35.556861877441406, -35.64240264892578, -35.7269172668457, -35.81047821044922, -35.89309310913086, -35.97474670410156, -36.055503845214844, -36.1353759765625, -36.214447021484375, -36.29262924194336, -36.36992645263672, -36.4463996887207, -36.522117614746094, -36.597023010253906, -36.67118835449219, -36.744651794433594, -36.817359924316406, -36.88933563232422, -36.96063232421875, -37.031272888183594, -37.10133361816406, -37.17085266113281, -37.239810943603516, -37.308197021484375, -37.376102447509766, -37.44350814819336, -37.510459899902344, -37.576961517333984, -37.64307403564453, -37.7088737487793, -37.77428436279297, -37.83931350708008, -37.90407180786133, -37.968589782714844, -38.032875061035156, -38.09690856933594, -38.16071319580078, -38.22429656982422, -38.28765869140625, -38.350791931152344, -38.4137077331543, -38.47643280029297, -38.53894805908203, -38.60127258300781, -38.66341018676758, -38.7253532409668, -38.78717041015625, -38.8488883972168, -38.91056823730469, -38.9721794128418, -39.0336799621582, -39.09513854980469, -39.15654373168945, -39.2178840637207, -39.2791748046875, -39.34043884277344, -39.4017333984375, -39.46302795410156, -39.52434158325195, -39.585689544677734, -39.647064208984375, -39.70842742919922, -39.76983642578125, -39.831321716308594, -39.89282989501953, -39.95439529418945, -40.01603317260742, -40.07771682739258, -40.139442443847656, -40.20127487182617, -40.263160705566406, -40.32513427734375, -40.38719940185547, -40.44935607910156, -40.511592864990234, -40.573951721191406, -40.636436462402344, -40.69902420043945, -40.76179122924805, -40.82466125488281, -40.88771057128906, -40.950897216796875, -41.01427459716797, -41.077796936035156, -41.14152908325195, -41.205406188964844, -41.26947784423828, -41.333709716796875, -41.39811325073242, -41.462745666503906, -41.52757263183594, -41.59260559082031, -41.657779693603516, -41.72315979003906, -41.788795471191406, -41.85463333129883, -41.92070388793945, -41.98695755004883, -42.05348205566406, -42.12025451660156, -42.187191009521484, -42.254371643066406, -42.32181167602539, -42.38945007324219, -42.45735168457031, -42.525535583496094, -42.593971252441406, -42.66271209716797, -42.731773376464844, -42.80110168457031, -42.870689392089844, -42.940521240234375, -43.01062774658203, -43.08104705810547, -43.15174865722656, -43.22276306152344, -43.29405212402344, -43.365745544433594, -43.43779373168945, -43.51018524169922, -43.582855224609375, -43.655818939208984, -43.729156494140625, -43.80280685424805, -43.876853942871094, -43.95124053955078, -44.02606201171875, -44.101173400878906, -44.17674255371094, -44.252681732177734, -44.32901382446289, -44.405731201171875, -44.482749938964844, -44.560089111328125, -44.637779235839844, -44.71588897705078, -44.794437408447266, -44.87339782714844, -44.95277404785156, -45.03254699707031, -45.112762451171875, -45.193397521972656, -45.274452209472656, -45.35595703125, -45.43792724609375, -45.52033233642578, -45.603233337402344, -45.68657684326172, -45.77047348022461, -45.85481262207031, -45.93965530395508, -46.02495574951172, -46.11070251464844, -46.197044372558594, -46.28394317626953, -46.37139129638672, -46.459442138671875, -46.5478515625, -46.63677978515625, -46.726234436035156, -46.816139221191406, -46.9066276550293, -46.99751281738281, -47.08893585205078, -47.180938720703125, -47.2734375, -47.36643981933594, -47.459999084472656, -47.554100036621094, -47.64872741699219, -47.74400329589844, -47.83985900878906, -47.936302185058594, -48.033226013183594, -48.130714416503906, -48.22882843017578, -48.32752990722656, -48.42683792114258, -48.52669906616211, -48.62715530395508, -48.72816467285156, -48.82974624633789, -48.932193756103516, -49.03522491455078, -49.13892364501953, -49.24330139160156, -49.3482666015625, -49.4537353515625, -49.55987548828125, -49.66664505004883, -49.77400207519531, -49.88201904296875, -49.99073791503906, -50.09992218017578, -50.20982360839844, -50.32036209106445, -50.43159866333008, -50.54328155517578, -50.655784606933594, -50.76911163330078, -50.88310241699219, -50.99765396118164, -51.11282730102539, -51.228981018066406, -51.345947265625, -51.46352767944336, -51.58167266845703, -51.70078659057617, -51.82063293457031, -51.94116973876953, -52.06230163574219, -52.184242248535156, -52.30711364746094, -52.430545806884766, -52.55443572998047, -52.67970275878906, -52.80586624145508, -52.932647705078125, -53.059844970703125, -53.188072204589844, -53.317298889160156, -53.44645690917969, -53.576236724853516, -53.706546783447266, -53.837581634521484, -53.97003173828125, -54.10368347167969, -54.23860549926758, -54.373287200927734, -54.50877380371094, -54.64421463012695, -54.78034591674805, -54.91567611694336, -55.04912185668945, -55.17919921875, -55.31117248535156, -55.45285415649414, -55.60151672363281, -55.74286651611328, -55.87355041503906, -56.004905700683594, -56.14443588256836, -56.29096603393555, -56.4354248046875, -56.57249450683594, -56.70555114746094, -56.84015655517578, -56.98030090332031, -57.12554931640625, -57.273109436035156, -57.41748046875, -57.558555603027344, -57.697608947753906, -57.83350372314453, -57.96138381958008, -58.079811096191406, -58.2109260559082, -58.37000274658203, -58.54033279418945, -58.67743682861328, -58.791255950927734, -58.92088317871094, -59.070335388183594, -59.22965621948242, -59.367340087890625, -59.4861946105957, -59.613914489746094, -59.75422668457031, -59.90708923339844, -60.05567932128906, -60.18932342529297, -60.31420135498047, -60.43612289428711, -60.558311462402344, -60.68696594238281, -60.83901596069336, -60.99317169189453, -61.14012908935547, -61.272586822509766, -61.3913688659668, -61.503990173339844, -61.60851287841797, -61.72698974609375, -61.86752700805664, -62.04235076904297, -62.193626403808594, -62.30651092529297, -62.402225494384766, -62.50450897216797, -62.64472579956055, -62.795440673828125, -62.94739532470703, -63.07071304321289, -63.16987609863281, -63.27134323120117, -63.37729263305664, -63.51557922363281, -63.65798568725586, -63.800594329833984, -63.9290885925293, -64.04171752929688, -64.14193725585938, -64.22516632080078, -64.30956268310547, -64.38558959960938, -64.52322387695312, -64.69764709472656, -64.86156463623047, -64.94835662841797, -65.00982666015625, -65.10652160644531, -65.22479248046875, -65.38703155517578, -65.51434326171875, -65.60514831542969, -65.67240905761719, -65.75318145751953, -65.87296295166016, -65.99011993408203, -66.14593505859375, -66.25169372558594, -66.33596801757812, -66.41484069824219, -66.47859954833984, -66.5713882446289, -66.65452575683594, -66.80902099609375, -66.93553924560547, -67.05813598632812, -67.14964294433594, -67.22367858886719, -67.29031372070312, -67.32926940917969, -67.41253662109375, -67.4871826171875, -67.64196014404297, -67.7886962890625, -67.91156005859375, -67.98104095458984, -68.0173568725586, -68.07917785644531, -68.14653015136719, -68.27766418457031, -68.40180969238281, -68.52681732177734, -68.61249542236328, -68.66251373291016, -68.71294403076172, -68.75296783447266, -68.84295654296875, -68.93124389648438, -69.06101989746094, -69.18580627441406, -69.28889465332031, -69.35359191894531, -69.394775390625, -69.446044921875, -69.48873138427734, -69.54834747314453, -69.5843505859375, -69.74217224121094, -69.88772583007812, -69.9844970703125, -70.03910064697266, -70.09690856933594, -70.1550521850586, -70.17070770263672, -70.23838806152344, -70.32882690429688, -70.43873596191406, 118.99324035644531, 116.32926940917969, 112.72943115234375, 108.52284240722656, 102.89900970458984, 96.08953857421875, 90.0147705078125, 85.9142837524414, 83.64736938476562, 82.32896423339844, 81.2351303100586, 80.15899658203125, 79.0648422241211, 77.93709564208984, 76.77874755859375, 75.60237121582031, 74.421630859375, 73.24373626708984, 72.07195281982422, 70.91004943847656, 69.76270294189453, 68.63639831542969, 67.53421783447266, 66.45318603515625, 65.38575744628906, 64.32521057128906, 63.265625, 62.20359420776367, 61.1357307434082, 60.05857467651367, 58.97036361694336, 57.87226104736328, 56.76425552368164, 55.64659118652344, 54.51836395263672, 53.37822723388672, 52.225555419921875, 51.05870819091797, 49.8765869140625, 48.67897033691406, 47.46502685546875, 46.23322296142578, 44.9831428527832, 43.713768005371094, 42.424259185791016, 41.11522674560547, 39.787109375, 38.44007110595703, 37.07427978515625, 35.689483642578125, 34.28599548339844, 32.86478042602539, 31.42667007446289, 29.972368240356445, 28.50342559814453, 27.021677017211914, 25.529422760009766, 24.028892517089844, 22.52277946472168, 21.01310920715332, 19.50176429748535, 17.991071701049805, 16.483078002929688, 14.979669570922852, 13.48293685913086, 11.99366569519043, 10.513456344604492, 9.044036865234375, 7.5860724449157715, 6.141084671020508, 4.710362434387207, 3.294614315032959, 1.8948898315429688, 0.5121173858642578, -0.8531618118286133, -2.1999359130859375, -3.5272693634033203, -4.834328651428223, -6.121146202087402, -7.387651443481445, -8.633222579956055, -9.857948303222656, -11.062286376953125, -12.246013641357422, -13.409210205078125, -14.552265167236328, -15.675468444824219, -16.779451370239258, -17.864532470703125, -18.93132781982422, -19.980466842651367, -21.012548446655273, -22.02817153930664, -23.027517318725586, -24.011056900024414, -24.979618072509766, -25.933429718017578, -26.87279510498047, -27.798072814941406, -28.709869384765625, -29.608566284179688, -30.494792938232422, -31.368309020996094, -32.229583740234375, -33.07921600341797, -33.917564392089844, -34.744956970214844, -35.56148910522461, -36.36731719970703, -37.16264724731445, -37.94796371459961, -38.72323226928711, -39.48872756958008, -40.24465560913086, -40.9911003112793, -41.72825241088867, -42.45627975463867, -43.175392150878906, -43.8859748840332, -44.58821105957031, -45.2819938659668, -45.96742630004883, -46.64482879638672, -47.31435012817383, -47.97610092163086, -48.630401611328125, -49.27749252319336, -49.91749572753906, -50.55066680908203, -51.17725372314453, -51.79747772216797, -52.41156768798828, -53.0195426940918, -53.621585845947266, -54.21803283691406, -54.808895111083984, -55.394378662109375, -55.974853515625, -56.55039978027344, -57.121238708496094, -57.68744659423828, -58.248985290527344, -58.80601501464844, -59.35865020751953, -59.90691375732422, -60.450706481933594, -60.99021911621094, -61.52558898925781, -62.05683898925781, -62.58393859863281, -63.106964111328125, -63.62596130371094, -64.14091491699219, -64.65188598632812, -65.15885925292969, -65.66199493408203, -66.16114807128906, -66.65625, -67.14729309082031, -67.6341781616211, -68.11697387695312, -68.59562683105469, -69.07020568847656, -69.54071044921875, -70.007080078125, -70.46920013427734, -70.92715454101562, -71.38095092773438, -71.83062744140625, -72.27633666992188, -72.7178955078125, -73.15533447265625, -73.58860778808594, -74.017822265625, -74.44293975830078, -74.86412048339844, -75.2813720703125, -75.69479370117188, -76.10430908203125, -76.51000213623047, -76.9118881225586, -77.31011962890625, -77.70484161376953, -78.09598541259766, -78.48358917236328, -78.86780548095703, -79.24867248535156, -79.626220703125, -80.00053405761719, -80.37165069580078, -80.73973846435547, -81.10477447509766, -81.4669189453125, -81.82611846923828, -82.18241882324219, -82.53591918945312, -82.88666534423828, -83.23468017578125, -83.57998657226562, -83.9224853515625, -84.26228332519531, -84.599365234375, -84.93375396728516, -85.26541137695312, -85.59435272216797, -85.92053985595703, -86.24391174316406, -86.564453125, -86.88214111328125, -87.1969223022461, -87.50872802734375, -87.81749725341797, -88.12318420410156, -88.42573547363281, -88.72510528564453, -89.02116394042969, -89.31390380859375, -89.60325622558594, -89.8892822265625, -90.17178344726562, -90.45072174072266, -90.72604370117188, -90.99765014648438, -91.26557159423828, -91.52973937988281, -91.79011535644531, -92.0466537475586, -92.29936218261719, -92.54818725585938, -92.79310607910156, -93.03406524658203, -93.27110290527344, -93.50422668457031, -93.7333984375, -93.95866394042969, -94.17999267578125, -94.39743041992188, -94.61102294921875, -94.82073974609375, -95.0266342163086, -95.2287368774414, -95.42708587646484, -95.62174987792969, -95.812744140625, -96.00013732910156, -96.18401336669922, -96.36441040039062, -96.54137420654297, -96.71495056152344, -96.88519287109375, -97.05218505859375, -97.21595764160156, -97.37660217285156, -97.53416442871094, -97.68873596191406, -97.84034729003906, -97.98910522460938, -98.13507080078125, -98.27828979492188, -98.41883087158203, -98.5567626953125, -98.6921615600586, -98.82508087158203, -98.95562744140625, -99.08380126953125, -99.209716796875, -99.33340454101562, -99.4549560546875, -99.57441711425781, -99.69190979003906, -99.80746459960938, -99.92111206054688, -100.03294372558594, -100.14299011230469, -100.25132751464844, -100.35798645019531, -100.46305847167969, -100.5665283203125, -100.66851806640625, -100.76904296875, -100.86815643310547, -100.96589660644531, -101.06232452392578, -101.15748596191406, -101.25141143798828, -101.34413146972656, -101.43569946289062, -101.52616882324219, -101.6155776977539, -101.70391845703125, -101.791259765625, -101.87760925292969, -101.9630355834961, -102.04754638671875, -102.13116455078125, -102.21393585205078, -102.29586791992188, -102.37701416015625, -102.45736694335938, -102.53700256347656]}],\n",
       "                        {\"template\": {\"data\": {\"bar\": [{\"error_x\": {\"color\": \"#2a3f5f\"}, \"error_y\": {\"color\": \"#2a3f5f\"}, \"marker\": {\"line\": {\"color\": \"#E5ECF6\", \"width\": 0.5}}, \"type\": \"bar\"}], \"barpolar\": [{\"marker\": {\"line\": {\"color\": \"#E5ECF6\", \"width\": 0.5}}, \"type\": \"barpolar\"}], \"carpet\": [{\"aaxis\": {\"endlinecolor\": \"#2a3f5f\", \"gridcolor\": \"white\", \"linecolor\": \"white\", \"minorgridcolor\": \"white\", \"startlinecolor\": \"#2a3f5f\"}, \"baxis\": {\"endlinecolor\": \"#2a3f5f\", \"gridcolor\": \"white\", \"linecolor\": \"white\", \"minorgridcolor\": \"white\", \"startlinecolor\": \"#2a3f5f\"}, \"type\": \"carpet\"}], \"choropleth\": [{\"colorbar\": {\"outlinewidth\": 0, \"ticks\": \"\"}, \"type\": \"choropleth\"}], \"contour\": [{\"colorbar\": {\"outlinewidth\": 0, \"ticks\": \"\"}, \"colorscale\": [[0.0, \"#0d0887\"], [0.1111111111111111, \"#46039f\"], [0.2222222222222222, \"#7201a8\"], [0.3333333333333333, \"#9c179e\"], [0.4444444444444444, \"#bd3786\"], [0.5555555555555556, \"#d8576b\"], [0.6666666666666666, \"#ed7953\"], [0.7777777777777778, \"#fb9f3a\"], [0.8888888888888888, \"#fdca26\"], [1.0, \"#f0f921\"]], \"type\": \"contour\"}], \"contourcarpet\": [{\"colorbar\": {\"outlinewidth\": 0, \"ticks\": \"\"}, \"type\": \"contourcarpet\"}], \"heatmap\": [{\"colorbar\": {\"outlinewidth\": 0, \"ticks\": \"\"}, \"colorscale\": [[0.0, \"#0d0887\"], [0.1111111111111111, \"#46039f\"], [0.2222222222222222, \"#7201a8\"], [0.3333333333333333, \"#9c179e\"], [0.4444444444444444, \"#bd3786\"], [0.5555555555555556, \"#d8576b\"], [0.6666666666666666, \"#ed7953\"], [0.7777777777777778, \"#fb9f3a\"], [0.8888888888888888, \"#fdca26\"], [1.0, \"#f0f921\"]], \"type\": \"heatmap\"}], \"heatmapgl\": [{\"colorbar\": {\"outlinewidth\": 0, \"ticks\": \"\"}, \"colorscale\": [[0.0, \"#0d0887\"], [0.1111111111111111, \"#46039f\"], [0.2222222222222222, \"#7201a8\"], [0.3333333333333333, \"#9c179e\"], [0.4444444444444444, \"#bd3786\"], [0.5555555555555556, \"#d8576b\"], [0.6666666666666666, \"#ed7953\"], [0.7777777777777778, \"#fb9f3a\"], [0.8888888888888888, \"#fdca26\"], [1.0, \"#f0f921\"]], \"type\": \"heatmapgl\"}], \"histogram\": [{\"marker\": {\"colorbar\": {\"outlinewidth\": 0, \"ticks\": \"\"}}, \"type\": \"histogram\"}], \"histogram2d\": [{\"colorbar\": {\"outlinewidth\": 0, \"ticks\": \"\"}, \"colorscale\": [[0.0, \"#0d0887\"], [0.1111111111111111, \"#46039f\"], [0.2222222222222222, \"#7201a8\"], [0.3333333333333333, \"#9c179e\"], [0.4444444444444444, \"#bd3786\"], [0.5555555555555556, \"#d8576b\"], [0.6666666666666666, \"#ed7953\"], [0.7777777777777778, \"#fb9f3a\"], [0.8888888888888888, \"#fdca26\"], [1.0, \"#f0f921\"]], \"type\": \"histogram2d\"}], \"histogram2dcontour\": [{\"colorbar\": {\"outlinewidth\": 0, \"ticks\": \"\"}, \"colorscale\": [[0.0, \"#0d0887\"], [0.1111111111111111, \"#46039f\"], [0.2222222222222222, \"#7201a8\"], [0.3333333333333333, \"#9c179e\"], [0.4444444444444444, \"#bd3786\"], [0.5555555555555556, \"#d8576b\"], [0.6666666666666666, \"#ed7953\"], [0.7777777777777778, \"#fb9f3a\"], [0.8888888888888888, \"#fdca26\"], [1.0, \"#f0f921\"]], \"type\": \"histogram2dcontour\"}], \"mesh3d\": [{\"colorbar\": {\"outlinewidth\": 0, \"ticks\": \"\"}, \"type\": \"mesh3d\"}], \"parcoords\": [{\"line\": {\"colorbar\": {\"outlinewidth\": 0, \"ticks\": \"\"}}, \"type\": \"parcoords\"}], \"scatter\": [{\"marker\": {\"colorbar\": {\"outlinewidth\": 0, \"ticks\": \"\"}}, \"type\": \"scatter\"}], \"scatter3d\": [{\"line\": {\"colorbar\": {\"outlinewidth\": 0, \"ticks\": \"\"}}, \"marker\": {\"colorbar\": {\"outlinewidth\": 0, \"ticks\": \"\"}}, \"type\": \"scatter3d\"}], \"scattercarpet\": [{\"marker\": {\"colorbar\": {\"outlinewidth\": 0, \"ticks\": \"\"}}, \"type\": \"scattercarpet\"}], \"scattergeo\": [{\"marker\": {\"colorbar\": {\"outlinewidth\": 0, \"ticks\": \"\"}}, \"type\": \"scattergeo\"}], \"scattergl\": [{\"marker\": {\"colorbar\": {\"outlinewidth\": 0, \"ticks\": \"\"}}, \"type\": \"scattergl\"}], \"scattermapbox\": [{\"marker\": {\"colorbar\": {\"outlinewidth\": 0, \"ticks\": \"\"}}, \"type\": \"scattermapbox\"}], \"scatterpolar\": [{\"marker\": {\"colorbar\": {\"outlinewidth\": 0, \"ticks\": \"\"}}, \"type\": \"scatterpolar\"}], \"scatterpolargl\": [{\"marker\": {\"colorbar\": {\"outlinewidth\": 0, \"ticks\": \"\"}}, \"type\": \"scatterpolargl\"}], \"scatterternary\": [{\"marker\": {\"colorbar\": {\"outlinewidth\": 0, \"ticks\": \"\"}}, \"type\": \"scatterternary\"}], \"surface\": [{\"colorbar\": {\"outlinewidth\": 0, \"ticks\": \"\"}, \"colorscale\": [[0.0, \"#0d0887\"], [0.1111111111111111, \"#46039f\"], [0.2222222222222222, \"#7201a8\"], [0.3333333333333333, \"#9c179e\"], [0.4444444444444444, \"#bd3786\"], [0.5555555555555556, \"#d8576b\"], [0.6666666666666666, \"#ed7953\"], [0.7777777777777778, \"#fb9f3a\"], [0.8888888888888888, \"#fdca26\"], [1.0, \"#f0f921\"]], \"type\": \"surface\"}], \"table\": [{\"cells\": {\"fill\": {\"color\": \"#EBF0F8\"}, \"line\": {\"color\": \"white\"}}, \"header\": {\"fill\": {\"color\": \"#C8D4E3\"}, \"line\": {\"color\": \"white\"}}, \"type\": \"table\"}]}, \"layout\": {\"annotationdefaults\": {\"arrowcolor\": \"#2a3f5f\", \"arrowhead\": 0, \"arrowwidth\": 1}, \"colorscale\": {\"diverging\": [[0, \"#8e0152\"], [0.1, \"#c51b7d\"], [0.2, \"#de77ae\"], [0.3, \"#f1b6da\"], [0.4, \"#fde0ef\"], [0.5, \"#f7f7f7\"], [0.6, \"#e6f5d0\"], [0.7, \"#b8e186\"], [0.8, \"#7fbc41\"], [0.9, \"#4d9221\"], [1, \"#276419\"]], \"sequential\": [[0.0, \"#0d0887\"], [0.1111111111111111, \"#46039f\"], [0.2222222222222222, \"#7201a8\"], [0.3333333333333333, \"#9c179e\"], [0.4444444444444444, \"#bd3786\"], [0.5555555555555556, \"#d8576b\"], [0.6666666666666666, \"#ed7953\"], [0.7777777777777778, \"#fb9f3a\"], [0.8888888888888888, \"#fdca26\"], [1.0, \"#f0f921\"]], \"sequentialminus\": [[0.0, \"#0d0887\"], [0.1111111111111111, \"#46039f\"], [0.2222222222222222, \"#7201a8\"], [0.3333333333333333, \"#9c179e\"], [0.4444444444444444, \"#bd3786\"], [0.5555555555555556, \"#d8576b\"], [0.6666666666666666, \"#ed7953\"], [0.7777777777777778, \"#fb9f3a\"], [0.8888888888888888, \"#fdca26\"], [1.0, \"#f0f921\"]]}, \"colorway\": [\"#636efa\", \"#EF553B\", \"#00cc96\", \"#ab63fa\", \"#FFA15A\", \"#19d3f3\", \"#FF6692\", \"#B6E880\", \"#FF97FF\", \"#FECB52\"], \"font\": {\"color\": \"#2a3f5f\"}, \"geo\": {\"bgcolor\": \"white\", \"lakecolor\": \"white\", \"landcolor\": \"#E5ECF6\", \"showlakes\": true, \"showland\": true, \"subunitcolor\": \"white\"}, \"hoverlabel\": {\"align\": \"left\"}, \"hovermode\": \"closest\", \"mapbox\": {\"style\": \"light\"}, \"paper_bgcolor\": \"white\", \"plot_bgcolor\": \"#E5ECF6\", \"polar\": {\"angularaxis\": {\"gridcolor\": \"white\", \"linecolor\": \"white\", \"ticks\": \"\"}, \"bgcolor\": \"#E5ECF6\", \"radialaxis\": {\"gridcolor\": \"white\", \"linecolor\": \"white\", \"ticks\": \"\"}}, \"scene\": {\"xaxis\": {\"backgroundcolor\": \"#E5ECF6\", \"gridcolor\": \"white\", \"gridwidth\": 2, \"linecolor\": \"white\", \"showbackground\": true, \"ticks\": \"\", \"zerolinecolor\": \"white\"}, \"yaxis\": {\"backgroundcolor\": \"#E5ECF6\", \"gridcolor\": \"white\", \"gridwidth\": 2, \"linecolor\": \"white\", \"showbackground\": true, \"ticks\": \"\", \"zerolinecolor\": \"white\"}, \"zaxis\": {\"backgroundcolor\": \"#E5ECF6\", \"gridcolor\": \"white\", \"gridwidth\": 2, \"linecolor\": \"white\", \"showbackground\": true, \"ticks\": \"\", \"zerolinecolor\": \"white\"}}, \"shapedefaults\": {\"line\": {\"color\": \"#2a3f5f\"}}, \"ternary\": {\"aaxis\": {\"gridcolor\": \"white\", \"linecolor\": \"white\", \"ticks\": \"\"}, \"baxis\": {\"gridcolor\": \"white\", \"linecolor\": \"white\", \"ticks\": \"\"}, \"bgcolor\": \"#E5ECF6\", \"caxis\": {\"gridcolor\": \"white\", \"linecolor\": \"white\", \"ticks\": \"\"}}, \"title\": {\"x\": 0.05}, \"xaxis\": {\"automargin\": true, \"gridcolor\": \"white\", \"linecolor\": \"white\", \"ticks\": \"\", \"zerolinecolor\": \"white\", \"zerolinewidth\": 2}, \"yaxis\": {\"automargin\": true, \"gridcolor\": \"white\", \"linecolor\": \"white\", \"ticks\": \"\", \"zerolinecolor\": \"white\", \"zerolinewidth\": 2}}}, \"xaxis\": {\"title\": {\"text\": \"Iteration #\"}}, \"yaxis\": {\"title\": {\"text\": \"Loss\"}}},\n",
       "                        {\"responsive\": true}\n",
       "                    ).then(function(){\n",
       "                            \n",
       "var gd = document.getElementById('1fec7974-6aa2-4cb6-ae25-d4bc30890336');\n",
       "var x = new MutationObserver(function (mutations, observer) {{\n",
       "        var display = window.getComputedStyle(gd).display;\n",
       "        if (!display || display === 'none') {{\n",
       "            console.log([gd, 'removed!']);\n",
       "            Plotly.purge(gd);\n",
       "            observer.disconnect();\n",
       "        }}\n",
       "}});\n",
       "\n",
       "// Listen for the removal of the full notebook cells\n",
       "var notebookContainer = gd.closest('#notebook-container');\n",
       "if (notebookContainer) {{\n",
       "    x.observe(notebookContainer, {childList: true});\n",
       "}}\n",
       "\n",
       "// Listen for the clearing of the current output cell\n",
       "var outputEl = gd.closest('.output');\n",
       "if (outputEl) {{\n",
       "    x.observe(outputEl, {childList: true});\n",
       "}}\n",
       "\n",
       "                        })\n",
       "                };\n",
       "                });\n",
       "            </script>\n",
       "        </div>"
      ]
     },
     "metadata": {},
     "output_type": "display_data"
    }
   ],
   "source": [
    "fig = go.Figure() # plotly reference: https://plot.ly/python/line-charts/\n",
    "fig.add_trace(go.Scatter(x=np.arange(len(losses)), y=losses,\n",
    "                    mode='lines',\n",
    "                    name='lines'))\n",
    "# Edit the layout\n",
    "fig.update_layout(yaxis_title='Loss',\n",
    "                   xaxis_title='Iteration #')"
   ]
  },
  {
   "cell_type": "code",
   "execution_count": null,
   "metadata": {},
   "outputs": [],
   "source": []
  }
 ],
 "metadata": {
  "@webio": {
   "lastCommId": null,
   "lastKernelId": null
  },
  "kernelspec": {
   "display_name": "Python 3",
   "language": "python",
   "name": "python3"
  },
  "language_info": {
   "codemirror_mode": {
    "name": "ipython",
    "version": 3
   },
   "file_extension": ".py",
   "mimetype": "text/x-python",
   "name": "python",
   "nbconvert_exporter": "python",
   "pygments_lexer": "ipython3",
   "version": "3.7.4"
  }
 },
 "nbformat": 4,
 "nbformat_minor": 2
}
